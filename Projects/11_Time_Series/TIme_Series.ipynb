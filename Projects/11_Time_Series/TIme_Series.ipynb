{
 "cells": [
  {
   "cell_type": "markdown",
   "metadata": {
    "toc": true
   },
   "source": [
    "<h1>Содержание<span class=\"tocSkip\"></span></h1>\n",
    "<div class=\"toc\"><ul class=\"toc-item\"><li><span><a href=\"#Подготовка\" data-toc-modified-id=\"Подготовка-1\"><span class=\"toc-item-num\">1&nbsp;&nbsp;</span>Подготовка</a></span></li><li><span><a href=\"#Анализ\" data-toc-modified-id=\"Анализ-2\"><span class=\"toc-item-num\">2&nbsp;&nbsp;</span>Анализ</a></span></li><li><span><a href=\"#Обучение\" data-toc-modified-id=\"Обучение-3\"><span class=\"toc-item-num\">3&nbsp;&nbsp;</span>Обучение</a></span><ul class=\"toc-item\"><li><span><a href=\"#Dummy-Regressor\" data-toc-modified-id=\"Dummy-Regressor-3.1\"><span class=\"toc-item-num\">3.1&nbsp;&nbsp;</span>Dummy Regressor</a></span></li><li><span><a href=\"#Linear-Regression\" data-toc-modified-id=\"Linear-Regression-3.2\"><span class=\"toc-item-num\">3.2&nbsp;&nbsp;</span>Linear Regression</a></span></li><li><span><a href=\"#Decision-Tree-/-Random-Forest\" data-toc-modified-id=\"Decision-Tree-/-Random-Forest-3.3\"><span class=\"toc-item-num\">3.3&nbsp;&nbsp;</span>Decision Tree / Random Forest</a></span><ul class=\"toc-item\"><li><span><a href=\"#Decision-Tree\" data-toc-modified-id=\"Decision-Tree-3.3.1\"><span class=\"toc-item-num\">3.3.1&nbsp;&nbsp;</span>Decision Tree</a></span></li><li><span><a href=\"#Random-Forest\" data-toc-modified-id=\"Random-Forest-3.3.2\"><span class=\"toc-item-num\">3.3.2&nbsp;&nbsp;</span>Random Forest</a></span></li></ul></li></ul></li><li><span><a href=\"#Тестирование\" data-toc-modified-id=\"Тестирование-4\"><span class=\"toc-item-num\">4&nbsp;&nbsp;</span>Тестирование</a></span></li><li><span><a href=\"#Чек-лист-проверки\" data-toc-modified-id=\"Чек-лист-проверки-5\"><span class=\"toc-item-num\">5&nbsp;&nbsp;</span>Чек-лист проверки</a></span></li></ul></div>"
   ]
  },
  {
   "cell_type": "markdown",
   "metadata": {},
   "source": [
    "#  Прогнозирование заказов такси"
   ]
  },
  {
   "cell_type": "markdown",
   "metadata": {},
   "source": [
    "Компания «Чётенькое такси» собрала исторические данные о заказах такси в аэропортах. Чтобы привлекать больше водителей в период пиковой нагрузки, нужно спрогнозировать количество заказов такси на следующий час. Постройте модель для такого предсказания.\n",
    "\n",
    "Значение метрики *RMSE* на тестовой выборке должно быть не больше 48.\n",
    "\n",
    "Вам нужно:\n",
    "\n",
    "1. Загрузить данные и выполнить их ресемплирование по одному часу.\n",
    "2. Проанализировать данные.\n",
    "3. Обучить разные модели с различными гиперпараметрами. Сделать тестовую выборку размером 10% от исходных данных.\n",
    "4. Проверить данные на тестовой выборке и сделать выводы.\n",
    "\n",
    "\n",
    "Данные лежат в файле `taxi.csv`. Количество заказов находится в столбце `num_orders` (от англ. *number of orders*, «число заказов»)."
   ]
  },
  {
   "cell_type": "markdown",
   "metadata": {},
   "source": [
    "**ТЗ**\n",
    "\n",
    "Компания «Чётенькое такси» собрала исторические данные о заказах такси в аэропортах. Чтобы привлекать больше водителей в период пиковой нагрузки, нужно спрогнозировать количество заказов такси на следующий час. Постройте модель для такого предсказания.\n",
    "\n",
    "- Значение метрики RMSE на тестовой выборке должно быть не больше 48.\n",
    "\n",
    "**Инструкция по выполнению проекта**\n",
    "\n",
    "- Загрузите данные и выполните их ресемплирование по одному часу.\n",
    "- Проанализируйте данные.\n",
    "- Обучите разные модели с различными гиперпараметрами. Сделайте тестовую выборку размером 10% от исходных данных.\n",
    "- Проверьте данные на тестовой выборке и сделайте выводы.\n"
   ]
  },
  {
   "cell_type": "markdown",
   "metadata": {},
   "source": [
    "## Подготовка"
   ]
  },
  {
   "cell_type": "code",
   "execution_count": 1,
   "metadata": {},
   "outputs": [],
   "source": [
    "import pandas as pd\n",
    "import numpy as np\n",
    "import math\n",
    "\n",
    "import matplotlib.pyplot as plt\n",
    "%matplotlib inline\n",
    "import seaborn as sns\n",
    "sns.set_style('whitegrid')\n",
    "import warnings\n",
    "warnings.filterwarnings('ignore')\n",
    "\n",
    "from sklearn.model_selection import train_test_split, cross_val_score, TimeSeriesSplit\n",
    "from sklearn.dummy import DummyRegressor\n",
    "from sklearn.linear_model import LinearRegression\n",
    "from sklearn.tree import DecisionTreeRegressor\n",
    "from sklearn.ensemble import RandomForestRegressor\n",
    "from sklearn.preprocessing import StandardScaler\n",
    "from sklearn.metrics import mean_squared_error, make_scorer\n",
    "\n",
    "\n",
    "from statsmodels.tsa.seasonal import seasonal_decompose"
   ]
  },
  {
   "cell_type": "code",
   "execution_count": 2,
   "metadata": {},
   "outputs": [
    {
     "data": {
      "text/html": [
       "<div>\n",
       "<style scoped>\n",
       "    .dataframe tbody tr th:only-of-type {\n",
       "        vertical-align: middle;\n",
       "    }\n",
       "\n",
       "    .dataframe tbody tr th {\n",
       "        vertical-align: top;\n",
       "    }\n",
       "\n",
       "    .dataframe thead th {\n",
       "        text-align: right;\n",
       "    }\n",
       "</style>\n",
       "<table border=\"1\" class=\"dataframe\">\n",
       "  <thead>\n",
       "    <tr style=\"text-align: right;\">\n",
       "      <th></th>\n",
       "      <th>datetime</th>\n",
       "      <th>num_orders</th>\n",
       "    </tr>\n",
       "  </thead>\n",
       "  <tbody>\n",
       "    <tr>\n",
       "      <th>0</th>\n",
       "      <td>2018-03-01 00:00:00</td>\n",
       "      <td>9</td>\n",
       "    </tr>\n",
       "    <tr>\n",
       "      <th>1</th>\n",
       "      <td>2018-03-01 00:10:00</td>\n",
       "      <td>14</td>\n",
       "    </tr>\n",
       "    <tr>\n",
       "      <th>2</th>\n",
       "      <td>2018-03-01 00:20:00</td>\n",
       "      <td>28</td>\n",
       "    </tr>\n",
       "    <tr>\n",
       "      <th>3</th>\n",
       "      <td>2018-03-01 00:30:00</td>\n",
       "      <td>20</td>\n",
       "    </tr>\n",
       "    <tr>\n",
       "      <th>4</th>\n",
       "      <td>2018-03-01 00:40:00</td>\n",
       "      <td>32</td>\n",
       "    </tr>\n",
       "  </tbody>\n",
       "</table>\n",
       "</div>"
      ],
      "text/plain": [
       "              datetime  num_orders\n",
       "0  2018-03-01 00:00:00           9\n",
       "1  2018-03-01 00:10:00          14\n",
       "2  2018-03-01 00:20:00          28\n",
       "3  2018-03-01 00:30:00          20\n",
       "4  2018-03-01 00:40:00          32"
      ]
     },
     "execution_count": 2,
     "metadata": {},
     "output_type": "execute_result"
    }
   ],
   "source": [
    "df = pd.read_csv('/datasets/taxi.csv', encoding='UTF-8')\n",
    "df.head()"
   ]
  },
  {
   "cell_type": "code",
   "execution_count": 3,
   "metadata": {},
   "outputs": [
    {
     "name": "stdout",
     "output_type": "stream",
     "text": [
      "<class 'pandas.core.frame.DataFrame'>\n",
      "RangeIndex: 26496 entries, 0 to 26495\n",
      "Data columns (total 2 columns):\n",
      " #   Column      Non-Null Count  Dtype \n",
      "---  ------      --------------  ----- \n",
      " 0   datetime    26496 non-null  object\n",
      " 1   num_orders  26496 non-null  int64 \n",
      "dtypes: int64(1), object(1)\n",
      "memory usage: 414.1+ KB\n"
     ]
    }
   ],
   "source": [
    "df.info()"
   ]
  },
  {
   "cell_type": "code",
   "execution_count": 4,
   "metadata": {},
   "outputs": [
    {
     "name": "stdout",
     "output_type": "stream",
     "text": [
      "<class 'pandas.core.frame.DataFrame'>\n",
      "RangeIndex: 26496 entries, 0 to 26495\n",
      "Data columns (total 2 columns):\n",
      " #   Column      Non-Null Count  Dtype         \n",
      "---  ------      --------------  -----         \n",
      " 0   datetime    26496 non-null  datetime64[ns]\n",
      " 1   num_orders  26496 non-null  int64         \n",
      "dtypes: datetime64[ns](1), int64(1)\n",
      "memory usage: 414.1 KB\n"
     ]
    }
   ],
   "source": [
    "df['datetime'] = df['datetime'].astype('datetime64')\n",
    "df.info()"
   ]
  },
  {
   "cell_type": "code",
   "execution_count": 5,
   "metadata": {},
   "outputs": [],
   "source": [
    "df = df.set_index('datetime')"
   ]
  },
  {
   "cell_type": "code",
   "execution_count": 6,
   "metadata": {},
   "outputs": [
    {
     "data": {
      "text/html": [
       "<div>\n",
       "<style scoped>\n",
       "    .dataframe tbody tr th:only-of-type {\n",
       "        vertical-align: middle;\n",
       "    }\n",
       "\n",
       "    .dataframe tbody tr th {\n",
       "        vertical-align: top;\n",
       "    }\n",
       "\n",
       "    .dataframe thead th {\n",
       "        text-align: right;\n",
       "    }\n",
       "</style>\n",
       "<table border=\"1\" class=\"dataframe\">\n",
       "  <thead>\n",
       "    <tr style=\"text-align: right;\">\n",
       "      <th></th>\n",
       "      <th>num_orders</th>\n",
       "    </tr>\n",
       "    <tr>\n",
       "      <th>datetime</th>\n",
       "      <th></th>\n",
       "    </tr>\n",
       "  </thead>\n",
       "  <tbody>\n",
       "    <tr>\n",
       "      <th>2018-03-01 00:00:00</th>\n",
       "      <td>9</td>\n",
       "    </tr>\n",
       "    <tr>\n",
       "      <th>2018-03-01 00:10:00</th>\n",
       "      <td>14</td>\n",
       "    </tr>\n",
       "    <tr>\n",
       "      <th>2018-03-01 00:20:00</th>\n",
       "      <td>28</td>\n",
       "    </tr>\n",
       "    <tr>\n",
       "      <th>2018-03-01 00:30:00</th>\n",
       "      <td>20</td>\n",
       "    </tr>\n",
       "    <tr>\n",
       "      <th>2018-03-01 00:40:00</th>\n",
       "      <td>32</td>\n",
       "    </tr>\n",
       "  </tbody>\n",
       "</table>\n",
       "</div>"
      ],
      "text/plain": [
       "                     num_orders\n",
       "datetime                       \n",
       "2018-03-01 00:00:00           9\n",
       "2018-03-01 00:10:00          14\n",
       "2018-03-01 00:20:00          28\n",
       "2018-03-01 00:30:00          20\n",
       "2018-03-01 00:40:00          32"
      ]
     },
     "execution_count": 6,
     "metadata": {},
     "output_type": "execute_result"
    }
   ],
   "source": [
    "df.head()"
   ]
  },
  {
   "cell_type": "code",
   "execution_count": 7,
   "metadata": {},
   "outputs": [
    {
     "data": {
      "text/plain": [
       "num_orders    0\n",
       "dtype: int64"
      ]
     },
     "execution_count": 7,
     "metadata": {},
     "output_type": "execute_result"
    }
   ],
   "source": [
    "df.isna().sum()"
   ]
  },
  {
   "cell_type": "code",
   "execution_count": 8,
   "metadata": {},
   "outputs": [
    {
     "data": {
      "text/html": [
       "<div>\n",
       "<style scoped>\n",
       "    .dataframe tbody tr th:only-of-type {\n",
       "        vertical-align: middle;\n",
       "    }\n",
       "\n",
       "    .dataframe tbody tr th {\n",
       "        vertical-align: top;\n",
       "    }\n",
       "\n",
       "    .dataframe thead th {\n",
       "        text-align: right;\n",
       "    }\n",
       "</style>\n",
       "<table border=\"1\" class=\"dataframe\">\n",
       "  <thead>\n",
       "    <tr style=\"text-align: right;\">\n",
       "      <th></th>\n",
       "      <th>count</th>\n",
       "      <th>mean</th>\n",
       "      <th>std</th>\n",
       "      <th>min</th>\n",
       "      <th>25%</th>\n",
       "      <th>50%</th>\n",
       "      <th>75%</th>\n",
       "      <th>max</th>\n",
       "    </tr>\n",
       "  </thead>\n",
       "  <tbody>\n",
       "    <tr>\n",
       "      <th>num_orders</th>\n",
       "      <td>26496.0</td>\n",
       "      <td>14.070463</td>\n",
       "      <td>9.21133</td>\n",
       "      <td>0.0</td>\n",
       "      <td>8.0</td>\n",
       "      <td>13.0</td>\n",
       "      <td>19.0</td>\n",
       "      <td>119.0</td>\n",
       "    </tr>\n",
       "  </tbody>\n",
       "</table>\n",
       "</div>"
      ],
      "text/plain": [
       "              count       mean      std  min  25%   50%   75%    max\n",
       "num_orders  26496.0  14.070463  9.21133  0.0  8.0  13.0  19.0  119.0"
      ]
     },
     "execution_count": 8,
     "metadata": {},
     "output_type": "execute_result"
    }
   ],
   "source": [
    "df.describe().T"
   ]
  },
  {
   "cell_type": "code",
   "execution_count": 9,
   "metadata": {},
   "outputs": [
    {
     "data": {
      "text/plain": [
       "(26496, 1)"
      ]
     },
     "execution_count": 9,
     "metadata": {},
     "output_type": "execute_result"
    }
   ],
   "source": [
    "df.shape"
   ]
  },
  {
   "cell_type": "code",
   "execution_count": 10,
   "metadata": {},
   "outputs": [
    {
     "data": {
      "text/plain": [
       "num_orders   2018-03-01 05:20:00\n",
       "dtype: datetime64[ns]"
      ]
     },
     "execution_count": 10,
     "metadata": {},
     "output_type": "execute_result"
    }
   ],
   "source": [
    "df.idxmin()"
   ]
  },
  {
   "cell_type": "code",
   "execution_count": 11,
   "metadata": {},
   "outputs": [
    {
     "data": {
      "text/plain": [
       "num_orders   2018-08-13 02:20:00\n",
       "dtype: datetime64[ns]"
      ]
     },
     "execution_count": 11,
     "metadata": {},
     "output_type": "execute_result"
    }
   ],
   "source": [
    "df.idxmax()"
   ]
  },
  {
   "cell_type": "code",
   "execution_count": 12,
   "metadata": {},
   "outputs": [
    {
     "data": {
      "text/plain": [
       "True"
      ]
     },
     "execution_count": 12,
     "metadata": {},
     "output_type": "execute_result"
    }
   ],
   "source": [
    "df.index.is_monotonic"
   ]
  },
  {
   "cell_type": "markdown",
   "metadata": {},
   "source": [
    "**Вывод**\n",
    "\n",
    "- Время было приведено к типу datetime64 и перемешено в индексы\n",
    "- Пропусков нет\n",
    "- Данные представлены за полгода\n",
    "- Временные промежутки равны"
   ]
  },
  {
   "cell_type": "markdown",
   "metadata": {},
   "source": [
    "## Анализ"
   ]
  },
  {
   "cell_type": "code",
   "execution_count": 13,
   "metadata": {},
   "outputs": [
    {
     "data": {
      "image/png": "[encoded data removed]",
      "text/plain": [
       "<Figure size 720x360 with 1 Axes>"
      ]
     },
     "metadata": {},
     "output_type": "display_data"
    },
    {
     "data": {
      "image/png": "[encoded data removed]",
      "text/plain": [
       "<Figure size 720x360 with 1 Axes>"
      ]
     },
     "metadata": {},
     "output_type": "display_data"
    }
   ],
   "source": [
    "plt.figure(figsize=(10, 5))\n",
    "sns.histplot(df['num_orders'], kde=True)\n",
    "plt.title('Распределение заказов')\n",
    "plt.xlabel('Распределение')\n",
    "plt.ylabel('Количество')\n",
    "plt.show()\n",
    "\n",
    "plt.figure(figsize=(10, 5))\n",
    "sns.boxplot(df['num_orders'])\n",
    "plt.title('Boxplot заказов')\n",
    "plt.xlabel('Распределение')\n",
    "plt.ylabel('Количество')\n",
    "plt.show()"
   ]
  },
  {
   "cell_type": "markdown",
   "metadata": {},
   "source": [
    "**Вывод**\n",
    "\n",
    "- Временной отрезок в данных равен 10 минутам\n",
    "- В большей степени, в промежуток времени бывает 14-20 заказов"
   ]
  },
  {
   "cell_type": "code",
   "execution_count": 14,
   "metadata": {},
   "outputs": [
    {
     "data": {
      "image/png": "[encoded data removed]",
      "text/plain": [
       "<Figure size 1080x360 with 1 Axes>"
      ]
     },
     "metadata": {},
     "output_type": "display_data"
    }
   ],
   "source": [
    "sns.set(rc={'figure.figsize':(15,5)})\n",
    "df.plot()\n",
    "plt.title('Временной ряд')\n",
    "plt.xlabel('Время')\n",
    "plt.ylabel('Показатель')\n",
    "plt.show()"
   ]
  },
  {
   "cell_type": "markdown",
   "metadata": {},
   "source": [
    "График нечитаем, поэтому сделаем ресемплирование с шагом в 1 день, основной датасет до часа"
   ]
  },
  {
   "cell_type": "code",
   "execution_count": 15,
   "metadata": {},
   "outputs": [
    {
     "data": {
      "image/png": "[encoded data removed]",
      "text/plain": [
       "<Figure size 1080x360 with 1 Axes>"
      ]
     },
     "metadata": {},
     "output_type": "display_data"
    }
   ],
   "source": [
    "df = df.resample('1H').sum()\n",
    "data = df.resample('1D').sum()\n",
    "\n",
    "sns.set(rc={'figure.figsize':(15,5)})\n",
    "data.plot()\n",
    "plt.title('Временной ряд')\n",
    "plt.xlabel('Время')\n",
    "plt.ylabel('Показатель')\n",
    "plt.show()"
   ]
  },
  {
   "cell_type": "code",
   "execution_count": 16,
   "metadata": {},
   "outputs": [
    {
     "data": {
      "image/png": "[encoded data removed]",
      "text/plain": [
       "<Figure size 1080x360 with 1 Axes>"
      ]
     },
     "metadata": {},
     "output_type": "display_data"
    }
   ],
   "source": [
    "data['rolling_mean'] = data.rolling(10).mean()\n",
    "\n",
    "sns.set(rc={'figure.figsize':(15,5)})\n",
    "data.plot()\n",
    "plt.title('Временной ряд со скользящим средним')\n",
    "plt.xlabel('Время')\n",
    "plt.ylabel('Показатель')\n",
    "plt.show()"
   ]
  },
  {
   "cell_type": "code",
   "execution_count": 17,
   "metadata": {},
   "outputs": [],
   "source": [
    "decomposed_df = seasonal_decompose(df)"
   ]
  },
  {
   "cell_type": "markdown",
   "metadata": {},
   "source": [
    "Проверим тренд и сезонность"
   ]
  },
  {
   "cell_type": "code",
   "execution_count": 18,
   "metadata": {},
   "outputs": [
    {
     "data": {
      "image/png": "[encoded data removed]",
      "text/plain": [
       "<Figure size 1080x360 with 1 Axes>"
      ]
     },
     "metadata": {},
     "output_type": "display_data"
    }
   ],
   "source": [
    "sns.set(rc={'figure.figsize':(15,5)})\n",
    "decomposed_df.trend.plot()\n",
    "plt.title('Тренд')\n",
    "plt.xlabel('Время')\n",
    "plt.ylabel('Показатель')\n",
    "plt.show()"
   ]
  },
  {
   "cell_type": "code",
   "execution_count": 19,
   "metadata": {},
   "outputs": [
    {
     "data": {
      "image/png": "[encoded data removed]",
      "text/plain": [
       "<Figure size 1080x360 with 1 Axes>"
      ]
     },
     "metadata": {},
     "output_type": "display_data"
    }
   ],
   "source": [
    "sns.set(rc={'figure.figsize':(15,5)})\n",
    "decomposed_df.seasonal.plot()\n",
    "plt.title('Сезонность')\n",
    "plt.xlabel('Время')\n",
    "plt.ylabel('Показатель')\n",
    "plt.show()"
   ]
  },
  {
   "cell_type": "code",
   "execution_count": 20,
   "metadata": {},
   "outputs": [
    {
     "data": {
      "image/png": "[encoded data removed]",
      "text/plain": [
       "<Figure size 1080x360 with 1 Axes>"
      ]
     },
     "metadata": {},
     "output_type": "display_data"
    }
   ],
   "source": [
    "# Обрежем часть графика, чтобы он был читаемым\n",
    "sns.set(rc={'figure.figsize':(15,5)})\n",
    "decomposed_df.seasonal.head(300).plot()\n",
    "plt.title('Сезонность')\n",
    "plt.xlabel('Время')\n",
    "plt.ylabel('Показатель')\n",
    "plt.show()"
   ]
  },
  {
   "cell_type": "code",
   "execution_count": 21,
   "metadata": {},
   "outputs": [
    {
     "data": {
      "image/png": "[encoded data removed]",
      "text/plain": [
       "<Figure size 1080x360 with 1 Axes>"
      ]
     },
     "metadata": {},
     "output_type": "display_data"
    }
   ],
   "source": [
    "sns.set(rc={'figure.figsize':(15,5)})\n",
    "decomposed_df.resid.head(300).plot()\n",
    "plt.title('Шумы')\n",
    "plt.xlabel('Время')\n",
    "plt.ylabel('Показатель')\n",
    "plt.show()"
   ]
  },
  {
   "cell_type": "markdown",
   "metadata": {},
   "source": [
    "**Вывод**\n",
    "\n",
    "- Имеется тренд на рост числа заказов в течение полугода\n",
    "- Сезонность представляет собой суточный интервал с падением числа заказов ночью, ростом с утра, в обед и пиком роста к вечеру"
   ]
  },
  {
   "cell_type": "markdown",
   "metadata": {},
   "source": [
    "## Обучение"
   ]
  },
  {
   "cell_type": "code",
   "execution_count": 22,
   "metadata": {},
   "outputs": [],
   "source": [
    "def make_features(df, lag_size):\n",
    "    df['month'] = df.index.month\n",
    "    df['dayofweek'] = df.index.dayofweek\n",
    "    df['day'] = df.index.day\n",
    "    df['hour'] = df.index.hour\n",
    "    \n",
    "    for i in range (1, lag_size + 1):\n",
    "        df[f'lag_{i}'] = df['num_orders'].shift(i)\n",
    "        \n",
    "    df['rolling_mean'] = df['num_orders'].shift().rolling(1).mean()\n",
    "    df.dropna(inplace=True)\n",
    "    \n",
    "    return df"
   ]
  },
  {
   "cell_type": "code",
   "execution_count": 23,
   "metadata": {},
   "outputs": [
    {
     "data": {
      "text/html": [
       "<div>\n",
       "<style scoped>\n",
       "    .dataframe tbody tr th:only-of-type {\n",
       "        vertical-align: middle;\n",
       "    }\n",
       "\n",
       "    .dataframe tbody tr th {\n",
       "        vertical-align: top;\n",
       "    }\n",
       "\n",
       "    .dataframe thead th {\n",
       "        text-align: right;\n",
       "    }\n",
       "</style>\n",
       "<table border=\"1\" class=\"dataframe\">\n",
       "  <thead>\n",
       "    <tr style=\"text-align: right;\">\n",
       "      <th></th>\n",
       "      <th>num_orders</th>\n",
       "      <th>month</th>\n",
       "      <th>dayofweek</th>\n",
       "      <th>day</th>\n",
       "      <th>hour</th>\n",
       "      <th>lag_1</th>\n",
       "      <th>lag_2</th>\n",
       "      <th>lag_3</th>\n",
       "      <th>lag_4</th>\n",
       "      <th>rolling_mean</th>\n",
       "    </tr>\n",
       "    <tr>\n",
       "      <th>datetime</th>\n",
       "      <th></th>\n",
       "      <th></th>\n",
       "      <th></th>\n",
       "      <th></th>\n",
       "      <th></th>\n",
       "      <th></th>\n",
       "      <th></th>\n",
       "      <th></th>\n",
       "      <th></th>\n",
       "      <th></th>\n",
       "    </tr>\n",
       "  </thead>\n",
       "  <tbody>\n",
       "    <tr>\n",
       "      <th>2018-03-01 04:00:00</th>\n",
       "      <td>43</td>\n",
       "      <td>3</td>\n",
       "      <td>3</td>\n",
       "      <td>1</td>\n",
       "      <td>4</td>\n",
       "      <td>66.0</td>\n",
       "      <td>71.0</td>\n",
       "      <td>85.0</td>\n",
       "      <td>124.0</td>\n",
       "      <td>66.0</td>\n",
       "    </tr>\n",
       "    <tr>\n",
       "      <th>2018-03-01 05:00:00</th>\n",
       "      <td>6</td>\n",
       "      <td>3</td>\n",
       "      <td>3</td>\n",
       "      <td>1</td>\n",
       "      <td>5</td>\n",
       "      <td>43.0</td>\n",
       "      <td>66.0</td>\n",
       "      <td>71.0</td>\n",
       "      <td>85.0</td>\n",
       "      <td>43.0</td>\n",
       "    </tr>\n",
       "    <tr>\n",
       "      <th>2018-03-01 06:00:00</th>\n",
       "      <td>12</td>\n",
       "      <td>3</td>\n",
       "      <td>3</td>\n",
       "      <td>1</td>\n",
       "      <td>6</td>\n",
       "      <td>6.0</td>\n",
       "      <td>43.0</td>\n",
       "      <td>66.0</td>\n",
       "      <td>71.0</td>\n",
       "      <td>6.0</td>\n",
       "    </tr>\n",
       "    <tr>\n",
       "      <th>2018-03-01 07:00:00</th>\n",
       "      <td>15</td>\n",
       "      <td>3</td>\n",
       "      <td>3</td>\n",
       "      <td>1</td>\n",
       "      <td>7</td>\n",
       "      <td>12.0</td>\n",
       "      <td>6.0</td>\n",
       "      <td>43.0</td>\n",
       "      <td>66.0</td>\n",
       "      <td>12.0</td>\n",
       "    </tr>\n",
       "    <tr>\n",
       "      <th>2018-03-01 08:00:00</th>\n",
       "      <td>34</td>\n",
       "      <td>3</td>\n",
       "      <td>3</td>\n",
       "      <td>1</td>\n",
       "      <td>8</td>\n",
       "      <td>15.0</td>\n",
       "      <td>12.0</td>\n",
       "      <td>6.0</td>\n",
       "      <td>43.0</td>\n",
       "      <td>15.0</td>\n",
       "    </tr>\n",
       "  </tbody>\n",
       "</table>\n",
       "</div>"
      ],
      "text/plain": [
       "                     num_orders  month  dayofweek  day  hour  lag_1  lag_2  \\\n",
       "datetime                                                                     \n",
       "2018-03-01 04:00:00          43      3          3    1     4   66.0   71.0   \n",
       "2018-03-01 05:00:00           6      3          3    1     5   43.0   66.0   \n",
       "2018-03-01 06:00:00          12      3          3    1     6    6.0   43.0   \n",
       "2018-03-01 07:00:00          15      3          3    1     7   12.0    6.0   \n",
       "2018-03-01 08:00:00          34      3          3    1     8   15.0   12.0   \n",
       "\n",
       "                     lag_3  lag_4  rolling_mean  \n",
       "datetime                                         \n",
       "2018-03-01 04:00:00   85.0  124.0          66.0  \n",
       "2018-03-01 05:00:00   71.0   85.0          43.0  \n",
       "2018-03-01 06:00:00   66.0   71.0           6.0  \n",
       "2018-03-01 07:00:00   43.0   66.0          12.0  \n",
       "2018-03-01 08:00:00    6.0   43.0          15.0  "
      ]
     },
     "execution_count": 23,
     "metadata": {},
     "output_type": "execute_result"
    }
   ],
   "source": [
    "df_final = make_features(df, 4)\n",
    "df_final.head()"
   ]
  },
  {
   "cell_type": "code",
   "execution_count": 24,
   "metadata": {},
   "outputs": [
    {
     "data": {
      "text/plain": [
       "(4412, 10)"
      ]
     },
     "execution_count": 24,
     "metadata": {},
     "output_type": "execute_result"
    }
   ],
   "source": [
    "df_final.shape"
   ]
  },
  {
   "cell_type": "code",
   "execution_count": 25,
   "metadata": {},
   "outputs": [
    {
     "name": "stdout",
     "output_type": "stream",
     "text": [
      "features: (4412, 9)\n",
      "traget: (4412,)\n"
     ]
    }
   ],
   "source": [
    "features = df_final.drop('num_orders', axis=1)\n",
    "target = df_final['num_orders']\n",
    "\n",
    "print(f'features: {features.shape}\\n'\n",
    "      f'traget: {target.shape}')"
   ]
  },
  {
   "cell_type": "code",
   "execution_count": 26,
   "metadata": {},
   "outputs": [
    {
     "name": "stdout",
     "output_type": "stream",
     "text": [
      "X_train: (3970, 9)\n",
      "X_test: (442, 9)\n",
      "y_train: (3970,)\n",
      "y_test: (442,)\n"
     ]
    }
   ],
   "source": [
    "X_train, X_test, y_train, y_test = train_test_split(features, \n",
    "                                                    target, \n",
    "                                                    random_state=42, \n",
    "                                                    test_size=0.1,\n",
    "                                                    shuffle=False)\n",
    "\n",
    "print(f'X_train: {X_train.shape}\\n'\n",
    "      f'X_test: {X_test.shape}\\n'\n",
    "      f'y_train: {y_train.shape}\\n'\n",
    "      f'y_test: {y_test.shape}')"
   ]
  },
  {
   "cell_type": "code",
   "execution_count": 27,
   "metadata": {},
   "outputs": [],
   "source": [
    "scaler = StandardScaler()\n",
    "scaler.fit(X_train)\n",
    "\n",
    "X_train_scaled = scaler.transform(X_train)\n",
    "X_test_scaled = scaler.transform(X_test)"
   ]
  },
  {
   "cell_type": "code",
   "execution_count": 28,
   "metadata": {},
   "outputs": [],
   "source": [
    "mse = make_scorer(mean_squared_error)"
   ]
  },
  {
   "cell_type": "code",
   "execution_count": 29,
   "metadata": {},
   "outputs": [],
   "source": [
    "tscv = TimeSeriesSplit(n_splits=5)"
   ]
  },
  {
   "cell_type": "markdown",
   "metadata": {},
   "source": [
    "### Dummy Regressor"
   ]
  },
  {
   "cell_type": "code",
   "execution_count": 30,
   "metadata": {},
   "outputs": [
    {
     "name": "stdout",
     "output_type": "stream",
     "text": [
      "Dummy RMSE: 41.38887799201684\n"
     ]
    }
   ],
   "source": [
    "dummy_model = DummyRegressor(strategy='mean')\n",
    "dummy_model.fit(X_train_scaled, y_train)\n",
    "dummy_cv = cross_val_score(dummy_model, \n",
    "                           X_train_scaled, \n",
    "                           y_train, \n",
    "                           cv=tscv,\n",
    "                           scoring=mse)\n",
    "dummy_mse = np.mean(dummy_cv)\n",
    "print(f'Dummy RMSE: {math.sqrt(dummy_mse)}')"
   ]
  },
  {
   "cell_type": "markdown",
   "metadata": {},
   "source": [
    "### Linear Regression"
   ]
  },
  {
   "cell_type": "code",
   "execution_count": 31,
   "metadata": {},
   "outputs": [
    {
     "name": "stdout",
     "output_type": "stream",
     "text": [
      "DuREgression RMSE: 31.746784321856516\n"
     ]
    }
   ],
   "source": [
    "reg_model = LinearRegression()\n",
    "reg_model.fit(X_train_scaled, y_train)\n",
    "reg_cv = cross_val_score(reg_model, \n",
    "                         X_train_scaled, \n",
    "                         y_train, \n",
    "                         cv=tscv,\n",
    "                         scoring=mse)\n",
    "reg_mse = np.mean(reg_cv)\n",
    "print(f'DuREgression RMSE: {math.sqrt(reg_mse)}')"
   ]
  },
  {
   "cell_type": "markdown",
   "metadata": {},
   "source": [
    "### Decision Tree / Random Forest\n",
    "\n",
    "Для поиска оптимальных моделей инициализируем класс OptimalModels\n",
    "\n",
    "Принципы ООП оптимизируют процесс поиска лучших моделей:\n",
    "\n",
    "- **Абстракция.** Класс абстрагирует концепцию оптимальных моделей от конкретной реализации. Он предоставляет абстрактный интерфейс для работы с моделями\n",
    "- **Полиморфизм.** В коде используются методы decision_tree и random_forest, которые предоставляют одинаковый интерфейс для работы с разными моделями машинного обучения\n",
    "- **Инкапсуляция.** Атрибуты X_train и y_train и методы decision_tree и random_forest объединены в одном объекте. Данные и методы для работы с ними объединены внутри класса без доступа клиента (внешнего кода)\n",
    "\n",
    "**!!! Поиск параметров леса модет быть долгим, потому что обучается 64 модели**"
   ]
  },
  {
   "cell_type": "code",
   "execution_count": 32,
   "metadata": {},
   "outputs": [],
   "source": [
    "class OptimalModels:\n",
    "    def __init__(self, X_train, y_train):\n",
    "        self.X_train = X_train\n",
    "        self.y_train = y_train\n",
    "\n",
    "    def decision_tree(self):\n",
    "        res = pd.DataFrame(columns=['depth', 'mse', 'rmse'])\n",
    "        for i in range(1, 10):\n",
    "            model = DecisionTreeRegressor(max_depth=i, random_state=42)\n",
    "            model.fit(self.X_train, self.y_train)\n",
    "            cross_validation = cross_val_score(model,\n",
    "                                               self.X_train,\n",
    "                                               self.y_train,\n",
    "                                               cv=tscv,\n",
    "                                               scoring=mse)  \n",
    "            score = np.mean(cross_validation)\n",
    "            res = res.append({\n",
    "                'depth': i,\n",
    "                'mse': score,\n",
    "                'rmse': math.sqrt(score)\n",
    "            }, ignore_index=True)\n",
    "        return res.sort_values(by='rmse', ascending=True).head(1)\n",
    "\n",
    "    def random_forest(self):\n",
    "        res = pd.DataFrame(columns=['depth', 'estimators', 'mse', 'rmse'])\n",
    "        for i in range(2, 10):\n",
    "            for j in range(2, 10):\n",
    "                model = RandomForestRegressor(max_depth=i, n_estimators=j, random_state=42)\n",
    "                model.fit(self.X_train, self.y_train)\n",
    "                cross_validation = cross_val_score(model,\n",
    "                                                   self.X_train,\n",
    "                                                   self.y_train,\n",
    "                                                   cv=tscv,\n",
    "                                                   scoring=mse)  \n",
    "                score = np.mean(cross_validation)\n",
    "                res = res.append({\n",
    "                    'depth': i,\n",
    "                    'estimators': j,\n",
    "                    'mse': score,\n",
    "                    'rmse': math.sqrt(score)\n",
    "                }, ignore_index=True)\n",
    "        return res.sort_values(by='rmse', ascending=True).head(1)"
   ]
  },
  {
   "cell_type": "code",
   "execution_count": 33,
   "metadata": {},
   "outputs": [],
   "source": [
    "optimal_model = OptimalModels(X_train, y_train)"
   ]
  },
  {
   "cell_type": "markdown",
   "metadata": {},
   "source": [
    "#### Decision Tree"
   ]
  },
  {
   "cell_type": "code",
   "execution_count": 34,
   "metadata": {},
   "outputs": [
    {
     "name": "stdout",
     "output_type": "stream",
     "text": [
      "CPU times: user 493 ms, sys: 489 µs, total: 494 ms\n",
      "Wall time: 492 ms\n"
     ]
    },
    {
     "data": {
      "text/html": [
       "<div>\n",
       "<style scoped>\n",
       "    .dataframe tbody tr th:only-of-type {\n",
       "        vertical-align: middle;\n",
       "    }\n",
       "\n",
       "    .dataframe tbody tr th {\n",
       "        vertical-align: top;\n",
       "    }\n",
       "\n",
       "    .dataframe thead th {\n",
       "        text-align: right;\n",
       "    }\n",
       "</style>\n",
       "<table border=\"1\" class=\"dataframe\">\n",
       "  <thead>\n",
       "    <tr style=\"text-align: right;\">\n",
       "      <th></th>\n",
       "      <th>depth</th>\n",
       "      <th>mse</th>\n",
       "      <th>rmse</th>\n",
       "    </tr>\n",
       "  </thead>\n",
       "  <tbody>\n",
       "    <tr>\n",
       "      <th>6</th>\n",
       "      <td>7.0</td>\n",
       "      <td>863.092242</td>\n",
       "      <td>29.378432</td>\n",
       "    </tr>\n",
       "  </tbody>\n",
       "</table>\n",
       "</div>"
      ],
      "text/plain": [
       "   depth         mse       rmse\n",
       "6    7.0  863.092242  29.378432"
      ]
     },
     "execution_count": 34,
     "metadata": {},
     "output_type": "execute_result"
    }
   ],
   "source": [
    "%%time\n",
    "tree_mse_res = optimal_model.decision_tree()\n",
    "tree_mse = tree_mse_res['mse']\n",
    "tree_mse_res"
   ]
  },
  {
   "cell_type": "markdown",
   "metadata": {},
   "source": [
    "#### Random Forest"
   ]
  },
  {
   "cell_type": "code",
   "execution_count": 35,
   "metadata": {},
   "outputs": [
    {
     "name": "stdout",
     "output_type": "stream",
     "text": [
      "CPU times: user 10.8 s, sys: 44.6 ms, total: 10.9 s\n",
      "Wall time: 10.9 s\n"
     ]
    },
    {
     "data": {
      "text/html": [
       "<div>\n",
       "<style scoped>\n",
       "    .dataframe tbody tr th:only-of-type {\n",
       "        vertical-align: middle;\n",
       "    }\n",
       "\n",
       "    .dataframe tbody tr th {\n",
       "        vertical-align: top;\n",
       "    }\n",
       "\n",
       "    .dataframe thead th {\n",
       "        text-align: right;\n",
       "    }\n",
       "</style>\n",
       "<table border=\"1\" class=\"dataframe\">\n",
       "  <thead>\n",
       "    <tr style=\"text-align: right;\">\n",
       "      <th></th>\n",
       "      <th>depth</th>\n",
       "      <th>estimators</th>\n",
       "      <th>mse</th>\n",
       "      <th>rmse</th>\n",
       "    </tr>\n",
       "  </thead>\n",
       "  <tbody>\n",
       "    <tr>\n",
       "      <th>63</th>\n",
       "      <td>9.0</td>\n",
       "      <td>9.0</td>\n",
       "      <td>729.609885</td>\n",
       "      <td>27.011292</td>\n",
       "    </tr>\n",
       "  </tbody>\n",
       "</table>\n",
       "</div>"
      ],
      "text/plain": [
       "    depth  estimators         mse       rmse\n",
       "63    9.0         9.0  729.609885  27.011292"
      ]
     },
     "execution_count": 35,
     "metadata": {},
     "output_type": "execute_result"
    }
   ],
   "source": [
    "%%time\n",
    "forest_mse_res = optimal_model.random_forest()\n",
    "forest_mse = forest_mse_res['mse']\n",
    "forest_mse_res"
   ]
  },
  {
   "cell_type": "markdown",
   "metadata": {},
   "source": [
    "**Вывод**\n",
    "\n",
    "Все 3 модели показали хороший результат, однако случайный лес показал наилучшую метрику. Тем не менее, большие модели более склонны к переобучению, поэтому проверим на тестовой выборке все модели"
   ]
  },
  {
   "cell_type": "markdown",
   "metadata": {},
   "source": [
    "## Тестирование"
   ]
  },
  {
   "cell_type": "code",
   "execution_count": 36,
   "metadata": {},
   "outputs": [],
   "source": [
    "def graph(y_test, y_pred, index=y_test.index):\n",
    "    dataframe = pd.DataFrame({\n",
    "        'y_pred': y_pred,\n",
    "        'y_test': y_test\n",
    "    }, index=index)\n",
    "    return dataframe.plot()"
   ]
  },
  {
   "cell_type": "code",
   "execution_count": 37,
   "metadata": {},
   "outputs": [
    {
     "name": "stdout",
     "output_type": "stream",
     "text": [
      "Reg RMSE: 31.746784321856516\n",
      "Reg test RMSE: 52.574506853736935\n"
     ]
    }
   ],
   "source": [
    "model_reg_test = LinearRegression()\n",
    "model_reg_test.fit(X_train_scaled, y_train)\n",
    "y_pred_reg = model_reg_test.predict(X_test_scaled)\n",
    "mse_reg_test = mean_squared_error(y_test, y_pred_reg)\n",
    "\n",
    "print(f'Reg RMSE: {math.sqrt(reg_mse)}\\n'\n",
    "      f'Reg test RMSE: {math.sqrt(mse_reg_test)}')"
   ]
  },
  {
   "cell_type": "code",
   "execution_count": 38,
   "metadata": {},
   "outputs": [
    {
     "data": {
      "text/plain": [
       "<AxesSubplot:xlabel='datetime'>"
      ]
     },
     "execution_count": 38,
     "metadata": {},
     "output_type": "execute_result"
    },
    {
     "data": {
      "image/png": "[encoded data removed]",
      "text/plain": [
       "<Figure size 1080x360 with 1 Axes>"
      ]
     },
     "metadata": {},
     "output_type": "display_data"
    }
   ],
   "source": [
    "graph(y_test, y_pred_reg)"
   ]
  },
  {
   "cell_type": "code",
   "execution_count": 39,
   "metadata": {},
   "outputs": [
    {
     "name": "stdout",
     "output_type": "stream",
     "text": [
      "Tree RMSE: 29.37843157247296\n",
      "Tree test RMSE: 53.77665799766755\n"
     ]
    }
   ],
   "source": [
    "model_tree_test = DecisionTreeRegressor(max_depth=7,\n",
    "                                        random_state=42)\n",
    "model_tree_test.fit(X_train, y_train)\n",
    "y_pred_tree = model_tree_test.predict(X_test)\n",
    "mse_tree_test = mean_squared_error(y_test, y_pred_tree)\n",
    "\n",
    "print(f'Tree RMSE: {math.sqrt(tree_mse)}\\n'\n",
    "      f'Tree test RMSE: {math.sqrt(mse_tree_test)}')"
   ]
  },
  {
   "cell_type": "code",
   "execution_count": 40,
   "metadata": {},
   "outputs": [
    {
     "data": {
      "text/plain": [
       "<AxesSubplot:xlabel='datetime'>"
      ]
     },
     "execution_count": 40,
     "metadata": {},
     "output_type": "execute_result"
    },
    {
     "data": {
      "image/png": "[encoded data removed]",
      "text/plain": [
       "<Figure size 1080x360 with 1 Axes>"
      ]
     },
     "metadata": {},
     "output_type": "display_data"
    }
   ],
   "source": [
    "graph(y_test, y_pred_tree)"
   ]
  },
  {
   "cell_type": "code",
   "execution_count": 41,
   "metadata": {},
   "outputs": [
    {
     "name": "stdout",
     "output_type": "stream",
     "text": [
      "Forest RMSE: 27.01129181002643\n",
      "Forest test RMSE: 46.93455945025308\n"
     ]
    }
   ],
   "source": [
    "model_forest_test = RandomForestRegressor(max_depth=90,\n",
    "                                          n_estimators=90,\n",
    "                                          random_state=42,\n",
    "                                          min_samples_split=2, \n",
    "                                          min_samples_leaf=1,)\n",
    "model_forest_test.fit(X_train, y_train)\n",
    "y_forest_pred = model_forest_test.predict(X_test)\n",
    "mse_forest_test = mean_squared_error(y_test, y_forest_pred)\n",
    "\n",
    "print(f'Forest RMSE: {math.sqrt(forest_mse)}\\n'\n",
    "      f'Forest test RMSE: {math.sqrt(mse_forest_test)}')"
   ]
  },
  {
   "cell_type": "markdown",
   "metadata": {},
   "source": [
    "**У модели были увеличены параметры для улучшения качества. Хоть модель и склонна к небольшому переобучению, оно контролируемо и находится в пределах искомой метрики (меньше 48)**"
   ]
  },
  {
   "cell_type": "code",
   "execution_count": 42,
   "metadata": {},
   "outputs": [
    {
     "data": {
      "text/plain": [
       "<AxesSubplot:xlabel='datetime'>"
      ]
     },
     "execution_count": 42,
     "metadata": {},
     "output_type": "execute_result"
    },
    {
     "data": {
      "image/png": "[encoded data removed]",
      "text/plain": [
       "<Figure size 1080x360 with 1 Axes>"
      ]
     },
     "metadata": {},
     "output_type": "display_data"
    }
   ],
   "source": [
    "graph(y_test, y_forest_pred)"
   ]
  },
  {
   "cell_type": "markdown",
   "metadata": {},
   "source": [
    "**Общий вывод**\n",
    "\n",
    "- Были получены и проанализированы данные о заказах такси за 2 и 3 квартал 2018 года\n",
    "- Временные данные имели интервал в 10 минут и были ресемплированы до часа\n",
    "- Были определены сезонность и тренд\n",
    "\n",
    "\n",
    "    - Имеется тренд на рост числа заказов в течение полугода\n",
    "    - Сезонность представляет собой суточный интервал с падением числа заказов ночью, ростом с утра, в обед и пиком роста к вечеру\n",
    "    \n",
    "    \n",
    "- В данные были добавлены признаки о месяце, дне, часе заказа\n",
    "- Полученный датасет был разделён на выборки для обучения моделей в соотношении 9:1\n",
    "- Перед обучением моделей была построена константная модель для определения максимума метрики, выше которого модели не будут иметь смысла\n",
    "- Для обучения были взяты следующие модели:\n",
    "\n",
    "\n",
    "    - Линейная регрессия\n",
    "    - Дерево решений\n",
    "    - Случайный лес\n",
    "    \n",
    "    \n",
    "- Для моделей были подобраны оптимальные гиперпараметры\n",
    "- Все модели дали приемлемый результат, поэтому все модели были также проверены на тестовой выборке на переобучаемость\n",
    "- Самой оптимальной моделью оказался случайный лес. Ввиду своего размера лес склонен к переобучению, однако, переобучение в пределах допустимой выборки"
   ]
  },
  {
   "cell_type": "markdown",
   "metadata": {},
   "source": [
    "## Чек-лист проверки"
   ]
  },
  {
   "cell_type": "markdown",
   "metadata": {},
   "source": [
    "- [x]  Jupyter Notebook открыт\n",
    "- [x]  Весь код выполняется без ошибок\n",
    "- [x]  Ячейки с кодом расположены в порядке исполнения\n",
    "- [x]  Данные загружены и подготовлены\n",
    "- [x]  Данные проанализированы\n",
    "- [x]  Модель обучена, гиперпараметры подобраны\n",
    "- [x]  Качество моделей проверено, выводы сделаны\n",
    "- [x]  Значение *RMSE* на тестовой выборке не больше 48"
   ]
  },
  {
   "cell_type": "code",
   "execution_count": null,
   "metadata": {},
   "outputs": [],
   "source": []
  }
 ],
 "metadata": {
  "ExecuteTimeLog": [
   {
    "duration": 1896,
    "start_time": "2023-10-03T06:11:14.910Z"
   },
   {
    "duration": 51,
    "start_time": "2023-10-03T06:11:24.707Z"
   },
   {
    "duration": 191,
    "start_time": "2023-10-03T06:12:05.817Z"
   },
   {
    "duration": 13,
    "start_time": "2023-10-03T06:12:31.770Z"
   },
   {
    "duration": 10,
    "start_time": "2023-10-03T06:12:57.211Z"
   },
   {
    "duration": 10,
    "start_time": "2023-10-03T06:13:01.860Z"
   },
   {
    "duration": 10,
    "start_time": "2023-10-03T06:13:10.132Z"
   },
   {
    "duration": 3,
    "start_time": "2023-10-03T06:13:29.484Z"
   },
   {
    "duration": 8,
    "start_time": "2023-10-03T06:13:33.860Z"
   },
   {
    "duration": 6,
    "start_time": "2023-10-03T06:14:01.962Z"
   },
   {
    "duration": 14,
    "start_time": "2023-10-03T06:14:11.233Z"
   },
   {
    "duration": 23,
    "start_time": "2023-10-03T06:14:16.094Z"
   },
   {
    "duration": 4,
    "start_time": "2023-10-03T06:14:24.253Z"
   },
   {
    "duration": 6,
    "start_time": "2023-10-03T06:16:32.079Z"
   },
   {
    "duration": 6,
    "start_time": "2023-10-03T06:16:40.932Z"
   },
   {
    "duration": 460,
    "start_time": "2023-10-03T06:18:41.901Z"
   },
   {
    "duration": 767,
    "start_time": "2023-10-03T06:19:12.129Z"
   },
   {
    "duration": 783,
    "start_time": "2023-10-03T06:20:41.232Z"
   },
   {
    "duration": 14,
    "start_time": "2023-10-03T06:24:08.648Z"
   },
   {
    "duration": 4,
    "start_time": "2023-10-03T06:24:12.191Z"
   },
   {
    "duration": 955,
    "start_time": "2023-10-03T06:24:59.409Z"
   },
   {
    "duration": 863,
    "start_time": "2023-10-03T06:25:22.532Z"
   },
   {
    "duration": 892,
    "start_time": "2023-10-03T06:26:23.904Z"
   },
   {
    "duration": 947,
    "start_time": "2023-10-03T06:26:35.099Z"
   },
   {
    "duration": 863,
    "start_time": "2023-10-03T06:26:40.652Z"
   },
   {
    "duration": 845,
    "start_time": "2023-10-03T06:26:43.294Z"
   },
   {
    "duration": 26099,
    "start_time": "2023-10-03T06:28:17.523Z"
   },
   {
    "duration": 281,
    "start_time": "2023-10-03T06:28:45.849Z"
   },
   {
    "duration": 277,
    "start_time": "2023-10-03T06:29:38.369Z"
   },
   {
    "duration": 932,
    "start_time": "2023-10-03T06:30:37.162Z"
   },
   {
    "duration": 829,
    "start_time": "2023-10-03T06:31:00.309Z"
   },
   {
    "duration": 877,
    "start_time": "2023-10-03T06:31:04.069Z"
   },
   {
    "duration": 961,
    "start_time": "2023-10-03T06:32:18.644Z"
   },
   {
    "duration": 1154,
    "start_time": "2023-10-03T06:33:06.077Z"
   },
   {
    "duration": 1712,
    "start_time": "2023-10-03T06:33:12.599Z"
   },
   {
    "duration": 50,
    "start_time": "2023-10-03T06:33:14.314Z"
   },
   {
    "duration": 14,
    "start_time": "2023-10-03T06:33:14.365Z"
   },
   {
    "duration": 35,
    "start_time": "2023-10-03T06:33:14.380Z"
   },
   {
    "duration": 7,
    "start_time": "2023-10-03T06:33:14.419Z"
   },
   {
    "duration": 22,
    "start_time": "2023-10-03T06:33:14.429Z"
   },
   {
    "duration": 33,
    "start_time": "2023-10-03T06:33:14.453Z"
   },
   {
    "duration": 27,
    "start_time": "2023-10-03T06:33:14.488Z"
   },
   {
    "duration": 5,
    "start_time": "2023-10-03T06:33:14.518Z"
   },
   {
    "duration": 19,
    "start_time": "2023-10-03T06:33:14.525Z"
   },
   {
    "duration": 32,
    "start_time": "2023-10-03T06:33:14.546Z"
   },
   {
    "duration": 25,
    "start_time": "2023-10-03T06:33:14.580Z"
   },
   {
    "duration": 997,
    "start_time": "2023-10-03T06:33:14.607Z"
   },
   {
    "duration": 902,
    "start_time": "2023-10-03T06:33:15.607Z"
   },
   {
    "duration": 300,
    "start_time": "2023-10-03T06:33:16.511Z"
   },
   {
    "duration": 1992,
    "start_time": "2023-10-03T06:36:45.332Z"
   },
   {
    "duration": 21,
    "start_time": "2023-10-03T06:36:53.085Z"
   },
   {
    "duration": 17,
    "start_time": "2023-10-03T06:36:59.400Z"
   },
   {
    "duration": 963,
    "start_time": "2023-10-03T06:37:10.351Z"
   },
   {
    "duration": 896,
    "start_time": "2023-10-03T06:37:23.773Z"
   },
   {
    "duration": 909,
    "start_time": "2023-10-03T06:37:28.022Z"
   },
   {
    "duration": 10,
    "start_time": "2023-10-03T06:38:06.033Z"
   },
   {
    "duration": 1519,
    "start_time": "2023-10-03T06:38:15.059Z"
   },
   {
    "duration": 50,
    "start_time": "2023-10-03T06:38:16.580Z"
   },
   {
    "duration": 14,
    "start_time": "2023-10-03T06:38:16.632Z"
   },
   {
    "duration": 31,
    "start_time": "2023-10-03T06:38:16.647Z"
   },
   {
    "duration": 9,
    "start_time": "2023-10-03T06:38:16.680Z"
   },
   {
    "duration": 162,
    "start_time": "2023-10-03T06:38:16.690Z"
   },
   {
    "duration": 0,
    "start_time": "2023-10-03T06:38:16.854Z"
   },
   {
    "duration": 0,
    "start_time": "2023-10-03T06:38:16.856Z"
   },
   {
    "duration": 0,
    "start_time": "2023-10-03T06:38:16.857Z"
   },
   {
    "duration": 0,
    "start_time": "2023-10-03T06:38:16.859Z"
   },
   {
    "duration": 0,
    "start_time": "2023-10-03T06:38:16.860Z"
   },
   {
    "duration": 0,
    "start_time": "2023-10-03T06:38:16.862Z"
   },
   {
    "duration": 0,
    "start_time": "2023-10-03T06:38:16.863Z"
   },
   {
    "duration": 0,
    "start_time": "2023-10-03T06:38:16.865Z"
   },
   {
    "duration": 0,
    "start_time": "2023-10-03T06:38:16.866Z"
   },
   {
    "duration": 1615,
    "start_time": "2023-10-03T06:38:33.823Z"
   },
   {
    "duration": 50,
    "start_time": "2023-10-03T06:38:35.440Z"
   },
   {
    "duration": 13,
    "start_time": "2023-10-03T06:38:35.491Z"
   },
   {
    "duration": 21,
    "start_time": "2023-10-03T06:38:35.506Z"
   },
   {
    "duration": 20,
    "start_time": "2023-10-03T06:38:35.529Z"
   },
   {
    "duration": 35,
    "start_time": "2023-10-03T06:38:35.551Z"
   },
   {
    "duration": 23,
    "start_time": "2023-10-03T06:38:35.587Z"
   },
   {
    "duration": 38,
    "start_time": "2023-10-03T06:38:35.612Z"
   },
   {
    "duration": 4,
    "start_time": "2023-10-03T06:38:35.652Z"
   },
   {
    "duration": 13,
    "start_time": "2023-10-03T06:38:35.657Z"
   },
   {
    "duration": 11,
    "start_time": "2023-10-03T06:38:35.672Z"
   },
   {
    "duration": 27,
    "start_time": "2023-10-03T06:38:35.684Z"
   },
   {
    "duration": 887,
    "start_time": "2023-10-03T06:38:35.713Z"
   },
   {
    "duration": 874,
    "start_time": "2023-10-03T06:38:36.603Z"
   },
   {
    "duration": 306,
    "start_time": "2023-10-03T06:38:37.479Z"
   },
   {
    "duration": 968,
    "start_time": "2023-10-03T06:39:43.220Z"
   },
   {
    "duration": 311,
    "start_time": "2023-10-03T06:41:30.930Z"
   },
   {
    "duration": 362,
    "start_time": "2023-10-03T06:42:56.600Z"
   },
   {
    "duration": 356,
    "start_time": "2023-10-03T06:43:02.348Z"
   },
   {
    "duration": 870,
    "start_time": "2023-10-03T06:43:10.201Z"
   },
   {
    "duration": 338,
    "start_time": "2023-10-03T06:43:14.116Z"
   },
   {
    "duration": 1000,
    "start_time": "2023-10-03T06:43:22.705Z"
   },
   {
    "duration": 328,
    "start_time": "2023-10-03T06:43:26.283Z"
   },
   {
    "duration": 331,
    "start_time": "2023-10-03T06:43:29.712Z"
   },
   {
    "duration": 112,
    "start_time": "2023-10-03T06:43:57.863Z"
   },
   {
    "duration": 12,
    "start_time": "2023-10-03T06:44:18.734Z"
   },
   {
    "duration": 9,
    "start_time": "2023-10-03T06:48:40.950Z"
   },
   {
    "duration": 15,
    "start_time": "2023-10-03T06:50:03.767Z"
   },
   {
    "duration": 11,
    "start_time": "2023-10-03T06:50:33.376Z"
   },
   {
    "duration": 325,
    "start_time": "2023-10-03T06:51:01.189Z"
   },
   {
    "duration": 338,
    "start_time": "2023-10-03T06:51:46.181Z"
   },
   {
    "duration": 7,
    "start_time": "2023-10-03T06:52:09.586Z"
   },
   {
    "duration": 309,
    "start_time": "2023-10-03T06:53:31.907Z"
   },
   {
    "duration": 339,
    "start_time": "2023-10-03T06:53:52.850Z"
   },
   {
    "duration": 174,
    "start_time": "2023-10-03T06:54:28.882Z"
   },
   {
    "duration": 201,
    "start_time": "2023-10-03T06:54:52.016Z"
   },
   {
    "duration": 336,
    "start_time": "2023-10-03T06:54:58.116Z"
   },
   {
    "duration": 12,
    "start_time": "2023-10-03T06:55:50.513Z"
   },
   {
    "duration": 304,
    "start_time": "2023-10-03T06:56:06.663Z"
   },
   {
    "duration": 326,
    "start_time": "2023-10-03T06:56:13.891Z"
   },
   {
    "duration": 246,
    "start_time": "2023-10-03T06:57:05.356Z"
   },
   {
    "duration": 4,
    "start_time": "2023-10-03T07:04:39.391Z"
   },
   {
    "duration": 25,
    "start_time": "2023-10-03T07:04:50.791Z"
   },
   {
    "duration": 19,
    "start_time": "2023-10-03T07:07:52.738Z"
   },
   {
    "duration": 4,
    "start_time": "2023-10-03T07:08:37.813Z"
   },
   {
    "duration": 4,
    "start_time": "2023-10-03T07:09:28.290Z"
   },
   {
    "duration": 19,
    "start_time": "2023-10-03T07:09:31.304Z"
   },
   {
    "duration": 1466,
    "start_time": "2023-10-03T07:09:37.044Z"
   },
   {
    "duration": 50,
    "start_time": "2023-10-03T07:09:38.512Z"
   },
   {
    "duration": 13,
    "start_time": "2023-10-03T07:09:38.564Z"
   },
   {
    "duration": 15,
    "start_time": "2023-10-03T07:09:38.579Z"
   },
   {
    "duration": 14,
    "start_time": "2023-10-03T07:09:38.596Z"
   },
   {
    "duration": 8,
    "start_time": "2023-10-03T07:09:38.611Z"
   },
   {
    "duration": 25,
    "start_time": "2023-10-03T07:09:38.620Z"
   },
   {
    "duration": 31,
    "start_time": "2023-10-03T07:09:38.647Z"
   },
   {
    "duration": 6,
    "start_time": "2023-10-03T07:09:38.680Z"
   },
   {
    "duration": 9,
    "start_time": "2023-10-03T07:09:38.687Z"
   },
   {
    "duration": 7,
    "start_time": "2023-10-03T07:09:38.698Z"
   },
   {
    "duration": 9,
    "start_time": "2023-10-03T07:09:38.707Z"
   },
   {
    "duration": 874,
    "start_time": "2023-10-03T07:09:38.718Z"
   },
   {
    "duration": 897,
    "start_time": "2023-10-03T07:09:39.595Z"
   },
   {
    "duration": 326,
    "start_time": "2023-10-03T07:09:40.493Z"
   },
   {
    "duration": 358,
    "start_time": "2023-10-03T07:09:40.821Z"
   },
   {
    "duration": 7,
    "start_time": "2023-10-03T07:09:41.181Z"
   },
   {
    "duration": 307,
    "start_time": "2023-10-03T07:09:41.189Z"
   },
   {
    "duration": 428,
    "start_time": "2023-10-03T07:09:41.497Z"
   },
   {
    "duration": 238,
    "start_time": "2023-10-03T07:09:41.926Z"
   },
   {
    "duration": 250,
    "start_time": "2023-10-03T07:09:42.165Z"
   },
   {
    "duration": 4,
    "start_time": "2023-10-03T07:09:42.417Z"
   },
   {
    "duration": 38,
    "start_time": "2023-10-03T07:09:42.423Z"
   },
   {
    "duration": 3,
    "start_time": "2023-10-03T07:09:42.463Z"
   },
   {
    "duration": 136,
    "start_time": "2023-10-03T07:14:26.991Z"
   },
   {
    "duration": 14,
    "start_time": "2023-10-03T07:14:30.389Z"
   },
   {
    "duration": 6,
    "start_time": "2023-10-03T07:14:35.008Z"
   },
   {
    "duration": 12,
    "start_time": "2023-10-03T07:15:40.487Z"
   },
   {
    "duration": 6,
    "start_time": "2023-10-03T07:15:44.199Z"
   },
   {
    "duration": 6,
    "start_time": "2023-10-03T07:17:16.253Z"
   },
   {
    "duration": 7,
    "start_time": "2023-10-03T07:22:14.787Z"
   },
   {
    "duration": 13,
    "start_time": "2023-10-03T07:23:29.925Z"
   },
   {
    "duration": 7,
    "start_time": "2023-10-03T07:24:26.719Z"
   },
   {
    "duration": 7,
    "start_time": "2023-10-03T07:28:07.207Z"
   },
   {
    "duration": 3,
    "start_time": "2023-10-03T07:28:38.836Z"
   },
   {
    "duration": 7,
    "start_time": "2023-10-03T07:29:44.601Z"
   },
   {
    "duration": 16,
    "start_time": "2023-10-03T07:30:09.075Z"
   },
   {
    "duration": 10,
    "start_time": "2023-10-03T07:30:22.870Z"
   },
   {
    "duration": 11,
    "start_time": "2023-10-03T07:30:36.072Z"
   },
   {
    "duration": 11,
    "start_time": "2023-10-03T07:30:51.702Z"
   },
   {
    "duration": 13,
    "start_time": "2023-10-03T07:32:56.412Z"
   },
   {
    "duration": 24,
    "start_time": "2023-10-03T07:33:04.558Z"
   },
   {
    "duration": 7,
    "start_time": "2023-10-03T07:36:51.379Z"
   },
   {
    "duration": 9,
    "start_time": "2023-10-03T07:37:27.140Z"
   },
   {
    "duration": 2,
    "start_time": "2023-10-03T07:37:31.282Z"
   },
   {
    "duration": 15,
    "start_time": "2023-10-03T07:37:46.744Z"
   },
   {
    "duration": 7,
    "start_time": "2023-10-03T07:38:59.094Z"
   },
   {
    "duration": 3,
    "start_time": "2023-10-03T07:39:00.703Z"
   },
   {
    "duration": 16,
    "start_time": "2023-10-03T07:39:02.277Z"
   },
   {
    "duration": 7,
    "start_time": "2023-10-03T07:39:28.626Z"
   },
   {
    "duration": 3,
    "start_time": "2023-10-03T07:39:29.747Z"
   },
   {
    "duration": 15,
    "start_time": "2023-10-03T07:39:32.180Z"
   },
   {
    "duration": 7,
    "start_time": "2023-10-03T07:41:04.970Z"
   },
   {
    "duration": 3,
    "start_time": "2023-10-03T07:41:05.691Z"
   },
   {
    "duration": 15,
    "start_time": "2023-10-03T07:41:07.471Z"
   },
   {
    "duration": 7,
    "start_time": "2023-10-03T07:42:07.283Z"
   },
   {
    "duration": 2,
    "start_time": "2023-10-03T07:42:10.066Z"
   },
   {
    "duration": 589,
    "start_time": "2023-10-03T07:42:11.601Z"
   },
   {
    "duration": 8,
    "start_time": "2023-10-03T07:43:50.240Z"
   },
   {
    "duration": 3,
    "start_time": "2023-10-03T07:43:51.143Z"
   },
   {
    "duration": 602,
    "start_time": "2023-10-03T07:43:52.969Z"
   },
   {
    "duration": 7,
    "start_time": "2023-10-03T07:44:08.552Z"
   },
   {
    "duration": 3,
    "start_time": "2023-10-03T07:44:09.539Z"
   },
   {
    "duration": 614,
    "start_time": "2023-10-03T07:44:11.195Z"
   },
   {
    "duration": 13651,
    "start_time": "2023-10-03T07:49:53.956Z"
   },
   {
    "duration": 574,
    "start_time": "2023-10-03T07:50:57.283Z"
   },
   {
    "duration": 13763,
    "start_time": "2023-10-03T07:51:01.047Z"
   },
   {
    "duration": 3,
    "start_time": "2023-10-03T07:51:59.310Z"
   },
   {
    "duration": 3222,
    "start_time": "2023-10-03T07:52:16.452Z"
   },
   {
    "duration": 727,
    "start_time": "2023-10-03T07:52:48.424Z"
   },
   {
    "duration": 4644,
    "start_time": "2023-10-03T07:55:20.696Z"
   },
   {
    "duration": 4380,
    "start_time": "2023-10-03T07:56:03.694Z"
   },
   {
    "duration": 5149,
    "start_time": "2023-10-03T07:56:27.352Z"
   },
   {
    "duration": 869,
    "start_time": "2023-10-03T07:58:27.764Z"
   },
   {
    "duration": 1910,
    "start_time": "2023-10-03T08:00:20.702Z"
   },
   {
    "duration": 10,
    "start_time": "2023-10-03T08:01:36.106Z"
   },
   {
    "duration": 12,
    "start_time": "2023-10-03T08:02:15.715Z"
   },
   {
    "duration": 15,
    "start_time": "2023-10-03T08:03:08.836Z"
   },
   {
    "duration": 16,
    "start_time": "2023-10-03T08:03:36.472Z"
   },
   {
    "duration": 46417,
    "start_time": "2023-10-03T08:04:01.004Z"
   },
   {
    "duration": 122523,
    "start_time": "2023-10-03T08:05:05.974Z"
   },
   {
    "duration": 7,
    "start_time": "2023-10-03T08:11:01.173Z"
   },
   {
    "duration": 13139,
    "start_time": "2023-10-03T08:14:26.039Z"
   },
   {
    "duration": 13105,
    "start_time": "2023-10-03T08:14:58.209Z"
   },
   {
    "duration": 582,
    "start_time": "2023-10-03T08:15:34.083Z"
   },
   {
    "duration": 585,
    "start_time": "2023-10-03T08:15:49.035Z"
   },
   {
    "duration": 13280,
    "start_time": "2023-10-03T08:15:50.807Z"
   },
   {
    "duration": 19,
    "start_time": "2023-10-03T08:16:10.617Z"
   },
   {
    "duration": 11,
    "start_time": "2023-10-03T08:18:49.133Z"
   },
   {
    "duration": 94,
    "start_time": "2023-10-03T08:18:54.810Z"
   },
   {
    "duration": 4,
    "start_time": "2023-10-03T08:21:50.341Z"
   },
   {
    "duration": 6,
    "start_time": "2023-10-03T08:22:18.884Z"
   },
   {
    "duration": 3,
    "start_time": "2023-10-03T08:22:31.958Z"
   },
   {
    "duration": 4,
    "start_time": "2023-10-03T08:22:33.296Z"
   },
   {
    "duration": 4,
    "start_time": "2023-10-03T08:23:32.263Z"
   },
   {
    "duration": 4,
    "start_time": "2023-10-03T08:23:34.027Z"
   },
   {
    "duration": 3,
    "start_time": "2023-10-03T08:23:39.229Z"
   },
   {
    "duration": 4,
    "start_time": "2023-10-03T08:23:40.732Z"
   },
   {
    "duration": 4,
    "start_time": "2023-10-03T08:24:04.094Z"
   },
   {
    "duration": 98,
    "start_time": "2023-10-03T08:24:56.173Z"
   },
   {
    "duration": 115,
    "start_time": "2023-10-03T08:25:23.685Z"
   },
   {
    "duration": 5,
    "start_time": "2023-10-03T08:25:30.624Z"
   },
   {
    "duration": 1517,
    "start_time": "2023-10-03T08:25:37.134Z"
   },
   {
    "duration": 50,
    "start_time": "2023-10-03T08:25:38.654Z"
   },
   {
    "duration": 13,
    "start_time": "2023-10-03T08:25:38.706Z"
   },
   {
    "duration": 15,
    "start_time": "2023-10-03T08:25:38.722Z"
   },
   {
    "duration": 6,
    "start_time": "2023-10-03T08:25:38.738Z"
   },
   {
    "duration": 9,
    "start_time": "2023-10-03T08:25:38.746Z"
   },
   {
    "duration": 9,
    "start_time": "2023-10-03T08:25:38.758Z"
   },
   {
    "duration": 26,
    "start_time": "2023-10-03T08:25:38.770Z"
   },
   {
    "duration": 4,
    "start_time": "2023-10-03T08:25:38.797Z"
   },
   {
    "duration": 9,
    "start_time": "2023-10-03T08:25:38.804Z"
   },
   {
    "duration": 10,
    "start_time": "2023-10-03T08:25:38.815Z"
   },
   {
    "duration": 28,
    "start_time": "2023-10-03T08:25:38.827Z"
   },
   {
    "duration": 879,
    "start_time": "2023-10-03T08:25:38.857Z"
   },
   {
    "duration": 881,
    "start_time": "2023-10-03T08:25:39.737Z"
   },
   {
    "duration": 312,
    "start_time": "2023-10-03T08:25:40.620Z"
   },
   {
    "duration": 385,
    "start_time": "2023-10-03T08:25:40.934Z"
   },
   {
    "duration": 8,
    "start_time": "2023-10-03T08:25:41.320Z"
   },
   {
    "duration": 316,
    "start_time": "2023-10-03T08:25:41.330Z"
   },
   {
    "duration": 450,
    "start_time": "2023-10-03T08:25:41.647Z"
   },
   {
    "duration": 258,
    "start_time": "2023-10-03T08:25:42.099Z"
   },
   {
    "duration": 266,
    "start_time": "2023-10-03T08:25:42.359Z"
   },
   {
    "duration": 5,
    "start_time": "2023-10-03T08:25:42.626Z"
   },
   {
    "duration": 37,
    "start_time": "2023-10-03T08:25:42.633Z"
   },
   {
    "duration": 32,
    "start_time": "2023-10-03T08:25:42.672Z"
   },
   {
    "duration": 18,
    "start_time": "2023-10-03T08:25:42.706Z"
   },
   {
    "duration": 13,
    "start_time": "2023-10-03T08:25:42.726Z"
   },
   {
    "duration": 34,
    "start_time": "2023-10-03T08:25:42.740Z"
   },
   {
    "duration": 14,
    "start_time": "2023-10-03T08:25:42.778Z"
   },
   {
    "duration": 25,
    "start_time": "2023-10-03T08:25:42.794Z"
   },
   {
    "duration": 32,
    "start_time": "2023-10-03T08:25:42.821Z"
   },
   {
    "duration": 12,
    "start_time": "2023-10-03T08:25:42.856Z"
   },
   {
    "duration": 84,
    "start_time": "2023-10-03T08:25:42.870Z"
   },
   {
    "duration": 628,
    "start_time": "2023-10-03T08:25:42.956Z"
   },
   {
    "duration": 13489,
    "start_time": "2023-10-03T08:25:43.587Z"
   },
   {
    "duration": 4,
    "start_time": "2023-10-03T08:25:57.077Z"
   },
   {
    "duration": 33,
    "start_time": "2023-10-03T08:25:57.082Z"
   },
   {
    "duration": 15,
    "start_time": "2023-10-03T08:25:57.116Z"
   },
   {
    "duration": 19,
    "start_time": "2023-10-03T08:25:57.143Z"
   },
   {
    "duration": 5,
    "start_time": "2023-10-03T08:25:57.163Z"
   },
   {
    "duration": 155,
    "start_time": "2023-10-03T08:25:57.169Z"
   },
   {
    "duration": 4,
    "start_time": "2023-10-03T08:25:57.326Z"
   },
   {
    "duration": 1520,
    "start_time": "2023-10-03T08:33:44.080Z"
   },
   {
    "duration": 51,
    "start_time": "2023-10-03T08:33:45.602Z"
   },
   {
    "duration": 13,
    "start_time": "2023-10-03T08:33:45.655Z"
   },
   {
    "duration": 52,
    "start_time": "2023-10-03T08:33:45.670Z"
   },
   {
    "duration": 40,
    "start_time": "2023-10-03T08:33:45.724Z"
   },
   {
    "duration": 20,
    "start_time": "2023-10-03T08:33:45.766Z"
   },
   {
    "duration": 43,
    "start_time": "2023-10-03T08:33:45.787Z"
   },
   {
    "duration": 55,
    "start_time": "2023-10-03T08:33:45.832Z"
   },
   {
    "duration": 346,
    "start_time": "2023-10-03T08:33:45.888Z"
   },
   {
    "duration": 109,
    "start_time": "2023-10-03T08:33:46.237Z"
   },
   {
    "duration": 27,
    "start_time": "2023-10-03T08:33:46.348Z"
   },
   {
    "duration": 36,
    "start_time": "2023-10-03T08:33:46.376Z"
   },
   {
    "duration": 877,
    "start_time": "2023-10-03T08:33:46.414Z"
   },
   {
    "duration": 907,
    "start_time": "2023-10-03T08:33:47.293Z"
   },
   {
    "duration": 305,
    "start_time": "2023-10-03T08:33:48.202Z"
   },
   {
    "duration": 379,
    "start_time": "2023-10-03T08:33:48.508Z"
   },
   {
    "duration": 8,
    "start_time": "2023-10-03T08:33:48.889Z"
   },
   {
    "duration": 316,
    "start_time": "2023-10-03T08:33:48.899Z"
   },
   {
    "duration": 449,
    "start_time": "2023-10-03T08:33:49.217Z"
   },
   {
    "duration": 247,
    "start_time": "2023-10-03T08:33:49.668Z"
   },
   {
    "duration": 261,
    "start_time": "2023-10-03T08:33:49.917Z"
   },
   {
    "duration": 4,
    "start_time": "2023-10-03T08:33:50.179Z"
   },
   {
    "duration": 98,
    "start_time": "2023-10-03T08:33:50.184Z"
   },
   {
    "duration": 45,
    "start_time": "2023-10-03T08:33:50.283Z"
   },
   {
    "duration": 43,
    "start_time": "2023-10-03T08:33:50.330Z"
   },
   {
    "duration": 60,
    "start_time": "2023-10-03T08:33:50.375Z"
   },
   {
    "duration": 60,
    "start_time": "2023-10-03T08:33:50.437Z"
   },
   {
    "duration": 19,
    "start_time": "2023-10-03T08:33:50.500Z"
   },
   {
    "duration": 52,
    "start_time": "2023-10-03T08:33:50.520Z"
   },
   {
    "duration": 52,
    "start_time": "2023-10-03T08:33:50.574Z"
   },
   {
    "duration": 46,
    "start_time": "2023-10-03T08:33:50.628Z"
   },
   {
    "duration": 78,
    "start_time": "2023-10-03T08:33:50.676Z"
   },
   {
    "duration": 650,
    "start_time": "2023-10-03T08:33:50.756Z"
   },
   {
    "duration": 13447,
    "start_time": "2023-10-03T08:33:51.407Z"
   },
   {
    "duration": 3,
    "start_time": "2023-10-03T08:34:04.856Z"
   },
   {
    "duration": 166,
    "start_time": "2023-10-03T08:34:04.860Z"
   },
   {
    "duration": 59,
    "start_time": "2023-10-03T08:34:05.029Z"
   },
   {
    "duration": 64,
    "start_time": "2023-10-03T08:34:05.090Z"
   },
   {
    "duration": 7,
    "start_time": "2023-10-03T08:34:05.156Z"
   },
   {
    "duration": 122,
    "start_time": "2023-10-03T08:34:05.164Z"
   },
   {
    "duration": 4,
    "start_time": "2023-10-03T08:34:05.287Z"
   },
   {
    "duration": 126,
    "start_time": "2023-10-03T08:39:00.432Z"
   },
   {
    "duration": 10,
    "start_time": "2023-10-03T08:39:23.347Z"
   },
   {
    "duration": 3,
    "start_time": "2023-10-03T08:39:29.760Z"
   },
   {
    "duration": 18,
    "start_time": "2023-10-03T08:40:08.528Z"
   },
   {
    "duration": 3,
    "start_time": "2023-10-03T08:40:29.931Z"
   },
   {
    "duration": 344,
    "start_time": "2023-10-03T08:40:32.374Z"
   },
   {
    "duration": 3,
    "start_time": "2023-10-03T08:41:30.616Z"
   },
   {
    "duration": 281,
    "start_time": "2023-10-03T08:41:41.612Z"
   },
   {
    "duration": 298,
    "start_time": "2023-10-03T08:42:07.826Z"
   },
   {
    "duration": 15,
    "start_time": "2023-10-03T08:42:30.606Z"
   },
   {
    "duration": 9,
    "start_time": "2023-10-03T08:42:53.882Z"
   },
   {
    "duration": 15,
    "start_time": "2023-10-03T08:43:04.382Z"
   },
   {
    "duration": 4,
    "start_time": "2023-10-03T08:43:58.658Z"
   },
   {
    "duration": 4,
    "start_time": "2023-10-03T08:44:48.126Z"
   },
   {
    "duration": 281,
    "start_time": "2023-10-03T08:45:08.422Z"
   },
   {
    "duration": 3,
    "start_time": "2023-10-03T08:46:01.249Z"
   },
   {
    "duration": 262,
    "start_time": "2023-10-03T08:46:03.113Z"
   },
   {
    "duration": 4,
    "start_time": "2023-10-03T08:46:07.965Z"
   },
   {
    "duration": 278,
    "start_time": "2023-10-03T08:46:09.869Z"
   },
   {
    "duration": 3,
    "start_time": "2023-10-03T08:46:20.505Z"
   },
   {
    "duration": 297,
    "start_time": "2023-10-03T08:46:22.020Z"
   },
   {
    "duration": 1539,
    "start_time": "2023-10-03T08:46:29.030Z"
   },
   {
    "duration": 51,
    "start_time": "2023-10-03T08:46:30.571Z"
   },
   {
    "duration": 68,
    "start_time": "2023-10-03T08:46:30.624Z"
   },
   {
    "duration": 88,
    "start_time": "2023-10-03T08:46:30.694Z"
   },
   {
    "duration": 41,
    "start_time": "2023-10-03T08:46:30.785Z"
   },
   {
    "duration": 46,
    "start_time": "2023-10-03T08:46:30.828Z"
   },
   {
    "duration": 51,
    "start_time": "2023-10-03T08:46:30.876Z"
   },
   {
    "duration": 101,
    "start_time": "2023-10-03T08:46:30.929Z"
   },
   {
    "duration": 21,
    "start_time": "2023-10-03T08:46:31.032Z"
   },
   {
    "duration": 64,
    "start_time": "2023-10-03T08:46:31.054Z"
   },
   {
    "duration": 49,
    "start_time": "2023-10-03T08:46:31.119Z"
   },
   {
    "duration": 55,
    "start_time": "2023-10-03T08:46:31.169Z"
   },
   {
    "duration": 874,
    "start_time": "2023-10-03T08:46:31.226Z"
   },
   {
    "duration": 984,
    "start_time": "2023-10-03T08:46:32.103Z"
   },
   {
    "duration": 329,
    "start_time": "2023-10-03T08:46:33.089Z"
   },
   {
    "duration": 376,
    "start_time": "2023-10-03T08:46:33.419Z"
   },
   {
    "duration": 12,
    "start_time": "2023-10-03T08:46:33.798Z"
   },
   {
    "duration": 328,
    "start_time": "2023-10-03T08:46:33.812Z"
   },
   {
    "duration": 502,
    "start_time": "2023-10-03T08:46:34.143Z"
   },
   {
    "duration": 247,
    "start_time": "2023-10-03T08:46:34.647Z"
   },
   {
    "duration": 259,
    "start_time": "2023-10-03T08:46:34.896Z"
   },
   {
    "duration": 4,
    "start_time": "2023-10-03T08:46:35.156Z"
   },
   {
    "duration": 42,
    "start_time": "2023-10-03T08:46:35.162Z"
   },
   {
    "duration": 24,
    "start_time": "2023-10-03T08:46:35.206Z"
   },
   {
    "duration": 51,
    "start_time": "2023-10-03T08:46:35.231Z"
   },
   {
    "duration": 55,
    "start_time": "2023-10-03T08:46:35.284Z"
   },
   {
    "duration": 39,
    "start_time": "2023-10-03T08:46:35.341Z"
   },
   {
    "duration": 19,
    "start_time": "2023-10-03T08:46:35.382Z"
   },
   {
    "duration": 39,
    "start_time": "2023-10-03T08:46:35.403Z"
   },
   {
    "duration": 55,
    "start_time": "2023-10-03T08:46:35.444Z"
   },
   {
    "duration": 7,
    "start_time": "2023-10-03T08:46:35.501Z"
   },
   {
    "duration": 35,
    "start_time": "2023-10-03T08:46:35.510Z"
   },
   {
    "duration": 629,
    "start_time": "2023-10-03T08:46:35.547Z"
   },
   {
    "duration": 13300,
    "start_time": "2023-10-03T08:46:36.178Z"
   },
   {
    "duration": 4,
    "start_time": "2023-10-03T08:46:49.480Z"
   },
   {
    "duration": 20,
    "start_time": "2023-10-03T08:46:49.485Z"
   },
   {
    "duration": 23,
    "start_time": "2023-10-03T08:46:49.507Z"
   },
   {
    "duration": 415,
    "start_time": "2023-10-03T08:46:49.532Z"
   },
   {
    "duration": 5,
    "start_time": "2023-10-03T08:46:49.948Z"
   },
   {
    "duration": 23,
    "start_time": "2023-10-03T08:46:49.954Z"
   },
   {
    "duration": 291,
    "start_time": "2023-10-03T08:46:49.981Z"
   },
   {
    "duration": 5,
    "start_time": "2023-10-03T08:46:50.274Z"
   },
   {
    "duration": 113,
    "start_time": "2023-10-03T08:46:50.281Z"
   },
   {
    "duration": 293,
    "start_time": "2023-10-03T08:46:50.396Z"
   },
   {
    "duration": 5,
    "start_time": "2023-10-03T08:46:50.691Z"
   },
   {
    "duration": 1748,
    "start_time": "2023-10-04T05:02:12.307Z"
   },
   {
    "duration": 122,
    "start_time": "2023-10-04T05:02:14.057Z"
   },
   {
    "duration": 16,
    "start_time": "2023-10-04T05:02:14.180Z"
   },
   {
    "duration": 34,
    "start_time": "2023-10-04T05:02:14.197Z"
   },
   {
    "duration": 10,
    "start_time": "2023-10-04T05:02:14.234Z"
   },
   {
    "duration": 21,
    "start_time": "2023-10-04T05:02:14.247Z"
   },
   {
    "duration": 22,
    "start_time": "2023-10-04T05:02:14.269Z"
   },
   {
    "duration": 41,
    "start_time": "2023-10-04T05:02:14.293Z"
   },
   {
    "duration": 22,
    "start_time": "2023-10-04T05:02:14.336Z"
   },
   {
    "duration": 71,
    "start_time": "2023-10-04T05:02:14.360Z"
   },
   {
    "duration": 17,
    "start_time": "2023-10-04T05:02:14.434Z"
   },
   {
    "duration": 25,
    "start_time": "2023-10-04T05:02:14.453Z"
   },
   {
    "duration": 914,
    "start_time": "2023-10-04T05:02:14.480Z"
   },
   {
    "duration": 929,
    "start_time": "2023-10-04T05:02:15.400Z"
   },
   {
    "duration": 358,
    "start_time": "2023-10-04T05:02:16.331Z"
   },
   {
    "duration": 364,
    "start_time": "2023-10-04T05:02:16.690Z"
   },
   {
    "duration": 8,
    "start_time": "2023-10-04T05:02:17.056Z"
   },
   {
    "duration": 591,
    "start_time": "2023-10-04T05:02:17.066Z"
   },
   {
    "duration": 459,
    "start_time": "2023-10-04T05:02:17.658Z"
   },
   {
    "duration": 287,
    "start_time": "2023-10-04T05:02:18.119Z"
   },
   {
    "duration": 277,
    "start_time": "2023-10-04T05:02:18.408Z"
   },
   {
    "duration": 5,
    "start_time": "2023-10-04T05:02:18.687Z"
   },
   {
    "duration": 59,
    "start_time": "2023-10-04T05:02:18.693Z"
   },
   {
    "duration": 3,
    "start_time": "2023-10-04T05:02:18.754Z"
   },
   {
    "duration": 32,
    "start_time": "2023-10-04T05:02:18.759Z"
   },
   {
    "duration": 26,
    "start_time": "2023-10-04T05:02:18.793Z"
   },
   {
    "duration": 53,
    "start_time": "2023-10-04T05:02:18.821Z"
   },
   {
    "duration": 20,
    "start_time": "2023-10-04T05:02:18.876Z"
   },
   {
    "duration": 19,
    "start_time": "2023-10-04T05:02:18.897Z"
   },
   {
    "duration": 20,
    "start_time": "2023-10-04T05:02:18.918Z"
   },
   {
    "duration": 7,
    "start_time": "2023-10-04T05:02:18.940Z"
   },
   {
    "duration": 74,
    "start_time": "2023-10-04T05:02:18.949Z"
   },
   {
    "duration": 639,
    "start_time": "2023-10-04T05:02:19.025Z"
   },
   {
    "duration": 13612,
    "start_time": "2023-10-04T05:02:19.666Z"
   },
   {
    "duration": 4,
    "start_time": "2023-10-04T05:02:33.279Z"
   },
   {
    "duration": 83,
    "start_time": "2023-10-04T05:02:33.285Z"
   },
   {
    "duration": 99,
    "start_time": "2023-10-04T05:02:33.370Z"
   },
   {
    "duration": 379,
    "start_time": "2023-10-04T05:02:33.471Z"
   },
   {
    "duration": 5,
    "start_time": "2023-10-04T05:02:33.851Z"
   },
   {
    "duration": 41,
    "start_time": "2023-10-04T05:02:33.857Z"
   },
   {
    "duration": 314,
    "start_time": "2023-10-04T05:02:33.902Z"
   },
   {
    "duration": 5,
    "start_time": "2023-10-04T05:02:34.218Z"
   },
   {
    "duration": 123,
    "start_time": "2023-10-04T05:02:34.228Z"
   },
   {
    "duration": 362,
    "start_time": "2023-10-04T05:02:34.353Z"
   },
   {
    "duration": 5,
    "start_time": "2023-10-04T05:02:34.717Z"
   },
   {
    "duration": 7,
    "start_time": "2023-10-04T05:03:13.166Z"
   },
   {
    "duration": 3,
    "start_time": "2023-10-04T05:03:47.237Z"
   },
   {
    "duration": 12,
    "start_time": "2023-10-04T05:03:55.323Z"
   },
   {
    "duration": 25,
    "start_time": "2023-10-04T05:04:19.657Z"
   },
   {
    "duration": 8,
    "start_time": "2023-10-04T05:04:29.158Z"
   },
   {
    "duration": 2,
    "start_time": "2023-10-04T05:04:31.017Z"
   },
   {
    "duration": 483,
    "start_time": "2023-10-04T05:04:32.329Z"
   },
   {
    "duration": 10631,
    "start_time": "2023-10-04T05:04:35.394Z"
   },
   {
    "duration": 3,
    "start_time": "2023-10-04T05:04:53.308Z"
   },
   {
    "duration": 3,
    "start_time": "2023-10-04T05:04:54.409Z"
   },
   {
    "duration": 7,
    "start_time": "2023-10-04T05:04:55.787Z"
   },
   {
    "duration": 287,
    "start_time": "2023-10-04T05:05:02.104Z"
   },
   {
    "duration": 5,
    "start_time": "2023-10-04T05:05:07.562Z"
   },
   {
    "duration": 20,
    "start_time": "2023-10-04T05:05:12.533Z"
   },
   {
    "duration": 280,
    "start_time": "2023-10-04T05:05:19.686Z"
   },
   {
    "duration": 4,
    "start_time": "2023-10-04T05:05:22.620Z"
   },
   {
    "duration": 101,
    "start_time": "2023-10-04T05:05:25.422Z"
   },
   {
    "duration": 294,
    "start_time": "2023-10-04T05:05:31.514Z"
   },
   {
    "duration": 4,
    "start_time": "2023-10-04T05:05:33.548Z"
   },
   {
    "duration": 1568,
    "start_time": "2023-10-04T05:05:56.679Z"
   },
   {
    "duration": 53,
    "start_time": "2023-10-04T05:05:58.249Z"
   },
   {
    "duration": 14,
    "start_time": "2023-10-04T05:05:58.304Z"
   },
   {
    "duration": 25,
    "start_time": "2023-10-04T05:05:58.321Z"
   },
   {
    "duration": 60,
    "start_time": "2023-10-04T05:05:58.349Z"
   },
   {
    "duration": 90,
    "start_time": "2023-10-04T05:05:58.411Z"
   },
   {
    "duration": 147,
    "start_time": "2023-10-04T05:05:58.503Z"
   },
   {
    "duration": 168,
    "start_time": "2023-10-04T05:05:58.652Z"
   },
   {
    "duration": 46,
    "start_time": "2023-10-04T05:05:58.822Z"
   },
   {
    "duration": 81,
    "start_time": "2023-10-04T05:05:58.870Z"
   },
   {
    "duration": 49,
    "start_time": "2023-10-04T05:05:58.953Z"
   },
   {
    "duration": 39,
    "start_time": "2023-10-04T05:05:59.003Z"
   },
   {
    "duration": 964,
    "start_time": "2023-10-04T05:05:59.044Z"
   },
   {
    "duration": 962,
    "start_time": "2023-10-04T05:06:00.012Z"
   },
   {
    "duration": 351,
    "start_time": "2023-10-04T05:06:00.977Z"
   },
   {
    "duration": 388,
    "start_time": "2023-10-04T05:06:01.330Z"
   },
   {
    "duration": 183,
    "start_time": "2023-10-04T05:06:01.720Z"
   },
   {
    "duration": 926,
    "start_time": "2023-10-04T05:06:01.904Z"
   },
   {
    "duration": 488,
    "start_time": "2023-10-04T05:06:02.832Z"
   },
   {
    "duration": 256,
    "start_time": "2023-10-04T05:06:03.322Z"
   },
   {
    "duration": 261,
    "start_time": "2023-10-04T05:06:03.580Z"
   },
   {
    "duration": 5,
    "start_time": "2023-10-04T05:06:03.843Z"
   },
   {
    "duration": 212,
    "start_time": "2023-10-04T05:06:03.849Z"
   },
   {
    "duration": 107,
    "start_time": "2023-10-04T05:06:04.062Z"
   },
   {
    "duration": 31,
    "start_time": "2023-10-04T05:06:04.171Z"
   },
   {
    "duration": 32,
    "start_time": "2023-10-04T05:06:04.204Z"
   },
   {
    "duration": 26,
    "start_time": "2023-10-04T05:06:04.238Z"
   },
   {
    "duration": 6,
    "start_time": "2023-10-04T05:06:04.266Z"
   },
   {
    "duration": 25,
    "start_time": "2023-10-04T05:06:04.274Z"
   },
   {
    "duration": 43,
    "start_time": "2023-10-04T05:06:04.302Z"
   },
   {
    "duration": 46,
    "start_time": "2023-10-04T05:06:04.347Z"
   },
   {
    "duration": 23,
    "start_time": "2023-10-04T05:06:04.396Z"
   },
   {
    "duration": 50,
    "start_time": "2023-10-04T05:06:04.421Z"
   },
   {
    "duration": 577,
    "start_time": "2023-10-04T05:06:04.501Z"
   },
   {
    "duration": 10995,
    "start_time": "2023-10-04T05:06:05.080Z"
   },
   {
    "duration": 4,
    "start_time": "2023-10-04T05:06:16.076Z"
   },
   {
    "duration": 51,
    "start_time": "2023-10-04T05:06:16.082Z"
   },
   {
    "duration": 30,
    "start_time": "2023-10-04T05:06:16.135Z"
   },
   {
    "duration": 434,
    "start_time": "2023-10-04T05:06:16.167Z"
   },
   {
    "duration": 5,
    "start_time": "2023-10-04T05:06:16.603Z"
   },
   {
    "duration": 41,
    "start_time": "2023-10-04T05:06:16.613Z"
   },
   {
    "duration": 346,
    "start_time": "2023-10-04T05:06:16.656Z"
   },
   {
    "duration": 4,
    "start_time": "2023-10-04T05:06:17.003Z"
   },
   {
    "duration": 141,
    "start_time": "2023-10-04T05:06:17.009Z"
   },
   {
    "duration": 327,
    "start_time": "2023-10-04T05:06:17.152Z"
   },
   {
    "duration": 4,
    "start_time": "2023-10-04T05:06:17.480Z"
   },
   {
    "duration": 1490,
    "start_time": "2023-10-04T05:09:48.539Z"
   },
   {
    "duration": 51,
    "start_time": "2023-10-04T05:09:50.031Z"
   },
   {
    "duration": 14,
    "start_time": "2023-10-04T05:09:50.084Z"
   },
   {
    "duration": 37,
    "start_time": "2023-10-04T05:09:50.100Z"
   },
   {
    "duration": 36,
    "start_time": "2023-10-04T05:09:50.139Z"
   },
   {
    "duration": 54,
    "start_time": "2023-10-04T05:09:50.177Z"
   },
   {
    "duration": 38,
    "start_time": "2023-10-04T05:09:50.232Z"
   },
   {
    "duration": 32,
    "start_time": "2023-10-04T05:09:50.272Z"
   },
   {
    "duration": 18,
    "start_time": "2023-10-04T05:09:50.306Z"
   },
   {
    "duration": 20,
    "start_time": "2023-10-04T05:09:50.328Z"
   },
   {
    "duration": 14,
    "start_time": "2023-10-04T05:09:50.350Z"
   },
   {
    "duration": 26,
    "start_time": "2023-10-04T05:09:50.366Z"
   },
   {
    "duration": 871,
    "start_time": "2023-10-04T05:09:50.395Z"
   },
   {
    "duration": 964,
    "start_time": "2023-10-04T05:09:51.268Z"
   },
   {
    "duration": 345,
    "start_time": "2023-10-04T05:09:52.234Z"
   },
   {
    "duration": 373,
    "start_time": "2023-10-04T05:09:52.581Z"
   },
   {
    "duration": 8,
    "start_time": "2023-10-04T05:09:52.956Z"
   },
   {
    "duration": 348,
    "start_time": "2023-10-04T05:09:52.965Z"
   },
   {
    "duration": 450,
    "start_time": "2023-10-04T05:09:53.314Z"
   },
   {
    "duration": 260,
    "start_time": "2023-10-04T05:09:53.766Z"
   },
   {
    "duration": 267,
    "start_time": "2023-10-04T05:09:54.028Z"
   },
   {
    "duration": 6,
    "start_time": "2023-10-04T05:09:54.300Z"
   },
   {
    "duration": 39,
    "start_time": "2023-10-04T05:09:54.307Z"
   },
   {
    "duration": 7,
    "start_time": "2023-10-04T05:09:54.348Z"
   },
   {
    "duration": 22,
    "start_time": "2023-10-04T05:09:54.357Z"
   },
   {
    "duration": 23,
    "start_time": "2023-10-04T05:09:54.380Z"
   },
   {
    "duration": 23,
    "start_time": "2023-10-04T05:09:54.405Z"
   },
   {
    "duration": 55,
    "start_time": "2023-10-04T05:09:54.432Z"
   },
   {
    "duration": 21,
    "start_time": "2023-10-04T05:09:54.489Z"
   },
   {
    "duration": 122,
    "start_time": "2023-10-04T05:09:54.512Z"
   },
   {
    "duration": 175,
    "start_time": "2023-10-04T05:09:54.636Z"
   },
   {
    "duration": 25,
    "start_time": "2023-10-04T05:09:54.813Z"
   },
   {
    "duration": 43,
    "start_time": "2023-10-04T05:09:54.840Z"
   },
   {
    "duration": 523,
    "start_time": "2023-10-04T05:09:54.902Z"
   },
   {
    "duration": 10775,
    "start_time": "2023-10-04T05:09:55.427Z"
   },
   {
    "duration": 3,
    "start_time": "2023-10-04T05:10:06.203Z"
   },
   {
    "duration": 44,
    "start_time": "2023-10-04T05:10:06.208Z"
   },
   {
    "duration": 44,
    "start_time": "2023-10-04T05:10:06.253Z"
   },
   {
    "duration": 422,
    "start_time": "2023-10-04T05:10:06.300Z"
   },
   {
    "duration": 4,
    "start_time": "2023-10-04T05:10:06.724Z"
   },
   {
    "duration": 66,
    "start_time": "2023-10-04T05:10:06.729Z"
   },
   {
    "duration": 318,
    "start_time": "2023-10-04T05:10:06.796Z"
   },
   {
    "duration": 4,
    "start_time": "2023-10-04T05:10:07.116Z"
   },
   {
    "duration": 119,
    "start_time": "2023-10-04T05:10:07.122Z"
   },
   {
    "duration": 328,
    "start_time": "2023-10-04T05:10:07.243Z"
   },
   {
    "duration": 4,
    "start_time": "2023-10-04T05:10:07.573Z"
   },
   {
    "duration": 7,
    "start_time": "2023-10-04T05:12:14.118Z"
   },
   {
    "duration": 8,
    "start_time": "2023-10-04T05:14:45.480Z"
   },
   {
    "duration": 6,
    "start_time": "2023-10-04T05:14:51.591Z"
   },
   {
    "duration": 22,
    "start_time": "2023-10-04T05:14:55.534Z"
   },
   {
    "duration": 8,
    "start_time": "2023-10-04T05:15:10.310Z"
   },
   {
    "duration": 3,
    "start_time": "2023-10-04T05:15:25.482Z"
   },
   {
    "duration": 15,
    "start_time": "2023-10-04T05:15:26.542Z"
   },
   {
    "duration": 21,
    "start_time": "2023-10-04T05:15:28.565Z"
   },
   {
    "duration": 8,
    "start_time": "2023-10-04T05:15:30.768Z"
   },
   {
    "duration": 3,
    "start_time": "2023-10-04T05:15:32.865Z"
   },
   {
    "duration": 578,
    "start_time": "2023-10-04T05:15:37.665Z"
   },
   {
    "duration": 3,
    "start_time": "2023-10-04T05:15:41.258Z"
   },
   {
    "duration": 3,
    "start_time": "2023-10-04T05:15:42.239Z"
   },
   {
    "duration": 8,
    "start_time": "2023-10-04T05:15:43.406Z"
   },
   {
    "duration": 20,
    "start_time": "2023-10-04T05:16:10.423Z"
   },
   {
    "duration": 19,
    "start_time": "2023-10-04T05:16:28.300Z"
   },
   {
    "duration": 39,
    "start_time": "2023-10-04T05:17:05.075Z"
   },
   {
    "duration": 68,
    "start_time": "2023-10-04T05:17:09.444Z"
   },
   {
    "duration": 105,
    "start_time": "2023-10-04T05:17:12.031Z"
   },
   {
    "duration": 33,
    "start_time": "2023-10-04T05:17:16.706Z"
   },
   {
    "duration": 99,
    "start_time": "2023-10-04T05:17:19.622Z"
   },
   {
    "duration": 21,
    "start_time": "2023-10-04T05:17:21.930Z"
   },
   {
    "duration": 99,
    "start_time": "2023-10-04T05:17:28.493Z"
   },
   {
    "duration": 898,
    "start_time": "2023-10-04T05:18:20.459Z"
   },
   {
    "duration": 1051,
    "start_time": "2023-10-04T05:18:27.071Z"
   },
   {
    "duration": 10138,
    "start_time": "2023-10-04T05:18:32.682Z"
   },
   {
    "duration": 926,
    "start_time": "2023-10-04T05:18:48.864Z"
   },
   {
    "duration": 1425,
    "start_time": "2023-10-04T05:18:52.987Z"
   },
   {
    "duration": 1393,
    "start_time": "2023-10-04T05:19:02.079Z"
   },
   {
    "duration": 1396,
    "start_time": "2023-10-04T05:19:09.865Z"
   },
   {
    "duration": 1161,
    "start_time": "2023-10-04T05:22:46.081Z"
   },
   {
    "duration": 1090,
    "start_time": "2023-10-04T05:22:52.745Z"
   },
   {
    "duration": 916,
    "start_time": "2023-10-04T05:22:56.597Z"
   },
   {
    "duration": 1035,
    "start_time": "2023-10-04T05:23:00.649Z"
   },
   {
    "duration": 6,
    "start_time": "2023-10-04T05:23:46.109Z"
   },
   {
    "duration": 1580,
    "start_time": "2023-10-04T05:23:53.228Z"
   },
   {
    "duration": 51,
    "start_time": "2023-10-04T05:23:54.810Z"
   },
   {
    "duration": 15,
    "start_time": "2023-10-04T05:23:54.863Z"
   },
   {
    "duration": 23,
    "start_time": "2023-10-04T05:23:54.879Z"
   },
   {
    "duration": 17,
    "start_time": "2023-10-04T05:23:54.903Z"
   },
   {
    "duration": 28,
    "start_time": "2023-10-04T05:23:54.922Z"
   },
   {
    "duration": 19,
    "start_time": "2023-10-04T05:23:54.951Z"
   },
   {
    "duration": 19,
    "start_time": "2023-10-04T05:23:54.972Z"
   },
   {
    "duration": 13,
    "start_time": "2023-10-04T05:23:54.993Z"
   },
   {
    "duration": 57,
    "start_time": "2023-10-04T05:23:55.009Z"
   },
   {
    "duration": 41,
    "start_time": "2023-10-04T05:23:55.068Z"
   },
   {
    "duration": 81,
    "start_time": "2023-10-04T05:23:55.111Z"
   },
   {
    "duration": 907,
    "start_time": "2023-10-04T05:23:55.194Z"
   },
   {
    "duration": 955,
    "start_time": "2023-10-04T05:23:56.103Z"
   },
   {
    "duration": 336,
    "start_time": "2023-10-04T05:23:57.060Z"
   },
   {
    "duration": 368,
    "start_time": "2023-10-04T05:23:57.398Z"
   },
   {
    "duration": 8,
    "start_time": "2023-10-04T05:23:57.768Z"
   },
   {
    "duration": 341,
    "start_time": "2023-10-04T05:23:57.777Z"
   },
   {
    "duration": 471,
    "start_time": "2023-10-04T05:23:58.120Z"
   },
   {
    "duration": 268,
    "start_time": "2023-10-04T05:23:58.593Z"
   },
   {
    "duration": 273,
    "start_time": "2023-10-04T05:23:58.864Z"
   },
   {
    "duration": 6,
    "start_time": "2023-10-04T05:23:59.138Z"
   },
   {
    "duration": 50,
    "start_time": "2023-10-04T05:23:59.146Z"
   },
   {
    "duration": 4,
    "start_time": "2023-10-04T05:23:59.198Z"
   },
   {
    "duration": 20,
    "start_time": "2023-10-04T05:23:59.203Z"
   },
   {
    "duration": 16,
    "start_time": "2023-10-04T05:23:59.225Z"
   },
   {
    "duration": 22,
    "start_time": "2023-10-04T05:23:59.243Z"
   },
   {
    "duration": 8,
    "start_time": "2023-10-04T05:23:59.269Z"
   },
   {
    "duration": 28,
    "start_time": "2023-10-04T05:23:59.278Z"
   },
   {
    "duration": 17,
    "start_time": "2023-10-04T05:23:59.307Z"
   },
   {
    "duration": 28,
    "start_time": "2023-10-04T05:23:59.326Z"
   },
   {
    "duration": 70,
    "start_time": "2023-10-04T05:23:59.356Z"
   },
   {
    "duration": 58,
    "start_time": "2023-10-04T05:23:59.428Z"
   },
   {
    "duration": 488,
    "start_time": "2023-10-04T05:23:59.488Z"
   },
   {
    "duration": 10133,
    "start_time": "2023-10-04T05:23:59.978Z"
   },
   {
    "duration": 3,
    "start_time": "2023-10-04T05:24:10.112Z"
   },
   {
    "duration": 45,
    "start_time": "2023-10-04T05:24:10.117Z"
   },
   {
    "duration": 9,
    "start_time": "2023-10-04T05:24:10.164Z"
   },
   {
    "duration": 443,
    "start_time": "2023-10-04T05:24:10.175Z"
   },
   {
    "duration": 5,
    "start_time": "2023-10-04T05:24:10.620Z"
   },
   {
    "duration": 47,
    "start_time": "2023-10-04T05:24:10.627Z"
   },
   {
    "duration": 365,
    "start_time": "2023-10-04T05:24:10.676Z"
   },
   {
    "duration": 4,
    "start_time": "2023-10-04T05:24:11.043Z"
   },
   {
    "duration": 983,
    "start_time": "2023-10-04T05:24:11.048Z"
   },
   {
    "duration": 391,
    "start_time": "2023-10-04T05:24:12.033Z"
   },
   {
    "duration": 4,
    "start_time": "2023-10-04T05:24:12.426Z"
   },
   {
    "duration": 1577,
    "start_time": "2023-10-04T05:24:39.292Z"
   },
   {
    "duration": 53,
    "start_time": "2023-10-04T05:24:40.871Z"
   },
   {
    "duration": 17,
    "start_time": "2023-10-04T05:24:40.925Z"
   },
   {
    "duration": 16,
    "start_time": "2023-10-04T05:24:40.943Z"
   },
   {
    "duration": 12,
    "start_time": "2023-10-04T05:24:40.961Z"
   },
   {
    "duration": 19,
    "start_time": "2023-10-04T05:24:40.975Z"
   },
   {
    "duration": 6,
    "start_time": "2023-10-04T05:24:41.000Z"
   },
   {
    "duration": 24,
    "start_time": "2023-10-04T05:24:41.007Z"
   },
   {
    "duration": 3,
    "start_time": "2023-10-04T05:24:41.033Z"
   },
   {
    "duration": 14,
    "start_time": "2023-10-04T05:24:41.038Z"
   },
   {
    "duration": 14,
    "start_time": "2023-10-04T05:24:41.054Z"
   },
   {
    "duration": 12,
    "start_time": "2023-10-04T05:24:41.069Z"
   },
   {
    "duration": 897,
    "start_time": "2023-10-04T05:24:41.083Z"
   },
   {
    "duration": 1025,
    "start_time": "2023-10-04T05:24:41.983Z"
   },
   {
    "duration": 392,
    "start_time": "2023-10-04T05:24:43.010Z"
   },
   {
    "duration": 429,
    "start_time": "2023-10-04T05:24:43.405Z"
   },
   {
    "duration": 9,
    "start_time": "2023-10-04T05:24:43.836Z"
   },
   {
    "duration": 541,
    "start_time": "2023-10-04T05:24:43.847Z"
   },
   {
    "duration": 564,
    "start_time": "2023-10-04T05:24:44.390Z"
   },
   {
    "duration": 259,
    "start_time": "2023-10-04T05:24:44.956Z"
   },
   {
    "duration": 261,
    "start_time": "2023-10-04T05:24:45.217Z"
   },
   {
    "duration": 4,
    "start_time": "2023-10-04T05:24:45.479Z"
   },
   {
    "duration": 65,
    "start_time": "2023-10-04T05:24:45.485Z"
   },
   {
    "duration": 5,
    "start_time": "2023-10-04T05:24:45.552Z"
   },
   {
    "duration": 21,
    "start_time": "2023-10-04T05:24:45.559Z"
   },
   {
    "duration": 20,
    "start_time": "2023-10-04T05:24:45.582Z"
   },
   {
    "duration": 16,
    "start_time": "2023-10-04T05:24:45.604Z"
   },
   {
    "duration": 9,
    "start_time": "2023-10-04T05:24:45.622Z"
   },
   {
    "duration": 35,
    "start_time": "2023-10-04T05:24:45.633Z"
   },
   {
    "duration": 53,
    "start_time": "2023-10-04T05:24:45.670Z"
   },
   {
    "duration": 24,
    "start_time": "2023-10-04T05:24:45.726Z"
   },
   {
    "duration": 8,
    "start_time": "2023-10-04T05:24:45.752Z"
   },
   {
    "duration": 9,
    "start_time": "2023-10-04T05:24:45.802Z"
   },
   {
    "duration": 524,
    "start_time": "2023-10-04T05:24:45.813Z"
   },
   {
    "duration": 9615,
    "start_time": "2023-10-04T05:24:46.339Z"
   },
   {
    "duration": 4,
    "start_time": "2023-10-04T05:24:55.956Z"
   },
   {
    "duration": 46,
    "start_time": "2023-10-04T05:24:55.961Z"
   },
   {
    "duration": 93,
    "start_time": "2023-10-04T05:24:56.009Z"
   },
   {
    "duration": 530,
    "start_time": "2023-10-04T05:24:56.105Z"
   },
   {
    "duration": 4,
    "start_time": "2023-10-04T05:24:56.637Z"
   },
   {
    "duration": 45,
    "start_time": "2023-10-04T05:24:56.644Z"
   },
   {
    "duration": 427,
    "start_time": "2023-10-04T05:24:56.691Z"
   },
   {
    "duration": 4,
    "start_time": "2023-10-04T05:24:57.120Z"
   },
   {
    "duration": 893,
    "start_time": "2023-10-04T05:24:57.126Z"
   },
   {
    "duration": 423,
    "start_time": "2023-10-04T05:24:58.020Z"
   },
   {
    "duration": 4,
    "start_time": "2023-10-04T05:24:58.444Z"
   },
   {
    "duration": 1567,
    "start_time": "2023-10-04T05:25:50.617Z"
   },
   {
    "duration": 52,
    "start_time": "2023-10-04T05:25:52.186Z"
   },
   {
    "duration": 14,
    "start_time": "2023-10-04T05:25:52.240Z"
   },
   {
    "duration": 49,
    "start_time": "2023-10-04T05:25:52.256Z"
   },
   {
    "duration": 4,
    "start_time": "2023-10-04T05:25:52.309Z"
   },
   {
    "duration": 48,
    "start_time": "2023-10-04T05:25:52.315Z"
   },
   {
    "duration": 17,
    "start_time": "2023-10-04T05:25:52.365Z"
   },
   {
    "duration": 45,
    "start_time": "2023-10-04T05:25:52.384Z"
   },
   {
    "duration": 4,
    "start_time": "2023-10-04T05:25:52.431Z"
   },
   {
    "duration": 27,
    "start_time": "2023-10-04T05:25:52.436Z"
   },
   {
    "duration": 13,
    "start_time": "2023-10-04T05:25:52.465Z"
   },
   {
    "duration": 21,
    "start_time": "2023-10-04T05:25:52.480Z"
   },
   {
    "duration": 961,
    "start_time": "2023-10-04T05:25:52.503Z"
   },
   {
    "duration": 970,
    "start_time": "2023-10-04T05:25:53.467Z"
   },
   {
    "duration": 397,
    "start_time": "2023-10-04T05:25:54.438Z"
   },
   {
    "duration": 365,
    "start_time": "2023-10-04T05:25:54.837Z"
   },
   {
    "duration": 7,
    "start_time": "2023-10-04T05:25:55.204Z"
   },
   {
    "duration": 371,
    "start_time": "2023-10-04T05:25:55.213Z"
   },
   {
    "duration": 466,
    "start_time": "2023-10-04T05:25:55.586Z"
   },
   {
    "duration": 250,
    "start_time": "2023-10-04T05:25:56.054Z"
   },
   {
    "duration": 262,
    "start_time": "2023-10-04T05:25:56.306Z"
   },
   {
    "duration": 5,
    "start_time": "2023-10-04T05:25:56.569Z"
   },
   {
    "duration": 53,
    "start_time": "2023-10-04T05:25:56.575Z"
   },
   {
    "duration": 4,
    "start_time": "2023-10-04T05:25:56.630Z"
   },
   {
    "duration": 10,
    "start_time": "2023-10-04T05:25:56.636Z"
   },
   {
    "duration": 27,
    "start_time": "2023-10-04T05:25:56.648Z"
   },
   {
    "duration": 10,
    "start_time": "2023-10-04T05:25:56.677Z"
   },
   {
    "duration": 3,
    "start_time": "2023-10-04T05:25:56.688Z"
   },
   {
    "duration": 5,
    "start_time": "2023-10-04T05:25:56.693Z"
   },
   {
    "duration": 19,
    "start_time": "2023-10-04T05:25:56.700Z"
   },
   {
    "duration": 16,
    "start_time": "2023-10-04T05:25:56.721Z"
   },
   {
    "duration": 7,
    "start_time": "2023-10-04T05:25:56.739Z"
   },
   {
    "duration": 53,
    "start_time": "2023-10-04T05:25:56.748Z"
   },
   {
    "duration": 482,
    "start_time": "2023-10-04T05:25:56.803Z"
   },
   {
    "duration": 9423,
    "start_time": "2023-10-04T05:25:57.287Z"
   },
   {
    "duration": 3,
    "start_time": "2023-10-04T05:26:06.712Z"
   },
   {
    "duration": 209,
    "start_time": "2023-10-04T05:26:06.717Z"
   },
   {
    "duration": 42,
    "start_time": "2023-10-04T05:26:06.929Z"
   },
   {
    "duration": 563,
    "start_time": "2023-10-04T05:26:07.000Z"
   },
   {
    "duration": 4,
    "start_time": "2023-10-04T05:26:07.565Z"
   },
   {
    "duration": 64,
    "start_time": "2023-10-04T05:26:07.572Z"
   },
   {
    "duration": 510,
    "start_time": "2023-10-04T05:26:07.638Z"
   },
   {
    "duration": 4,
    "start_time": "2023-10-04T05:26:08.149Z"
   },
   {
    "duration": 920,
    "start_time": "2023-10-04T05:26:08.155Z"
   },
   {
    "duration": 478,
    "start_time": "2023-10-04T05:26:09.077Z"
   },
   {
    "duration": 5,
    "start_time": "2023-10-04T05:26:09.557Z"
   },
   {
    "duration": 1583,
    "start_time": "2023-10-04T05:26:45.067Z"
   },
   {
    "duration": 50,
    "start_time": "2023-10-04T05:26:46.652Z"
   },
   {
    "duration": 13,
    "start_time": "2023-10-04T05:26:46.704Z"
   },
   {
    "duration": 27,
    "start_time": "2023-10-04T05:26:46.719Z"
   },
   {
    "duration": 19,
    "start_time": "2023-10-04T05:26:46.749Z"
   },
   {
    "duration": 30,
    "start_time": "2023-10-04T05:26:46.770Z"
   },
   {
    "duration": 36,
    "start_time": "2023-10-04T05:26:46.802Z"
   },
   {
    "duration": 42,
    "start_time": "2023-10-04T05:26:46.840Z"
   },
   {
    "duration": 22,
    "start_time": "2023-10-04T05:26:46.883Z"
   },
   {
    "duration": 51,
    "start_time": "2023-10-04T05:26:46.906Z"
   },
   {
    "duration": 32,
    "start_time": "2023-10-04T05:26:46.959Z"
   },
   {
    "duration": 31,
    "start_time": "2023-10-04T05:26:46.993Z"
   },
   {
    "duration": 936,
    "start_time": "2023-10-04T05:26:47.026Z"
   },
   {
    "duration": 942,
    "start_time": "2023-10-04T05:26:47.965Z"
   },
   {
    "duration": 332,
    "start_time": "2023-10-04T05:26:48.908Z"
   },
   {
    "duration": 372,
    "start_time": "2023-10-04T05:26:49.242Z"
   },
   {
    "duration": 8,
    "start_time": "2023-10-04T05:26:49.616Z"
   },
   {
    "duration": 344,
    "start_time": "2023-10-04T05:26:49.625Z"
   },
   {
    "duration": 459,
    "start_time": "2023-10-04T05:26:49.971Z"
   },
   {
    "duration": 252,
    "start_time": "2023-10-04T05:26:50.432Z"
   },
   {
    "duration": 260,
    "start_time": "2023-10-04T05:26:50.686Z"
   },
   {
    "duration": 4,
    "start_time": "2023-10-04T05:26:50.948Z"
   },
   {
    "duration": 62,
    "start_time": "2023-10-04T05:26:50.954Z"
   },
   {
    "duration": 21,
    "start_time": "2023-10-04T05:26:51.018Z"
   },
   {
    "duration": 16,
    "start_time": "2023-10-04T05:26:51.041Z"
   },
   {
    "duration": 14,
    "start_time": "2023-10-04T05:26:51.059Z"
   },
   {
    "duration": 22,
    "start_time": "2023-10-04T05:26:51.075Z"
   },
   {
    "duration": 3,
    "start_time": "2023-10-04T05:26:51.100Z"
   },
   {
    "duration": 26,
    "start_time": "2023-10-04T05:26:51.105Z"
   },
   {
    "duration": 21,
    "start_time": "2023-10-04T05:26:51.133Z"
   },
   {
    "duration": 25,
    "start_time": "2023-10-04T05:26:51.155Z"
   },
   {
    "duration": 19,
    "start_time": "2023-10-04T05:26:51.182Z"
   },
   {
    "duration": 64,
    "start_time": "2023-10-04T05:26:51.203Z"
   },
   {
    "duration": 475,
    "start_time": "2023-10-04T05:26:51.269Z"
   },
   {
    "duration": 9727,
    "start_time": "2023-10-04T05:26:51.745Z"
   },
   {
    "duration": 4,
    "start_time": "2023-10-04T05:27:01.473Z"
   },
   {
    "duration": 39,
    "start_time": "2023-10-04T05:27:01.479Z"
   },
   {
    "duration": 172,
    "start_time": "2023-10-04T05:27:01.520Z"
   },
   {
    "duration": 631,
    "start_time": "2023-10-04T05:27:01.706Z"
   },
   {
    "duration": 248,
    "start_time": "2023-10-04T05:27:02.339Z"
   },
   {
    "duration": 131,
    "start_time": "2023-10-04T05:27:02.590Z"
   },
   {
    "duration": 469,
    "start_time": "2023-10-04T05:27:02.722Z"
   },
   {
    "duration": 10,
    "start_time": "2023-10-04T05:27:03.193Z"
   },
   {
    "duration": 1037,
    "start_time": "2023-10-04T05:27:03.205Z"
   },
   {
    "duration": 503,
    "start_time": "2023-10-04T05:27:04.245Z"
   },
   {
    "duration": 4,
    "start_time": "2023-10-04T05:27:04.750Z"
   },
   {
    "duration": 4,
    "start_time": "2023-10-04T05:28:37.748Z"
   },
   {
    "duration": 4,
    "start_time": "2023-10-04T05:28:41.176Z"
   },
   {
    "duration": 3,
    "start_time": "2023-10-04T05:30:03.386Z"
   },
   {
    "duration": 5,
    "start_time": "2023-10-04T05:30:06.877Z"
   },
   {
    "duration": 5,
    "start_time": "2023-10-04T05:30:12.223Z"
   },
   {
    "duration": 4,
    "start_time": "2023-10-04T05:30:16.092Z"
   },
   {
    "duration": 762,
    "start_time": "2023-10-04T05:30:56.720Z"
   },
   {
    "duration": 933,
    "start_time": "2023-10-04T05:31:00.522Z"
   },
   {
    "duration": 990,
    "start_time": "2023-10-04T05:31:04.023Z"
   },
   {
    "duration": 1052,
    "start_time": "2023-10-04T05:31:07.623Z"
   },
   {
    "duration": 1136,
    "start_time": "2023-10-04T05:31:12.939Z"
   },
   {
    "duration": 155,
    "start_time": "2023-10-04T05:31:16.554Z"
   },
   {
    "duration": 1179,
    "start_time": "2023-10-04T05:31:20.509Z"
   },
   {
    "duration": 1114,
    "start_time": "2023-10-04T05:31:25.153Z"
   },
   {
    "duration": 1422,
    "start_time": "2023-10-04T05:31:37.679Z"
   },
   {
    "duration": 84,
    "start_time": "2023-10-04T05:31:45.238Z"
   },
   {
    "duration": 792,
    "start_time": "2023-10-04T05:31:51.927Z"
   },
   {
    "duration": 1116,
    "start_time": "2023-10-04T05:31:55.154Z"
   },
   {
    "duration": 1587,
    "start_time": "2023-10-04T05:34:58.738Z"
   },
   {
    "duration": 52,
    "start_time": "2023-10-04T05:35:00.327Z"
   },
   {
    "duration": 757,
    "start_time": "2023-10-04T05:35:00.381Z"
   },
   {
    "duration": 389,
    "start_time": "2023-10-04T05:35:01.139Z"
   },
   {
    "duration": 199,
    "start_time": "2023-10-04T05:35:01.531Z"
   },
   {
    "duration": 88,
    "start_time": "2023-10-04T05:35:01.731Z"
   },
   {
    "duration": 191,
    "start_time": "2023-10-04T05:35:01.821Z"
   },
   {
    "duration": 219,
    "start_time": "2023-10-04T05:35:02.015Z"
   },
   {
    "duration": 180,
    "start_time": "2023-10-04T05:35:02.236Z"
   },
   {
    "duration": 249,
    "start_time": "2023-10-04T05:35:02.418Z"
   },
   {
    "duration": 72,
    "start_time": "2023-10-04T05:35:02.669Z"
   },
   {
    "duration": 40,
    "start_time": "2023-10-04T05:35:02.742Z"
   },
   {
    "duration": 926,
    "start_time": "2023-10-04T05:35:02.784Z"
   },
   {
    "duration": 1041,
    "start_time": "2023-10-04T05:35:03.719Z"
   },
   {
    "duration": 364,
    "start_time": "2023-10-04T05:35:04.762Z"
   },
   {
    "duration": 386,
    "start_time": "2023-10-04T05:35:05.128Z"
   },
   {
    "duration": 8,
    "start_time": "2023-10-04T05:35:05.516Z"
   },
   {
    "duration": 379,
    "start_time": "2023-10-04T05:35:05.526Z"
   },
   {
    "duration": 478,
    "start_time": "2023-10-04T05:35:05.918Z"
   },
   {
    "duration": 285,
    "start_time": "2023-10-04T05:35:06.401Z"
   },
   {
    "duration": 270,
    "start_time": "2023-10-04T05:35:06.688Z"
   },
   {
    "duration": 4,
    "start_time": "2023-10-04T05:35:06.960Z"
   },
   {
    "duration": 54,
    "start_time": "2023-10-04T05:35:06.965Z"
   },
   {
    "duration": 3,
    "start_time": "2023-10-04T05:35:07.021Z"
   },
   {
    "duration": 13,
    "start_time": "2023-10-04T05:35:07.026Z"
   },
   {
    "duration": 15,
    "start_time": "2023-10-04T05:35:07.041Z"
   },
   {
    "duration": 20,
    "start_time": "2023-10-04T05:35:07.058Z"
   },
   {
    "duration": 35,
    "start_time": "2023-10-04T05:35:07.080Z"
   },
   {
    "duration": 35,
    "start_time": "2023-10-04T05:35:07.116Z"
   },
   {
    "duration": 28,
    "start_time": "2023-10-04T05:35:07.154Z"
   },
   {
    "duration": 26,
    "start_time": "2023-10-04T05:35:07.184Z"
   },
   {
    "duration": 19,
    "start_time": "2023-10-04T05:35:07.214Z"
   },
   {
    "duration": 66,
    "start_time": "2023-10-04T05:35:07.235Z"
   },
   {
    "duration": 535,
    "start_time": "2023-10-04T05:35:07.303Z"
   },
   {
    "duration": 11297,
    "start_time": "2023-10-04T05:35:07.840Z"
   },
   {
    "duration": 4,
    "start_time": "2023-10-04T05:35:19.138Z"
   },
   {
    "duration": 8,
    "start_time": "2023-10-04T05:35:19.143Z"
   },
   {
    "duration": 413,
    "start_time": "2023-10-04T05:35:19.153Z"
   },
   {
    "duration": 20,
    "start_time": "2023-10-04T05:35:19.568Z"
   },
   {
    "duration": 327,
    "start_time": "2023-10-04T05:35:19.601Z"
   },
   {
    "duration": 1385,
    "start_time": "2023-10-04T05:35:19.932Z"
   },
   {
    "duration": 329,
    "start_time": "2023-10-04T05:35:21.319Z"
   },
   {
    "duration": 1541,
    "start_time": "2023-10-04T05:36:02.320Z"
   },
   {
    "duration": 56,
    "start_time": "2023-10-04T05:36:03.863Z"
   },
   {
    "duration": 200,
    "start_time": "2023-10-04T05:36:03.920Z"
   },
   {
    "duration": 62,
    "start_time": "2023-10-04T05:36:04.122Z"
   },
   {
    "duration": 36,
    "start_time": "2023-10-04T05:36:04.187Z"
   },
   {
    "duration": 35,
    "start_time": "2023-10-04T05:36:04.225Z"
   },
   {
    "duration": 48,
    "start_time": "2023-10-04T05:36:04.262Z"
   },
   {
    "duration": 49,
    "start_time": "2023-10-04T05:36:04.312Z"
   },
   {
    "duration": 19,
    "start_time": "2023-10-04T05:36:04.363Z"
   },
   {
    "duration": 27,
    "start_time": "2023-10-04T05:36:04.384Z"
   },
   {
    "duration": 12,
    "start_time": "2023-10-04T05:36:04.413Z"
   },
   {
    "duration": 12,
    "start_time": "2023-10-04T05:36:04.427Z"
   },
   {
    "duration": 987,
    "start_time": "2023-10-04T05:36:04.441Z"
   },
   {
    "duration": 999,
    "start_time": "2023-10-04T05:36:05.433Z"
   },
   {
    "duration": 355,
    "start_time": "2023-10-04T05:36:06.433Z"
   },
   {
    "duration": 402,
    "start_time": "2023-10-04T05:36:06.789Z"
   },
   {
    "duration": 16,
    "start_time": "2023-10-04T05:36:07.193Z"
   },
   {
    "duration": 352,
    "start_time": "2023-10-04T05:36:07.210Z"
   },
   {
    "duration": 485,
    "start_time": "2023-10-04T05:36:07.564Z"
   },
   {
    "duration": 281,
    "start_time": "2023-10-04T05:36:08.050Z"
   },
   {
    "duration": 263,
    "start_time": "2023-10-04T05:36:08.333Z"
   },
   {
    "duration": 16,
    "start_time": "2023-10-04T05:36:08.601Z"
   },
   {
    "duration": 43,
    "start_time": "2023-10-04T05:36:08.619Z"
   },
   {
    "duration": 16,
    "start_time": "2023-10-04T05:36:08.664Z"
   },
   {
    "duration": 34,
    "start_time": "2023-10-04T05:36:08.682Z"
   },
   {
    "duration": 14,
    "start_time": "2023-10-04T05:36:08.718Z"
   },
   {
    "duration": 26,
    "start_time": "2023-10-04T05:36:08.735Z"
   },
   {
    "duration": 10,
    "start_time": "2023-10-04T05:36:08.763Z"
   },
   {
    "duration": 24,
    "start_time": "2023-10-04T05:36:08.775Z"
   },
   {
    "duration": 57,
    "start_time": "2023-10-04T05:36:08.803Z"
   },
   {
    "duration": 47,
    "start_time": "2023-10-04T05:36:08.862Z"
   },
   {
    "duration": 9,
    "start_time": "2023-10-04T05:36:08.915Z"
   },
   {
    "duration": 44,
    "start_time": "2023-10-04T05:36:08.926Z"
   },
   {
    "duration": 632,
    "start_time": "2023-10-04T05:36:09.002Z"
   },
   {
    "duration": 12399,
    "start_time": "2023-10-04T05:36:09.636Z"
   },
   {
    "duration": 3,
    "start_time": "2023-10-04T05:36:22.037Z"
   },
   {
    "duration": 32,
    "start_time": "2023-10-04T05:36:22.042Z"
   },
   {
    "duration": 454,
    "start_time": "2023-10-04T05:36:22.077Z"
   },
   {
    "duration": 22,
    "start_time": "2023-10-04T05:36:22.533Z"
   },
   {
    "duration": 375,
    "start_time": "2023-10-04T05:36:22.557Z"
   },
   {
    "duration": 1625,
    "start_time": "2023-10-04T05:36:22.937Z"
   },
   {
    "duration": 417,
    "start_time": "2023-10-04T05:36:24.564Z"
   },
   {
    "duration": 1707,
    "start_time": "2023-10-04T05:38:34.045Z"
   },
   {
    "duration": 55,
    "start_time": "2023-10-04T05:38:35.754Z"
   },
   {
    "duration": 20,
    "start_time": "2023-10-04T05:38:35.810Z"
   },
   {
    "duration": 24,
    "start_time": "2023-10-04T05:38:35.832Z"
   },
   {
    "duration": 33,
    "start_time": "2023-10-04T05:38:35.859Z"
   },
   {
    "duration": 47,
    "start_time": "2023-10-04T05:38:35.894Z"
   },
   {
    "duration": 36,
    "start_time": "2023-10-04T05:38:35.944Z"
   },
   {
    "duration": 58,
    "start_time": "2023-10-04T05:38:35.982Z"
   },
   {
    "duration": 20,
    "start_time": "2023-10-04T05:38:36.042Z"
   },
   {
    "duration": 55,
    "start_time": "2023-10-04T05:38:36.064Z"
   },
   {
    "duration": 31,
    "start_time": "2023-10-04T05:38:36.126Z"
   },
   {
    "duration": 40,
    "start_time": "2023-10-04T05:38:36.159Z"
   },
   {
    "duration": 944,
    "start_time": "2023-10-04T05:38:36.201Z"
   },
   {
    "duration": 1103,
    "start_time": "2023-10-04T05:38:37.148Z"
   },
   {
    "duration": 436,
    "start_time": "2023-10-04T05:38:38.253Z"
   },
   {
    "duration": 430,
    "start_time": "2023-10-04T05:38:38.691Z"
   },
   {
    "duration": 9,
    "start_time": "2023-10-04T05:38:39.124Z"
   },
   {
    "duration": 402,
    "start_time": "2023-10-04T05:38:39.135Z"
   },
   {
    "duration": 515,
    "start_time": "2023-10-04T05:38:39.539Z"
   },
   {
    "duration": 285,
    "start_time": "2023-10-04T05:38:40.056Z"
   },
   {
    "duration": 302,
    "start_time": "2023-10-04T05:38:40.342Z"
   },
   {
    "duration": 4,
    "start_time": "2023-10-04T05:38:40.646Z"
   },
   {
    "duration": 62,
    "start_time": "2023-10-04T05:38:40.653Z"
   },
   {
    "duration": 4,
    "start_time": "2023-10-04T05:38:40.717Z"
   },
   {
    "duration": 15,
    "start_time": "2023-10-04T05:38:40.726Z"
   },
   {
    "duration": 25,
    "start_time": "2023-10-04T05:38:40.743Z"
   },
   {
    "duration": 21,
    "start_time": "2023-10-04T05:38:40.770Z"
   },
   {
    "duration": 32,
    "start_time": "2023-10-04T05:38:40.792Z"
   },
   {
    "duration": 3,
    "start_time": "2023-10-04T05:38:40.827Z"
   },
   {
    "duration": 20,
    "start_time": "2023-10-04T05:38:40.831Z"
   },
   {
    "duration": 19,
    "start_time": "2023-10-04T05:38:40.852Z"
   },
   {
    "duration": 17,
    "start_time": "2023-10-04T05:38:40.902Z"
   },
   {
    "duration": 32,
    "start_time": "2023-10-04T05:38:40.921Z"
   },
   {
    "duration": 608,
    "start_time": "2023-10-04T05:38:41.003Z"
   },
   {
    "duration": 14067,
    "start_time": "2023-10-04T05:38:41.612Z"
   },
   {
    "duration": 4,
    "start_time": "2023-10-04T05:38:55.680Z"
   },
   {
    "duration": 36,
    "start_time": "2023-10-04T05:38:55.685Z"
   },
   {
    "duration": 518,
    "start_time": "2023-10-04T05:38:55.723Z"
   },
   {
    "duration": 22,
    "start_time": "2023-10-04T05:38:56.242Z"
   },
   {
    "duration": 398,
    "start_time": "2023-10-04T05:38:56.266Z"
   },
   {
    "duration": 1854,
    "start_time": "2023-10-04T05:38:56.669Z"
   },
   {
    "duration": 397,
    "start_time": "2023-10-04T05:38:58.524Z"
   },
   {
    "duration": 1655,
    "start_time": "2023-10-04T05:39:36.933Z"
   },
   {
    "duration": 57,
    "start_time": "2023-10-04T05:39:38.590Z"
   },
   {
    "duration": 14,
    "start_time": "2023-10-04T05:39:38.649Z"
   },
   {
    "duration": 16,
    "start_time": "2023-10-04T05:39:38.665Z"
   },
   {
    "duration": 4,
    "start_time": "2023-10-04T05:39:38.683Z"
   },
   {
    "duration": 17,
    "start_time": "2023-10-04T05:39:38.689Z"
   },
   {
    "duration": 27,
    "start_time": "2023-10-04T05:39:38.710Z"
   },
   {
    "duration": 30,
    "start_time": "2023-10-04T05:39:38.739Z"
   },
   {
    "duration": 3,
    "start_time": "2023-10-04T05:39:38.771Z"
   },
   {
    "duration": 11,
    "start_time": "2023-10-04T05:39:38.777Z"
   },
   {
    "duration": 13,
    "start_time": "2023-10-04T05:39:38.789Z"
   },
   {
    "duration": 15,
    "start_time": "2023-10-04T05:39:38.810Z"
   },
   {
    "duration": 902,
    "start_time": "2023-10-04T05:39:38.829Z"
   },
   {
    "duration": 1137,
    "start_time": "2023-10-04T05:39:39.733Z"
   },
   {
    "duration": 378,
    "start_time": "2023-10-04T05:39:40.872Z"
   },
   {
    "duration": 406,
    "start_time": "2023-10-04T05:39:41.252Z"
   },
   {
    "duration": 7,
    "start_time": "2023-10-04T05:39:41.660Z"
   },
   {
    "duration": 378,
    "start_time": "2023-10-04T05:39:41.668Z"
   },
   {
    "duration": 503,
    "start_time": "2023-10-04T05:39:42.048Z"
   },
   {
    "duration": 298,
    "start_time": "2023-10-04T05:39:42.552Z"
   },
   {
    "duration": 294,
    "start_time": "2023-10-04T05:39:42.851Z"
   },
   {
    "duration": 4,
    "start_time": "2023-10-04T05:39:43.147Z"
   },
   {
    "duration": 72,
    "start_time": "2023-10-04T05:39:43.153Z"
   },
   {
    "duration": 8,
    "start_time": "2023-10-04T05:39:43.226Z"
   },
   {
    "duration": 22,
    "start_time": "2023-10-04T05:39:43.237Z"
   },
   {
    "duration": 42,
    "start_time": "2023-10-04T05:39:43.261Z"
   },
   {
    "duration": 82,
    "start_time": "2023-10-04T05:39:43.311Z"
   },
   {
    "duration": 61,
    "start_time": "2023-10-04T05:39:43.397Z"
   },
   {
    "duration": 12,
    "start_time": "2023-10-04T05:39:43.459Z"
   },
   {
    "duration": 23,
    "start_time": "2023-10-04T05:39:43.473Z"
   },
   {
    "duration": 42,
    "start_time": "2023-10-04T05:39:43.497Z"
   },
   {
    "duration": 20,
    "start_time": "2023-10-04T05:39:43.541Z"
   },
   {
    "duration": 50,
    "start_time": "2023-10-04T05:39:43.562Z"
   },
   {
    "duration": 576,
    "start_time": "2023-10-04T05:39:43.615Z"
   },
   {
    "duration": 11735,
    "start_time": "2023-10-04T05:39:44.192Z"
   },
   {
    "duration": 5,
    "start_time": "2023-10-04T05:39:55.929Z"
   },
   {
    "duration": 371,
    "start_time": "2023-10-04T05:39:55.936Z"
   },
   {
    "duration": 459,
    "start_time": "2023-10-04T05:39:56.317Z"
   },
   {
    "duration": 45,
    "start_time": "2023-10-04T05:39:56.778Z"
   },
   {
    "duration": 370,
    "start_time": "2023-10-04T05:39:56.835Z"
   },
   {
    "duration": 1508,
    "start_time": "2023-10-04T05:39:57.210Z"
   },
   {
    "duration": 351,
    "start_time": "2023-10-04T05:39:58.723Z"
   },
   {
    "duration": 1492,
    "start_time": "2023-10-04T05:40:25.902Z"
   },
   {
    "duration": 1641,
    "start_time": "2023-10-04T05:45:01.036Z"
   },
   {
    "duration": 51,
    "start_time": "2023-10-04T05:45:02.679Z"
   },
   {
    "duration": 191,
    "start_time": "2023-10-04T05:45:02.732Z"
   },
   {
    "duration": 528,
    "start_time": "2023-10-04T05:45:02.924Z"
   },
   {
    "duration": 1556,
    "start_time": "2023-10-04T05:45:03.454Z"
   },
   {
    "duration": 531,
    "start_time": "2023-10-04T05:45:05.012Z"
   },
   {
    "duration": 41,
    "start_time": "2023-10-04T05:45:05.544Z"
   },
   {
    "duration": 117,
    "start_time": "2023-10-04T05:45:05.586Z"
   },
   {
    "duration": 59,
    "start_time": "2023-10-04T05:45:05.704Z"
   },
   {
    "duration": 52,
    "start_time": "2023-10-04T05:45:05.764Z"
   },
   {
    "duration": 47,
    "start_time": "2023-10-04T05:45:05.818Z"
   },
   {
    "duration": 30,
    "start_time": "2023-10-04T05:45:05.867Z"
   },
   {
    "duration": 905,
    "start_time": "2023-10-04T05:45:05.898Z"
   },
   {
    "duration": 950,
    "start_time": "2023-10-04T05:45:06.806Z"
   },
   {
    "duration": 349,
    "start_time": "2023-10-04T05:45:07.758Z"
   },
   {
    "duration": 381,
    "start_time": "2023-10-04T05:45:08.109Z"
   },
   {
    "duration": 8,
    "start_time": "2023-10-04T05:45:08.492Z"
   },
   {
    "duration": 432,
    "start_time": "2023-10-04T05:45:08.502Z"
   },
   {
    "duration": 451,
    "start_time": "2023-10-04T05:45:08.935Z"
   },
   {
    "duration": 266,
    "start_time": "2023-10-04T05:45:09.387Z"
   },
   {
    "duration": 383,
    "start_time": "2023-10-04T05:45:09.656Z"
   },
   {
    "duration": 4,
    "start_time": "2023-10-04T05:45:10.041Z"
   },
   {
    "duration": 161,
    "start_time": "2023-10-04T05:45:10.046Z"
   },
   {
    "duration": 54,
    "start_time": "2023-10-04T05:45:10.208Z"
   },
   {
    "duration": 55,
    "start_time": "2023-10-04T05:45:10.264Z"
   },
   {
    "duration": 50,
    "start_time": "2023-10-04T05:45:10.320Z"
   },
   {
    "duration": 36,
    "start_time": "2023-10-04T05:45:10.372Z"
   },
   {
    "duration": 73,
    "start_time": "2023-10-04T05:45:10.410Z"
   },
   {
    "duration": 243,
    "start_time": "2023-10-04T05:45:10.485Z"
   },
   {
    "duration": 52,
    "start_time": "2023-10-04T05:45:10.730Z"
   },
   {
    "duration": 23,
    "start_time": "2023-10-04T05:45:10.783Z"
   },
   {
    "duration": 31,
    "start_time": "2023-10-04T05:45:10.808Z"
   },
   {
    "duration": 30,
    "start_time": "2023-10-04T05:45:10.841Z"
   },
   {
    "duration": 543,
    "start_time": "2023-10-04T05:45:10.901Z"
   },
   {
    "duration": 10878,
    "start_time": "2023-10-04T05:45:11.446Z"
   },
   {
    "duration": 3,
    "start_time": "2023-10-04T05:45:22.326Z"
   },
   {
    "duration": 16,
    "start_time": "2023-10-04T05:45:22.330Z"
   },
   {
    "duration": 406,
    "start_time": "2023-10-04T05:45:22.348Z"
   },
   {
    "duration": 19,
    "start_time": "2023-10-04T05:45:22.756Z"
   },
   {
    "duration": 329,
    "start_time": "2023-10-04T05:45:22.777Z"
   },
   {
    "duration": 1401,
    "start_time": "2023-10-04T05:45:23.110Z"
   },
   {
    "duration": 393,
    "start_time": "2023-10-04T05:45:24.513Z"
   }
  ],
  "kernelspec": {
   "display_name": "Python 3 (ipykernel)",
   "language": "python",
   "name": "python3"
  },
  "language_info": {
   "codemirror_mode": {
    "name": "ipython",
    "version": 3
   },
   "file_extension": ".py",
   "mimetype": "text/x-python",
   "name": "python",
   "nbconvert_exporter": "python",
   "pygments_lexer": "ipython3",
   "version": "3.10.9"
  },
  "toc": {
   "base_numbering": 1,
   "nav_menu": {},
   "number_sections": true,
   "sideBar": true,
   "skip_h1_title": true,
   "title_cell": "Содержание",
   "title_sidebar": "Contents",
   "toc_cell": true,
   "toc_position": {},
   "toc_section_display": true,
   "toc_window_display": true
  }
 },
 "nbformat": 4,
 "nbformat_minor": 2
}
