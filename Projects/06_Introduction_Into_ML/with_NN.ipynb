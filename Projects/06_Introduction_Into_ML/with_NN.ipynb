{
 "cells": [
  {
   "cell_type": "markdown",
   "metadata": {},
   "source": [
    "\n",
    "Привет, меня зовут Люман Аблаев. Сегодня я проверю твой проект.\n",
    "<br> Дальнейшее общение будет происходить на \"ты\" если это не вызывает никаких проблем.\n",
    "<br> Желательно реагировать на красные комментарии ('исправил', 'не понятно как исправить ошибку', ...)\n",
    "<br> Пожалуйста, не удаляй комментарии ревьюера, так как они повышают качество повторного ревью.\n",
    "\n",
    "Комментарии будут в <font color='green'>зеленой</font>, <font color='blue'>синей</font> или <font color='red'>красной</font> рамках:\n",
    "\n",
    "<div class=\"alert alert-block alert-success\">\n",
    "<b>Успех:</b> Если все сделано отлично\n",
    "</div>\n",
    "\n",
    "<div class=\"alert alert-block alert-info\">\n",
    "<b>Совет: </b> Если можно немного улучшить\n",
    "</div>\n",
    "\n",
    "<div class=\"alert alert-block alert-danger\">\n",
    "<b>Ошибка:</b> Если требуются исправления. Работа не может быть принята с красными комментариями.\n",
    "</div>\n",
    "\n",
    "-------------------\n",
    "\n",
    "Будет очень хорошо, если ты будешь помечать свои действия следующим образом:\n",
    "<div class=\"alert alert-block alert-warning\">\n",
    "<b>Комментарий студента:</b> ...\n",
    "</div>\n",
    "\n",
    "<div class=\"alert alert-block alert-warning\">\n",
    "<b>Изменения:</b> Были внесены следующие изменения ...\n",
    "</div>\n",
    "\n",
    "<font color='orange' style='font-size:24px; font-weight:bold'>Общее впечатление</font>\n",
    "* Спасибо за такую хорошую работу, мне она очень понравилась \n",
    "- Я оставил некоторые советы, надеюсь они будут полезными или интересными.\n",
    "* Тебе удалось успешно справиться с текущей задачей. Поздравляю!\n",
    "* Отправляю проект назад, чтобы у тебя была возможность задать вопросы, если они у тебя есть. Если их нет, то можешь просто отправить проект еще раз и я его зачту.\n",
    "\n"
   ]
  },
  {
   "cell_type": "markdown",
   "metadata": {},
   "source": [
    "# Рекомендация тарифов"
   ]
  },
  {
   "cell_type": "markdown",
   "metadata": {},
   "source": [
    "В вашем распоряжении данные о поведении клиентов, которые уже перешли на эти тарифы (из проекта курса «Статистический анализ данных»). Нужно построить модель для задачи классификации, которая выберет подходящий тариф. Предобработка данных не понадобится — вы её уже сделали.\n",
    "\n",
    "Постройте модель с максимально большим значением *accuracy*. Чтобы сдать проект успешно, нужно довести долю правильных ответов по крайней мере до 0.75. Проверьте *accuracy* на тестовой выборке самостоятельно."
   ]
  },
  {
   "cell_type": "markdown",
   "metadata": {},
   "source": [
    "## Откройте и изучите файл"
   ]
  },
  {
   "cell_type": "markdown",
   "metadata": {},
   "source": [
    "**ТЗ**\n",
    "\n",
    "- Изучить файл с телефонными тарифами и создать модель для рекомендации тарифа\n",
    "- Рассмотреть несколько моделей для решения задачи бинарной классификации\n",
    "- Деревья решений, Случайный лес, Логистическую регрессиию\n",
    "- Подобрать гиперпараметры моделей\n",
    "- На основе метрики accuracy оценить качество модели\n",
    "- Общий вывод\n",
    "\n",
    "**Описание данных**\n",
    "\n",
    "- сalls — количество звонков,\n",
    "- minutes — суммарная длительность звонков в минутах,\n",
    "- messages — количество sms-сообщений,\n",
    "- mb_used — израсходованный интернет-трафик в Мб,\n",
    "- is_ultra — каким тарифом пользовался в течение месяца («Ультра» — 1, «Смарт» — 0)."
   ]
  },
  {
   "cell_type": "code",
   "execution_count": 1,
   "metadata": {},
   "outputs": [
    {
     "name": "stderr",
     "output_type": "stream",
     "text": [
      "2023-07-21 20:25:04.834605: I tensorflow/core/platform/cpu_feature_guard.cc:193] This TensorFlow binary is optimized with oneAPI Deep Neural Network Library (oneDNN) to use the following CPU instructions in performance-critical operations:  SSE4.1 SSE4.2\n",
      "To enable them in other operations, rebuild TensorFlow with the appropriate compiler flags.\n"
     ]
    }
   ],
   "source": [
    "import pandas as pd\n",
    "import numpy as np\n",
    "import matplotlib.pyplot as plt\n",
    "%matplotlib inline\n",
    "import seaborn as sns\n",
    "sns.set_theme(style='whitegrid')\n",
    "from sklearn.model_selection import train_test_split, cross_val_score\n",
    "from sklearn.metrics import accuracy_score\n",
    "from sklearn.linear_model import LogisticRegression\n",
    "from sklearn.tree import DecisionTreeClassifier\n",
    "from sklearn.ensemble import RandomForestClassifier\n",
    "import tensorflow as tf\n",
    "import warnings\n",
    "warnings.simplefilter('ignore')"
   ]
  },
  {
   "cell_type": "markdown",
   "metadata": {},
   "source": [
    "<div class=\"alert alert-block alert-success\">\n",
    "<b>Успех:</b> Молодец, что собираешь все импорты в верхней части ноутбука! \n",
    "Если у того, кто будет запускать твой ноутбук будут отсутствовать некоторые библиотеки, то он это увидит сразу, а не в процессе!\n",
    "</div>"
   ]
  },
  {
   "cell_type": "code",
   "execution_count": 2,
   "metadata": {},
   "outputs": [
    {
     "data": {
      "text/html": [
       "<div>\n",
       "<style scoped>\n",
       "    .dataframe tbody tr th:only-of-type {\n",
       "        vertical-align: middle;\n",
       "    }\n",
       "\n",
       "    .dataframe tbody tr th {\n",
       "        vertical-align: top;\n",
       "    }\n",
       "\n",
       "    .dataframe thead th {\n",
       "        text-align: right;\n",
       "    }\n",
       "</style>\n",
       "<table border=\"1\" class=\"dataframe\">\n",
       "  <thead>\n",
       "    <tr style=\"text-align: right;\">\n",
       "      <th></th>\n",
       "      <th>calls</th>\n",
       "      <th>minutes</th>\n",
       "      <th>messages</th>\n",
       "      <th>mb_used</th>\n",
       "      <th>is_ultra</th>\n",
       "    </tr>\n",
       "  </thead>\n",
       "  <tbody>\n",
       "    <tr>\n",
       "      <th>0</th>\n",
       "      <td>40.0</td>\n",
       "      <td>311.90</td>\n",
       "      <td>83.0</td>\n",
       "      <td>19915.42</td>\n",
       "      <td>0</td>\n",
       "    </tr>\n",
       "    <tr>\n",
       "      <th>1</th>\n",
       "      <td>85.0</td>\n",
       "      <td>516.75</td>\n",
       "      <td>56.0</td>\n",
       "      <td>22696.96</td>\n",
       "      <td>0</td>\n",
       "    </tr>\n",
       "    <tr>\n",
       "      <th>2</th>\n",
       "      <td>77.0</td>\n",
       "      <td>467.66</td>\n",
       "      <td>86.0</td>\n",
       "      <td>21060.45</td>\n",
       "      <td>0</td>\n",
       "    </tr>\n",
       "    <tr>\n",
       "      <th>3</th>\n",
       "      <td>106.0</td>\n",
       "      <td>745.53</td>\n",
       "      <td>81.0</td>\n",
       "      <td>8437.39</td>\n",
       "      <td>1</td>\n",
       "    </tr>\n",
       "    <tr>\n",
       "      <th>4</th>\n",
       "      <td>66.0</td>\n",
       "      <td>418.74</td>\n",
       "      <td>1.0</td>\n",
       "      <td>14502.75</td>\n",
       "      <td>0</td>\n",
       "    </tr>\n",
       "  </tbody>\n",
       "</table>\n",
       "</div>"
      ],
      "text/plain": [
       "   calls  minutes  messages   mb_used  is_ultra\n",
       "0   40.0   311.90      83.0  19915.42         0\n",
       "1   85.0   516.75      56.0  22696.96         0\n",
       "2   77.0   467.66      86.0  21060.45         0\n",
       "3  106.0   745.53      81.0   8437.39         1\n",
       "4   66.0   418.74       1.0  14502.75         0"
      ]
     },
     "execution_count": 2,
     "metadata": {},
     "output_type": "execute_result"
    }
   ],
   "source": [
    "df = pd.read_csv('/Users/kirillkasickij/Downloads/users_behavior.csv', encoding='UTF-8')\n",
    "df.head()"
   ]
  },
  {
   "cell_type": "code",
   "execution_count": 3,
   "metadata": {},
   "outputs": [
    {
     "data": {
      "text/plain": [
       "(3214, 5)"
      ]
     },
     "execution_count": 3,
     "metadata": {},
     "output_type": "execute_result"
    }
   ],
   "source": [
    "df.shape"
   ]
  },
  {
   "cell_type": "code",
   "execution_count": 4,
   "metadata": {},
   "outputs": [
    {
     "data": {
      "text/html": [
       "<div>\n",
       "<style scoped>\n",
       "    .dataframe tbody tr th:only-of-type {\n",
       "        vertical-align: middle;\n",
       "    }\n",
       "\n",
       "    .dataframe tbody tr th {\n",
       "        vertical-align: top;\n",
       "    }\n",
       "\n",
       "    .dataframe thead th {\n",
       "        text-align: right;\n",
       "    }\n",
       "</style>\n",
       "<table border=\"1\" class=\"dataframe\">\n",
       "  <thead>\n",
       "    <tr style=\"text-align: right;\">\n",
       "      <th></th>\n",
       "      <th>count</th>\n",
       "      <th>mean</th>\n",
       "      <th>std</th>\n",
       "      <th>min</th>\n",
       "      <th>25%</th>\n",
       "      <th>50%</th>\n",
       "      <th>75%</th>\n",
       "      <th>max</th>\n",
       "    </tr>\n",
       "  </thead>\n",
       "  <tbody>\n",
       "    <tr>\n",
       "      <th>calls</th>\n",
       "      <td>3214.0</td>\n",
       "      <td>63.038892</td>\n",
       "      <td>33.236368</td>\n",
       "      <td>0.0</td>\n",
       "      <td>40.0000</td>\n",
       "      <td>62.000</td>\n",
       "      <td>82.0000</td>\n",
       "      <td>244.00</td>\n",
       "    </tr>\n",
       "    <tr>\n",
       "      <th>minutes</th>\n",
       "      <td>3214.0</td>\n",
       "      <td>438.208787</td>\n",
       "      <td>234.569872</td>\n",
       "      <td>0.0</td>\n",
       "      <td>274.5750</td>\n",
       "      <td>430.600</td>\n",
       "      <td>571.9275</td>\n",
       "      <td>1632.06</td>\n",
       "    </tr>\n",
       "    <tr>\n",
       "      <th>messages</th>\n",
       "      <td>3214.0</td>\n",
       "      <td>38.281269</td>\n",
       "      <td>36.148326</td>\n",
       "      <td>0.0</td>\n",
       "      <td>9.0000</td>\n",
       "      <td>30.000</td>\n",
       "      <td>57.0000</td>\n",
       "      <td>224.00</td>\n",
       "    </tr>\n",
       "    <tr>\n",
       "      <th>mb_used</th>\n",
       "      <td>3214.0</td>\n",
       "      <td>17207.673836</td>\n",
       "      <td>7570.968246</td>\n",
       "      <td>0.0</td>\n",
       "      <td>12491.9025</td>\n",
       "      <td>16943.235</td>\n",
       "      <td>21424.7000</td>\n",
       "      <td>49745.73</td>\n",
       "    </tr>\n",
       "    <tr>\n",
       "      <th>is_ultra</th>\n",
       "      <td>3214.0</td>\n",
       "      <td>0.306472</td>\n",
       "      <td>0.461100</td>\n",
       "      <td>0.0</td>\n",
       "      <td>0.0000</td>\n",
       "      <td>0.000</td>\n",
       "      <td>1.0000</td>\n",
       "      <td>1.00</td>\n",
       "    </tr>\n",
       "  </tbody>\n",
       "</table>\n",
       "</div>"
      ],
      "text/plain": [
       "           count          mean          std  min         25%        50%  \\\n",
       "calls     3214.0     63.038892    33.236368  0.0     40.0000     62.000   \n",
       "minutes   3214.0    438.208787   234.569872  0.0    274.5750    430.600   \n",
       "messages  3214.0     38.281269    36.148326  0.0      9.0000     30.000   \n",
       "mb_used   3214.0  17207.673836  7570.968246  0.0  12491.9025  16943.235   \n",
       "is_ultra  3214.0      0.306472     0.461100  0.0      0.0000      0.000   \n",
       "\n",
       "                 75%       max  \n",
       "calls        82.0000    244.00  \n",
       "minutes     571.9275   1632.06  \n",
       "messages     57.0000    224.00  \n",
       "mb_used   21424.7000  49745.73  \n",
       "is_ultra      1.0000      1.00  "
      ]
     },
     "execution_count": 4,
     "metadata": {},
     "output_type": "execute_result"
    }
   ],
   "source": [
    "df.describe().T"
   ]
  },
  {
   "cell_type": "code",
   "execution_count": 5,
   "metadata": {},
   "outputs": [
    {
     "data": {
      "text/plain": [
       "calls       0\n",
       "minutes     0\n",
       "messages    0\n",
       "mb_used     0\n",
       "is_ultra    0\n",
       "dtype: int64"
      ]
     },
     "execution_count": 5,
     "metadata": {},
     "output_type": "execute_result"
    }
   ],
   "source": [
    "df.isna().sum()"
   ]
  },
  {
   "cell_type": "code",
   "execution_count": 6,
   "metadata": {},
   "outputs": [
    {
     "name": "stdout",
     "output_type": "stream",
     "text": [
      "<class 'pandas.core.frame.DataFrame'>\n",
      "RangeIndex: 3214 entries, 0 to 3213\n",
      "Data columns (total 5 columns):\n",
      " #   Column    Non-Null Count  Dtype  \n",
      "---  ------    --------------  -----  \n",
      " 0   calls     3214 non-null   float64\n",
      " 1   minutes   3214 non-null   float64\n",
      " 2   messages  3214 non-null   float64\n",
      " 3   mb_used   3214 non-null   float64\n",
      " 4   is_ultra  3214 non-null   int64  \n",
      "dtypes: float64(4), int64(1)\n",
      "memory usage: 125.7 KB\n"
     ]
    }
   ],
   "source": [
    "df.info()"
   ]
  },
  {
   "cell_type": "code",
   "execution_count": 7,
   "metadata": {},
   "outputs": [
    {
     "data": {
      "image/png": "[encoded data removed]",
      "text/plain": [
       "<Figure size 640x480 with 1 Axes>"
      ]
     },
     "metadata": {},
     "output_type": "display_data"
    }
   ],
   "source": [
    "plt.hist(df['calls'], bins=10)\n",
    "plt.title('Распределение по calls')\n",
    "plt.ylabel('Количество звонящих')\n",
    "plt.xlabel('Количество звонков')\n",
    "plt.grid(True)\n",
    "plt.show()"
   ]
  },
  {
   "cell_type": "markdown",
   "metadata": {},
   "source": [
    "**Вывод**\n",
    "\n",
    "В основном, пользователи совершают 30-70 звонков в месяц. Очень редки случаи на 100+ звонков"
   ]
  },
  {
   "cell_type": "code",
   "execution_count": 8,
   "metadata": {},
   "outputs": [
    {
     "data": {
      "image/png": "[encoded data removed]",
      "text/plain": [
       "<Figure size 640x480 with 1 Axes>"
      ]
     },
     "metadata": {},
     "output_type": "display_data"
    }
   ],
   "source": [
    "plt.hist(df['minutes'], bins=10)\n",
    "plt.title('Распределение по minutes')\n",
    "plt.ylabel('Количество звонящих')\n",
    "plt.xlabel('Длительность')\n",
    "plt.grid(True)\n",
    "plt.show()"
   ]
  },
  {
   "cell_type": "markdown",
   "metadata": {},
   "source": [
    "**Вывод**\n",
    "\n",
    "Большинство пользователей расходует 200-600 минут в месяц"
   ]
  },
  {
   "cell_type": "code",
   "execution_count": 9,
   "metadata": {},
   "outputs": [
    {
     "data": {
      "image/png": "[encoded data removed]",
      "text/plain": [
       "<Figure size 640x480 with 1 Axes>"
      ]
     },
     "metadata": {},
     "output_type": "display_data"
    }
   ],
   "source": [
    "plt.hist(df['messages'], bins=10)\n",
    "plt.title('Распределение по messages')\n",
    "plt.ylabel('Количество пользователей')\n",
    "plt.xlabel('Количество СМС')\n",
    "plt.grid(True)\n",
    "plt.show()"
   ]
  },
  {
   "cell_type": "markdown",
   "metadata": {},
   "source": [
    "**Вывод**\n",
    "\n",
    "СМС не пользуются особой популярностью. Возможно, это связано с устареванием технологии и доступностю мессенджеров. Проверим это далее"
   ]
  },
  {
   "cell_type": "code",
   "execution_count": 10,
   "metadata": {},
   "outputs": [
    {
     "data": {
      "image/png": "[encoded data removed]",
      "text/plain": [
       "<Figure size 640x480 with 1 Axes>"
      ]
     },
     "metadata": {},
     "output_type": "display_data"
    }
   ],
   "source": [
    "plt.hist(df['mb_used'], bins=10)\n",
    "plt.title('Распределение по mb_used')\n",
    "plt.ylabel('Количество пользователей')\n",
    "plt.xlabel('Количество трифика в мегабайтах')\n",
    "plt.grid(True)\n",
    "plt.show()"
   ]
  },
  {
   "cell_type": "markdown",
   "metadata": {},
   "source": [
    "Действительно, в основном, пользователи расходуют 15000-25000 Мб интернета в месяц, вероятно, на соцсети, что объясняет низкую популярность СМС"
   ]
  },
  {
   "cell_type": "code",
   "execution_count": 11,
   "metadata": {},
   "outputs": [
    {
     "data": {
      "image/png": "[encoded data removed]",
      "text/plain": [
       "<Figure size 640x480 with 1 Axes>"
      ]
     },
     "metadata": {},
     "output_type": "display_data"
    }
   ],
   "source": [
    "tarif = df['is_ultra'].value_counts()\n",
    "tarif.plot.bar()\n",
    "plt.title('Тарифы')\n",
    "plt.ylabel('Количество пользователей')\n",
    "plt.xlabel('Тариф')\n",
    "plt.grid(True)\n",
    "plt.show()"
   ]
  },
  {
   "cell_type": "markdown",
   "metadata": {},
   "source": [
    "**Вывод**\n",
    "\n",
    "Тарифом Ультра пользуются значительно меньше (разница более, чем в 2 раза)"
   ]
  },
  {
   "cell_type": "code",
   "execution_count": 12,
   "metadata": {},
   "outputs": [
    {
     "data": {
      "image/png": "[encoded data removed]",
      "text/plain": [
       "<Figure size 700x500 with 2 Axes>"
      ]
     },
     "metadata": {},
     "output_type": "display_data"
    }
   ],
   "source": [
    "# Хочу посмотреть корреляцию между признаками\n",
    "# is_ultra удалил, потому что это категориальный признак и корреялция Пирсона не применима к нему\n",
    "corr_matrix = df.drop('is_ultra', axis=1).corr()\n",
    "plt.figure(figsize=(7, 5))\n",
    "sns.heatmap(corr_matrix, annot=True, cmap='coolwarm', fmt='.2f')\n",
    "plt.title('Матрица корреляции признаков')\n",
    "plt.show()"
   ]
  },
  {
   "cell_type": "markdown",
   "metadata": {},
   "source": [
    "**Вывод**\n",
    "\n",
    "- Слабая корреляция между пользованием интернетом и СМС\n",
    "- Сильная корреляция между количеством звонков и минутами\n",
    "- Слабая корреляция между звонками и пользованием интернетом, аналогично с минутами"
   ]
  },
  {
   "cell_type": "markdown",
   "metadata": {},
   "source": [
    "\n",
    "<div class=\"alert alert-block alert-success\">\n",
    "<b>Успех:</b>  Хороший осмотр данных! Такая корреляция между звонками и минутами - называется мультиколленаиарностью. Если мы удалим один из признаков, это может положительно сказаться на эффективности моделей\n",
    "</div>\n"
   ]
  },
  {
   "cell_type": "markdown",
   "metadata": {},
   "source": [
    "<div class=\"alert alert-info\">\n",
    "    \n",
    "<b>Совет:</b> Также  рекомендую посмотреть метод `sns.pairplot` с параметром hue, в который мы передаем целевой признак. \n",
    "</div>\n"
   ]
  },
  {
   "cell_type": "markdown",
   "metadata": {},
   "source": [
    "**Вывод по разделу**\n",
    "\n",
    "Мы открыли датасет и изучили основную информацию в нём посредством методов Pandas и визуализации"
   ]
  },
  {
   "cell_type": "markdown",
   "metadata": {},
   "source": [
    "## Разбейте данные на выборки"
   ]
  },
  {
   "cell_type": "code",
   "execution_count": 13,
   "metadata": {},
   "outputs": [],
   "source": [
    "# Делим датасет на 3 выборки: обучающую, валидационную и тестовую в соотношении 2:1:1\n",
    "features = df.drop('is_ultra', axis=1)\n",
    "target = df['is_ultra']\n",
    "\n",
    "X, X_test, y, y_test = train_test_split(features, \n",
    "                                        target, \n",
    "                                        random_state=12345, \n",
    "                                        test_size=0.25)\n",
    "X_train, X_val, y_train, y_val = train_test_split(X, y, \n",
    "                                                  random_state=12345,\n",
    "                                                  test_size=0.3333) #0.25 от общего числа"
   ]
  },
  {
   "cell_type": "code",
   "execution_count": 14,
   "metadata": {},
   "outputs": [
    {
     "name": "stdout",
     "output_type": "stream",
     "text": [
      "X_train: (1606, 4), y_train: (1606,)\n",
      "X_val: (804, 4), y_val: (804,)\n",
      "X_test: (804, 4), y_test: (804,)\n"
     ]
    }
   ],
   "source": [
    "print(f'X_train: {X_train.shape}, y_train: {y_train.shape}\\n'\n",
    "      f'X_val: {X_val.shape}, y_val: {y_val.shape}\\n'\n",
    "      f'X_test: {X_test.shape}, y_test: {y_test.shape}')"
   ]
  },
  {
   "cell_type": "markdown",
   "metadata": {},
   "source": [
    "\n",
    "<div class=\"alert alert-block alert-success\">  \n",
    "<b>Успех:</b> С разбиением все в порядке, молодец, что не забываешь проверять полученные выборки ,  это иной раз может предостеречь тебя от глупых ошибок.\n",
    "</div>  \n"
   ]
  },
  {
   "cell_type": "markdown",
   "metadata": {},
   "source": [
    "## Исследуйте модели"
   ]
  },
  {
   "cell_type": "code",
   "execution_count": 15,
   "metadata": {},
   "outputs": [
    {
     "data": {
      "text/plain": [
       "0.7375621890547264"
      ]
     },
     "execution_count": 15,
     "metadata": {},
     "output_type": "execute_result"
    }
   ],
   "source": [
    "model_regression = LogisticRegression(random_state=12345, solver='lbfgs', max_iter=1000)\n",
    "\n",
    "model_regression.fit(X_train, y_train)\n",
    "y_pred = model_regression.predict(X_val)\n",
    "accuracy_reg = accuracy_score(y_val, y_pred)\n",
    "accuracy_reg"
   ]
  },
  {
   "cell_type": "markdown",
   "metadata": {},
   "source": [
    "**Вывод**\n",
    "\n",
    "Реграссия показывает неплохой результат, однако, модель всё ещё нуждается в доработке"
   ]
  },
  {
   "cell_type": "code",
   "execution_count": 16,
   "metadata": {},
   "outputs": [
    {
     "data": {
      "text/plain": [
       "{1: 0.7437810945273632,\n",
       " 2: 0.7699004975124378,\n",
       " 3: 0.7873134328358209,\n",
       " 4: 0.7810945273631841,\n",
       " 5: 0.7798507462686567}"
      ]
     },
     "execution_count": 16,
     "metadata": {},
     "output_type": "execute_result"
    }
   ],
   "source": [
    "acc = {}\n",
    "\n",
    "for depth in range(1, 6):\n",
    "    model_tree = DecisionTreeClassifier(random_state=12345,\n",
    "                                        max_depth=depth,\n",
    "                                        criterion='gini')\n",
    "    model_tree.fit(X_train, y_train)\n",
    "    y_pred_tree = model_tree.predict(X_val)\n",
    "    accuracy_tree = accuracy_score(y_val, y_pred_tree)\n",
    "    acc.update({depth:accuracy_tree})\n",
    "\n",
    "acc"
   ]
  },
  {
   "cell_type": "code",
   "execution_count": 17,
   "metadata": {},
   "outputs": [
    {
     "data": {
      "image/png": "[encoded data removed]",
      "text/plain": [
       "<Figure size 640x480 with 1 Axes>"
      ]
     },
     "metadata": {},
     "output_type": "display_data"
    }
   ],
   "source": [
    "plt.bar(list(acc.keys()), list(acc.values()))\n",
    "plt.ylim(bottom=0.6)\n",
    "plt.title('Accuracy к глубине дерева')\n",
    "plt.xlabel('Глубина')\n",
    "plt.ylabel('Accuracy')\n",
    "plt.grid(True)\n",
    "plt.show()"
   ]
  },
  {
   "cell_type": "code",
   "execution_count": 18,
   "metadata": {},
   "outputs": [
    {
     "data": {
      "text/plain": [
       "\"model_tree = DecisionTreeClassifier(random_state=12345,\\n                                        max_depth=3,\\n                                        criterion='gini')\\n    model_tree.fit(X_train, y_train)\\n    y_pred_tree = model_tree.predict(X_val)\\n    accuracy_tree = accuracy_score(y_val, y_pred_tree\""
      ]
     },
     "execution_count": 18,
     "metadata": {},
     "output_type": "execute_result"
    }
   ],
   "source": [
    "'''model_tree = DecisionTreeClassifier(random_state=12345,\n",
    "                                        max_depth=3,\n",
    "                                        criterion='gini')\n",
    "    model_tree.fit(X_train, y_train)\n",
    "    y_pred_tree = model_tree.predict(X_val)\n",
    "    accuracy_tree = accuracy_score(y_val, y_pred_tree'''"
   ]
  },
  {
   "cell_type": "markdown",
   "metadata": {},
   "source": [
    "**Вывод**\n",
    "\n",
    "Дерево решений показывает результат лучше, чем логистическая регрессия. При глубине дерева = 3, accuracy достигает 0.787"
   ]
  },
  {
   "cell_type": "code",
   "execution_count": 19,
   "metadata": {},
   "outputs": [
    {
     "data": {
      "text/html": [
       "<div>\n",
       "<style scoped>\n",
       "    .dataframe tbody tr th:only-of-type {\n",
       "        vertical-align: middle;\n",
       "    }\n",
       "\n",
       "    .dataframe tbody tr th {\n",
       "        vertical-align: top;\n",
       "    }\n",
       "\n",
       "    .dataframe thead th {\n",
       "        text-align: right;\n",
       "    }\n",
       "</style>\n",
       "<table border=\"1\" class=\"dataframe\">\n",
       "  <thead>\n",
       "    <tr style=\"text-align: right;\">\n",
       "      <th></th>\n",
       "      <th>Max Depth</th>\n",
       "      <th>n_estimators</th>\n",
       "      <th>Accuracy</th>\n",
       "    </tr>\n",
       "  </thead>\n",
       "  <tbody>\n",
       "    <tr>\n",
       "      <th>0</th>\n",
       "      <td>1.0</td>\n",
       "      <td>1.0</td>\n",
       "      <td>0.730100</td>\n",
       "    </tr>\n",
       "    <tr>\n",
       "      <th>1</th>\n",
       "      <td>1.0</td>\n",
       "      <td>2.0</td>\n",
       "      <td>0.730100</td>\n",
       "    </tr>\n",
       "    <tr>\n",
       "      <th>2</th>\n",
       "      <td>1.0</td>\n",
       "      <td>3.0</td>\n",
       "      <td>0.730100</td>\n",
       "    </tr>\n",
       "    <tr>\n",
       "      <th>3</th>\n",
       "      <td>1.0</td>\n",
       "      <td>4.0</td>\n",
       "      <td>0.730100</td>\n",
       "    </tr>\n",
       "    <tr>\n",
       "      <th>4</th>\n",
       "      <td>1.0</td>\n",
       "      <td>5.0</td>\n",
       "      <td>0.728856</td>\n",
       "    </tr>\n",
       "    <tr>\n",
       "      <th>5</th>\n",
       "      <td>2.0</td>\n",
       "      <td>1.0</td>\n",
       "      <td>0.771144</td>\n",
       "    </tr>\n",
       "    <tr>\n",
       "      <th>6</th>\n",
       "      <td>2.0</td>\n",
       "      <td>2.0</td>\n",
       "      <td>0.772388</td>\n",
       "    </tr>\n",
       "    <tr>\n",
       "      <th>7</th>\n",
       "      <td>2.0</td>\n",
       "      <td>3.0</td>\n",
       "      <td>0.771144</td>\n",
       "    </tr>\n",
       "    <tr>\n",
       "      <th>8</th>\n",
       "      <td>2.0</td>\n",
       "      <td>4.0</td>\n",
       "      <td>0.779851</td>\n",
       "    </tr>\n",
       "    <tr>\n",
       "      <th>9</th>\n",
       "      <td>2.0</td>\n",
       "      <td>5.0</td>\n",
       "      <td>0.745025</td>\n",
       "    </tr>\n",
       "    <tr>\n",
       "      <th>10</th>\n",
       "      <td>3.0</td>\n",
       "      <td>1.0</td>\n",
       "      <td>0.769900</td>\n",
       "    </tr>\n",
       "    <tr>\n",
       "      <th>11</th>\n",
       "      <td>3.0</td>\n",
       "      <td>2.0</td>\n",
       "      <td>0.773632</td>\n",
       "    </tr>\n",
       "    <tr>\n",
       "      <th>12</th>\n",
       "      <td>3.0</td>\n",
       "      <td>3.0</td>\n",
       "      <td>0.781095</td>\n",
       "    </tr>\n",
       "    <tr>\n",
       "      <th>13</th>\n",
       "      <td>3.0</td>\n",
       "      <td>4.0</td>\n",
       "      <td>0.782338</td>\n",
       "    </tr>\n",
       "    <tr>\n",
       "      <th>14</th>\n",
       "      <td>3.0</td>\n",
       "      <td>5.0</td>\n",
       "      <td>0.779851</td>\n",
       "    </tr>\n",
       "    <tr>\n",
       "      <th>15</th>\n",
       "      <td>4.0</td>\n",
       "      <td>1.0</td>\n",
       "      <td>0.778607</td>\n",
       "    </tr>\n",
       "    <tr>\n",
       "      <th>16</th>\n",
       "      <td>4.0</td>\n",
       "      <td>2.0</td>\n",
       "      <td>0.779851</td>\n",
       "    </tr>\n",
       "    <tr>\n",
       "      <th>17</th>\n",
       "      <td>4.0</td>\n",
       "      <td>3.0</td>\n",
       "      <td>0.778607</td>\n",
       "    </tr>\n",
       "    <tr>\n",
       "      <th>18</th>\n",
       "      <td>4.0</td>\n",
       "      <td>4.0</td>\n",
       "      <td>0.786070</td>\n",
       "    </tr>\n",
       "    <tr>\n",
       "      <th>19</th>\n",
       "      <td>4.0</td>\n",
       "      <td>5.0</td>\n",
       "      <td>0.786070</td>\n",
       "    </tr>\n",
       "    <tr>\n",
       "      <th>20</th>\n",
       "      <td>5.0</td>\n",
       "      <td>1.0</td>\n",
       "      <td>0.777363</td>\n",
       "    </tr>\n",
       "    <tr>\n",
       "      <th>21</th>\n",
       "      <td>5.0</td>\n",
       "      <td>2.0</td>\n",
       "      <td>0.771144</td>\n",
       "    </tr>\n",
       "    <tr>\n",
       "      <th>22</th>\n",
       "      <td>5.0</td>\n",
       "      <td>3.0</td>\n",
       "      <td>0.791045</td>\n",
       "    </tr>\n",
       "    <tr>\n",
       "      <th>23</th>\n",
       "      <td>5.0</td>\n",
       "      <td>4.0</td>\n",
       "      <td>0.793532</td>\n",
       "    </tr>\n",
       "    <tr>\n",
       "      <th>24</th>\n",
       "      <td>5.0</td>\n",
       "      <td>5.0</td>\n",
       "      <td>0.793532</td>\n",
       "    </tr>\n",
       "  </tbody>\n",
       "</table>\n",
       "</div>"
      ],
      "text/plain": [
       "    Max Depth  n_estimators  Accuracy\n",
       "0         1.0           1.0  0.730100\n",
       "1         1.0           2.0  0.730100\n",
       "2         1.0           3.0  0.730100\n",
       "3         1.0           4.0  0.730100\n",
       "4         1.0           5.0  0.728856\n",
       "5         2.0           1.0  0.771144\n",
       "6         2.0           2.0  0.772388\n",
       "7         2.0           3.0  0.771144\n",
       "8         2.0           4.0  0.779851\n",
       "9         2.0           5.0  0.745025\n",
       "10        3.0           1.0  0.769900\n",
       "11        3.0           2.0  0.773632\n",
       "12        3.0           3.0  0.781095\n",
       "13        3.0           4.0  0.782338\n",
       "14        3.0           5.0  0.779851\n",
       "15        4.0           1.0  0.778607\n",
       "16        4.0           2.0  0.779851\n",
       "17        4.0           3.0  0.778607\n",
       "18        4.0           4.0  0.786070\n",
       "19        4.0           5.0  0.786070\n",
       "20        5.0           1.0  0.777363\n",
       "21        5.0           2.0  0.771144\n",
       "22        5.0           3.0  0.791045\n",
       "23        5.0           4.0  0.793532\n",
       "24        5.0           5.0  0.793532"
      ]
     },
     "execution_count": 19,
     "metadata": {},
     "output_type": "execute_result"
    }
   ],
   "source": [
    "acc_matrix = pd.DataFrame(columns=['Max Depth', 'n_estimators', 'Accuracy'])\n",
    "\n",
    "for depth in range(1, 6):\n",
    "    for est in range(1, 6):\n",
    "        model_forest = RandomForestClassifier(random_state=12345,\n",
    "                                              max_depth=depth,\n",
    "                                              n_estimators=est)\n",
    "        model_forest.fit(X_train, y_train)\n",
    "        y_tree_forest = model_forest.predict(X_val)\n",
    "        accuracy_forest = accuracy_score(y_val, y_tree_forest)\n",
    "        \n",
    "        acc_matrix = acc_matrix.append({'Max Depth': depth, \n",
    "                                        'n_estimators': est, \n",
    "                                        'Accuracy': accuracy_forest}, \n",
    "                                        ignore_index=True)\n",
    "        \n",
    "acc_matrix"
   ]
  },
  {
   "cell_type": "code",
   "execution_count": 20,
   "metadata": {},
   "outputs": [
    {
     "data": {
      "text/plain": [
       "Max Depth       5.000000\n",
       "n_estimators    4.000000\n",
       "Accuracy        0.793532\n",
       "Name: 23, dtype: float64"
      ]
     },
     "execution_count": 20,
     "metadata": {},
     "output_type": "execute_result"
    }
   ],
   "source": [
    "acc_matrix.loc[acc_matrix['Accuracy'].idxmax()]"
   ]
  },
  {
   "cell_type": "markdown",
   "metadata": {},
   "source": [
    "**Вывод**\n",
    "\n",
    "Случайный лес показывает лучший результат: 0.793 при глубине 5 и количестве деревьев 4. Однако, стоить поминть, что большая модель склонна к переобучению, поэтому стоит её проверить."
   ]
  },
  {
   "cell_type": "markdown",
   "metadata": {},
   "source": [
    "<div class=\"alert alert-block alert-success\">\n",
    "<b>Успех:</b> Хорошо проделан шаг. Радует корректное использование валидационной выборки \n",
    "</div>\n"
   ]
  },
  {
   "cell_type": "markdown",
   "metadata": {},
   "source": [
    "## Проверьте модель на тестовой выборке"
   ]
  },
  {
   "cell_type": "markdown",
   "metadata": {},
   "source": [
    "Мы выяснили, что лучший результат показывает Случайный Лес с глубиной 5 и количетсвом деревьев 4. Значит, построим модель с аналогичными геперпараметрами и проверим качество модели уже на тестовой выборке, а не на валидационной.\n",
    "\n",
    "Если accuracy на валидационной выборке больше, что модель переобучилась"
   ]
  },
  {
   "cell_type": "code",
   "execution_count": 21,
   "metadata": {},
   "outputs": [
    {
     "data": {
      "text/plain": [
       "0.7935323383084577"
      ]
     },
     "execution_count": 21,
     "metadata": {},
     "output_type": "execute_result"
    }
   ],
   "source": [
    "model_forest = RandomForestClassifier(random_state=12345,\n",
    "                                              max_depth=5,\n",
    "                                              n_estimators=4)\n",
    "model_forest.fit(X_train, y_train)\n",
    "\n",
    "test_prediction_forest = model_forest.predict(X_test)\n",
    "accuracy_test_forest = accuracy_score(y_test, test_prediction_forest)\n",
    "accuracy_test_forest"
   ]
  },
  {
   "cell_type": "markdown",
   "metadata": {},
   "source": [
    "**Вывод**\n",
    "\n",
    "Accuracy на тестовой выборке получиось аналогичным получившемуся на валидационной выборке. Это значит, что модель не переобучилась и имеет хорошее качество."
   ]
  },
  {
   "cell_type": "markdown",
   "metadata": {},
   "source": [
    "<div class=\"alert alert-block alert-success\">\n",
    "<b>Успех:</b> С тестирование все в порядке.\n",
    "\n",
    "</div>"
   ]
  },
  {
   "cell_type": "markdown",
   "metadata": {},
   "source": [
    "\n",
    "<div class=\"alert alert-block alert-info\">\n",
    "<b>Совет:</b> \n",
    " Перед тестированием можно объединять валидационную и тренировочную выборку в одну обучающую, это может дать нам немного качества  (но не гарантирует этого)<br> \n",
    "</div>"
   ]
  },
  {
   "cell_type": "code",
   "execution_count": 22,
   "metadata": {},
   "outputs": [
    {
     "name": "stdout",
     "output_type": "stream",
     "text": [
      "Model: \"sequential\"\n",
      "_________________________________________________________________\n",
      " Layer (type)                Output Shape              Param #   \n",
      "=================================================================\n",
      " dense (Dense)               (None, 10)                50        \n",
      "                                                                 \n",
      " dense_1 (Dense)             (None, 100)               1100      \n",
      "                                                                 \n",
      " dense_2 (Dense)             (None, 1)                 101       \n",
      "                                                                 \n",
      "=================================================================\n",
      "Total params: 1,251\n",
      "Trainable params: 1,251\n",
      "Non-trainable params: 0\n",
      "_________________________________________________________________\n"
     ]
    },
    {
     "name": "stderr",
     "output_type": "stream",
     "text": [
      "2023-07-21 20:25:09.909178: I tensorflow/core/platform/cpu_feature_guard.cc:193] This TensorFlow binary is optimized with oneAPI Deep Neural Network Library (oneDNN) to use the following CPU instructions in performance-critical operations:  SSE4.1 SSE4.2\n",
      "To enable them in other operations, rebuild TensorFlow with the appropriate compiler flags.\n"
     ]
    }
   ],
   "source": [
    "model_nn = tf.keras.Sequential([\n",
    "    tf.keras.layers.Dense(10, input_shape=(4,), activation='relu'),\n",
    "    tf.keras.layers.Dense(100, activation='relu'),\n",
    "    tf.keras.layers.Dense(1, activation='sigmoid')\n",
    "])\n",
    "model_nn.summary()"
   ]
  },
  {
   "cell_type": "code",
   "execution_count": 23,
   "metadata": {},
   "outputs": [
    {
     "name": "stdout",
     "output_type": "stream",
     "text": [
      "Epoch 1/500\n",
      "51/51 [==============================] - 0s 1ms/step - loss: 796.3441 - acc: 0.4720\n",
      "Epoch 2/500\n",
      "51/51 [==============================] - 0s 999us/step - loss: 23.7368 - acc: 0.5915\n",
      "Epoch 3/500\n",
      "51/51 [==============================] - 0s 964us/step - loss: 9.2215 - acc: 0.5922\n",
      "Epoch 4/500\n",
      "51/51 [==============================] - 0s 947us/step - loss: 7.2909 - acc: 0.5859\n",
      "Epoch 5/500\n",
      "51/51 [==============================] - 0s 940us/step - loss: 10.9013 - acc: 0.5604\n",
      "Epoch 6/500\n",
      "51/51 [==============================] - 0s 951us/step - loss: 9.8020 - acc: 0.5523\n",
      "Epoch 7/500\n",
      "51/51 [==============================] - 0s 953us/step - loss: 13.2777 - acc: 0.5635\n",
      "Epoch 8/500\n",
      "51/51 [==============================] - 0s 977us/step - loss: 9.1792 - acc: 0.5704\n",
      "Epoch 9/500\n",
      "51/51 [==============================] - 0s 964us/step - loss: 12.0412 - acc: 0.5859\n",
      "Epoch 10/500\n",
      "51/51 [==============================] - 0s 942us/step - loss: 9.2538 - acc: 0.5666\n",
      "Epoch 11/500\n",
      "51/51 [==============================] - 0s 960us/step - loss: 13.1640 - acc: 0.5722\n",
      "Epoch 12/500\n",
      "51/51 [==============================] - 0s 942us/step - loss: 18.5658 - acc: 0.5616\n",
      "Epoch 13/500\n",
      "51/51 [==============================] - 0s 946us/step - loss: 16.2600 - acc: 0.5648\n",
      "Epoch 14/500\n",
      "51/51 [==============================] - 0s 942us/step - loss: 12.2494 - acc: 0.5959\n",
      "Epoch 15/500\n",
      "51/51 [==============================] - 0s 957us/step - loss: 9.0152 - acc: 0.5897\n",
      "Epoch 16/500\n",
      "51/51 [==============================] - 0s 939us/step - loss: 11.1171 - acc: 0.5716\n",
      "Epoch 17/500\n",
      "51/51 [==============================] - 0s 959us/step - loss: 6.9335 - acc: 0.5803\n",
      "Epoch 18/500\n",
      "51/51 [==============================] - 0s 939us/step - loss: 10.6244 - acc: 0.5822\n",
      "Epoch 19/500\n",
      "51/51 [==============================] - 0s 946us/step - loss: 11.8949 - acc: 0.5753\n",
      "Epoch 20/500\n",
      "51/51 [==============================] - 0s 947us/step - loss: 10.0167 - acc: 0.5560\n",
      "Epoch 21/500\n",
      "51/51 [==============================] - 0s 935us/step - loss: 7.5006 - acc: 0.5567\n",
      "Epoch 22/500\n",
      "51/51 [==============================] - 0s 925us/step - loss: 15.1659 - acc: 0.5760\n",
      "Epoch 23/500\n",
      "51/51 [==============================] - 0s 933us/step - loss: 10.5592 - acc: 0.5766\n",
      "Epoch 24/500\n",
      "51/51 [==============================] - 0s 943us/step - loss: 10.4840 - acc: 0.5841\n",
      "Epoch 25/500\n",
      "51/51 [==============================] - 0s 931us/step - loss: 7.4268 - acc: 0.5747\n",
      "Epoch 26/500\n",
      "51/51 [==============================] - 0s 932us/step - loss: 7.4795 - acc: 0.5841\n",
      "Epoch 27/500\n",
      "51/51 [==============================] - 0s 942us/step - loss: 10.7233 - acc: 0.5735\n",
      "Epoch 28/500\n",
      "51/51 [==============================] - 0s 945us/step - loss: 15.2211 - acc: 0.5654\n",
      "Epoch 29/500\n",
      "51/51 [==============================] - 0s 934us/step - loss: 11.8099 - acc: 0.5710\n",
      "Epoch 30/500\n",
      "51/51 [==============================] - 0s 929us/step - loss: 10.6851 - acc: 0.5560\n",
      "Epoch 31/500\n",
      "51/51 [==============================] - 0s 941us/step - loss: 8.2060 - acc: 0.5760\n",
      "Epoch 32/500\n",
      "51/51 [==============================] - 0s 930us/step - loss: 5.8197 - acc: 0.5641\n",
      "Epoch 33/500\n",
      "51/51 [==============================] - 0s 931us/step - loss: 4.9745 - acc: 0.5809\n",
      "Epoch 34/500\n",
      "51/51 [==============================] - 0s 939us/step - loss: 8.9076 - acc: 0.5672\n",
      "Epoch 35/500\n",
      "51/51 [==============================] - 0s 944us/step - loss: 6.0741 - acc: 0.5841\n",
      "Epoch 36/500\n",
      "51/51 [==============================] - 0s 937us/step - loss: 7.8665 - acc: 0.5853\n",
      "Epoch 37/500\n",
      "51/51 [==============================] - 0s 941us/step - loss: 6.0122 - acc: 0.5797\n",
      "Epoch 38/500\n",
      "51/51 [==============================] - 0s 933us/step - loss: 7.5262 - acc: 0.5741\n",
      "Epoch 39/500\n",
      "51/51 [==============================] - 0s 947us/step - loss: 3.5679 - acc: 0.5996\n",
      "Epoch 40/500\n",
      "51/51 [==============================] - 0s 941us/step - loss: 16.8447 - acc: 0.5859\n",
      "Epoch 41/500\n",
      "51/51 [==============================] - 0s 933us/step - loss: 8.5391 - acc: 0.5803\n",
      "Epoch 42/500\n",
      "51/51 [==============================] - 0s 930us/step - loss: 4.0970 - acc: 0.5834\n",
      "Epoch 43/500\n",
      "51/51 [==============================] - 0s 926us/step - loss: 9.1708 - acc: 0.5859\n",
      "Epoch 44/500\n",
      "51/51 [==============================] - 0s 946us/step - loss: 12.9058 - acc: 0.5467\n",
      "Epoch 45/500\n",
      "51/51 [==============================] - 0s 925us/step - loss: 7.3880 - acc: 0.5859\n",
      "Epoch 46/500\n",
      "51/51 [==============================] - 0s 925us/step - loss: 5.3027 - acc: 0.5971\n",
      "Epoch 47/500\n",
      "51/51 [==============================] - 0s 924us/step - loss: 8.7789 - acc: 0.6108\n",
      "Epoch 48/500\n",
      "51/51 [==============================] - 0s 931us/step - loss: 4.8065 - acc: 0.5934\n",
      "Epoch 49/500\n",
      "51/51 [==============================] - 0s 931us/step - loss: 9.0579 - acc: 0.5766\n",
      "Epoch 50/500\n",
      "51/51 [==============================] - 0s 938us/step - loss: 8.8097 - acc: 0.5778\n",
      "Epoch 51/500\n",
      "51/51 [==============================] - 0s 944us/step - loss: 6.7898 - acc: 0.5990\n",
      "Epoch 52/500\n",
      "51/51 [==============================] - 0s 934us/step - loss: 10.7977 - acc: 0.5841\n",
      "Epoch 53/500\n",
      "51/51 [==============================] - 0s 946us/step - loss: 13.9298 - acc: 0.5741\n",
      "Epoch 54/500\n",
      "51/51 [==============================] - 0s 947us/step - loss: 7.2810 - acc: 0.6034\n",
      "Epoch 55/500\n",
      "51/51 [==============================] - 0s 956us/step - loss: 5.9628 - acc: 0.5760\n",
      "Epoch 56/500\n",
      "51/51 [==============================] - 0s 939us/step - loss: 11.0022 - acc: 0.5853\n",
      "Epoch 57/500\n",
      "51/51 [==============================] - 0s 949us/step - loss: 6.8493 - acc: 0.5523\n",
      "Epoch 58/500\n",
      "51/51 [==============================] - 0s 943us/step - loss: 9.7494 - acc: 0.5847\n",
      "Epoch 59/500\n",
      "51/51 [==============================] - 0s 927us/step - loss: 6.6883 - acc: 0.5741\n",
      "Epoch 60/500\n",
      "51/51 [==============================] - 0s 922us/step - loss: 7.6556 - acc: 0.5959\n",
      "Epoch 61/500\n",
      "51/51 [==============================] - 0s 931us/step - loss: 6.3532 - acc: 0.5866\n",
      "Epoch 62/500\n",
      "51/51 [==============================] - 0s 935us/step - loss: 10.1138 - acc: 0.5697\n",
      "Epoch 63/500\n",
      "51/51 [==============================] - 0s 938us/step - loss: 7.2974 - acc: 0.5990\n",
      "Epoch 64/500\n",
      "51/51 [==============================] - 0s 926us/step - loss: 7.2924 - acc: 0.5828\n",
      "Epoch 65/500\n",
      "51/51 [==============================] - 0s 925us/step - loss: 6.4700 - acc: 0.5934\n",
      "Epoch 66/500\n",
      "51/51 [==============================] - 0s 918us/step - loss: 6.0205 - acc: 0.6196\n",
      "Epoch 67/500\n",
      "51/51 [==============================] - 0s 919us/step - loss: 11.8737 - acc: 0.5697\n",
      "Epoch 68/500\n",
      "51/51 [==============================] - 0s 915us/step - loss: 7.0506 - acc: 0.5809\n",
      "Epoch 69/500\n",
      "51/51 [==============================] - 0s 912us/step - loss: 4.2288 - acc: 0.6133\n",
      "Epoch 70/500\n",
      "51/51 [==============================] - 0s 913us/step - loss: 4.5684 - acc: 0.5996\n",
      "Epoch 71/500\n",
      "51/51 [==============================] - 0s 932us/step - loss: 4.6194 - acc: 0.6183\n",
      "Epoch 72/500\n",
      "51/51 [==============================] - 0s 921us/step - loss: 6.1158 - acc: 0.5822\n",
      "Epoch 73/500\n",
      "51/51 [==============================] - 0s 923us/step - loss: 4.3086 - acc: 0.5940\n",
      "Epoch 74/500\n",
      "51/51 [==============================] - 0s 928us/step - loss: 4.9186 - acc: 0.5853\n",
      "Epoch 75/500\n",
      "51/51 [==============================] - 0s 933us/step - loss: 14.7393 - acc: 0.5542\n",
      "Epoch 76/500\n",
      "51/51 [==============================] - 0s 934us/step - loss: 9.4092 - acc: 0.5629\n",
      "Epoch 77/500\n",
      "51/51 [==============================] - 0s 925us/step - loss: 7.8320 - acc: 0.5915\n",
      "Epoch 78/500\n",
      "51/51 [==============================] - 0s 932us/step - loss: 5.9579 - acc: 0.6046\n",
      "Epoch 79/500\n",
      "51/51 [==============================] - 0s 934us/step - loss: 5.3595 - acc: 0.5934\n",
      "Epoch 80/500\n",
      "51/51 [==============================] - 0s 928us/step - loss: 11.3528 - acc: 0.5822\n",
      "Epoch 81/500\n",
      "51/51 [==============================] - 0s 932us/step - loss: 7.7420 - acc: 0.5934\n",
      "Epoch 82/500\n",
      "51/51 [==============================] - 0s 925us/step - loss: 2.9757 - acc: 0.6158\n",
      "Epoch 83/500\n",
      "51/51 [==============================] - 0s 920us/step - loss: 8.9819 - acc: 0.5872\n",
      "Epoch 84/500\n",
      "51/51 [==============================] - 0s 924us/step - loss: 6.4884 - acc: 0.5946\n",
      "Epoch 85/500\n"
     ]
    },
    {
     "name": "stdout",
     "output_type": "stream",
     "text": [
      "51/51 [==============================] - 0s 921us/step - loss: 9.9023 - acc: 0.5834\n",
      "Epoch 86/500\n",
      "51/51 [==============================] - 0s 923us/step - loss: 8.6837 - acc: 0.5897\n",
      "Epoch 87/500\n",
      "51/51 [==============================] - 0s 915us/step - loss: 4.7947 - acc: 0.5971\n",
      "Epoch 88/500\n",
      "51/51 [==============================] - 0s 899us/step - loss: 4.0343 - acc: 0.5822\n",
      "Epoch 89/500\n",
      "51/51 [==============================] - 0s 895us/step - loss: 4.6048 - acc: 0.5953\n",
      "Epoch 90/500\n",
      "51/51 [==============================] - 0s 906us/step - loss: 8.7257 - acc: 0.5909\n",
      "Epoch 91/500\n",
      "51/51 [==============================] - 0s 920us/step - loss: 4.7603 - acc: 0.5897\n",
      "Epoch 92/500\n",
      "51/51 [==============================] - 0s 926us/step - loss: 10.8811 - acc: 0.5978\n",
      "Epoch 93/500\n",
      "51/51 [==============================] - 0s 928us/step - loss: 3.5325 - acc: 0.6183\n",
      "Epoch 94/500\n",
      "51/51 [==============================] - 0s 923us/step - loss: 4.3883 - acc: 0.5971\n",
      "Epoch 95/500\n",
      "51/51 [==============================] - 0s 924us/step - loss: 7.7340 - acc: 0.5872\n",
      "Epoch 96/500\n",
      "51/51 [==============================] - 0s 911us/step - loss: 4.2279 - acc: 0.5922\n",
      "Epoch 97/500\n",
      "51/51 [==============================] - 0s 914us/step - loss: 7.9953 - acc: 0.5934\n",
      "Epoch 98/500\n",
      "51/51 [==============================] - 0s 917us/step - loss: 4.7670 - acc: 0.5959\n",
      "Epoch 99/500\n",
      "51/51 [==============================] - 0s 912us/step - loss: 9.1111 - acc: 0.5710\n",
      "Epoch 100/500\n",
      "51/51 [==============================] - 0s 917us/step - loss: 5.9168 - acc: 0.5909\n",
      "Epoch 101/500\n",
      "51/51 [==============================] - 0s 911us/step - loss: 3.3263 - acc: 0.6102\n",
      "Epoch 102/500\n",
      "51/51 [==============================] - 0s 914us/step - loss: 7.0460 - acc: 0.6040\n",
      "Epoch 103/500\n",
      "51/51 [==============================] - 0s 900us/step - loss: 10.6565 - acc: 0.6252\n",
      "Epoch 104/500\n",
      "51/51 [==============================] - 0s 913us/step - loss: 9.3219 - acc: 0.5654\n",
      "Epoch 105/500\n",
      "51/51 [==============================] - 0s 905us/step - loss: 4.8746 - acc: 0.5897\n",
      "Epoch 106/500\n",
      "51/51 [==============================] - 0s 913us/step - loss: 8.0344 - acc: 0.5828\n",
      "Epoch 107/500\n",
      "51/51 [==============================] - 0s 929us/step - loss: 7.5758 - acc: 0.5785\n",
      "Epoch 108/500\n",
      "51/51 [==============================] - 0s 921us/step - loss: 6.2161 - acc: 0.5890\n",
      "Epoch 109/500\n",
      "51/51 [==============================] - 0s 918us/step - loss: 7.6655 - acc: 0.5809\n",
      "Epoch 110/500\n",
      "51/51 [==============================] - 0s 909us/step - loss: 3.8246 - acc: 0.6102\n",
      "Epoch 111/500\n",
      "51/51 [==============================] - 0s 895us/step - loss: 3.6234 - acc: 0.6046\n",
      "Epoch 112/500\n",
      "51/51 [==============================] - 0s 912us/step - loss: 3.8210 - acc: 0.6214\n",
      "Epoch 113/500\n",
      "51/51 [==============================] - 0s 913us/step - loss: 5.5127 - acc: 0.5903\n",
      "Epoch 114/500\n",
      "51/51 [==============================] - 0s 915us/step - loss: 12.3325 - acc: 0.5803\n",
      "Epoch 115/500\n",
      "51/51 [==============================] - 0s 915us/step - loss: 9.2412 - acc: 0.6121\n",
      "Epoch 116/500\n",
      "51/51 [==============================] - 0s 916us/step - loss: 10.8817 - acc: 0.5772\n",
      "Epoch 117/500\n",
      "51/51 [==============================] - 0s 918us/step - loss: 6.0210 - acc: 0.5928\n",
      "Epoch 118/500\n",
      "51/51 [==============================] - 0s 914us/step - loss: 3.3920 - acc: 0.6015\n",
      "Epoch 119/500\n",
      "51/51 [==============================] - 0s 919us/step - loss: 5.6914 - acc: 0.5809\n",
      "Epoch 120/500\n",
      "51/51 [==============================] - 0s 912us/step - loss: 8.5158 - acc: 0.5623\n",
      "Epoch 121/500\n",
      "51/51 [==============================] - 0s 927us/step - loss: 7.3749 - acc: 0.6164\n",
      "Epoch 122/500\n",
      "51/51 [==============================] - 0s 922us/step - loss: 6.4996 - acc: 0.5884\n",
      "Epoch 123/500\n",
      "51/51 [==============================] - 0s 925us/step - loss: 5.7298 - acc: 0.6052\n",
      "Epoch 124/500\n",
      "51/51 [==============================] - 0s 935us/step - loss: 5.1732 - acc: 0.6077\n",
      "Epoch 125/500\n",
      "51/51 [==============================] - 0s 916us/step - loss: 2.5808 - acc: 0.6021\n",
      "Epoch 126/500\n",
      "51/51 [==============================] - 0s 915us/step - loss: 4.7482 - acc: 0.6034\n",
      "Epoch 127/500\n",
      "51/51 [==============================] - 0s 914us/step - loss: 2.4594 - acc: 0.6202\n",
      "Epoch 128/500\n",
      "51/51 [==============================] - 0s 922us/step - loss: 3.0023 - acc: 0.6239\n",
      "Epoch 129/500\n",
      "51/51 [==============================] - 0s 916us/step - loss: 8.6854 - acc: 0.5666\n",
      "Epoch 130/500\n",
      "51/51 [==============================] - 0s 923us/step - loss: 8.5832 - acc: 0.5934\n",
      "Epoch 131/500\n",
      "51/51 [==============================] - 0s 925us/step - loss: 6.0913 - acc: 0.5978\n",
      "Epoch 132/500\n",
      "51/51 [==============================] - 0s 910us/step - loss: 6.1148 - acc: 0.5996\n",
      "Epoch 133/500\n",
      "51/51 [==============================] - 0s 920us/step - loss: 4.3558 - acc: 0.6102\n",
      "Epoch 134/500\n",
      "51/51 [==============================] - 0s 921us/step - loss: 5.8348 - acc: 0.5834\n",
      "Epoch 135/500\n",
      "51/51 [==============================] - 0s 923us/step - loss: 4.1931 - acc: 0.5897\n",
      "Epoch 136/500\n",
      "51/51 [==============================] - 0s 925us/step - loss: 3.1602 - acc: 0.6227\n",
      "Epoch 137/500\n",
      "51/51 [==============================] - 0s 928us/step - loss: 7.2751 - acc: 0.5704\n",
      "Epoch 138/500\n",
      "51/51 [==============================] - 0s 914us/step - loss: 4.5309 - acc: 0.5940\n",
      "Epoch 139/500\n",
      "51/51 [==============================] - 0s 924us/step - loss: 8.5507 - acc: 0.5710\n",
      "Epoch 140/500\n",
      "51/51 [==============================] - 0s 913us/step - loss: 5.2572 - acc: 0.5841\n",
      "Epoch 141/500\n",
      "51/51 [==============================] - 0s 931us/step - loss: 9.2044 - acc: 0.5971\n",
      "Epoch 142/500\n",
      "51/51 [==============================] - 0s 915us/step - loss: 7.4969 - acc: 0.5859\n",
      "Epoch 143/500\n",
      "51/51 [==============================] - 0s 926us/step - loss: 5.3379 - acc: 0.5604\n",
      "Epoch 144/500\n",
      "51/51 [==============================] - 0s 915us/step - loss: 2.9485 - acc: 0.6083\n",
      "Epoch 145/500\n",
      "51/51 [==============================] - 0s 920us/step - loss: 4.6779 - acc: 0.6214\n",
      "Epoch 146/500\n",
      "51/51 [==============================] - 0s 923us/step - loss: 5.6394 - acc: 0.5704\n",
      "Epoch 147/500\n",
      "51/51 [==============================] - 0s 929us/step - loss: 6.3195 - acc: 0.5866\n",
      "Epoch 148/500\n",
      "51/51 [==============================] - 0s 926us/step - loss: 5.9521 - acc: 0.5884\n",
      "Epoch 149/500\n",
      "51/51 [==============================] - 0s 937us/step - loss: 9.4160 - acc: 0.5984\n",
      "Epoch 150/500\n",
      "51/51 [==============================] - 0s 925us/step - loss: 5.9129 - acc: 0.5903\n",
      "Epoch 151/500\n",
      "51/51 [==============================] - 0s 934us/step - loss: 4.7304 - acc: 0.5934\n",
      "Epoch 152/500\n",
      "51/51 [==============================] - 0s 929us/step - loss: 3.0773 - acc: 0.6308\n",
      "Epoch 153/500\n",
      "51/51 [==============================] - 0s 922us/step - loss: 3.9571 - acc: 0.5928\n",
      "Epoch 154/500\n",
      "51/51 [==============================] - 0s 916us/step - loss: 3.0177 - acc: 0.6139\n",
      "Epoch 155/500\n",
      "51/51 [==============================] - 0s 917us/step - loss: 3.5607 - acc: 0.5909\n",
      "Epoch 156/500\n",
      "51/51 [==============================] - 0s 922us/step - loss: 3.0635 - acc: 0.6171\n",
      "Epoch 157/500\n",
      "51/51 [==============================] - 0s 926us/step - loss: 6.3834 - acc: 0.6002\n",
      "Epoch 158/500\n",
      "51/51 [==============================] - 0s 930us/step - loss: 3.1920 - acc: 0.6083\n",
      "Epoch 159/500\n",
      "51/51 [==============================] - 0s 920us/step - loss: 4.6711 - acc: 0.6158\n",
      "Epoch 160/500\n",
      "51/51 [==============================] - 0s 917us/step - loss: 5.3686 - acc: 0.5884\n",
      "Epoch 161/500\n",
      "51/51 [==============================] - 0s 924us/step - loss: 4.8851 - acc: 0.5772\n",
      "Epoch 162/500\n",
      "51/51 [==============================] - 0s 928us/step - loss: 2.6487 - acc: 0.6314\n",
      "Epoch 163/500\n",
      "51/51 [==============================] - 0s 923us/step - loss: 2.3890 - acc: 0.6339\n",
      "Epoch 164/500\n",
      "51/51 [==============================] - 0s 926us/step - loss: 8.4899 - acc: 0.5785\n",
      "Epoch 165/500\n",
      "51/51 [==============================] - 0s 914us/step - loss: 7.1170 - acc: 0.6083\n",
      "Epoch 166/500\n",
      "51/51 [==============================] - 0s 918us/step - loss: 5.0536 - acc: 0.5934\n",
      "Epoch 167/500\n",
      "51/51 [==============================] - 0s 923us/step - loss: 3.9875 - acc: 0.6115\n",
      "Epoch 168/500\n"
     ]
    },
    {
     "name": "stdout",
     "output_type": "stream",
     "text": [
      "51/51 [==============================] - 0s 926us/step - loss: 2.9044 - acc: 0.6308\n",
      "Epoch 169/500\n",
      "51/51 [==============================] - 0s 919us/step - loss: 8.5092 - acc: 0.5940\n",
      "Epoch 170/500\n",
      "51/51 [==============================] - 0s 910us/step - loss: 6.6953 - acc: 0.5909\n",
      "Epoch 171/500\n",
      "51/51 [==============================] - 0s 917us/step - loss: 3.5135 - acc: 0.6034\n",
      "Epoch 172/500\n",
      "51/51 [==============================] - 0s 902us/step - loss: 1.8075 - acc: 0.6189\n",
      "Epoch 173/500\n",
      "51/51 [==============================] - 0s 918us/step - loss: 9.8534 - acc: 0.5872\n",
      "Epoch 174/500\n",
      "51/51 [==============================] - 0s 919us/step - loss: 4.8697 - acc: 0.5909\n",
      "Epoch 175/500\n",
      "51/51 [==============================] - 0s 896us/step - loss: 2.8758 - acc: 0.6171\n",
      "Epoch 176/500\n",
      "51/51 [==============================] - 0s 919us/step - loss: 4.6839 - acc: 0.5953\n",
      "Epoch 177/500\n",
      "51/51 [==============================] - 0s 914us/step - loss: 1.7637 - acc: 0.6532\n",
      "Epoch 178/500\n",
      "51/51 [==============================] - 0s 893us/step - loss: 7.1413 - acc: 0.5959\n",
      "Epoch 179/500\n",
      "51/51 [==============================] - 0s 967us/step - loss: 4.1691 - acc: 0.6021\n",
      "Epoch 180/500\n",
      "51/51 [==============================] - 0s 994us/step - loss: 10.9052 - acc: 0.5909\n",
      "Epoch 181/500\n",
      "51/51 [==============================] - 0s 943us/step - loss: 4.8684 - acc: 0.5903\n",
      "Epoch 182/500\n",
      "51/51 [==============================] - 0s 917us/step - loss: 8.7242 - acc: 0.5959\n",
      "Epoch 183/500\n",
      "51/51 [==============================] - 0s 910us/step - loss: 2.4504 - acc: 0.6158\n",
      "Epoch 184/500\n",
      "51/51 [==============================] - 0s 908us/step - loss: 2.8231 - acc: 0.6034\n",
      "Epoch 185/500\n",
      "51/51 [==============================] - 0s 908us/step - loss: 9.1554 - acc: 0.5535\n",
      "Epoch 186/500\n",
      "51/51 [==============================] - 0s 915us/step - loss: 8.6625 - acc: 0.5697\n",
      "Epoch 187/500\n",
      "51/51 [==============================] - 0s 905us/step - loss: 3.3721 - acc: 0.6052\n",
      "Epoch 188/500\n",
      "51/51 [==============================] - 0s 919us/step - loss: 4.5270 - acc: 0.5971\n",
      "Epoch 189/500\n",
      "51/51 [==============================] - 0s 912us/step - loss: 3.4619 - acc: 0.6115\n",
      "Epoch 190/500\n",
      "51/51 [==============================] - 0s 913us/step - loss: 3.4397 - acc: 0.5878\n",
      "Epoch 191/500\n",
      "51/51 [==============================] - 0s 917us/step - loss: 2.5211 - acc: 0.6333\n",
      "Epoch 192/500\n",
      "51/51 [==============================] - 0s 918us/step - loss: 4.6098 - acc: 0.5965\n",
      "Epoch 193/500\n",
      "51/51 [==============================] - 0s 914us/step - loss: 3.6257 - acc: 0.5971\n",
      "Epoch 194/500\n",
      "51/51 [==============================] - 0s 916us/step - loss: 3.7326 - acc: 0.5834\n",
      "Epoch 195/500\n",
      "51/51 [==============================] - 0s 934us/step - loss: 12.7243 - acc: 0.5816\n",
      "Epoch 196/500\n",
      "51/51 [==============================] - 0s 912us/step - loss: 4.2421 - acc: 0.6040\n",
      "Epoch 197/500\n",
      "51/51 [==============================] - 0s 918us/step - loss: 5.0061 - acc: 0.6139\n",
      "Epoch 198/500\n",
      "51/51 [==============================] - 0s 919us/step - loss: 2.9043 - acc: 0.6326\n",
      "Epoch 199/500\n",
      "51/51 [==============================] - 0s 917us/step - loss: 5.7396 - acc: 0.5953\n",
      "Epoch 200/500\n",
      "51/51 [==============================] - 0s 921us/step - loss: 4.0113 - acc: 0.6121\n",
      "Epoch 201/500\n",
      "51/51 [==============================] - 0s 923us/step - loss: 2.7397 - acc: 0.6220\n",
      "Epoch 202/500\n",
      "51/51 [==============================] - 0s 913us/step - loss: 2.1494 - acc: 0.6320\n",
      "Epoch 203/500\n",
      "51/51 [==============================] - 0s 917us/step - loss: 2.5089 - acc: 0.6295\n",
      "Epoch 204/500\n",
      "51/51 [==============================] - 0s 915us/step - loss: 6.5763 - acc: 0.5809\n",
      "Epoch 205/500\n",
      "51/51 [==============================] - 0s 928us/step - loss: 2.9588 - acc: 0.6096\n",
      "Epoch 206/500\n",
      "51/51 [==============================] - 0s 931us/step - loss: 3.3218 - acc: 0.6102\n",
      "Epoch 207/500\n",
      "51/51 [==============================] - 0s 915us/step - loss: 3.4790 - acc: 0.6077\n",
      "Epoch 208/500\n",
      "51/51 [==============================] - 0s 912us/step - loss: 4.8353 - acc: 0.6052\n",
      "Epoch 209/500\n",
      "51/51 [==============================] - 0s 911us/step - loss: 3.9428 - acc: 0.6152\n",
      "Epoch 210/500\n",
      "51/51 [==============================] - 0s 915us/step - loss: 3.5181 - acc: 0.6090\n",
      "Epoch 211/500\n",
      "51/51 [==============================] - 0s 935us/step - loss: 6.8286 - acc: 0.6015\n",
      "Epoch 212/500\n",
      "51/51 [==============================] - 0s 921us/step - loss: 6.8616 - acc: 0.5859\n",
      "Epoch 213/500\n",
      "51/51 [==============================] - 0s 928us/step - loss: 4.9593 - acc: 0.6040\n",
      "Epoch 214/500\n",
      "51/51 [==============================] - 0s 916us/step - loss: 4.1061 - acc: 0.6040\n",
      "Epoch 215/500\n",
      "51/51 [==============================] - 0s 918us/step - loss: 2.7917 - acc: 0.6108\n",
      "Epoch 216/500\n",
      "51/51 [==============================] - 0s 911us/step - loss: 3.2722 - acc: 0.6196\n",
      "Epoch 217/500\n",
      "51/51 [==============================] - 0s 923us/step - loss: 3.3364 - acc: 0.5940\n",
      "Epoch 218/500\n",
      "51/51 [==============================] - 0s 968us/step - loss: 5.6983 - acc: 0.5847\n",
      "Epoch 219/500\n",
      "51/51 [==============================] - 0s 928us/step - loss: 5.2703 - acc: 0.5803\n",
      "Epoch 220/500\n",
      "51/51 [==============================] - 0s 901us/step - loss: 11.7975 - acc: 0.5897\n",
      "Epoch 221/500\n",
      "51/51 [==============================] - 0s 920us/step - loss: 7.9854 - acc: 0.5604\n",
      "Epoch 222/500\n",
      "51/51 [==============================] - 0s 932us/step - loss: 3.9702 - acc: 0.6071\n",
      "Epoch 223/500\n",
      "51/51 [==============================] - 0s 926us/step - loss: 2.4988 - acc: 0.6196\n",
      "Epoch 224/500\n",
      "51/51 [==============================] - 0s 920us/step - loss: 3.7584 - acc: 0.5946\n",
      "Epoch 225/500\n",
      "51/51 [==============================] - 0s 912us/step - loss: 2.8244 - acc: 0.6034\n",
      "Epoch 226/500\n",
      "51/51 [==============================] - 0s 922us/step - loss: 2.9988 - acc: 0.6270\n",
      "Epoch 227/500\n",
      "51/51 [==============================] - 0s 1ms/step - loss: 3.5408 - acc: 0.6227\n",
      "Epoch 228/500\n",
      "51/51 [==============================] - 0s 945us/step - loss: 3.1940 - acc: 0.6183\n",
      "Epoch 229/500\n",
      "51/51 [==============================] - 0s 930us/step - loss: 5.6789 - acc: 0.5791\n",
      "Epoch 230/500\n",
      "51/51 [==============================] - 0s 910us/step - loss: 2.0543 - acc: 0.5922\n",
      "Epoch 231/500\n",
      "51/51 [==============================] - 0s 913us/step - loss: 3.2294 - acc: 0.6146\n",
      "Epoch 232/500\n",
      "51/51 [==============================] - 0s 929us/step - loss: 4.2142 - acc: 0.5803\n",
      "Epoch 233/500\n",
      "51/51 [==============================] - 0s 914us/step - loss: 3.1586 - acc: 0.6133\n",
      "Epoch 234/500\n",
      "51/51 [==============================] - 0s 931us/step - loss: 3.5859 - acc: 0.5940\n",
      "Epoch 235/500\n",
      "51/51 [==============================] - 0s 960us/step - loss: 2.3860 - acc: 0.6183\n",
      "Epoch 236/500\n",
      "51/51 [==============================] - 0s 1ms/step - loss: 1.5788 - acc: 0.6507\n",
      "Epoch 237/500\n",
      "51/51 [==============================] - 0s 1ms/step - loss: 3.6846 - acc: 0.5872\n",
      "Epoch 238/500\n",
      "51/51 [==============================] - 0s 1ms/step - loss: 3.1023 - acc: 0.6177\n",
      "Epoch 239/500\n",
      "51/51 [==============================] - 0s 978us/step - loss: 3.9600 - acc: 0.5953\n",
      "Epoch 240/500\n",
      "51/51 [==============================] - 0s 1ms/step - loss: 4.7730 - acc: 0.6059\n",
      "Epoch 241/500\n",
      "51/51 [==============================] - 0s 973us/step - loss: 2.4006 - acc: 0.6457\n",
      "Epoch 242/500\n",
      "51/51 [==============================] - 0s 1ms/step - loss: 4.2878 - acc: 0.6027\n",
      "Epoch 243/500\n",
      "51/51 [==============================] - 0s 1ms/step - loss: 4.2437 - acc: 0.5928\n",
      "Epoch 244/500\n",
      "51/51 [==============================] - 0s 1ms/step - loss: 3.2140 - acc: 0.6027\n",
      "Epoch 245/500\n",
      "51/51 [==============================] - 0s 1ms/step - loss: 5.3757 - acc: 0.6071\n",
      "Epoch 246/500\n",
      "51/51 [==============================] - 0s 1ms/step - loss: 8.0953 - acc: 0.5604\n",
      "Epoch 247/500\n",
      "51/51 [==============================] - 0s 1ms/step - loss: 8.9999 - acc: 0.5828\n",
      "Epoch 248/500\n",
      "51/51 [==============================] - 0s 1ms/step - loss: 8.6041 - acc: 0.5629\n",
      "Epoch 249/500\n",
      "51/51 [==============================] - 0s 1ms/step - loss: 20.3820 - acc: 0.5635\n",
      "Epoch 250/500\n",
      "51/51 [==============================] - 0s 1ms/step - loss: 6.4991 - acc: 0.6027\n",
      "Epoch 251/500\n",
      "51/51 [==============================] - 0s 1ms/step - loss: 4.8407 - acc: 0.5785\n",
      "Epoch 252/500\n"
     ]
    },
    {
     "name": "stdout",
     "output_type": "stream",
     "text": [
      "51/51 [==============================] - 0s 1ms/step - loss: 3.8923 - acc: 0.6252\n",
      "Epoch 253/500\n",
      "51/51 [==============================] - 0s 981us/step - loss: 5.8622 - acc: 0.6413\n",
      "Epoch 254/500\n",
      "51/51 [==============================] - 0s 967us/step - loss: 5.8775 - acc: 0.5753\n",
      "Epoch 255/500\n",
      "51/51 [==============================] - 0s 986us/step - loss: 3.5599 - acc: 0.5990\n",
      "Epoch 256/500\n",
      "51/51 [==============================] - 0s 960us/step - loss: 1.9072 - acc: 0.6276\n",
      "Epoch 257/500\n",
      "51/51 [==============================] - 0s 961us/step - loss: 2.0636 - acc: 0.6644\n",
      "Epoch 258/500\n",
      "51/51 [==============================] - 0s 975us/step - loss: 2.4611 - acc: 0.5965\n",
      "Epoch 259/500\n",
      "51/51 [==============================] - 0s 1ms/step - loss: 4.1969 - acc: 0.5990\n",
      "Epoch 260/500\n",
      "51/51 [==============================] - 0s 986us/step - loss: 1.6692 - acc: 0.6438\n",
      "Epoch 261/500\n",
      "51/51 [==============================] - 0s 979us/step - loss: 3.9521 - acc: 0.5984\n",
      "Epoch 262/500\n",
      "51/51 [==============================] - 0s 1ms/step - loss: 2.3905 - acc: 0.6326\n",
      "Epoch 263/500\n",
      "51/51 [==============================] - 0s 1ms/step - loss: 2.3572 - acc: 0.6326\n",
      "Epoch 264/500\n",
      "51/51 [==============================] - 0s 1ms/step - loss: 3.8102 - acc: 0.6108\n",
      "Epoch 265/500\n",
      "51/51 [==============================] - 0s 1ms/step - loss: 2.6593 - acc: 0.6052\n",
      "Epoch 266/500\n",
      "51/51 [==============================] - 0s 1ms/step - loss: 5.4595 - acc: 0.5797\n",
      "Epoch 267/500\n",
      "51/51 [==============================] - 0s 1ms/step - loss: 2.3157 - acc: 0.6426\n",
      "Epoch 268/500\n",
      "51/51 [==============================] - 0s 1ms/step - loss: 2.5001 - acc: 0.6189\n",
      "Epoch 269/500\n",
      "51/51 [==============================] - 0s 1ms/step - loss: 4.8896 - acc: 0.5934\n",
      "Epoch 270/500\n",
      "51/51 [==============================] - 0s 1ms/step - loss: 4.0502 - acc: 0.5959\n",
      "Epoch 271/500\n",
      "51/51 [==============================] - 0s 1ms/step - loss: 3.2557 - acc: 0.6164\n",
      "Epoch 272/500\n",
      "51/51 [==============================] - 0s 997us/step - loss: 4.0845 - acc: 0.6108\n",
      "Epoch 273/500\n",
      "51/51 [==============================] - 0s 996us/step - loss: 5.1228 - acc: 0.6102\n",
      "Epoch 274/500\n",
      "51/51 [==============================] - 0s 998us/step - loss: 1.7256 - acc: 0.6613\n",
      "Epoch 275/500\n",
      "51/51 [==============================] - 0s 947us/step - loss: 2.4829 - acc: 0.6227\n",
      "Epoch 276/500\n",
      "51/51 [==============================] - 0s 921us/step - loss: 6.3832 - acc: 0.5878\n",
      "Epoch 277/500\n",
      "51/51 [==============================] - 0s 925us/step - loss: 2.0563 - acc: 0.6264\n",
      "Epoch 278/500\n",
      "51/51 [==============================] - 0s 932us/step - loss: 1.9835 - acc: 0.6389\n",
      "Epoch 279/500\n",
      "51/51 [==============================] - 0s 942us/step - loss: 5.4740 - acc: 0.5853\n",
      "Epoch 280/500\n",
      "51/51 [==============================] - 0s 925us/step - loss: 6.7281 - acc: 0.5841\n",
      "Epoch 281/500\n",
      "51/51 [==============================] - 0s 922us/step - loss: 7.0739 - acc: 0.5903\n",
      "Epoch 282/500\n",
      "51/51 [==============================] - 0s 931us/step - loss: 2.5082 - acc: 0.6420\n",
      "Epoch 283/500\n",
      "51/51 [==============================] - 0s 916us/step - loss: 1.9783 - acc: 0.6345\n",
      "Epoch 284/500\n",
      "51/51 [==============================] - 0s 931us/step - loss: 4.0616 - acc: 0.5909\n",
      "Epoch 285/500\n",
      "51/51 [==============================] - 0s 945us/step - loss: 4.6854 - acc: 0.5791\n",
      "Epoch 286/500\n",
      "51/51 [==============================] - 0s 983us/step - loss: 5.4704 - acc: 0.6171\n",
      "Epoch 287/500\n",
      "51/51 [==============================] - 0s 1ms/step - loss: 6.2579 - acc: 0.5791\n",
      "Epoch 288/500\n",
      "51/51 [==============================] - 0s 985us/step - loss: 1.5089 - acc: 0.6700\n",
      "Epoch 289/500\n",
      "51/51 [==============================] - 0s 959us/step - loss: 4.2719 - acc: 0.5884\n",
      "Epoch 290/500\n",
      "51/51 [==============================] - 0s 928us/step - loss: 2.8321 - acc: 0.6382\n",
      "Epoch 291/500\n",
      "51/51 [==============================] - 0s 952us/step - loss: 3.2457 - acc: 0.6071\n",
      "Epoch 292/500\n",
      "51/51 [==============================] - 0s 935us/step - loss: 3.5110 - acc: 0.6096\n",
      "Epoch 293/500\n",
      "51/51 [==============================] - 0s 935us/step - loss: 5.6446 - acc: 0.5984\n",
      "Epoch 294/500\n",
      "51/51 [==============================] - 0s 928us/step - loss: 3.8317 - acc: 0.6034\n",
      "Epoch 295/500\n",
      "51/51 [==============================] - 0s 928us/step - loss: 2.5999 - acc: 0.6339\n",
      "Epoch 296/500\n",
      "51/51 [==============================] - 0s 926us/step - loss: 2.1000 - acc: 0.6314\n",
      "Epoch 297/500\n",
      "51/51 [==============================] - 0s 918us/step - loss: 3.5549 - acc: 0.5996\n",
      "Epoch 298/500\n",
      "51/51 [==============================] - 0s 936us/step - loss: 6.6474 - acc: 0.5741\n",
      "Epoch 299/500\n",
      "51/51 [==============================] - 0s 933us/step - loss: 3.4900 - acc: 0.6115\n",
      "Epoch 300/500\n",
      "51/51 [==============================] - 0s 933us/step - loss: 1.2703 - acc: 0.6638\n",
      "Epoch 301/500\n",
      "51/51 [==============================] - 0s 928us/step - loss: 3.5497 - acc: 0.6009\n",
      "Epoch 302/500\n",
      "51/51 [==============================] - 0s 930us/step - loss: 3.1980 - acc: 0.6059\n",
      "Epoch 303/500\n",
      "51/51 [==============================] - 0s 923us/step - loss: 1.9733 - acc: 0.6513\n",
      "Epoch 304/500\n",
      "51/51 [==============================] - 0s 924us/step - loss: 4.0601 - acc: 0.6115\n",
      "Epoch 305/500\n",
      "51/51 [==============================] - 0s 917us/step - loss: 3.3056 - acc: 0.6158\n",
      "Epoch 306/500\n",
      "51/51 [==============================] - 0s 925us/step - loss: 4.3231 - acc: 0.5909\n",
      "Epoch 307/500\n",
      "51/51 [==============================] - 0s 928us/step - loss: 1.7998 - acc: 0.6582\n",
      "Epoch 308/500\n",
      "51/51 [==============================] - 0s 926us/step - loss: 4.2226 - acc: 0.5872\n",
      "Epoch 309/500\n",
      "51/51 [==============================] - 0s 923us/step - loss: 4.8421 - acc: 0.5878\n",
      "Epoch 310/500\n",
      "51/51 [==============================] - 0s 932us/step - loss: 2.5786 - acc: 0.6370\n",
      "Epoch 311/500\n",
      "51/51 [==============================] - 0s 920us/step - loss: 1.4970 - acc: 0.6413\n",
      "Epoch 312/500\n",
      "51/51 [==============================] - 0s 923us/step - loss: 3.1549 - acc: 0.5996\n",
      "Epoch 313/500\n",
      "51/51 [==============================] - 0s 920us/step - loss: 4.3597 - acc: 0.6040\n",
      "Epoch 314/500\n",
      "51/51 [==============================] - 0s 918us/step - loss: 6.6107 - acc: 0.6040\n",
      "Epoch 315/500\n",
      "51/51 [==============================] - 0s 920us/step - loss: 3.6703 - acc: 0.6002\n",
      "Epoch 316/500\n",
      "51/51 [==============================] - 0s 918us/step - loss: 2.0055 - acc: 0.6519\n",
      "Epoch 317/500\n",
      "51/51 [==============================] - 0s 930us/step - loss: 2.6092 - acc: 0.6413\n",
      "Epoch 318/500\n",
      "51/51 [==============================] - 0s 922us/step - loss: 1.8296 - acc: 0.6333\n",
      "Epoch 319/500\n",
      "51/51 [==============================] - 0s 909us/step - loss: 4.2999 - acc: 0.5934\n",
      "Epoch 320/500\n",
      "51/51 [==============================] - 0s 917us/step - loss: 5.3777 - acc: 0.6208\n",
      "Epoch 321/500\n",
      "51/51 [==============================] - 0s 914us/step - loss: 2.5960 - acc: 0.6314\n",
      "Epoch 322/500\n",
      "51/51 [==============================] - 0s 931us/step - loss: 2.4062 - acc: 0.6270\n",
      "Epoch 323/500\n",
      "51/51 [==============================] - 0s 921us/step - loss: 5.0692 - acc: 0.5803\n",
      "Epoch 324/500\n",
      "51/51 [==============================] - 0s 937us/step - loss: 1.7539 - acc: 0.6544\n",
      "Epoch 325/500\n",
      "51/51 [==============================] - 0s 928us/step - loss: 2.1719 - acc: 0.6214\n",
      "Epoch 326/500\n",
      "51/51 [==============================] - 0s 921us/step - loss: 2.2219 - acc: 0.6270\n",
      "Epoch 327/500\n",
      "51/51 [==============================] - 0s 927us/step - loss: 3.1749 - acc: 0.6133\n",
      "Epoch 328/500\n",
      "51/51 [==============================] - 0s 938us/step - loss: 3.2778 - acc: 0.6090\n",
      "Epoch 329/500\n",
      "51/51 [==============================] - 0s 939us/step - loss: 7.1568 - acc: 0.5990\n",
      "Epoch 330/500\n",
      "51/51 [==============================] - 0s 932us/step - loss: 1.2658 - acc: 0.6731\n",
      "Epoch 331/500\n",
      "51/51 [==============================] - 0s 940us/step - loss: 5.7210 - acc: 0.5946\n",
      "Epoch 332/500\n",
      "51/51 [==============================] - 0s 926us/step - loss: 2.6202 - acc: 0.6289\n",
      "Epoch 333/500\n",
      "51/51 [==============================] - 0s 920us/step - loss: 2.1021 - acc: 0.6283\n",
      "Epoch 334/500\n",
      "51/51 [==============================] - 0s 940us/step - loss: 1.5419 - acc: 0.6569\n",
      "Epoch 335/500\n",
      "51/51 [==============================] - 0s 924us/step - loss: 1.8947 - acc: 0.6719\n",
      "Epoch 336/500\n"
     ]
    },
    {
     "name": "stdout",
     "output_type": "stream",
     "text": [
      "51/51 [==============================] - 0s 940us/step - loss: 1.1960 - acc: 0.6700\n",
      "Epoch 337/500\n",
      "51/51 [==============================] - 0s 939us/step - loss: 3.3301 - acc: 0.5934\n",
      "Epoch 338/500\n",
      "51/51 [==============================] - 0s 910us/step - loss: 2.4545 - acc: 0.6333\n",
      "Epoch 339/500\n",
      "51/51 [==============================] - 0s 926us/step - loss: 2.1356 - acc: 0.6345\n",
      "Epoch 340/500\n",
      "51/51 [==============================] - 0s 885us/step - loss: 3.9472 - acc: 0.6021\n",
      "Epoch 341/500\n",
      "51/51 [==============================] - 0s 918us/step - loss: 6.1571 - acc: 0.5654\n",
      "Epoch 342/500\n",
      "51/51 [==============================] - 0s 910us/step - loss: 2.6991 - acc: 0.6326\n",
      "Epoch 343/500\n",
      "51/51 [==============================] - 0s 916us/step - loss: 5.3625 - acc: 0.5946\n",
      "Epoch 344/500\n",
      "51/51 [==============================] - 0s 918us/step - loss: 3.4729 - acc: 0.5978\n",
      "Epoch 345/500\n",
      "51/51 [==============================] - 0s 899us/step - loss: 2.1170 - acc: 0.6146\n",
      "Epoch 346/500\n",
      "51/51 [==============================] - 0s 908us/step - loss: 3.8892 - acc: 0.6077\n",
      "Epoch 347/500\n",
      "51/51 [==============================] - 0s 903us/step - loss: 2.2337 - acc: 0.6395\n",
      "Epoch 348/500\n",
      "51/51 [==============================] - 0s 914us/step - loss: 6.1413 - acc: 0.5990\n",
      "Epoch 349/500\n",
      "51/51 [==============================] - 0s 903us/step - loss: 2.9151 - acc: 0.6127\n",
      "Epoch 350/500\n",
      "51/51 [==============================] - 0s 922us/step - loss: 1.8187 - acc: 0.6252\n",
      "Epoch 351/500\n",
      "51/51 [==============================] - 0s 908us/step - loss: 1.9277 - acc: 0.6432\n",
      "Epoch 352/500\n",
      "51/51 [==============================] - 0s 921us/step - loss: 1.8212 - acc: 0.6357\n",
      "Epoch 353/500\n",
      "51/51 [==============================] - 0s 921us/step - loss: 3.8719 - acc: 0.5716\n",
      "Epoch 354/500\n",
      "51/51 [==============================] - 0s 913us/step - loss: 2.5437 - acc: 0.6108\n",
      "Epoch 355/500\n",
      "51/51 [==============================] - 0s 910us/step - loss: 3.5412 - acc: 0.6108\n",
      "Epoch 356/500\n",
      "51/51 [==============================] - 0s 918us/step - loss: 2.4882 - acc: 0.6121\n",
      "Epoch 357/500\n",
      "51/51 [==============================] - 0s 909us/step - loss: 2.2338 - acc: 0.6283\n",
      "Epoch 358/500\n",
      "51/51 [==============================] - 0s 922us/step - loss: 4.4870 - acc: 0.5828\n",
      "Epoch 359/500\n",
      "51/51 [==============================] - 0s 908us/step - loss: 5.3340 - acc: 0.5996\n",
      "Epoch 360/500\n",
      "51/51 [==============================] - 0s 914us/step - loss: 2.8930 - acc: 0.6233\n",
      "Epoch 361/500\n",
      "51/51 [==============================] - 0s 904us/step - loss: 3.1164 - acc: 0.6220\n",
      "Epoch 362/500\n",
      "51/51 [==============================] - 0s 901us/step - loss: 3.8003 - acc: 0.6189\n",
      "Epoch 363/500\n",
      "51/51 [==============================] - 0s 905us/step - loss: 4.3742 - acc: 0.5816\n",
      "Epoch 364/500\n",
      "51/51 [==============================] - 0s 904us/step - loss: 1.6836 - acc: 0.6606\n",
      "Epoch 365/500\n",
      "51/51 [==============================] - 0s 921us/step - loss: 2.2006 - acc: 0.6252\n",
      "Epoch 366/500\n",
      "51/51 [==============================] - 0s 937us/step - loss: 1.8831 - acc: 0.6600\n",
      "Epoch 367/500\n",
      "51/51 [==============================] - 0s 928us/step - loss: 2.3093 - acc: 0.6320\n",
      "Epoch 368/500\n",
      "51/51 [==============================] - 0s 927us/step - loss: 1.8292 - acc: 0.6445\n",
      "Epoch 369/500\n",
      "51/51 [==============================] - 0s 920us/step - loss: 1.4260 - acc: 0.6631\n",
      "Epoch 370/500\n",
      "51/51 [==============================] - 0s 914us/step - loss: 2.8707 - acc: 0.6189\n",
      "Epoch 371/500\n",
      "51/51 [==============================] - 0s 918us/step - loss: 1.5106 - acc: 0.6563\n",
      "Epoch 372/500\n",
      "51/51 [==============================] - 0s 918us/step - loss: 1.3884 - acc: 0.6681\n",
      "Epoch 373/500\n",
      "51/51 [==============================] - 0s 916us/step - loss: 2.7347 - acc: 0.6289\n",
      "Epoch 374/500\n",
      "51/51 [==============================] - 0s 916us/step - loss: 3.7081 - acc: 0.6339\n",
      "Epoch 375/500\n",
      "51/51 [==============================] - 0s 921us/step - loss: 4.2289 - acc: 0.5872\n",
      "Epoch 376/500\n",
      "51/51 [==============================] - 0s 914us/step - loss: 1.8738 - acc: 0.6364\n",
      "Epoch 377/500\n",
      "51/51 [==============================] - 0s 920us/step - loss: 1.8567 - acc: 0.6376\n",
      "Epoch 378/500\n",
      "51/51 [==============================] - 0s 913us/step - loss: 3.8203 - acc: 0.6133\n",
      "Epoch 379/500\n",
      "51/51 [==============================] - 0s 920us/step - loss: 4.5144 - acc: 0.5697\n",
      "Epoch 380/500\n",
      "51/51 [==============================] - 0s 928us/step - loss: 5.7087 - acc: 0.6015\n",
      "Epoch 381/500\n",
      "51/51 [==============================] - 0s 921us/step - loss: 4.0946 - acc: 0.6152\n",
      "Epoch 382/500\n",
      "51/51 [==============================] - 0s 910us/step - loss: 2.3285 - acc: 0.6183\n",
      "Epoch 383/500\n",
      "51/51 [==============================] - 0s 887us/step - loss: 1.7445 - acc: 0.6438\n",
      "Epoch 384/500\n",
      "51/51 [==============================] - 0s 920us/step - loss: 1.5246 - acc: 0.6488\n",
      "Epoch 385/500\n",
      "51/51 [==============================] - 0s 931us/step - loss: 1.6102 - acc: 0.6420\n",
      "Epoch 386/500\n",
      "51/51 [==============================] - 0s 927us/step - loss: 1.1500 - acc: 0.6912\n",
      "Epoch 387/500\n",
      "51/51 [==============================] - 0s 926us/step - loss: 1.3947 - acc: 0.6494\n",
      "Epoch 388/500\n",
      "51/51 [==============================] - 0s 929us/step - loss: 2.6586 - acc: 0.6115\n",
      "Epoch 389/500\n",
      "51/51 [==============================] - 0s 937us/step - loss: 3.2447 - acc: 0.6139\n",
      "Epoch 390/500\n",
      "51/51 [==============================] - 0s 920us/step - loss: 3.8512 - acc: 0.6115\n",
      "Epoch 391/500\n",
      "51/51 [==============================] - 0s 918us/step - loss: 2.9462 - acc: 0.5990\n",
      "Epoch 392/500\n",
      "51/51 [==============================] - 0s 923us/step - loss: 1.3654 - acc: 0.6793\n",
      "Epoch 393/500\n",
      "51/51 [==============================] - 0s 914us/step - loss: 1.5456 - acc: 0.6563\n",
      "Epoch 394/500\n",
      "51/51 [==============================] - 0s 919us/step - loss: 2.7233 - acc: 0.6152\n",
      "Epoch 395/500\n",
      "51/51 [==============================] - 0s 924us/step - loss: 2.0364 - acc: 0.6376\n",
      "Epoch 396/500\n",
      "51/51 [==============================] - 0s 919us/step - loss: 1.9627 - acc: 0.6326\n",
      "Epoch 397/500\n",
      "51/51 [==============================] - 0s 920us/step - loss: 2.4260 - acc: 0.6046\n",
      "Epoch 398/500\n",
      "51/51 [==============================] - 0s 926us/step - loss: 4.6711 - acc: 0.5629\n",
      "Epoch 399/500\n",
      "51/51 [==============================] - 0s 931us/step - loss: 4.7928 - acc: 0.6121\n",
      "Epoch 400/500\n",
      "51/51 [==============================] - 0s 928us/step - loss: 3.3349 - acc: 0.6021\n",
      "Epoch 401/500\n",
      "51/51 [==============================] - 0s 917us/step - loss: 2.2043 - acc: 0.6245\n",
      "Epoch 402/500\n",
      "51/51 [==============================] - 0s 928us/step - loss: 3.1024 - acc: 0.5940\n",
      "Epoch 403/500\n",
      "51/51 [==============================] - 0s 924us/step - loss: 2.4452 - acc: 0.6189\n",
      "Epoch 404/500\n",
      "51/51 [==============================] - 0s 913us/step - loss: 2.6895 - acc: 0.5990\n",
      "Epoch 405/500\n",
      "51/51 [==============================] - 0s 910us/step - loss: 1.5130 - acc: 0.6445\n",
      "Epoch 406/500\n",
      "51/51 [==============================] - 0s 927us/step - loss: 2.8063 - acc: 0.6152\n",
      "Epoch 407/500\n",
      "51/51 [==============================] - 0s 933us/step - loss: 3.4062 - acc: 0.5946\n",
      "Epoch 408/500\n",
      "51/51 [==============================] - 0s 920us/step - loss: 4.8228 - acc: 0.6071\n",
      "Epoch 409/500\n",
      "51/51 [==============================] - 0s 929us/step - loss: 1.9837 - acc: 0.6420\n",
      "Epoch 410/500\n",
      "51/51 [==============================] - 0s 933us/step - loss: 1.9453 - acc: 0.6276\n",
      "Epoch 411/500\n",
      "51/51 [==============================] - 0s 928us/step - loss: 1.7830 - acc: 0.6196\n",
      "Epoch 412/500\n",
      "51/51 [==============================] - 0s 926us/step - loss: 1.0712 - acc: 0.6862\n",
      "Epoch 413/500\n",
      "51/51 [==============================] - 0s 923us/step - loss: 2.2775 - acc: 0.6171\n",
      "Epoch 414/500\n",
      "51/51 [==============================] - 0s 933us/step - loss: 1.2091 - acc: 0.6588\n",
      "Epoch 415/500\n",
      "51/51 [==============================] - 0s 932us/step - loss: 2.0623 - acc: 0.6227\n",
      "Epoch 416/500\n",
      "51/51 [==============================] - 0s 933us/step - loss: 3.8014 - acc: 0.5978\n",
      "Epoch 417/500\n",
      "51/51 [==============================] - 0s 938us/step - loss: 2.8791 - acc: 0.5959\n",
      "Epoch 418/500\n",
      "51/51 [==============================] - 0s 931us/step - loss: 3.2103 - acc: 0.5959\n",
      "Epoch 419/500\n"
     ]
    },
    {
     "name": "stdout",
     "output_type": "stream",
     "text": [
      "51/51 [==============================] - 0s 933us/step - loss: 2.0108 - acc: 0.6283\n",
      "Epoch 420/500\n",
      "51/51 [==============================] - 0s 941us/step - loss: 1.3342 - acc: 0.6575\n",
      "Epoch 421/500\n",
      "51/51 [==============================] - 0s 938us/step - loss: 1.7345 - acc: 0.6252\n",
      "Epoch 422/500\n",
      "51/51 [==============================] - 0s 903us/step - loss: 2.9675 - acc: 0.6071\n",
      "Epoch 423/500\n",
      "51/51 [==============================] - 0s 913us/step - loss: 3.8441 - acc: 0.5965\n",
      "Epoch 424/500\n",
      "51/51 [==============================] - 0s 916us/step - loss: 1.3789 - acc: 0.6669\n",
      "Epoch 425/500\n",
      "51/51 [==============================] - 0s 926us/step - loss: 3.2145 - acc: 0.6108\n",
      "Epoch 426/500\n",
      "51/51 [==============================] - 0s 903us/step - loss: 7.0205 - acc: 0.5915\n",
      "Epoch 427/500\n",
      "51/51 [==============================] - 0s 915us/step - loss: 2.8830 - acc: 0.6283\n",
      "Epoch 428/500\n",
      "51/51 [==============================] - 0s 910us/step - loss: 1.2133 - acc: 0.6457\n",
      "Epoch 429/500\n",
      "51/51 [==============================] - 0s 904us/step - loss: 2.1910 - acc: 0.6009\n",
      "Epoch 430/500\n",
      "51/51 [==============================] - 0s 921us/step - loss: 1.7425 - acc: 0.6476\n",
      "Epoch 431/500\n",
      "51/51 [==============================] - 0s 907us/step - loss: 3.0556 - acc: 0.6096\n",
      "Epoch 432/500\n",
      "51/51 [==============================] - 0s 920us/step - loss: 2.2304 - acc: 0.6158\n",
      "Epoch 433/500\n",
      "51/51 [==============================] - 0s 910us/step - loss: 1.6031 - acc: 0.6164\n",
      "Epoch 434/500\n",
      "51/51 [==============================] - 0s 916us/step - loss: 1.4509 - acc: 0.6420\n",
      "Epoch 435/500\n",
      "51/51 [==============================] - 0s 911us/step - loss: 1.4770 - acc: 0.6202\n",
      "Epoch 436/500\n",
      "51/51 [==============================] - 0s 925us/step - loss: 2.0076 - acc: 0.6351\n",
      "Epoch 437/500\n",
      "51/51 [==============================] - 0s 905us/step - loss: 2.1819 - acc: 0.6364\n",
      "Epoch 438/500\n",
      "51/51 [==============================] - 0s 920us/step - loss: 1.3690 - acc: 0.6582\n",
      "Epoch 439/500\n",
      "51/51 [==============================] - 0s 914us/step - loss: 0.7777 - acc: 0.7017\n",
      "Epoch 440/500\n",
      "51/51 [==============================] - 0s 921us/step - loss: 1.4369 - acc: 0.6582\n",
      "Epoch 441/500\n",
      "51/51 [==============================] - 0s 921us/step - loss: 2.5286 - acc: 0.6451\n",
      "Epoch 442/500\n",
      "51/51 [==============================] - 0s 922us/step - loss: 3.4941 - acc: 0.6034\n",
      "Epoch 443/500\n",
      "51/51 [==============================] - 0s 911us/step - loss: 2.7456 - acc: 0.6071\n",
      "Epoch 444/500\n",
      "51/51 [==============================] - 0s 916us/step - loss: 3.2834 - acc: 0.6177\n",
      "Epoch 445/500\n",
      "51/51 [==============================] - 0s 911us/step - loss: 3.5165 - acc: 0.6059\n",
      "Epoch 446/500\n",
      "51/51 [==============================] - 0s 911us/step - loss: 1.9114 - acc: 0.6220\n",
      "Epoch 447/500\n",
      "51/51 [==============================] - 0s 903us/step - loss: 1.7371 - acc: 0.6233\n",
      "Epoch 448/500\n",
      "51/51 [==============================] - 0s 893us/step - loss: 3.5222 - acc: 0.6146\n",
      "Epoch 449/500\n",
      "51/51 [==============================] - 0s 922us/step - loss: 1.9043 - acc: 0.6314\n",
      "Epoch 450/500\n",
      "51/51 [==============================] - 0s 908us/step - loss: 1.6719 - acc: 0.6202\n",
      "Epoch 451/500\n",
      "51/51 [==============================] - 0s 923us/step - loss: 0.9763 - acc: 0.6936\n",
      "Epoch 452/500\n",
      "51/51 [==============================] - 0s 926us/step - loss: 1.6725 - acc: 0.6451\n",
      "Epoch 453/500\n",
      "51/51 [==============================] - 0s 926us/step - loss: 1.9642 - acc: 0.6463\n",
      "Epoch 454/500\n",
      "51/51 [==============================] - 0s 934us/step - loss: 2.4271 - acc: 0.6083\n",
      "Epoch 455/500\n",
      "51/51 [==============================] - 0s 921us/step - loss: 1.4096 - acc: 0.6569\n",
      "Epoch 456/500\n",
      "51/51 [==============================] - 0s 927us/step - loss: 1.2067 - acc: 0.6252\n",
      "Epoch 457/500\n",
      "51/51 [==============================] - 0s 927us/step - loss: 1.3302 - acc: 0.6638\n",
      "Epoch 458/500\n",
      "51/51 [==============================] - 0s 915us/step - loss: 1.4407 - acc: 0.6370\n",
      "Epoch 459/500\n",
      "51/51 [==============================] - 0s 912us/step - loss: 0.8796 - acc: 0.6588\n",
      "Epoch 460/500\n",
      "51/51 [==============================] - 0s 920us/step - loss: 1.4809 - acc: 0.6308\n",
      "Epoch 461/500\n",
      "51/51 [==============================] - 0s 915us/step - loss: 1.6718 - acc: 0.6376\n",
      "Epoch 462/500\n",
      "51/51 [==============================] - 0s 917us/step - loss: 1.0861 - acc: 0.6681\n",
      "Epoch 463/500\n",
      "51/51 [==============================] - 0s 910us/step - loss: 1.5998 - acc: 0.6575\n",
      "Epoch 464/500\n",
      "51/51 [==============================] - 0s 912us/step - loss: 1.6364 - acc: 0.6320\n",
      "Epoch 465/500\n",
      "51/51 [==============================] - 0s 911us/step - loss: 1.4782 - acc: 0.6308\n",
      "Epoch 466/500\n",
      "51/51 [==============================] - 0s 914us/step - loss: 1.4633 - acc: 0.6463\n",
      "Epoch 467/500\n",
      "51/51 [==============================] - 0s 926us/step - loss: 2.3095 - acc: 0.6357\n",
      "Epoch 468/500\n",
      "51/51 [==============================] - 0s 920us/step - loss: 1.6253 - acc: 0.6196\n",
      "Epoch 469/500\n",
      "51/51 [==============================] - 0s 894us/step - loss: 2.0262 - acc: 0.6308\n",
      "Epoch 470/500\n",
      "51/51 [==============================] - 0s 914us/step - loss: 1.2015 - acc: 0.6569\n",
      "Epoch 471/500\n",
      "51/51 [==============================] - 0s 908us/step - loss: 2.0292 - acc: 0.6314\n",
      "Epoch 472/500\n",
      "51/51 [==============================] - 0s 922us/step - loss: 5.4635 - acc: 0.5853\n",
      "Epoch 473/500\n",
      "51/51 [==============================] - 0s 937us/step - loss: 1.7781 - acc: 0.6563\n",
      "Epoch 474/500\n",
      "51/51 [==============================] - 0s 932us/step - loss: 1.9296 - acc: 0.6127\n",
      "Epoch 475/500\n",
      "51/51 [==============================] - 0s 936us/step - loss: 5.3319 - acc: 0.6021\n",
      "Epoch 476/500\n",
      "51/51 [==============================] - 0s 932us/step - loss: 2.1920 - acc: 0.6158\n",
      "Epoch 477/500\n",
      "51/51 [==============================] - 0s 917us/step - loss: 1.5816 - acc: 0.6445\n",
      "Epoch 478/500\n",
      "51/51 [==============================] - 0s 943us/step - loss: 1.5414 - acc: 0.6252\n",
      "Epoch 479/500\n",
      "51/51 [==============================] - 0s 931us/step - loss: 1.8028 - acc: 0.6183\n",
      "Epoch 480/500\n",
      "51/51 [==============================] - 0s 917us/step - loss: 1.8395 - acc: 0.6320\n",
      "Epoch 481/500\n",
      "51/51 [==============================] - 0s 925us/step - loss: 1.3674 - acc: 0.6426\n",
      "Epoch 482/500\n",
      "51/51 [==============================] - 0s 1ms/step - loss: 0.7913 - acc: 0.6849\n",
      "Epoch 483/500\n",
      "51/51 [==============================] - 0s 926us/step - loss: 1.1652 - acc: 0.6463\n",
      "Epoch 484/500\n",
      "51/51 [==============================] - 0s 935us/step - loss: 2.3326 - acc: 0.6737\n",
      "Epoch 485/500\n",
      "51/51 [==============================] - 0s 919us/step - loss: 2.7887 - acc: 0.5934\n",
      "Epoch 486/500\n",
      "51/51 [==============================] - 0s 935us/step - loss: 1.3421 - acc: 0.6719\n",
      "Epoch 487/500\n",
      "51/51 [==============================] - 0s 915us/step - loss: 0.9115 - acc: 0.6731\n",
      "Epoch 488/500\n",
      "51/51 [==============================] - 0s 925us/step - loss: 1.5765 - acc: 0.6308\n",
      "Epoch 489/500\n",
      "51/51 [==============================] - 0s 935us/step - loss: 1.2307 - acc: 0.6563\n",
      "Epoch 490/500\n",
      "51/51 [==============================] - 0s 924us/step - loss: 2.2082 - acc: 0.6252\n",
      "Epoch 491/500\n",
      "51/51 [==============================] - 0s 925us/step - loss: 1.3166 - acc: 0.6494\n",
      "Epoch 492/500\n",
      "51/51 [==============================] - 0s 942us/step - loss: 1.6238 - acc: 0.6476\n",
      "Epoch 493/500\n",
      "51/51 [==============================] - 0s 935us/step - loss: 0.9415 - acc: 0.6787\n",
      "Epoch 494/500\n",
      "51/51 [==============================] - 0s 936us/step - loss: 0.8970 - acc: 0.7111\n",
      "Epoch 495/500\n",
      "51/51 [==============================] - 0s 942us/step - loss: 1.0085 - acc: 0.6569\n",
      "Epoch 496/500\n",
      "51/51 [==============================] - 0s 936us/step - loss: 2.2078 - acc: 0.5984\n",
      "Epoch 497/500\n",
      "51/51 [==============================] - 0s 924us/step - loss: 0.9715 - acc: 0.6824\n",
      "Epoch 498/500\n",
      "51/51 [==============================] - 0s 935us/step - loss: 1.3376 - acc: 0.6469\n",
      "Epoch 499/500\n",
      "51/51 [==============================] - 0s 947us/step - loss: 1.8569 - acc: 0.6283\n",
      "Epoch 500/500\n",
      "51/51 [==============================] - 0s 934us/step - loss: 1.1756 - acc: 0.6432\n"
     ]
    },
    {
     "data": {
      "text/plain": [
       "<keras.callbacks.History at 0x7ff1007b6e30>"
      ]
     },
     "execution_count": 23,
     "metadata": {},
     "output_type": "execute_result"
    }
   ],
   "source": [
    "model_nn.compile(\n",
    "    optimizer='adam',\n",
    "    loss='binary_crossentropy',\n",
    "    metrics='acc'\n",
    ")\n",
    "history = model_nn.fit(X_train, y_train, epochs=500)\n",
    "history"
   ]
  },
  {
   "cell_type": "code",
   "execution_count": 24,
   "metadata": {},
   "outputs": [
    {
     "data": {
      "text/plain": [
       "dict_keys(['loss', 'acc'])"
      ]
     },
     "execution_count": 24,
     "metadata": {},
     "output_type": "execute_result"
    }
   ],
   "source": [
    "history.history.keys()"
   ]
  },
  {
   "cell_type": "code",
   "execution_count": 25,
   "metadata": {},
   "outputs": [
    {
     "data": {
      "image/png": "[encoded data removed]",
      "text/plain": [
       "<Figure size 640x480 with 1 Axes>"
      ]
     },
     "metadata": {},
     "output_type": "display_data"
    }
   ],
   "source": [
    "plt.plot(history.epoch, history.history.get('loss'), linewidth=1)\n",
    "plt.title('Loss')\n",
    "plt.grid(True)\n",
    "plt.show()"
   ]
  },
  {
   "cell_type": "code",
   "execution_count": 26,
   "metadata": {},
   "outputs": [
    {
     "data": {
      "image/png": "[encoded data removed]",
      "text/plain": [
       "<Figure size 640x480 with 1 Axes>"
      ]
     },
     "metadata": {},
     "output_type": "display_data"
    }
   ],
   "source": [
    "coefficients = np.polyfit(history.epoch, history.history.get('acc'), 1)\n",
    "trend_line = np.polyval(coefficients, history.epoch)\n",
    "plt.plot(history.epoch, trend_line, linestyle='dashed', label='Trend', color='red')\n",
    "\n",
    "plt.plot(history.epoch, history.history.get('acc'), linewidth=1)\n",
    "plt.title('Accuracy')\n",
    "plt.grid(True)\n",
    "plt.show()"
   ]
  },
  {
   "cell_type": "markdown",
   "metadata": {},
   "source": [
    "**Предсказание на новых данных**\n",
    "\n",
    "Напишем функцию, которая будет принимать модель и X.\n",
    "Функция формирует из параметров X двухмерный массив, так как для регрессии в sklearn используется множественная регрессия и на вход должен подаваться двухмерный массив."
   ]
  },
  {
   "cell_type": "code",
   "execution_count": 27,
   "metadata": {},
   "outputs": [],
   "source": [
    "def prediction(model, calls, minutes, messages, mb_used):\n",
    "    features = np.array([calls, minutes, messages, mb_used]).reshape(1, -1)\n",
    "    prediction = model.predict(features)\n",
    "    return prediction"
   ]
  },
  {
   "cell_type": "code",
   "execution_count": 28,
   "metadata": {},
   "outputs": [
    {
     "data": {
      "text/plain": [
       "array([1])"
      ]
     },
     "execution_count": 28,
     "metadata": {},
     "output_type": "execute_result"
    }
   ],
   "source": [
    "prediction(model_forest, 300, 600, 120, 2000)"
   ]
  },
  {
   "cell_type": "code",
   "execution_count": 29,
   "metadata": {},
   "outputs": [
    {
     "data": {
      "text/plain": [
       "array([0])"
      ]
     },
     "execution_count": 29,
     "metadata": {},
     "output_type": "execute_result"
    }
   ],
   "source": [
    "prediction(model_forest, 120, 200, 60, 2000)"
   ]
  },
  {
   "cell_type": "code",
   "execution_count": 30,
   "metadata": {},
   "outputs": [
    {
     "data": {
      "text/plain": [
       "array([0])"
      ]
     },
     "execution_count": 30,
     "metadata": {},
     "output_type": "execute_result"
    }
   ],
   "source": [
    "prediction(model_forest, 120, 300, 50, 20000)"
   ]
  },
  {
   "cell_type": "markdown",
   "metadata": {},
   "source": [
    "**NN model**"
   ]
  },
  {
   "cell_type": "code",
   "execution_count": 36,
   "metadata": {},
   "outputs": [
    {
     "name": "stdout",
     "output_type": "stream",
     "text": [
      "1/1 [==============================] - 0s 26ms/step\n"
     ]
    },
    {
     "data": {
      "text/plain": [
       "array([[1.]], dtype=float32)"
      ]
     },
     "execution_count": 36,
     "metadata": {},
     "output_type": "execute_result"
    }
   ],
   "source": [
    "prediction(model_nn, 300, 600, 120, 2000).round(2)"
   ]
  },
  {
   "cell_type": "code",
   "execution_count": 37,
   "metadata": {},
   "outputs": [
    {
     "name": "stdout",
     "output_type": "stream",
     "text": [
      "1/1 [==============================] - 0s 22ms/step\n"
     ]
    },
    {
     "data": {
      "text/plain": [
       "array([[0.01]], dtype=float32)"
      ]
     },
     "execution_count": 37,
     "metadata": {},
     "output_type": "execute_result"
    }
   ],
   "source": [
    "prediction(model_nn, 120, 200, 60, 2000).round(2)"
   ]
  },
  {
   "cell_type": "code",
   "execution_count": 38,
   "metadata": {},
   "outputs": [
    {
     "name": "stdout",
     "output_type": "stream",
     "text": [
      "1/1 [==============================] - 0s 23ms/step\n"
     ]
    },
    {
     "data": {
      "text/plain": [
       "array([[0.]], dtype=float32)"
      ]
     },
     "execution_count": 38,
     "metadata": {},
     "output_type": "execute_result"
    }
   ],
   "source": [
    "prediction(model_nn, 120, 300, 50, 20000).round(2)"
   ]
  },
  {
   "cell_type": "markdown",
   "metadata": {},
   "source": [
    "## (бонус) Проверьте модели на адекватность"
   ]
  },
  {
   "cell_type": "markdown",
   "metadata": {},
   "source": [
    "Чтобы проверить адекватность моделей, воспользуемся методом кросс-валидации"
   ]
  },
  {
   "cell_type": "markdown",
   "metadata": {},
   "source": [
    "<div class=\"alert alert-block alert-info\">\n",
    "<b>Совет:</b> Здесь подразумевалось сравнить наши модели с фиктивной/случайной, может нам стоит всегда предсказывать наибольший класс и результат будет не хуже. Для данной задачи удобен инструмент DummyClassifier</div>\n",
    "</div>\n"
   ]
  },
  {
   "cell_type": "code",
   "execution_count": 34,
   "metadata": {},
   "outputs": [],
   "source": [
    "regression_cross_val = cross_val_score(model_regression, X_train, y_train, cv=10)\n",
    "tree_cross_val = cross_val_score(model_tree, X_train, y_train, cv=10)\n",
    "forest_cross_val = cross_val_score(model_forest, X_train, y_train, cv=10)"
   ]
  },
  {
   "cell_type": "code",
   "execution_count": 35,
   "metadata": {},
   "outputs": [
    {
     "data": {
      "image/png": "[encoded data removed]",
      "text/plain": [
       "<Figure size 1500x500 with 1 Axes>"
      ]
     },
     "metadata": {},
     "output_type": "display_data"
    }
   ],
   "source": [
    "plt.figure(figsize=(15, 5))\n",
    "plt.plot(regression_cross_val, color='blue')\n",
    "plt.plot(tree_cross_val, color='green')\n",
    "plt.plot(forest_cross_val, color='red')\n",
    "plt.title('График кросс-валидации')\n",
    "plt.xlabel('Количество итераций')\n",
    "plt.ylabel('Accuracy')\n",
    "plt.grid(True)\n",
    "plt.legend(['Log. Regression', 'Des. Tree', 'Rand. Forest'])\n",
    "plt.show()"
   ]
  },
  {
   "cell_type": "markdown",
   "metadata": {},
   "source": [
    "**Вывод**\n",
    "\n",
    "Говоря об адекватности моделей, меня несколько смущает, что они начинают обучаться с accuracy уже около 0.8. "
   ]
  },
  {
   "cell_type": "markdown",
   "metadata": {},
   "source": [
    "<div class=\"alert alert-block alert-info\">\n",
    "<b>Совет:</b> А что тебя смущает?) Это же суть кросс-валидации, данные разбиваются по разному на каждой итерации; Усреднее оценок дает более менее объективный результат\n",
    "</div>\n"
   ]
  },
  {
   "cell_type": "markdown",
   "metadata": {},
   "source": [
    "## Чек-лист готовности проекта"
   ]
  },
  {
   "cell_type": "markdown",
   "metadata": {},
   "source": [
    "Поставьте 'x' в выполненных пунктах. Далее нажмите Shift+Enter."
   ]
  },
  {
   "cell_type": "markdown",
   "metadata": {},
   "source": [
    "- [x] Jupyter Notebook открыт\n",
    "- [x] Весь код исполняется без ошибок\n",
    "- [x] Ячейки с кодом расположены в порядке исполнения\n",
    "- [x] Выполнено задание 1: данные загружены и изучены\n",
    "- [x] Выполнено задание 2: данные разбиты на три выборки\n",
    "- [x] Выполнено задание 3: проведено исследование моделей\n",
    "    - [x] Рассмотрено больше одной модели\n",
    "    - [x] Рассмотрено хотя бы 3 значения гипепараметров для какой-нибудь модели\n",
    "    - [x] Написаны выводы по результатам исследования\n",
    "- [x] Выполнено задание 3: Проведено тестирование\n",
    "- [x] Удалось достичь accuracy не меньше 0.75\n"
   ]
  },
  {
   "cell_type": "markdown",
   "metadata": {},
   "source": [
    "**Общий вывод**\n",
    "\n",
    "- Нами были изучены данные о пользователях мобильных тарифов. Целью исследование стояло создание алгоритма предсказания рекомендации тарифа пользователю по его параметрам. \n",
    "- В качестве моделей, решиющих задачу бинарной классификации рассматривались логистическая регрессия, дерево решений и случайный лес.\n",
    "- В ходе сравления моделей предпочтение было отдано третьей модели. Далее модель проверялась на тестовой выборке на предмет переобучения.\n",
    "- Для выбранной модели была написана функция, которая предсказывает класс 0 или 1 на новых данных, поступающих в неё.\n",
    "- На основе предсказаний на новых данных, мы получили, что человек, совершающий 300 звонков в месяц, расходуя 600 минут, отпраавляя 120 сообщений и расходуя 2000 мб интернета, скорее всего, буджет использовать тариф Ультра. Пользователь с одноимёнными параметрами: 120, 300, 50, 20000, скорее всего, не будет.\n",
    "- Был построен график кросс-валидации для проверки адекватности моделей, как дополнительное задание.\n"
   ]
  },
  {
   "cell_type": "markdown",
   "metadata": {},
   "source": [
    "<div class=\"alert alert-block alert-success\">\n",
    "<b>Успех:</b> Всегда приятно наблюдать подробный и структурированный итоговый вывод в конце работы!\n",
    "</div>\n"
   ]
  }
 ],
 "metadata": {
  "ExecuteTimeLog": [
   {
    "duration": 1586,
    "start_time": "2023-07-11T09:19:54.427Z"
   },
   {
    "duration": 115,
    "start_time": "2023-07-11T09:20:15.539Z"
   },
   {
    "duration": 4,
    "start_time": "2023-07-11T09:20:41.515Z"
   },
   {
    "duration": 5,
    "start_time": "2023-07-11T09:21:05.899Z"
   },
   {
    "duration": 4,
    "start_time": "2023-07-11T09:21:08.538Z"
   },
   {
    "duration": 6,
    "start_time": "2023-07-11T09:21:26.757Z"
   },
   {
    "duration": 61,
    "start_time": "2023-07-11T09:22:15.903Z"
   },
   {
    "duration": 40,
    "start_time": "2023-07-11T09:22:20.034Z"
   },
   {
    "duration": 4,
    "start_time": "2023-07-11T09:27:25.228Z"
   },
   {
    "duration": 26,
    "start_time": "2023-07-11T09:27:33.039Z"
   },
   {
    "duration": 7,
    "start_time": "2023-07-11T09:27:45.808Z"
   },
   {
    "duration": 10,
    "start_time": "2023-07-11T09:27:51.203Z"
   },
   {
    "duration": 3585,
    "start_time": "2023-07-11T09:28:55.727Z"
   },
   {
    "duration": 4055,
    "start_time": "2023-07-11T09:30:23.765Z"
   },
   {
    "duration": 3964,
    "start_time": "2023-07-11T09:30:29.340Z"
   },
   {
    "duration": 4005,
    "start_time": "2023-07-11T09:31:10.900Z"
   },
   {
    "duration": 1398,
    "start_time": "2023-07-11T09:32:43.656Z"
   },
   {
    "duration": 159,
    "start_time": "2023-07-11T09:32:51.716Z"
   },
   {
    "duration": 161,
    "start_time": "2023-07-11T09:32:57.039Z"
   },
   {
    "duration": 165,
    "start_time": "2023-07-11T09:33:57.720Z"
   },
   {
    "duration": 205,
    "start_time": "2023-07-11T09:35:02.021Z"
   },
   {
    "duration": 171,
    "start_time": "2023-07-11T09:35:05.696Z"
   },
   {
    "duration": 176,
    "start_time": "2023-07-11T09:36:21.024Z"
   },
   {
    "duration": 180,
    "start_time": "2023-07-11T09:37:04.092Z"
   },
   {
    "duration": 171,
    "start_time": "2023-07-11T09:38:09.108Z"
   },
   {
    "duration": 192,
    "start_time": "2023-07-11T09:38:27.711Z"
   },
   {
    "duration": 11,
    "start_time": "2023-07-11T09:39:18.241Z"
   },
   {
    "duration": 1500,
    "start_time": "2023-07-11T09:40:37.027Z"
   },
   {
    "duration": 0,
    "start_time": "2023-07-11T09:40:38.529Z"
   },
   {
    "duration": 0,
    "start_time": "2023-07-11T09:40:38.530Z"
   },
   {
    "duration": 0,
    "start_time": "2023-07-11T09:40:38.531Z"
   },
   {
    "duration": 0,
    "start_time": "2023-07-11T09:40:38.532Z"
   },
   {
    "duration": 0,
    "start_time": "2023-07-11T09:40:38.533Z"
   },
   {
    "duration": 0,
    "start_time": "2023-07-11T09:40:38.535Z"
   },
   {
    "duration": 0,
    "start_time": "2023-07-11T09:40:38.536Z"
   },
   {
    "duration": 0,
    "start_time": "2023-07-11T09:40:38.537Z"
   },
   {
    "duration": 0,
    "start_time": "2023-07-11T09:40:38.538Z"
   },
   {
    "duration": 0,
    "start_time": "2023-07-11T09:40:38.539Z"
   },
   {
    "duration": 57,
    "start_time": "2023-07-11T09:40:51.867Z"
   },
   {
    "duration": 1493,
    "start_time": "2023-07-11T09:40:56.111Z"
   },
   {
    "duration": 38,
    "start_time": "2023-07-11T09:40:57.606Z"
   },
   {
    "duration": 3,
    "start_time": "2023-07-11T09:40:57.645Z"
   },
   {
    "duration": 41,
    "start_time": "2023-07-11T09:40:57.650Z"
   },
   {
    "duration": 6,
    "start_time": "2023-07-11T09:40:57.694Z"
   },
   {
    "duration": 11,
    "start_time": "2023-07-11T09:40:57.702Z"
   },
   {
    "duration": 182,
    "start_time": "2023-07-11T09:40:57.715Z"
   },
   {
    "duration": 175,
    "start_time": "2023-07-11T09:40:57.899Z"
   },
   {
    "duration": 160,
    "start_time": "2023-07-11T09:40:58.078Z"
   },
   {
    "duration": 225,
    "start_time": "2023-07-11T09:40:58.240Z"
   },
   {
    "duration": 1846,
    "start_time": "2023-07-11T09:41:30.669Z"
   },
   {
    "duration": 38,
    "start_time": "2023-07-11T09:41:32.517Z"
   },
   {
    "duration": 4,
    "start_time": "2023-07-11T09:41:32.557Z"
   },
   {
    "duration": 50,
    "start_time": "2023-07-11T09:41:32.564Z"
   },
   {
    "duration": 22,
    "start_time": "2023-07-11T09:41:32.615Z"
   },
   {
    "duration": 16,
    "start_time": "2023-07-11T09:41:32.639Z"
   },
   {
    "duration": 188,
    "start_time": "2023-07-11T09:41:32.656Z"
   },
   {
    "duration": 217,
    "start_time": "2023-07-11T09:41:32.845Z"
   },
   {
    "duration": 191,
    "start_time": "2023-07-11T09:41:33.064Z"
   },
   {
    "duration": 260,
    "start_time": "2023-07-11T09:41:33.257Z"
   },
   {
    "duration": 116,
    "start_time": "2023-07-11T09:42:55.912Z"
   },
   {
    "duration": 10,
    "start_time": "2023-07-11T09:43:00.844Z"
   },
   {
    "duration": 4635,
    "start_time": "2023-07-11T09:43:07.762Z"
   },
   {
    "duration": 4935,
    "start_time": "2023-07-11T09:43:32.096Z"
   },
   {
    "duration": 5761,
    "start_time": "2023-07-11T09:43:42.648Z"
   },
   {
    "duration": 5,
    "start_time": "2023-07-11T09:44:20.226Z"
   },
   {
    "duration": 109,
    "start_time": "2023-07-11T09:45:05.902Z"
   },
   {
    "duration": 117,
    "start_time": "2023-07-11T09:45:16.698Z"
   },
   {
    "duration": 134,
    "start_time": "2023-07-11T09:45:54.228Z"
   },
   {
    "duration": 143,
    "start_time": "2023-07-11T09:47:17.795Z"
   },
   {
    "duration": 307,
    "start_time": "2023-07-11T09:47:59.498Z"
   },
   {
    "duration": 365,
    "start_time": "2023-07-11T09:48:08.127Z"
   },
   {
    "duration": 393,
    "start_time": "2023-07-11T09:48:40.558Z"
   },
   {
    "duration": 965,
    "start_time": "2023-07-11T09:48:46.562Z"
   },
   {
    "duration": 428,
    "start_time": "2023-07-11T09:49:02.631Z"
   },
   {
    "duration": 401,
    "start_time": "2023-07-11T09:49:06.168Z"
   },
   {
    "duration": 31,
    "start_time": "2023-07-11T09:50:06.867Z"
   },
   {
    "duration": 345,
    "start_time": "2023-07-11T09:50:14.583Z"
   },
   {
    "duration": 1814,
    "start_time": "2023-07-11T14:51:53.092Z"
   },
   {
    "duration": 124,
    "start_time": "2023-07-11T14:51:54.909Z"
   },
   {
    "duration": 5,
    "start_time": "2023-07-11T14:51:55.035Z"
   },
   {
    "duration": 42,
    "start_time": "2023-07-11T14:51:55.042Z"
   },
   {
    "duration": 7,
    "start_time": "2023-07-11T14:51:55.087Z"
   },
   {
    "duration": 42,
    "start_time": "2023-07-11T14:51:55.096Z"
   },
   {
    "duration": 206,
    "start_time": "2023-07-11T14:51:55.140Z"
   },
   {
    "duration": 212,
    "start_time": "2023-07-11T14:51:55.347Z"
   },
   {
    "duration": 221,
    "start_time": "2023-07-11T14:51:55.561Z"
   },
   {
    "duration": 350,
    "start_time": "2023-07-11T14:51:55.784Z"
   },
   {
    "duration": 147,
    "start_time": "2023-07-11T14:51:56.137Z"
   },
   {
    "duration": 415,
    "start_time": "2023-07-11T14:51:56.287Z"
   },
   {
    "duration": 9,
    "start_time": "2023-07-11T15:00:02.782Z"
   },
   {
    "duration": 4,
    "start_time": "2023-07-11T15:00:35.006Z"
   },
   {
    "duration": 10,
    "start_time": "2023-07-11T15:00:46.222Z"
   },
   {
    "duration": 4,
    "start_time": "2023-07-11T15:00:47.474Z"
   },
   {
    "duration": 12,
    "start_time": "2023-07-11T15:00:51.481Z"
   },
   {
    "duration": 5,
    "start_time": "2023-07-11T15:00:52.630Z"
   },
   {
    "duration": 15,
    "start_time": "2023-07-11T15:00:57.109Z"
   },
   {
    "duration": 5,
    "start_time": "2023-07-11T15:00:58.125Z"
   },
   {
    "duration": 9,
    "start_time": "2023-07-11T15:01:01.382Z"
   },
   {
    "duration": 4,
    "start_time": "2023-07-11T15:01:02.786Z"
   },
   {
    "duration": 9,
    "start_time": "2023-07-11T15:01:33.293Z"
   },
   {
    "duration": 5,
    "start_time": "2023-07-11T15:01:34.575Z"
   },
   {
    "duration": 132,
    "start_time": "2023-07-11T15:05:34.383Z"
   },
   {
    "duration": 12,
    "start_time": "2023-07-11T15:05:48.182Z"
   },
   {
    "duration": 4,
    "start_time": "2023-07-11T15:05:53.086Z"
   },
   {
    "duration": 4,
    "start_time": "2023-07-11T15:06:14.188Z"
   },
   {
    "duration": 6,
    "start_time": "2023-07-11T15:06:17.807Z"
   },
   {
    "duration": 70,
    "start_time": "2023-07-11T15:06:46.922Z"
   },
   {
    "duration": 67,
    "start_time": "2023-07-11T15:06:55.083Z"
   },
   {
    "duration": 4,
    "start_time": "2023-07-11T15:07:08.601Z"
   },
   {
    "duration": 15,
    "start_time": "2023-07-11T15:12:27.007Z"
   },
   {
    "duration": 41,
    "start_time": "2023-07-11T15:12:44.422Z"
   },
   {
    "duration": 36,
    "start_time": "2023-07-11T15:12:49.530Z"
   },
   {
    "duration": 19,
    "start_time": "2023-07-11T15:21:14.751Z"
   },
   {
    "duration": 16,
    "start_time": "2023-07-11T15:21:55.052Z"
   },
   {
    "duration": 15,
    "start_time": "2023-07-11T15:21:57.990Z"
   },
   {
    "duration": 45,
    "start_time": "2023-07-11T15:22:14.542Z"
   },
   {
    "duration": 35,
    "start_time": "2023-07-11T15:22:29.148Z"
   },
   {
    "duration": 43,
    "start_time": "2023-07-11T15:22:59.504Z"
   },
   {
    "duration": 45,
    "start_time": "2023-07-11T15:24:24.226Z"
   },
   {
    "duration": 40,
    "start_time": "2023-07-11T15:24:29.030Z"
   },
   {
    "duration": 213,
    "start_time": "2023-07-11T15:24:35.137Z"
   },
   {
    "duration": 203,
    "start_time": "2023-07-11T15:25:00.145Z"
   },
   {
    "duration": 47,
    "start_time": "2023-07-11T15:26:03.494Z"
   },
   {
    "duration": 16,
    "start_time": "2023-07-11T15:27:21.590Z"
   },
   {
    "duration": 19,
    "start_time": "2023-07-11T15:27:33.323Z"
   },
   {
    "duration": 261,
    "start_time": "2023-07-11T15:27:37.597Z"
   },
   {
    "duration": 207,
    "start_time": "2023-07-11T15:28:27.895Z"
   },
   {
    "duration": 171,
    "start_time": "2023-07-11T15:28:44.471Z"
   },
   {
    "duration": 193,
    "start_time": "2023-07-11T15:30:21.628Z"
   },
   {
    "duration": 415,
    "start_time": "2023-07-11T15:37:37.948Z"
   },
   {
    "duration": 388,
    "start_time": "2023-07-11T15:41:13.559Z"
   },
   {
    "duration": 404,
    "start_time": "2023-07-11T15:41:36.699Z"
   },
   {
    "duration": 378,
    "start_time": "2023-07-11T15:41:51.336Z"
   },
   {
    "duration": 405,
    "start_time": "2023-07-11T15:43:29.257Z"
   },
   {
    "duration": 12,
    "start_time": "2023-07-11T15:44:15.645Z"
   },
   {
    "duration": 6,
    "start_time": "2023-07-11T15:44:18.800Z"
   },
   {
    "duration": 39,
    "start_time": "2023-07-11T15:47:35.529Z"
   },
   {
    "duration": 1769,
    "start_time": "2023-07-11T15:47:40.105Z"
   },
   {
    "duration": 59,
    "start_time": "2023-07-11T15:47:41.877Z"
   },
   {
    "duration": 5,
    "start_time": "2023-07-11T15:47:41.938Z"
   },
   {
    "duration": 50,
    "start_time": "2023-07-11T15:47:41.945Z"
   },
   {
    "duration": 7,
    "start_time": "2023-07-11T15:47:41.998Z"
   },
   {
    "duration": 45,
    "start_time": "2023-07-11T15:47:42.009Z"
   },
   {
    "duration": 236,
    "start_time": "2023-07-11T15:47:42.056Z"
   },
   {
    "duration": 243,
    "start_time": "2023-07-11T15:47:42.294Z"
   },
   {
    "duration": 212,
    "start_time": "2023-07-11T15:47:42.539Z"
   },
   {
    "duration": 320,
    "start_time": "2023-07-11T15:47:42.753Z"
   },
   {
    "duration": 167,
    "start_time": "2023-07-11T15:47:43.076Z"
   },
   {
    "duration": 390,
    "start_time": "2023-07-11T15:47:43.245Z"
   },
   {
    "duration": 11,
    "start_time": "2023-07-11T15:47:43.638Z"
   },
   {
    "duration": 25,
    "start_time": "2023-07-11T15:47:43.652Z"
   },
   {
    "duration": 119,
    "start_time": "2023-07-11T15:47:43.678Z"
   },
   {
    "duration": 41,
    "start_time": "2023-07-11T15:47:43.799Z"
   },
   {
    "duration": 209,
    "start_time": "2023-07-11T15:47:43.841Z"
   },
   {
    "duration": 381,
    "start_time": "2023-07-11T15:47:44.052Z"
   },
   {
    "duration": 7,
    "start_time": "2023-07-11T15:47:44.437Z"
   },
   {
    "duration": 1699,
    "start_time": "2023-07-11T15:50:07.158Z"
   },
   {
    "duration": 43,
    "start_time": "2023-07-11T15:50:08.859Z"
   },
   {
    "duration": 12,
    "start_time": "2023-07-11T15:50:08.904Z"
   },
   {
    "duration": 84,
    "start_time": "2023-07-11T15:50:08.927Z"
   },
   {
    "duration": 45,
    "start_time": "2023-07-11T15:50:09.014Z"
   },
   {
    "duration": 26,
    "start_time": "2023-07-11T15:50:09.061Z"
   },
   {
    "duration": 259,
    "start_time": "2023-07-11T15:50:09.089Z"
   },
   {
    "duration": 253,
    "start_time": "2023-07-11T15:50:09.350Z"
   },
   {
    "duration": 199,
    "start_time": "2023-07-11T15:50:09.604Z"
   },
   {
    "duration": 301,
    "start_time": "2023-07-11T15:50:09.805Z"
   },
   {
    "duration": 157,
    "start_time": "2023-07-11T15:50:10.116Z"
   },
   {
    "duration": 431,
    "start_time": "2023-07-11T15:50:10.275Z"
   },
   {
    "duration": 26,
    "start_time": "2023-07-11T15:50:10.708Z"
   },
   {
    "duration": 19,
    "start_time": "2023-07-11T15:50:10.739Z"
   },
   {
    "duration": 102,
    "start_time": "2023-07-11T15:50:10.761Z"
   },
   {
    "duration": 100,
    "start_time": "2023-07-11T15:50:10.865Z"
   },
   {
    "duration": 201,
    "start_time": "2023-07-11T15:50:10.968Z"
   },
   {
    "duration": 396,
    "start_time": "2023-07-11T15:50:11.171Z"
   },
   {
    "duration": 7,
    "start_time": "2023-07-11T15:50:11.569Z"
   },
   {
    "duration": 1684,
    "start_time": "2023-07-11T15:50:51.946Z"
   },
   {
    "duration": 43,
    "start_time": "2023-07-11T15:50:53.636Z"
   },
   {
    "duration": 17,
    "start_time": "2023-07-11T15:50:53.680Z"
   },
   {
    "duration": 67,
    "start_time": "2023-07-11T15:50:53.699Z"
   },
   {
    "duration": 17,
    "start_time": "2023-07-11T15:50:53.769Z"
   },
   {
    "duration": 57,
    "start_time": "2023-07-11T15:50:53.788Z"
   },
   {
    "duration": 239,
    "start_time": "2023-07-11T15:50:53.847Z"
   },
   {
    "duration": 234,
    "start_time": "2023-07-11T15:50:54.087Z"
   },
   {
    "duration": 224,
    "start_time": "2023-07-11T15:50:54.328Z"
   },
   {
    "duration": 298,
    "start_time": "2023-07-11T15:50:54.554Z"
   },
   {
    "duration": 147,
    "start_time": "2023-07-11T15:50:54.854Z"
   },
   {
    "duration": 388,
    "start_time": "2023-07-11T15:50:55.013Z"
   },
   {
    "duration": 17,
    "start_time": "2023-07-11T15:50:55.404Z"
   },
   {
    "duration": 30,
    "start_time": "2023-07-11T15:50:55.425Z"
   },
   {
    "duration": 58,
    "start_time": "2023-07-11T15:50:55.457Z"
   },
   {
    "duration": 63,
    "start_time": "2023-07-11T15:50:55.526Z"
   },
   {
    "duration": 185,
    "start_time": "2023-07-11T15:50:55.591Z"
   },
   {
    "duration": 458,
    "start_time": "2023-07-11T15:50:55.778Z"
   },
   {
    "duration": 7,
    "start_time": "2023-07-11T15:50:56.238Z"
   },
   {
    "duration": 1577,
    "start_time": "2023-07-12T05:35:59.320Z"
   },
   {
    "duration": 125,
    "start_time": "2023-07-12T05:36:00.899Z"
   },
   {
    "duration": 4,
    "start_time": "2023-07-12T05:36:01.025Z"
   },
   {
    "duration": 55,
    "start_time": "2023-07-12T05:36:01.030Z"
   },
   {
    "duration": 23,
    "start_time": "2023-07-12T05:36:01.087Z"
   },
   {
    "duration": 63,
    "start_time": "2023-07-12T05:36:01.112Z"
   },
   {
    "duration": 192,
    "start_time": "2023-07-12T05:36:01.177Z"
   },
   {
    "duration": 181,
    "start_time": "2023-07-12T05:36:01.371Z"
   },
   {
    "duration": 161,
    "start_time": "2023-07-12T05:36:01.553Z"
   },
   {
    "duration": 261,
    "start_time": "2023-07-12T05:36:01.716Z"
   },
   {
    "duration": 148,
    "start_time": "2023-07-12T05:36:01.979Z"
   },
   {
    "duration": 392,
    "start_time": "2023-07-12T05:36:02.129Z"
   },
   {
    "duration": 14,
    "start_time": "2023-07-12T05:36:02.522Z"
   },
   {
    "duration": 7,
    "start_time": "2023-07-12T05:36:02.538Z"
   },
   {
    "duration": 49,
    "start_time": "2023-07-12T05:36:02.547Z"
   },
   {
    "duration": 42,
    "start_time": "2023-07-12T05:36:02.598Z"
   },
   {
    "duration": 161,
    "start_time": "2023-07-12T05:36:02.642Z"
   },
   {
    "duration": 309,
    "start_time": "2023-07-12T05:36:02.804Z"
   },
   {
    "duration": 5,
    "start_time": "2023-07-12T05:36:03.115Z"
   },
   {
    "duration": 2045,
    "start_time": "2023-07-12T06:56:40.837Z"
   },
   {
    "duration": 155,
    "start_time": "2023-07-12T06:56:42.885Z"
   },
   {
    "duration": 4,
    "start_time": "2023-07-12T06:56:43.043Z"
   },
   {
    "duration": 54,
    "start_time": "2023-07-12T06:56:43.049Z"
   },
   {
    "duration": 9,
    "start_time": "2023-07-12T06:56:43.105Z"
   },
   {
    "duration": 15,
    "start_time": "2023-07-12T06:56:43.116Z"
   },
   {
    "duration": 197,
    "start_time": "2023-07-12T06:56:43.133Z"
   },
   {
    "duration": 251,
    "start_time": "2023-07-12T06:56:43.333Z"
   },
   {
    "duration": 221,
    "start_time": "2023-07-12T06:56:43.589Z"
   },
   {
    "duration": 322,
    "start_time": "2023-07-12T06:56:43.812Z"
   },
   {
    "duration": 171,
    "start_time": "2023-07-12T06:56:44.137Z"
   },
   {
    "duration": 424,
    "start_time": "2023-07-12T06:56:44.310Z"
   },
   {
    "duration": 25,
    "start_time": "2023-07-12T06:56:44.735Z"
   },
   {
    "duration": 4,
    "start_time": "2023-07-12T06:56:44.765Z"
   },
   {
    "duration": 57,
    "start_time": "2023-07-12T06:56:44.771Z"
   },
   {
    "duration": 38,
    "start_time": "2023-07-12T06:56:44.830Z"
   },
   {
    "duration": 171,
    "start_time": "2023-07-12T06:56:44.870Z"
   },
   {
    "duration": 371,
    "start_time": "2023-07-12T06:56:45.044Z"
   },
   {
    "duration": 8,
    "start_time": "2023-07-12T06:56:45.417Z"
   },
   {
    "duration": 12,
    "start_time": "2023-07-12T07:04:19.809Z"
   },
   {
    "duration": 152,
    "start_time": "2023-07-12T07:05:53.287Z"
   },
   {
    "duration": 26,
    "start_time": "2023-07-12T07:06:17.100Z"
   },
   {
    "duration": 1848,
    "start_time": "2023-07-12T07:11:39.347Z"
   },
   {
    "duration": 43,
    "start_time": "2023-07-12T07:11:41.198Z"
   },
   {
    "duration": 4,
    "start_time": "2023-07-12T07:11:41.243Z"
   },
   {
    "duration": 65,
    "start_time": "2023-07-12T07:11:41.249Z"
   },
   {
    "duration": 7,
    "start_time": "2023-07-12T07:11:41.316Z"
   },
   {
    "duration": 18,
    "start_time": "2023-07-12T07:11:41.326Z"
   },
   {
    "duration": 254,
    "start_time": "2023-07-12T07:11:41.346Z"
   },
   {
    "duration": 225,
    "start_time": "2023-07-12T07:11:41.603Z"
   },
   {
    "duration": 194,
    "start_time": "2023-07-12T07:11:41.830Z"
   },
   {
    "duration": 277,
    "start_time": "2023-07-12T07:11:42.026Z"
   },
   {
    "duration": 142,
    "start_time": "2023-07-12T07:11:42.305Z"
   },
   {
    "duration": 442,
    "start_time": "2023-07-12T07:11:42.452Z"
   },
   {
    "duration": 12,
    "start_time": "2023-07-12T07:11:42.897Z"
   },
   {
    "duration": 16,
    "start_time": "2023-07-12T07:11:42.914Z"
   },
   {
    "duration": 102,
    "start_time": "2023-07-12T07:11:42.933Z"
   },
   {
    "duration": 54,
    "start_time": "2023-07-12T07:11:43.037Z"
   },
   {
    "duration": 293,
    "start_time": "2023-07-12T07:11:43.093Z"
   },
   {
    "duration": 352,
    "start_time": "2023-07-12T07:11:43.389Z"
   },
   {
    "duration": 21,
    "start_time": "2023-07-12T07:11:43.743Z"
   },
   {
    "duration": 30,
    "start_time": "2023-07-12T07:11:43.771Z"
   },
   {
    "duration": 1870,
    "start_time": "2023-07-12T08:45:42.251Z"
   },
   {
    "duration": 48,
    "start_time": "2023-07-12T08:45:44.123Z"
   },
   {
    "duration": 4,
    "start_time": "2023-07-12T08:45:44.173Z"
   },
   {
    "duration": 40,
    "start_time": "2023-07-12T08:45:44.179Z"
   },
   {
    "duration": 10,
    "start_time": "2023-07-12T08:45:44.222Z"
   },
   {
    "duration": 36,
    "start_time": "2023-07-12T08:45:44.233Z"
   },
   {
    "duration": 210,
    "start_time": "2023-07-12T08:45:44.271Z"
   },
   {
    "duration": 213,
    "start_time": "2023-07-12T08:45:44.483Z"
   },
   {
    "duration": 200,
    "start_time": "2023-07-12T08:45:44.698Z"
   },
   {
    "duration": 285,
    "start_time": "2023-07-12T08:45:44.900Z"
   },
   {
    "duration": 159,
    "start_time": "2023-07-12T08:45:45.187Z"
   },
   {
    "duration": 425,
    "start_time": "2023-07-12T08:45:45.348Z"
   },
   {
    "duration": 9,
    "start_time": "2023-07-12T08:45:45.777Z"
   },
   {
    "duration": 11,
    "start_time": "2023-07-12T08:45:45.789Z"
   },
   {
    "duration": 46,
    "start_time": "2023-07-12T08:45:45.802Z"
   },
   {
    "duration": 45,
    "start_time": "2023-07-12T08:45:45.851Z"
   },
   {
    "duration": 190,
    "start_time": "2023-07-12T08:45:45.898Z"
   },
   {
    "duration": 337,
    "start_time": "2023-07-12T08:45:46.090Z"
   },
   {
    "duration": 7,
    "start_time": "2023-07-12T08:45:46.429Z"
   },
   {
    "duration": 41,
    "start_time": "2023-07-12T08:45:46.437Z"
   },
   {
    "duration": 7,
    "start_time": "2023-07-12T08:48:15.771Z"
   },
   {
    "duration": 71,
    "start_time": "2023-07-12T08:49:49.970Z"
   },
   {
    "duration": 70,
    "start_time": "2023-07-12T08:49:57.051Z"
   },
   {
    "duration": 217,
    "start_time": "2023-07-12T08:50:12.395Z"
   },
   {
    "duration": 420,
    "start_time": "2023-07-12T08:50:55.968Z"
   },
   {
    "duration": 393,
    "start_time": "2023-07-12T08:51:08.001Z"
   },
   {
    "duration": 349,
    "start_time": "2023-07-12T08:51:16.664Z"
   },
   {
    "duration": 449,
    "start_time": "2023-07-12T08:51:22.733Z"
   },
   {
    "duration": 428,
    "start_time": "2023-07-12T08:51:25.216Z"
   },
   {
    "duration": 363,
    "start_time": "2023-07-12T08:51:54.099Z"
   },
   {
    "duration": 334,
    "start_time": "2023-07-12T08:52:12.973Z"
   },
   {
    "duration": 380,
    "start_time": "2023-07-12T08:53:52.685Z"
   },
   {
    "duration": 510,
    "start_time": "2023-07-12T08:54:29.977Z"
   },
   {
    "duration": 153,
    "start_time": "2023-07-12T08:54:59.542Z"
   },
   {
    "duration": 178,
    "start_time": "2023-07-12T08:55:32.890Z"
   },
   {
    "duration": 317,
    "start_time": "2023-07-12T08:57:12.625Z"
   },
   {
    "duration": 227,
    "start_time": "2023-07-12T08:58:15.687Z"
   },
   {
    "duration": 1585,
    "start_time": "2023-07-12T09:03:27.592Z"
   },
   {
    "duration": 48,
    "start_time": "2023-07-12T09:03:29.179Z"
   },
   {
    "duration": 5,
    "start_time": "2023-07-12T09:03:29.229Z"
   },
   {
    "duration": 37,
    "start_time": "2023-07-12T09:03:29.236Z"
   },
   {
    "duration": 11,
    "start_time": "2023-07-12T09:03:29.280Z"
   },
   {
    "duration": 19,
    "start_time": "2023-07-12T09:03:29.293Z"
   },
   {
    "duration": 207,
    "start_time": "2023-07-12T09:03:29.314Z"
   },
   {
    "duration": 192,
    "start_time": "2023-07-12T09:03:29.522Z"
   },
   {
    "duration": 182,
    "start_time": "2023-07-12T09:03:29.716Z"
   },
   {
    "duration": 281,
    "start_time": "2023-07-12T09:03:29.901Z"
   },
   {
    "duration": 145,
    "start_time": "2023-07-12T09:03:30.184Z"
   },
   {
    "duration": 389,
    "start_time": "2023-07-12T09:03:30.331Z"
   },
   {
    "duration": 9,
    "start_time": "2023-07-12T09:03:30.722Z"
   },
   {
    "duration": 55,
    "start_time": "2023-07-12T09:03:30.734Z"
   },
   {
    "duration": 90,
    "start_time": "2023-07-12T09:03:30.791Z"
   },
   {
    "duration": 52,
    "start_time": "2023-07-12T09:03:30.883Z"
   },
   {
    "duration": 188,
    "start_time": "2023-07-12T09:03:30.937Z"
   },
   {
    "duration": 144,
    "start_time": "2023-07-12T09:03:31.126Z"
   },
   {
    "duration": 0,
    "start_time": "2023-07-12T09:03:31.272Z"
   },
   {
    "duration": 0,
    "start_time": "2023-07-12T09:03:31.274Z"
   },
   {
    "duration": 0,
    "start_time": "2023-07-12T09:03:31.276Z"
   },
   {
    "duration": 0,
    "start_time": "2023-07-12T09:03:31.280Z"
   },
   {
    "duration": 0,
    "start_time": "2023-07-12T09:03:31.281Z"
   },
   {
    "duration": 72,
    "start_time": "2023-07-12T09:03:54.930Z"
   },
   {
    "duration": 1450,
    "start_time": "2023-07-12T09:04:41.706Z"
   },
   {
    "duration": 43,
    "start_time": "2023-07-12T09:04:43.158Z"
   },
   {
    "duration": 5,
    "start_time": "2023-07-12T09:04:43.203Z"
   },
   {
    "duration": 38,
    "start_time": "2023-07-12T09:04:43.210Z"
   },
   {
    "duration": 13,
    "start_time": "2023-07-12T09:04:43.252Z"
   },
   {
    "duration": 17,
    "start_time": "2023-07-12T09:04:43.267Z"
   },
   {
    "duration": 201,
    "start_time": "2023-07-12T09:04:43.286Z"
   },
   {
    "duration": 191,
    "start_time": "2023-07-12T09:04:43.490Z"
   },
   {
    "duration": 181,
    "start_time": "2023-07-12T09:04:43.683Z"
   },
   {
    "duration": 263,
    "start_time": "2023-07-12T09:04:43.865Z"
   },
   {
    "duration": 145,
    "start_time": "2023-07-12T09:04:44.129Z"
   },
   {
    "duration": 389,
    "start_time": "2023-07-12T09:04:44.276Z"
   },
   {
    "duration": 10,
    "start_time": "2023-07-12T09:04:44.667Z"
   },
   {
    "duration": 4,
    "start_time": "2023-07-12T09:04:44.679Z"
   },
   {
    "duration": 42,
    "start_time": "2023-07-12T09:04:44.684Z"
   },
   {
    "duration": 59,
    "start_time": "2023-07-12T09:04:44.728Z"
   },
   {
    "duration": 180,
    "start_time": "2023-07-12T09:04:44.789Z"
   },
   {
    "duration": 165,
    "start_time": "2023-07-12T09:04:44.971Z"
   },
   {
    "duration": 0,
    "start_time": "2023-07-12T09:04:45.138Z"
   },
   {
    "duration": 0,
    "start_time": "2023-07-12T09:04:45.140Z"
   },
   {
    "duration": 0,
    "start_time": "2023-07-12T09:04:45.142Z"
   },
   {
    "duration": 0,
    "start_time": "2023-07-12T09:04:45.143Z"
   },
   {
    "duration": 0,
    "start_time": "2023-07-12T09:04:45.144Z"
   },
   {
    "duration": 1545,
    "start_time": "2023-07-12T09:05:09.641Z"
   },
   {
    "duration": 40,
    "start_time": "2023-07-12T09:05:11.189Z"
   },
   {
    "duration": 4,
    "start_time": "2023-07-12T09:05:11.231Z"
   },
   {
    "duration": 61,
    "start_time": "2023-07-12T09:05:11.237Z"
   },
   {
    "duration": 7,
    "start_time": "2023-07-12T09:05:11.299Z"
   },
   {
    "duration": 22,
    "start_time": "2023-07-12T09:05:11.307Z"
   },
   {
    "duration": 241,
    "start_time": "2023-07-12T09:05:11.331Z"
   },
   {
    "duration": 203,
    "start_time": "2023-07-12T09:05:11.574Z"
   },
   {
    "duration": 187,
    "start_time": "2023-07-12T09:05:11.779Z"
   },
   {
    "duration": 258,
    "start_time": "2023-07-12T09:05:11.969Z"
   },
   {
    "duration": 144,
    "start_time": "2023-07-12T09:05:12.229Z"
   },
   {
    "duration": 345,
    "start_time": "2023-07-12T09:05:12.375Z"
   },
   {
    "duration": 8,
    "start_time": "2023-07-12T09:05:12.722Z"
   },
   {
    "duration": 9,
    "start_time": "2023-07-12T09:05:12.732Z"
   },
   {
    "duration": 37,
    "start_time": "2023-07-12T09:05:12.753Z"
   },
   {
    "duration": 30,
    "start_time": "2023-07-12T09:05:12.792Z"
   },
   {
    "duration": 175,
    "start_time": "2023-07-12T09:05:12.824Z"
   },
   {
    "duration": 5,
    "start_time": "2023-07-12T09:05:13.000Z"
   },
   {
    "duration": 319,
    "start_time": "2023-07-12T09:05:13.007Z"
   },
   {
    "duration": 7,
    "start_time": "2023-07-12T09:05:13.328Z"
   },
   {
    "duration": 74,
    "start_time": "2023-07-12T09:05:13.337Z"
   },
   {
    "duration": 0,
    "start_time": "2023-07-12T09:05:13.413Z"
   },
   {
    "duration": 0,
    "start_time": "2023-07-12T09:05:13.414Z"
   },
   {
    "duration": 27,
    "start_time": "2023-07-12T09:05:35.939Z"
   },
   {
    "duration": 1566,
    "start_time": "2023-07-12T09:05:40.184Z"
   },
   {
    "duration": 42,
    "start_time": "2023-07-12T09:05:41.753Z"
   },
   {
    "duration": 5,
    "start_time": "2023-07-12T09:05:41.798Z"
   },
   {
    "duration": 41,
    "start_time": "2023-07-12T09:05:41.805Z"
   },
   {
    "duration": 12,
    "start_time": "2023-07-12T09:05:41.848Z"
   },
   {
    "duration": 35,
    "start_time": "2023-07-12T09:05:41.862Z"
   },
   {
    "duration": 187,
    "start_time": "2023-07-12T09:05:41.899Z"
   },
   {
    "duration": 194,
    "start_time": "2023-07-12T09:05:42.087Z"
   },
   {
    "duration": 190,
    "start_time": "2023-07-12T09:05:42.282Z"
   },
   {
    "duration": 268,
    "start_time": "2023-07-12T09:05:42.473Z"
   },
   {
    "duration": 139,
    "start_time": "2023-07-12T09:05:42.743Z"
   },
   {
    "duration": 358,
    "start_time": "2023-07-12T09:05:42.883Z"
   },
   {
    "duration": 24,
    "start_time": "2023-07-12T09:05:43.242Z"
   },
   {
    "duration": 17,
    "start_time": "2023-07-12T09:05:43.268Z"
   },
   {
    "duration": 44,
    "start_time": "2023-07-12T09:05:43.287Z"
   },
   {
    "duration": 38,
    "start_time": "2023-07-12T09:05:43.333Z"
   },
   {
    "duration": 159,
    "start_time": "2023-07-12T09:05:43.373Z"
   },
   {
    "duration": 4,
    "start_time": "2023-07-12T09:05:43.534Z"
   },
   {
    "duration": 334,
    "start_time": "2023-07-12T09:05:43.540Z"
   },
   {
    "duration": 7,
    "start_time": "2023-07-12T09:05:43.875Z"
   },
   {
    "duration": 28,
    "start_time": "2023-07-12T09:05:43.884Z"
   },
   {
    "duration": 455,
    "start_time": "2023-07-12T09:05:43.914Z"
   },
   {
    "duration": 0,
    "start_time": "2023-07-12T09:05:44.370Z"
   },
   {
    "duration": 547,
    "start_time": "2023-07-12T09:05:54.340Z"
   },
   {
    "duration": 231,
    "start_time": "2023-07-12T09:05:56.294Z"
   },
   {
    "duration": 1911,
    "start_time": "2023-07-12T09:06:01.238Z"
   },
   {
    "duration": 47,
    "start_time": "2023-07-12T09:06:03.151Z"
   },
   {
    "duration": 5,
    "start_time": "2023-07-12T09:06:03.200Z"
   },
   {
    "duration": 33,
    "start_time": "2023-07-12T09:06:03.206Z"
   },
   {
    "duration": 13,
    "start_time": "2023-07-12T09:06:03.242Z"
   },
   {
    "duration": 30,
    "start_time": "2023-07-12T09:06:03.262Z"
   },
   {
    "duration": 212,
    "start_time": "2023-07-12T09:06:03.294Z"
   },
   {
    "duration": 195,
    "start_time": "2023-07-12T09:06:03.508Z"
   },
   {
    "duration": 198,
    "start_time": "2023-07-12T09:06:03.706Z"
   },
   {
    "duration": 287,
    "start_time": "2023-07-12T09:06:03.906Z"
   },
   {
    "duration": 137,
    "start_time": "2023-07-12T09:06:04.195Z"
   },
   {
    "duration": 385,
    "start_time": "2023-07-12T09:06:04.334Z"
   },
   {
    "duration": 8,
    "start_time": "2023-07-12T09:06:04.720Z"
   },
   {
    "duration": 38,
    "start_time": "2023-07-12T09:06:04.731Z"
   },
   {
    "duration": 65,
    "start_time": "2023-07-12T09:06:04.771Z"
   },
   {
    "duration": 41,
    "start_time": "2023-07-12T09:06:04.838Z"
   },
   {
    "duration": 156,
    "start_time": "2023-07-12T09:06:04.881Z"
   },
   {
    "duration": 4,
    "start_time": "2023-07-12T09:06:05.039Z"
   },
   {
    "duration": 343,
    "start_time": "2023-07-12T09:06:05.052Z"
   },
   {
    "duration": 8,
    "start_time": "2023-07-12T09:06:05.398Z"
   },
   {
    "duration": 27,
    "start_time": "2023-07-12T09:06:05.408Z"
   },
   {
    "duration": 533,
    "start_time": "2023-07-12T09:06:05.437Z"
   },
   {
    "duration": 234,
    "start_time": "2023-07-12T09:06:05.972Z"
   },
   {
    "duration": 4,
    "start_time": "2023-07-12T09:12:56.601Z"
   },
   {
    "duration": 186,
    "start_time": "2023-07-12T09:13:30.179Z"
   },
   {
    "duration": 11,
    "start_time": "2023-07-12T09:13:48.589Z"
   },
   {
    "duration": 30,
    "start_time": "2023-07-12T09:13:50.461Z"
   },
   {
    "duration": 4,
    "start_time": "2023-07-12T09:14:13.127Z"
   },
   {
    "duration": 32,
    "start_time": "2023-07-12T09:14:14.401Z"
   },
   {
    "duration": 4,
    "start_time": "2023-07-12T09:14:22.475Z"
   },
   {
    "duration": 24,
    "start_time": "2023-07-12T09:14:24.650Z"
   },
   {
    "duration": 6,
    "start_time": "2023-07-12T09:15:08.600Z"
   },
   {
    "duration": 7,
    "start_time": "2023-07-12T09:15:19.880Z"
   },
   {
    "duration": 6,
    "start_time": "2023-07-12T09:17:38.326Z"
   },
   {
    "duration": 4,
    "start_time": "2023-07-12T09:17:47.994Z"
   },
   {
    "duration": 13,
    "start_time": "2023-07-12T09:17:50.044Z"
   },
   {
    "duration": 6,
    "start_time": "2023-07-12T09:18:26.720Z"
   },
   {
    "duration": 7,
    "start_time": "2023-07-12T09:18:33.069Z"
   },
   {
    "duration": 8,
    "start_time": "2023-07-12T09:18:39.207Z"
   },
   {
    "duration": 7,
    "start_time": "2023-07-12T09:18:44.908Z"
   },
   {
    "duration": 6,
    "start_time": "2023-07-12T09:18:47.191Z"
   },
   {
    "duration": 1814,
    "start_time": "2023-07-12T09:25:03.084Z"
   },
   {
    "duration": 45,
    "start_time": "2023-07-12T09:25:04.901Z"
   },
   {
    "duration": 125,
    "start_time": "2023-07-12T09:25:04.948Z"
   },
   {
    "duration": 76,
    "start_time": "2023-07-12T09:25:05.075Z"
   },
   {
    "duration": 75,
    "start_time": "2023-07-12T09:25:05.155Z"
   },
   {
    "duration": 104,
    "start_time": "2023-07-12T09:25:05.233Z"
   },
   {
    "duration": 365,
    "start_time": "2023-07-12T09:25:05.340Z"
   },
   {
    "duration": 349,
    "start_time": "2023-07-12T09:25:05.708Z"
   },
   {
    "duration": 205,
    "start_time": "2023-07-12T09:25:06.060Z"
   },
   {
    "duration": 392,
    "start_time": "2023-07-12T09:25:06.267Z"
   },
   {
    "duration": 219,
    "start_time": "2023-07-12T09:25:06.662Z"
   },
   {
    "duration": 434,
    "start_time": "2023-07-12T09:25:06.883Z"
   },
   {
    "duration": 15,
    "start_time": "2023-07-12T09:25:07.320Z"
   },
   {
    "duration": 72,
    "start_time": "2023-07-12T09:25:07.339Z"
   },
   {
    "duration": 115,
    "start_time": "2023-07-12T09:25:07.414Z"
   },
   {
    "duration": 131,
    "start_time": "2023-07-12T09:25:07.532Z"
   },
   {
    "duration": 229,
    "start_time": "2023-07-12T09:25:07.674Z"
   },
   {
    "duration": 5,
    "start_time": "2023-07-12T09:25:07.906Z"
   },
   {
    "duration": 419,
    "start_time": "2023-07-12T09:25:07.913Z"
   },
   {
    "duration": 9,
    "start_time": "2023-07-12T09:25:08.335Z"
   },
   {
    "duration": 85,
    "start_time": "2023-07-12T09:25:08.359Z"
   },
   {
    "duration": 71,
    "start_time": "2023-07-12T09:25:08.447Z"
   },
   {
    "duration": 82,
    "start_time": "2023-07-12T09:25:08.521Z"
   },
   {
    "duration": 88,
    "start_time": "2023-07-12T09:25:08.606Z"
   },
   {
    "duration": 27,
    "start_time": "2023-07-12T09:25:08.696Z"
   },
   {
    "duration": 660,
    "start_time": "2023-07-12T09:25:08.725Z"
   },
   {
    "duration": 307,
    "start_time": "2023-07-12T09:25:09.387Z"
   },
   {
    "duration": 10117,
    "start_time": "2023-07-12T11:05:23.685Z"
   },
   {
    "duration": 90,
    "start_time": "2023-07-12T11:05:33.804Z"
   },
   {
    "duration": 5,
    "start_time": "2023-07-12T11:05:33.895Z"
   },
   {
    "duration": 62,
    "start_time": "2023-07-12T11:05:33.902Z"
   },
   {
    "duration": 6,
    "start_time": "2023-07-12T11:05:33.966Z"
   },
   {
    "duration": 30,
    "start_time": "2023-07-12T11:05:33.974Z"
   },
   {
    "duration": 221,
    "start_time": "2023-07-12T11:05:34.005Z"
   },
   {
    "duration": 210,
    "start_time": "2023-07-12T11:05:34.228Z"
   },
   {
    "duration": 194,
    "start_time": "2023-07-12T11:05:34.440Z"
   },
   {
    "duration": 272,
    "start_time": "2023-07-12T11:05:34.637Z"
   },
   {
    "duration": 180,
    "start_time": "2023-07-12T11:05:34.913Z"
   },
   {
    "duration": 410,
    "start_time": "2023-07-12T11:05:35.096Z"
   },
   {
    "duration": 11,
    "start_time": "2023-07-12T11:05:35.514Z"
   },
   {
    "duration": 54,
    "start_time": "2023-07-12T11:05:35.527Z"
   },
   {
    "duration": 90,
    "start_time": "2023-07-12T11:05:35.583Z"
   },
   {
    "duration": 35,
    "start_time": "2023-07-12T11:05:35.675Z"
   },
   {
    "duration": 185,
    "start_time": "2023-07-12T11:05:35.713Z"
   },
   {
    "duration": 4,
    "start_time": "2023-07-12T11:05:35.900Z"
   },
   {
    "duration": 350,
    "start_time": "2023-07-12T11:05:35.912Z"
   },
   {
    "duration": 6,
    "start_time": "2023-07-12T11:05:36.264Z"
   },
   {
    "duration": 32,
    "start_time": "2023-07-12T11:05:36.272Z"
   },
   {
    "duration": 9,
    "start_time": "2023-07-12T11:05:36.306Z"
   },
   {
    "duration": 16,
    "start_time": "2023-07-12T11:05:36.317Z"
   },
   {
    "duration": 44,
    "start_time": "2023-07-12T11:05:36.335Z"
   },
   {
    "duration": 7,
    "start_time": "2023-07-12T11:05:36.381Z"
   },
   {
    "duration": 523,
    "start_time": "2023-07-12T11:05:36.390Z"
   },
   {
    "duration": 255,
    "start_time": "2023-07-12T11:05:36.915Z"
   },
   {
    "duration": 7,
    "start_time": "2023-07-12T11:06:30.529Z"
   },
   {
    "duration": 6,
    "start_time": "2023-07-12T11:06:36.102Z"
   },
   {
    "duration": 6,
    "start_time": "2023-07-12T11:06:38.173Z"
   },
   {
    "duration": 7,
    "start_time": "2023-07-12T11:06:39.280Z"
   },
   {
    "duration": 6,
    "start_time": "2023-07-12T11:06:40.273Z"
   },
   {
    "duration": 217,
    "start_time": "2023-07-12T11:07:43.286Z"
   },
   {
    "duration": 10,
    "start_time": "2023-07-12T11:08:02.992Z"
   },
   {
    "duration": 13,
    "start_time": "2023-07-12T11:08:08.998Z"
   },
   {
    "duration": 15,
    "start_time": "2023-07-12T11:08:14.975Z"
   },
   {
    "duration": 15,
    "start_time": "2023-07-12T11:08:21.236Z"
   },
   {
    "duration": 11,
    "start_time": "2023-07-12T11:08:24.001Z"
   },
   {
    "duration": 6,
    "start_time": "2023-07-12T11:08:25.957Z"
   },
   {
    "duration": 19,
    "start_time": "2023-07-12T11:08:29.037Z"
   },
   {
    "duration": 15,
    "start_time": "2023-07-12T11:08:38.696Z"
   },
   {
    "duration": 131,
    "start_time": "2023-07-12T11:08:40.729Z"
   },
   {
    "duration": 7,
    "start_time": "2023-07-12T11:08:41.670Z"
   },
   {
    "duration": 19,
    "start_time": "2023-07-12T11:08:44.485Z"
   },
   {
    "duration": 10,
    "start_time": "2023-07-12T11:08:49.985Z"
   },
   {
    "duration": 33,
    "start_time": "2023-07-12T11:09:09.876Z"
   },
   {
    "duration": 20,
    "start_time": "2023-07-12T11:09:14.100Z"
   },
   {
    "duration": 7,
    "start_time": "2023-07-12T11:09:18.108Z"
   },
   {
    "duration": 6,
    "start_time": "2023-07-12T11:09:22.189Z"
   },
   {
    "duration": 7,
    "start_time": "2023-07-12T11:09:26.468Z"
   },
   {
    "duration": 263,
    "start_time": "2023-07-12T11:15:26.912Z"
   }
  ],
  "kernelspec": {
   "display_name": "Python 3 (ipykernel)",
   "language": "python",
   "name": "python3"
  },
  "language_info": {
   "codemirror_mode": {
    "name": "ipython",
    "version": 3
   },
   "file_extension": ".py",
   "mimetype": "text/x-python",
   "name": "python",
   "nbconvert_exporter": "python",
   "pygments_lexer": "ipython3",
   "version": "3.10.9"
  },
  "toc": {
   "base_numbering": 1,
   "nav_menu": {},
   "number_sections": true,
   "sideBar": true,
   "skip_h1_title": true,
   "title_cell": "Table of Contents",
   "title_sidebar": "Contents",
   "toc_cell": false,
   "toc_position": {},
   "toc_section_display": true,
   "toc_window_display": false
  }
 },
 "nbformat": 4,
 "nbformat_minor": 2
}
