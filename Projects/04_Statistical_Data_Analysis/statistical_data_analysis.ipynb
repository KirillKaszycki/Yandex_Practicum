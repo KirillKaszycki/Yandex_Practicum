{
 "cells": [
  {
   "cell_type": "markdown",
   "id": "1db3e214",
   "metadata": {},
   "source": [
    "ТЗ\n",
    "\n",
    "Даны 3 датасета с информацикей о пользовании сервисом GoFast. Необходимо:\n",
    "- Открыть датасеты и посмотреть их содердимое\n",
    "- Провести предобработку данных, выявив и, по возможности, убрав дубли и пропуски\n",
    "- Провести исследовательский анализ данных, визуализируя нужные нам показатели\n",
    "- Сформулировать первые выводы на основе изученных данных\n",
    "- Проверить следующие гипотезы: \n",
    "\n",
    "\n",
    "1) Тратят ли пользователи с подпиской больше времени на поездки?\n",
    "\n",
    "2) Расстояние одной поездки в 3130 метров — оптимальное с точки зрения износа самоката. Можно ли сказать, что расстояние, которое проезжают пользователи с подпиской за одну поездку, не превышает 3130 метров?\n",
    "\n",
    "3) Будет ли помесячная выручка от пользователей с подпиской по месяцам выше, чем выручка от пользователей без подписки\n",
    "\n",
    "4) Техническая команда сервиса обновила сервера, с которыми взаимодействует мобильное приложение. Она надеется, что из-за этого количество обращений в техподдержку значимо снизилось"
   ]
  },
  {
   "cell_type": "markdown",
   "id": "6d247caa",
   "metadata": {},
   "source": []
  },
  {
   "cell_type": "code",
   "execution_count": 1,
   "id": "72576667",
   "metadata": {},
   "outputs": [],
   "source": [
    "import pandas as pd\n",
    "import numpy as np\n",
    "from scipy import stats as st\n",
    "import matplotlib.pyplot as plt"
   ]
  },
  {
   "cell_type": "markdown",
   "id": "c42cbe00",
   "metadata": {},
   "source": [
    "#### Шаг 1. Загрузка данных"
   ]
  },
  {
   "cell_type": "code",
   "execution_count": 2,
   "id": "eff9f206",
   "metadata": {},
   "outputs": [],
   "source": [
    "df_users = pd.read_csv('/datasets/users_go.csv', encoding='UTF-8')\n",
    "df_rides = pd.read_csv('/datasets/rides_go.csv', encoding='UTF-8')\n",
    "df_subscriptions = pd.read_csv('/datasets/subscriptions_go.csv', encoding='UTF-8')"
   ]
  },
  {
   "cell_type": "code",
   "execution_count": 3,
   "id": "0a8dbe8b",
   "metadata": {},
   "outputs": [
    {
     "name": "stdout",
     "output_type": "stream",
     "text": [
      "(1565, 5)\n"
     ]
    },
    {
     "data": {
      "text/html": [
       "<div>\n",
       "<style scoped>\n",
       "    .dataframe tbody tr th:only-of-type {\n",
       "        vertical-align: middle;\n",
       "    }\n",
       "\n",
       "    .dataframe tbody tr th {\n",
       "        vertical-align: top;\n",
       "    }\n",
       "\n",
       "    .dataframe thead th {\n",
       "        text-align: right;\n",
       "    }\n",
       "</style>\n",
       "<table border=\"1\" class=\"dataframe\">\n",
       "  <thead>\n",
       "    <tr style=\"text-align: right;\">\n",
       "      <th></th>\n",
       "      <th>user_id</th>\n",
       "      <th>name</th>\n",
       "      <th>age</th>\n",
       "      <th>city</th>\n",
       "      <th>subscription_type</th>\n",
       "    </tr>\n",
       "  </thead>\n",
       "  <tbody>\n",
       "    <tr>\n",
       "      <th>0</th>\n",
       "      <td>1</td>\n",
       "      <td>Кира</td>\n",
       "      <td>22</td>\n",
       "      <td>Тюмень</td>\n",
       "      <td>ultra</td>\n",
       "    </tr>\n",
       "    <tr>\n",
       "      <th>1</th>\n",
       "      <td>2</td>\n",
       "      <td>Станислав</td>\n",
       "      <td>31</td>\n",
       "      <td>Омск</td>\n",
       "      <td>ultra</td>\n",
       "    </tr>\n",
       "    <tr>\n",
       "      <th>2</th>\n",
       "      <td>3</td>\n",
       "      <td>Алексей</td>\n",
       "      <td>20</td>\n",
       "      <td>Москва</td>\n",
       "      <td>ultra</td>\n",
       "    </tr>\n",
       "    <tr>\n",
       "      <th>3</th>\n",
       "      <td>4</td>\n",
       "      <td>Константин</td>\n",
       "      <td>26</td>\n",
       "      <td>Ростов-на-Дону</td>\n",
       "      <td>ultra</td>\n",
       "    </tr>\n",
       "    <tr>\n",
       "      <th>4</th>\n",
       "      <td>5</td>\n",
       "      <td>Адель</td>\n",
       "      <td>28</td>\n",
       "      <td>Омск</td>\n",
       "      <td>ultra</td>\n",
       "    </tr>\n",
       "  </tbody>\n",
       "</table>\n",
       "</div>"
      ],
      "text/plain": [
       "   user_id        name  age            city subscription_type\n",
       "0        1        Кира   22          Тюмень             ultra\n",
       "1        2   Станислав   31            Омск             ultra\n",
       "2        3     Алексей   20          Москва             ultra\n",
       "3        4  Константин   26  Ростов-на-Дону             ultra\n",
       "4        5       Адель   28            Омск             ultra"
      ]
     },
     "execution_count": 3,
     "metadata": {},
     "output_type": "execute_result"
    }
   ],
   "source": [
    "print(df_users.shape)\n",
    "df_users.head()"
   ]
  },
  {
   "cell_type": "code",
   "execution_count": 4,
   "id": "e52d147a",
   "metadata": {},
   "outputs": [
    {
     "name": "stdout",
     "output_type": "stream",
     "text": [
      "(18068, 4)\n"
     ]
    },
    {
     "data": {
      "text/html": [
       "<div>\n",
       "<style scoped>\n",
       "    .dataframe tbody tr th:only-of-type {\n",
       "        vertical-align: middle;\n",
       "    }\n",
       "\n",
       "    .dataframe tbody tr th {\n",
       "        vertical-align: top;\n",
       "    }\n",
       "\n",
       "    .dataframe thead th {\n",
       "        text-align: right;\n",
       "    }\n",
       "</style>\n",
       "<table border=\"1\" class=\"dataframe\">\n",
       "  <thead>\n",
       "    <tr style=\"text-align: right;\">\n",
       "      <th></th>\n",
       "      <th>user_id</th>\n",
       "      <th>distance</th>\n",
       "      <th>duration</th>\n",
       "      <th>date</th>\n",
       "    </tr>\n",
       "  </thead>\n",
       "  <tbody>\n",
       "    <tr>\n",
       "      <th>0</th>\n",
       "      <td>1</td>\n",
       "      <td>4409.919140</td>\n",
       "      <td>25.599769</td>\n",
       "      <td>2021-01-01</td>\n",
       "    </tr>\n",
       "    <tr>\n",
       "      <th>1</th>\n",
       "      <td>1</td>\n",
       "      <td>2617.592153</td>\n",
       "      <td>15.816871</td>\n",
       "      <td>2021-01-18</td>\n",
       "    </tr>\n",
       "    <tr>\n",
       "      <th>2</th>\n",
       "      <td>1</td>\n",
       "      <td>754.159807</td>\n",
       "      <td>6.232113</td>\n",
       "      <td>2021-04-20</td>\n",
       "    </tr>\n",
       "    <tr>\n",
       "      <th>3</th>\n",
       "      <td>1</td>\n",
       "      <td>2694.783254</td>\n",
       "      <td>18.511000</td>\n",
       "      <td>2021-08-11</td>\n",
       "    </tr>\n",
       "    <tr>\n",
       "      <th>4</th>\n",
       "      <td>1</td>\n",
       "      <td>4028.687306</td>\n",
       "      <td>26.265803</td>\n",
       "      <td>2021-08-28</td>\n",
       "    </tr>\n",
       "  </tbody>\n",
       "</table>\n",
       "</div>"
      ],
      "text/plain": [
       "   user_id     distance   duration        date\n",
       "0        1  4409.919140  25.599769  2021-01-01\n",
       "1        1  2617.592153  15.816871  2021-01-18\n",
       "2        1   754.159807   6.232113  2021-04-20\n",
       "3        1  2694.783254  18.511000  2021-08-11\n",
       "4        1  4028.687306  26.265803  2021-08-28"
      ]
     },
     "execution_count": 4,
     "metadata": {},
     "output_type": "execute_result"
    }
   ],
   "source": [
    "print(df_rides.shape)\n",
    "df_rides.head()"
   ]
  },
  {
   "cell_type": "code",
   "execution_count": 5,
   "id": "d2853ed3",
   "metadata": {},
   "outputs": [
    {
     "name": "stdout",
     "output_type": "stream",
     "text": [
      "(2, 4)\n"
     ]
    },
    {
     "data": {
      "text/html": [
       "<div>\n",
       "<style scoped>\n",
       "    .dataframe tbody tr th:only-of-type {\n",
       "        vertical-align: middle;\n",
       "    }\n",
       "\n",
       "    .dataframe tbody tr th {\n",
       "        vertical-align: top;\n",
       "    }\n",
       "\n",
       "    .dataframe thead th {\n",
       "        text-align: right;\n",
       "    }\n",
       "</style>\n",
       "<table border=\"1\" class=\"dataframe\">\n",
       "  <thead>\n",
       "    <tr style=\"text-align: right;\">\n",
       "      <th></th>\n",
       "      <th>subscription_type</th>\n",
       "      <th>minute_price</th>\n",
       "      <th>start_ride_price</th>\n",
       "      <th>subscription_fee</th>\n",
       "    </tr>\n",
       "  </thead>\n",
       "  <tbody>\n",
       "    <tr>\n",
       "      <th>0</th>\n",
       "      <td>free</td>\n",
       "      <td>8</td>\n",
       "      <td>50</td>\n",
       "      <td>0</td>\n",
       "    </tr>\n",
       "    <tr>\n",
       "      <th>1</th>\n",
       "      <td>ultra</td>\n",
       "      <td>6</td>\n",
       "      <td>0</td>\n",
       "      <td>199</td>\n",
       "    </tr>\n",
       "  </tbody>\n",
       "</table>\n",
       "</div>"
      ],
      "text/plain": [
       "  subscription_type  minute_price  start_ride_price  subscription_fee\n",
       "0              free             8                50                 0\n",
       "1             ultra             6                 0               199"
      ]
     },
     "execution_count": 5,
     "metadata": {},
     "output_type": "execute_result"
    }
   ],
   "source": [
    "print(df_subscriptions.shape)\n",
    "df_subscriptions.head()"
   ]
  },
  {
   "cell_type": "code",
   "execution_count": 6,
   "id": "c188a74e",
   "metadata": {},
   "outputs": [
    {
     "data": {
      "text/html": [
       "<div>\n",
       "<style scoped>\n",
       "    .dataframe tbody tr th:only-of-type {\n",
       "        vertical-align: middle;\n",
       "    }\n",
       "\n",
       "    .dataframe tbody tr th {\n",
       "        vertical-align: top;\n",
       "    }\n",
       "\n",
       "    .dataframe thead th {\n",
       "        text-align: right;\n",
       "    }\n",
       "</style>\n",
       "<table border=\"1\" class=\"dataframe\">\n",
       "  <thead>\n",
       "    <tr style=\"text-align: right;\">\n",
       "      <th></th>\n",
       "      <th>count</th>\n",
       "      <th>mean</th>\n",
       "      <th>std</th>\n",
       "      <th>min</th>\n",
       "      <th>25%</th>\n",
       "      <th>50%</th>\n",
       "      <th>75%</th>\n",
       "      <th>max</th>\n",
       "    </tr>\n",
       "  </thead>\n",
       "  <tbody>\n",
       "    <tr>\n",
       "      <th>user_id</th>\n",
       "      <td>1565.0</td>\n",
       "      <td>762.633866</td>\n",
       "      <td>443.260155</td>\n",
       "      <td>1.0</td>\n",
       "      <td>378.0</td>\n",
       "      <td>762.0</td>\n",
       "      <td>1146.0</td>\n",
       "      <td>1534.0</td>\n",
       "    </tr>\n",
       "    <tr>\n",
       "      <th>age</th>\n",
       "      <td>1565.0</td>\n",
       "      <td>24.922045</td>\n",
       "      <td>4.553496</td>\n",
       "      <td>12.0</td>\n",
       "      <td>22.0</td>\n",
       "      <td>25.0</td>\n",
       "      <td>28.0</td>\n",
       "      <td>43.0</td>\n",
       "    </tr>\n",
       "  </tbody>\n",
       "</table>\n",
       "</div>"
      ],
      "text/plain": [
       "          count        mean         std   min    25%    50%     75%     max\n",
       "user_id  1565.0  762.633866  443.260155   1.0  378.0  762.0  1146.0  1534.0\n",
       "age      1565.0   24.922045    4.553496  12.0   22.0   25.0    28.0    43.0"
      ]
     },
     "execution_count": 6,
     "metadata": {},
     "output_type": "execute_result"
    }
   ],
   "source": [
    "# Информация по юзерам\n",
    "df_users.describe().T"
   ]
  },
  {
   "cell_type": "code",
   "execution_count": 7,
   "id": "8239676c",
   "metadata": {},
   "outputs": [
    {
     "name": "stdout",
     "output_type": "stream",
     "text": [
      "<class 'pandas.core.frame.DataFrame'>\n",
      "RangeIndex: 1565 entries, 0 to 1564\n",
      "Data columns (total 5 columns):\n",
      " #   Column             Non-Null Count  Dtype \n",
      "---  ------             --------------  ----- \n",
      " 0   user_id            1565 non-null   int64 \n",
      " 1   name               1565 non-null   object\n",
      " 2   age                1565 non-null   int64 \n",
      " 3   city               1565 non-null   object\n",
      " 4   subscription_type  1565 non-null   object\n",
      "dtypes: int64(2), object(3)\n",
      "memory usage: 61.3+ KB\n"
     ]
    }
   ],
   "source": [
    "df_users.info()"
   ]
  },
  {
   "cell_type": "code",
   "execution_count": 8,
   "id": "1a419d37",
   "metadata": {},
   "outputs": [
    {
     "data": {
      "text/html": [
       "<div>\n",
       "<style scoped>\n",
       "    .dataframe tbody tr th:only-of-type {\n",
       "        vertical-align: middle;\n",
       "    }\n",
       "\n",
       "    .dataframe tbody tr th {\n",
       "        vertical-align: top;\n",
       "    }\n",
       "\n",
       "    .dataframe thead th {\n",
       "        text-align: right;\n",
       "    }\n",
       "</style>\n",
       "<table border=\"1\" class=\"dataframe\">\n",
       "  <thead>\n",
       "    <tr style=\"text-align: right;\">\n",
       "      <th></th>\n",
       "      <th>count</th>\n",
       "      <th>mean</th>\n",
       "      <th>std</th>\n",
       "      <th>min</th>\n",
       "      <th>25%</th>\n",
       "      <th>50%</th>\n",
       "      <th>75%</th>\n",
       "      <th>max</th>\n",
       "    </tr>\n",
       "  </thead>\n",
       "  <tbody>\n",
       "    <tr>\n",
       "      <th>user_id</th>\n",
       "      <td>18068.0</td>\n",
       "      <td>842.869936</td>\n",
       "      <td>434.734317</td>\n",
       "      <td>1.000000</td>\n",
       "      <td>487.000000</td>\n",
       "      <td>889.000000</td>\n",
       "      <td>1213.250000</td>\n",
       "      <td>1534.000000</td>\n",
       "    </tr>\n",
       "    <tr>\n",
       "      <th>distance</th>\n",
       "      <td>18068.0</td>\n",
       "      <td>3070.659976</td>\n",
       "      <td>1116.831209</td>\n",
       "      <td>0.855683</td>\n",
       "      <td>2543.226360</td>\n",
       "      <td>3133.609994</td>\n",
       "      <td>3776.222735</td>\n",
       "      <td>7211.007745</td>\n",
       "    </tr>\n",
       "    <tr>\n",
       "      <th>duration</th>\n",
       "      <td>18068.0</td>\n",
       "      <td>17.805011</td>\n",
       "      <td>6.091051</td>\n",
       "      <td>0.500000</td>\n",
       "      <td>13.597563</td>\n",
       "      <td>17.678395</td>\n",
       "      <td>21.724800</td>\n",
       "      <td>40.823963</td>\n",
       "    </tr>\n",
       "  </tbody>\n",
       "</table>\n",
       "</div>"
      ],
      "text/plain": [
       "            count         mean          std       min          25%  \\\n",
       "user_id   18068.0   842.869936   434.734317  1.000000   487.000000   \n",
       "distance  18068.0  3070.659976  1116.831209  0.855683  2543.226360   \n",
       "duration  18068.0    17.805011     6.091051  0.500000    13.597563   \n",
       "\n",
       "                  50%          75%          max  \n",
       "user_id    889.000000  1213.250000  1534.000000  \n",
       "distance  3133.609994  3776.222735  7211.007745  \n",
       "duration    17.678395    21.724800    40.823963  "
      ]
     },
     "execution_count": 8,
     "metadata": {},
     "output_type": "execute_result"
    }
   ],
   "source": [
    "# Информация по поездкам\n",
    "df_rides.describe().T"
   ]
  },
  {
   "cell_type": "code",
   "execution_count": 9,
   "id": "bb416217",
   "metadata": {},
   "outputs": [
    {
     "name": "stdout",
     "output_type": "stream",
     "text": [
      "<class 'pandas.core.frame.DataFrame'>\n",
      "RangeIndex: 18068 entries, 0 to 18067\n",
      "Data columns (total 4 columns):\n",
      " #   Column    Non-Null Count  Dtype  \n",
      "---  ------    --------------  -----  \n",
      " 0   user_id   18068 non-null  int64  \n",
      " 1   distance  18068 non-null  float64\n",
      " 2   duration  18068 non-null  float64\n",
      " 3   date      18068 non-null  object \n",
      "dtypes: float64(2), int64(1), object(1)\n",
      "memory usage: 564.8+ KB\n"
     ]
    }
   ],
   "source": [
    "df_rides.info()"
   ]
  },
  {
   "cell_type": "code",
   "execution_count": 10,
   "id": "8a51f1c2",
   "metadata": {},
   "outputs": [
    {
     "data": {
      "text/html": [
       "<div>\n",
       "<style scoped>\n",
       "    .dataframe tbody tr th:only-of-type {\n",
       "        vertical-align: middle;\n",
       "    }\n",
       "\n",
       "    .dataframe tbody tr th {\n",
       "        vertical-align: top;\n",
       "    }\n",
       "\n",
       "    .dataframe thead th {\n",
       "        text-align: right;\n",
       "    }\n",
       "</style>\n",
       "<table border=\"1\" class=\"dataframe\">\n",
       "  <thead>\n",
       "    <tr style=\"text-align: right;\">\n",
       "      <th></th>\n",
       "      <th>count</th>\n",
       "      <th>mean</th>\n",
       "      <th>std</th>\n",
       "      <th>min</th>\n",
       "      <th>25%</th>\n",
       "      <th>50%</th>\n",
       "      <th>75%</th>\n",
       "      <th>max</th>\n",
       "    </tr>\n",
       "  </thead>\n",
       "  <tbody>\n",
       "    <tr>\n",
       "      <th>minute_price</th>\n",
       "      <td>2.0</td>\n",
       "      <td>7.0</td>\n",
       "      <td>1.414214</td>\n",
       "      <td>6.0</td>\n",
       "      <td>6.50</td>\n",
       "      <td>7.0</td>\n",
       "      <td>7.50</td>\n",
       "      <td>8.0</td>\n",
       "    </tr>\n",
       "    <tr>\n",
       "      <th>start_ride_price</th>\n",
       "      <td>2.0</td>\n",
       "      <td>25.0</td>\n",
       "      <td>35.355339</td>\n",
       "      <td>0.0</td>\n",
       "      <td>12.50</td>\n",
       "      <td>25.0</td>\n",
       "      <td>37.50</td>\n",
       "      <td>50.0</td>\n",
       "    </tr>\n",
       "    <tr>\n",
       "      <th>subscription_fee</th>\n",
       "      <td>2.0</td>\n",
       "      <td>99.5</td>\n",
       "      <td>140.714249</td>\n",
       "      <td>0.0</td>\n",
       "      <td>49.75</td>\n",
       "      <td>99.5</td>\n",
       "      <td>149.25</td>\n",
       "      <td>199.0</td>\n",
       "    </tr>\n",
       "  </tbody>\n",
       "</table>\n",
       "</div>"
      ],
      "text/plain": [
       "                  count  mean         std  min    25%   50%     75%    max\n",
       "minute_price        2.0   7.0    1.414214  6.0   6.50   7.0    7.50    8.0\n",
       "start_ride_price    2.0  25.0   35.355339  0.0  12.50  25.0   37.50   50.0\n",
       "subscription_fee    2.0  99.5  140.714249  0.0  49.75  99.5  149.25  199.0"
      ]
     },
     "execution_count": 10,
     "metadata": {},
     "output_type": "execute_result"
    }
   ],
   "source": [
    "# Информация по тарифам\n",
    "df_subscriptions.describe().T"
   ]
  },
  {
   "cell_type": "code",
   "execution_count": 11,
   "id": "0df16075",
   "metadata": {
    "scrolled": true
   },
   "outputs": [
    {
     "name": "stdout",
     "output_type": "stream",
     "text": [
      "<class 'pandas.core.frame.DataFrame'>\n",
      "RangeIndex: 2 entries, 0 to 1\n",
      "Data columns (total 4 columns):\n",
      " #   Column             Non-Null Count  Dtype \n",
      "---  ------             --------------  ----- \n",
      " 0   subscription_type  2 non-null      object\n",
      " 1   minute_price       2 non-null      int64 \n",
      " 2   start_ride_price   2 non-null      int64 \n",
      " 3   subscription_fee   2 non-null      int64 \n",
      "dtypes: int64(3), object(1)\n",
      "memory usage: 192.0+ bytes\n"
     ]
    }
   ],
   "source": [
    "df_subscriptions.info()"
   ]
  },
  {
   "cell_type": "markdown",
   "id": "d72f3f22",
   "metadata": {},
   "source": [
    "Мы имеем категориальные признаки: персональный ID пользователя, имя, город, тип подписки.\n",
    "\n",
    "Количественные признаки: расстояние, длительность поездки, цена за минуту, цена старта, цена подписки\n",
    "\n",
    "Также есть дата поездки"
   ]
  },
  {
   "cell_type": "markdown",
   "id": "e95ebca7",
   "metadata": {},
   "source": [
    "#### Шаг 2. Предобработка данных"
   ]
  },
  {
   "cell_type": "code",
   "execution_count": 12,
   "id": "af6d202c",
   "metadata": {},
   "outputs": [
    {
     "name": "stdout",
     "output_type": "stream",
     "text": [
      "<class 'pandas.core.frame.DataFrame'>\n",
      "RangeIndex: 18068 entries, 0 to 18067\n",
      "Data columns (total 5 columns):\n",
      " #   Column    Non-Null Count  Dtype         \n",
      "---  ------    --------------  -----         \n",
      " 0   user_id   18068 non-null  int64         \n",
      " 1   distance  18068 non-null  float64       \n",
      " 2   duration  18068 non-null  float64       \n",
      " 3   date      18068 non-null  datetime64[ns]\n",
      " 4   month     18068 non-null  int64         \n",
      "dtypes: datetime64[ns](1), float64(2), int64(2)\n",
      "memory usage: 705.9 KB\n"
     ]
    }
   ],
   "source": [
    "df_rides['date'] = pd.to_datetime(df_rides['date'])\n",
    "df_rides['month'] = df_rides['date'].dt.month\n",
    "df_rides.info()"
   ]
  },
  {
   "cell_type": "code",
   "execution_count": 13,
   "id": "3ce4aa96",
   "metadata": {},
   "outputs": [
    {
     "name": "stdout",
     "output_type": "stream",
     "text": [
      "2021-01-01 00:00:00\n",
      "2021-12-30 00:00:00\n"
     ]
    }
   ],
   "source": [
    "print(df_rides['date'].min())\n",
    "print(df_rides['date'].max())"
   ]
  },
  {
   "cell_type": "code",
   "execution_count": 14,
   "id": "d94eb0d8",
   "metadata": {},
   "outputs": [
    {
     "data": {
      "text/plain": [
       "user_id              0\n",
       "name                 0\n",
       "age                  0\n",
       "city                 0\n",
       "subscription_type    0\n",
       "dtype: int64"
      ]
     },
     "execution_count": 14,
     "metadata": {},
     "output_type": "execute_result"
    }
   ],
   "source": [
    "df_users.isna().sum()"
   ]
  },
  {
   "cell_type": "code",
   "execution_count": 15,
   "id": "8f25d9b7",
   "metadata": {},
   "outputs": [
    {
     "data": {
      "text/plain": [
       "user_id     0\n",
       "distance    0\n",
       "duration    0\n",
       "date        0\n",
       "month       0\n",
       "dtype: int64"
      ]
     },
     "execution_count": 15,
     "metadata": {},
     "output_type": "execute_result"
    }
   ],
   "source": [
    "df_rides.isna().sum()"
   ]
  },
  {
   "cell_type": "markdown",
   "id": "9c3536bf",
   "metadata": {},
   "source": [
    "Третий датафрейм нет смысла проверять на пропуски, потому что там 2 строки всего"
   ]
  },
  {
   "cell_type": "code",
   "execution_count": 16,
   "id": "8e2f5e1a",
   "metadata": {},
   "outputs": [
    {
     "data": {
      "text/plain": [
       "(1534, 5)"
      ]
     },
     "execution_count": 16,
     "metadata": {},
     "output_type": "execute_result"
    }
   ],
   "source": [
    "# 1565 -> 1534\n",
    "df_users = df_users.drop_duplicates().reset_index(drop=True)\n",
    "df_users.shape"
   ]
  },
  {
   "cell_type": "code",
   "execution_count": 17,
   "id": "2f2a6335",
   "metadata": {},
   "outputs": [
    {
     "data": {
      "text/plain": [
       "(18068, 5)"
      ]
     },
     "execution_count": 17,
     "metadata": {},
     "output_type": "execute_result"
    }
   ],
   "source": [
    "# Тут явных дупликатов нет (Что логично, учитывая, что таблица полностью из чисел и дат)\n",
    "df_rides = df_rides.drop_duplicates().reset_index(drop=True)\n",
    "df_rides.shape"
   ]
  },
  {
   "cell_type": "markdown",
   "id": "c41bad2f",
   "metadata": {},
   "source": [
    "Тут посмотрим на неявные дупликаты: Во-первых, на названия городов, во-вторых, на имена (на предмет производных по типу \"Александр\", \"Саша\", \"Саня\")"
   ]
  },
  {
   "cell_type": "code",
   "execution_count": 18,
   "id": "ca4afefb",
   "metadata": {},
   "outputs": [
    {
     "data": {
      "text/plain": [
       "array(['тюмень', 'омск', 'москва', 'ростов-на-дону', 'краснодар',\n",
       "       'пятигорск', 'екатеринбург', 'сочи'], dtype=object)"
      ]
     },
     "execution_count": 18,
     "metadata": {},
     "output_type": "execute_result"
    }
   ],
   "source": [
    "df_users['city'] = df_users['city'].str.lower()\n",
    "df_users['city'].unique()"
   ]
  },
  {
   "cell_type": "code",
   "execution_count": 19,
   "id": "9a282582",
   "metadata": {},
   "outputs": [
    {
     "data": {
      "text/plain": [
       "['агата',\n",
       " 'аделина',\n",
       " 'адель',\n",
       " 'айдар',\n",
       " 'александр',\n",
       " 'александра',\n",
       " 'алексей',\n",
       " 'алина',\n",
       " 'алиса',\n",
       " 'алия',\n",
       " 'алла',\n",
       " 'альберт',\n",
       " 'альбина',\n",
       " 'алёна',\n",
       " 'амалия',\n",
       " 'амина',\n",
       " 'амир',\n",
       " 'анастасия',\n",
       " 'анатолий',\n",
       " 'ангелина',\n",
       " 'андрей',\n",
       " 'анжелика',\n",
       " 'анна',\n",
       " 'антон',\n",
       " 'антонина',\n",
       " 'ариана',\n",
       " 'арина',\n",
       " 'арсен',\n",
       " 'арсений',\n",
       " 'артемий',\n",
       " 'артур',\n",
       " 'артём',\n",
       " 'богдан',\n",
       " 'борис',\n",
       " 'вадим',\n",
       " 'валентина',\n",
       " 'валерий',\n",
       " 'валерия',\n",
       " 'варвара',\n",
       " 'василий',\n",
       " 'василина',\n",
       " 'василиса',\n",
       " 'вера',\n",
       " 'вероника',\n",
       " 'виктор',\n",
       " 'виктория',\n",
       " 'виолетта',\n",
       " 'виталий',\n",
       " 'виталина',\n",
       " 'влад',\n",
       " 'влада',\n",
       " 'владимир',\n",
       " 'владислав',\n",
       " 'владислава',\n",
       " 'всеволод',\n",
       " 'вячеслав',\n",
       " 'галина',\n",
       " 'георгий',\n",
       " 'герман',\n",
       " 'глеб',\n",
       " 'гордей',\n",
       " 'григорий',\n",
       " 'давид',\n",
       " 'дамир',\n",
       " 'даниил',\n",
       " 'данил',\n",
       " 'данила',\n",
       " 'даниэль',\n",
       " 'дарина',\n",
       " 'дарья',\n",
       " 'демид',\n",
       " 'денис',\n",
       " 'диана',\n",
       " 'дмитрий',\n",
       " 'ева',\n",
       " 'евгений',\n",
       " 'евгения',\n",
       " 'егор',\n",
       " 'екатерина',\n",
       " 'елена',\n",
       " 'елизавета',\n",
       " 'елисей',\n",
       " 'есения',\n",
       " 'жанна',\n",
       " 'зарина',\n",
       " 'захар',\n",
       " 'злата',\n",
       " 'иван',\n",
       " 'игнат',\n",
       " 'игорь',\n",
       " 'ильдар',\n",
       " 'илья',\n",
       " 'инна',\n",
       " 'ирина',\n",
       " 'камилла',\n",
       " 'карина',\n",
       " 'каролина',\n",
       " 'кира',\n",
       " 'кирилл',\n",
       " 'константин',\n",
       " 'кристина',\n",
       " 'ксения',\n",
       " 'лариса',\n",
       " 'лев',\n",
       " 'леонид',\n",
       " 'лиана',\n",
       " 'лидия',\n",
       " 'лилия',\n",
       " 'любовь',\n",
       " 'людмила',\n",
       " 'мадина',\n",
       " 'майя',\n",
       " 'макар',\n",
       " 'максим',\n",
       " 'марат',\n",
       " 'маргарита',\n",
       " 'марина',\n",
       " 'мария',\n",
       " 'марк',\n",
       " 'марсель',\n",
       " 'матвей',\n",
       " 'мелания',\n",
       " 'милана',\n",
       " 'милена',\n",
       " 'мирон',\n",
       " 'мирослав',\n",
       " 'мирослава',\n",
       " 'михаил',\n",
       " 'назар',\n",
       " 'наталия',\n",
       " 'наталья',\n",
       " 'наташа',\n",
       " 'нелли',\n",
       " 'ника',\n",
       " 'никита',\n",
       " 'николай',\n",
       " 'нина',\n",
       " 'одиссей',\n",
       " 'оксана',\n",
       " 'олег',\n",
       " 'олеся',\n",
       " 'ольга',\n",
       " 'павел',\n",
       " 'петр',\n",
       " 'платон',\n",
       " 'полина',\n",
       " 'радмир',\n",
       " 'рамиль',\n",
       " 'регина',\n",
       " 'роберт',\n",
       " 'родион',\n",
       " 'роман',\n",
       " 'ростислав',\n",
       " 'руслан',\n",
       " 'рустам',\n",
       " 'савелий',\n",
       " 'самир',\n",
       " 'самира',\n",
       " 'светлана',\n",
       " 'святогор',\n",
       " 'святослав',\n",
       " 'семен',\n",
       " 'сергей',\n",
       " 'снежана',\n",
       " 'софия',\n",
       " 'софья',\n",
       " 'станислав',\n",
       " 'степан',\n",
       " 'стефания',\n",
       " 'таисия',\n",
       " 'тамара',\n",
       " 'тамерлан',\n",
       " 'татьяна',\n",
       " 'тимофей',\n",
       " 'тимур',\n",
       " 'тихон',\n",
       " 'ульяна',\n",
       " 'федор',\n",
       " 'эвелина',\n",
       " 'эдуард',\n",
       " 'элина',\n",
       " 'эльвира',\n",
       " 'эльмира',\n",
       " 'эмилия',\n",
       " 'эмиль',\n",
       " 'юлиана',\n",
       " 'юлия',\n",
       " 'юрий',\n",
       " 'ян',\n",
       " 'яна',\n",
       " 'яромир',\n",
       " 'ярослав',\n",
       " 'ярослава',\n",
       " 'ясмина']"
      ]
     },
     "execution_count": 19,
     "metadata": {},
     "output_type": "execute_result"
    }
   ],
   "source": [
    "df_users['name'] = df_users['name'].str.lower()\n",
    "sorted(df_users['name'].unique())"
   ]
  },
  {
   "cell_type": "markdown",
   "id": "c26bcb58",
   "metadata": {},
   "source": [
    "Неявных дупликатов не обнаружилось. В остальном, преобладают числовые значения, где нет смысла их искать"
   ]
  },
  {
   "cell_type": "code",
   "execution_count": 20,
   "id": "b1c4fbc6",
   "metadata": {},
   "outputs": [
    {
     "data": {
      "text/plain": [
       "array(['ultra', 'free'], dtype=object)"
      ]
     },
     "execution_count": 20,
     "metadata": {},
     "output_type": "execute_result"
    }
   ],
   "source": [
    "df_users['subscription_type'].unique()"
   ]
  },
  {
   "cell_type": "markdown",
   "id": "fd4a1d7e",
   "metadata": {},
   "source": [
    "Были проанализированы данные о поездках, пользователях сервиса аренды самокатов. Выбросов не обнаружено, неявных дубликатов тоже. Явные дубликаты были найдены и удалены из таблицы с пользователями. В датах, именах и городах аномалий и дубликтаов найдено не было"
   ]
  },
  {
   "cell_type": "markdown",
   "id": "212593c7",
   "metadata": {},
   "source": [
    "#### Шаг 3. Исследовательский анализ данных"
   ]
  },
  {
   "cell_type": "code",
   "execution_count": 21,
   "id": "e3a4274c",
   "metadata": {},
   "outputs": [
    {
     "data": {
      "image/png": "[encoded data removed]",
      "text/plain": [
       "<Figure size 432x288 with 1 Axes>"
      ]
     },
     "metadata": {
      "needs_background": "light"
     },
     "output_type": "display_data"
    }
   ],
   "source": [
    "city_counts = df_users.groupby('city')['city'].count().sort_values(ascending=False)\n",
    "city_counts.plot(kind='bar')\n",
    "plt.xlabel('Город')\n",
    "plt.ylabel('Частотность')\n",
    "plt.title('Частотность по городам')\n",
    "plt.grid(True)\n",
    "plt.show()"
   ]
  },
  {
   "cell_type": "code",
   "execution_count": 22,
   "id": "f9e93fcf",
   "metadata": {},
   "outputs": [
    {
     "data": {
      "text/plain": [
       "<function matplotlib.pyplot.show(close=None, block=None)>"
      ]
     },
     "execution_count": 22,
     "metadata": {},
     "output_type": "execute_result"
    },
    {
     "data": {
      "image/png": "[encoded data removed]",
      "text/plain": [
       "<Figure size 432x288 with 1 Axes>"
      ]
     },
     "metadata": {
      "needs_background": "light"
     },
     "output_type": "display_data"
    }
   ],
   "source": [
    "sub_count = df_users['subscription_type'].value_counts()\n",
    "sub_count.plot(kind='bar')\n",
    "plt.xlabel('Тип подписки')\n",
    "plt.ylabel('Частотность')\n",
    "plt.title('Соотношение тариофов')\n",
    "plt.grid(True)\n",
    "plt.show"
   ]
  },
  {
   "cell_type": "code",
   "execution_count": 23,
   "id": "17f4785d",
   "metadata": {},
   "outputs": [
    {
     "data": {
      "text/plain": [
       "array([[<AxesSubplot:title={'center':'age'}>]], dtype=object)"
      ]
     },
     "execution_count": 23,
     "metadata": {},
     "output_type": "execute_result"
    },
    {
     "data": {
      "image/png": "[encoded data removed]",
      "text/plain": [
       "<Figure size 432x288 with 1 Axes>"
      ]
     },
     "metadata": {
      "needs_background": "light"
     },
     "output_type": "display_data"
    }
   ],
   "source": [
    "df_users.hist('age', bins=40, range=(10, 50), grid=True)"
   ]
  },
  {
   "cell_type": "code",
   "execution_count": 24,
   "id": "5eeb4a83",
   "metadata": {},
   "outputs": [
    {
     "data": {
      "text/plain": [
       "<AxesSubplot:>"
      ]
     },
     "execution_count": 24,
     "metadata": {},
     "output_type": "execute_result"
    },
    {
     "data": {
      "image/png": "[encoded data removed]",
      "text/plain": [
       "<Figure size 432x288 with 1 Axes>"
      ]
     },
     "metadata": {
      "needs_background": "light"
     },
     "output_type": "display_data"
    }
   ],
   "source": [
    "df_users.boxplot('age')"
   ]
  },
  {
   "cell_type": "code",
   "execution_count": 25,
   "id": "e1d86d5d",
   "metadata": {},
   "outputs": [
    {
     "data": {
      "text/plain": [
       "array([[<AxesSubplot:title={'center':'distance'}>]], dtype=object)"
      ]
     },
     "execution_count": 25,
     "metadata": {},
     "output_type": "execute_result"
    },
    {
     "data": {
      "image/png": "[encoded data removed]",
      "text/plain": [
       "<Figure size 432x288 with 1 Axes>"
      ]
     },
     "metadata": {
      "needs_background": "light"
     },
     "output_type": "display_data"
    }
   ],
   "source": [
    "df_rides.hist('distance', bins=50, range=(0, 10000), grid=True)"
   ]
  },
  {
   "cell_type": "code",
   "execution_count": 26,
   "id": "96483e93",
   "metadata": {},
   "outputs": [
    {
     "data": {
      "text/plain": [
       "<AxesSubplot:>"
      ]
     },
     "execution_count": 26,
     "metadata": {},
     "output_type": "execute_result"
    },
    {
     "data": {
      "image/png": "[encoded data removed]",
      "text/plain": [
       "<Figure size 432x288 with 1 Axes>"
      ]
     },
     "metadata": {
      "needs_background": "light"
     },
     "output_type": "display_data"
    }
   ],
   "source": [
    "df_rides.boxplot('distance')"
   ]
  },
  {
   "cell_type": "code",
   "execution_count": 27,
   "id": "5e46c780",
   "metadata": {},
   "outputs": [
    {
     "data": {
      "text/plain": [
       "array([[<AxesSubplot:title={'center':'duration'}>]], dtype=object)"
      ]
     },
     "execution_count": 27,
     "metadata": {},
     "output_type": "execute_result"
    },
    {
     "data": {
      "image/png": "[encoded data removed]",
      "text/plain": [
       "<Figure size 432x288 with 1 Axes>"
      ]
     },
     "metadata": {
      "needs_background": "light"
     },
     "output_type": "display_data"
    }
   ],
   "source": [
    "df_rides.hist('duration', bins=50, range=(0, 50), grid=True)"
   ]
  },
  {
   "cell_type": "code",
   "execution_count": 28,
   "id": "2b47a31e",
   "metadata": {},
   "outputs": [
    {
     "data": {
      "text/plain": [
       "<AxesSubplot:>"
      ]
     },
     "execution_count": 28,
     "metadata": {},
     "output_type": "execute_result"
    },
    {
     "data": {
      "image/png": "[encoded data removed]",
      "text/plain": [
       "<Figure size 432x288 with 1 Axes>"
      ]
     },
     "metadata": {
      "needs_background": "light"
     },
     "output_type": "display_data"
    }
   ],
   "source": [
    "df_rides.boxplot('duration')"
   ]
  },
  {
   "cell_type": "markdown",
   "id": "c2daf8f7",
   "metadata": {},
   "source": [
    "**Выводы**\n",
    "\n",
    "1) Опираясь на данные по городам, можно предположить, что популярность самокатов, примерно, одинаковая, ведь разница между максимальным и минимальным значением около 15%. Однако, данных не так много, чтобы с уверенностью делать такой вывод.\n",
    "\n",
    "2) Хоть спросом пользуются как сервис с подпиской, так и без, больше людей предпочитают подписку не оформлять.\n",
    "\n",
    "3) Наиболее частыми пользователями сервиса являются люди в возрасте от 22 до 30 лет.\n",
    "\n",
    "4) Есть небольшой рост спроса на короткие поездки до 1 км, однако больнишство арендует самокаты для поездок на расстояния 2.5 - 3.5 км.\n",
    "\n",
    "5) Большинство поездок длятся от 12 до 22 минут.\n",
    "\n",
    "Из времени и расстояния можно предположить, что средняя скорость самокатов около 12 км/ч, что может говорить о том, что ими пользуются в оживлённых районах города (центр, к примеру). Большое количество люедй зачастую не позволяет разгоняться больше."
   ]
  },
  {
   "cell_type": "markdown",
   "id": "4ef51331",
   "metadata": {},
   "source": [
    "#### Шаг 4. Объединение данных"
   ]
  },
  {
   "cell_type": "code",
   "execution_count": 29,
   "id": "bf23f038",
   "metadata": {},
   "outputs": [
    {
     "name": "stdout",
     "output_type": "stream",
     "text": [
      "(1534, 5)\n",
      "(18068, 5)\n",
      "(2, 4)\n"
     ]
    }
   ],
   "source": [
    "print(df_users.shape)\n",
    "print(df_rides.shape)\n",
    "print(df_subscriptions.shape)"
   ]
  },
  {
   "cell_type": "code",
   "execution_count": 30,
   "id": "6bf288b5",
   "metadata": {},
   "outputs": [
    {
     "data": {
      "text/html": [
       "<div>\n",
       "<style scoped>\n",
       "    .dataframe tbody tr th:only-of-type {\n",
       "        vertical-align: middle;\n",
       "    }\n",
       "\n",
       "    .dataframe tbody tr th {\n",
       "        vertical-align: top;\n",
       "    }\n",
       "\n",
       "    .dataframe thead th {\n",
       "        text-align: right;\n",
       "    }\n",
       "</style>\n",
       "<table border=\"1\" class=\"dataframe\">\n",
       "  <thead>\n",
       "    <tr style=\"text-align: right;\">\n",
       "      <th></th>\n",
       "      <th>index</th>\n",
       "      <th>user_id</th>\n",
       "      <th>name</th>\n",
       "      <th>age</th>\n",
       "      <th>city</th>\n",
       "      <th>subscription_type</th>\n",
       "      <th>distance</th>\n",
       "      <th>duration</th>\n",
       "      <th>date</th>\n",
       "      <th>month</th>\n",
       "      <th>minute_price</th>\n",
       "      <th>start_ride_price</th>\n",
       "      <th>subscription_fee</th>\n",
       "    </tr>\n",
       "  </thead>\n",
       "  <tbody>\n",
       "    <tr>\n",
       "      <th>0</th>\n",
       "      <td>0</td>\n",
       "      <td>1</td>\n",
       "      <td>кира</td>\n",
       "      <td>22</td>\n",
       "      <td>тюмень</td>\n",
       "      <td>ultra</td>\n",
       "      <td>4409.919140</td>\n",
       "      <td>25.599769</td>\n",
       "      <td>2021-01-01</td>\n",
       "      <td>1</td>\n",
       "      <td>6</td>\n",
       "      <td>0</td>\n",
       "      <td>199</td>\n",
       "    </tr>\n",
       "    <tr>\n",
       "      <th>1</th>\n",
       "      <td>1</td>\n",
       "      <td>1</td>\n",
       "      <td>кира</td>\n",
       "      <td>22</td>\n",
       "      <td>тюмень</td>\n",
       "      <td>ultra</td>\n",
       "      <td>2617.592153</td>\n",
       "      <td>15.816871</td>\n",
       "      <td>2021-01-18</td>\n",
       "      <td>1</td>\n",
       "      <td>6</td>\n",
       "      <td>0</td>\n",
       "      <td>199</td>\n",
       "    </tr>\n",
       "    <tr>\n",
       "      <th>2</th>\n",
       "      <td>2</td>\n",
       "      <td>1</td>\n",
       "      <td>кира</td>\n",
       "      <td>22</td>\n",
       "      <td>тюмень</td>\n",
       "      <td>ultra</td>\n",
       "      <td>754.159807</td>\n",
       "      <td>6.232113</td>\n",
       "      <td>2021-04-20</td>\n",
       "      <td>4</td>\n",
       "      <td>6</td>\n",
       "      <td>0</td>\n",
       "      <td>199</td>\n",
       "    </tr>\n",
       "    <tr>\n",
       "      <th>3</th>\n",
       "      <td>3</td>\n",
       "      <td>1</td>\n",
       "      <td>кира</td>\n",
       "      <td>22</td>\n",
       "      <td>тюмень</td>\n",
       "      <td>ultra</td>\n",
       "      <td>2694.783254</td>\n",
       "      <td>18.511000</td>\n",
       "      <td>2021-08-11</td>\n",
       "      <td>8</td>\n",
       "      <td>6</td>\n",
       "      <td>0</td>\n",
       "      <td>199</td>\n",
       "    </tr>\n",
       "    <tr>\n",
       "      <th>4</th>\n",
       "      <td>4</td>\n",
       "      <td>1</td>\n",
       "      <td>кира</td>\n",
       "      <td>22</td>\n",
       "      <td>тюмень</td>\n",
       "      <td>ultra</td>\n",
       "      <td>4028.687306</td>\n",
       "      <td>26.265803</td>\n",
       "      <td>2021-08-28</td>\n",
       "      <td>8</td>\n",
       "      <td>6</td>\n",
       "      <td>0</td>\n",
       "      <td>199</td>\n",
       "    </tr>\n",
       "  </tbody>\n",
       "</table>\n",
       "</div>"
      ],
      "text/plain": [
       "   index  user_id  name  age    city subscription_type     distance  \\\n",
       "0      0        1  кира   22  тюмень             ultra  4409.919140   \n",
       "1      1        1  кира   22  тюмень             ultra  2617.592153   \n",
       "2      2        1  кира   22  тюмень             ultra   754.159807   \n",
       "3      3        1  кира   22  тюмень             ultra  2694.783254   \n",
       "4      4        1  кира   22  тюмень             ultra  4028.687306   \n",
       "\n",
       "    duration       date  month  minute_price  start_ride_price  \\\n",
       "0  25.599769 2021-01-01      1             6                 0   \n",
       "1  15.816871 2021-01-18      1             6                 0   \n",
       "2   6.232113 2021-04-20      4             6                 0   \n",
       "3  18.511000 2021-08-11      8             6                 0   \n",
       "4  26.265803 2021-08-28      8             6                 0   \n",
       "\n",
       "   subscription_fee  \n",
       "0               199  \n",
       "1               199  \n",
       "2               199  \n",
       "3               199  \n",
       "4               199  "
      ]
     },
     "execution_count": 30,
     "metadata": {},
     "output_type": "execute_result"
    }
   ],
   "source": [
    "merged_df = df_users.merge(df_rides, on='user_id').reset_index()\n",
    "merged_df = merged_df.merge(df_subscriptions, on='subscription_type')\n",
    "merged_df.head()"
   ]
  },
  {
   "cell_type": "code",
   "execution_count": 31,
   "id": "30b4898f",
   "metadata": {},
   "outputs": [
    {
     "data": {
      "text/plain": [
       "(18068, 13)"
      ]
     },
     "execution_count": 31,
     "metadata": {},
     "output_type": "execute_result"
    }
   ],
   "source": [
    "merged_df.shape"
   ]
  },
  {
   "cell_type": "code",
   "execution_count": 32,
   "id": "f55d70bd",
   "metadata": {},
   "outputs": [
    {
     "data": {
      "text/html": [
       "<div>\n",
       "<style scoped>\n",
       "    .dataframe tbody tr th:only-of-type {\n",
       "        vertical-align: middle;\n",
       "    }\n",
       "\n",
       "    .dataframe tbody tr th {\n",
       "        vertical-align: top;\n",
       "    }\n",
       "\n",
       "    .dataframe thead th {\n",
       "        text-align: right;\n",
       "    }\n",
       "</style>\n",
       "<table border=\"1\" class=\"dataframe\">\n",
       "  <thead>\n",
       "    <tr style=\"text-align: right;\">\n",
       "      <th></th>\n",
       "      <th>level_0</th>\n",
       "      <th>index</th>\n",
       "      <th>user_id</th>\n",
       "      <th>name</th>\n",
       "      <th>age</th>\n",
       "      <th>city</th>\n",
       "      <th>subscription_type</th>\n",
       "      <th>distance</th>\n",
       "      <th>duration</th>\n",
       "      <th>date</th>\n",
       "      <th>month</th>\n",
       "      <th>minute_price</th>\n",
       "      <th>start_ride_price</th>\n",
       "      <th>subscription_fee</th>\n",
       "    </tr>\n",
       "  </thead>\n",
       "  <tbody>\n",
       "    <tr>\n",
       "      <th>0</th>\n",
       "      <td>6500</td>\n",
       "      <td>6500</td>\n",
       "      <td>700</td>\n",
       "      <td>айдар</td>\n",
       "      <td>22</td>\n",
       "      <td>омск</td>\n",
       "      <td>free</td>\n",
       "      <td>2515.690719</td>\n",
       "      <td>14.944286</td>\n",
       "      <td>2021-01-02</td>\n",
       "      <td>1</td>\n",
       "      <td>8</td>\n",
       "      <td>50</td>\n",
       "      <td>0</td>\n",
       "    </tr>\n",
       "    <tr>\n",
       "      <th>1</th>\n",
       "      <td>6501</td>\n",
       "      <td>6501</td>\n",
       "      <td>700</td>\n",
       "      <td>айдар</td>\n",
       "      <td>22</td>\n",
       "      <td>омск</td>\n",
       "      <td>free</td>\n",
       "      <td>846.932642</td>\n",
       "      <td>16.234663</td>\n",
       "      <td>2021-02-01</td>\n",
       "      <td>2</td>\n",
       "      <td>8</td>\n",
       "      <td>50</td>\n",
       "      <td>0</td>\n",
       "    </tr>\n",
       "    <tr>\n",
       "      <th>2</th>\n",
       "      <td>6502</td>\n",
       "      <td>6502</td>\n",
       "      <td>700</td>\n",
       "      <td>айдар</td>\n",
       "      <td>22</td>\n",
       "      <td>омск</td>\n",
       "      <td>free</td>\n",
       "      <td>4004.434142</td>\n",
       "      <td>20.016628</td>\n",
       "      <td>2021-02-04</td>\n",
       "      <td>2</td>\n",
       "      <td>8</td>\n",
       "      <td>50</td>\n",
       "      <td>0</td>\n",
       "    </tr>\n",
       "    <tr>\n",
       "      <th>3</th>\n",
       "      <td>6503</td>\n",
       "      <td>6503</td>\n",
       "      <td>700</td>\n",
       "      <td>айдар</td>\n",
       "      <td>22</td>\n",
       "      <td>омск</td>\n",
       "      <td>free</td>\n",
       "      <td>1205.911290</td>\n",
       "      <td>9.782872</td>\n",
       "      <td>2021-02-10</td>\n",
       "      <td>2</td>\n",
       "      <td>8</td>\n",
       "      <td>50</td>\n",
       "      <td>0</td>\n",
       "    </tr>\n",
       "    <tr>\n",
       "      <th>4</th>\n",
       "      <td>6504</td>\n",
       "      <td>6504</td>\n",
       "      <td>700</td>\n",
       "      <td>айдар</td>\n",
       "      <td>22</td>\n",
       "      <td>омск</td>\n",
       "      <td>free</td>\n",
       "      <td>3047.379435</td>\n",
       "      <td>17.427673</td>\n",
       "      <td>2021-02-14</td>\n",
       "      <td>2</td>\n",
       "      <td>8</td>\n",
       "      <td>50</td>\n",
       "      <td>0</td>\n",
       "    </tr>\n",
       "  </tbody>\n",
       "</table>\n",
       "</div>"
      ],
      "text/plain": [
       "   level_0  index  user_id   name  age  city subscription_type     distance  \\\n",
       "0     6500   6500      700  айдар   22  омск              free  2515.690719   \n",
       "1     6501   6501      700  айдар   22  омск              free   846.932642   \n",
       "2     6502   6502      700  айдар   22  омск              free  4004.434142   \n",
       "3     6503   6503      700  айдар   22  омск              free  1205.911290   \n",
       "4     6504   6504      700  айдар   22  омск              free  3047.379435   \n",
       "\n",
       "    duration       date  month  minute_price  start_ride_price  \\\n",
       "0  14.944286 2021-01-02      1             8                50   \n",
       "1  16.234663 2021-02-01      2             8                50   \n",
       "2  20.016628 2021-02-04      2             8                50   \n",
       "3   9.782872 2021-02-10      2             8                50   \n",
       "4  17.427673 2021-02-14      2             8                50   \n",
       "\n",
       "   subscription_fee  \n",
       "0                 0  \n",
       "1                 0  \n",
       "2                 0  \n",
       "3                 0  \n",
       "4                 0  "
      ]
     },
     "execution_count": 32,
     "metadata": {},
     "output_type": "execute_result"
    }
   ],
   "source": [
    "df_free = merged_df.loc[merged_df['subscription_type'] == 'free'].reset_index()\n",
    "df_free.head()"
   ]
  },
  {
   "cell_type": "code",
   "execution_count": 33,
   "id": "d633ee88",
   "metadata": {},
   "outputs": [
    {
     "data": {
      "text/html": [
       "<div>\n",
       "<style scoped>\n",
       "    .dataframe tbody tr th:only-of-type {\n",
       "        vertical-align: middle;\n",
       "    }\n",
       "\n",
       "    .dataframe tbody tr th {\n",
       "        vertical-align: top;\n",
       "    }\n",
       "\n",
       "    .dataframe thead th {\n",
       "        text-align: right;\n",
       "    }\n",
       "</style>\n",
       "<table border=\"1\" class=\"dataframe\">\n",
       "  <thead>\n",
       "    <tr style=\"text-align: right;\">\n",
       "      <th></th>\n",
       "      <th>index</th>\n",
       "      <th>user_id</th>\n",
       "      <th>name</th>\n",
       "      <th>age</th>\n",
       "      <th>city</th>\n",
       "      <th>subscription_type</th>\n",
       "      <th>distance</th>\n",
       "      <th>duration</th>\n",
       "      <th>date</th>\n",
       "      <th>month</th>\n",
       "      <th>minute_price</th>\n",
       "      <th>start_ride_price</th>\n",
       "      <th>subscription_fee</th>\n",
       "    </tr>\n",
       "  </thead>\n",
       "  <tbody>\n",
       "    <tr>\n",
       "      <th>0</th>\n",
       "      <td>0</td>\n",
       "      <td>1</td>\n",
       "      <td>кира</td>\n",
       "      <td>22</td>\n",
       "      <td>тюмень</td>\n",
       "      <td>ultra</td>\n",
       "      <td>4409.919140</td>\n",
       "      <td>25.599769</td>\n",
       "      <td>2021-01-01</td>\n",
       "      <td>1</td>\n",
       "      <td>6</td>\n",
       "      <td>0</td>\n",
       "      <td>199</td>\n",
       "    </tr>\n",
       "    <tr>\n",
       "      <th>1</th>\n",
       "      <td>1</td>\n",
       "      <td>1</td>\n",
       "      <td>кира</td>\n",
       "      <td>22</td>\n",
       "      <td>тюмень</td>\n",
       "      <td>ultra</td>\n",
       "      <td>2617.592153</td>\n",
       "      <td>15.816871</td>\n",
       "      <td>2021-01-18</td>\n",
       "      <td>1</td>\n",
       "      <td>6</td>\n",
       "      <td>0</td>\n",
       "      <td>199</td>\n",
       "    </tr>\n",
       "    <tr>\n",
       "      <th>2</th>\n",
       "      <td>2</td>\n",
       "      <td>1</td>\n",
       "      <td>кира</td>\n",
       "      <td>22</td>\n",
       "      <td>тюмень</td>\n",
       "      <td>ultra</td>\n",
       "      <td>754.159807</td>\n",
       "      <td>6.232113</td>\n",
       "      <td>2021-04-20</td>\n",
       "      <td>4</td>\n",
       "      <td>6</td>\n",
       "      <td>0</td>\n",
       "      <td>199</td>\n",
       "    </tr>\n",
       "    <tr>\n",
       "      <th>3</th>\n",
       "      <td>3</td>\n",
       "      <td>1</td>\n",
       "      <td>кира</td>\n",
       "      <td>22</td>\n",
       "      <td>тюмень</td>\n",
       "      <td>ultra</td>\n",
       "      <td>2694.783254</td>\n",
       "      <td>18.511000</td>\n",
       "      <td>2021-08-11</td>\n",
       "      <td>8</td>\n",
       "      <td>6</td>\n",
       "      <td>0</td>\n",
       "      <td>199</td>\n",
       "    </tr>\n",
       "    <tr>\n",
       "      <th>4</th>\n",
       "      <td>4</td>\n",
       "      <td>1</td>\n",
       "      <td>кира</td>\n",
       "      <td>22</td>\n",
       "      <td>тюмень</td>\n",
       "      <td>ultra</td>\n",
       "      <td>4028.687306</td>\n",
       "      <td>26.265803</td>\n",
       "      <td>2021-08-28</td>\n",
       "      <td>8</td>\n",
       "      <td>6</td>\n",
       "      <td>0</td>\n",
       "      <td>199</td>\n",
       "    </tr>\n",
       "  </tbody>\n",
       "</table>\n",
       "</div>"
      ],
      "text/plain": [
       "   index  user_id  name  age    city subscription_type     distance  \\\n",
       "0      0        1  кира   22  тюмень             ultra  4409.919140   \n",
       "1      1        1  кира   22  тюмень             ultra  2617.592153   \n",
       "2      2        1  кира   22  тюмень             ultra   754.159807   \n",
       "3      3        1  кира   22  тюмень             ultra  2694.783254   \n",
       "4      4        1  кира   22  тюмень             ultra  4028.687306   \n",
       "\n",
       "    duration       date  month  minute_price  start_ride_price  \\\n",
       "0  25.599769 2021-01-01      1             6                 0   \n",
       "1  15.816871 2021-01-18      1             6                 0   \n",
       "2   6.232113 2021-04-20      4             6                 0   \n",
       "3  18.511000 2021-08-11      8             6                 0   \n",
       "4  26.265803 2021-08-28      8             6                 0   \n",
       "\n",
       "   subscription_fee  \n",
       "0               199  \n",
       "1               199  \n",
       "2               199  \n",
       "3               199  \n",
       "4               199  "
      ]
     },
     "execution_count": 33,
     "metadata": {},
     "output_type": "execute_result"
    }
   ],
   "source": [
    "df_ultra = merged_df.loc[merged_df['subscription_type'] == 'ultra']\n",
    "df_ultra.head()"
   ]
  },
  {
   "cell_type": "code",
   "execution_count": 34,
   "id": "c33222c5",
   "metadata": {},
   "outputs": [
    {
     "data": {
      "image/png": "[encoded data removed]",
      "text/plain": [
       "<Figure size 432x288 with 1 Axes>"
      ]
     },
     "metadata": {
      "needs_background": "light"
     },
     "output_type": "display_data"
    }
   ],
   "source": [
    "plt.hist(df_free['duration'], bins=30, color='red', alpha=0.5, label='Free')\n",
    "plt.hist(df_ultra['duration'], bins=30, color='blue', alpha=0.5, label='Free')\n",
    "plt.grid(True)\n",
    "plt.xlabel('Длительность')\n",
    "plt.ylabel('Количество')\n",
    "plt.title('Длительность в зависимости от подписки')\n",
    "plt.legend(['free', 'ultra'])\n",
    "plt.show()"
   ]
  },
  {
   "cell_type": "markdown",
   "id": "40f72d16",
   "metadata": {},
   "source": [
    "Предварительно, пользователи чаще пользуются бесплатным тарифом. Средняя длительность не отличается взависимости от тарифа"
   ]
  },
  {
   "cell_type": "code",
   "execution_count": 35,
   "id": "5b919304",
   "metadata": {},
   "outputs": [
    {
     "data": {
      "image/png": "[encoded data removed]",
      "text/plain": [
       "<Figure size 432x288 with 1 Axes>"
      ]
     },
     "metadata": {
      "needs_background": "light"
     },
     "output_type": "display_data"
    }
   ],
   "source": [
    "plt.hist(df_free['distance'], bins=30, color='red', alpha=0.5, label='Free')\n",
    "plt.hist(df_ultra['distance'], bins=30, color='blue', alpha=0.5, label='Free')\n",
    "plt.grid(True)\n",
    "plt.xlabel('Расстояние')\n",
    "plt.ylabel('Количество')\n",
    "plt.title('Расстояние в зависимости от подписки')\n",
    "plt.legend(['free', 'ultra'])\n",
    "plt.show()"
   ]
  },
  {
   "cell_type": "markdown",
   "id": "b5027e23",
   "metadata": {},
   "source": [
    "Предварительно, пользователи с бесплатным тарифом чаще ездят на расстояния от 1.5 до 2.5 км и от 3.5 и выше, чем пользователи с подпиской. "
   ]
  },
  {
   "cell_type": "markdown",
   "id": "402d620f",
   "metadata": {},
   "source": [
    "#### Шаг 5. Подсчёт выручки"
   ]
  },
  {
   "cell_type": "code",
   "execution_count": 36,
   "id": "53049e0a",
   "metadata": {
    "scrolled": true
   },
   "outputs": [
    {
     "data": {
      "text/plain": [
       "Index(['index', 'user_id', 'name', 'age', 'city', 'subscription_type',\n",
       "       'distance', 'duration', 'date', 'month', 'minute_price',\n",
       "       'start_ride_price', 'subscription_fee'],\n",
       "      dtype='object')"
      ]
     },
     "execution_count": 36,
     "metadata": {},
     "output_type": "execute_result"
    }
   ],
   "source": [
    "merged_df.columns"
   ]
  },
  {
   "cell_type": "code",
   "execution_count": 37,
   "id": "f76c4e4c",
   "metadata": {},
   "outputs": [
    {
     "data": {
      "text/html": [
       "<div>\n",
       "<style scoped>\n",
       "    .dataframe tbody tr th:only-of-type {\n",
       "        vertical-align: middle;\n",
       "    }\n",
       "\n",
       "    .dataframe tbody tr th {\n",
       "        vertical-align: top;\n",
       "    }\n",
       "\n",
       "    .dataframe thead th {\n",
       "        text-align: right;\n",
       "    }\n",
       "</style>\n",
       "<table border=\"1\" class=\"dataframe\">\n",
       "  <thead>\n",
       "    <tr style=\"text-align: right;\">\n",
       "      <th></th>\n",
       "      <th></th>\n",
       "      <th>distance</th>\n",
       "      <th>duration</th>\n",
       "      <th>date</th>\n",
       "    </tr>\n",
       "    <tr>\n",
       "      <th>user_id</th>\n",
       "      <th>month</th>\n",
       "      <th></th>\n",
       "      <th></th>\n",
       "      <th></th>\n",
       "    </tr>\n",
       "  </thead>\n",
       "  <tbody>\n",
       "    <tr>\n",
       "      <th rowspan=\"5\" valign=\"top\">1</th>\n",
       "      <th>1</th>\n",
       "      <td>7027.511294</td>\n",
       "      <td>42</td>\n",
       "      <td>2</td>\n",
       "    </tr>\n",
       "    <tr>\n",
       "      <th>4</th>\n",
       "      <td>754.159807</td>\n",
       "      <td>7</td>\n",
       "      <td>1</td>\n",
       "    </tr>\n",
       "    <tr>\n",
       "      <th>8</th>\n",
       "      <td>6723.470560</td>\n",
       "      <td>46</td>\n",
       "      <td>2</td>\n",
       "    </tr>\n",
       "    <tr>\n",
       "      <th>10</th>\n",
       "      <td>5809.911100</td>\n",
       "      <td>32</td>\n",
       "      <td>2</td>\n",
       "    </tr>\n",
       "    <tr>\n",
       "      <th>11</th>\n",
       "      <td>7003.499363</td>\n",
       "      <td>56</td>\n",
       "      <td>3</td>\n",
       "    </tr>\n",
       "  </tbody>\n",
       "</table>\n",
       "</div>"
      ],
      "text/plain": [
       "                  distance  duration  date\n",
       "user_id month                             \n",
       "1       1      7027.511294        42     2\n",
       "        4       754.159807         7     1\n",
       "        8      6723.470560        46     2\n",
       "        10     5809.911100        32     2\n",
       "        11     7003.499363        56     3"
      ]
     },
     "execution_count": 37,
     "metadata": {},
     "output_type": "execute_result"
    }
   ],
   "source": [
    "merged_df['duration'] = np.ceil(merged_df['duration']).astype('int64')\n",
    "aggregated_df = merged_df.groupby(['user_id', 'month']).agg({\n",
    "    'distance':'sum',\n",
    "    'duration':'sum',\n",
    "    'date':'count'\n",
    "})\n",
    "\n",
    "aggregated_df.head()"
   ]
  },
  {
   "cell_type": "code",
   "execution_count": 38,
   "id": "477d64e4",
   "metadata": {},
   "outputs": [
    {
     "data": {
      "text/html": [
       "<div>\n",
       "<style scoped>\n",
       "    .dataframe tbody tr th:only-of-type {\n",
       "        vertical-align: middle;\n",
       "    }\n",
       "\n",
       "    .dataframe tbody tr th {\n",
       "        vertical-align: top;\n",
       "    }\n",
       "\n",
       "    .dataframe thead th {\n",
       "        text-align: right;\n",
       "    }\n",
       "</style>\n",
       "<table border=\"1\" class=\"dataframe\">\n",
       "  <thead>\n",
       "    <tr style=\"text-align: right;\">\n",
       "      <th></th>\n",
       "      <th>user_id</th>\n",
       "      <th>month</th>\n",
       "      <th>distance</th>\n",
       "      <th>duration</th>\n",
       "      <th>ride_count</th>\n",
       "      <th>monthly_revenue</th>\n",
       "      <th>subscription_type</th>\n",
       "    </tr>\n",
       "  </thead>\n",
       "  <tbody>\n",
       "    <tr>\n",
       "      <th>0</th>\n",
       "      <td>1</td>\n",
       "      <td>1</td>\n",
       "      <td>7027.511294</td>\n",
       "      <td>42</td>\n",
       "      <td>2</td>\n",
       "      <td>451</td>\n",
       "      <td>ultra</td>\n",
       "    </tr>\n",
       "    <tr>\n",
       "      <th>1</th>\n",
       "      <td>1</td>\n",
       "      <td>4</td>\n",
       "      <td>754.159807</td>\n",
       "      <td>7</td>\n",
       "      <td>1</td>\n",
       "      <td>241</td>\n",
       "      <td>ultra</td>\n",
       "    </tr>\n",
       "    <tr>\n",
       "      <th>2</th>\n",
       "      <td>1</td>\n",
       "      <td>8</td>\n",
       "      <td>6723.470560</td>\n",
       "      <td>46</td>\n",
       "      <td>2</td>\n",
       "      <td>475</td>\n",
       "      <td>ultra</td>\n",
       "    </tr>\n",
       "    <tr>\n",
       "      <th>3</th>\n",
       "      <td>1</td>\n",
       "      <td>10</td>\n",
       "      <td>5809.911100</td>\n",
       "      <td>32</td>\n",
       "      <td>2</td>\n",
       "      <td>391</td>\n",
       "      <td>ultra</td>\n",
       "    </tr>\n",
       "    <tr>\n",
       "      <th>4</th>\n",
       "      <td>1</td>\n",
       "      <td>11</td>\n",
       "      <td>7003.499363</td>\n",
       "      <td>56</td>\n",
       "      <td>3</td>\n",
       "      <td>535</td>\n",
       "      <td>ultra</td>\n",
       "    </tr>\n",
       "  </tbody>\n",
       "</table>\n",
       "</div>"
      ],
      "text/plain": [
       "   user_id  month     distance  duration  ride_count  monthly_revenue  \\\n",
       "0        1      1  7027.511294        42           2              451   \n",
       "1        1      4   754.159807         7           1              241   \n",
       "2        1      8  6723.470560        46           2              475   \n",
       "3        1     10  5809.911100        32           2              391   \n",
       "4        1     11  7003.499363        56           3              535   \n",
       "\n",
       "  subscription_type  \n",
       "0             ultra  \n",
       "1             ultra  \n",
       "2             ultra  \n",
       "3             ultra  \n",
       "4             ultra  "
      ]
     },
     "execution_count": 38,
     "metadata": {},
     "output_type": "execute_result"
    }
   ],
   "source": [
    "pivot_df = merged_df.groupby(['user_id', 'month']).agg({\n",
    "    'distance': 'sum',\n",
    "    'duration': 'sum',\n",
    "    'date': 'count'\n",
    "}).reset_index()\n",
    "\n",
    "revenue_df = merged_df.groupby(['user_id', 'month']).agg({\n",
    "    'duration': 'sum',\n",
    "    'minute_price': 'first',\n",
    "    'start_ride_price': 'first',\n",
    "    'subscription_fee': 'first'\n",
    "}).reset_index()\n",
    "\n",
    "revenue_df['subscription_type'] = merged_df['subscription_type']\n",
    "\n",
    "revenue_df['ride_cost'] = np.where(\n",
    "    revenue_df['subscription_type'] == 'ultra',\n",
    "    revenue_df['duration'] * revenue_df['minute_price'] + revenue_df['start_ride_price'] + revenue_df['subscription_fee'],\n",
    "    revenue_df['duration'] * revenue_df['minute_price'] + revenue_df['start_ride_price']\n",
    ")\n",
    "\n",
    "ride_count_df = merged_df.groupby(['user_id', 'month']).size().reset_index(name='ride_count')\n",
    "\n",
    "pivot_df = pivot_df.merge(revenue_df[['user_id', 'month', 'ride_cost', 'subscription_type']], on=['user_id', 'month'], how='left')\n",
    "pivot_df = pivot_df.merge(ride_count_df, on=['user_id', 'month'], how='left')\n",
    "pivot_df.rename(columns={'ride_cost': 'monthly_revenue'}, inplace=True)\n",
    "\n",
    "pivot_df = pivot_df[['user_id', 'month', 'distance', 'duration', 'ride_count', 'monthly_revenue', 'subscription_type']]\n",
    "pivot_df.sort_values(by=['user_id', 'month'], inplace=True)\n",
    "\n",
    "pivot_df.head()"
   ]
  },
  {
   "cell_type": "markdown",
   "id": "41545ac0",
   "metadata": {},
   "source": [
    "#### Шаг 6. Проверка гипотез"
   ]
  },
  {
   "cell_type": "markdown",
   "id": "5fd1a511",
   "metadata": {},
   "source": [
    "Выше я уже делал график распределения длительности поездок пользователей с подпиской и без, но стоит понимать, что размер выборок может быть разный"
   ]
  },
  {
   "cell_type": "code",
   "execution_count": 39,
   "id": "23ea867b",
   "metadata": {},
   "outputs": [
    {
     "data": {
      "text/html": [
       "<div>\n",
       "<style scoped>\n",
       "    .dataframe tbody tr th:only-of-type {\n",
       "        vertical-align: middle;\n",
       "    }\n",
       "\n",
       "    .dataframe tbody tr th {\n",
       "        vertical-align: top;\n",
       "    }\n",
       "\n",
       "    .dataframe thead th {\n",
       "        text-align: right;\n",
       "    }\n",
       "</style>\n",
       "<table border=\"1\" class=\"dataframe\">\n",
       "  <thead>\n",
       "    <tr style=\"text-align: right;\">\n",
       "      <th></th>\n",
       "      <th>level_0</th>\n",
       "      <th>index</th>\n",
       "      <th>user_id</th>\n",
       "      <th>name</th>\n",
       "      <th>age</th>\n",
       "      <th>city</th>\n",
       "      <th>subscription_type</th>\n",
       "      <th>distance</th>\n",
       "      <th>duration</th>\n",
       "      <th>date</th>\n",
       "      <th>month</th>\n",
       "      <th>minute_price</th>\n",
       "      <th>start_ride_price</th>\n",
       "      <th>subscription_fee</th>\n",
       "    </tr>\n",
       "  </thead>\n",
       "  <tbody>\n",
       "    <tr>\n",
       "      <th>0</th>\n",
       "      <td>6500</td>\n",
       "      <td>6500</td>\n",
       "      <td>700</td>\n",
       "      <td>айдар</td>\n",
       "      <td>22</td>\n",
       "      <td>омск</td>\n",
       "      <td>free</td>\n",
       "      <td>2515.690719</td>\n",
       "      <td>14.944286</td>\n",
       "      <td>2021-01-02</td>\n",
       "      <td>1</td>\n",
       "      <td>8</td>\n",
       "      <td>50</td>\n",
       "      <td>0</td>\n",
       "    </tr>\n",
       "    <tr>\n",
       "      <th>1</th>\n",
       "      <td>6501</td>\n",
       "      <td>6501</td>\n",
       "      <td>700</td>\n",
       "      <td>айдар</td>\n",
       "      <td>22</td>\n",
       "      <td>омск</td>\n",
       "      <td>free</td>\n",
       "      <td>846.932642</td>\n",
       "      <td>16.234663</td>\n",
       "      <td>2021-02-01</td>\n",
       "      <td>2</td>\n",
       "      <td>8</td>\n",
       "      <td>50</td>\n",
       "      <td>0</td>\n",
       "    </tr>\n",
       "    <tr>\n",
       "      <th>2</th>\n",
       "      <td>6502</td>\n",
       "      <td>6502</td>\n",
       "      <td>700</td>\n",
       "      <td>айдар</td>\n",
       "      <td>22</td>\n",
       "      <td>омск</td>\n",
       "      <td>free</td>\n",
       "      <td>4004.434142</td>\n",
       "      <td>20.016628</td>\n",
       "      <td>2021-02-04</td>\n",
       "      <td>2</td>\n",
       "      <td>8</td>\n",
       "      <td>50</td>\n",
       "      <td>0</td>\n",
       "    </tr>\n",
       "    <tr>\n",
       "      <th>3</th>\n",
       "      <td>6503</td>\n",
       "      <td>6503</td>\n",
       "      <td>700</td>\n",
       "      <td>айдар</td>\n",
       "      <td>22</td>\n",
       "      <td>омск</td>\n",
       "      <td>free</td>\n",
       "      <td>1205.911290</td>\n",
       "      <td>9.782872</td>\n",
       "      <td>2021-02-10</td>\n",
       "      <td>2</td>\n",
       "      <td>8</td>\n",
       "      <td>50</td>\n",
       "      <td>0</td>\n",
       "    </tr>\n",
       "    <tr>\n",
       "      <th>4</th>\n",
       "      <td>6504</td>\n",
       "      <td>6504</td>\n",
       "      <td>700</td>\n",
       "      <td>айдар</td>\n",
       "      <td>22</td>\n",
       "      <td>омск</td>\n",
       "      <td>free</td>\n",
       "      <td>3047.379435</td>\n",
       "      <td>17.427673</td>\n",
       "      <td>2021-02-14</td>\n",
       "      <td>2</td>\n",
       "      <td>8</td>\n",
       "      <td>50</td>\n",
       "      <td>0</td>\n",
       "    </tr>\n",
       "  </tbody>\n",
       "</table>\n",
       "</div>"
      ],
      "text/plain": [
       "   level_0  index  user_id   name  age  city subscription_type     distance  \\\n",
       "0     6500   6500      700  айдар   22  омск              free  2515.690719   \n",
       "1     6501   6501      700  айдар   22  омск              free   846.932642   \n",
       "2     6502   6502      700  айдар   22  омск              free  4004.434142   \n",
       "3     6503   6503      700  айдар   22  омск              free  1205.911290   \n",
       "4     6504   6504      700  айдар   22  омск              free  3047.379435   \n",
       "\n",
       "    duration       date  month  minute_price  start_ride_price  \\\n",
       "0  14.944286 2021-01-02      1             8                50   \n",
       "1  16.234663 2021-02-01      2             8                50   \n",
       "2  20.016628 2021-02-04      2             8                50   \n",
       "3   9.782872 2021-02-10      2             8                50   \n",
       "4  17.427673 2021-02-14      2             8                50   \n",
       "\n",
       "   subscription_fee  \n",
       "0                 0  \n",
       "1                 0  \n",
       "2                 0  \n",
       "3                 0  \n",
       "4                 0  "
      ]
     },
     "execution_count": 39,
     "metadata": {},
     "output_type": "execute_result"
    }
   ],
   "source": [
    "df_free.head()"
   ]
  },
  {
   "cell_type": "code",
   "execution_count": 40,
   "id": "4dce0081",
   "metadata": {},
   "outputs": [
    {
     "name": "stdout",
     "output_type": "stream",
     "text": [
      "11568\n",
      "6500\n"
     ]
    }
   ],
   "source": [
    "print(len(df_free['user_id']))\n",
    "# Здесь данных почти в 2 раза больше, значит, возьму выборку отсюда в 6500 значений\n",
    "df_free_random = df_free.sample(n=6500, random_state=42)\n",
    "print(len(df_free_random['user_id']))"
   ]
  },
  {
   "cell_type": "code",
   "execution_count": 41,
   "id": "06a06007",
   "metadata": {},
   "outputs": [
    {
     "data": {
      "text/html": [
       "<div>\n",
       "<style scoped>\n",
       "    .dataframe tbody tr th:only-of-type {\n",
       "        vertical-align: middle;\n",
       "    }\n",
       "\n",
       "    .dataframe tbody tr th {\n",
       "        vertical-align: top;\n",
       "    }\n",
       "\n",
       "    .dataframe thead th {\n",
       "        text-align: right;\n",
       "    }\n",
       "</style>\n",
       "<table border=\"1\" class=\"dataframe\">\n",
       "  <thead>\n",
       "    <tr style=\"text-align: right;\">\n",
       "      <th></th>\n",
       "      <th>index</th>\n",
       "      <th>user_id</th>\n",
       "      <th>name</th>\n",
       "      <th>age</th>\n",
       "      <th>city</th>\n",
       "      <th>subscription_type</th>\n",
       "      <th>distance</th>\n",
       "      <th>duration</th>\n",
       "      <th>date</th>\n",
       "      <th>month</th>\n",
       "      <th>minute_price</th>\n",
       "      <th>start_ride_price</th>\n",
       "      <th>subscription_fee</th>\n",
       "    </tr>\n",
       "  </thead>\n",
       "  <tbody>\n",
       "    <tr>\n",
       "      <th>0</th>\n",
       "      <td>0</td>\n",
       "      <td>1</td>\n",
       "      <td>кира</td>\n",
       "      <td>22</td>\n",
       "      <td>тюмень</td>\n",
       "      <td>ultra</td>\n",
       "      <td>4409.919140</td>\n",
       "      <td>25.599769</td>\n",
       "      <td>2021-01-01</td>\n",
       "      <td>1</td>\n",
       "      <td>6</td>\n",
       "      <td>0</td>\n",
       "      <td>199</td>\n",
       "    </tr>\n",
       "    <tr>\n",
       "      <th>1</th>\n",
       "      <td>1</td>\n",
       "      <td>1</td>\n",
       "      <td>кира</td>\n",
       "      <td>22</td>\n",
       "      <td>тюмень</td>\n",
       "      <td>ultra</td>\n",
       "      <td>2617.592153</td>\n",
       "      <td>15.816871</td>\n",
       "      <td>2021-01-18</td>\n",
       "      <td>1</td>\n",
       "      <td>6</td>\n",
       "      <td>0</td>\n",
       "      <td>199</td>\n",
       "    </tr>\n",
       "    <tr>\n",
       "      <th>2</th>\n",
       "      <td>2</td>\n",
       "      <td>1</td>\n",
       "      <td>кира</td>\n",
       "      <td>22</td>\n",
       "      <td>тюмень</td>\n",
       "      <td>ultra</td>\n",
       "      <td>754.159807</td>\n",
       "      <td>6.232113</td>\n",
       "      <td>2021-04-20</td>\n",
       "      <td>4</td>\n",
       "      <td>6</td>\n",
       "      <td>0</td>\n",
       "      <td>199</td>\n",
       "    </tr>\n",
       "    <tr>\n",
       "      <th>3</th>\n",
       "      <td>3</td>\n",
       "      <td>1</td>\n",
       "      <td>кира</td>\n",
       "      <td>22</td>\n",
       "      <td>тюмень</td>\n",
       "      <td>ultra</td>\n",
       "      <td>2694.783254</td>\n",
       "      <td>18.511000</td>\n",
       "      <td>2021-08-11</td>\n",
       "      <td>8</td>\n",
       "      <td>6</td>\n",
       "      <td>0</td>\n",
       "      <td>199</td>\n",
       "    </tr>\n",
       "    <tr>\n",
       "      <th>4</th>\n",
       "      <td>4</td>\n",
       "      <td>1</td>\n",
       "      <td>кира</td>\n",
       "      <td>22</td>\n",
       "      <td>тюмень</td>\n",
       "      <td>ultra</td>\n",
       "      <td>4028.687306</td>\n",
       "      <td>26.265803</td>\n",
       "      <td>2021-08-28</td>\n",
       "      <td>8</td>\n",
       "      <td>6</td>\n",
       "      <td>0</td>\n",
       "      <td>199</td>\n",
       "    </tr>\n",
       "  </tbody>\n",
       "</table>\n",
       "</div>"
      ],
      "text/plain": [
       "   index  user_id  name  age    city subscription_type     distance  \\\n",
       "0      0        1  кира   22  тюмень             ultra  4409.919140   \n",
       "1      1        1  кира   22  тюмень             ultra  2617.592153   \n",
       "2      2        1  кира   22  тюмень             ultra   754.159807   \n",
       "3      3        1  кира   22  тюмень             ultra  2694.783254   \n",
       "4      4        1  кира   22  тюмень             ultra  4028.687306   \n",
       "\n",
       "    duration       date  month  minute_price  start_ride_price  \\\n",
       "0  25.599769 2021-01-01      1             6                 0   \n",
       "1  15.816871 2021-01-18      1             6                 0   \n",
       "2   6.232113 2021-04-20      4             6                 0   \n",
       "3  18.511000 2021-08-11      8             6                 0   \n",
       "4  26.265803 2021-08-28      8             6                 0   \n",
       "\n",
       "   subscription_fee  \n",
       "0               199  \n",
       "1               199  \n",
       "2               199  \n",
       "3               199  \n",
       "4               199  "
      ]
     },
     "execution_count": 41,
     "metadata": {},
     "output_type": "execute_result"
    }
   ],
   "source": [
    "df_ultra.head()"
   ]
  },
  {
   "cell_type": "code",
   "execution_count": 42,
   "id": "8d0bf583",
   "metadata": {},
   "outputs": [
    {
     "data": {
      "text/plain": [
       "6500"
      ]
     },
     "execution_count": 42,
     "metadata": {},
     "output_type": "execute_result"
    }
   ],
   "source": [
    "len(df_ultra['user_id'])"
   ]
  },
  {
   "cell_type": "code",
   "execution_count": 43,
   "id": "d1871328",
   "metadata": {},
   "outputs": [
    {
     "data": {
      "image/png": "[encoded data removed]",
      "text/plain": [
       "<Figure size 432x288 with 1 Axes>"
      ]
     },
     "metadata": {
      "needs_background": "light"
     },
     "output_type": "display_data"
    }
   ],
   "source": [
    "# График распределения длительности для пользователей с подпиской и без\n",
    "\n",
    "plt.hist(df_free_random['duration'], bins=30, color='red', alpha=0.5, label='Free')\n",
    "plt.hist(df_ultra['duration'], bins=30, color='blue', alpha=0.5, label='Free')\n",
    "plt.grid(True)\n",
    "plt.xlabel('Duration')\n",
    "plt.ylabel('Count')\n",
    "plt.title('Free and ultra subscriprion duration')\n",
    "plt.legend(['free', 'ultra'])\n",
    "plt.show()"
   ]
  },
  {
   "cell_type": "code",
   "execution_count": 44,
   "id": "8c86cb95",
   "metadata": {},
   "outputs": [
    {
     "name": "stdout",
     "output_type": "stream",
     "text": [
      "17.4\n",
      "17.4\n"
     ]
    }
   ],
   "source": [
    "# Для себя првоерю, насколько поменялось среднее в выборки, по отношению к ген. совокупности\n",
    "print(df_free['duration'].mean().round(1))\n",
    "print(df_free_random['duration'].mean().round(1))"
   ]
  },
  {
   "cell_type": "markdown",
   "id": "7085134d",
   "metadata": {},
   "source": [
    "Ho: Нет разницы в средней продолжительности поездок между пользователями с подпиской и пользователями без подписки\n",
    "\n",
    "H1: Пользователи с подпиской тратят больше времени на поездки по сравнению с пользователями без подписки"
   ]
  },
  {
   "cell_type": "code",
   "execution_count": 45,
   "id": "2a75f74e",
   "metadata": {},
   "outputs": [
    {
     "name": "stdout",
     "output_type": "stream",
     "text": [
      "Средняя продолжительность поездок для пользователей с подпиской: 18.54\n",
      "Средняя продолжительность поездок для пользователей без подписки: 17.39\n",
      "p-значение t-теста: 1.0000\n",
      "0.9999999999887839\n"
     ]
    }
   ],
   "source": [
    "duration_ultra = pivot_df[pivot_df['subscription_type'] == 'ultra']['duration']\n",
    "duration_free = pivot_df[pivot_df['subscription_type'] == 'free']['duration']\n",
    "\n",
    "mean_duration_ultra = df_ultra['duration'].mean()\n",
    "mean_duration_free = df_free['duration'].mean()\n",
    "\n",
    "t_stat, p_value = st.ttest_ind(duration_ultra, \n",
    "                               duration_free, \n",
    "                               equal_var=True,\n",
    "                               alternative='greater')\n",
    "\n",
    "print('Средняя продолжительность поездок для пользователей с подпиской: {:.2f}'.format(mean_duration_ultra))\n",
    "print('Средняя продолжительность поездок для пользователей без подписки: {:.2f}'.format(mean_duration_free))\n",
    "print('p-значение t-теста: {:.4f}'.format(p_value))\n",
    "print(p_value)"
   ]
  },
  {
   "cell_type": "markdown",
   "id": "5ea176b0",
   "metadata": {},
   "source": [
    "**Вывод**\n",
    "\n",
    "При анализе равного количества пользователей 2 категорий, мы получили, что поездка пользователей с подпиской длится, в среднем, 18.5 минут, а поездка пользователей с бесплатной версией 17.4 минуты. Более того, на графике можно наблюдать, что количество поездок, близкого к среднему по длительности, больше у пользователей с подпиской."
   ]
  },
  {
   "cell_type": "markdown",
   "id": "3a1596aa",
   "metadata": {},
   "source": [
    "Гипотеза 2"
   ]
  },
  {
   "cell_type": "markdown",
   "id": "85c2ffd1",
   "metadata": {},
   "source": [
    "Ho: Среднее расстояние одной поездки пользователей с подпиской не превышает 3130 метров\n",
    "\n",
    "H1: Среднее расстояние одной поездки пользователей с подпиской превышает 3130 метров"
   ]
  },
  {
   "cell_type": "code",
   "execution_count": 46,
   "id": "0bccb5b1",
   "metadata": {},
   "outputs": [
    {
     "name": "stdout",
     "output_type": "stream",
     "text": [
      "Не отвергаем нулевую гипотезу. Среднее расстояние равно или превшает 3130 метров.\n",
      "0.9195368847849785\n"
     ]
    }
   ],
   "source": [
    "alpha = 0.05\n",
    "optimal_value = 3130\n",
    "\n",
    "results, p_value = st.ttest_1samp(df_ultra['distance'], optimal_value, alternative='greater')\n",
    "if p_value < alpha:\n",
    "    print('Отвергаем нулевую гипотезу. Среднее расстояние меньше 3130 метров.')\n",
    "else:\n",
    "    print('Не отвергаем нулевую гипотезу. Среднее расстояние равно или превшает 3130 метров.')\n",
    "print(p_value)"
   ]
  },
  {
   "cell_type": "markdown",
   "id": "1a5bd763",
   "metadata": {},
   "source": [
    "Гипотеза 3"
   ]
  },
  {
   "cell_type": "markdown",
   "id": "38a8887e",
   "metadata": {},
   "source": [
    "Ho: Среднее расстояние одной поездки пользователей с подпиской не превышает 3130 метров\n",
    "    \n",
    "H1: Среднее расстояние одной поездки пользователей с подпиской превышает 3130 метров"
   ]
  },
  {
   "cell_type": "code",
   "execution_count": 47,
   "id": "2c5f4f33",
   "metadata": {},
   "outputs": [
    {
     "name": "stdout",
     "output_type": "stream",
     "text": [
      "Отвергаем нулевую гипотезу. Помесячная выручка от пользователей с подпиской выше, чем от пользователей без подписки.\n",
      "2.5916961513602535e-84\n"
     ]
    }
   ],
   "source": [
    "revenue_subscription = pivot_df[pivot_df['subscription_type'] == 'ultra']['monthly_revenue']\n",
    "revenue_free = pivot_df[pivot_df['subscription_type'] == 'free']['monthly_revenue']\n",
    "\n",
    "t_statistic, p_value = st.ttest_ind(revenue_subscription, \n",
    "                                    revenue_free, \n",
    "                                    equal_var=False,\n",
    "                                    alternative='greater')\n",
    "\n",
    "alpha = 0.05\n",
    "\n",
    "if p_value < alpha:\n",
    "    print('Отвергаем нулевую гипотезу. Помесячная выручка от пользователей с подпиской выше, чем от пользователей без подписки.')\n",
    "else:\n",
    "    print('Не отвергаем нулевую гипотезу. Помесячная выручка от пользователей с подпиской равна или ниже выручки от пользователей без подписки.')\n",
    "print(p_value)"
   ]
  },
  {
   "cell_type": "markdown",
   "id": "495ab703",
   "metadata": {},
   "source": [
    "Задание 4\n",
    "\n",
    "Для данной задачи понадобится тест для связанных выборок.\n",
    "\n",
    "t_statistic, p_value = stats.ttest_rel(before_update, after_update)\n",
    "\n",
    "Он предназначен для сравнения значений в парных наблюдениях или измерениях, сделанных на одних и тех же субъектах до и после некоторого вмешательства или изменения условий."
   ]
  },
  {
   "cell_type": "markdown",
   "id": "10b742b7",
   "metadata": {},
   "source": [
    "**Выводы**\n",
    "\n",
    "Мы проанализировали датасеты, хранящие в себе данные о поездках на самокатах сервиса GoFast и пришли к следующим выводам:\n",
    "    \n",
    "1) Основаная целевая аудитория состоит из людей 22-30 лет.\n",
    "\n",
    "2) Самокаты примерно одинаково популярны в разных городах.\n",
    "\n",
    "3) В основном, на самокатах совершаются поездки на растояния 2.5-3.5 км.\n",
    "\n",
    "4) Большинство пользователей предпочитает пользоваться бесплатным тарифом, однако средняя длительность поездки лишь на 1 минуту меньше, чем у пользователей с подпиский (17.4 и 18.5 минут соответственно). Тем не менее, пользователей с подпиской, которые тратят на поездку времея, близкое к среднему, больше при равных выборках.\n",
    "\n",
    "5) Нулевой показатель P-value позволяет сделать вывод о том, что наблюдаемая разница в продолжительности поездок между пользователями с подпиской и без подписки является статистически значимой.\n",
    "\n",
    "6) Среднее расстояние равно или превышает 3130 метров.\n",
    "\n",
    "7) Помесячная выручка от пользователей с бесплатным тарифом и подпиской, примерно, равна."
   ]
  },
  {
   "cell_type": "markdown",
   "id": "61213c5e",
   "metadata": {},
   "source": [
    "#### Шаг 7. Распределения"
   ]
  },
  {
   "cell_type": "code",
   "execution_count": 48,
   "id": "95cd1d51",
   "metadata": {},
   "outputs": [
    {
     "data": {
      "image/png": "[encoded data removed]",
      "text/plain": [
       "<Figure size 432x288 with 1 Axes>"
      ]
     },
     "metadata": {
      "needs_background": "light"
     },
     "output_type": "display_data"
    },
    {
     "name": "stdout",
     "output_type": "stream",
     "text": [
      "Минимальное количество промокодов для вероятности не выполнения плана в 5.00%: 100\n"
     ]
    }
   ],
   "source": [
    "p = 0.1\n",
    "target_prob = 0.05\n",
    "\n",
    "\n",
    "N = 100\n",
    "while True:\n",
    "    prob = 1 - st.binom.cdf(100, N, p)\n",
    "    if prob <= target_prob:\n",
    "        break\n",
    "    N += 1\n",
    "\n",
    "x = np.arange(0, N + 1)\n",
    "pmf = st.binom.pmf(x, N, p)\n",
    "plt.bar(x, pmf)\n",
    "plt.xlabel(\"Количество продлений подписки\")\n",
    "plt.ylabel(\"Вероятность\")\n",
    "plt.grid(True)\n",
    "plt.show()\n",
    "print('Минимальное количество промокодов для вероятности не выполнения плана в {:.2%}: {}'.format(target_prob, N))"
   ]
  },
  {
   "cell_type": "markdown",
   "id": "60758394",
   "metadata": {},
   "source": [
    "Для того, чтобы достигнуть вероятности не выполнения плана примерно на 5%, необходимо разослать минимальное количество промокодов, равное 100. Это количество промокодов обеспечит достаточное количество пользователей, которые продлят подписку после бесплатного пробного периода."
   ]
  },
  {
   "cell_type": "code",
   "execution_count": 49,
   "id": "94692870",
   "metadata": {},
   "outputs": [
    {
     "data": {
      "image/png": "[encoded data removed]",
      "text/plain": [
       "<Figure size 432x288 with 1 Axes>"
      ]
     },
     "metadata": {
      "needs_background": "light"
     },
     "output_type": "display_data"
    },
    {
     "name": "stdout",
     "output_type": "stream",
     "text": [
      "Вероятность открытия уведомления не более 399500 пользователей: 15.37%\n"
     ]
    }
   ],
   "source": [
    "n = 1000000  \n",
    "p = 0.4  \n",
    "target_opened = 399500\n",
    "\n",
    "mean = n * p\n",
    "std = np.sqrt(n * p * (1 - p))\n",
    "\n",
    "prob = st.norm.cdf(target_opened, mean, std)\n",
    "\n",
    "x = np.arange(0, n + 1)\n",
    "pdf = st.norm.pdf(x, mean, std)\n",
    "plt.plot(x, pdf)\n",
    "plt.xlabel('Количество открытых уведомлений')\n",
    "plt.ylabel('Плотность вероятности')\n",
    "plt.title('Аппроксимация биномиального распределения нормальным')\n",
    "plt.grid(True)\n",
    "plt.show()\n",
    "\n",
    "print('Вероятность открытия уведомления не более {} пользователей: {:.2%}'.format(target_opened, prob))"
   ]
  },
  {
   "cell_type": "markdown",
   "id": "7fb0d495",
   "metadata": {},
   "source": []
  },
  {
   "cell_type": "markdown",
   "id": "ee9f8bf8",
   "metadata": {},
   "source": [
    "\n",
    "\n",
    "**Выводы**\n",
    "Мы проанализировали датасеты, хранящие в себе данные о поездках на самокатах сервиса GoFast и пришли к следующим выводам:\n",
    "1) Основаная целевая аудитория состоит из людей 22-30 лет.\n",
    "\n",
    "2) Самокаты примерно одинаково популярны в разных городах.\n",
    "\n",
    "3) В основном, на самокатах совершаются поездки на растояния 2.5-3.5 км.\n",
    "\n",
    "4) Большинство пользователей предпочитает пользоваться бесплатным тарифом, однако средняя длительность поездки лишь на 1 минуту меньше, чем у пользователей с подпиский (17.4 и 18.5 минут соответственно). Тем не менее, пользователей с подпиской, которые тратят на поездку времея, близкое к среднему, больше при равных выборках.\n",
    "\n",
    "5) Нулевой показатель P-value позволяет сделать вывод о том, что наблюдаемая разница в продолжительности поездок между пользователями с подпиской и без подписки является статистически значимой.\n",
    "\n",
    "6) Среднее расстояние равно или превышает 3130 метров.\n",
    "\n",
    "7) Помесячная выручка от пользователей с бесплатным тарифом и подпиской, примерно, равна."
   ]
  },
  {
   "cell_type": "code",
   "execution_count": null,
   "id": "fe4fe710",
   "metadata": {},
   "outputs": [],
   "source": []
  }
 ],
 "metadata": {
  "ExecuteTimeLog": [
   {
    "duration": 391,
    "start_time": "2023-06-19T17:45:02.655Z"
   },
   {
    "duration": 87,
    "start_time": "2023-06-19T17:45:35.808Z"
   },
   {
    "duration": 151,
    "start_time": "2023-06-19T17:47:36.873Z"
   },
   {
    "duration": 13,
    "start_time": "2023-06-19T17:47:38.321Z"
   },
   {
    "duration": 7,
    "start_time": "2023-06-19T17:47:40.552Z"
   },
   {
    "duration": 6,
    "start_time": "2023-06-19T17:47:43.330Z"
   },
   {
    "duration": 8,
    "start_time": "2023-06-19T17:48:33.751Z"
   },
   {
    "duration": 7,
    "start_time": "2023-06-19T17:48:35.824Z"
   },
   {
    "duration": 6,
    "start_time": "2023-06-19T17:48:38.228Z"
   },
   {
    "duration": 18,
    "start_time": "2023-06-19T17:50:53.866Z"
   },
   {
    "duration": 16,
    "start_time": "2023-06-19T17:51:14.115Z"
   },
   {
    "duration": 18,
    "start_time": "2023-06-19T17:51:20.080Z"
   },
   {
    "duration": 17,
    "start_time": "2023-06-19T17:51:36.884Z"
   },
   {
    "duration": 397,
    "start_time": "2023-06-19T17:52:30.307Z"
   },
   {
    "duration": 28,
    "start_time": "2023-06-19T17:54:45.426Z"
   },
   {
    "duration": 22,
    "start_time": "2023-06-19T17:55:16.963Z"
   },
   {
    "duration": 10,
    "start_time": "2023-06-19T17:55:44.622Z"
   },
   {
    "duration": 13,
    "start_time": "2023-06-19T17:55:56.057Z"
   },
   {
    "duration": 9,
    "start_time": "2023-06-19T17:56:13.142Z"
   },
   {
    "duration": 84,
    "start_time": "2023-06-19T17:58:08.759Z"
   },
   {
    "duration": 8,
    "start_time": "2023-06-19T17:58:13.659Z"
   },
   {
    "duration": 7,
    "start_time": "2023-06-19T17:58:35.308Z"
   },
   {
    "duration": 17,
    "start_time": "2023-06-19T17:58:47.122Z"
   },
   {
    "duration": 18,
    "start_time": "2023-06-19T17:58:58.892Z"
   },
   {
    "duration": 16,
    "start_time": "2023-06-19T18:01:22.026Z"
   },
   {
    "duration": 20,
    "start_time": "2023-06-19T18:01:33.037Z"
   },
   {
    "duration": 18,
    "start_time": "2023-06-19T18:02:19.057Z"
   },
   {
    "duration": 5,
    "start_time": "2023-06-19T18:03:13.848Z"
   },
   {
    "duration": 6,
    "start_time": "2023-06-19T18:03:27.677Z"
   },
   {
    "duration": 10,
    "start_time": "2023-06-19T18:06:50.530Z"
   },
   {
    "duration": 12,
    "start_time": "2023-06-19T18:07:13.859Z"
   },
   {
    "duration": 14,
    "start_time": "2023-06-19T18:07:29.308Z"
   },
   {
    "duration": 18,
    "start_time": "2023-06-19T18:07:42.934Z"
   },
   {
    "duration": 16,
    "start_time": "2023-06-19T18:07:55.995Z"
   },
   {
    "duration": 3,
    "start_time": "2023-06-19T18:09:12.727Z"
   },
   {
    "duration": 5,
    "start_time": "2023-06-19T18:09:21.291Z"
   },
   {
    "duration": 3,
    "start_time": "2023-06-19T18:09:24.087Z"
   },
   {
    "duration": 5,
    "start_time": "2023-06-19T18:09:31.388Z"
   },
   {
    "duration": 15,
    "start_time": "2023-06-19T18:10:08.653Z"
   },
   {
    "duration": 11,
    "start_time": "2023-06-19T18:10:15.150Z"
   },
   {
    "duration": 4,
    "start_time": "2023-06-19T18:12:24.421Z"
   },
   {
    "duration": 8,
    "start_time": "2023-06-19T18:12:44.196Z"
   },
   {
    "duration": 8,
    "start_time": "2023-06-19T18:13:23.306Z"
   },
   {
    "duration": 6,
    "start_time": "2023-06-19T18:13:33.628Z"
   },
   {
    "duration": 6,
    "start_time": "2023-06-19T18:16:59.173Z"
   },
   {
    "duration": 13,
    "start_time": "2023-06-19T18:17:14.197Z"
   },
   {
    "duration": 916,
    "start_time": "2023-06-20T06:10:03.462Z"
   },
   {
    "duration": 212,
    "start_time": "2023-06-20T06:10:04.380Z"
   },
   {
    "duration": 19,
    "start_time": "2023-06-20T06:10:04.595Z"
   },
   {
    "duration": 15,
    "start_time": "2023-06-20T06:10:04.618Z"
   },
   {
    "duration": 65,
    "start_time": "2023-06-20T06:10:04.635Z"
   },
   {
    "duration": 45,
    "start_time": "2023-06-20T06:10:04.702Z"
   },
   {
    "duration": 13,
    "start_time": "2023-06-20T06:10:04.749Z"
   },
   {
    "duration": 33,
    "start_time": "2023-06-20T06:10:04.763Z"
   },
   {
    "duration": 13,
    "start_time": "2023-06-20T06:10:04.798Z"
   },
   {
    "duration": 29,
    "start_time": "2023-06-20T06:10:04.816Z"
   },
   {
    "duration": 34,
    "start_time": "2023-06-20T06:10:04.847Z"
   },
   {
    "duration": 32,
    "start_time": "2023-06-20T06:10:04.883Z"
   },
   {
    "duration": 7,
    "start_time": "2023-06-20T06:10:04.917Z"
   },
   {
    "duration": 25,
    "start_time": "2023-06-20T06:10:04.925Z"
   },
   {
    "duration": 9,
    "start_time": "2023-06-20T06:10:04.952Z"
   },
   {
    "duration": 24,
    "start_time": "2023-06-20T06:10:04.964Z"
   },
   {
    "duration": 29,
    "start_time": "2023-06-20T06:10:04.990Z"
   },
   {
    "duration": 13,
    "start_time": "2023-06-20T06:10:05.021Z"
   },
   {
    "duration": 5,
    "start_time": "2023-06-20T06:10:27.733Z"
   },
   {
    "duration": 5,
    "start_time": "2023-06-20T06:12:16.051Z"
   },
   {
    "duration": 7,
    "start_time": "2023-06-20T06:12:22.109Z"
   },
   {
    "duration": 10,
    "start_time": "2023-06-20T06:12:25.159Z"
   },
   {
    "duration": 5,
    "start_time": "2023-06-20T06:12:41.060Z"
   },
   {
    "duration": 5,
    "start_time": "2023-06-20T06:13:03.718Z"
   },
   {
    "duration": 6,
    "start_time": "2023-06-20T06:13:07.993Z"
   },
   {
    "duration": 7,
    "start_time": "2023-06-20T06:13:31.006Z"
   },
   {
    "duration": 25451,
    "start_time": "2023-06-20T06:15:08.818Z"
   },
   {
    "duration": 162,
    "start_time": "2023-06-20T06:16:05.454Z"
   },
   {
    "duration": 9,
    "start_time": "2023-06-20T06:16:32.535Z"
   },
   {
    "duration": 3,
    "start_time": "2023-06-20T06:18:25.073Z"
   },
   {
    "duration": 2044,
    "start_time": "2023-06-20T06:19:19.602Z"
   },
   {
    "duration": 489,
    "start_time": "2023-06-20T06:20:58.783Z"
   },
   {
    "duration": 24308,
    "start_time": "2023-06-20T06:21:23.497Z"
   },
   {
    "duration": 8,
    "start_time": "2023-06-20T06:22:27.454Z"
   },
   {
    "duration": 17,
    "start_time": "2023-06-20T06:22:32.231Z"
   },
   {
    "duration": 13,
    "start_time": "2023-06-20T06:23:49.456Z"
   },
   {
    "duration": 126,
    "start_time": "2023-06-20T06:26:59.315Z"
   },
   {
    "duration": 132,
    "start_time": "2023-06-20T06:27:10.301Z"
   },
   {
    "duration": 3,
    "start_time": "2023-06-20T06:28:17.296Z"
   },
   {
    "duration": 118,
    "start_time": "2023-06-20T06:29:13.042Z"
   },
   {
    "duration": 202,
    "start_time": "2023-06-20T06:30:34.976Z"
   },
   {
    "duration": 566,
    "start_time": "2023-06-20T06:30:43.652Z"
   },
   {
    "duration": 9,
    "start_time": "2023-06-20T06:30:52.191Z"
   },
   {
    "duration": 182,
    "start_time": "2023-06-20T06:30:55.491Z"
   },
   {
    "duration": 184,
    "start_time": "2023-06-20T06:31:01.748Z"
   },
   {
    "duration": 248,
    "start_time": "2023-06-20T06:33:29.692Z"
   },
   {
    "duration": 234,
    "start_time": "2023-06-20T06:33:34.683Z"
   },
   {
    "duration": 170,
    "start_time": "2023-06-20T06:33:42.029Z"
   },
   {
    "duration": 190,
    "start_time": "2023-06-20T06:34:32.600Z"
   },
   {
    "duration": 218,
    "start_time": "2023-06-20T06:34:35.990Z"
   },
   {
    "duration": 179,
    "start_time": "2023-06-20T06:34:42.708Z"
   },
   {
    "duration": 11,
    "start_time": "2023-06-20T06:57:28.212Z"
   },
   {
    "duration": 15,
    "start_time": "2023-06-20T06:58:09.025Z"
   },
   {
    "duration": 21,
    "start_time": "2023-06-20T06:58:16.906Z"
   },
   {
    "duration": 27,
    "start_time": "2023-06-20T06:58:27.699Z"
   },
   {
    "duration": 23,
    "start_time": "2023-06-20T06:58:38.988Z"
   },
   {
    "duration": 8,
    "start_time": "2023-06-20T07:00:06.222Z"
   },
   {
    "duration": 7,
    "start_time": "2023-06-20T07:00:21.686Z"
   },
   {
    "duration": 16,
    "start_time": "2023-06-20T07:00:27.447Z"
   },
   {
    "duration": 14,
    "start_time": "2023-06-20T07:00:53.721Z"
   },
   {
    "duration": 175,
    "start_time": "2023-06-20T07:09:08.735Z"
   },
   {
    "duration": 163,
    "start_time": "2023-06-20T07:09:41.594Z"
   },
   {
    "duration": 160,
    "start_time": "2023-06-20T07:09:55.638Z"
   },
   {
    "duration": 216,
    "start_time": "2023-06-20T07:10:37.639Z"
   },
   {
    "duration": 202,
    "start_time": "2023-06-20T07:10:52.413Z"
   },
   {
    "duration": 201,
    "start_time": "2023-06-20T07:11:48.940Z"
   },
   {
    "duration": 226,
    "start_time": "2023-06-20T07:12:36.901Z"
   },
   {
    "duration": 176,
    "start_time": "2023-06-20T07:12:55.005Z"
   },
   {
    "duration": 220,
    "start_time": "2023-06-20T07:14:41.138Z"
   },
   {
    "duration": 204,
    "start_time": "2023-06-20T07:14:45.300Z"
   },
   {
    "duration": 212,
    "start_time": "2023-06-20T07:15:30.373Z"
   },
   {
    "duration": 241,
    "start_time": "2023-06-20T07:15:45.409Z"
   },
   {
    "duration": 220,
    "start_time": "2023-06-20T07:16:19.567Z"
   },
   {
    "duration": 245,
    "start_time": "2023-06-20T07:16:28.111Z"
   },
   {
    "duration": 1675,
    "start_time": "2023-06-20T09:48:18.608Z"
   },
   {
    "duration": 412,
    "start_time": "2023-06-20T09:48:20.286Z"
   },
   {
    "duration": 20,
    "start_time": "2023-06-20T09:48:20.701Z"
   },
   {
    "duration": 47,
    "start_time": "2023-06-20T09:48:20.723Z"
   },
   {
    "duration": 19,
    "start_time": "2023-06-20T09:48:20.774Z"
   },
   {
    "duration": 33,
    "start_time": "2023-06-20T09:48:20.796Z"
   },
   {
    "duration": 42,
    "start_time": "2023-06-20T09:48:20.831Z"
   },
   {
    "duration": 43,
    "start_time": "2023-06-20T09:48:20.875Z"
   },
   {
    "duration": 39,
    "start_time": "2023-06-20T09:48:20.921Z"
   },
   {
    "duration": 35,
    "start_time": "2023-06-20T09:48:20.963Z"
   },
   {
    "duration": 41,
    "start_time": "2023-06-20T09:48:21.001Z"
   },
   {
    "duration": 72,
    "start_time": "2023-06-20T09:48:21.044Z"
   },
   {
    "duration": 13,
    "start_time": "2023-06-20T09:48:21.120Z"
   },
   {
    "duration": 52,
    "start_time": "2023-06-20T09:48:21.140Z"
   },
   {
    "duration": 30,
    "start_time": "2023-06-20T09:48:21.194Z"
   },
   {
    "duration": 28,
    "start_time": "2023-06-20T09:48:21.226Z"
   },
   {
    "duration": 16,
    "start_time": "2023-06-20T09:48:21.257Z"
   },
   {
    "duration": 32,
    "start_time": "2023-06-20T09:48:21.275Z"
   },
   {
    "duration": 42,
    "start_time": "2023-06-20T09:48:21.310Z"
   },
   {
    "duration": 257,
    "start_time": "2023-06-20T09:48:21.355Z"
   },
   {
    "duration": 214,
    "start_time": "2023-06-20T09:48:21.615Z"
   },
   {
    "duration": 332,
    "start_time": "2023-06-20T09:48:21.831Z"
   },
   {
    "duration": 339,
    "start_time": "2023-06-20T09:48:22.166Z"
   },
   {
    "duration": 313,
    "start_time": "2023-06-20T09:48:22.507Z"
   },
   {
    "duration": 51,
    "start_time": "2023-06-20T09:48:22.822Z"
   },
   {
    "duration": 26,
    "start_time": "2023-06-20T09:48:22.876Z"
   },
   {
    "duration": 23,
    "start_time": "2023-06-20T09:48:22.904Z"
   },
   {
    "duration": 468,
    "start_time": "2023-06-20T09:48:22.958Z"
   },
   {
    "duration": 399,
    "start_time": "2023-06-20T09:48:23.428Z"
   },
   {
    "duration": 6,
    "start_time": "2023-06-20T09:49:20.366Z"
   },
   {
    "duration": 4,
    "start_time": "2023-06-20T09:49:20.433Z"
   },
   {
    "duration": 17,
    "start_time": "2023-06-20T09:52:29.552Z"
   },
   {
    "duration": 23,
    "start_time": "2023-06-20T09:52:37.720Z"
   },
   {
    "duration": 19,
    "start_time": "2023-06-20T09:55:05.492Z"
   },
   {
    "duration": 28,
    "start_time": "2023-06-20T09:56:19.797Z"
   },
   {
    "duration": 52,
    "start_time": "2023-06-20T10:02:18.586Z"
   },
   {
    "duration": 52,
    "start_time": "2023-06-20T10:03:19.778Z"
   },
   {
    "duration": 49,
    "start_time": "2023-06-20T10:03:28.393Z"
   },
   {
    "duration": 97,
    "start_time": "2023-06-20T10:03:57.448Z"
   },
   {
    "duration": 79,
    "start_time": "2023-06-20T10:04:31.652Z"
   },
   {
    "duration": 176,
    "start_time": "2023-06-20T10:04:46.415Z"
   },
   {
    "duration": 15,
    "start_time": "2023-06-20T10:04:49.109Z"
   },
   {
    "duration": 12,
    "start_time": "2023-06-20T10:05:14.231Z"
   },
   {
    "duration": 57,
    "start_time": "2023-06-20T10:05:43.505Z"
   },
   {
    "duration": 141,
    "start_time": "2023-06-20T10:07:11.669Z"
   },
   {
    "duration": 81,
    "start_time": "2023-06-20T10:07:27.521Z"
   },
   {
    "duration": 60,
    "start_time": "2023-06-20T10:08:41.952Z"
   },
   {
    "duration": 47,
    "start_time": "2023-06-20T10:08:51.881Z"
   },
   {
    "duration": 52,
    "start_time": "2023-06-20T10:10:07.937Z"
   },
   {
    "duration": 61,
    "start_time": "2023-06-20T10:10:24.513Z"
   },
   {
    "duration": 66,
    "start_time": "2023-06-20T10:11:22.774Z"
   },
   {
    "duration": 77,
    "start_time": "2023-06-20T10:11:33.170Z"
   },
   {
    "duration": 66,
    "start_time": "2023-06-20T10:11:37.177Z"
   },
   {
    "duration": 58,
    "start_time": "2023-06-20T10:11:45.356Z"
   },
   {
    "duration": 45,
    "start_time": "2023-06-20T10:11:46.301Z"
   },
   {
    "duration": 1290,
    "start_time": "2023-06-20T10:13:43.828Z"
   },
   {
    "duration": 180,
    "start_time": "2023-06-20T10:13:45.120Z"
   },
   {
    "duration": 17,
    "start_time": "2023-06-20T10:13:45.303Z"
   },
   {
    "duration": 17,
    "start_time": "2023-06-20T10:13:45.322Z"
   },
   {
    "duration": 12,
    "start_time": "2023-06-20T10:13:45.343Z"
   },
   {
    "duration": 38,
    "start_time": "2023-06-20T10:13:45.371Z"
   },
   {
    "duration": 12,
    "start_time": "2023-06-20T10:13:45.411Z"
   },
   {
    "duration": 41,
    "start_time": "2023-06-20T10:13:45.426Z"
   },
   {
    "duration": 21,
    "start_time": "2023-06-20T10:13:45.470Z"
   },
   {
    "duration": 43,
    "start_time": "2023-06-20T10:13:45.493Z"
   },
   {
    "duration": 29,
    "start_time": "2023-06-20T10:13:45.539Z"
   },
   {
    "duration": 47,
    "start_time": "2023-06-20T10:13:45.570Z"
   },
   {
    "duration": 7,
    "start_time": "2023-06-20T10:13:45.619Z"
   },
   {
    "duration": 13,
    "start_time": "2023-06-20T10:13:45.629Z"
   },
   {
    "duration": 23,
    "start_time": "2023-06-20T10:13:45.644Z"
   },
   {
    "duration": 24,
    "start_time": "2023-06-20T10:13:45.676Z"
   },
   {
    "duration": 11,
    "start_time": "2023-06-20T10:13:45.703Z"
   },
   {
    "duration": 15,
    "start_time": "2023-06-20T10:13:45.715Z"
   },
   {
    "duration": 10,
    "start_time": "2023-06-20T10:13:45.732Z"
   },
   {
    "duration": 257,
    "start_time": "2023-06-20T10:13:45.746Z"
   },
   {
    "duration": 218,
    "start_time": "2023-06-20T10:13:46.007Z"
   },
   {
    "duration": 261,
    "start_time": "2023-06-20T10:13:46.228Z"
   },
   {
    "duration": 233,
    "start_time": "2023-06-20T10:13:46.491Z"
   },
   {
    "duration": 310,
    "start_time": "2023-06-20T10:13:46.727Z"
   },
   {
    "duration": 62,
    "start_time": "2023-06-20T10:13:47.040Z"
   },
   {
    "duration": 25,
    "start_time": "2023-06-20T10:13:47.104Z"
   },
   {
    "duration": 38,
    "start_time": "2023-06-20T10:13:47.132Z"
   },
   {
    "duration": 357,
    "start_time": "2023-06-20T10:13:47.174Z"
   },
   {
    "duration": 454,
    "start_time": "2023-06-20T10:13:47.533Z"
   },
   {
    "duration": 8,
    "start_time": "2023-06-20T10:13:47.989Z"
   },
   {
    "duration": 40,
    "start_time": "2023-06-20T10:13:47.999Z"
   },
   {
    "duration": 22,
    "start_time": "2023-06-20T10:13:48.042Z"
   },
   {
    "duration": 2253,
    "start_time": "2023-06-20T10:13:48.066Z"
   },
   {
    "duration": 33,
    "start_time": "2023-06-20T10:14:16.481Z"
   },
   {
    "duration": 1318,
    "start_time": "2023-06-20T10:14:35.704Z"
   },
   {
    "duration": 176,
    "start_time": "2023-06-20T10:14:37.025Z"
   },
   {
    "duration": 25,
    "start_time": "2023-06-20T10:14:37.205Z"
   },
   {
    "duration": 15,
    "start_time": "2023-06-20T10:14:37.232Z"
   },
   {
    "duration": 17,
    "start_time": "2023-06-20T10:14:37.251Z"
   },
   {
    "duration": 47,
    "start_time": "2023-06-20T10:14:37.270Z"
   },
   {
    "duration": 29,
    "start_time": "2023-06-20T10:14:37.320Z"
   },
   {
    "duration": 51,
    "start_time": "2023-06-20T10:14:37.352Z"
   },
   {
    "duration": 19,
    "start_time": "2023-06-20T10:14:37.405Z"
   },
   {
    "duration": 28,
    "start_time": "2023-06-20T10:14:37.427Z"
   },
   {
    "duration": 26,
    "start_time": "2023-06-20T10:14:37.459Z"
   },
   {
    "duration": 34,
    "start_time": "2023-06-20T10:14:37.499Z"
   },
   {
    "duration": 8,
    "start_time": "2023-06-20T10:14:37.534Z"
   },
   {
    "duration": 24,
    "start_time": "2023-06-20T10:14:37.546Z"
   },
   {
    "duration": 9,
    "start_time": "2023-06-20T10:14:37.579Z"
   },
   {
    "duration": 42,
    "start_time": "2023-06-20T10:14:37.591Z"
   },
   {
    "duration": 10,
    "start_time": "2023-06-20T10:14:37.636Z"
   },
   {
    "duration": 46,
    "start_time": "2023-06-20T10:14:37.648Z"
   },
   {
    "duration": 36,
    "start_time": "2023-06-20T10:14:37.696Z"
   },
   {
    "duration": 191,
    "start_time": "2023-06-20T10:14:37.734Z"
   },
   {
    "duration": 176,
    "start_time": "2023-06-20T10:14:37.927Z"
   },
   {
    "duration": 259,
    "start_time": "2023-06-20T10:14:38.106Z"
   },
   {
    "duration": 356,
    "start_time": "2023-06-20T10:14:38.374Z"
   },
   {
    "duration": 343,
    "start_time": "2023-06-20T10:14:38.736Z"
   },
   {
    "duration": 61,
    "start_time": "2023-06-20T10:14:39.091Z"
   },
   {
    "duration": 57,
    "start_time": "2023-06-20T10:14:39.155Z"
   },
   {
    "duration": 28,
    "start_time": "2023-06-20T10:14:39.215Z"
   },
   {
    "duration": 485,
    "start_time": "2023-06-20T10:14:39.246Z"
   },
   {
    "duration": 366,
    "start_time": "2023-06-20T10:14:39.734Z"
   },
   {
    "duration": 7,
    "start_time": "2023-06-20T10:14:40.102Z"
   },
   {
    "duration": 64,
    "start_time": "2023-06-20T10:14:40.111Z"
   },
   {
    "duration": 154,
    "start_time": "2023-06-20T10:14:40.178Z"
   },
   {
    "duration": 42,
    "start_time": "2023-06-20T10:14:44.010Z"
   },
   {
    "duration": 60,
    "start_time": "2023-06-20T10:15:00.836Z"
   },
   {
    "duration": 49,
    "start_time": "2023-06-20T10:15:04.900Z"
   },
   {
    "duration": 1228,
    "start_time": "2023-06-20T10:15:17.493Z"
   },
   {
    "duration": 222,
    "start_time": "2023-06-20T10:15:18.724Z"
   },
   {
    "duration": 22,
    "start_time": "2023-06-20T10:15:18.949Z"
   },
   {
    "duration": 29,
    "start_time": "2023-06-20T10:15:18.973Z"
   },
   {
    "duration": 21,
    "start_time": "2023-06-20T10:15:19.005Z"
   },
   {
    "duration": 49,
    "start_time": "2023-06-20T10:15:19.028Z"
   },
   {
    "duration": 19,
    "start_time": "2023-06-20T10:15:19.089Z"
   },
   {
    "duration": 40,
    "start_time": "2023-06-20T10:15:19.110Z"
   },
   {
    "duration": 28,
    "start_time": "2023-06-20T10:15:19.153Z"
   },
   {
    "duration": 47,
    "start_time": "2023-06-20T10:15:19.186Z"
   },
   {
    "duration": 22,
    "start_time": "2023-06-20T10:15:19.236Z"
   },
   {
    "duration": 54,
    "start_time": "2023-06-20T10:15:19.260Z"
   },
   {
    "duration": 8,
    "start_time": "2023-06-20T10:15:19.323Z"
   },
   {
    "duration": 9,
    "start_time": "2023-06-20T10:15:19.334Z"
   },
   {
    "duration": 22,
    "start_time": "2023-06-20T10:15:19.345Z"
   },
   {
    "duration": 17,
    "start_time": "2023-06-20T10:15:19.370Z"
   },
   {
    "duration": 13,
    "start_time": "2023-06-20T10:15:19.390Z"
   },
   {
    "duration": 15,
    "start_time": "2023-06-20T10:15:19.406Z"
   },
   {
    "duration": 29,
    "start_time": "2023-06-20T10:15:19.423Z"
   },
   {
    "duration": 267,
    "start_time": "2023-06-20T10:15:19.455Z"
   },
   {
    "duration": 180,
    "start_time": "2023-06-20T10:15:19.725Z"
   },
   {
    "duration": 236,
    "start_time": "2023-06-20T10:15:19.907Z"
   },
   {
    "duration": 258,
    "start_time": "2023-06-20T10:15:20.144Z"
   },
   {
    "duration": 238,
    "start_time": "2023-06-20T10:15:20.405Z"
   },
   {
    "duration": 61,
    "start_time": "2023-06-20T10:15:20.645Z"
   },
   {
    "duration": 28,
    "start_time": "2023-06-20T10:15:20.709Z"
   },
   {
    "duration": 36,
    "start_time": "2023-06-20T10:15:20.740Z"
   },
   {
    "duration": 352,
    "start_time": "2023-06-20T10:15:20.778Z"
   },
   {
    "duration": 331,
    "start_time": "2023-06-20T10:15:21.132Z"
   },
   {
    "duration": 9,
    "start_time": "2023-06-20T10:15:21.465Z"
   },
   {
    "duration": 31,
    "start_time": "2023-06-20T10:15:21.486Z"
   },
   {
    "duration": 57,
    "start_time": "2023-06-20T10:16:45.145Z"
   },
   {
    "duration": 1649,
    "start_time": "2023-06-20T10:16:57.622Z"
   },
   {
    "duration": 198,
    "start_time": "2023-06-20T10:16:59.278Z"
   },
   {
    "duration": 25,
    "start_time": "2023-06-20T10:16:59.489Z"
   },
   {
    "duration": 26,
    "start_time": "2023-06-20T10:16:59.527Z"
   },
   {
    "duration": 19,
    "start_time": "2023-06-20T10:16:59.556Z"
   },
   {
    "duration": 38,
    "start_time": "2023-06-20T10:16:59.577Z"
   },
   {
    "duration": 23,
    "start_time": "2023-06-20T10:16:59.620Z"
   },
   {
    "duration": 42,
    "start_time": "2023-06-20T10:16:59.646Z"
   },
   {
    "duration": 23,
    "start_time": "2023-06-20T10:16:59.691Z"
   },
   {
    "duration": 36,
    "start_time": "2023-06-20T10:16:59.718Z"
   },
   {
    "duration": 30,
    "start_time": "2023-06-20T10:16:59.759Z"
   },
   {
    "duration": 33,
    "start_time": "2023-06-20T10:16:59.800Z"
   },
   {
    "duration": 11,
    "start_time": "2023-06-20T10:16:59.835Z"
   },
   {
    "duration": 13,
    "start_time": "2023-06-20T10:16:59.852Z"
   },
   {
    "duration": 24,
    "start_time": "2023-06-20T10:16:59.868Z"
   },
   {
    "duration": 19,
    "start_time": "2023-06-20T10:16:59.899Z"
   },
   {
    "duration": 21,
    "start_time": "2023-06-20T10:16:59.920Z"
   },
   {
    "duration": 11,
    "start_time": "2023-06-20T10:16:59.944Z"
   },
   {
    "duration": 12,
    "start_time": "2023-06-20T10:16:59.960Z"
   },
   {
    "duration": 252,
    "start_time": "2023-06-20T10:16:59.975Z"
   },
   {
    "duration": 217,
    "start_time": "2023-06-20T10:17:00.230Z"
   },
   {
    "duration": 261,
    "start_time": "2023-06-20T10:17:00.461Z"
   },
   {
    "duration": 259,
    "start_time": "2023-06-20T10:17:00.725Z"
   },
   {
    "duration": 298,
    "start_time": "2023-06-20T10:17:00.987Z"
   },
   {
    "duration": 41,
    "start_time": "2023-06-20T10:17:01.289Z"
   },
   {
    "duration": 61,
    "start_time": "2023-06-20T10:17:01.332Z"
   },
   {
    "duration": 112,
    "start_time": "2023-06-20T10:17:01.396Z"
   },
   {
    "duration": 371,
    "start_time": "2023-06-20T10:17:01.512Z"
   },
   {
    "duration": 325,
    "start_time": "2023-06-20T10:17:01.885Z"
   },
   {
    "duration": 4,
    "start_time": "2023-06-20T10:17:02.213Z"
   },
   {
    "duration": 76,
    "start_time": "2023-06-20T10:17:02.219Z"
   },
   {
    "duration": 60,
    "start_time": "2023-06-20T10:17:02.298Z"
   },
   {
    "duration": 20,
    "start_time": "2023-06-20T10:21:45.538Z"
   },
   {
    "duration": 25,
    "start_time": "2023-06-20T10:22:10.606Z"
   },
   {
    "duration": 1320,
    "start_time": "2023-06-20T10:22:24.835Z"
   },
   {
    "duration": 158,
    "start_time": "2023-06-20T10:22:26.161Z"
   },
   {
    "duration": 14,
    "start_time": "2023-06-20T10:22:26.321Z"
   },
   {
    "duration": 10,
    "start_time": "2023-06-20T10:22:26.337Z"
   },
   {
    "duration": 20,
    "start_time": "2023-06-20T10:22:26.349Z"
   },
   {
    "duration": 32,
    "start_time": "2023-06-20T10:22:26.378Z"
   },
   {
    "duration": 12,
    "start_time": "2023-06-20T10:22:26.412Z"
   },
   {
    "duration": 42,
    "start_time": "2023-06-20T10:22:26.426Z"
   },
   {
    "duration": 20,
    "start_time": "2023-06-20T10:22:26.470Z"
   },
   {
    "duration": 31,
    "start_time": "2023-06-20T10:22:26.494Z"
   },
   {
    "duration": 12,
    "start_time": "2023-06-20T10:22:26.527Z"
   },
   {
    "duration": 25,
    "start_time": "2023-06-20T10:22:26.558Z"
   },
   {
    "duration": 8,
    "start_time": "2023-06-20T10:22:26.586Z"
   },
   {
    "duration": 10,
    "start_time": "2023-06-20T10:22:26.596Z"
   },
   {
    "duration": 9,
    "start_time": "2023-06-20T10:22:26.608Z"
   },
   {
    "duration": 46,
    "start_time": "2023-06-20T10:22:26.619Z"
   },
   {
    "duration": 10,
    "start_time": "2023-06-20T10:22:26.671Z"
   },
   {
    "duration": 14,
    "start_time": "2023-06-20T10:22:26.684Z"
   },
   {
    "duration": 14,
    "start_time": "2023-06-20T10:22:26.700Z"
   },
   {
    "duration": 203,
    "start_time": "2023-06-20T10:22:26.716Z"
   },
   {
    "duration": 182,
    "start_time": "2023-06-20T10:22:26.921Z"
   },
   {
    "duration": 276,
    "start_time": "2023-06-20T10:22:27.105Z"
   },
   {
    "duration": 218,
    "start_time": "2023-06-20T10:22:27.389Z"
   },
   {
    "duration": 237,
    "start_time": "2023-06-20T10:22:27.609Z"
   },
   {
    "duration": 45,
    "start_time": "2023-06-20T10:22:27.848Z"
   },
   {
    "duration": 28,
    "start_time": "2023-06-20T10:22:27.895Z"
   },
   {
    "duration": 39,
    "start_time": "2023-06-20T10:22:27.925Z"
   },
   {
    "duration": 309,
    "start_time": "2023-06-20T10:22:27.970Z"
   },
   {
    "duration": 313,
    "start_time": "2023-06-20T10:22:28.282Z"
   },
   {
    "duration": 6,
    "start_time": "2023-06-20T10:22:28.598Z"
   },
   {
    "duration": 53,
    "start_time": "2023-06-20T10:22:28.607Z"
   },
   {
    "duration": 38,
    "start_time": "2023-06-20T10:22:28.670Z"
   },
   {
    "duration": 18,
    "start_time": "2023-06-20T10:22:28.710Z"
   },
   {
    "duration": 16,
    "start_time": "2023-06-20T10:22:43.598Z"
   },
   {
    "duration": 489,
    "start_time": "2023-06-20T10:23:39.106Z"
   },
   {
    "duration": 5,
    "start_time": "2023-06-20T10:25:06.617Z"
   },
   {
    "duration": 5,
    "start_time": "2023-06-20T10:25:20.791Z"
   },
   {
    "duration": 11,
    "start_time": "2023-06-20T10:28:49.258Z"
   },
   {
    "duration": 10,
    "start_time": "2023-06-20T10:28:57.817Z"
   },
   {
    "duration": 10,
    "start_time": "2023-06-20T10:29:15.594Z"
   },
   {
    "duration": 434,
    "start_time": "2023-06-20T10:29:26.107Z"
   },
   {
    "duration": 1316,
    "start_time": "2023-06-20T10:35:36.996Z"
   },
   {
    "duration": 170,
    "start_time": "2023-06-20T10:35:38.314Z"
   },
   {
    "duration": 22,
    "start_time": "2023-06-20T10:35:38.486Z"
   },
   {
    "duration": 13,
    "start_time": "2023-06-20T10:35:38.512Z"
   },
   {
    "duration": 13,
    "start_time": "2023-06-20T10:35:38.527Z"
   },
   {
    "duration": 36,
    "start_time": "2023-06-20T10:35:38.543Z"
   },
   {
    "duration": 16,
    "start_time": "2023-06-20T10:35:38.582Z"
   },
   {
    "duration": 26,
    "start_time": "2023-06-20T10:35:38.600Z"
   },
   {
    "duration": 46,
    "start_time": "2023-06-20T10:35:38.628Z"
   },
   {
    "duration": 32,
    "start_time": "2023-06-20T10:35:38.680Z"
   },
   {
    "duration": 15,
    "start_time": "2023-06-20T10:35:38.715Z"
   },
   {
    "duration": 40,
    "start_time": "2023-06-20T10:35:38.732Z"
   },
   {
    "duration": 14,
    "start_time": "2023-06-20T10:35:38.782Z"
   },
   {
    "duration": 31,
    "start_time": "2023-06-20T10:35:38.798Z"
   },
   {
    "duration": 10,
    "start_time": "2023-06-20T10:35:38.832Z"
   },
   {
    "duration": 36,
    "start_time": "2023-06-20T10:35:38.844Z"
   },
   {
    "duration": 17,
    "start_time": "2023-06-20T10:35:38.883Z"
   },
   {
    "duration": 21,
    "start_time": "2023-06-20T10:35:38.902Z"
   },
   {
    "duration": 8,
    "start_time": "2023-06-20T10:35:38.926Z"
   },
   {
    "duration": 239,
    "start_time": "2023-06-20T10:35:38.937Z"
   },
   {
    "duration": 217,
    "start_time": "2023-06-20T10:35:39.178Z"
   },
   {
    "duration": 299,
    "start_time": "2023-06-20T10:35:39.397Z"
   },
   {
    "duration": 330,
    "start_time": "2023-06-20T10:35:39.698Z"
   },
   {
    "duration": 249,
    "start_time": "2023-06-20T10:35:40.030Z"
   },
   {
    "duration": 38,
    "start_time": "2023-06-20T10:35:40.281Z"
   },
   {
    "duration": 47,
    "start_time": "2023-06-20T10:35:40.322Z"
   },
   {
    "duration": 25,
    "start_time": "2023-06-20T10:35:40.371Z"
   },
   {
    "duration": 349,
    "start_time": "2023-06-20T10:35:40.400Z"
   },
   {
    "duration": 372,
    "start_time": "2023-06-20T10:35:40.751Z"
   },
   {
    "duration": 6,
    "start_time": "2023-06-20T10:35:41.125Z"
   },
   {
    "duration": 48,
    "start_time": "2023-06-20T10:35:41.134Z"
   },
   {
    "duration": 53,
    "start_time": "2023-06-20T10:35:41.184Z"
   },
   {
    "duration": 37,
    "start_time": "2023-06-20T10:35:41.240Z"
   },
   {
    "duration": 15,
    "start_time": "2023-06-20T10:35:41.280Z"
   },
   {
    "duration": 20,
    "start_time": "2023-06-20T10:35:41.298Z"
   },
   {
    "duration": 9,
    "start_time": "2023-06-20T10:35:41.320Z"
   },
   {
    "duration": 403,
    "start_time": "2023-06-20T10:35:41.331Z"
   },
   {
    "duration": 11,
    "start_time": "2023-06-20T10:35:46.051Z"
   },
   {
    "duration": 6,
    "start_time": "2023-06-20T10:36:05.006Z"
   },
   {
    "duration": 6,
    "start_time": "2023-06-20T10:45:06.021Z"
   },
   {
    "duration": 6,
    "start_time": "2023-06-20T10:45:58.178Z"
   },
   {
    "duration": 6,
    "start_time": "2023-06-20T10:46:29.987Z"
   },
   {
    "duration": 5,
    "start_time": "2023-06-20T10:55:50.240Z"
   },
   {
    "duration": 192,
    "start_time": "2023-06-20T10:59:04.362Z"
   },
   {
    "duration": 2017,
    "start_time": "2023-06-20T11:00:25.627Z"
   },
   {
    "duration": 6,
    "start_time": "2023-06-20T11:01:26.129Z"
   },
   {
    "duration": 1263,
    "start_time": "2023-06-20T11:04:11.906Z"
   },
   {
    "duration": 184,
    "start_time": "2023-06-20T11:04:13.177Z"
   },
   {
    "duration": 35,
    "start_time": "2023-06-20T11:04:13.366Z"
   },
   {
    "duration": 16,
    "start_time": "2023-06-20T11:04:13.407Z"
   },
   {
    "duration": 23,
    "start_time": "2023-06-20T11:04:13.428Z"
   },
   {
    "duration": 41,
    "start_time": "2023-06-20T11:04:13.454Z"
   },
   {
    "duration": 20,
    "start_time": "2023-06-20T11:04:13.500Z"
   },
   {
    "duration": 46,
    "start_time": "2023-06-20T11:04:13.523Z"
   },
   {
    "duration": 23,
    "start_time": "2023-06-20T11:04:13.572Z"
   },
   {
    "duration": 36,
    "start_time": "2023-06-20T11:04:13.597Z"
   },
   {
    "duration": 28,
    "start_time": "2023-06-20T11:04:13.636Z"
   },
   {
    "duration": 36,
    "start_time": "2023-06-20T11:04:13.670Z"
   },
   {
    "duration": 8,
    "start_time": "2023-06-20T11:04:13.708Z"
   },
   {
    "duration": 15,
    "start_time": "2023-06-20T11:04:13.721Z"
   },
   {
    "duration": 22,
    "start_time": "2023-06-20T11:04:13.740Z"
   },
   {
    "duration": 24,
    "start_time": "2023-06-20T11:04:13.764Z"
   },
   {
    "duration": 11,
    "start_time": "2023-06-20T11:04:13.790Z"
   },
   {
    "duration": 21,
    "start_time": "2023-06-20T11:04:13.804Z"
   },
   {
    "duration": 12,
    "start_time": "2023-06-20T11:04:13.828Z"
   },
   {
    "duration": 237,
    "start_time": "2023-06-20T11:04:13.842Z"
   },
   {
    "duration": 196,
    "start_time": "2023-06-20T11:04:14.081Z"
   },
   {
    "duration": 264,
    "start_time": "2023-06-20T11:04:14.283Z"
   },
   {
    "duration": 312,
    "start_time": "2023-06-20T11:04:14.549Z"
   },
   {
    "duration": 254,
    "start_time": "2023-06-20T11:04:14.864Z"
   },
   {
    "duration": 42,
    "start_time": "2023-06-20T11:04:15.120Z"
   },
   {
    "duration": 38,
    "start_time": "2023-06-20T11:04:15.164Z"
   },
   {
    "duration": 24,
    "start_time": "2023-06-20T11:04:15.205Z"
   },
   {
    "duration": 396,
    "start_time": "2023-06-20T11:04:15.231Z"
   },
   {
    "duration": 369,
    "start_time": "2023-06-20T11:04:15.630Z"
   },
   {
    "duration": 14,
    "start_time": "2023-06-20T11:04:16.004Z"
   },
   {
    "duration": 24,
    "start_time": "2023-06-20T11:04:16.020Z"
   },
   {
    "duration": 59,
    "start_time": "2023-06-20T11:04:16.047Z"
   },
   {
    "duration": 16,
    "start_time": "2023-06-20T11:04:16.108Z"
   },
   {
    "duration": 21,
    "start_time": "2023-06-20T11:04:16.126Z"
   },
   {
    "duration": 28,
    "start_time": "2023-06-20T11:04:16.160Z"
   },
   {
    "duration": 6,
    "start_time": "2023-06-20T11:04:16.199Z"
   },
   {
    "duration": 511,
    "start_time": "2023-06-20T11:04:16.208Z"
   },
   {
    "duration": 6,
    "start_time": "2023-06-20T11:04:16.721Z"
   },
   {
    "duration": 11,
    "start_time": "2023-06-20T11:04:16.729Z"
   },
   {
    "duration": 34,
    "start_time": "2023-06-20T11:04:16.758Z"
   },
   {
    "duration": 9,
    "start_time": "2023-06-20T11:04:16.797Z"
   },
   {
    "duration": 7,
    "start_time": "2023-06-20T11:04:49.899Z"
   },
   {
    "duration": 131,
    "start_time": "2023-06-20T11:05:08.710Z"
   },
   {
    "duration": 119,
    "start_time": "2023-06-20T11:05:15.517Z"
   },
   {
    "duration": 157,
    "start_time": "2023-06-20T11:05:28.840Z"
   },
   {
    "duration": 2446,
    "start_time": "2023-06-20T11:05:33.000Z"
   },
   {
    "duration": 1493,
    "start_time": "2023-06-20T11:06:16.831Z"
   },
   {
    "duration": 182,
    "start_time": "2023-06-20T11:06:18.327Z"
   },
   {
    "duration": 20,
    "start_time": "2023-06-20T11:06:18.512Z"
   },
   {
    "duration": 28,
    "start_time": "2023-06-20T11:06:18.535Z"
   },
   {
    "duration": 35,
    "start_time": "2023-06-20T11:06:18.567Z"
   },
   {
    "duration": 34,
    "start_time": "2023-06-20T11:06:18.605Z"
   },
   {
    "duration": 21,
    "start_time": "2023-06-20T11:06:18.641Z"
   },
   {
    "duration": 61,
    "start_time": "2023-06-20T11:06:18.671Z"
   },
   {
    "duration": 18,
    "start_time": "2023-06-20T11:06:18.734Z"
   },
   {
    "duration": 67,
    "start_time": "2023-06-20T11:06:18.757Z"
   },
   {
    "duration": 31,
    "start_time": "2023-06-20T11:06:18.832Z"
   },
   {
    "duration": 62,
    "start_time": "2023-06-20T11:06:18.866Z"
   },
   {
    "duration": 12,
    "start_time": "2023-06-20T11:06:18.930Z"
   },
   {
    "duration": 14,
    "start_time": "2023-06-20T11:06:18.944Z"
   },
   {
    "duration": 16,
    "start_time": "2023-06-20T11:06:18.961Z"
   },
   {
    "duration": 29,
    "start_time": "2023-06-20T11:06:18.983Z"
   },
   {
    "duration": 13,
    "start_time": "2023-06-20T11:06:19.019Z"
   },
   {
    "duration": 23,
    "start_time": "2023-06-20T11:06:19.039Z"
   },
   {
    "duration": 37,
    "start_time": "2023-06-20T11:06:19.069Z"
   },
   {
    "duration": 284,
    "start_time": "2023-06-20T11:06:19.114Z"
   },
   {
    "duration": 217,
    "start_time": "2023-06-20T11:06:19.407Z"
   },
   {
    "duration": 326,
    "start_time": "2023-06-20T11:06:19.632Z"
   },
   {
    "duration": 343,
    "start_time": "2023-06-20T11:06:19.965Z"
   },
   {
    "duration": 341,
    "start_time": "2023-06-20T11:06:20.313Z"
   },
   {
    "duration": 57,
    "start_time": "2023-06-20T11:06:20.657Z"
   },
   {
    "duration": 41,
    "start_time": "2023-06-20T11:06:20.718Z"
   },
   {
    "duration": 46,
    "start_time": "2023-06-20T11:06:20.762Z"
   },
   {
    "duration": 354,
    "start_time": "2023-06-20T11:06:20.814Z"
   },
   {
    "duration": 406,
    "start_time": "2023-06-20T11:06:21.169Z"
   },
   {
    "duration": 7,
    "start_time": "2023-06-20T11:06:21.578Z"
   },
   {
    "duration": 34,
    "start_time": "2023-06-20T11:06:21.589Z"
   },
   {
    "duration": 70,
    "start_time": "2023-06-20T11:06:21.626Z"
   },
   {
    "duration": 27,
    "start_time": "2023-06-20T11:06:21.698Z"
   },
   {
    "duration": 54,
    "start_time": "2023-06-20T11:06:21.727Z"
   },
   {
    "duration": 33,
    "start_time": "2023-06-20T11:06:21.786Z"
   },
   {
    "duration": 6,
    "start_time": "2023-06-20T11:06:21.826Z"
   },
   {
    "duration": 619,
    "start_time": "2023-06-20T11:06:21.834Z"
   },
   {
    "duration": 14,
    "start_time": "2023-06-20T11:06:22.456Z"
   },
   {
    "duration": 10,
    "start_time": "2023-06-20T11:06:22.474Z"
   },
   {
    "duration": 30,
    "start_time": "2023-06-20T11:06:22.491Z"
   },
   {
    "duration": 2055,
    "start_time": "2023-06-20T11:06:22.524Z"
   },
   {
    "duration": 59,
    "start_time": "2023-06-20T11:07:53.737Z"
   },
   {
    "duration": 104,
    "start_time": "2023-06-20T11:08:14.393Z"
   },
   {
    "duration": 247,
    "start_time": "2023-06-20T11:09:10.203Z"
   },
   {
    "duration": 426,
    "start_time": "2023-06-20T11:10:32.005Z"
   },
   {
    "duration": 1712,
    "start_time": "2023-06-20T11:10:41.159Z"
   },
   {
    "duration": 84,
    "start_time": "2023-06-20T11:11:10.010Z"
   },
   {
    "duration": 20,
    "start_time": "2023-06-20T11:11:12.542Z"
   },
   {
    "duration": 1654,
    "start_time": "2023-06-20T11:11:18.529Z"
   },
   {
    "duration": 533,
    "start_time": "2023-06-20T11:11:20.185Z"
   },
   {
    "duration": 18,
    "start_time": "2023-06-20T11:11:20.721Z"
   },
   {
    "duration": 21,
    "start_time": "2023-06-20T11:11:20.742Z"
   },
   {
    "duration": 42,
    "start_time": "2023-06-20T11:11:20.780Z"
   },
   {
    "duration": 29,
    "start_time": "2023-06-20T11:11:20.824Z"
   },
   {
    "duration": 22,
    "start_time": "2023-06-20T11:11:20.855Z"
   },
   {
    "duration": 46,
    "start_time": "2023-06-20T11:11:20.880Z"
   },
   {
    "duration": 15,
    "start_time": "2023-06-20T11:11:20.928Z"
   },
   {
    "duration": 45,
    "start_time": "2023-06-20T11:11:20.945Z"
   },
   {
    "duration": 28,
    "start_time": "2023-06-20T11:11:20.993Z"
   },
   {
    "duration": 24,
    "start_time": "2023-06-20T11:11:21.024Z"
   },
   {
    "duration": 9,
    "start_time": "2023-06-20T11:11:21.051Z"
   },
   {
    "duration": 18,
    "start_time": "2023-06-20T11:11:21.070Z"
   },
   {
    "duration": 17,
    "start_time": "2023-06-20T11:11:21.091Z"
   },
   {
    "duration": 16,
    "start_time": "2023-06-20T11:11:21.110Z"
   },
   {
    "duration": 9,
    "start_time": "2023-06-20T11:11:21.128Z"
   },
   {
    "duration": 15,
    "start_time": "2023-06-20T11:11:21.159Z"
   },
   {
    "duration": 19,
    "start_time": "2023-06-20T11:11:21.177Z"
   },
   {
    "duration": 287,
    "start_time": "2023-06-20T11:11:21.202Z"
   },
   {
    "duration": 211,
    "start_time": "2023-06-20T11:11:21.498Z"
   },
   {
    "duration": 290,
    "start_time": "2023-06-20T11:11:21.714Z"
   },
   {
    "duration": 293,
    "start_time": "2023-06-20T11:11:22.006Z"
   },
   {
    "duration": 248,
    "start_time": "2023-06-20T11:11:22.301Z"
   },
   {
    "duration": 59,
    "start_time": "2023-06-20T11:11:22.552Z"
   },
   {
    "duration": 23,
    "start_time": "2023-06-20T11:11:22.616Z"
   },
   {
    "duration": 27,
    "start_time": "2023-06-20T11:11:22.641Z"
   },
   {
    "duration": 368,
    "start_time": "2023-06-20T11:11:22.671Z"
   },
   {
    "duration": 385,
    "start_time": "2023-06-20T11:11:23.042Z"
   },
   {
    "duration": 6,
    "start_time": "2023-06-20T11:11:23.429Z"
   },
   {
    "duration": 113,
    "start_time": "2023-06-20T11:11:23.437Z"
   },
   {
    "duration": 325,
    "start_time": "2023-06-20T11:11:23.552Z"
   },
   {
    "duration": 0,
    "start_time": "2023-06-20T11:11:23.886Z"
   },
   {
    "duration": 0,
    "start_time": "2023-06-20T11:11:23.891Z"
   },
   {
    "duration": 0,
    "start_time": "2023-06-20T11:11:23.896Z"
   },
   {
    "duration": 0,
    "start_time": "2023-06-20T11:11:23.898Z"
   },
   {
    "duration": 0,
    "start_time": "2023-06-20T11:11:23.900Z"
   },
   {
    "duration": 0,
    "start_time": "2023-06-20T11:11:23.901Z"
   },
   {
    "duration": 0,
    "start_time": "2023-06-20T11:11:23.903Z"
   },
   {
    "duration": 0,
    "start_time": "2023-06-20T11:11:23.905Z"
   },
   {
    "duration": 0,
    "start_time": "2023-06-20T11:11:23.907Z"
   },
   {
    "duration": 73,
    "start_time": "2023-06-20T11:11:30.291Z"
   },
   {
    "duration": 97,
    "start_time": "2023-06-20T11:13:52.596Z"
   },
   {
    "duration": 1348,
    "start_time": "2023-06-20T11:14:08.702Z"
   },
   {
    "duration": 181,
    "start_time": "2023-06-20T11:14:10.057Z"
   },
   {
    "duration": 19,
    "start_time": "2023-06-20T11:14:10.240Z"
   },
   {
    "duration": 186,
    "start_time": "2023-06-20T11:14:10.263Z"
   },
   {
    "duration": 47,
    "start_time": "2023-06-20T11:14:10.452Z"
   },
   {
    "duration": 29,
    "start_time": "2023-06-20T11:14:10.501Z"
   },
   {
    "duration": 15,
    "start_time": "2023-06-20T11:14:10.533Z"
   },
   {
    "duration": 55,
    "start_time": "2023-06-20T11:14:10.550Z"
   },
   {
    "duration": 19,
    "start_time": "2023-06-20T11:14:10.607Z"
   },
   {
    "duration": 35,
    "start_time": "2023-06-20T11:14:10.629Z"
   },
   {
    "duration": 25,
    "start_time": "2023-06-20T11:14:10.668Z"
   },
   {
    "duration": 36,
    "start_time": "2023-06-20T11:14:10.695Z"
   },
   {
    "duration": 8,
    "start_time": "2023-06-20T11:14:10.735Z"
   },
   {
    "duration": 12,
    "start_time": "2023-06-20T11:14:10.759Z"
   },
   {
    "duration": 14,
    "start_time": "2023-06-20T11:14:10.773Z"
   },
   {
    "duration": 25,
    "start_time": "2023-06-20T11:14:10.791Z"
   },
   {
    "duration": 13,
    "start_time": "2023-06-20T11:14:10.818Z"
   },
   {
    "duration": 34,
    "start_time": "2023-06-20T11:14:10.834Z"
   },
   {
    "duration": 8,
    "start_time": "2023-06-20T11:14:10.872Z"
   },
   {
    "duration": 265,
    "start_time": "2023-06-20T11:14:10.882Z"
   },
   {
    "duration": 167,
    "start_time": "2023-06-20T11:14:11.149Z"
   },
   {
    "duration": 324,
    "start_time": "2023-06-20T11:14:11.317Z"
   },
   {
    "duration": 258,
    "start_time": "2023-06-20T11:14:11.644Z"
   },
   {
    "duration": 243,
    "start_time": "2023-06-20T11:14:11.904Z"
   },
   {
    "duration": 61,
    "start_time": "2023-06-20T11:14:12.150Z"
   },
   {
    "duration": 30,
    "start_time": "2023-06-20T11:14:12.213Z"
   },
   {
    "duration": 28,
    "start_time": "2023-06-20T11:14:12.246Z"
   },
   {
    "duration": 354,
    "start_time": "2023-06-20T11:14:12.276Z"
   },
   {
    "duration": 336,
    "start_time": "2023-06-20T11:14:12.632Z"
   },
   {
    "duration": 10,
    "start_time": "2023-06-20T11:14:12.971Z"
   },
   {
    "duration": 56,
    "start_time": "2023-06-20T11:14:12.983Z"
   },
   {
    "duration": 70,
    "start_time": "2023-06-20T11:14:13.041Z"
   },
   {
    "duration": 18,
    "start_time": "2023-06-20T11:14:13.113Z"
   },
   {
    "duration": 12,
    "start_time": "2023-06-20T11:14:13.133Z"
   },
   {
    "duration": 54,
    "start_time": "2023-06-20T11:14:13.158Z"
   },
   {
    "duration": 14,
    "start_time": "2023-06-20T11:14:13.215Z"
   },
   {
    "duration": 504,
    "start_time": "2023-06-20T11:14:13.231Z"
   },
   {
    "duration": 5,
    "start_time": "2023-06-20T11:14:13.738Z"
   },
   {
    "duration": 11,
    "start_time": "2023-06-20T11:14:13.745Z"
   },
   {
    "duration": 26,
    "start_time": "2023-06-20T11:14:13.762Z"
   },
   {
    "duration": 129,
    "start_time": "2023-06-20T11:14:13.793Z"
   },
   {
    "duration": 13,
    "start_time": "2023-06-20T11:14:29.820Z"
   },
   {
    "duration": 18,
    "start_time": "2023-06-20T11:18:04.511Z"
   },
   {
    "duration": 8,
    "start_time": "2023-06-20T11:18:08.707Z"
   },
   {
    "duration": 8,
    "start_time": "2023-06-20T11:18:31.641Z"
   },
   {
    "duration": 9,
    "start_time": "2023-06-20T11:18:38.342Z"
   },
   {
    "duration": 6,
    "start_time": "2023-06-20T11:18:45.640Z"
   },
   {
    "duration": 11,
    "start_time": "2023-06-20T11:20:04.642Z"
   },
   {
    "duration": 22,
    "start_time": "2023-06-20T11:24:13.351Z"
   },
   {
    "duration": 14,
    "start_time": "2023-06-20T11:24:16.881Z"
   },
   {
    "duration": 12,
    "start_time": "2023-06-20T11:24:31.106Z"
   },
   {
    "duration": 7,
    "start_time": "2023-06-20T11:24:35.403Z"
   },
   {
    "duration": 15,
    "start_time": "2023-06-20T11:42:30.174Z"
   },
   {
    "duration": 13,
    "start_time": "2023-06-20T11:42:42.198Z"
   },
   {
    "duration": 14,
    "start_time": "2023-06-20T11:45:38.404Z"
   },
   {
    "duration": 11,
    "start_time": "2023-06-20T11:45:44.804Z"
   },
   {
    "duration": 16,
    "start_time": "2023-06-20T11:45:51.133Z"
   },
   {
    "duration": 316,
    "start_time": "2023-06-20T11:46:02.173Z"
   },
   {
    "duration": 334,
    "start_time": "2023-06-20T11:46:48.150Z"
   },
   {
    "duration": 331,
    "start_time": "2023-06-20T11:46:56.808Z"
   },
   {
    "duration": 325,
    "start_time": "2023-06-20T11:47:20.198Z"
   },
   {
    "duration": 122,
    "start_time": "2023-06-20T11:52:56.354Z"
   },
   {
    "duration": 115,
    "start_time": "2023-06-20T11:53:26.750Z"
   },
   {
    "duration": 419,
    "start_time": "2023-06-20T11:53:31.525Z"
   },
   {
    "duration": 1168,
    "start_time": "2023-06-20T11:54:31.019Z"
   },
   {
    "duration": 154,
    "start_time": "2023-06-20T11:54:32.190Z"
   },
   {
    "duration": 27,
    "start_time": "2023-06-20T11:54:32.346Z"
   },
   {
    "duration": 20,
    "start_time": "2023-06-20T11:54:32.375Z"
   },
   {
    "duration": 25,
    "start_time": "2023-06-20T11:54:32.398Z"
   },
   {
    "duration": 56,
    "start_time": "2023-06-20T11:54:32.426Z"
   },
   {
    "duration": 21,
    "start_time": "2023-06-20T11:54:32.488Z"
   },
   {
    "duration": 40,
    "start_time": "2023-06-20T11:54:32.511Z"
   },
   {
    "duration": 24,
    "start_time": "2023-06-20T11:54:32.553Z"
   },
   {
    "duration": 36,
    "start_time": "2023-06-20T11:54:32.580Z"
   },
   {
    "duration": 18,
    "start_time": "2023-06-20T11:54:32.618Z"
   },
   {
    "duration": 54,
    "start_time": "2023-06-20T11:54:32.639Z"
   },
   {
    "duration": 18,
    "start_time": "2023-06-20T11:54:32.698Z"
   },
   {
    "duration": 9,
    "start_time": "2023-06-20T11:54:32.727Z"
   },
   {
    "duration": 10,
    "start_time": "2023-06-20T11:54:32.738Z"
   },
   {
    "duration": 20,
    "start_time": "2023-06-20T11:54:32.750Z"
   },
   {
    "duration": 12,
    "start_time": "2023-06-20T11:54:32.772Z"
   },
   {
    "duration": 27,
    "start_time": "2023-06-20T11:54:32.789Z"
   },
   {
    "duration": 7,
    "start_time": "2023-06-20T11:54:32.823Z"
   },
   {
    "duration": 242,
    "start_time": "2023-06-20T11:54:32.832Z"
   },
   {
    "duration": 159,
    "start_time": "2023-06-20T11:54:33.076Z"
   },
   {
    "duration": 339,
    "start_time": "2023-06-20T11:54:33.237Z"
   },
   {
    "duration": 228,
    "start_time": "2023-06-20T11:54:33.582Z"
   },
   {
    "duration": 248,
    "start_time": "2023-06-20T11:54:33.814Z"
   },
   {
    "duration": 41,
    "start_time": "2023-06-20T11:54:34.070Z"
   },
   {
    "duration": 24,
    "start_time": "2023-06-20T11:54:34.113Z"
   },
   {
    "duration": 37,
    "start_time": "2023-06-20T11:54:34.140Z"
   },
   {
    "duration": 332,
    "start_time": "2023-06-20T11:54:34.183Z"
   },
   {
    "duration": 391,
    "start_time": "2023-06-20T11:54:34.517Z"
   },
   {
    "duration": 5,
    "start_time": "2023-06-20T11:54:34.911Z"
   },
   {
    "duration": 75,
    "start_time": "2023-06-20T11:54:34.918Z"
   },
   {
    "duration": 146,
    "start_time": "2023-06-20T11:54:34.995Z"
   },
   {
    "duration": 33,
    "start_time": "2023-06-20T11:54:35.143Z"
   },
   {
    "duration": 28,
    "start_time": "2023-06-20T11:54:35.185Z"
   },
   {
    "duration": 79,
    "start_time": "2023-06-20T11:54:35.218Z"
   },
   {
    "duration": 6,
    "start_time": "2023-06-20T11:54:35.299Z"
   },
   {
    "duration": 419,
    "start_time": "2023-06-20T11:54:35.308Z"
   },
   {
    "duration": 7,
    "start_time": "2023-06-20T11:54:35.730Z"
   },
   {
    "duration": 167,
    "start_time": "2023-06-20T11:54:35.740Z"
   },
   {
    "duration": 0,
    "start_time": "2023-06-20T11:54:35.910Z"
   },
   {
    "duration": 0,
    "start_time": "2023-06-20T11:54:35.912Z"
   },
   {
    "duration": 0,
    "start_time": "2023-06-20T11:54:35.914Z"
   },
   {
    "duration": 0,
    "start_time": "2023-06-20T11:54:35.915Z"
   },
   {
    "duration": 9,
    "start_time": "2023-06-20T11:55:42.398Z"
   },
   {
    "duration": 1285,
    "start_time": "2023-06-20T11:55:49.560Z"
   },
   {
    "duration": 186,
    "start_time": "2023-06-20T11:55:50.849Z"
   },
   {
    "duration": 15,
    "start_time": "2023-06-20T11:55:51.037Z"
   },
   {
    "duration": 20,
    "start_time": "2023-06-20T11:55:51.054Z"
   },
   {
    "duration": 19,
    "start_time": "2023-06-20T11:55:51.079Z"
   },
   {
    "duration": 21,
    "start_time": "2023-06-20T11:55:51.101Z"
   },
   {
    "duration": 12,
    "start_time": "2023-06-20T11:55:51.124Z"
   },
   {
    "duration": 57,
    "start_time": "2023-06-20T11:55:51.138Z"
   },
   {
    "duration": 28,
    "start_time": "2023-06-20T11:55:51.198Z"
   },
   {
    "duration": 49,
    "start_time": "2023-06-20T11:55:51.229Z"
   },
   {
    "duration": 18,
    "start_time": "2023-06-20T11:55:51.280Z"
   },
   {
    "duration": 27,
    "start_time": "2023-06-20T11:55:51.301Z"
   },
   {
    "duration": 22,
    "start_time": "2023-06-20T11:55:51.330Z"
   },
   {
    "duration": 35,
    "start_time": "2023-06-20T11:55:51.356Z"
   },
   {
    "duration": 26,
    "start_time": "2023-06-20T11:55:51.394Z"
   },
   {
    "duration": 15,
    "start_time": "2023-06-20T11:55:51.423Z"
   },
   {
    "duration": 9,
    "start_time": "2023-06-20T11:55:51.441Z"
   },
   {
    "duration": 39,
    "start_time": "2023-06-20T11:55:51.452Z"
   },
   {
    "duration": 8,
    "start_time": "2023-06-20T11:55:51.500Z"
   },
   {
    "duration": 234,
    "start_time": "2023-06-20T11:55:51.510Z"
   },
   {
    "duration": 224,
    "start_time": "2023-06-20T11:55:51.746Z"
   },
   {
    "duration": 360,
    "start_time": "2023-06-20T11:55:51.972Z"
   },
   {
    "duration": 251,
    "start_time": "2023-06-20T11:55:52.334Z"
   },
   {
    "duration": 234,
    "start_time": "2023-06-20T11:55:52.591Z"
   },
   {
    "duration": 48,
    "start_time": "2023-06-20T11:55:52.827Z"
   },
   {
    "duration": 25,
    "start_time": "2023-06-20T11:55:52.890Z"
   },
   {
    "duration": 23,
    "start_time": "2023-06-20T11:55:52.917Z"
   },
   {
    "duration": 329,
    "start_time": "2023-06-20T11:55:52.942Z"
   },
   {
    "duration": 309,
    "start_time": "2023-06-20T11:55:53.276Z"
   },
   {
    "duration": 8,
    "start_time": "2023-06-20T11:55:53.591Z"
   },
   {
    "duration": 26,
    "start_time": "2023-06-20T11:55:53.604Z"
   },
   {
    "duration": 72,
    "start_time": "2023-06-20T11:55:53.633Z"
   },
   {
    "duration": 13,
    "start_time": "2023-06-20T11:55:53.707Z"
   },
   {
    "duration": 21,
    "start_time": "2023-06-20T11:55:53.723Z"
   },
   {
    "duration": 41,
    "start_time": "2023-06-20T11:55:53.747Z"
   },
   {
    "duration": 5,
    "start_time": "2023-06-20T11:55:53.790Z"
   },
   {
    "duration": 499,
    "start_time": "2023-06-20T11:55:53.797Z"
   },
   {
    "duration": 8,
    "start_time": "2023-06-20T11:55:54.300Z"
   },
   {
    "duration": 10,
    "start_time": "2023-06-20T11:55:54.311Z"
   },
   {
    "duration": 13,
    "start_time": "2023-06-20T11:55:54.324Z"
   },
   {
    "duration": 17,
    "start_time": "2023-06-20T11:55:54.363Z"
   },
   {
    "duration": 360,
    "start_time": "2023-06-20T11:55:54.382Z"
   },
   {
    "duration": 380,
    "start_time": "2023-06-20T11:55:54.744Z"
   },
   {
    "duration": 1204,
    "start_time": "2023-06-20T12:11:55.696Z"
   },
   {
    "duration": 144,
    "start_time": "2023-06-20T12:11:56.903Z"
   },
   {
    "duration": 30,
    "start_time": "2023-06-20T12:11:57.049Z"
   },
   {
    "duration": 14,
    "start_time": "2023-06-20T12:11:57.083Z"
   },
   {
    "duration": 18,
    "start_time": "2023-06-20T12:11:57.100Z"
   },
   {
    "duration": 43,
    "start_time": "2023-06-20T12:11:57.121Z"
   },
   {
    "duration": 22,
    "start_time": "2023-06-20T12:11:57.166Z"
   },
   {
    "duration": 37,
    "start_time": "2023-06-20T12:11:57.190Z"
   },
   {
    "duration": 41,
    "start_time": "2023-06-20T12:11:57.230Z"
   },
   {
    "duration": 26,
    "start_time": "2023-06-20T12:11:57.274Z"
   },
   {
    "duration": 12,
    "start_time": "2023-06-20T12:11:57.302Z"
   },
   {
    "duration": 54,
    "start_time": "2023-06-20T12:11:57.317Z"
   },
   {
    "duration": 11,
    "start_time": "2023-06-20T12:11:57.379Z"
   },
   {
    "duration": 18,
    "start_time": "2023-06-20T12:11:57.395Z"
   },
   {
    "duration": 16,
    "start_time": "2023-06-20T12:11:57.416Z"
   },
   {
    "duration": 15,
    "start_time": "2023-06-20T12:11:57.435Z"
   },
   {
    "duration": 17,
    "start_time": "2023-06-20T12:11:57.453Z"
   },
   {
    "duration": 13,
    "start_time": "2023-06-20T12:11:57.477Z"
   },
   {
    "duration": 8,
    "start_time": "2023-06-20T12:11:57.492Z"
   },
   {
    "duration": 222,
    "start_time": "2023-06-20T12:11:57.502Z"
   },
   {
    "duration": 189,
    "start_time": "2023-06-20T12:11:57.727Z"
   },
   {
    "duration": 312,
    "start_time": "2023-06-20T12:11:57.918Z"
   },
   {
    "duration": 266,
    "start_time": "2023-06-20T12:11:58.232Z"
   },
   {
    "duration": 242,
    "start_time": "2023-06-20T12:11:58.500Z"
   },
   {
    "duration": 49,
    "start_time": "2023-06-20T12:11:58.745Z"
   },
   {
    "duration": 22,
    "start_time": "2023-06-20T12:11:58.796Z"
   },
   {
    "duration": 55,
    "start_time": "2023-06-20T12:11:58.820Z"
   },
   {
    "duration": 459,
    "start_time": "2023-06-20T12:11:58.877Z"
   },
   {
    "duration": 424,
    "start_time": "2023-06-20T12:11:59.338Z"
   },
   {
    "duration": 15,
    "start_time": "2023-06-20T12:11:59.764Z"
   },
   {
    "duration": 34,
    "start_time": "2023-06-20T12:11:59.781Z"
   },
   {
    "duration": 65,
    "start_time": "2023-06-20T12:11:59.817Z"
   },
   {
    "duration": 21,
    "start_time": "2023-06-20T12:11:59.884Z"
   },
   {
    "duration": 18,
    "start_time": "2023-06-20T12:11:59.907Z"
   },
   {
    "duration": 41,
    "start_time": "2023-06-20T12:11:59.927Z"
   },
   {
    "duration": 5,
    "start_time": "2023-06-20T12:11:59.970Z"
   },
   {
    "duration": 439,
    "start_time": "2023-06-20T12:11:59.977Z"
   },
   {
    "duration": 6,
    "start_time": "2023-06-20T12:12:00.419Z"
   },
   {
    "duration": 65,
    "start_time": "2023-06-20T12:12:00.428Z"
   },
   {
    "duration": 36,
    "start_time": "2023-06-20T12:12:00.495Z"
   },
   {
    "duration": 48,
    "start_time": "2023-06-20T12:12:00.535Z"
   },
   {
    "duration": 364,
    "start_time": "2023-06-20T12:12:00.586Z"
   },
   {
    "duration": 384,
    "start_time": "2023-06-20T12:12:00.952Z"
   },
   {
    "duration": 10,
    "start_time": "2023-06-20T12:20:34.811Z"
   },
   {
    "duration": 9,
    "start_time": "2023-06-20T12:21:34.998Z"
   },
   {
    "duration": 9,
    "start_time": "2023-06-20T12:23:01.839Z"
   },
   {
    "duration": 10,
    "start_time": "2023-06-20T12:23:05.252Z"
   },
   {
    "duration": 15,
    "start_time": "2023-06-20T12:23:24.554Z"
   },
   {
    "duration": 10,
    "start_time": "2023-06-20T12:24:42.633Z"
   },
   {
    "duration": 10,
    "start_time": "2023-06-20T12:24:50.829Z"
   },
   {
    "duration": 1239,
    "start_time": "2023-06-20T13:20:30.198Z"
   },
   {
    "duration": 168,
    "start_time": "2023-06-20T13:20:31.441Z"
   },
   {
    "duration": 14,
    "start_time": "2023-06-20T13:20:31.611Z"
   },
   {
    "duration": 45,
    "start_time": "2023-06-20T13:20:31.628Z"
   },
   {
    "duration": 35,
    "start_time": "2023-06-20T13:20:31.674Z"
   },
   {
    "duration": 73,
    "start_time": "2023-06-20T13:20:31.711Z"
   },
   {
    "duration": 41,
    "start_time": "2023-06-20T13:20:31.786Z"
   },
   {
    "duration": 77,
    "start_time": "2023-06-20T13:20:31.829Z"
   },
   {
    "duration": 18,
    "start_time": "2023-06-20T13:20:31.908Z"
   },
   {
    "duration": 43,
    "start_time": "2023-06-20T13:20:31.929Z"
   },
   {
    "duration": 49,
    "start_time": "2023-06-20T13:20:31.976Z"
   },
   {
    "duration": 62,
    "start_time": "2023-06-20T13:20:32.027Z"
   },
   {
    "duration": 15,
    "start_time": "2023-06-20T13:20:32.091Z"
   },
   {
    "duration": 38,
    "start_time": "2023-06-20T13:20:32.107Z"
   },
   {
    "duration": 35,
    "start_time": "2023-06-20T13:20:32.147Z"
   },
   {
    "duration": 42,
    "start_time": "2023-06-20T13:20:32.184Z"
   },
   {
    "duration": 8,
    "start_time": "2023-06-20T13:20:32.229Z"
   },
   {
    "duration": 15,
    "start_time": "2023-06-20T13:20:32.240Z"
   },
   {
    "duration": 16,
    "start_time": "2023-06-20T13:20:32.260Z"
   },
   {
    "duration": 229,
    "start_time": "2023-06-20T13:20:32.282Z"
   },
   {
    "duration": 164,
    "start_time": "2023-06-20T13:20:32.516Z"
   },
   {
    "duration": 252,
    "start_time": "2023-06-20T13:20:32.683Z"
   },
   {
    "duration": 235,
    "start_time": "2023-06-20T13:20:32.938Z"
   },
   {
    "duration": 253,
    "start_time": "2023-06-20T13:20:33.174Z"
   },
   {
    "duration": 49,
    "start_time": "2023-06-20T13:20:33.430Z"
   },
   {
    "duration": 22,
    "start_time": "2023-06-20T13:20:33.481Z"
   },
   {
    "duration": 17,
    "start_time": "2023-06-20T13:20:33.506Z"
   },
   {
    "duration": 347,
    "start_time": "2023-06-20T13:20:33.528Z"
   },
   {
    "duration": 305,
    "start_time": "2023-06-20T13:20:33.877Z"
   },
   {
    "duration": 6,
    "start_time": "2023-06-20T13:20:34.184Z"
   },
   {
    "duration": 22,
    "start_time": "2023-06-20T13:20:34.192Z"
   },
   {
    "duration": 89,
    "start_time": "2023-06-20T13:20:34.216Z"
   },
   {
    "duration": 17,
    "start_time": "2023-06-20T13:20:34.306Z"
   },
   {
    "duration": 9,
    "start_time": "2023-06-20T13:20:34.326Z"
   },
   {
    "duration": 20,
    "start_time": "2023-06-20T13:20:34.355Z"
   },
   {
    "duration": 8,
    "start_time": "2023-06-20T13:20:34.376Z"
   },
   {
    "duration": 399,
    "start_time": "2023-06-20T13:20:34.386Z"
   },
   {
    "duration": 7,
    "start_time": "2023-06-20T13:20:34.786Z"
   },
   {
    "duration": 7,
    "start_time": "2023-06-20T13:20:34.794Z"
   },
   {
    "duration": 15,
    "start_time": "2023-06-20T13:20:34.803Z"
   },
   {
    "duration": 49,
    "start_time": "2023-06-20T13:20:34.820Z"
   },
   {
    "duration": 317,
    "start_time": "2023-06-20T13:20:34.871Z"
   },
   {
    "duration": 370,
    "start_time": "2023-06-20T13:20:35.190Z"
   },
   {
    "duration": 6,
    "start_time": "2023-06-20T13:23:44.929Z"
   },
   {
    "duration": 7,
    "start_time": "2023-06-20T13:24:01.294Z"
   },
   {
    "duration": 187,
    "start_time": "2023-06-20T13:29:17.347Z"
   },
   {
    "duration": 154,
    "start_time": "2023-06-20T13:30:06.644Z"
   },
   {
    "duration": 472,
    "start_time": "2023-06-20T13:30:25.718Z"
   },
   {
    "duration": 273,
    "start_time": "2023-06-20T13:30:29.724Z"
   },
   {
    "duration": 208,
    "start_time": "2023-06-20T13:31:06.425Z"
   },
   {
    "duration": 267,
    "start_time": "2023-06-20T13:31:17.006Z"
   },
   {
    "duration": 129,
    "start_time": "2023-06-20T13:31:22.177Z"
   },
   {
    "duration": 296,
    "start_time": "2023-06-20T13:31:55.109Z"
   },
   {
    "duration": 3,
    "start_time": "2023-06-20T13:32:21.925Z"
   },
   {
    "duration": 158,
    "start_time": "2023-06-20T13:32:31.110Z"
   },
   {
    "duration": 161,
    "start_time": "2023-06-20T13:32:56.635Z"
   },
   {
    "duration": 191,
    "start_time": "2023-06-20T13:33:05.590Z"
   },
   {
    "duration": 14,
    "start_time": "2023-06-20T13:34:04.497Z"
   },
   {
    "duration": 14,
    "start_time": "2023-06-20T13:34:08.036Z"
   },
   {
    "duration": 4,
    "start_time": "2023-06-20T13:34:14.593Z"
   },
   {
    "duration": 5,
    "start_time": "2023-06-20T13:34:40.626Z"
   },
   {
    "duration": 342,
    "start_time": "2023-06-20T13:36:18.456Z"
   },
   {
    "duration": 104,
    "start_time": "2023-06-20T13:38:26.034Z"
   },
   {
    "duration": 253,
    "start_time": "2023-06-20T13:39:09.705Z"
   },
   {
    "duration": 68,
    "start_time": "2023-06-20T13:41:58.421Z"
   },
   {
    "duration": 99,
    "start_time": "2023-06-20T13:42:03.021Z"
   },
   {
    "duration": 1194,
    "start_time": "2023-06-20T13:42:10.836Z"
   },
   {
    "duration": 153,
    "start_time": "2023-06-20T13:42:12.032Z"
   },
   {
    "duration": 15,
    "start_time": "2023-06-20T13:42:12.187Z"
   },
   {
    "duration": 13,
    "start_time": "2023-06-20T13:42:12.205Z"
   },
   {
    "duration": 13,
    "start_time": "2023-06-20T13:42:12.221Z"
   },
   {
    "duration": 45,
    "start_time": "2023-06-20T13:42:12.236Z"
   },
   {
    "duration": 15,
    "start_time": "2023-06-20T13:42:12.284Z"
   },
   {
    "duration": 43,
    "start_time": "2023-06-20T13:42:12.301Z"
   },
   {
    "duration": 20,
    "start_time": "2023-06-20T13:42:12.357Z"
   },
   {
    "duration": 31,
    "start_time": "2023-06-20T13:42:12.380Z"
   },
   {
    "duration": 11,
    "start_time": "2023-06-20T13:42:12.413Z"
   },
   {
    "duration": 56,
    "start_time": "2023-06-20T13:42:12.426Z"
   },
   {
    "duration": 5,
    "start_time": "2023-06-20T13:42:12.485Z"
   },
   {
    "duration": 9,
    "start_time": "2023-06-20T13:42:12.493Z"
   },
   {
    "duration": 20,
    "start_time": "2023-06-20T13:42:12.504Z"
   },
   {
    "duration": 25,
    "start_time": "2023-06-20T13:42:12.527Z"
   },
   {
    "duration": 21,
    "start_time": "2023-06-20T13:42:12.558Z"
   },
   {
    "duration": 9,
    "start_time": "2023-06-20T13:42:12.583Z"
   },
   {
    "duration": 25,
    "start_time": "2023-06-20T13:42:12.595Z"
   },
   {
    "duration": 30,
    "start_time": "2023-06-20T13:42:12.623Z"
   },
   {
    "duration": 190,
    "start_time": "2023-06-20T13:42:12.656Z"
   },
   {
    "duration": 168,
    "start_time": "2023-06-20T13:42:12.848Z"
   },
   {
    "duration": 229,
    "start_time": "2023-06-20T13:42:13.018Z"
   },
   {
    "duration": 158,
    "start_time": "2023-06-20T13:42:13.249Z"
   },
   {
    "duration": 296,
    "start_time": "2023-06-20T13:42:13.409Z"
   },
   {
    "duration": 140,
    "start_time": "2023-06-20T13:42:13.707Z"
   },
   {
    "duration": 227,
    "start_time": "2023-06-20T13:42:13.856Z"
   },
   {
    "duration": 148,
    "start_time": "2023-06-20T13:42:14.086Z"
   },
   {
    "duration": 4,
    "start_time": "2023-06-20T13:42:14.236Z"
   },
   {
    "duration": 50,
    "start_time": "2023-06-20T13:42:14.241Z"
   },
   {
    "duration": 3,
    "start_time": "2023-06-20T13:42:14.293Z"
   },
   {
    "duration": 24,
    "start_time": "2023-06-20T13:42:14.299Z"
   },
   {
    "duration": 48,
    "start_time": "2023-06-20T13:42:14.325Z"
   },
   {
    "duration": 295,
    "start_time": "2023-06-20T13:42:14.376Z"
   },
   {
    "duration": 377,
    "start_time": "2023-06-20T13:42:14.673Z"
   },
   {
    "duration": 11,
    "start_time": "2023-06-20T13:42:15.056Z"
   },
   {
    "duration": 24,
    "start_time": "2023-06-20T13:42:15.069Z"
   },
   {
    "duration": 44,
    "start_time": "2023-06-20T13:42:15.095Z"
   },
   {
    "duration": 37,
    "start_time": "2023-06-20T13:42:15.140Z"
   },
   {
    "duration": 8,
    "start_time": "2023-06-20T13:42:15.178Z"
   },
   {
    "duration": 13,
    "start_time": "2023-06-20T13:42:15.190Z"
   },
   {
    "duration": 11,
    "start_time": "2023-06-20T13:42:15.205Z"
   },
   {
    "duration": 301,
    "start_time": "2023-06-20T13:42:15.218Z"
   },
   {
    "duration": 5,
    "start_time": "2023-06-20T13:42:15.521Z"
   },
   {
    "duration": 29,
    "start_time": "2023-06-20T13:42:15.528Z"
   },
   {
    "duration": 8,
    "start_time": "2023-06-20T13:42:15.565Z"
   },
   {
    "duration": 15,
    "start_time": "2023-06-20T13:42:15.574Z"
   },
   {
    "duration": 286,
    "start_time": "2023-06-20T13:42:15.590Z"
   },
   {
    "duration": 327,
    "start_time": "2023-06-20T13:42:15.878Z"
   },
   {
    "duration": 1211,
    "start_time": "2023-06-20T13:42:58.780Z"
   },
   {
    "duration": 126,
    "start_time": "2023-06-20T13:42:59.994Z"
   },
   {
    "duration": 14,
    "start_time": "2023-06-20T13:43:00.122Z"
   },
   {
    "duration": 50,
    "start_time": "2023-06-20T13:43:00.138Z"
   },
   {
    "duration": 54,
    "start_time": "2023-06-20T13:43:00.192Z"
   },
   {
    "duration": 63,
    "start_time": "2023-06-20T13:43:00.247Z"
   },
   {
    "duration": 31,
    "start_time": "2023-06-20T13:43:00.313Z"
   },
   {
    "duration": 57,
    "start_time": "2023-06-20T13:43:00.346Z"
   },
   {
    "duration": 27,
    "start_time": "2023-06-20T13:43:00.405Z"
   },
   {
    "duration": 57,
    "start_time": "2023-06-20T13:43:00.434Z"
   },
   {
    "duration": 50,
    "start_time": "2023-06-20T13:43:00.493Z"
   },
   {
    "duration": 92,
    "start_time": "2023-06-20T13:43:00.545Z"
   },
   {
    "duration": 79,
    "start_time": "2023-06-20T13:43:00.639Z"
   },
   {
    "duration": 57,
    "start_time": "2023-06-20T13:43:00.722Z"
   },
   {
    "duration": 113,
    "start_time": "2023-06-20T13:43:00.781Z"
   },
   {
    "duration": 44,
    "start_time": "2023-06-20T13:43:00.896Z"
   },
   {
    "duration": 48,
    "start_time": "2023-06-20T13:43:00.942Z"
   },
   {
    "duration": 39,
    "start_time": "2023-06-20T13:43:00.991Z"
   },
   {
    "duration": 50,
    "start_time": "2023-06-20T13:43:01.032Z"
   },
   {
    "duration": 65,
    "start_time": "2023-06-20T13:43:01.084Z"
   },
   {
    "duration": 231,
    "start_time": "2023-06-20T13:43:01.151Z"
   },
   {
    "duration": 155,
    "start_time": "2023-06-20T13:43:01.384Z"
   },
   {
    "duration": 240,
    "start_time": "2023-06-20T13:43:01.541Z"
   },
   {
    "duration": 123,
    "start_time": "2023-06-20T13:43:01.784Z"
   },
   {
    "duration": 236,
    "start_time": "2023-06-20T13:43:01.909Z"
   },
   {
    "duration": 150,
    "start_time": "2023-06-20T13:43:02.147Z"
   },
   {
    "duration": 304,
    "start_time": "2023-06-20T13:43:02.299Z"
   },
   {
    "duration": 187,
    "start_time": "2023-06-20T13:43:02.606Z"
   },
   {
    "duration": 6,
    "start_time": "2023-06-20T13:43:02.795Z"
   },
   {
    "duration": 43,
    "start_time": "2023-06-20T13:43:02.803Z"
   },
   {
    "duration": 18,
    "start_time": "2023-06-20T13:43:02.848Z"
   },
   {
    "duration": 27,
    "start_time": "2023-06-20T13:43:02.870Z"
   },
   {
    "duration": 17,
    "start_time": "2023-06-20T13:43:02.899Z"
   },
   {
    "duration": 318,
    "start_time": "2023-06-20T13:43:02.918Z"
   },
   {
    "duration": 453,
    "start_time": "2023-06-20T13:43:03.238Z"
   },
   {
    "duration": 4,
    "start_time": "2023-06-20T13:43:03.693Z"
   },
   {
    "duration": 22,
    "start_time": "2023-06-20T13:43:03.699Z"
   },
   {
    "duration": 76,
    "start_time": "2023-06-20T13:43:03.724Z"
   },
   {
    "duration": 14,
    "start_time": "2023-06-20T13:43:03.802Z"
   },
   {
    "duration": 7,
    "start_time": "2023-06-20T13:43:03.818Z"
   },
   {
    "duration": 41,
    "start_time": "2023-06-20T13:43:03.829Z"
   },
   {
    "duration": 8,
    "start_time": "2023-06-20T13:43:03.872Z"
   },
   {
    "duration": 332,
    "start_time": "2023-06-20T13:43:03.882Z"
   },
   {
    "duration": 7,
    "start_time": "2023-06-20T13:43:04.216Z"
   },
   {
    "duration": 16,
    "start_time": "2023-06-20T13:43:04.224Z"
   },
   {
    "duration": 31,
    "start_time": "2023-06-20T13:43:04.243Z"
   },
   {
    "duration": 15,
    "start_time": "2023-06-20T13:43:04.276Z"
   },
   {
    "duration": 278,
    "start_time": "2023-06-20T13:43:04.293Z"
   },
   {
    "duration": 328,
    "start_time": "2023-06-20T13:43:04.574Z"
   },
   {
    "duration": 1175,
    "start_time": "2023-06-20T13:43:29.972Z"
   },
   {
    "duration": 160,
    "start_time": "2023-06-20T13:43:31.149Z"
   },
   {
    "duration": 15,
    "start_time": "2023-06-20T13:43:31.311Z"
   },
   {
    "duration": 67,
    "start_time": "2023-06-20T13:43:31.327Z"
   },
   {
    "duration": 47,
    "start_time": "2023-06-20T13:43:31.397Z"
   },
   {
    "duration": 114,
    "start_time": "2023-06-20T13:43:31.446Z"
   },
   {
    "duration": 45,
    "start_time": "2023-06-20T13:43:31.561Z"
   },
   {
    "duration": 59,
    "start_time": "2023-06-20T13:43:31.609Z"
   },
   {
    "duration": 13,
    "start_time": "2023-06-20T13:43:31.672Z"
   },
   {
    "duration": 67,
    "start_time": "2023-06-20T13:43:31.687Z"
   },
   {
    "duration": 126,
    "start_time": "2023-06-20T13:43:31.756Z"
   },
   {
    "duration": 44,
    "start_time": "2023-06-20T13:43:31.884Z"
   },
   {
    "duration": 14,
    "start_time": "2023-06-20T13:43:31.930Z"
   },
   {
    "duration": 23,
    "start_time": "2023-06-20T13:43:31.948Z"
   },
   {
    "duration": 24,
    "start_time": "2023-06-20T13:43:31.976Z"
   },
   {
    "duration": 12,
    "start_time": "2023-06-20T13:43:32.002Z"
   },
   {
    "duration": 45,
    "start_time": "2023-06-20T13:43:32.016Z"
   },
   {
    "duration": 19,
    "start_time": "2023-06-20T13:43:32.064Z"
   },
   {
    "duration": 23,
    "start_time": "2023-06-20T13:43:32.084Z"
   },
   {
    "duration": 32,
    "start_time": "2023-06-20T13:43:32.109Z"
   },
   {
    "duration": 218,
    "start_time": "2023-06-20T13:43:32.143Z"
   },
   {
    "duration": 202,
    "start_time": "2023-06-20T13:43:32.363Z"
   },
   {
    "duration": 240,
    "start_time": "2023-06-20T13:43:32.572Z"
   },
   {
    "duration": 127,
    "start_time": "2023-06-20T13:43:32.814Z"
   },
   {
    "duration": 221,
    "start_time": "2023-06-20T13:43:32.943Z"
   },
   {
    "duration": 176,
    "start_time": "2023-06-20T13:43:33.165Z"
   },
   {
    "duration": 209,
    "start_time": "2023-06-20T13:43:33.343Z"
   },
   {
    "duration": 147,
    "start_time": "2023-06-20T13:43:33.554Z"
   },
   {
    "duration": 4,
    "start_time": "2023-06-20T13:43:33.703Z"
   },
   {
    "duration": 43,
    "start_time": "2023-06-20T13:43:33.709Z"
   },
   {
    "duration": 6,
    "start_time": "2023-06-20T13:43:33.765Z"
   },
   {
    "duration": 52,
    "start_time": "2023-06-20T13:43:33.775Z"
   },
   {
    "duration": 16,
    "start_time": "2023-06-20T13:43:33.829Z"
   },
   {
    "duration": 297,
    "start_time": "2023-06-20T13:43:33.847Z"
   },
   {
    "duration": 419,
    "start_time": "2023-06-20T13:43:34.147Z"
   },
   {
    "duration": 6,
    "start_time": "2023-06-20T13:43:34.569Z"
   },
   {
    "duration": 24,
    "start_time": "2023-06-20T13:43:34.577Z"
   },
   {
    "duration": 62,
    "start_time": "2023-06-20T13:43:34.602Z"
   },
   {
    "duration": 16,
    "start_time": "2023-06-20T13:43:34.666Z"
   },
   {
    "duration": 9,
    "start_time": "2023-06-20T13:43:34.684Z"
   },
   {
    "duration": 18,
    "start_time": "2023-06-20T13:43:34.699Z"
   },
   {
    "duration": 15,
    "start_time": "2023-06-20T13:43:34.719Z"
   },
   {
    "duration": 279,
    "start_time": "2023-06-20T13:43:34.735Z"
   },
   {
    "duration": 5,
    "start_time": "2023-06-20T13:43:35.016Z"
   },
   {
    "duration": 9,
    "start_time": "2023-06-20T13:43:35.022Z"
   },
   {
    "duration": 5,
    "start_time": "2023-06-20T13:43:35.033Z"
   },
   {
    "duration": 19,
    "start_time": "2023-06-20T13:43:35.040Z"
   },
   {
    "duration": 517,
    "start_time": "2023-06-20T13:43:35.061Z"
   },
   {
    "duration": 326,
    "start_time": "2023-06-20T13:43:35.580Z"
   },
   {
    "duration": 1173,
    "start_time": "2023-06-20T13:52:05.337Z"
   },
   {
    "duration": 143,
    "start_time": "2023-06-20T13:52:06.512Z"
   },
   {
    "duration": 30,
    "start_time": "2023-06-20T13:52:06.657Z"
   },
   {
    "duration": 15,
    "start_time": "2023-06-20T13:52:06.690Z"
   },
   {
    "duration": 13,
    "start_time": "2023-06-20T13:52:06.707Z"
   },
   {
    "duration": 37,
    "start_time": "2023-06-20T13:52:06.722Z"
   },
   {
    "duration": 21,
    "start_time": "2023-06-20T13:52:06.762Z"
   },
   {
    "duration": 26,
    "start_time": "2023-06-20T13:52:06.785Z"
   },
   {
    "duration": 10,
    "start_time": "2023-06-20T13:52:06.814Z"
   },
   {
    "duration": 48,
    "start_time": "2023-06-20T13:52:06.829Z"
   },
   {
    "duration": 13,
    "start_time": "2023-06-20T13:52:06.878Z"
   },
   {
    "duration": 23,
    "start_time": "2023-06-20T13:52:06.893Z"
   },
   {
    "duration": 5,
    "start_time": "2023-06-20T13:52:06.918Z"
   },
   {
    "duration": 36,
    "start_time": "2023-06-20T13:52:06.924Z"
   },
   {
    "duration": 19,
    "start_time": "2023-06-20T13:52:06.962Z"
   },
   {
    "duration": 15,
    "start_time": "2023-06-20T13:52:06.984Z"
   },
   {
    "duration": 21,
    "start_time": "2023-06-20T13:52:07.001Z"
   },
   {
    "duration": 11,
    "start_time": "2023-06-20T13:52:07.024Z"
   },
   {
    "duration": 9,
    "start_time": "2023-06-20T13:52:07.037Z"
   },
   {
    "duration": 21,
    "start_time": "2023-06-20T13:52:07.048Z"
   },
   {
    "duration": 212,
    "start_time": "2023-06-20T13:52:07.071Z"
   },
   {
    "duration": 193,
    "start_time": "2023-06-20T13:52:07.286Z"
   },
   {
    "duration": 254,
    "start_time": "2023-06-20T13:52:07.481Z"
   },
   {
    "duration": 132,
    "start_time": "2023-06-20T13:52:07.737Z"
   },
   {
    "duration": 236,
    "start_time": "2023-06-20T13:52:07.871Z"
   },
   {
    "duration": 140,
    "start_time": "2023-06-20T13:52:08.109Z"
   },
   {
    "duration": 243,
    "start_time": "2023-06-20T13:52:08.250Z"
   },
   {
    "duration": 165,
    "start_time": "2023-06-20T13:52:08.499Z"
   },
   {
    "duration": 4,
    "start_time": "2023-06-20T13:52:08.667Z"
   },
   {
    "duration": 41,
    "start_time": "2023-06-20T13:52:08.674Z"
   },
   {
    "duration": 4,
    "start_time": "2023-06-20T13:52:08.717Z"
   },
   {
    "duration": 78,
    "start_time": "2023-06-20T13:52:08.723Z"
   },
   {
    "duration": 21,
    "start_time": "2023-06-20T13:52:08.812Z"
   },
   {
    "duration": 398,
    "start_time": "2023-06-20T13:52:08.835Z"
   },
   {
    "duration": 444,
    "start_time": "2023-06-20T13:52:09.236Z"
   },
   {
    "duration": 10,
    "start_time": "2023-06-20T13:52:09.684Z"
   },
   {
    "duration": 33,
    "start_time": "2023-06-20T13:52:09.696Z"
   },
   {
    "duration": 122,
    "start_time": "2023-06-20T13:52:09.731Z"
   },
   {
    "duration": 0,
    "start_time": "2023-06-20T13:52:09.856Z"
   },
   {
    "duration": 0,
    "start_time": "2023-06-20T13:52:09.857Z"
   },
   {
    "duration": 0,
    "start_time": "2023-06-20T13:52:09.858Z"
   },
   {
    "duration": 0,
    "start_time": "2023-06-20T13:52:09.859Z"
   },
   {
    "duration": 0,
    "start_time": "2023-06-20T13:52:09.860Z"
   },
   {
    "duration": 0,
    "start_time": "2023-06-20T13:52:09.861Z"
   },
   {
    "duration": 0,
    "start_time": "2023-06-20T13:52:09.862Z"
   },
   {
    "duration": 0,
    "start_time": "2023-06-20T13:52:09.863Z"
   },
   {
    "duration": 0,
    "start_time": "2023-06-20T13:52:09.863Z"
   },
   {
    "duration": 0,
    "start_time": "2023-06-20T13:52:09.864Z"
   },
   {
    "duration": 0,
    "start_time": "2023-06-20T13:52:09.865Z"
   },
   {
    "duration": 0,
    "start_time": "2023-06-20T13:52:09.866Z"
   },
   {
    "duration": 1261,
    "start_time": "2023-06-20T13:54:07.937Z"
   },
   {
    "duration": 167,
    "start_time": "2023-06-20T13:54:09.200Z"
   },
   {
    "duration": 16,
    "start_time": "2023-06-20T13:54:09.368Z"
   },
   {
    "duration": 25,
    "start_time": "2023-06-20T13:54:09.387Z"
   },
   {
    "duration": 41,
    "start_time": "2023-06-20T13:54:09.414Z"
   },
   {
    "duration": 50,
    "start_time": "2023-06-20T13:54:09.464Z"
   },
   {
    "duration": 19,
    "start_time": "2023-06-20T13:54:09.517Z"
   },
   {
    "duration": 33,
    "start_time": "2023-06-20T13:54:09.538Z"
   },
   {
    "duration": 17,
    "start_time": "2023-06-20T13:54:09.573Z"
   },
   {
    "duration": 33,
    "start_time": "2023-06-20T13:54:09.594Z"
   },
   {
    "duration": 32,
    "start_time": "2023-06-20T13:54:09.629Z"
   },
   {
    "duration": 36,
    "start_time": "2023-06-20T13:54:09.665Z"
   },
   {
    "duration": 5,
    "start_time": "2023-06-20T13:54:09.704Z"
   },
   {
    "duration": 11,
    "start_time": "2023-06-20T13:54:09.710Z"
   },
   {
    "duration": 7,
    "start_time": "2023-06-20T13:54:09.723Z"
   },
   {
    "duration": 34,
    "start_time": "2023-06-20T13:54:09.731Z"
   },
   {
    "duration": 17,
    "start_time": "2023-06-20T13:54:09.767Z"
   },
   {
    "duration": 8,
    "start_time": "2023-06-20T13:54:09.786Z"
   },
   {
    "duration": 9,
    "start_time": "2023-06-20T13:54:09.796Z"
   },
   {
    "duration": 7,
    "start_time": "2023-06-20T13:54:09.807Z"
   },
   {
    "duration": 238,
    "start_time": "2023-06-20T13:54:09.816Z"
   },
   {
    "duration": 176,
    "start_time": "2023-06-20T13:54:10.058Z"
   },
   {
    "duration": 250,
    "start_time": "2023-06-20T13:54:10.236Z"
   },
   {
    "duration": 126,
    "start_time": "2023-06-20T13:54:10.489Z"
   },
   {
    "duration": 235,
    "start_time": "2023-06-20T13:54:10.617Z"
   },
   {
    "duration": 152,
    "start_time": "2023-06-20T13:54:10.854Z"
   },
   {
    "duration": 255,
    "start_time": "2023-06-20T13:54:11.008Z"
   },
   {
    "duration": 160,
    "start_time": "2023-06-20T13:54:11.268Z"
   },
   {
    "duration": 4,
    "start_time": "2023-06-20T13:54:11.429Z"
   },
   {
    "duration": 57,
    "start_time": "2023-06-20T13:54:11.435Z"
   },
   {
    "duration": 5,
    "start_time": "2023-06-20T13:54:11.499Z"
   },
   {
    "duration": 28,
    "start_time": "2023-06-20T13:54:11.506Z"
   },
   {
    "duration": 35,
    "start_time": "2023-06-20T13:54:11.537Z"
   },
   {
    "duration": 309,
    "start_time": "2023-06-20T13:54:11.581Z"
   },
   {
    "duration": 382,
    "start_time": "2023-06-20T13:54:11.896Z"
   },
   {
    "duration": 6,
    "start_time": "2023-06-20T13:54:12.284Z"
   },
   {
    "duration": 28,
    "start_time": "2023-06-20T13:54:12.292Z"
   },
   {
    "duration": 190,
    "start_time": "2023-06-20T13:54:12.322Z"
   },
   {
    "duration": 0,
    "start_time": "2023-06-20T13:54:12.514Z"
   },
   {
    "duration": 0,
    "start_time": "2023-06-20T13:54:12.515Z"
   },
   {
    "duration": 0,
    "start_time": "2023-06-20T13:54:12.516Z"
   },
   {
    "duration": 0,
    "start_time": "2023-06-20T13:54:12.518Z"
   },
   {
    "duration": 0,
    "start_time": "2023-06-20T13:54:12.519Z"
   },
   {
    "duration": 0,
    "start_time": "2023-06-20T13:54:12.521Z"
   },
   {
    "duration": 0,
    "start_time": "2023-06-20T13:54:12.522Z"
   },
   {
    "duration": 0,
    "start_time": "2023-06-20T13:54:12.523Z"
   },
   {
    "duration": 0,
    "start_time": "2023-06-20T13:54:12.525Z"
   },
   {
    "duration": 0,
    "start_time": "2023-06-20T13:54:12.526Z"
   },
   {
    "duration": 1,
    "start_time": "2023-06-20T13:54:12.527Z"
   },
   {
    "duration": 0,
    "start_time": "2023-06-20T13:54:12.529Z"
   },
   {
    "duration": 1122,
    "start_time": "2023-06-20T13:56:04.003Z"
   },
   {
    "duration": 151,
    "start_time": "2023-06-20T13:56:05.127Z"
   },
   {
    "duration": 18,
    "start_time": "2023-06-20T13:56:05.280Z"
   },
   {
    "duration": 25,
    "start_time": "2023-06-20T13:56:05.300Z"
   },
   {
    "duration": 41,
    "start_time": "2023-06-20T13:56:05.328Z"
   },
   {
    "duration": 33,
    "start_time": "2023-06-20T13:56:05.371Z"
   },
   {
    "duration": 15,
    "start_time": "2023-06-20T13:56:05.406Z"
   },
   {
    "duration": 39,
    "start_time": "2023-06-20T13:56:05.424Z"
   },
   {
    "duration": 19,
    "start_time": "2023-06-20T13:56:05.466Z"
   },
   {
    "duration": 37,
    "start_time": "2023-06-20T13:56:05.488Z"
   },
   {
    "duration": 41,
    "start_time": "2023-06-20T13:56:05.527Z"
   },
   {
    "duration": 27,
    "start_time": "2023-06-20T13:56:05.572Z"
   },
   {
    "duration": 15,
    "start_time": "2023-06-20T13:56:05.601Z"
   },
   {
    "duration": 9,
    "start_time": "2023-06-20T13:56:05.620Z"
   },
   {
    "duration": 48,
    "start_time": "2023-06-20T13:56:05.630Z"
   },
   {
    "duration": 17,
    "start_time": "2023-06-20T13:56:05.679Z"
   },
   {
    "duration": 32,
    "start_time": "2023-06-20T13:56:05.700Z"
   },
   {
    "duration": 20,
    "start_time": "2023-06-20T13:56:05.734Z"
   },
   {
    "duration": 29,
    "start_time": "2023-06-20T13:56:05.756Z"
   },
   {
    "duration": 6,
    "start_time": "2023-06-20T13:56:05.787Z"
   },
   {
    "duration": 193,
    "start_time": "2023-06-20T13:56:05.795Z"
   },
   {
    "duration": 155,
    "start_time": "2023-06-20T13:56:05.990Z"
   },
   {
    "duration": 234,
    "start_time": "2023-06-20T13:56:06.148Z"
   },
   {
    "duration": 131,
    "start_time": "2023-06-20T13:56:06.384Z"
   },
   {
    "duration": 232,
    "start_time": "2023-06-20T13:56:06.517Z"
   },
   {
    "duration": 155,
    "start_time": "2023-06-20T13:56:06.752Z"
   },
   {
    "duration": 221,
    "start_time": "2023-06-20T13:56:06.910Z"
   },
   {
    "duration": 164,
    "start_time": "2023-06-20T13:56:07.134Z"
   },
   {
    "duration": 5,
    "start_time": "2023-06-20T13:56:07.301Z"
   },
   {
    "duration": 62,
    "start_time": "2023-06-20T13:56:07.308Z"
   },
   {
    "duration": 4,
    "start_time": "2023-06-20T13:56:07.377Z"
   },
   {
    "duration": 27,
    "start_time": "2023-06-20T13:56:07.383Z"
   },
   {
    "duration": 22,
    "start_time": "2023-06-20T13:56:07.412Z"
   },
   {
    "duration": 375,
    "start_time": "2023-06-20T13:56:07.436Z"
   },
   {
    "duration": 403,
    "start_time": "2023-06-20T13:56:07.812Z"
   },
   {
    "duration": 5,
    "start_time": "2023-06-20T13:56:08.217Z"
   },
   {
    "duration": 54,
    "start_time": "2023-06-20T13:56:08.224Z"
   },
   {
    "duration": 79,
    "start_time": "2023-06-20T13:56:08.281Z"
   },
   {
    "duration": 16,
    "start_time": "2023-06-20T13:56:08.367Z"
   },
   {
    "duration": 20,
    "start_time": "2023-06-20T13:56:08.385Z"
   },
   {
    "duration": 11,
    "start_time": "2023-06-20T13:56:08.410Z"
   },
   {
    "duration": 22,
    "start_time": "2023-06-20T13:56:08.423Z"
   },
   {
    "duration": 8,
    "start_time": "2023-06-20T13:56:08.459Z"
   },
   {
    "duration": 315,
    "start_time": "2023-06-20T13:56:08.468Z"
   },
   {
    "duration": 7,
    "start_time": "2023-06-20T13:56:08.785Z"
   },
   {
    "duration": 22,
    "start_time": "2023-06-20T13:56:08.794Z"
   },
   {
    "duration": 6,
    "start_time": "2023-06-20T13:56:08.819Z"
   },
   {
    "duration": 1896,
    "start_time": "2023-06-20T13:56:08.827Z"
   },
   {
    "duration": 0,
    "start_time": "2023-06-20T13:56:10.726Z"
   },
   {
    "duration": 0,
    "start_time": "2023-06-20T13:56:10.728Z"
   },
   {
    "duration": 1181,
    "start_time": "2023-06-20T13:57:53.525Z"
   },
   {
    "duration": 165,
    "start_time": "2023-06-20T13:57:54.708Z"
   },
   {
    "duration": 28,
    "start_time": "2023-06-20T13:57:54.875Z"
   },
   {
    "duration": 20,
    "start_time": "2023-06-20T13:57:54.905Z"
   },
   {
    "duration": 20,
    "start_time": "2023-06-20T13:57:54.927Z"
   },
   {
    "duration": 49,
    "start_time": "2023-06-20T13:57:54.949Z"
   },
   {
    "duration": 13,
    "start_time": "2023-06-20T13:57:54.999Z"
   },
   {
    "duration": 41,
    "start_time": "2023-06-20T13:57:55.014Z"
   },
   {
    "duration": 26,
    "start_time": "2023-06-20T13:57:55.060Z"
   },
   {
    "duration": 23,
    "start_time": "2023-06-20T13:57:55.088Z"
   },
   {
    "duration": 26,
    "start_time": "2023-06-20T13:57:55.113Z"
   },
   {
    "duration": 46,
    "start_time": "2023-06-20T13:57:55.141Z"
   },
   {
    "duration": 24,
    "start_time": "2023-06-20T13:57:55.189Z"
   },
   {
    "duration": 10,
    "start_time": "2023-06-20T13:57:55.218Z"
   },
   {
    "duration": 40,
    "start_time": "2023-06-20T13:57:55.230Z"
   },
   {
    "duration": 10,
    "start_time": "2023-06-20T13:57:55.271Z"
   },
   {
    "duration": 16,
    "start_time": "2023-06-20T13:57:55.282Z"
   },
   {
    "duration": 7,
    "start_time": "2023-06-20T13:57:55.303Z"
   },
   {
    "duration": 8,
    "start_time": "2023-06-20T13:57:55.312Z"
   },
   {
    "duration": 7,
    "start_time": "2023-06-20T13:57:55.321Z"
   },
   {
    "duration": 237,
    "start_time": "2023-06-20T13:57:55.330Z"
   },
   {
    "duration": 172,
    "start_time": "2023-06-20T13:57:55.571Z"
   },
   {
    "duration": 231,
    "start_time": "2023-06-20T13:57:55.745Z"
   },
   {
    "duration": 139,
    "start_time": "2023-06-20T13:57:55.978Z"
   },
   {
    "duration": 246,
    "start_time": "2023-06-20T13:57:56.119Z"
   },
   {
    "duration": 158,
    "start_time": "2023-06-20T13:57:56.367Z"
   },
   {
    "duration": 255,
    "start_time": "2023-06-20T13:57:56.527Z"
   },
   {
    "duration": 141,
    "start_time": "2023-06-20T13:57:56.784Z"
   },
   {
    "duration": 4,
    "start_time": "2023-06-20T13:57:56.927Z"
   },
   {
    "duration": 56,
    "start_time": "2023-06-20T13:57:56.932Z"
   },
   {
    "duration": 4,
    "start_time": "2023-06-20T13:57:56.997Z"
   },
   {
    "duration": 23,
    "start_time": "2023-06-20T13:57:57.003Z"
   },
   {
    "duration": 33,
    "start_time": "2023-06-20T13:57:57.028Z"
   },
   {
    "duration": 426,
    "start_time": "2023-06-20T13:57:57.065Z"
   },
   {
    "duration": 376,
    "start_time": "2023-06-20T13:57:57.493Z"
   },
   {
    "duration": 9,
    "start_time": "2023-06-20T13:57:57.872Z"
   },
   {
    "duration": 37,
    "start_time": "2023-06-20T13:57:57.882Z"
   },
   {
    "duration": 73,
    "start_time": "2023-06-20T13:57:57.921Z"
   },
   {
    "duration": 6,
    "start_time": "2023-06-20T13:57:57.997Z"
   },
   {
    "duration": 36,
    "start_time": "2023-06-20T13:57:58.005Z"
   },
   {
    "duration": 31,
    "start_time": "2023-06-20T13:57:58.046Z"
   },
   {
    "duration": 19,
    "start_time": "2023-06-20T13:57:58.079Z"
   },
   {
    "duration": 7,
    "start_time": "2023-06-20T13:57:58.100Z"
   },
   {
    "duration": 332,
    "start_time": "2023-06-20T13:57:58.108Z"
   },
   {
    "duration": 8,
    "start_time": "2023-06-20T13:57:58.442Z"
   },
   {
    "duration": 19,
    "start_time": "2023-06-20T13:57:58.463Z"
   },
   {
    "duration": 26,
    "start_time": "2023-06-20T13:57:58.485Z"
   },
   {
    "duration": 2068,
    "start_time": "2023-06-20T13:57:58.513Z"
   },
   {
    "duration": 0,
    "start_time": "2023-06-20T13:58:00.585Z"
   },
   {
    "duration": 0,
    "start_time": "2023-06-20T13:58:00.587Z"
   },
   {
    "duration": 1558,
    "start_time": "2023-06-20T14:00:07.353Z"
   },
   {
    "duration": 222,
    "start_time": "2023-06-20T14:00:08.914Z"
   },
   {
    "duration": 41,
    "start_time": "2023-06-20T14:00:09.138Z"
   },
   {
    "duration": 21,
    "start_time": "2023-06-20T14:00:09.182Z"
   },
   {
    "duration": 12,
    "start_time": "2023-06-20T14:00:09.214Z"
   },
   {
    "duration": 42,
    "start_time": "2023-06-20T14:00:09.229Z"
   },
   {
    "duration": 21,
    "start_time": "2023-06-20T14:00:09.273Z"
   },
   {
    "duration": 58,
    "start_time": "2023-06-20T14:00:09.297Z"
   },
   {
    "duration": 24,
    "start_time": "2023-06-20T14:00:09.368Z"
   },
   {
    "duration": 41,
    "start_time": "2023-06-20T14:00:09.402Z"
   },
   {
    "duration": 23,
    "start_time": "2023-06-20T14:00:09.445Z"
   },
   {
    "duration": 38,
    "start_time": "2023-06-20T14:00:09.474Z"
   },
   {
    "duration": 6,
    "start_time": "2023-06-20T14:00:09.514Z"
   },
   {
    "duration": 15,
    "start_time": "2023-06-20T14:00:09.525Z"
   },
   {
    "duration": 17,
    "start_time": "2023-06-20T14:00:09.543Z"
   },
   {
    "duration": 26,
    "start_time": "2023-06-20T14:00:09.562Z"
   },
   {
    "duration": 15,
    "start_time": "2023-06-20T14:00:09.592Z"
   },
   {
    "duration": 9,
    "start_time": "2023-06-20T14:00:09.611Z"
   },
   {
    "duration": 23,
    "start_time": "2023-06-20T14:00:09.622Z"
   },
   {
    "duration": 40,
    "start_time": "2023-06-20T14:00:09.648Z"
   },
   {
    "duration": 239,
    "start_time": "2023-06-20T14:00:09.690Z"
   },
   {
    "duration": 220,
    "start_time": "2023-06-20T14:00:09.932Z"
   },
   {
    "duration": 294,
    "start_time": "2023-06-20T14:00:10.158Z"
   },
   {
    "duration": 120,
    "start_time": "2023-06-20T14:00:10.457Z"
   },
   {
    "duration": 324,
    "start_time": "2023-06-20T14:00:10.580Z"
   },
   {
    "duration": 211,
    "start_time": "2023-06-20T14:00:10.907Z"
   },
   {
    "duration": 271,
    "start_time": "2023-06-20T14:00:11.121Z"
   },
   {
    "duration": 151,
    "start_time": "2023-06-20T14:00:11.395Z"
   },
   {
    "duration": 15,
    "start_time": "2023-06-20T14:00:11.549Z"
   },
   {
    "duration": 52,
    "start_time": "2023-06-20T14:00:11.566Z"
   },
   {
    "duration": 6,
    "start_time": "2023-06-20T14:00:11.620Z"
   },
   {
    "duration": 56,
    "start_time": "2023-06-20T14:00:11.631Z"
   },
   {
    "duration": 23,
    "start_time": "2023-06-20T14:00:11.690Z"
   },
   {
    "duration": 377,
    "start_time": "2023-06-20T14:00:11.716Z"
   },
   {
    "duration": 475,
    "start_time": "2023-06-20T14:00:12.095Z"
   },
   {
    "duration": 8,
    "start_time": "2023-06-20T14:00:12.572Z"
   },
   {
    "duration": 40,
    "start_time": "2023-06-20T14:00:12.582Z"
   },
   {
    "duration": 88,
    "start_time": "2023-06-20T14:00:12.625Z"
   },
   {
    "duration": 15,
    "start_time": "2023-06-20T14:00:12.715Z"
   },
   {
    "duration": 36,
    "start_time": "2023-06-20T14:00:12.732Z"
   },
   {
    "duration": 30,
    "start_time": "2023-06-20T14:00:12.774Z"
   },
   {
    "duration": 14,
    "start_time": "2023-06-20T14:00:12.806Z"
   },
   {
    "duration": 332,
    "start_time": "2023-06-20T14:00:12.822Z"
   },
   {
    "duration": 12,
    "start_time": "2023-06-20T14:00:13.157Z"
   },
   {
    "duration": 56,
    "start_time": "2023-06-20T14:00:13.171Z"
   },
   {
    "duration": 29,
    "start_time": "2023-06-20T14:00:13.230Z"
   },
   {
    "duration": 2074,
    "start_time": "2023-06-20T14:00:13.261Z"
   },
   {
    "duration": 0,
    "start_time": "2023-06-20T14:00:15.338Z"
   },
   {
    "duration": 0,
    "start_time": "2023-06-20T14:00:15.340Z"
   },
   {
    "duration": 12,
    "start_time": "2023-06-20T14:01:43.898Z"
   },
   {
    "duration": 1210,
    "start_time": "2023-06-20T14:01:57.397Z"
   },
   {
    "duration": 154,
    "start_time": "2023-06-20T14:01:58.609Z"
   },
   {
    "duration": 16,
    "start_time": "2023-06-20T14:01:58.766Z"
   },
   {
    "duration": 19,
    "start_time": "2023-06-20T14:01:58.784Z"
   },
   {
    "duration": 51,
    "start_time": "2023-06-20T14:01:58.807Z"
   },
   {
    "duration": 61,
    "start_time": "2023-06-20T14:01:58.861Z"
   },
   {
    "duration": 23,
    "start_time": "2023-06-20T14:01:58.925Z"
   },
   {
    "duration": 72,
    "start_time": "2023-06-20T14:01:58.950Z"
   },
   {
    "duration": 18,
    "start_time": "2023-06-20T14:01:59.024Z"
   },
   {
    "duration": 31,
    "start_time": "2023-06-20T14:01:59.047Z"
   },
   {
    "duration": 19,
    "start_time": "2023-06-20T14:01:59.081Z"
   },
   {
    "duration": 32,
    "start_time": "2023-06-20T14:01:59.103Z"
   },
   {
    "duration": 23,
    "start_time": "2023-06-20T14:01:59.138Z"
   },
   {
    "duration": 11,
    "start_time": "2023-06-20T14:01:59.163Z"
   },
   {
    "duration": 17,
    "start_time": "2023-06-20T14:01:59.176Z"
   },
   {
    "duration": 17,
    "start_time": "2023-06-20T14:01:59.195Z"
   },
   {
    "duration": 14,
    "start_time": "2023-06-20T14:01:59.215Z"
   },
   {
    "duration": 8,
    "start_time": "2023-06-20T14:01:59.256Z"
   },
   {
    "duration": 12,
    "start_time": "2023-06-20T14:01:59.267Z"
   },
   {
    "duration": 10,
    "start_time": "2023-06-20T14:01:59.281Z"
   },
   {
    "duration": 284,
    "start_time": "2023-06-20T14:01:59.293Z"
   },
   {
    "duration": 210,
    "start_time": "2023-06-20T14:01:59.581Z"
   },
   {
    "duration": 236,
    "start_time": "2023-06-20T14:01:59.794Z"
   },
   {
    "duration": 147,
    "start_time": "2023-06-20T14:02:00.032Z"
   },
   {
    "duration": 230,
    "start_time": "2023-06-20T14:02:00.181Z"
   },
   {
    "duration": 172,
    "start_time": "2023-06-20T14:02:00.414Z"
   },
   {
    "duration": 286,
    "start_time": "2023-06-20T14:02:00.588Z"
   },
   {
    "duration": 163,
    "start_time": "2023-06-20T14:02:00.880Z"
   },
   {
    "duration": 13,
    "start_time": "2023-06-20T14:02:01.046Z"
   },
   {
    "duration": 78,
    "start_time": "2023-06-20T14:02:01.061Z"
   },
   {
    "duration": 17,
    "start_time": "2023-06-20T14:02:01.141Z"
   },
   {
    "duration": 56,
    "start_time": "2023-06-20T14:02:01.161Z"
   },
   {
    "duration": 44,
    "start_time": "2023-06-20T14:02:01.220Z"
   },
   {
    "duration": 330,
    "start_time": "2023-06-20T14:02:01.266Z"
   },
   {
    "duration": 448,
    "start_time": "2023-06-20T14:02:01.598Z"
   },
   {
    "duration": 14,
    "start_time": "2023-06-20T14:02:02.048Z"
   },
   {
    "duration": 49,
    "start_time": "2023-06-20T14:02:02.064Z"
   },
   {
    "duration": 105,
    "start_time": "2023-06-20T14:02:02.116Z"
   },
   {
    "duration": 38,
    "start_time": "2023-06-20T14:02:02.223Z"
   },
   {
    "duration": 62,
    "start_time": "2023-06-20T14:02:02.272Z"
   },
   {
    "duration": 45,
    "start_time": "2023-06-20T14:02:02.338Z"
   },
   {
    "duration": 46,
    "start_time": "2023-06-20T14:02:02.385Z"
   },
   {
    "duration": 354,
    "start_time": "2023-06-20T14:02:02.433Z"
   },
   {
    "duration": 8,
    "start_time": "2023-06-20T14:02:02.789Z"
   },
   {
    "duration": 15,
    "start_time": "2023-06-20T14:02:02.799Z"
   },
   {
    "duration": 31,
    "start_time": "2023-06-20T14:02:02.816Z"
   },
   {
    "duration": 18,
    "start_time": "2023-06-20T14:02:02.849Z"
   },
   {
    "duration": 328,
    "start_time": "2023-06-20T14:02:02.869Z"
   },
   {
    "duration": 395,
    "start_time": "2023-06-20T14:02:03.198Z"
   },
   {
    "duration": 7,
    "start_time": "2023-06-20T14:15:06.388Z"
   },
   {
    "duration": 9,
    "start_time": "2023-06-20T14:15:12.704Z"
   },
   {
    "duration": 1126,
    "start_time": "2023-06-20T14:33:20.533Z"
   },
   {
    "duration": 130,
    "start_time": "2023-06-20T14:33:21.671Z"
   },
   {
    "duration": 17,
    "start_time": "2023-06-20T14:33:21.804Z"
   },
   {
    "duration": 14,
    "start_time": "2023-06-20T14:33:21.822Z"
   },
   {
    "duration": 16,
    "start_time": "2023-06-20T14:33:21.839Z"
   },
   {
    "duration": 33,
    "start_time": "2023-06-20T14:33:21.859Z"
   },
   {
    "duration": 11,
    "start_time": "2023-06-20T14:33:21.894Z"
   },
   {
    "duration": 25,
    "start_time": "2023-06-20T14:33:21.906Z"
   },
   {
    "duration": 35,
    "start_time": "2023-06-20T14:33:21.933Z"
   },
   {
    "duration": 28,
    "start_time": "2023-06-20T14:33:21.970Z"
   },
   {
    "duration": 11,
    "start_time": "2023-06-20T14:33:22.000Z"
   },
   {
    "duration": 31,
    "start_time": "2023-06-20T14:33:22.013Z"
   },
   {
    "duration": 22,
    "start_time": "2023-06-20T14:33:22.046Z"
   },
   {
    "duration": 15,
    "start_time": "2023-06-20T14:33:22.073Z"
   },
   {
    "duration": 13,
    "start_time": "2023-06-20T14:33:22.090Z"
   },
   {
    "duration": 14,
    "start_time": "2023-06-20T14:33:22.104Z"
   },
   {
    "duration": 14,
    "start_time": "2023-06-20T14:33:22.120Z"
   },
   {
    "duration": 36,
    "start_time": "2023-06-20T14:33:22.136Z"
   },
   {
    "duration": 12,
    "start_time": "2023-06-20T14:33:22.177Z"
   },
   {
    "duration": 9,
    "start_time": "2023-06-20T14:33:22.191Z"
   },
   {
    "duration": 204,
    "start_time": "2023-06-20T14:33:22.203Z"
   },
   {
    "duration": 185,
    "start_time": "2023-06-20T14:33:22.409Z"
   },
   {
    "duration": 246,
    "start_time": "2023-06-20T14:33:22.596Z"
   },
   {
    "duration": 152,
    "start_time": "2023-06-20T14:33:22.844Z"
   },
   {
    "duration": 245,
    "start_time": "2023-06-20T14:33:22.998Z"
   },
   {
    "duration": 148,
    "start_time": "2023-06-20T14:33:23.246Z"
   },
   {
    "duration": 221,
    "start_time": "2023-06-20T14:33:23.397Z"
   },
   {
    "duration": 195,
    "start_time": "2023-06-20T14:33:23.620Z"
   },
   {
    "duration": 5,
    "start_time": "2023-06-20T14:33:23.817Z"
   },
   {
    "duration": 53,
    "start_time": "2023-06-20T14:33:23.824Z"
   },
   {
    "duration": 12,
    "start_time": "2023-06-20T14:33:23.889Z"
   },
   {
    "duration": 28,
    "start_time": "2023-06-20T14:33:23.903Z"
   },
   {
    "duration": 32,
    "start_time": "2023-06-20T14:33:23.934Z"
   },
   {
    "duration": 341,
    "start_time": "2023-06-20T14:33:23.968Z"
   },
   {
    "duration": 414,
    "start_time": "2023-06-20T14:33:24.312Z"
   },
   {
    "duration": 5,
    "start_time": "2023-06-20T14:33:24.728Z"
   },
   {
    "duration": 42,
    "start_time": "2023-06-20T14:33:24.736Z"
   },
   {
    "duration": 79,
    "start_time": "2023-06-20T14:33:24.780Z"
   },
   {
    "duration": 48,
    "start_time": "2023-06-20T14:33:24.874Z"
   },
   {
    "duration": 76,
    "start_time": "2023-06-20T14:33:24.926Z"
   },
   {
    "duration": 27,
    "start_time": "2023-06-20T14:33:25.009Z"
   },
   {
    "duration": 23,
    "start_time": "2023-06-20T14:33:25.045Z"
   },
   {
    "duration": 442,
    "start_time": "2023-06-20T14:33:25.069Z"
   },
   {
    "duration": 7,
    "start_time": "2023-06-20T14:33:25.513Z"
   },
   {
    "duration": 21,
    "start_time": "2023-06-20T14:33:25.523Z"
   },
   {
    "duration": 9,
    "start_time": "2023-06-20T14:33:25.560Z"
   },
   {
    "duration": 21,
    "start_time": "2023-06-20T14:33:25.571Z"
   },
   {
    "duration": 466,
    "start_time": "2023-06-20T14:33:25.594Z"
   },
   {
    "duration": 397,
    "start_time": "2023-06-20T14:33:26.063Z"
   },
   {
    "duration": 11,
    "start_time": "2023-06-20T14:33:47.208Z"
   },
   {
    "duration": 12,
    "start_time": "2023-06-20T14:34:17.859Z"
   },
   {
    "duration": 9,
    "start_time": "2023-06-20T14:35:17.678Z"
   },
   {
    "duration": 6,
    "start_time": "2023-06-20T14:35:43.783Z"
   },
   {
    "duration": 22,
    "start_time": "2023-06-20T14:36:04.951Z"
   },
   {
    "duration": 1139,
    "start_time": "2023-06-20T14:37:47.808Z"
   },
   {
    "duration": 180,
    "start_time": "2023-06-20T14:37:48.949Z"
   },
   {
    "duration": 19,
    "start_time": "2023-06-20T14:37:49.132Z"
   },
   {
    "duration": 32,
    "start_time": "2023-06-20T14:37:49.154Z"
   },
   {
    "duration": 14,
    "start_time": "2023-06-20T14:37:49.195Z"
   },
   {
    "duration": 24,
    "start_time": "2023-06-20T14:37:49.212Z"
   },
   {
    "duration": 21,
    "start_time": "2023-06-20T14:37:49.239Z"
   },
   {
    "duration": 35,
    "start_time": "2023-06-20T14:37:49.263Z"
   },
   {
    "duration": 17,
    "start_time": "2023-06-20T14:37:49.305Z"
   },
   {
    "duration": 56,
    "start_time": "2023-06-20T14:37:49.324Z"
   },
   {
    "duration": 20,
    "start_time": "2023-06-20T14:37:49.382Z"
   },
   {
    "duration": 32,
    "start_time": "2023-06-20T14:37:49.404Z"
   },
   {
    "duration": 5,
    "start_time": "2023-06-20T14:37:49.438Z"
   },
   {
    "duration": 36,
    "start_time": "2023-06-20T14:37:49.446Z"
   },
   {
    "duration": 19,
    "start_time": "2023-06-20T14:37:49.484Z"
   },
   {
    "duration": 9,
    "start_time": "2023-06-20T14:37:49.505Z"
   },
   {
    "duration": 15,
    "start_time": "2023-06-20T14:37:49.516Z"
   },
   {
    "duration": 7,
    "start_time": "2023-06-20T14:37:49.533Z"
   },
   {
    "duration": 34,
    "start_time": "2023-06-20T14:37:49.542Z"
   },
   {
    "duration": 16,
    "start_time": "2023-06-20T14:37:49.580Z"
   },
   {
    "duration": 250,
    "start_time": "2023-06-20T14:37:49.598Z"
   },
   {
    "duration": 169,
    "start_time": "2023-06-20T14:37:49.850Z"
   },
   {
    "duration": 269,
    "start_time": "2023-06-20T14:37:50.021Z"
   },
   {
    "duration": 143,
    "start_time": "2023-06-20T14:37:50.296Z"
   },
   {
    "duration": 271,
    "start_time": "2023-06-20T14:37:50.441Z"
   },
   {
    "duration": 185,
    "start_time": "2023-06-20T14:37:50.714Z"
   },
   {
    "duration": 275,
    "start_time": "2023-06-20T14:37:50.904Z"
   },
   {
    "duration": 201,
    "start_time": "2023-06-20T14:37:51.184Z"
   },
   {
    "duration": 12,
    "start_time": "2023-06-20T14:37:51.389Z"
   },
   {
    "duration": 31,
    "start_time": "2023-06-20T14:37:51.407Z"
   },
   {
    "duration": 5,
    "start_time": "2023-06-20T14:37:51.440Z"
   },
   {
    "duration": 59,
    "start_time": "2023-06-20T14:37:51.447Z"
   },
   {
    "duration": 30,
    "start_time": "2023-06-20T14:37:51.508Z"
   },
   {
    "duration": 360,
    "start_time": "2023-06-20T14:37:51.540Z"
   },
   {
    "duration": 379,
    "start_time": "2023-06-20T14:37:51.902Z"
   },
   {
    "duration": 6,
    "start_time": "2023-06-20T14:37:52.290Z"
   },
   {
    "duration": 36,
    "start_time": "2023-06-20T14:37:52.297Z"
   },
   {
    "duration": 79,
    "start_time": "2023-06-20T14:37:52.335Z"
   },
   {
    "duration": 19,
    "start_time": "2023-06-20T14:37:52.417Z"
   },
   {
    "duration": 11,
    "start_time": "2023-06-20T14:37:52.438Z"
   },
   {
    "duration": 48,
    "start_time": "2023-06-20T14:37:52.463Z"
   },
   {
    "duration": 49,
    "start_time": "2023-06-20T14:37:52.513Z"
   },
   {
    "duration": 355,
    "start_time": "2023-06-20T14:37:52.564Z"
   },
   {
    "duration": 13,
    "start_time": "2023-06-20T14:37:52.921Z"
   },
   {
    "duration": 34,
    "start_time": "2023-06-20T14:37:52.935Z"
   },
   {
    "duration": 6,
    "start_time": "2023-06-20T14:37:52.972Z"
   },
   {
    "duration": 28,
    "start_time": "2023-06-20T14:37:52.980Z"
   },
   {
    "duration": 424,
    "start_time": "2023-06-20T14:37:53.010Z"
   },
   {
    "duration": 392,
    "start_time": "2023-06-20T14:37:53.436Z"
   },
   {
    "duration": 10,
    "start_time": "2023-06-20T14:38:40.431Z"
   },
   {
    "duration": 5,
    "start_time": "2023-06-20T14:42:05.341Z"
   },
   {
    "duration": 9,
    "start_time": "2023-06-20T14:42:22.299Z"
   },
   {
    "duration": 1124,
    "start_time": "2023-06-20T14:42:30.607Z"
   },
   {
    "duration": 175,
    "start_time": "2023-06-20T14:42:31.733Z"
   },
   {
    "duration": 18,
    "start_time": "2023-06-20T14:42:31.910Z"
   },
   {
    "duration": 83,
    "start_time": "2023-06-20T14:42:31.930Z"
   },
   {
    "duration": 35,
    "start_time": "2023-06-20T14:42:32.015Z"
   },
   {
    "duration": 81,
    "start_time": "2023-06-20T14:42:32.052Z"
   },
   {
    "duration": 87,
    "start_time": "2023-06-20T14:42:32.135Z"
   },
   {
    "duration": 50,
    "start_time": "2023-06-20T14:42:32.225Z"
   },
   {
    "duration": 17,
    "start_time": "2023-06-20T14:42:32.279Z"
   },
   {
    "duration": 48,
    "start_time": "2023-06-20T14:42:32.299Z"
   },
   {
    "duration": 27,
    "start_time": "2023-06-20T14:42:32.351Z"
   },
   {
    "duration": 38,
    "start_time": "2023-06-20T14:42:32.381Z"
   },
   {
    "duration": 5,
    "start_time": "2023-06-20T14:42:32.421Z"
   },
   {
    "duration": 40,
    "start_time": "2023-06-20T14:42:32.430Z"
   },
   {
    "duration": 9,
    "start_time": "2023-06-20T14:42:32.472Z"
   },
   {
    "duration": 8,
    "start_time": "2023-06-20T14:42:32.483Z"
   },
   {
    "duration": 38,
    "start_time": "2023-06-20T14:42:32.493Z"
   },
   {
    "duration": 12,
    "start_time": "2023-06-20T14:42:32.533Z"
   },
   {
    "duration": 26,
    "start_time": "2023-06-20T14:42:32.547Z"
   },
   {
    "duration": 40,
    "start_time": "2023-06-20T14:42:32.575Z"
   },
   {
    "duration": 213,
    "start_time": "2023-06-20T14:42:32.617Z"
   },
   {
    "duration": 165,
    "start_time": "2023-06-20T14:42:32.831Z"
   },
   {
    "duration": 236,
    "start_time": "2023-06-20T14:42:32.998Z"
   },
   {
    "duration": 140,
    "start_time": "2023-06-20T14:42:33.236Z"
   },
   {
    "duration": 218,
    "start_time": "2023-06-20T14:42:33.378Z"
   },
   {
    "duration": 149,
    "start_time": "2023-06-20T14:42:33.599Z"
   },
   {
    "duration": 226,
    "start_time": "2023-06-20T14:42:33.751Z"
   },
   {
    "duration": 154,
    "start_time": "2023-06-20T14:42:33.979Z"
   },
   {
    "duration": 5,
    "start_time": "2023-06-20T14:42:34.136Z"
   },
   {
    "duration": 38,
    "start_time": "2023-06-20T14:42:34.160Z"
   },
   {
    "duration": 9,
    "start_time": "2023-06-20T14:42:34.200Z"
   },
   {
    "duration": 42,
    "start_time": "2023-06-20T14:42:34.210Z"
   },
   {
    "duration": 29,
    "start_time": "2023-06-20T14:42:34.254Z"
   },
   {
    "duration": 339,
    "start_time": "2023-06-20T14:42:34.285Z"
   },
   {
    "duration": 417,
    "start_time": "2023-06-20T14:42:34.627Z"
   },
   {
    "duration": 12,
    "start_time": "2023-06-20T14:42:35.046Z"
   },
   {
    "duration": 28,
    "start_time": "2023-06-20T14:42:35.063Z"
   },
   {
    "duration": 79,
    "start_time": "2023-06-20T14:42:35.093Z"
   },
   {
    "duration": 14,
    "start_time": "2023-06-20T14:42:35.174Z"
   },
   {
    "duration": 10,
    "start_time": "2023-06-20T14:42:35.190Z"
   },
   {
    "duration": 39,
    "start_time": "2023-06-20T14:42:35.205Z"
   },
   {
    "duration": 20,
    "start_time": "2023-06-20T14:42:35.247Z"
   },
   {
    "duration": 305,
    "start_time": "2023-06-20T14:42:35.274Z"
   },
   {
    "duration": 6,
    "start_time": "2023-06-20T14:42:35.581Z"
   },
   {
    "duration": 11,
    "start_time": "2023-06-20T14:42:35.589Z"
   },
   {
    "duration": 6,
    "start_time": "2023-06-20T14:42:35.602Z"
   },
   {
    "duration": 13,
    "start_time": "2023-06-20T14:42:35.610Z"
   },
   {
    "duration": 322,
    "start_time": "2023-06-20T14:42:35.625Z"
   },
   {
    "duration": 339,
    "start_time": "2023-06-20T14:42:35.956Z"
   },
   {
    "duration": 187,
    "start_time": "2023-06-20T14:47:21.023Z"
   },
   {
    "duration": 101,
    "start_time": "2023-06-20T14:48:09.593Z"
   },
   {
    "duration": 21,
    "start_time": "2023-06-20T14:48:38.865Z"
   },
   {
    "duration": 13,
    "start_time": "2023-06-20T14:49:41.591Z"
   },
   {
    "duration": 17,
    "start_time": "2023-06-20T14:50:19.876Z"
   },
   {
    "duration": 8,
    "start_time": "2023-06-20T14:51:27.201Z"
   },
   {
    "duration": 8,
    "start_time": "2023-06-20T14:51:45.628Z"
   },
   {
    "duration": 8,
    "start_time": "2023-06-20T14:51:50.399Z"
   },
   {
    "duration": 14,
    "start_time": "2023-06-20T14:52:54.774Z"
   },
   {
    "duration": 19,
    "start_time": "2023-06-20T14:53:05.672Z"
   },
   {
    "duration": 21,
    "start_time": "2023-06-20T14:53:12.274Z"
   },
   {
    "duration": 1221,
    "start_time": "2023-06-20T14:54:45.299Z"
   },
   {
    "duration": 179,
    "start_time": "2023-06-20T14:54:46.522Z"
   },
   {
    "duration": 15,
    "start_time": "2023-06-20T14:54:46.703Z"
   },
   {
    "duration": 10,
    "start_time": "2023-06-20T14:54:46.719Z"
   },
   {
    "duration": 11,
    "start_time": "2023-06-20T14:54:46.732Z"
   },
   {
    "duration": 57,
    "start_time": "2023-06-20T14:54:46.745Z"
   },
   {
    "duration": 14,
    "start_time": "2023-06-20T14:54:46.805Z"
   },
   {
    "duration": 30,
    "start_time": "2023-06-20T14:54:46.820Z"
   },
   {
    "duration": 30,
    "start_time": "2023-06-20T14:54:46.852Z"
   },
   {
    "duration": 27,
    "start_time": "2023-06-20T14:54:46.886Z"
   },
   {
    "duration": 11,
    "start_time": "2023-06-20T14:54:46.915Z"
   },
   {
    "duration": 26,
    "start_time": "2023-06-20T14:54:46.927Z"
   },
   {
    "duration": 5,
    "start_time": "2023-06-20T14:54:46.958Z"
   },
   {
    "duration": 14,
    "start_time": "2023-06-20T14:54:46.972Z"
   },
   {
    "duration": 12,
    "start_time": "2023-06-20T14:54:46.989Z"
   },
   {
    "duration": 11,
    "start_time": "2023-06-20T14:54:47.004Z"
   },
   {
    "duration": 24,
    "start_time": "2023-06-20T14:54:47.018Z"
   },
   {
    "duration": 32,
    "start_time": "2023-06-20T14:54:47.044Z"
   },
   {
    "duration": 24,
    "start_time": "2023-06-20T14:54:47.082Z"
   },
   {
    "duration": 6,
    "start_time": "2023-06-20T14:54:47.109Z"
   },
   {
    "duration": 223,
    "start_time": "2023-06-20T14:54:47.117Z"
   },
   {
    "duration": 189,
    "start_time": "2023-06-20T14:54:47.342Z"
   },
   {
    "duration": 254,
    "start_time": "2023-06-20T14:54:47.533Z"
   },
   {
    "duration": 119,
    "start_time": "2023-06-20T14:54:47.789Z"
   },
   {
    "duration": 253,
    "start_time": "2023-06-20T14:54:47.910Z"
   },
   {
    "duration": 153,
    "start_time": "2023-06-20T14:54:48.164Z"
   },
   {
    "duration": 249,
    "start_time": "2023-06-20T14:54:48.320Z"
   },
   {
    "duration": 162,
    "start_time": "2023-06-20T14:54:48.570Z"
   },
   {
    "duration": 4,
    "start_time": "2023-06-20T14:54:48.733Z"
   },
   {
    "duration": 60,
    "start_time": "2023-06-20T14:54:48.739Z"
   },
   {
    "duration": 5,
    "start_time": "2023-06-20T14:54:48.802Z"
   },
   {
    "duration": 24,
    "start_time": "2023-06-20T14:54:48.810Z"
   },
   {
    "duration": 41,
    "start_time": "2023-06-20T14:54:48.837Z"
   },
   {
    "duration": 366,
    "start_time": "2023-06-20T14:54:48.882Z"
   },
   {
    "duration": 510,
    "start_time": "2023-06-20T14:54:49.252Z"
   },
   {
    "duration": 4,
    "start_time": "2023-06-20T14:54:49.764Z"
   },
   {
    "duration": 32,
    "start_time": "2023-06-20T14:54:49.770Z"
   },
   {
    "duration": 100,
    "start_time": "2023-06-20T14:54:49.804Z"
   },
   {
    "duration": 14,
    "start_time": "2023-06-20T14:54:49.906Z"
   },
   {
    "duration": 14,
    "start_time": "2023-06-20T14:54:49.922Z"
   },
   {
    "duration": 38,
    "start_time": "2023-06-20T14:54:49.941Z"
   },
   {
    "duration": 5,
    "start_time": "2023-06-20T14:54:49.981Z"
   },
   {
    "duration": 304,
    "start_time": "2023-06-20T14:54:49.988Z"
   },
   {
    "duration": 6,
    "start_time": "2023-06-20T14:54:50.295Z"
   },
   {
    "duration": 34,
    "start_time": "2023-06-20T14:54:50.302Z"
   },
   {
    "duration": 68,
    "start_time": "2023-06-20T14:54:50.338Z"
   },
   {
    "duration": 66,
    "start_time": "2023-06-20T14:54:50.409Z"
   },
   {
    "duration": 348,
    "start_time": "2023-06-20T14:54:50.477Z"
   },
   {
    "duration": 362,
    "start_time": "2023-06-20T14:54:50.827Z"
   },
   {
    "duration": 1143,
    "start_time": "2023-06-20T16:14:52.310Z"
   },
   {
    "duration": 352,
    "start_time": "2023-06-20T16:14:53.456Z"
   },
   {
    "duration": 12,
    "start_time": "2023-06-20T16:14:53.810Z"
   },
   {
    "duration": 11,
    "start_time": "2023-06-20T16:14:53.824Z"
   },
   {
    "duration": 19,
    "start_time": "2023-06-20T16:14:53.836Z"
   },
   {
    "duration": 24,
    "start_time": "2023-06-20T16:14:53.857Z"
   },
   {
    "duration": 11,
    "start_time": "2023-06-20T16:14:53.883Z"
   },
   {
    "duration": 22,
    "start_time": "2023-06-20T16:14:53.895Z"
   },
   {
    "duration": 42,
    "start_time": "2023-06-20T16:14:53.918Z"
   },
   {
    "duration": 22,
    "start_time": "2023-06-20T16:14:53.963Z"
   },
   {
    "duration": 16,
    "start_time": "2023-06-20T16:14:53.987Z"
   },
   {
    "duration": 28,
    "start_time": "2023-06-20T16:14:54.005Z"
   },
   {
    "duration": 7,
    "start_time": "2023-06-20T16:14:54.056Z"
   },
   {
    "duration": 32,
    "start_time": "2023-06-20T16:14:54.064Z"
   },
   {
    "duration": 22,
    "start_time": "2023-06-20T16:14:54.098Z"
   },
   {
    "duration": 10,
    "start_time": "2023-06-20T16:14:54.122Z"
   },
   {
    "duration": 13,
    "start_time": "2023-06-20T16:14:54.134Z"
   },
   {
    "duration": 13,
    "start_time": "2023-06-20T16:14:54.149Z"
   },
   {
    "duration": 24,
    "start_time": "2023-06-20T16:14:54.164Z"
   },
   {
    "duration": 23,
    "start_time": "2023-06-20T16:14:54.190Z"
   },
   {
    "duration": 180,
    "start_time": "2023-06-20T16:14:54.214Z"
   },
   {
    "duration": 144,
    "start_time": "2023-06-20T16:14:54.396Z"
   },
   {
    "duration": 222,
    "start_time": "2023-06-20T16:14:54.542Z"
   },
   {
    "duration": 108,
    "start_time": "2023-06-20T16:14:54.766Z"
   },
   {
    "duration": 193,
    "start_time": "2023-06-20T16:14:54.876Z"
   },
   {
    "duration": 128,
    "start_time": "2023-06-20T16:14:55.071Z"
   },
   {
    "duration": 196,
    "start_time": "2023-06-20T16:14:55.201Z"
   },
   {
    "duration": 134,
    "start_time": "2023-06-20T16:14:55.401Z"
   },
   {
    "duration": 4,
    "start_time": "2023-06-20T16:14:55.537Z"
   },
   {
    "duration": 29,
    "start_time": "2023-06-20T16:14:55.557Z"
   },
   {
    "duration": 4,
    "start_time": "2023-06-20T16:14:55.588Z"
   },
   {
    "duration": 28,
    "start_time": "2023-06-20T16:14:55.594Z"
   },
   {
    "duration": 39,
    "start_time": "2023-06-20T16:14:55.624Z"
   },
   {
    "duration": 269,
    "start_time": "2023-06-20T16:14:55.665Z"
   },
   {
    "duration": 338,
    "start_time": "2023-06-20T16:14:55.936Z"
   },
   {
    "duration": 4,
    "start_time": "2023-06-20T16:14:56.276Z"
   },
   {
    "duration": 24,
    "start_time": "2023-06-20T16:14:56.281Z"
   },
   {
    "duration": 69,
    "start_time": "2023-06-20T16:14:56.307Z"
   },
   {
    "duration": 12,
    "start_time": "2023-06-20T16:14:56.377Z"
   },
   {
    "duration": 26,
    "start_time": "2023-06-20T16:14:56.391Z"
   },
   {
    "duration": 13,
    "start_time": "2023-06-20T16:14:56.418Z"
   },
   {
    "duration": 5,
    "start_time": "2023-06-20T16:14:56.433Z"
   },
   {
    "duration": 279,
    "start_time": "2023-06-20T16:14:56.439Z"
   },
   {
    "duration": 5,
    "start_time": "2023-06-20T16:14:56.720Z"
   },
   {
    "duration": 10,
    "start_time": "2023-06-20T16:14:56.727Z"
   },
   {
    "duration": 5,
    "start_time": "2023-06-20T16:14:56.756Z"
   },
   {
    "duration": 25,
    "start_time": "2023-06-20T16:14:56.763Z"
   },
   {
    "duration": 278,
    "start_time": "2023-06-20T16:14:56.790Z"
   },
   {
    "duration": 336,
    "start_time": "2023-06-20T16:14:57.070Z"
   },
   {
    "duration": 11,
    "start_time": "2023-06-20T16:16:54.514Z"
   },
   {
    "duration": 20,
    "start_time": "2023-06-20T16:24:29.182Z"
   },
   {
    "duration": 30,
    "start_time": "2023-06-20T16:24:46.567Z"
   },
   {
    "duration": 7,
    "start_time": "2023-06-20T16:25:03.132Z"
   },
   {
    "duration": 6,
    "start_time": "2023-06-20T16:25:06.640Z"
   },
   {
    "duration": 12,
    "start_time": "2023-06-20T16:27:03.724Z"
   },
   {
    "duration": 106,
    "start_time": "2023-06-20T16:29:11.247Z"
   },
   {
    "duration": 4,
    "start_time": "2023-06-20T16:29:19.472Z"
   },
   {
    "duration": 6,
    "start_time": "2023-06-20T16:29:26.012Z"
   },
   {
    "duration": 13,
    "start_time": "2023-06-20T16:29:43.977Z"
   },
   {
    "duration": 10,
    "start_time": "2023-06-20T16:29:45.120Z"
   },
   {
    "duration": 1211,
    "start_time": "2023-06-20T17:10:11.322Z"
   },
   {
    "duration": 686,
    "start_time": "2023-06-20T17:10:12.535Z"
   },
   {
    "duration": 16,
    "start_time": "2023-06-20T17:10:13.223Z"
   },
   {
    "duration": 8,
    "start_time": "2023-06-20T17:10:13.240Z"
   },
   {
    "duration": 22,
    "start_time": "2023-06-20T17:10:13.250Z"
   },
   {
    "duration": 19,
    "start_time": "2023-06-20T17:10:13.275Z"
   },
   {
    "duration": 11,
    "start_time": "2023-06-20T17:10:13.296Z"
   },
   {
    "duration": 20,
    "start_time": "2023-06-20T17:10:13.308Z"
   },
   {
    "duration": 29,
    "start_time": "2023-06-20T17:10:13.330Z"
   },
   {
    "duration": 27,
    "start_time": "2023-06-20T17:10:13.360Z"
   },
   {
    "duration": 10,
    "start_time": "2023-06-20T17:10:13.388Z"
   },
   {
    "duration": 15,
    "start_time": "2023-06-20T17:10:13.399Z"
   },
   {
    "duration": 3,
    "start_time": "2023-06-20T17:10:13.416Z"
   },
   {
    "duration": 12,
    "start_time": "2023-06-20T17:10:13.422Z"
   },
   {
    "duration": 7,
    "start_time": "2023-06-20T17:10:13.458Z"
   },
   {
    "duration": 11,
    "start_time": "2023-06-20T17:10:13.466Z"
   },
   {
    "duration": 10,
    "start_time": "2023-06-20T17:10:13.479Z"
   },
   {
    "duration": 5,
    "start_time": "2023-06-20T17:10:13.491Z"
   },
   {
    "duration": 8,
    "start_time": "2023-06-20T17:10:13.497Z"
   },
   {
    "duration": 9,
    "start_time": "2023-06-20T17:10:13.506Z"
   },
   {
    "duration": 195,
    "start_time": "2023-06-20T17:10:13.516Z"
   },
   {
    "duration": 143,
    "start_time": "2023-06-20T17:10:13.712Z"
   },
   {
    "duration": 202,
    "start_time": "2023-06-20T17:10:13.862Z"
   },
   {
    "duration": 111,
    "start_time": "2023-06-20T17:10:14.075Z"
   },
   {
    "duration": 207,
    "start_time": "2023-06-20T17:10:14.202Z"
   },
   {
    "duration": 133,
    "start_time": "2023-06-20T17:10:14.411Z"
   },
   {
    "duration": 207,
    "start_time": "2023-06-20T17:10:14.546Z"
   },
   {
    "duration": 172,
    "start_time": "2023-06-20T17:10:14.755Z"
   },
   {
    "duration": 4,
    "start_time": "2023-06-20T17:10:14.928Z"
   },
   {
    "duration": 61,
    "start_time": "2023-06-20T17:10:14.934Z"
   },
   {
    "duration": 7,
    "start_time": "2023-06-20T17:10:14.999Z"
   },
   {
    "duration": 62,
    "start_time": "2023-06-20T17:10:15.008Z"
   },
   {
    "duration": 21,
    "start_time": "2023-06-20T17:10:15.080Z"
   },
   {
    "duration": 315,
    "start_time": "2023-06-20T17:10:15.103Z"
   },
   {
    "duration": 361,
    "start_time": "2023-06-20T17:10:15.420Z"
   },
   {
    "duration": 6,
    "start_time": "2023-06-20T17:10:15.784Z"
   },
   {
    "duration": 30,
    "start_time": "2023-06-20T17:10:15.791Z"
   },
   {
    "duration": 69,
    "start_time": "2023-06-20T17:10:15.823Z"
   },
   {
    "duration": 18,
    "start_time": "2023-06-20T17:10:15.894Z"
   },
   {
    "duration": 10,
    "start_time": "2023-06-20T17:10:15.914Z"
   },
   {
    "duration": 12,
    "start_time": "2023-06-20T17:10:15.928Z"
   },
   {
    "duration": 23,
    "start_time": "2023-06-20T17:10:15.941Z"
   },
   {
    "duration": 278,
    "start_time": "2023-06-20T17:10:15.965Z"
   },
   {
    "duration": 13,
    "start_time": "2023-06-20T17:10:16.245Z"
   },
   {
    "duration": 30,
    "start_time": "2023-06-20T17:10:16.268Z"
   },
   {
    "duration": 4,
    "start_time": "2023-06-20T17:10:16.302Z"
   },
   {
    "duration": 18,
    "start_time": "2023-06-20T17:10:16.308Z"
   },
   {
    "duration": 289,
    "start_time": "2023-06-20T17:10:16.328Z"
   },
   {
    "duration": 336,
    "start_time": "2023-06-20T17:10:16.619Z"
   },
   {
    "duration": 9,
    "start_time": "2023-06-20T17:11:21.418Z"
   },
   {
    "duration": 1243,
    "start_time": "2023-06-20T17:38:17.583Z"
   },
   {
    "duration": 379,
    "start_time": "2023-06-20T17:38:18.828Z"
   },
   {
    "duration": 21,
    "start_time": "2023-06-20T17:38:19.210Z"
   },
   {
    "duration": 16,
    "start_time": "2023-06-20T17:38:19.235Z"
   },
   {
    "duration": 15,
    "start_time": "2023-06-20T17:38:19.253Z"
   },
   {
    "duration": 30,
    "start_time": "2023-06-20T17:38:19.270Z"
   },
   {
    "duration": 13,
    "start_time": "2023-06-20T17:38:19.302Z"
   },
   {
    "duration": 59,
    "start_time": "2023-06-20T17:38:19.318Z"
   },
   {
    "duration": 18,
    "start_time": "2023-06-20T17:38:19.379Z"
   },
   {
    "duration": 55,
    "start_time": "2023-06-20T17:38:19.401Z"
   },
   {
    "duration": 20,
    "start_time": "2023-06-20T17:38:19.458Z"
   },
   {
    "duration": 26,
    "start_time": "2023-06-20T17:38:19.480Z"
   },
   {
    "duration": 17,
    "start_time": "2023-06-20T17:38:19.508Z"
   },
   {
    "duration": 14,
    "start_time": "2023-06-20T17:38:19.527Z"
   },
   {
    "duration": 17,
    "start_time": "2023-06-20T17:38:19.542Z"
   },
   {
    "duration": 10,
    "start_time": "2023-06-20T17:38:19.562Z"
   },
   {
    "duration": 14,
    "start_time": "2023-06-20T17:38:19.577Z"
   },
   {
    "duration": 14,
    "start_time": "2023-06-20T17:38:19.593Z"
   },
   {
    "duration": 23,
    "start_time": "2023-06-20T17:38:19.609Z"
   },
   {
    "duration": 24,
    "start_time": "2023-06-20T17:38:19.634Z"
   },
   {
    "duration": 216,
    "start_time": "2023-06-20T17:38:19.661Z"
   },
   {
    "duration": 164,
    "start_time": "2023-06-20T17:38:19.879Z"
   },
   {
    "duration": 228,
    "start_time": "2023-06-20T17:38:20.057Z"
   },
   {
    "duration": 123,
    "start_time": "2023-06-20T17:38:20.288Z"
   },
   {
    "duration": 306,
    "start_time": "2023-06-20T17:38:20.413Z"
   },
   {
    "duration": 187,
    "start_time": "2023-06-20T17:38:20.722Z"
   },
   {
    "duration": 273,
    "start_time": "2023-06-20T17:38:20.911Z"
   },
   {
    "duration": 182,
    "start_time": "2023-06-20T17:38:21.189Z"
   },
   {
    "duration": 5,
    "start_time": "2023-06-20T17:38:21.373Z"
   },
   {
    "duration": 38,
    "start_time": "2023-06-20T17:38:21.380Z"
   },
   {
    "duration": 5,
    "start_time": "2023-06-20T17:38:21.420Z"
   },
   {
    "duration": 49,
    "start_time": "2023-06-20T17:38:21.428Z"
   },
   {
    "duration": 27,
    "start_time": "2023-06-20T17:38:21.480Z"
   },
   {
    "duration": 345,
    "start_time": "2023-06-20T17:38:21.511Z"
   },
   {
    "duration": 370,
    "start_time": "2023-06-20T17:38:21.858Z"
   },
   {
    "duration": 4,
    "start_time": "2023-06-20T17:38:22.230Z"
   },
   {
    "duration": 36,
    "start_time": "2023-06-20T17:38:22.236Z"
   },
   {
    "duration": 88,
    "start_time": "2023-06-20T17:38:22.274Z"
   },
   {
    "duration": 14,
    "start_time": "2023-06-20T17:38:22.364Z"
   },
   {
    "duration": 17,
    "start_time": "2023-06-20T17:38:22.380Z"
   },
   {
    "duration": 19,
    "start_time": "2023-06-20T17:38:22.398Z"
   },
   {
    "duration": 11,
    "start_time": "2023-06-20T17:38:22.420Z"
   },
   {
    "duration": 345,
    "start_time": "2023-06-20T17:38:22.458Z"
   },
   {
    "duration": 6,
    "start_time": "2023-06-20T17:38:22.805Z"
   },
   {
    "duration": 19,
    "start_time": "2023-06-20T17:38:22.813Z"
   },
   {
    "duration": 27,
    "start_time": "2023-06-20T17:38:22.834Z"
   },
   {
    "duration": 12,
    "start_time": "2023-06-20T17:38:22.863Z"
   },
   {
    "duration": 299,
    "start_time": "2023-06-20T17:38:22.878Z"
   },
   {
    "duration": 361,
    "start_time": "2023-06-20T17:38:23.179Z"
   },
   {
    "duration": 1070,
    "start_time": "2023-07-07T11:07:49.857Z"
   },
   {
    "duration": 236,
    "start_time": "2023-07-07T11:07:50.929Z"
   },
   {
    "duration": 11,
    "start_time": "2023-07-07T11:07:51.166Z"
   },
   {
    "duration": 24,
    "start_time": "2023-07-07T11:07:51.179Z"
   },
   {
    "duration": 16,
    "start_time": "2023-07-07T11:07:51.205Z"
   },
   {
    "duration": 18,
    "start_time": "2023-07-07T11:07:51.222Z"
   },
   {
    "duration": 11,
    "start_time": "2023-07-07T11:07:51.241Z"
   },
   {
    "duration": 22,
    "start_time": "2023-07-07T11:07:51.254Z"
   },
   {
    "duration": 10,
    "start_time": "2023-07-07T11:07:51.278Z"
   },
   {
    "duration": 41,
    "start_time": "2023-07-07T11:07:51.291Z"
   },
   {
    "duration": 9,
    "start_time": "2023-07-07T11:07:51.334Z"
   },
   {
    "duration": 16,
    "start_time": "2023-07-07T11:07:51.344Z"
   },
   {
    "duration": 3,
    "start_time": "2023-07-07T11:07:51.362Z"
   },
   {
    "duration": 13,
    "start_time": "2023-07-07T11:07:51.366Z"
   },
   {
    "duration": 10,
    "start_time": "2023-07-07T11:07:51.380Z"
   },
   {
    "duration": 6,
    "start_time": "2023-07-07T11:07:51.391Z"
   },
   {
    "duration": 36,
    "start_time": "2023-07-07T11:07:51.399Z"
   },
   {
    "duration": 5,
    "start_time": "2023-07-07T11:07:51.437Z"
   },
   {
    "duration": 11,
    "start_time": "2023-07-07T11:07:51.443Z"
   },
   {
    "duration": 7,
    "start_time": "2023-07-07T11:07:51.455Z"
   },
   {
    "duration": 152,
    "start_time": "2023-07-07T11:07:51.463Z"
   },
   {
    "duration": 133,
    "start_time": "2023-07-07T11:07:51.616Z"
   },
   {
    "duration": 186,
    "start_time": "2023-07-07T11:07:51.751Z"
   },
   {
    "duration": 98,
    "start_time": "2023-07-07T11:07:51.939Z"
   },
   {
    "duration": 170,
    "start_time": "2023-07-07T11:07:52.038Z"
   },
   {
    "duration": 115,
    "start_time": "2023-07-07T11:07:52.209Z"
   },
   {
    "duration": 206,
    "start_time": "2023-07-07T11:07:52.332Z"
   },
   {
    "duration": 131,
    "start_time": "2023-07-07T11:07:52.542Z"
   },
   {
    "duration": 4,
    "start_time": "2023-07-07T11:07:52.674Z"
   },
   {
    "duration": 46,
    "start_time": "2023-07-07T11:07:52.679Z"
   },
   {
    "duration": 6,
    "start_time": "2023-07-07T11:07:52.727Z"
   },
   {
    "duration": 19,
    "start_time": "2023-07-07T11:07:52.735Z"
   },
   {
    "duration": 12,
    "start_time": "2023-07-07T11:07:52.756Z"
   },
   {
    "duration": 252,
    "start_time": "2023-07-07T11:07:52.769Z"
   },
   {
    "duration": 293,
    "start_time": "2023-07-07T11:07:53.023Z"
   },
   {
    "duration": 4,
    "start_time": "2023-07-07T11:07:53.318Z"
   },
   {
    "duration": 24,
    "start_time": "2023-07-07T11:07:53.323Z"
   },
   {
    "duration": 53,
    "start_time": "2023-07-07T11:07:53.349Z"
   },
   {
    "duration": 29,
    "start_time": "2023-07-07T11:07:53.404Z"
   },
   {
    "duration": 23,
    "start_time": "2023-07-07T11:07:53.434Z"
   },
   {
    "duration": 17,
    "start_time": "2023-07-07T11:07:53.458Z"
   },
   {
    "duration": 7,
    "start_time": "2023-07-07T11:07:53.477Z"
   },
   {
    "duration": 229,
    "start_time": "2023-07-07T11:07:53.485Z"
   },
   {
    "duration": 4,
    "start_time": "2023-07-07T11:07:53.716Z"
   },
   {
    "duration": 18,
    "start_time": "2023-07-07T11:07:53.721Z"
   },
   {
    "duration": 4,
    "start_time": "2023-07-07T11:07:53.741Z"
   },
   {
    "duration": 15,
    "start_time": "2023-07-07T11:07:53.747Z"
   },
   {
    "duration": 241,
    "start_time": "2023-07-07T11:07:53.764Z"
   },
   {
    "duration": 273,
    "start_time": "2023-07-07T11:07:54.006Z"
   }
  ],
  "kernelspec": {
   "display_name": "Python 3 (ipykernel)",
   "language": "python",
   "name": "python3"
  },
  "language_info": {
   "codemirror_mode": {
    "name": "ipython",
    "version": 3
   },
   "file_extension": ".py",
   "mimetype": "text/x-python",
   "name": "python",
   "nbconvert_exporter": "python",
   "pygments_lexer": "ipython3",
   "version": "3.10.9"
  },
  "toc": {
   "base_numbering": 1,
   "nav_menu": {},
   "number_sections": true,
   "sideBar": true,
   "skip_h1_title": true,
   "title_cell": "Table of Contents",
   "title_sidebar": "Contents",
   "toc_cell": false,
   "toc_position": {
    "height": "calc(100% - 180px)",
    "left": "10px",
    "top": "150px",
    "width": "165px"
   },
   "toc_section_display": true,
   "toc_window_display": true
  }
 },
 "nbformat": 4,
 "nbformat_minor": 5
}
