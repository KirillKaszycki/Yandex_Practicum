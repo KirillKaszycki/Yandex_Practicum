{
 "cells": [
  {
   "cell_type": "markdown",
   "metadata": {
    "toc": true
   },
   "source": [
    "<h1>Содержание<span class=\"tocSkip\"></span></h1>\n",
    "<div class=\"toc\"><ul class=\"toc-item\"><li><span><a href=\"#Подготовка\" data-toc-modified-id=\"Подготовка-1\"><span class=\"toc-item-num\">1&nbsp;&nbsp;</span>Подготовка</a></span></li><li><span><a href=\"#Обучение\" data-toc-modified-id=\"Обучение-2\"><span class=\"toc-item-num\">2&nbsp;&nbsp;</span>Обучение</a></span><ul class=\"toc-item\"><li><span><a href=\"#Выбор-модели\" data-toc-modified-id=\"Выбор-модели-2.1\"><span class=\"toc-item-num\">2.1&nbsp;&nbsp;</span>Выбор модели</a></span><ul class=\"toc-item\"><li><span><a href=\"#Константная-модель\" data-toc-modified-id=\"Константная-модель-2.1.1\"><span class=\"toc-item-num\">2.1.1&nbsp;&nbsp;</span>Константная модель</a></span></li><li><span><a href=\"#Логистическая-регрессия\" data-toc-modified-id=\"Логистическая-регрессия-2.1.2\"><span class=\"toc-item-num\">2.1.2&nbsp;&nbsp;</span>Логистическая регрессия</a></span></li><li><span><a href=\"#Дерево-решений\" data-toc-modified-id=\"Дерево-решений-2.1.3\"><span class=\"toc-item-num\">2.1.3&nbsp;&nbsp;</span>Дерево решений</a></span></li><li><span><a href=\"#Случайный-лес\" data-toc-modified-id=\"Случайный-лес-2.1.4\"><span class=\"toc-item-num\">2.1.4&nbsp;&nbsp;</span>Случайный лес</a></span></li><li><span><a href=\"#Градиентный-бустинг\" data-toc-modified-id=\"Градиентный-бустинг-2.1.5\"><span class=\"toc-item-num\">2.1.5&nbsp;&nbsp;</span>Градиентный бустинг</a></span></li></ul></li><li><span><a href=\"#Тестирование-модели\" data-toc-modified-id=\"Тестирование-модели-2.2\"><span class=\"toc-item-num\">2.2&nbsp;&nbsp;</span>Тестирование модели</a></span></li></ul></li><li><span><a href=\"#Выводы\" data-toc-modified-id=\"Выводы-3\"><span class=\"toc-item-num\">3&nbsp;&nbsp;</span>Выводы</a></span></li><li><span><a href=\"#Чек-лист-проверки\" data-toc-modified-id=\"Чек-лист-проверки-4\"><span class=\"toc-item-num\">4&nbsp;&nbsp;</span>Чек-лист проверки</a></span></li></ul></div>"
   ]
  },
  {
   "cell_type": "markdown",
   "metadata": {},
   "source": [
    "# Проект для «Викишоп»"
   ]
  },
  {
   "cell_type": "markdown",
   "metadata": {},
   "source": [
    "Интернет-магазин «Викишоп» запускает новый сервис. Теперь пользователи могут редактировать и дополнять описания товаров, как в вики-сообществах. То есть клиенты предлагают свои правки и комментируют изменения других. Магазину нужен инструмент, который будет искать токсичные комментарии и отправлять их на модерацию. \n",
    "\n",
    "Обучите модель классифицировать комментарии на позитивные и негативные. В вашем распоряжении набор данных с разметкой о токсичности правок.\n",
    "\n",
    "Постройте модель со значением метрики качества *F1* не меньше 0.75. \n",
    "\n",
    "**Инструкция по выполнению проекта**\n",
    "\n",
    "1. Загрузите и подготовьте данные.\n",
    "2. Обучите разные модели. \n",
    "3. Сделайте выводы.\n",
    "\n",
    "Для выполнения проекта применять *BERT* необязательно, но вы можете попробовать.\n",
    "\n",
    "**Описание данных**\n",
    "\n",
    "Данные находятся в файле `toxic_comments.csv`. Столбец *text* в нём содержит текст комментария, а *toxic* — целевой признак."
   ]
  },
  {
   "cell_type": "markdown",
   "metadata": {},
   "source": [
    "**ТЗ**\n",
    "\n",
    "Интернет-магазин «Викишоп» запускает новый сервис. Теперь пользователи могут редактировать и дополнять описания товаров, как в вики-сообществах. То есть клиенты предлагают свои правки и комментируют изменения других. Магазину нужен инструмент, который будет искать токсичные комментарии и отправлять их на модерацию. \n",
    "Обучите модель классифицировать комментарии на позитивные и негативные. В вашем распоряжении набор данных с разметкой о токсичности правок.\n",
    "\n",
    "\n",
    "Постройте модель со значением метрики качества F1 не меньше 0.75. \n",
    "\n",
    "\n"
   ]
  },
  {
   "cell_type": "markdown",
   "metadata": {},
   "source": [
    "## Подготовка"
   ]
  },
  {
   "cell_type": "code",
   "execution_count": 1,
   "metadata": {},
   "outputs": [],
   "source": [
    "import pandas as pd\n",
    "import numpy as np\n",
    "import math\n",
    "import warnings\n",
    "warnings.filterwarnings('ignore')\n",
    "import re\n",
    "from tqdm import tqdm\n",
    "\n",
    "import matplotlib.pyplot as plt\n",
    "%matplotlib inline\n",
    "import seaborn as sns\n",
    "sns.set_style('whitegrid')\n",
    "\n",
    "from sklearn.linear_model import LogisticRegression\n",
    "from sklearn.dummy import DummyClassifier\n",
    "from sklearn.tree import DecisionTreeClassifier\n",
    "from sklearn.ensemble import RandomForestClassifier\n",
    "from sklearn.model_selection import train_test_split\n",
    "from sklearn.metrics import f1_score\n",
    "from sklearn.feature_extraction.text import TfidfVectorizer\n",
    "\n",
    "from nltk.corpus import stopwords, wordnet\n",
    "from nltk.stem import WordNetLemmatizer\n",
    "import nltk\n",
    "\n",
    "from catboost import CatBoostClassifier"
   ]
  },
  {
   "cell_type": "code",
   "execution_count": 2,
   "metadata": {},
   "outputs": [
    {
     "name": "stderr",
     "output_type": "stream",
     "text": [
      "[nltk_data] Downloading package stopwords to /home/jovyan/nltk_data...\n",
      "[nltk_data]   Package stopwords is already up-to-date!\n",
      "[nltk_data] Downloading package averaged_perceptron_tagger to\n",
      "[nltk_data]     /home/jovyan/nltk_data...\n",
      "[nltk_data]   Package averaged_perceptron_tagger is already up-to-\n",
      "[nltk_data]       date!\n"
     ]
    },
    {
     "data": {
      "text/plain": [
       "True"
      ]
     },
     "execution_count": 2,
     "metadata": {},
     "output_type": "execute_result"
    }
   ],
   "source": [
    "nltk.download('stopwords') \n",
    "nltk.download('averaged_perceptron_tagger')"
   ]
  },
  {
   "cell_type": "code",
   "execution_count": 3,
   "metadata": {},
   "outputs": [
    {
     "data": {
      "text/html": [
       "<div>\n",
       "<style scoped>\n",
       "    .dataframe tbody tr th:only-of-type {\n",
       "        vertical-align: middle;\n",
       "    }\n",
       "\n",
       "    .dataframe tbody tr th {\n",
       "        vertical-align: top;\n",
       "    }\n",
       "\n",
       "    .dataframe thead th {\n",
       "        text-align: right;\n",
       "    }\n",
       "</style>\n",
       "<table border=\"1\" class=\"dataframe\">\n",
       "  <thead>\n",
       "    <tr style=\"text-align: right;\">\n",
       "      <th></th>\n",
       "      <th>Unnamed: 0</th>\n",
       "      <th>text</th>\n",
       "      <th>toxic</th>\n",
       "    </tr>\n",
       "  </thead>\n",
       "  <tbody>\n",
       "    <tr>\n",
       "      <th>0</th>\n",
       "      <td>0</td>\n",
       "      <td>Explanation\\nWhy the edits made under my usern...</td>\n",
       "      <td>0</td>\n",
       "    </tr>\n",
       "    <tr>\n",
       "      <th>1</th>\n",
       "      <td>1</td>\n",
       "      <td>D'aww! He matches this background colour I'm s...</td>\n",
       "      <td>0</td>\n",
       "    </tr>\n",
       "    <tr>\n",
       "      <th>2</th>\n",
       "      <td>2</td>\n",
       "      <td>Hey man, I'm really not trying to edit war. It...</td>\n",
       "      <td>0</td>\n",
       "    </tr>\n",
       "    <tr>\n",
       "      <th>3</th>\n",
       "      <td>3</td>\n",
       "      <td>\"\\nMore\\nI can't make any real suggestions on ...</td>\n",
       "      <td>0</td>\n",
       "    </tr>\n",
       "    <tr>\n",
       "      <th>4</th>\n",
       "      <td>4</td>\n",
       "      <td>You, sir, are my hero. Any chance you remember...</td>\n",
       "      <td>0</td>\n",
       "    </tr>\n",
       "  </tbody>\n",
       "</table>\n",
       "</div>"
      ],
      "text/plain": [
       "   Unnamed: 0                                               text  toxic\n",
       "0           0  Explanation\\nWhy the edits made under my usern...      0\n",
       "1           1  D'aww! He matches this background colour I'm s...      0\n",
       "2           2  Hey man, I'm really not trying to edit war. It...      0\n",
       "3           3  \"\\nMore\\nI can't make any real suggestions on ...      0\n",
       "4           4  You, sir, are my hero. Any chance you remember...      0"
      ]
     },
     "execution_count": 3,
     "metadata": {},
     "output_type": "execute_result"
    }
   ],
   "source": [
    "df = pd.read_csv('/datasets/toxic_comments.csv', encoding='utf-8')\n",
    "df.head()"
   ]
  },
  {
   "cell_type": "code",
   "execution_count": 4,
   "metadata": {},
   "outputs": [
    {
     "data": {
      "text/html": [
       "<div>\n",
       "<style scoped>\n",
       "    .dataframe tbody tr th:only-of-type {\n",
       "        vertical-align: middle;\n",
       "    }\n",
       "\n",
       "    .dataframe tbody tr th {\n",
       "        vertical-align: top;\n",
       "    }\n",
       "\n",
       "    .dataframe thead th {\n",
       "        text-align: right;\n",
       "    }\n",
       "</style>\n",
       "<table border=\"1\" class=\"dataframe\">\n",
       "  <thead>\n",
       "    <tr style=\"text-align: right;\">\n",
       "      <th></th>\n",
       "      <th>Unnamed: 0</th>\n",
       "      <th>text</th>\n",
       "      <th>toxic</th>\n",
       "    </tr>\n",
       "  </thead>\n",
       "  <tbody>\n",
       "    <tr>\n",
       "      <th>6</th>\n",
       "      <td>6</td>\n",
       "      <td>COCKSUCKER BEFORE YOU PISS AROUND ON MY WORK</td>\n",
       "      <td>1</td>\n",
       "    </tr>\n",
       "    <tr>\n",
       "      <th>12</th>\n",
       "      <td>12</td>\n",
       "      <td>Hey... what is it..\\n@ | talk .\\nWhat is it......</td>\n",
       "      <td>1</td>\n",
       "    </tr>\n",
       "    <tr>\n",
       "      <th>16</th>\n",
       "      <td>16</td>\n",
       "      <td>Bye! \\n\\nDon't look, come or think of comming ...</td>\n",
       "      <td>1</td>\n",
       "    </tr>\n",
       "    <tr>\n",
       "      <th>42</th>\n",
       "      <td>42</td>\n",
       "      <td>You are gay or antisemmitian? \\n\\nArchangel WH...</td>\n",
       "      <td>1</td>\n",
       "    </tr>\n",
       "    <tr>\n",
       "      <th>43</th>\n",
       "      <td>43</td>\n",
       "      <td>FUCK YOUR FILTHY MOTHER IN THE ASS, DRY!</td>\n",
       "      <td>1</td>\n",
       "    </tr>\n",
       "  </tbody>\n",
       "</table>\n",
       "</div>"
      ],
      "text/plain": [
       "    Unnamed: 0                                               text  toxic\n",
       "6            6       COCKSUCKER BEFORE YOU PISS AROUND ON MY WORK      1\n",
       "12          12  Hey... what is it..\\n@ | talk .\\nWhat is it......      1\n",
       "16          16  Bye! \\n\\nDon't look, come or think of comming ...      1\n",
       "42          42  You are gay or antisemmitian? \\n\\nArchangel WH...      1\n",
       "43          43           FUCK YOUR FILTHY MOTHER IN THE ASS, DRY!      1"
      ]
     },
     "execution_count": 4,
     "metadata": {},
     "output_type": "execute_result"
    }
   ],
   "source": [
    "df.query('toxic == 1').head()"
   ]
  },
  {
   "cell_type": "code",
   "execution_count": 5,
   "metadata": {},
   "outputs": [
    {
     "name": "stdout",
     "output_type": "stream",
     "text": [
      "<class 'pandas.core.frame.DataFrame'>\n",
      "RangeIndex: 159292 entries, 0 to 159291\n",
      "Data columns (total 3 columns):\n",
      " #   Column      Non-Null Count   Dtype \n",
      "---  ------      --------------   ----- \n",
      " 0   Unnamed: 0  159292 non-null  int64 \n",
      " 1   text        159292 non-null  object\n",
      " 2   toxic       159292 non-null  int64 \n",
      "dtypes: int64(2), object(1)\n",
      "memory usage: 3.6+ MB\n"
     ]
    }
   ],
   "source": [
    "df.info()"
   ]
  },
  {
   "cell_type": "code",
   "execution_count": 6,
   "metadata": {},
   "outputs": [
    {
     "data": {
      "text/html": [
       "<div>\n",
       "<style scoped>\n",
       "    .dataframe tbody tr th:only-of-type {\n",
       "        vertical-align: middle;\n",
       "    }\n",
       "\n",
       "    .dataframe tbody tr th {\n",
       "        vertical-align: top;\n",
       "    }\n",
       "\n",
       "    .dataframe thead th {\n",
       "        text-align: right;\n",
       "    }\n",
       "</style>\n",
       "<table border=\"1\" class=\"dataframe\">\n",
       "  <thead>\n",
       "    <tr style=\"text-align: right;\">\n",
       "      <th></th>\n",
       "      <th>text</th>\n",
       "      <th>toxic</th>\n",
       "    </tr>\n",
       "  </thead>\n",
       "  <tbody>\n",
       "    <tr>\n",
       "      <th>0</th>\n",
       "      <td>Explanation\\nWhy the edits made under my usern...</td>\n",
       "      <td>0</td>\n",
       "    </tr>\n",
       "    <tr>\n",
       "      <th>1</th>\n",
       "      <td>D'aww! He matches this background colour I'm s...</td>\n",
       "      <td>0</td>\n",
       "    </tr>\n",
       "    <tr>\n",
       "      <th>2</th>\n",
       "      <td>Hey man, I'm really not trying to edit war. It...</td>\n",
       "      <td>0</td>\n",
       "    </tr>\n",
       "    <tr>\n",
       "      <th>3</th>\n",
       "      <td>\"\\nMore\\nI can't make any real suggestions on ...</td>\n",
       "      <td>0</td>\n",
       "    </tr>\n",
       "    <tr>\n",
       "      <th>4</th>\n",
       "      <td>You, sir, are my hero. Any chance you remember...</td>\n",
       "      <td>0</td>\n",
       "    </tr>\n",
       "  </tbody>\n",
       "</table>\n",
       "</div>"
      ],
      "text/plain": [
       "                                                text  toxic\n",
       "0  Explanation\\nWhy the edits made under my usern...      0\n",
       "1  D'aww! He matches this background colour I'm s...      0\n",
       "2  Hey man, I'm really not trying to edit war. It...      0\n",
       "3  \"\\nMore\\nI can't make any real suggestions on ...      0\n",
       "4  You, sir, are my hero. Any chance you remember...      0"
      ]
     },
     "execution_count": 6,
     "metadata": {},
     "output_type": "execute_result"
    }
   ],
   "source": [
    "# Ненужное поле\n",
    "df = df.drop('Unnamed: 0', axis=1)\n",
    "df.head()"
   ]
  },
  {
   "cell_type": "code",
   "execution_count": 7,
   "metadata": {},
   "outputs": [
    {
     "data": {
      "text/plain": [
       "(159292, 2)"
      ]
     },
     "execution_count": 7,
     "metadata": {},
     "output_type": "execute_result"
    }
   ],
   "source": [
    "df.shape"
   ]
  },
  {
   "cell_type": "markdown",
   "metadata": {},
   "source": [
    "Теперь нужно лематизировать твиты и избавиться от лишних символов. Шаги: \n",
    "- Создадим столбец с оригинальным текстом\n",
    "- Напишем lambda функцию для удаления лишних символов и приведения текстов к нижнему регистру\n",
    "- Удалим слова, не несущие смысловой нагрузки\n",
    "- Лематизируем текст"
   ]
  },
  {
   "cell_type": "code",
   "execution_count": 8,
   "metadata": {},
   "outputs": [
    {
     "data": {
      "text/html": [
       "<div>\n",
       "<style scoped>\n",
       "    .dataframe tbody tr th:only-of-type {\n",
       "        vertical-align: middle;\n",
       "    }\n",
       "\n",
       "    .dataframe tbody tr th {\n",
       "        vertical-align: top;\n",
       "    }\n",
       "\n",
       "    .dataframe thead th {\n",
       "        text-align: right;\n",
       "    }\n",
       "</style>\n",
       "<table border=\"1\" class=\"dataframe\">\n",
       "  <thead>\n",
       "    <tr style=\"text-align: right;\">\n",
       "      <th></th>\n",
       "      <th>original_text</th>\n",
       "      <th>text</th>\n",
       "      <th>toxic</th>\n",
       "    </tr>\n",
       "  </thead>\n",
       "  <tbody>\n",
       "    <tr>\n",
       "      <th>0</th>\n",
       "      <td>Explanation\\nWhy the edits made under my usern...</td>\n",
       "      <td>Explanation\\nWhy the edits made under my usern...</td>\n",
       "      <td>0</td>\n",
       "    </tr>\n",
       "    <tr>\n",
       "      <th>1</th>\n",
       "      <td>D'aww! He matches this background colour I'm s...</td>\n",
       "      <td>D'aww! He matches this background colour I'm s...</td>\n",
       "      <td>0</td>\n",
       "    </tr>\n",
       "    <tr>\n",
       "      <th>2</th>\n",
       "      <td>Hey man, I'm really not trying to edit war. It...</td>\n",
       "      <td>Hey man, I'm really not trying to edit war. It...</td>\n",
       "      <td>0</td>\n",
       "    </tr>\n",
       "    <tr>\n",
       "      <th>3</th>\n",
       "      <td>\"\\nMore\\nI can't make any real suggestions on ...</td>\n",
       "      <td>\"\\nMore\\nI can't make any real suggestions on ...</td>\n",
       "      <td>0</td>\n",
       "    </tr>\n",
       "    <tr>\n",
       "      <th>4</th>\n",
       "      <td>You, sir, are my hero. Any chance you remember...</td>\n",
       "      <td>You, sir, are my hero. Any chance you remember...</td>\n",
       "      <td>0</td>\n",
       "    </tr>\n",
       "  </tbody>\n",
       "</table>\n",
       "</div>"
      ],
      "text/plain": [
       "                                       original_text  \\\n",
       "0  Explanation\\nWhy the edits made under my usern...   \n",
       "1  D'aww! He matches this background colour I'm s...   \n",
       "2  Hey man, I'm really not trying to edit war. It...   \n",
       "3  \"\\nMore\\nI can't make any real suggestions on ...   \n",
       "4  You, sir, are my hero. Any chance you remember...   \n",
       "\n",
       "                                                text  toxic  \n",
       "0  Explanation\\nWhy the edits made under my usern...      0  \n",
       "1  D'aww! He matches this background colour I'm s...      0  \n",
       "2  Hey man, I'm really not trying to edit war. It...      0  \n",
       "3  \"\\nMore\\nI can't make any real suggestions on ...      0  \n",
       "4  You, sir, are my hero. Any chance you remember...      0  "
      ]
     },
     "execution_count": 8,
     "metadata": {},
     "output_type": "execute_result"
    }
   ],
   "source": [
    "df['original_text'] = df['text'].copy()\n",
    "df = df.reindex(columns=['original_text', 'text', 'toxic'])\n",
    "df.head()"
   ]
  },
  {
   "cell_type": "code",
   "execution_count": 10,
   "metadata": {},
   "outputs": [
    {
     "name": "stderr",
     "output_type": "stream",
     "text": [
      "100%|██████████| 159292/159292 [24:14<00:00, 109.50it/s]\n"
     ]
    }
   ],
   "source": [
    "lemmatizer = WordNetLemmatizer()\n",
    "\n",
    "def get_wordnet_pos(word):\n",
    "    tag = nltk.pos_tag([word])[0][1][0].upper()\n",
    "    tag_dict = {\"J\": wordnet.ADJ, \"N\": wordnet.NOUN, \"V\": wordnet.VERB, \"R\": wordnet.ADV}\n",
    "    return tag_dict.get(tag, wordnet.NOUN)\n",
    "\n",
    "tqdm.pandas()\n",
    "df['lemmatized_text'] = df['text'].progress_apply(lambda x: ' '.\n",
    "                                         join([lemmatizer.lemmatize(word, get_wordnet_pos(word))\\\n",
    "                                               for word in nltk.word_tokenize(x)]))"
   ]
  },
  {
   "cell_type": "code",
   "execution_count": 11,
   "metadata": {},
   "outputs": [
    {
     "data": {
      "text/html": [
       "<div>\n",
       "<style scoped>\n",
       "    .dataframe tbody tr th:only-of-type {\n",
       "        vertical-align: middle;\n",
       "    }\n",
       "\n",
       "    .dataframe tbody tr th {\n",
       "        vertical-align: top;\n",
       "    }\n",
       "\n",
       "    .dataframe thead th {\n",
       "        text-align: right;\n",
       "    }\n",
       "</style>\n",
       "<table border=\"1\" class=\"dataframe\">\n",
       "  <thead>\n",
       "    <tr style=\"text-align: right;\">\n",
       "      <th></th>\n",
       "      <th>original_text</th>\n",
       "      <th>text</th>\n",
       "      <th>toxic</th>\n",
       "      <th>lemmatized_text</th>\n",
       "    </tr>\n",
       "  </thead>\n",
       "  <tbody>\n",
       "    <tr>\n",
       "      <th>0</th>\n",
       "      <td>Explanation\\nWhy the edits made under my usern...</td>\n",
       "      <td>Explanation\\nWhy the edits made under my usern...</td>\n",
       "      <td>0</td>\n",
       "      <td>Explanation Why the edits make under my userna...</td>\n",
       "    </tr>\n",
       "    <tr>\n",
       "      <th>1</th>\n",
       "      <td>D'aww! He matches this background colour I'm s...</td>\n",
       "      <td>D'aww! He matches this background colour I'm s...</td>\n",
       "      <td>0</td>\n",
       "      <td>D'aww ! He match this background colour I 'm s...</td>\n",
       "    </tr>\n",
       "    <tr>\n",
       "      <th>2</th>\n",
       "      <td>Hey man, I'm really not trying to edit war. It...</td>\n",
       "      <td>Hey man, I'm really not trying to edit war. It...</td>\n",
       "      <td>0</td>\n",
       "      <td>Hey man , I 'm really not try to edit war . It...</td>\n",
       "    </tr>\n",
       "    <tr>\n",
       "      <th>3</th>\n",
       "      <td>\"\\nMore\\nI can't make any real suggestions on ...</td>\n",
       "      <td>\"\\nMore\\nI can't make any real suggestions on ...</td>\n",
       "      <td>0</td>\n",
       "      <td>`` More I ca n't make any real suggestion on i...</td>\n",
       "    </tr>\n",
       "    <tr>\n",
       "      <th>4</th>\n",
       "      <td>You, sir, are my hero. Any chance you remember...</td>\n",
       "      <td>You, sir, are my hero. Any chance you remember...</td>\n",
       "      <td>0</td>\n",
       "      <td>You , sir , be my hero . Any chance you rememb...</td>\n",
       "    </tr>\n",
       "  </tbody>\n",
       "</table>\n",
       "</div>"
      ],
      "text/plain": [
       "                                       original_text  \\\n",
       "0  Explanation\\nWhy the edits made under my usern...   \n",
       "1  D'aww! He matches this background colour I'm s...   \n",
       "2  Hey man, I'm really not trying to edit war. It...   \n",
       "3  \"\\nMore\\nI can't make any real suggestions on ...   \n",
       "4  You, sir, are my hero. Any chance you remember...   \n",
       "\n",
       "                                                text  toxic  \\\n",
       "0  Explanation\\nWhy the edits made under my usern...      0   \n",
       "1  D'aww! He matches this background colour I'm s...      0   \n",
       "2  Hey man, I'm really not trying to edit war. It...      0   \n",
       "3  \"\\nMore\\nI can't make any real suggestions on ...      0   \n",
       "4  You, sir, are my hero. Any chance you remember...      0   \n",
       "\n",
       "                                     lemmatized_text  \n",
       "0  Explanation Why the edits make under my userna...  \n",
       "1  D'aww ! He match this background colour I 'm s...  \n",
       "2  Hey man , I 'm really not try to edit war . It...  \n",
       "3  `` More I ca n't make any real suggestion on i...  \n",
       "4  You , sir , be my hero . Any chance you rememb...  "
      ]
     },
     "execution_count": 11,
     "metadata": {},
     "output_type": "execute_result"
    }
   ],
   "source": [
    "df.head()"
   ]
  },
  {
   "cell_type": "code",
   "execution_count": 12,
   "metadata": {},
   "outputs": [
    {
     "data": {
      "text/html": [
       "<div>\n",
       "<style scoped>\n",
       "    .dataframe tbody tr th:only-of-type {\n",
       "        vertical-align: middle;\n",
       "    }\n",
       "\n",
       "    .dataframe tbody tr th {\n",
       "        vertical-align: top;\n",
       "    }\n",
       "\n",
       "    .dataframe thead th {\n",
       "        text-align: right;\n",
       "    }\n",
       "</style>\n",
       "<table border=\"1\" class=\"dataframe\">\n",
       "  <thead>\n",
       "    <tr style=\"text-align: right;\">\n",
       "      <th></th>\n",
       "      <th>original_text</th>\n",
       "      <th>text</th>\n",
       "      <th>toxic</th>\n",
       "      <th>lemmatized_text</th>\n",
       "    </tr>\n",
       "  </thead>\n",
       "  <tbody>\n",
       "    <tr>\n",
       "      <th>0</th>\n",
       "      <td>Explanation\\nWhy the edits made under my usern...</td>\n",
       "      <td>Explanation\\nWhy the edits made under my usern...</td>\n",
       "      <td>0</td>\n",
       "      <td>Explanation Why the edits make under my userna...</td>\n",
       "    </tr>\n",
       "    <tr>\n",
       "      <th>1</th>\n",
       "      <td>D'aww! He matches this background colour I'm s...</td>\n",
       "      <td>D'aww! He matches this background colour I'm s...</td>\n",
       "      <td>0</td>\n",
       "      <td>D aww He match this background colour I m seem...</td>\n",
       "    </tr>\n",
       "    <tr>\n",
       "      <th>2</th>\n",
       "      <td>Hey man, I'm really not trying to edit war. It...</td>\n",
       "      <td>Hey man, I'm really not trying to edit war. It...</td>\n",
       "      <td>0</td>\n",
       "      <td>Hey man I m really not try to edit war It s ju...</td>\n",
       "    </tr>\n",
       "    <tr>\n",
       "      <th>3</th>\n",
       "      <td>\"\\nMore\\nI can't make any real suggestions on ...</td>\n",
       "      <td>\"\\nMore\\nI can't make any real suggestions on ...</td>\n",
       "      <td>0</td>\n",
       "      <td>More I ca n t make any real suggestion on impr...</td>\n",
       "    </tr>\n",
       "    <tr>\n",
       "      <th>4</th>\n",
       "      <td>You, sir, are my hero. Any chance you remember...</td>\n",
       "      <td>You, sir, are my hero. Any chance you remember...</td>\n",
       "      <td>0</td>\n",
       "      <td>You sir be my hero Any chance you remember wha...</td>\n",
       "    </tr>\n",
       "  </tbody>\n",
       "</table>\n",
       "</div>"
      ],
      "text/plain": [
       "                                       original_text  \\\n",
       "0  Explanation\\nWhy the edits made under my usern...   \n",
       "1  D'aww! He matches this background colour I'm s...   \n",
       "2  Hey man, I'm really not trying to edit war. It...   \n",
       "3  \"\\nMore\\nI can't make any real suggestions on ...   \n",
       "4  You, sir, are my hero. Any chance you remember...   \n",
       "\n",
       "                                                text  toxic  \\\n",
       "0  Explanation\\nWhy the edits made under my usern...      0   \n",
       "1  D'aww! He matches this background colour I'm s...      0   \n",
       "2  Hey man, I'm really not trying to edit war. It...      0   \n",
       "3  \"\\nMore\\nI can't make any real suggestions on ...      0   \n",
       "4  You, sir, are my hero. Any chance you remember...      0   \n",
       "\n",
       "                                     lemmatized_text  \n",
       "0  Explanation Why the edits make under my userna...  \n",
       "1  D aww He match this background colour I m seem...  \n",
       "2  Hey man I m really not try to edit war It s ju...  \n",
       "3  More I ca n t make any real suggestion on impr...  \n",
       "4  You sir be my hero Any chance you remember wha...  "
      ]
     },
     "execution_count": 12,
     "metadata": {},
     "output_type": "execute_result"
    }
   ],
   "source": [
    "df['lemmatized_text'] = df['lemmatized_text'].apply(lambda x: \" \".join(re.sub(r'[^a-zA-Z ]', ' ', x).split()))\n",
    "df.head()"
   ]
  },
  {
   "cell_type": "markdown",
   "metadata": {},
   "source": [
    "**Предварительно, обработанный текст уберём в отдельный столбец**"
   ]
  },
  {
   "cell_type": "markdown",
   "metadata": {},
   "source": [
    "**Разделяем данные**\n",
    "\n",
    "Разделим данные на 3 выборки: обучающую, валидационную и тестовую"
   ]
  },
  {
   "cell_type": "code",
   "execution_count": 13,
   "metadata": {},
   "outputs": [],
   "source": [
    "features = df['lemmatized_text']\n",
    "target = df['toxic']"
   ]
  },
  {
   "cell_type": "code",
   "execution_count": 14,
   "metadata": {},
   "outputs": [
    {
     "name": "stdout",
     "output_type": "stream",
     "text": [
      "X_train: (79646,)\n",
      "X_test: (39823,)\n",
      "X_valid: (39823,)\n",
      "\n",
      "y_train: (79646,)\n",
      "y_test: (39823,)\n",
      "y_valid: (39823,)\n"
     ]
    }
   ],
   "source": [
    "X_train, X, y_train, y = train_test_split(features,\n",
    "                                          target,\n",
    "                                          test_size=0.5,\n",
    "                                          random_state=42)\n",
    "\n",
    "X_test, X_valid, y_test, y_valid = train_test_split(X,\n",
    "                                                    y,\n",
    "                                                    test_size=0.5,\n",
    "                                                    random_state=42)\n",
    "\n",
    "print(f'X_train: {X_train.shape}\\n' \n",
    "      f'X_test: {X_test.shape}\\n'\n",
    "      f'X_valid: {X_valid.shape}\\n'\n",
    "      f'\\n'\n",
    "      f'y_train: {y_train.shape}\\n'\n",
    "      f'y_test: {y_test.shape}\\n'\n",
    "      f'y_valid: {y_valid.shape}')"
   ]
  },
  {
   "cell_type": "code",
   "execution_count": 15,
   "metadata": {},
   "outputs": [],
   "source": [
    "stop_words = set(stopwords.words('english'))"
   ]
  },
  {
   "cell_type": "code",
   "execution_count": 37,
   "metadata": {},
   "outputs": [],
   "source": [
    "TF_IDF_vec = TfidfVectorizer(\n",
    "    ngram_range=(1, 1),\n",
    "    stop_words=stop_words,\n",
    "    smooth_idf=2, \n",
    "    sublinear_tf=2\n",
    ")"
   ]
  },
  {
   "cell_type": "code",
   "execution_count": 38,
   "metadata": {},
   "outputs": [],
   "source": [
    "TF_IDF_vec.fit(X_train)\n",
    "\n",
    "X_train_vectorized = TF_IDF_vec.transform(X_train)\n",
    "X_test_vectorized = TF_IDF_vec.transform(X_test)\n",
    "X_valid_vectorized = TF_IDF_vec.transform(X_valid)"
   ]
  },
  {
   "cell_type": "code",
   "execution_count": 35,
   "metadata": {},
   "outputs": [
    {
     "name": "stdout",
     "output_type": "stream",
     "text": [
      "X_train: (79646, 106079)\n",
      "X_test: (39823, 106079)\n",
      "X_valid: (39823, 106079)\n"
     ]
    }
   ],
   "source": [
    "print(f'X_train: {X_train_vectorized.shape}\\n' \n",
    "      f'X_test: {X_test_vectorized.shape}\\n'\n",
    "      f'X_valid: {X_valid_vectorized.shape}')"
   ]
  },
  {
   "cell_type": "markdown",
   "metadata": {},
   "source": [
    "## Обучение"
   ]
  },
  {
   "cell_type": "markdown",
   "metadata": {},
   "source": [
    "### Выбор модели"
   ]
  },
  {
   "cell_type": "markdown",
   "metadata": {},
   "source": [
    "Так как мы решаем задачу классификации, нужно посмотреть на баланс классов"
   ]
  },
  {
   "cell_type": "code",
   "execution_count": 19,
   "metadata": {},
   "outputs": [
    {
     "name": "stdout",
     "output_type": "stream",
     "text": [
      "11.310497114027365 %\n"
     ]
    }
   ],
   "source": [
    "pos = df.query('toxic == 0').shape\n",
    "neg = df.query('toxic == 1').shape\n",
    "\n",
    "difference = (100 / pos[0]) * neg[0]\n",
    "print(f'{difference} %')"
   ]
  },
  {
   "cell_type": "markdown",
   "metadata": {},
   "source": [
    "Позитивные и негативные комментарии соотносятся почти 9:1"
   ]
  },
  {
   "cell_type": "markdown",
   "metadata": {},
   "source": [
    "Для подбора оптимальной модели дерева и леса напишем класс OptimalModel\n",
    "\n",
    "Принципы ООП оптимизируют процесс поиска лучших моделей:\n",
    "\n",
    "- **Абстракция.** Класс абстрагирует концепцию оптимальных моделей от конкретной реализации. Он предоставляет абстрактный интерфейс для работы с моделями\n",
    "- **Полиморфизм.** В коде используются методы decision_tree и random_forest, которые предоставляют одинаковый интерфейс для работы с разными моделями машинного обучения\n",
    "- **Инкапсуляция.** Атрибуты X_valid и y_valid и методы decision_tree и random_forest объединены в одном объекте. Данные и методы для работы с ними объединены внутри класса без доступа клиента (внешнего кода)\n",
    "\n",
    "\n",
    "\n",
    "На выходе мы получим топ 5 моделей"
   ]
  },
  {
   "cell_type": "code",
   "execution_count": 20,
   "metadata": {},
   "outputs": [],
   "source": [
    "class OptimalModel:\n",
    "    def __init__(self, X_train, X_valid, y_train, y_valid):\n",
    "        self.X_train = X_train\n",
    "        self.X_valid = X_valid\n",
    "        self.y_train = y_train\n",
    "        self.y_valid = y_valid\n",
    "        \n",
    "    def decision_tree(self):\n",
    "        metrics = pd.DataFrame(columns=['depth', 'f1_score'])\n",
    "        \n",
    "        for i in range(1, 11):\n",
    "            model = DecisionTreeClassifier(max_depth=i,\n",
    "                                           random_state=42,\n",
    "                                           class_weight={0: 1.131, 1: 8.869})\n",
    "            model.fit(self.X_train, self.y_train)\n",
    "            y_pred = model.predict(self.X_valid)\n",
    "            f1 = f1_score(self.y_valid, y_pred)\n",
    "            \n",
    "            metrics = metrics.append({\n",
    "                'depth': i,\n",
    "                'f1_score': f1\n",
    "            }, ignore_index=True)\n",
    "            \n",
    "        return metrics.sort_values(by='f1_score', ascending=False).head()\n",
    "    \n",
    "    def random_forest(self):\n",
    "        metrics = pd.DataFrame(columns=['depth', 'estimators', 'f1_score'])\n",
    "        \n",
    "        for i in range(1, 11):\n",
    "            for j in range(1, 11):\n",
    "                model = RandomForestClassifier(max_depth=i,\n",
    "                                               n_estimators=j,\n",
    "                                               random_state=42,\n",
    "                                               class_weight={0: 1.131, 1: 8.869})\n",
    "                model.fit(self.X_train, self.y_train)\n",
    "                y_pred = model.predict(self.X_valid)\n",
    "                f1 = f1_score(self.y_valid, y_pred)\n",
    "                \n",
    "                metrics = metrics.append({\n",
    "                    'depth': i,\n",
    "                    'estimators': j,\n",
    "                    'f1_score': f1\n",
    "                }, ignore_index=True)\n",
    "                \n",
    "        return metrics.sort_values(by='f1_score', ascending=False).head()"
   ]
  },
  {
   "cell_type": "code",
   "execution_count": 21,
   "metadata": {},
   "outputs": [],
   "source": [
    "optimal_model = OptimalModel(X_train_vectorized,\n",
    "                             X_valid_vectorized,\n",
    "                             y_train,\n",
    "                             y_valid)"
   ]
  },
  {
   "cell_type": "markdown",
   "metadata": {},
   "source": [
    "#### Константная модель"
   ]
  },
  {
   "cell_type": "code",
   "execution_count": 22,
   "metadata": {},
   "outputs": [
    {
     "name": "stdout",
     "output_type": "stream",
     "text": [
      "CPU times: user 8.28 ms, sys: 7.31 ms, total: 15.6 ms\n",
      "Wall time: 14.1 ms\n"
     ]
    },
    {
     "data": {
      "text/plain": [
       "0.0"
      ]
     },
     "execution_count": 22,
     "metadata": {},
     "output_type": "execute_result"
    }
   ],
   "source": [
    "%%time\n",
    "const_model = DummyClassifier()\n",
    "const_model.fit(X_train_vectorized, y_train)\n",
    "y_pred_const = const_model.predict(X_valid_vectorized)\n",
    "const_f1 = f1_score(y_valid, y_pred_const)\n",
    "const_f1"
   ]
  },
  {
   "cell_type": "markdown",
   "metadata": {},
   "source": [
    "#### Логистическая регрессия"
   ]
  },
  {
   "cell_type": "code",
   "execution_count": 50,
   "metadata": {},
   "outputs": [
    {
     "name": "stdout",
     "output_type": "stream",
     "text": [
      "CPU times: user 1.32 s, sys: 24.4 ms, total: 1.35 s\n",
      "Wall time: 1.35 s\n"
     ]
    },
    {
     "data": {
      "text/plain": [
       "0.7585976627712856"
      ]
     },
     "execution_count": 50,
     "metadata": {},
     "output_type": "execute_result"
    }
   ],
   "source": [
    "%%time\n",
    "model_reg = LogisticRegression(\n",
    "    random_state=12345,\n",
    "    solver='liblinear',\n",
    "    class_weight={0: 1.131, 1: 8.869},\n",
    "    penalty='l1'\n",
    ")\n",
    "model_reg.fit(X_train_vectorized, y_train)\n",
    "y_pred_reg = model_reg.predict(X_valid_vectorized)\n",
    "reg_f1 = f1_score(y_valid, y_pred_reg)\n",
    "reg_f1"
   ]
  },
  {
   "cell_type": "markdown",
   "metadata": {},
   "source": [
    "#### Дерево решений"
   ]
  },
  {
   "cell_type": "code",
   "execution_count": 24,
   "metadata": {},
   "outputs": [
    {
     "name": "stdout",
     "output_type": "stream",
     "text": [
      "CPU times: user 21.5 s, sys: 13.6 ms, total: 21.5 s\n",
      "Wall time: 21.5 s\n"
     ]
    },
    {
     "data": {
      "text/html": [
       "<div>\n",
       "<style scoped>\n",
       "    .dataframe tbody tr th:only-of-type {\n",
       "        vertical-align: middle;\n",
       "    }\n",
       "\n",
       "    .dataframe tbody tr th {\n",
       "        vertical-align: top;\n",
       "    }\n",
       "\n",
       "    .dataframe thead th {\n",
       "        text-align: right;\n",
       "    }\n",
       "</style>\n",
       "<table border=\"1\" class=\"dataframe\">\n",
       "  <thead>\n",
       "    <tr style=\"text-align: right;\">\n",
       "      <th></th>\n",
       "      <th>depth</th>\n",
       "      <th>f1_score</th>\n",
       "    </tr>\n",
       "  </thead>\n",
       "  <tbody>\n",
       "    <tr>\n",
       "      <th>9</th>\n",
       "      <td>10.0</td>\n",
       "      <td>0.577913</td>\n",
       "    </tr>\n",
       "    <tr>\n",
       "      <th>8</th>\n",
       "      <td>9.0</td>\n",
       "      <td>0.562691</td>\n",
       "    </tr>\n",
       "    <tr>\n",
       "      <th>7</th>\n",
       "      <td>8.0</td>\n",
       "      <td>0.553375</td>\n",
       "    </tr>\n",
       "    <tr>\n",
       "      <th>6</th>\n",
       "      <td>7.0</td>\n",
       "      <td>0.536585</td>\n",
       "    </tr>\n",
       "    <tr>\n",
       "      <th>5</th>\n",
       "      <td>6.0</td>\n",
       "      <td>0.535159</td>\n",
       "    </tr>\n",
       "  </tbody>\n",
       "</table>\n",
       "</div>"
      ],
      "text/plain": [
       "   depth  f1_score\n",
       "9   10.0  0.577913\n",
       "8    9.0  0.562691\n",
       "7    8.0  0.553375\n",
       "6    7.0  0.536585\n",
       "5    6.0  0.535159"
      ]
     },
     "execution_count": 24,
     "metadata": {},
     "output_type": "execute_result"
    }
   ],
   "source": [
    "%%time\n",
    "optimal_model.decision_tree()"
   ]
  },
  {
   "cell_type": "markdown",
   "metadata": {},
   "source": [
    "#### Случайный лес"
   ]
  },
  {
   "cell_type": "code",
   "execution_count": 25,
   "metadata": {
    "scrolled": true
   },
   "outputs": [
    {
     "name": "stdout",
     "output_type": "stream",
     "text": [
      "CPU times: user 24.3 s, sys: 37.9 ms, total: 24.3 s\n",
      "Wall time: 24.3 s\n"
     ]
    },
    {
     "data": {
      "text/html": [
       "<div>\n",
       "<style scoped>\n",
       "    .dataframe tbody tr th:only-of-type {\n",
       "        vertical-align: middle;\n",
       "    }\n",
       "\n",
       "    .dataframe tbody tr th {\n",
       "        vertical-align: top;\n",
       "    }\n",
       "\n",
       "    .dataframe thead th {\n",
       "        text-align: right;\n",
       "    }\n",
       "</style>\n",
       "<table border=\"1\" class=\"dataframe\">\n",
       "  <thead>\n",
       "    <tr style=\"text-align: right;\">\n",
       "      <th></th>\n",
       "      <th>depth</th>\n",
       "      <th>estimators</th>\n",
       "      <th>f1_score</th>\n",
       "    </tr>\n",
       "  </thead>\n",
       "  <tbody>\n",
       "    <tr>\n",
       "      <th>99</th>\n",
       "      <td>10.0</td>\n",
       "      <td>10.0</td>\n",
       "      <td>0.379930</td>\n",
       "    </tr>\n",
       "    <tr>\n",
       "      <th>89</th>\n",
       "      <td>9.0</td>\n",
       "      <td>10.0</td>\n",
       "      <td>0.365927</td>\n",
       "    </tr>\n",
       "    <tr>\n",
       "      <th>98</th>\n",
       "      <td>10.0</td>\n",
       "      <td>9.0</td>\n",
       "      <td>0.358213</td>\n",
       "    </tr>\n",
       "    <tr>\n",
       "      <th>97</th>\n",
       "      <td>10.0</td>\n",
       "      <td>8.0</td>\n",
       "      <td>0.354497</td>\n",
       "    </tr>\n",
       "    <tr>\n",
       "      <th>79</th>\n",
       "      <td>8.0</td>\n",
       "      <td>10.0</td>\n",
       "      <td>0.344011</td>\n",
       "    </tr>\n",
       "  </tbody>\n",
       "</table>\n",
       "</div>"
      ],
      "text/plain": [
       "    depth  estimators  f1_score\n",
       "99   10.0        10.0  0.379930\n",
       "89    9.0        10.0  0.365927\n",
       "98   10.0         9.0  0.358213\n",
       "97   10.0         8.0  0.354497\n",
       "79    8.0        10.0  0.344011"
      ]
     },
     "execution_count": 25,
     "metadata": {},
     "output_type": "execute_result"
    }
   ],
   "source": [
    "%%time\n",
    "optimal_model.random_forest()"
   ]
  },
  {
   "cell_type": "markdown",
   "metadata": {},
   "source": [
    "#### Градиентный бустинг"
   ]
  },
  {
   "cell_type": "code",
   "execution_count": 26,
   "metadata": {},
   "outputs": [
    {
     "name": "stdout",
     "output_type": "stream",
     "text": [
      "Learning rate set to 0.5\n",
      "0:\tlearn: 0.5590003\ttotal: 2.33s\tremaining: 2m 17s\n",
      "1:\tlearn: 0.5200435\ttotal: 4.69s\tremaining: 2m 16s\n",
      "2:\tlearn: 0.4911288\ttotal: 7.03s\tremaining: 2m 13s\n",
      "3:\tlearn: 0.4633091\ttotal: 9.34s\tremaining: 2m 10s\n",
      "4:\tlearn: 0.4473536\ttotal: 11.6s\tremaining: 2m 8s\n",
      "5:\tlearn: 0.4365438\ttotal: 13.9s\tremaining: 2m 5s\n",
      "6:\tlearn: 0.4245652\ttotal: 16.1s\tremaining: 2m 1s\n",
      "7:\tlearn: 0.4152895\ttotal: 18.3s\tremaining: 1m 58s\n",
      "8:\tlearn: 0.4069288\ttotal: 20.6s\tremaining: 1m 56s\n",
      "9:\tlearn: 0.3984782\ttotal: 22.8s\tremaining: 1m 54s\n",
      "10:\tlearn: 0.3939282\ttotal: 25s\tremaining: 1m 51s\n",
      "11:\tlearn: 0.3894658\ttotal: 27.2s\tremaining: 1m 48s\n",
      "12:\tlearn: 0.3848641\ttotal: 29.5s\tremaining: 1m 46s\n",
      "13:\tlearn: 0.3813708\ttotal: 31.7s\tremaining: 1m 44s\n",
      "14:\tlearn: 0.3769525\ttotal: 33.9s\tremaining: 1m 41s\n",
      "15:\tlearn: 0.3722915\ttotal: 36.2s\tremaining: 1m 39s\n",
      "16:\tlearn: 0.3693178\ttotal: 38.4s\tremaining: 1m 37s\n",
      "17:\tlearn: 0.3662761\ttotal: 40.6s\tremaining: 1m 34s\n",
      "18:\tlearn: 0.3626146\ttotal: 42.8s\tremaining: 1m 32s\n",
      "19:\tlearn: 0.3589534\ttotal: 45s\tremaining: 1m 29s\n",
      "20:\tlearn: 0.3554824\ttotal: 47.2s\tremaining: 1m 27s\n",
      "21:\tlearn: 0.3513038\ttotal: 49.3s\tremaining: 1m 25s\n",
      "22:\tlearn: 0.3478783\ttotal: 51.5s\tremaining: 1m 22s\n",
      "23:\tlearn: 0.3439240\ttotal: 53.8s\tremaining: 1m 20s\n",
      "24:\tlearn: 0.3404385\ttotal: 56s\tremaining: 1m 18s\n",
      "25:\tlearn: 0.3371502\ttotal: 58.2s\tremaining: 1m 16s\n",
      "26:\tlearn: 0.3334119\ttotal: 1m\tremaining: 1m 13s\n",
      "27:\tlearn: 0.3302687\ttotal: 1m 2s\tremaining: 1m 11s\n",
      "28:\tlearn: 0.3273032\ttotal: 1m 4s\tremaining: 1m 9s\n",
      "29:\tlearn: 0.3230981\ttotal: 1m 7s\tremaining: 1m 7s\n",
      "30:\tlearn: 0.3204595\ttotal: 1m 9s\tremaining: 1m 4s\n",
      "31:\tlearn: 0.3176973\ttotal: 1m 11s\tremaining: 1m 2s\n",
      "32:\tlearn: 0.3149785\ttotal: 1m 13s\tremaining: 1m\n",
      "33:\tlearn: 0.3124481\ttotal: 1m 15s\tremaining: 58.1s\n",
      "34:\tlearn: 0.3098204\ttotal: 1m 18s\tremaining: 55.9s\n",
      "35:\tlearn: 0.3061386\ttotal: 1m 20s\tremaining: 53.7s\n",
      "36:\tlearn: 0.3029302\ttotal: 1m 22s\tremaining: 51.5s\n",
      "37:\tlearn: 0.3003044\ttotal: 1m 25s\tremaining: 49.3s\n",
      "38:\tlearn: 0.2983459\ttotal: 1m 27s\tremaining: 47.1s\n",
      "39:\tlearn: 0.2965749\ttotal: 1m 29s\tremaining: 44.8s\n",
      "40:\tlearn: 0.2943219\ttotal: 1m 31s\tremaining: 42.6s\n",
      "41:\tlearn: 0.2918843\ttotal: 1m 34s\tremaining: 40.4s\n",
      "42:\tlearn: 0.2899271\ttotal: 1m 36s\tremaining: 38.1s\n",
      "43:\tlearn: 0.2881973\ttotal: 1m 38s\tremaining: 35.8s\n",
      "44:\tlearn: 0.2863300\ttotal: 1m 40s\tremaining: 33.6s\n",
      "45:\tlearn: 0.2843373\ttotal: 1m 43s\tremaining: 31.4s\n",
      "46:\tlearn: 0.2822984\ttotal: 1m 45s\tremaining: 29.1s\n",
      "47:\tlearn: 0.2803531\ttotal: 1m 47s\tremaining: 26.9s\n",
      "48:\tlearn: 0.2790055\ttotal: 1m 49s\tremaining: 24.6s\n",
      "49:\tlearn: 0.2777136\ttotal: 1m 51s\tremaining: 22.4s\n",
      "50:\tlearn: 0.2760169\ttotal: 1m 54s\tremaining: 20.1s\n",
      "51:\tlearn: 0.2747765\ttotal: 1m 56s\tremaining: 17.9s\n",
      "52:\tlearn: 0.2726462\ttotal: 1m 58s\tremaining: 15.7s\n",
      "53:\tlearn: 0.2701378\ttotal: 2m\tremaining: 13.4s\n",
      "54:\tlearn: 0.2685716\ttotal: 2m 3s\tremaining: 11.2s\n",
      "55:\tlearn: 0.2672632\ttotal: 2m 5s\tremaining: 8.95s\n",
      "56:\tlearn: 0.2654876\ttotal: 2m 7s\tremaining: 6.71s\n",
      "57:\tlearn: 0.2639557\ttotal: 2m 9s\tremaining: 4.47s\n",
      "58:\tlearn: 0.2622139\ttotal: 2m 11s\tremaining: 2.23s\n",
      "59:\tlearn: 0.2605071\ttotal: 2m 13s\tremaining: 0us\n"
     ]
    },
    {
     "data": {
      "text/plain": [
       "0.7321225879682179"
      ]
     },
     "execution_count": 26,
     "metadata": {},
     "output_type": "execute_result"
    }
   ],
   "source": [
    "boost_model = CatBoostClassifier(iterations=60,\n",
    "                                 random_state=42,\n",
    "                                 class_weights={0: 1.131, 1: 8.869})\n",
    "boost_model.set_params(loss_function='Logloss')\n",
    "boost_model.fit(X_train_vectorized, y_train)\n",
    "y_pred_boost = boost_model.predict(X_valid_vectorized)\n",
    "f1_boost = f1_score(y_valid, y_pred_boost)\n",
    "f1_boost"
   ]
  },
  {
   "cell_type": "markdown",
   "metadata": {},
   "source": [
    "**Вывод**\n",
    "\n",
    "Из всех моделей нам подошла только логистическая регрессия"
   ]
  },
  {
   "cell_type": "markdown",
   "metadata": {},
   "source": [
    "### Тестирование модели"
   ]
  },
  {
   "cell_type": "code",
   "execution_count": 51,
   "metadata": {},
   "outputs": [
    {
     "name": "stdout",
     "output_type": "stream",
     "text": [
      "CPU times: user 1.26 s, sys: 23.9 ms, total: 1.28 s\n",
      "Wall time: 1.28 s\n"
     ]
    },
    {
     "data": {
      "text/plain": [
       "0.7504059382973788"
      ]
     },
     "execution_count": 51,
     "metadata": {},
     "output_type": "execute_result"
    }
   ],
   "source": [
    "%%time\n",
    "test_model = LogisticRegression(\n",
    "    random_state=12345,\n",
    "    solver='liblinear',\n",
    "    class_weight={0: 1.131, 1: 8.869},\n",
    "    penalty='l1'\n",
    ")\n",
    "\n",
    "test_model.fit(X_train_vectorized, y_train)\n",
    "y_pred = test_model.predict(X_test_vectorized)\n",
    "f1 = f1_score(y_test, y_pred)\n",
    "f1"
   ]
  },
  {
   "cell_type": "code",
   "execution_count": 52,
   "metadata": {},
   "outputs": [
    {
     "name": "stdout",
     "output_type": "stream",
     "text": [
      "Метрика на валидационной выборке: 0.759\n",
      "Метрика на тестовой выборке: 0.75\n"
     ]
    }
   ],
   "source": [
    "print(f'Метрика на валидационной выборке: {reg_f1.__round__(3)}\\n'\n",
    "      f'Метрика на тестовой выборке: {f1.__round__(3)}')"
   ]
  },
  {
   "cell_type": "markdown",
   "metadata": {},
   "source": [
    "**Вывод**\n",
    "\n",
    "- Мы обучили на получившихся данных 5 типов моделей: константную модель, логистическюу регрессию, дерево решений, случайный лес, градиентный бустинг\n",
    "- За ключевую метрику была взята F1 мера больше 0.75\n",
    "- Оптимальной моделью с метрикой больше 0.75 оказалась логистическая регрессия\n",
    "- На тестовой выборке модель была проверена на переобучаемость: модель не склонна к переобучению"
   ]
  },
  {
   "cell_type": "markdown",
   "metadata": {},
   "source": [
    "## Выводы"
   ]
  },
  {
   "cell_type": "markdown",
   "metadata": {},
   "source": [
    "**Общий вывод**\n",
    "\n",
    "- Были проанализированы и обработаны данные по твитам пользователей\n",
    "- Данные необходимо было предобработать: удалить лишнее поле, лемматизировать текст и убрать из него лишние символы\n",
    "- Тексты было необходимо перевести в векторный вид\n",
    "- Получившиеся данные сформировали датасет для обучения\n",
    "- Были опробированы 5 алгоритмов машинного обучения\n",
    "    - DummyClassifier - 0.0\n",
    "    - LogisticRegression - 0.752\n",
    "    - DecisionTreeClassifier - 0.562\n",
    "    - RandomForestClassifier - 0.327\n",
    "    - CatboostClassifier - 0.727\n",
    "- Оптимальную метрику демонстрирует модель логистической регрессии\n",
    "- Итоговая модель не склонна к переобучению: показывает 0.762 на валидационной выборке и 0.753 на тестовой, что выше метрики, указанной в ТЗ"
   ]
  }
 ],
 "metadata": {
  "ExecuteTimeLog": [
   {
    "duration": 1707,
    "start_time": "2023-10-11T18:01:57.250Z"
   },
   {
    "duration": 4421,
    "start_time": "2023-10-12T03:51:01.881Z"
   },
   {
    "duration": 160,
    "start_time": "2023-10-12T03:51:08.737Z"
   },
   {
    "duration": 2631,
    "start_time": "2023-10-12T03:51:49.698Z"
   },
   {
    "duration": 946,
    "start_time": "2023-10-12T03:51:57.617Z"
   },
   {
    "duration": 12,
    "start_time": "2023-10-12T03:52:26.011Z"
   },
   {
    "duration": 9,
    "start_time": "2023-10-12T03:52:44.110Z"
   },
   {
    "duration": 9,
    "start_time": "2023-10-12T03:52:50.872Z"
   },
   {
    "duration": 7,
    "start_time": "2023-10-12T03:53:30.206Z"
   },
   {
    "duration": 887,
    "start_time": "2023-10-12T03:54:05.372Z"
   },
   {
    "duration": 902,
    "start_time": "2023-10-12T03:54:15.024Z"
   },
   {
    "duration": 907,
    "start_time": "2023-10-12T03:56:16.118Z"
   },
   {
    "duration": 291,
    "start_time": "2023-10-12T03:56:47.610Z"
   },
   {
    "duration": 17,
    "start_time": "2023-10-12T03:57:05.906Z"
   },
   {
    "duration": 32,
    "start_time": "2023-10-12T03:58:52.751Z"
   },
   {
    "duration": 17,
    "start_time": "2023-10-12T03:59:28.801Z"
   },
   {
    "duration": 17,
    "start_time": "2023-10-12T03:59:39.400Z"
   },
   {
    "duration": 18,
    "start_time": "2023-10-12T04:03:01.190Z"
   },
   {
    "duration": 24,
    "start_time": "2023-10-12T04:03:05.852Z"
   },
   {
    "duration": 55,
    "start_time": "2023-10-12T04:03:47.050Z"
   },
   {
    "duration": 3804,
    "start_time": "2023-10-12T04:06:13.836Z"
   },
   {
    "duration": 3496,
    "start_time": "2023-10-12T04:06:25.438Z"
   },
   {
    "duration": 19,
    "start_time": "2023-10-12T04:06:59.908Z"
   },
   {
    "duration": 5,
    "start_time": "2023-10-12T04:07:02.983Z"
   },
   {
    "duration": 8539,
    "start_time": "2023-10-12T04:09:35.609Z"
   },
   {
    "duration": 429,
    "start_time": "2023-10-12T04:09:48.480Z"
   },
   {
    "duration": 3641,
    "start_time": "2023-10-12T04:10:02.516Z"
   },
   {
    "duration": 216,
    "start_time": "2023-10-12T04:10:06.159Z"
   },
   {
    "duration": 1081,
    "start_time": "2023-10-12T04:10:06.377Z"
   },
   {
    "duration": 16,
    "start_time": "2023-10-12T04:10:07.460Z"
   },
   {
    "duration": 51,
    "start_time": "2023-10-12T04:10:07.479Z"
   },
   {
    "duration": 17,
    "start_time": "2023-10-12T04:10:07.532Z"
   },
   {
    "duration": 19,
    "start_time": "2023-10-12T04:10:07.552Z"
   },
   {
    "duration": 95,
    "start_time": "2023-10-12T04:10:07.573Z"
   },
   {
    "duration": 3822,
    "start_time": "2023-10-12T04:10:07.670Z"
   },
   {
    "duration": 8728,
    "start_time": "2023-10-12T04:10:11.502Z"
   },
   {
    "duration": 3444,
    "start_time": "2023-10-12T04:10:37.488Z"
   },
   {
    "duration": 207,
    "start_time": "2023-10-12T04:10:40.934Z"
   },
   {
    "duration": 941,
    "start_time": "2023-10-12T04:10:41.143Z"
   },
   {
    "duration": 25,
    "start_time": "2023-10-12T04:10:42.087Z"
   },
   {
    "duration": 34,
    "start_time": "2023-10-12T04:10:42.115Z"
   },
   {
    "duration": 32,
    "start_time": "2023-10-12T04:10:42.151Z"
   },
   {
    "duration": 28,
    "start_time": "2023-10-12T04:10:42.184Z"
   },
   {
    "duration": 75,
    "start_time": "2023-10-12T04:10:42.213Z"
   },
   {
    "duration": 3882,
    "start_time": "2023-10-12T04:10:42.289Z"
   },
   {
    "duration": 2700,
    "start_time": "2023-10-12T04:10:46.173Z"
   },
   {
    "duration": 3324,
    "start_time": "2023-10-12T04:11:18.144Z"
   },
   {
    "duration": 216,
    "start_time": "2023-10-12T04:11:21.470Z"
   },
   {
    "duration": 986,
    "start_time": "2023-10-12T04:11:21.688Z"
   },
   {
    "duration": 27,
    "start_time": "2023-10-12T04:11:22.676Z"
   },
   {
    "duration": 53,
    "start_time": "2023-10-12T04:11:22.706Z"
   },
   {
    "duration": 37,
    "start_time": "2023-10-12T04:11:22.761Z"
   },
   {
    "duration": 74,
    "start_time": "2023-10-12T04:11:22.800Z"
   },
   {
    "duration": 156,
    "start_time": "2023-10-12T04:11:22.876Z"
   },
   {
    "duration": 3813,
    "start_time": "2023-10-12T04:11:23.033Z"
   },
   {
    "duration": 4,
    "start_time": "2023-10-12T04:11:26.847Z"
   },
   {
    "duration": 19,
    "start_time": "2023-10-12T04:12:53.619Z"
   },
   {
    "duration": 3,
    "start_time": "2023-10-12T04:14:18.018Z"
   },
   {
    "duration": 76312,
    "start_time": "2023-10-12T04:15:14.110Z"
   },
   {
    "duration": 9,
    "start_time": "2023-10-12T04:18:14.783Z"
   },
   {
    "duration": 7,
    "start_time": "2023-10-12T04:18:26.248Z"
   },
   {
    "duration": 7,
    "start_time": "2023-10-12T04:18:34.747Z"
   },
   {
    "duration": 10,
    "start_time": "2023-10-12T04:18:41.013Z"
   },
   {
    "duration": 3498,
    "start_time": "2023-10-12T04:19:02.050Z"
   },
   {
    "duration": 221,
    "start_time": "2023-10-12T04:19:05.551Z"
   },
   {
    "duration": 948,
    "start_time": "2023-10-12T04:19:05.774Z"
   },
   {
    "duration": 15,
    "start_time": "2023-10-12T04:19:06.725Z"
   },
   {
    "duration": 50,
    "start_time": "2023-10-12T04:19:06.742Z"
   },
   {
    "duration": 32,
    "start_time": "2023-10-12T04:19:06.794Z"
   },
   {
    "duration": 45,
    "start_time": "2023-10-12T04:19:06.828Z"
   },
   {
    "duration": 86,
    "start_time": "2023-10-12T04:19:06.875Z"
   },
   {
    "duration": 3801,
    "start_time": "2023-10-12T04:19:06.963Z"
   },
   {
    "duration": 4,
    "start_time": "2023-10-12T04:19:10.766Z"
   },
   {
    "duration": 8,
    "start_time": "2023-10-12T04:19:23.249Z"
   },
   {
    "duration": 3,
    "start_time": "2023-10-12T04:19:47.741Z"
   },
   {
    "duration": 35987,
    "start_time": "2023-10-12T04:20:04.531Z"
   },
   {
    "duration": 8,
    "start_time": "2023-10-12T04:20:49.871Z"
   },
   {
    "duration": 3746,
    "start_time": "2023-10-12T04:26:31.131Z"
   },
   {
    "duration": 247,
    "start_time": "2023-10-12T04:26:34.879Z"
   },
   {
    "duration": 938,
    "start_time": "2023-10-12T04:26:35.128Z"
   },
   {
    "duration": 15,
    "start_time": "2023-10-12T04:26:36.068Z"
   },
   {
    "duration": 68,
    "start_time": "2023-10-12T04:26:36.086Z"
   },
   {
    "duration": 71,
    "start_time": "2023-10-12T04:26:36.157Z"
   },
   {
    "duration": 87,
    "start_time": "2023-10-12T04:26:36.229Z"
   },
   {
    "duration": 251,
    "start_time": "2023-10-12T04:26:36.319Z"
   },
   {
    "duration": 4394,
    "start_time": "2023-10-12T04:26:36.572Z"
   },
   {
    "duration": 769,
    "start_time": "2023-10-12T04:26:40.968Z"
   },
   {
    "duration": 0,
    "start_time": "2023-10-12T04:26:41.739Z"
   },
   {
    "duration": 0,
    "start_time": "2023-10-12T04:26:41.740Z"
   },
   {
    "duration": 0,
    "start_time": "2023-10-12T04:26:41.742Z"
   },
   {
    "duration": 0,
    "start_time": "2023-10-12T04:26:41.743Z"
   },
   {
    "duration": 115660,
    "start_time": "2023-10-12T04:26:51.496Z"
   },
   {
    "duration": 6,
    "start_time": "2023-10-12T04:28:59.132Z"
   },
   {
    "duration": 15,
    "start_time": "2023-10-12T04:29:07.199Z"
   },
   {
    "duration": 510,
    "start_time": "2023-10-12T04:29:21.854Z"
   },
   {
    "duration": 558,
    "start_time": "2023-10-12T04:31:01.221Z"
   },
   {
    "duration": 3725,
    "start_time": "2023-10-12T04:31:26.532Z"
   },
   {
    "duration": 140,
    "start_time": "2023-10-12T04:31:30.259Z"
   },
   {
    "duration": 1051,
    "start_time": "2023-10-12T04:31:30.400Z"
   },
   {
    "duration": 15,
    "start_time": "2023-10-12T04:31:31.452Z"
   },
   {
    "duration": 79,
    "start_time": "2023-10-12T04:31:31.469Z"
   },
   {
    "duration": 43,
    "start_time": "2023-10-12T04:31:31.550Z"
   },
   {
    "duration": 38,
    "start_time": "2023-10-12T04:31:31.595Z"
   },
   {
    "duration": 136,
    "start_time": "2023-10-12T04:31:31.635Z"
   },
   {
    "duration": 4386,
    "start_time": "2023-10-12T04:31:31.773Z"
   },
   {
    "duration": 117500,
    "start_time": "2023-10-12T04:31:36.161Z"
   },
   {
    "duration": 327,
    "start_time": "2023-10-12T04:33:33.663Z"
   },
   {
    "duration": 0,
    "start_time": "2023-10-12T04:33:33.992Z"
   },
   {
    "duration": 0,
    "start_time": "2023-10-12T04:33:33.993Z"
   },
   {
    "duration": 0,
    "start_time": "2023-10-12T04:33:34.002Z"
   },
   {
    "duration": 7,
    "start_time": "2023-10-12T04:34:52.070Z"
   },
   {
    "duration": 23,
    "start_time": "2023-10-12T04:35:08.104Z"
   },
   {
    "duration": 544,
    "start_time": "2023-10-12T04:36:18.132Z"
   },
   {
    "duration": 9,
    "start_time": "2023-10-12T04:36:27.188Z"
   },
   {
    "duration": 3822,
    "start_time": "2023-10-12T04:37:11.354Z"
   },
   {
    "duration": 229,
    "start_time": "2023-10-12T04:37:15.179Z"
   },
   {
    "duration": 1049,
    "start_time": "2023-10-12T04:37:15.409Z"
   },
   {
    "duration": 15,
    "start_time": "2023-10-12T04:37:16.460Z"
   },
   {
    "duration": 58,
    "start_time": "2023-10-12T04:37:16.477Z"
   },
   {
    "duration": 22,
    "start_time": "2023-10-12T04:37:16.537Z"
   },
   {
    "duration": 20,
    "start_time": "2023-10-12T04:37:16.561Z"
   },
   {
    "duration": 89,
    "start_time": "2023-10-12T04:37:16.584Z"
   },
   {
    "duration": 4351,
    "start_time": "2023-10-12T04:37:16.675Z"
   },
   {
    "duration": 6,
    "start_time": "2023-10-12T04:37:21.028Z"
   },
   {
    "duration": 150,
    "start_time": "2023-10-12T04:37:21.036Z"
   },
   {
    "duration": 39122,
    "start_time": "2023-10-12T04:37:50.474Z"
   },
   {
    "duration": 3336,
    "start_time": "2023-10-12T07:16:43.488Z"
   },
   {
    "duration": 201,
    "start_time": "2023-10-12T07:16:46.826Z"
   },
   {
    "duration": 908,
    "start_time": "2023-10-12T07:16:47.029Z"
   },
   {
    "duration": 13,
    "start_time": "2023-10-12T07:16:47.939Z"
   },
   {
    "duration": 49,
    "start_time": "2023-10-12T07:16:47.954Z"
   },
   {
    "duration": 29,
    "start_time": "2023-10-12T07:16:48.005Z"
   },
   {
    "duration": 39,
    "start_time": "2023-10-12T07:16:48.036Z"
   },
   {
    "duration": 187,
    "start_time": "2023-10-12T07:16:48.077Z"
   },
   {
    "duration": 32618,
    "start_time": "2023-10-12T07:16:48.266Z"
   },
   {
    "duration": 3723,
    "start_time": "2023-10-12T07:17:20.886Z"
   },
   {
    "duration": 5,
    "start_time": "2023-10-12T07:17:24.611Z"
   },
   {
    "duration": 3341,
    "start_time": "2023-10-12T07:17:57.748Z"
   },
   {
    "duration": 146,
    "start_time": "2023-10-12T07:18:01.092Z"
   },
   {
    "duration": 1070,
    "start_time": "2023-10-12T07:18:01.239Z"
   },
   {
    "duration": 16,
    "start_time": "2023-10-12T07:18:02.311Z"
   },
   {
    "duration": 289,
    "start_time": "2023-10-12T07:18:02.329Z"
   },
   {
    "duration": 44,
    "start_time": "2023-10-12T07:18:02.621Z"
   },
   {
    "duration": 23,
    "start_time": "2023-10-12T07:18:02.667Z"
   },
   {
    "duration": 94,
    "start_time": "2023-10-12T07:18:02.692Z"
   },
   {
    "duration": 32798,
    "start_time": "2023-10-12T07:18:02.789Z"
   },
   {
    "duration": 3767,
    "start_time": "2023-10-12T07:18:35.589Z"
   },
   {
    "duration": 4,
    "start_time": "2023-10-12T07:18:39.357Z"
   },
   {
    "duration": 284,
    "start_time": "2023-10-12T07:21:41.533Z"
   },
   {
    "duration": 4,
    "start_time": "2023-10-12T07:22:23.603Z"
   },
   {
    "duration": 29,
    "start_time": "2023-10-12T07:24:10.324Z"
   },
   {
    "duration": 99,
    "start_time": "2023-10-12T07:24:16.987Z"
   },
   {
    "duration": 51,
    "start_time": "2023-10-12T07:27:12.334Z"
   },
   {
    "duration": 8,
    "start_time": "2023-10-12T07:27:24.820Z"
   },
   {
    "duration": 4494,
    "start_time": "2023-10-12T07:27:31.858Z"
   },
   {
    "duration": 308,
    "start_time": "2023-10-12T07:27:36.354Z"
   },
   {
    "duration": 2935,
    "start_time": "2023-10-12T07:27:36.664Z"
   },
   {
    "duration": 19,
    "start_time": "2023-10-12T07:27:39.601Z"
   },
   {
    "duration": 61,
    "start_time": "2023-10-12T07:27:39.622Z"
   },
   {
    "duration": 29,
    "start_time": "2023-10-12T07:27:39.686Z"
   },
   {
    "duration": 6,
    "start_time": "2023-10-12T07:27:39.717Z"
   },
   {
    "duration": 74,
    "start_time": "2023-10-12T07:27:39.725Z"
   },
   {
    "duration": 36448,
    "start_time": "2023-10-12T07:27:39.800Z"
   },
   {
    "duration": 4170,
    "start_time": "2023-10-12T07:28:16.250Z"
   },
   {
    "duration": 12,
    "start_time": "2023-10-12T07:28:20.422Z"
   },
   {
    "duration": 25,
    "start_time": "2023-10-12T07:28:20.436Z"
   },
   {
    "duration": 2,
    "start_time": "2023-10-12T07:30:32.425Z"
   },
   {
    "duration": 51,
    "start_time": "2023-10-12T07:37:09.974Z"
   },
   {
    "duration": 294,
    "start_time": "2023-10-12T07:40:06.875Z"
   },
   {
    "duration": 4107,
    "start_time": "2023-10-12T07:40:36.848Z"
   },
   {
    "duration": 11860,
    "start_time": "2023-10-12T07:40:46.306Z"
   },
   {
    "duration": 4,
    "start_time": "2023-10-12T07:41:30.627Z"
   },
   {
    "duration": 68,
    "start_time": "2023-10-12T07:53:12.118Z"
   },
   {
    "duration": 38,
    "start_time": "2023-10-12T07:53:43.645Z"
   },
   {
    "duration": 38,
    "start_time": "2023-10-12T07:53:59.640Z"
   },
   {
    "duration": 19,
    "start_time": "2023-10-12T07:59:35.556Z"
   },
   {
    "duration": 9636,
    "start_time": "2023-10-12T07:59:41.790Z"
   },
   {
    "duration": 6,
    "start_time": "2023-10-12T08:02:19.892Z"
   },
   {
    "duration": 10504,
    "start_time": "2023-10-12T08:03:53.422Z"
   },
   {
    "duration": 9878,
    "start_time": "2023-10-12T08:04:10.563Z"
   },
   {
    "duration": 20,
    "start_time": "2023-10-12T08:06:22.270Z"
   },
   {
    "duration": 3,
    "start_time": "2023-10-12T08:06:36.123Z"
   },
   {
    "duration": 20,
    "start_time": "2023-10-12T08:08:04.381Z"
   },
   {
    "duration": 19,
    "start_time": "2023-10-12T08:08:10.361Z"
   },
   {
    "duration": 28543,
    "start_time": "2023-10-12T08:08:23.270Z"
   },
   {
    "duration": 10101,
    "start_time": "2023-10-12T08:08:59.133Z"
   },
   {
    "duration": 112,
    "start_time": "2023-10-12T08:14:32.644Z"
   },
   {
    "duration": 4,
    "start_time": "2023-10-12T08:14:47.583Z"
   },
   {
    "duration": 9,
    "start_time": "2023-10-12T08:24:33.038Z"
   },
   {
    "duration": 3,
    "start_time": "2023-10-12T08:26:27.891Z"
   },
   {
    "duration": 20,
    "start_time": "2023-10-12T08:26:49.140Z"
   },
   {
    "duration": 22825,
    "start_time": "2023-10-12T08:26:52.811Z"
   },
   {
    "duration": 8,
    "start_time": "2023-10-12T08:28:29.577Z"
   },
   {
    "duration": 3,
    "start_time": "2023-10-12T08:28:30.861Z"
   },
   {
    "duration": 21394,
    "start_time": "2023-10-12T08:28:32.863Z"
   },
   {
    "duration": 164,
    "start_time": "2023-10-12T08:29:26.522Z"
   },
   {
    "duration": 10,
    "start_time": "2023-10-12T08:29:40.793Z"
   },
   {
    "duration": 3,
    "start_time": "2023-10-12T08:29:41.751Z"
   },
   {
    "duration": 3740,
    "start_time": "2023-10-12T08:29:44.433Z"
   },
   {
    "duration": 15,
    "start_time": "2023-10-12T08:32:14.743Z"
   },
   {
    "duration": 3,
    "start_time": "2023-10-12T08:32:15.737Z"
   },
   {
    "duration": 12543,
    "start_time": "2023-10-12T08:32:24.392Z"
   },
   {
    "duration": 25008,
    "start_time": "2023-10-12T08:32:40.654Z"
   },
   {
    "duration": 4143,
    "start_time": "2023-10-12T08:33:10.279Z"
   },
   {
    "duration": 12779,
    "start_time": "2023-10-12T08:33:38.765Z"
   },
   {
    "duration": 17,
    "start_time": "2023-10-12T08:34:00.899Z"
   },
   {
    "duration": 3,
    "start_time": "2023-10-12T08:34:01.995Z"
   },
   {
    "duration": 23016,
    "start_time": "2023-10-12T08:34:05.627Z"
   },
   {
    "duration": 4028,
    "start_time": "2023-10-12T08:34:32.221Z"
   },
   {
    "duration": 39,
    "start_time": "2023-10-12T08:36:17.579Z"
   },
   {
    "duration": 20,
    "start_time": "2023-10-12T08:39:32.943Z"
   },
   {
    "duration": 60513,
    "start_time": "2023-10-12T08:39:51.593Z"
   },
   {
    "duration": 94204,
    "start_time": "2023-10-12T08:42:55.923Z"
   },
   {
    "duration": 130283,
    "start_time": "2023-10-12T08:44:38.411Z"
   },
   {
    "duration": 3792,
    "start_time": "2023-10-12T08:50:02.340Z"
   },
   {
    "duration": 144,
    "start_time": "2023-10-12T08:50:06.134Z"
   },
   {
    "duration": 1032,
    "start_time": "2023-10-12T08:50:06.279Z"
   },
   {
    "duration": 17,
    "start_time": "2023-10-12T08:50:07.314Z"
   },
   {
    "duration": 83,
    "start_time": "2023-10-12T08:50:07.333Z"
   },
   {
    "duration": 25,
    "start_time": "2023-10-12T08:50:07.419Z"
   },
   {
    "duration": 36,
    "start_time": "2023-10-12T08:50:07.446Z"
   },
   {
    "duration": 180,
    "start_time": "2023-10-12T08:50:07.483Z"
   },
   {
    "duration": 38962,
    "start_time": "2023-10-12T08:50:07.665Z"
   },
   {
    "duration": 4476,
    "start_time": "2023-10-12T08:50:46.631Z"
   },
   {
    "duration": 6,
    "start_time": "2023-10-12T08:50:51.110Z"
   },
   {
    "duration": 179,
    "start_time": "2023-10-12T08:50:51.119Z"
   },
   {
    "duration": 20,
    "start_time": "2023-10-12T08:50:51.300Z"
   },
   {
    "duration": 72,
    "start_time": "2023-10-12T08:50:51.322Z"
   },
   {
    "duration": 12546,
    "start_time": "2023-10-12T08:50:51.396Z"
   },
   {
    "duration": 3,
    "start_time": "2023-10-12T08:51:03.945Z"
   },
   {
    "duration": 91,
    "start_time": "2023-10-12T08:51:03.950Z"
   },
   {
    "duration": 3,
    "start_time": "2023-10-12T08:51:04.043Z"
   },
   {
    "duration": 36,
    "start_time": "2023-10-12T08:51:04.047Z"
   },
   {
    "duration": 32,
    "start_time": "2023-10-12T08:51:04.085Z"
   },
   {
    "duration": 31,
    "start_time": "2023-10-12T08:51:04.119Z"
   },
   {
    "duration": 12905,
    "start_time": "2023-10-12T08:51:04.152Z"
   },
   {
    "duration": 52889,
    "start_time": "2023-10-12T08:51:17.059Z"
   },
   {
    "duration": 22677,
    "start_time": "2023-10-12T08:52:09.950Z"
   },
   {
    "duration": 129603,
    "start_time": "2023-10-12T08:52:32.628Z"
   },
   {
    "duration": 132330,
    "start_time": "2023-10-12T08:55:54.097Z"
   },
   {
    "duration": 323,
    "start_time": "2023-10-12T09:01:42.675Z"
   },
   {
    "duration": 18,
    "start_time": "2023-10-12T09:02:27.148Z"
   },
   {
    "duration": 19,
    "start_time": "2023-10-12T09:02:33.267Z"
   },
   {
    "duration": 123,
    "start_time": "2023-10-12T10:13:41.381Z"
   },
   {
    "duration": 214,
    "start_time": "2023-10-12T10:13:58.668Z"
   },
   {
    "duration": 210,
    "start_time": "2023-10-12T10:14:14.830Z"
   },
   {
    "duration": 217,
    "start_time": "2023-10-12T10:15:51.781Z"
   },
   {
    "duration": 122,
    "start_time": "2023-10-12T10:18:38.068Z"
   },
   {
    "duration": 858,
    "start_time": "2023-10-12T10:20:16.733Z"
   },
   {
    "duration": 23,
    "start_time": "2023-10-12T10:21:11.626Z"
   },
   {
    "duration": 4537,
    "start_time": "2023-10-12T10:22:00.581Z"
   },
   {
    "duration": 160,
    "start_time": "2023-10-12T10:22:05.120Z"
   },
   {
    "duration": 2544,
    "start_time": "2023-10-12T10:22:05.281Z"
   },
   {
    "duration": 16,
    "start_time": "2023-10-12T10:22:07.827Z"
   },
   {
    "duration": 58,
    "start_time": "2023-10-12T10:22:07.845Z"
   },
   {
    "duration": 36,
    "start_time": "2023-10-12T10:22:07.905Z"
   },
   {
    "duration": 15,
    "start_time": "2023-10-12T10:22:07.943Z"
   },
   {
    "duration": 71,
    "start_time": "2023-10-12T10:22:07.961Z"
   },
   {
    "duration": 35063,
    "start_time": "2023-10-12T10:22:08.033Z"
   },
   {
    "duration": 3985,
    "start_time": "2023-10-12T10:22:43.101Z"
   },
   {
    "duration": 7,
    "start_time": "2023-10-12T10:22:47.089Z"
   },
   {
    "duration": 13,
    "start_time": "2023-10-12T10:22:47.102Z"
   },
   {
    "duration": 35,
    "start_time": "2023-10-12T10:22:47.117Z"
   },
   {
    "duration": 69,
    "start_time": "2023-10-12T10:22:47.155Z"
   },
   {
    "duration": 11425,
    "start_time": "2023-10-12T10:22:47.226Z"
   },
   {
    "duration": 4,
    "start_time": "2023-10-12T10:22:58.653Z"
   },
   {
    "duration": 92,
    "start_time": "2023-10-12T10:22:58.659Z"
   },
   {
    "duration": 3,
    "start_time": "2023-10-12T10:22:58.753Z"
   },
   {
    "duration": 9,
    "start_time": "2023-10-12T10:22:58.758Z"
   },
   {
    "duration": 51,
    "start_time": "2023-10-12T10:22:58.769Z"
   },
   {
    "duration": 36,
    "start_time": "2023-10-12T10:22:58.822Z"
   },
   {
    "duration": 14079,
    "start_time": "2023-10-12T10:22:58.860Z"
   },
   {
    "duration": 21747,
    "start_time": "2023-10-12T10:23:12.941Z"
   },
   {
    "duration": 23321,
    "start_time": "2023-10-12T10:23:34.690Z"
   },
   {
    "duration": 124705,
    "start_time": "2023-10-12T10:23:58.013Z"
   },
   {
    "duration": 4314,
    "start_time": "2023-10-12T10:26:21.078Z"
   },
   {
    "duration": 153,
    "start_time": "2023-10-12T10:26:25.394Z"
   },
   {
    "duration": 2530,
    "start_time": "2023-10-12T10:26:25.548Z"
   },
   {
    "duration": 14,
    "start_time": "2023-10-12T10:26:28.080Z"
   },
   {
    "duration": 167,
    "start_time": "2023-10-12T10:26:28.097Z"
   },
   {
    "duration": 216,
    "start_time": "2023-10-12T10:26:28.266Z"
   },
   {
    "duration": 162,
    "start_time": "2023-10-12T10:26:28.484Z"
   },
   {
    "duration": 287,
    "start_time": "2023-10-12T10:26:28.648Z"
   },
   {
    "duration": 34535,
    "start_time": "2023-10-12T10:26:28.937Z"
   },
   {
    "duration": 3987,
    "start_time": "2023-10-12T10:27:03.473Z"
   },
   {
    "duration": 5,
    "start_time": "2023-10-12T10:27:07.462Z"
   },
   {
    "duration": 30,
    "start_time": "2023-10-12T10:27:07.469Z"
   },
   {
    "duration": 24,
    "start_time": "2023-10-12T10:27:07.501Z"
   },
   {
    "duration": 73,
    "start_time": "2023-10-12T10:27:07.528Z"
   },
   {
    "duration": 11195,
    "start_time": "2023-10-12T10:27:07.603Z"
   },
   {
    "duration": 4,
    "start_time": "2023-10-12T10:27:18.801Z"
   },
   {
    "duration": 141,
    "start_time": "2023-10-12T10:27:18.806Z"
   },
   {
    "duration": 2,
    "start_time": "2023-10-12T10:27:18.949Z"
   },
   {
    "duration": 58,
    "start_time": "2023-10-12T10:27:18.953Z"
   },
   {
    "duration": 63,
    "start_time": "2023-10-12T10:27:19.013Z"
   },
   {
    "duration": 84,
    "start_time": "2023-10-12T10:27:19.078Z"
   },
   {
    "duration": 14577,
    "start_time": "2023-10-12T10:27:19.164Z"
   },
   {
    "duration": 21418,
    "start_time": "2023-10-12T10:27:33.743Z"
   },
   {
    "duration": 23140,
    "start_time": "2023-10-12T10:27:55.162Z"
   },
   {
    "duration": 125115,
    "start_time": "2023-10-12T10:28:18.303Z"
   },
   {
    "duration": 14704,
    "start_time": "2023-10-12T10:56:15.117Z"
   },
   {
    "duration": 14237,
    "start_time": "2023-10-12T10:56:37.292Z"
   },
   {
    "duration": 3576,
    "start_time": "2023-10-12T10:57:39.395Z"
   },
   {
    "duration": 135,
    "start_time": "2023-10-12T10:57:42.973Z"
   },
   {
    "duration": 955,
    "start_time": "2023-10-12T10:57:43.110Z"
   },
   {
    "duration": 15,
    "start_time": "2023-10-12T10:57:44.067Z"
   },
   {
    "duration": 50,
    "start_time": "2023-10-12T10:57:44.084Z"
   },
   {
    "duration": 19,
    "start_time": "2023-10-12T10:57:44.136Z"
   },
   {
    "duration": 42,
    "start_time": "2023-10-12T10:57:44.157Z"
   },
   {
    "duration": 89,
    "start_time": "2023-10-12T10:57:44.201Z"
   },
   {
    "duration": 34672,
    "start_time": "2023-10-12T10:57:44.293Z"
   },
   {
    "duration": 3931,
    "start_time": "2023-10-12T10:58:18.967Z"
   },
   {
    "duration": 3,
    "start_time": "2023-10-12T10:58:22.902Z"
   },
   {
    "duration": 117,
    "start_time": "2023-10-12T10:58:22.907Z"
   },
   {
    "duration": 39,
    "start_time": "2023-10-12T10:58:23.025Z"
   },
   {
    "duration": 102,
    "start_time": "2023-10-12T10:58:23.067Z"
   },
   {
    "duration": 26006,
    "start_time": "2023-10-12T10:58:23.171Z"
   },
   {
    "duration": 4,
    "start_time": "2023-10-12T10:58:49.179Z"
   },
   {
    "duration": 88,
    "start_time": "2023-10-12T10:58:49.185Z"
   },
   {
    "duration": 3,
    "start_time": "2023-10-12T10:58:49.275Z"
   },
   {
    "duration": 24,
    "start_time": "2023-10-12T10:58:49.279Z"
   },
   {
    "duration": 35,
    "start_time": "2023-10-12T10:58:49.305Z"
   },
   {
    "duration": 25,
    "start_time": "2023-10-12T10:58:49.342Z"
   },
   {
    "duration": 10414,
    "start_time": "2023-10-12T10:58:49.369Z"
   },
   {
    "duration": 65285,
    "start_time": "2023-10-12T10:58:59.785Z"
   },
   {
    "duration": 0,
    "start_time": "2023-10-12T11:00:05.072Z"
   },
   {
    "duration": 0,
    "start_time": "2023-10-12T11:00:05.073Z"
   },
   {
    "duration": 0,
    "start_time": "2023-10-12T11:00:05.075Z"
   },
   {
    "duration": 8,
    "start_time": "2023-10-12T11:03:18.908Z"
   },
   {
    "duration": 5,
    "start_time": "2023-10-12T11:03:19.723Z"
   },
   {
    "duration": 949,
    "start_time": "2023-10-12T11:03:20.506Z"
   },
   {
    "duration": 16,
    "start_time": "2023-10-12T11:03:21.457Z"
   },
   {
    "duration": 34,
    "start_time": "2023-10-12T11:03:22.840Z"
   },
   {
    "duration": 17,
    "start_time": "2023-10-12T11:03:23.540Z"
   },
   {
    "duration": 5,
    "start_time": "2023-10-12T11:03:24.658Z"
   },
   {
    "duration": 51,
    "start_time": "2023-10-12T11:03:25.537Z"
   },
   {
    "duration": 33245,
    "start_time": "2023-10-12T11:03:26.149Z"
   },
   {
    "duration": 2150,
    "start_time": "2023-10-12T11:03:59.400Z"
   },
   {
    "duration": 4,
    "start_time": "2023-10-12T11:04:01.551Z"
   },
   {
    "duration": 157,
    "start_time": "2023-10-12T11:04:08.227Z"
   },
   {
    "duration": 3,
    "start_time": "2023-10-12T11:04:10.672Z"
   },
   {
    "duration": 56,
    "start_time": "2023-10-12T11:04:11.419Z"
   },
   {
    "duration": 11165,
    "start_time": "2023-10-12T11:04:13.013Z"
   },
   {
    "duration": 3,
    "start_time": "2023-10-12T11:04:25.285Z"
   },
   {
    "duration": 68,
    "start_time": "2023-10-12T11:04:28.660Z"
   },
   {
    "duration": 3,
    "start_time": "2023-10-12T11:04:30.386Z"
   },
   {
    "duration": 8,
    "start_time": "2023-10-12T11:04:32.321Z"
   },
   {
    "duration": 4,
    "start_time": "2023-10-12T11:04:33.144Z"
   },
   {
    "duration": 23,
    "start_time": "2023-10-12T11:04:34.606Z"
   },
   {
    "duration": 14709,
    "start_time": "2023-10-12T11:04:35.933Z"
   },
   {
    "duration": 14882,
    "start_time": "2023-10-12T11:04:56.244Z"
   },
   {
    "duration": 4632,
    "start_time": "2023-10-12T11:08:18.769Z"
   },
   {
    "duration": 224,
    "start_time": "2023-10-12T11:08:23.404Z"
   },
   {
    "duration": 2607,
    "start_time": "2023-10-12T11:08:23.631Z"
   },
   {
    "duration": 15,
    "start_time": "2023-10-12T11:08:27.345Z"
   },
   {
    "duration": 34,
    "start_time": "2023-10-12T11:08:28.346Z"
   },
   {
    "duration": 18,
    "start_time": "2023-10-12T11:08:28.743Z"
   },
   {
    "duration": 5,
    "start_time": "2023-10-12T11:08:29.476Z"
   },
   {
    "duration": 67,
    "start_time": "2023-10-12T11:08:30.566Z"
   },
   {
    "duration": 5007,
    "start_time": "2023-10-12T11:08:47.232Z"
   },
   {
    "duration": 145,
    "start_time": "2023-10-12T11:08:54.408Z"
   },
   {
    "duration": 2541,
    "start_time": "2023-10-12T11:08:55.482Z"
   },
   {
    "duration": 17,
    "start_time": "2023-10-12T11:08:59.121Z"
   },
   {
    "duration": 36,
    "start_time": "2023-10-12T11:08:59.945Z"
   },
   {
    "duration": 18,
    "start_time": "2023-10-12T11:09:00.859Z"
   },
   {
    "duration": 5,
    "start_time": "2023-10-12T11:09:02.676Z"
   },
   {
    "duration": 77,
    "start_time": "2023-10-12T11:09:08.538Z"
   },
   {
    "duration": 35604,
    "start_time": "2023-10-12T11:09:09.634Z"
   },
   {
    "duration": 2201,
    "start_time": "2023-10-12T11:09:45.240Z"
   },
   {
    "duration": 5,
    "start_time": "2023-10-12T11:10:04.816Z"
   },
   {
    "duration": 3,
    "start_time": "2023-10-12T11:10:06.264Z"
   },
   {
    "duration": 3,
    "start_time": "2023-10-12T11:10:08.287Z"
   },
   {
    "duration": 47,
    "start_time": "2023-10-12T11:10:09.147Z"
   },
   {
    "duration": 10862,
    "start_time": "2023-10-12T11:10:12.368Z"
   },
   {
    "duration": 4,
    "start_time": "2023-10-12T11:10:27.850Z"
   },
   {
    "duration": 72,
    "start_time": "2023-10-12T11:10:32.478Z"
   },
   {
    "duration": 3,
    "start_time": "2023-10-12T11:10:34.031Z"
   },
   {
    "duration": 9,
    "start_time": "2023-10-12T11:10:40.774Z"
   },
   {
    "duration": 3,
    "start_time": "2023-10-12T11:10:42.207Z"
   },
   {
    "duration": 21,
    "start_time": "2023-10-12T11:10:49.950Z"
   },
   {
    "duration": 11956,
    "start_time": "2023-10-12T11:11:08.063Z"
   },
   {
    "duration": 11176,
    "start_time": "2023-10-12T11:11:31.348Z"
   },
   {
    "duration": 12113,
    "start_time": "2023-10-12T11:11:54.111Z"
   },
   {
    "duration": 11,
    "start_time": "2023-10-12T11:12:32.439Z"
   },
   {
    "duration": 3,
    "start_time": "2023-10-12T11:23:37.631Z"
   },
   {
    "duration": 12368,
    "start_time": "2023-10-12T11:23:40.739Z"
   },
   {
    "duration": 3,
    "start_time": "2023-10-12T11:23:54.516Z"
   },
   {
    "duration": 57,
    "start_time": "2023-10-12T11:23:57.567Z"
   },
   {
    "duration": 14637,
    "start_time": "2023-10-12T11:24:06.897Z"
   },
   {
    "duration": 15040,
    "start_time": "2023-10-12T11:24:26.915Z"
   },
   {
    "duration": 12208,
    "start_time": "2023-10-12T11:25:06.818Z"
   },
   {
    "duration": 15439,
    "start_time": "2023-10-12T11:25:26.988Z"
   },
   {
    "duration": 12194,
    "start_time": "2023-10-12T11:25:52.636Z"
   },
   {
    "duration": 14141,
    "start_time": "2023-10-12T11:26:34.388Z"
   },
   {
    "duration": 14323,
    "start_time": "2023-10-12T11:27:00.802Z"
   },
   {
    "duration": 13,
    "start_time": "2023-10-12T11:28:56.228Z"
   },
   {
    "duration": 11330,
    "start_time": "2023-10-12T11:28:59.889Z"
   },
   {
    "duration": 3,
    "start_time": "2023-10-12T11:29:13.303Z"
   },
   {
    "duration": 39,
    "start_time": "2023-10-12T11:29:17.029Z"
   },
   {
    "duration": 9,
    "start_time": "2023-10-12T11:29:21.501Z"
   },
   {
    "duration": 3,
    "start_time": "2023-10-12T11:29:25.898Z"
   },
   {
    "duration": 21,
    "start_time": "2023-10-12T11:29:27.591Z"
   },
   {
    "duration": 12156,
    "start_time": "2023-10-12T11:29:28.971Z"
   },
   {
    "duration": 12381,
    "start_time": "2023-10-12T11:29:46.156Z"
   },
   {
    "duration": 12,
    "start_time": "2023-10-12T11:30:54.781Z"
   },
   {
    "duration": 11262,
    "start_time": "2023-10-12T11:30:57.139Z"
   },
   {
    "duration": 3,
    "start_time": "2023-10-12T11:31:14.307Z"
   },
   {
    "duration": 11622,
    "start_time": "2023-10-12T11:31:19.101Z"
   },
   {
    "duration": 12,
    "start_time": "2023-10-12T11:31:43.794Z"
   },
   {
    "duration": 11745,
    "start_time": "2023-10-12T11:31:47.865Z"
   },
   {
    "duration": 4,
    "start_time": "2023-10-12T11:32:01.610Z"
   },
   {
    "duration": 12090,
    "start_time": "2023-10-12T11:32:09.337Z"
   },
   {
    "duration": 11,
    "start_time": "2023-10-12T11:32:35.123Z"
   },
   {
    "duration": 11220,
    "start_time": "2023-10-12T11:32:37.704Z"
   },
   {
    "duration": 11873,
    "start_time": "2023-10-12T11:32:52.369Z"
   },
   {
    "duration": 11,
    "start_time": "2023-10-12T11:33:15.398Z"
   },
   {
    "duration": 11136,
    "start_time": "2023-10-12T11:33:19.697Z"
   },
   {
    "duration": 4,
    "start_time": "2023-10-12T11:33:32.830Z"
   },
   {
    "duration": 12488,
    "start_time": "2023-10-12T11:33:35.935Z"
   },
   {
    "duration": 11,
    "start_time": "2023-10-12T11:34:20.847Z"
   },
   {
    "duration": 11456,
    "start_time": "2023-10-12T11:34:22.856Z"
   },
   {
    "duration": 4,
    "start_time": "2023-10-12T11:34:37.491Z"
   },
   {
    "duration": 12385,
    "start_time": "2023-10-12T11:34:42.251Z"
   },
   {
    "duration": 12400,
    "start_time": "2023-10-12T11:35:03.331Z"
   },
   {
    "duration": 21,
    "start_time": "2023-10-12T11:35:33.663Z"
   },
   {
    "duration": 3551,
    "start_time": "2023-10-12T11:36:07.323Z"
   },
   {
    "duration": 225,
    "start_time": "2023-10-12T11:36:10.876Z"
   },
   {
    "duration": 998,
    "start_time": "2023-10-12T11:36:11.103Z"
   },
   {
    "duration": 15,
    "start_time": "2023-10-12T11:36:12.103Z"
   },
   {
    "duration": 35,
    "start_time": "2023-10-12T11:36:12.120Z"
   },
   {
    "duration": 33,
    "start_time": "2023-10-12T11:36:12.157Z"
   },
   {
    "duration": 33,
    "start_time": "2023-10-12T11:36:12.192Z"
   },
   {
    "duration": 82,
    "start_time": "2023-10-12T11:36:12.227Z"
   },
   {
    "duration": 34868,
    "start_time": "2023-10-12T11:36:12.311Z"
   },
   {
    "duration": 2167,
    "start_time": "2023-10-12T11:36:47.180Z"
   },
   {
    "duration": 3,
    "start_time": "2023-10-12T11:36:49.349Z"
   },
   {
    "duration": 14,
    "start_time": "2023-10-12T11:36:49.354Z"
   },
   {
    "duration": 20,
    "start_time": "2023-10-12T11:36:49.370Z"
   },
   {
    "duration": 56,
    "start_time": "2023-10-12T11:36:49.393Z"
   },
   {
    "duration": 11026,
    "start_time": "2023-10-12T11:36:49.451Z"
   },
   {
    "duration": 3,
    "start_time": "2023-10-12T11:37:00.479Z"
   },
   {
    "duration": 266,
    "start_time": "2023-10-12T11:37:00.485Z"
   },
   {
    "duration": 216,
    "start_time": "2023-10-12T11:37:00.753Z"
   },
   {
    "duration": 610,
    "start_time": "2023-10-12T11:37:00.971Z"
   },
   {
    "duration": 310,
    "start_time": "2023-10-12T11:37:01.583Z"
   },
   {
    "duration": 12743,
    "start_time": "2023-10-12T11:37:01.895Z"
   },
   {
    "duration": 22010,
    "start_time": "2023-10-12T11:37:14.641Z"
   },
   {
    "duration": 24817,
    "start_time": "2023-10-12T11:37:36.653Z"
   },
   {
    "duration": 124230,
    "start_time": "2023-10-12T11:38:01.472Z"
   },
   {
    "duration": 12426,
    "start_time": "2023-10-12T11:40:05.704Z"
   },
   {
    "duration": 4,
    "start_time": "2023-10-12T11:41:26.046Z"
   },
   {
    "duration": 3,
    "start_time": "2023-10-12T11:41:32.786Z"
   },
   {
    "duration": 3543,
    "start_time": "2023-10-12T11:50:19.406Z"
   },
   {
    "duration": 207,
    "start_time": "2023-10-12T11:50:22.951Z"
   },
   {
    "duration": 982,
    "start_time": "2023-10-12T11:50:23.160Z"
   },
   {
    "duration": 15,
    "start_time": "2023-10-12T11:50:24.144Z"
   },
   {
    "duration": 72,
    "start_time": "2023-10-12T11:50:24.162Z"
   },
   {
    "duration": 64,
    "start_time": "2023-10-12T11:50:24.236Z"
   },
   {
    "duration": 39,
    "start_time": "2023-10-12T11:50:24.303Z"
   },
   {
    "duration": 111,
    "start_time": "2023-10-12T11:50:24.344Z"
   },
   {
    "duration": 35045,
    "start_time": "2023-10-12T11:50:24.457Z"
   },
   {
    "duration": 2159,
    "start_time": "2023-10-12T11:50:59.505Z"
   },
   {
    "duration": 4,
    "start_time": "2023-10-12T11:51:01.666Z"
   },
   {
    "duration": 378,
    "start_time": "2023-10-12T11:51:01.672Z"
   },
   {
    "duration": 427,
    "start_time": "2023-10-12T11:51:02.053Z"
   },
   {
    "duration": 280,
    "start_time": "2023-10-12T11:51:02.485Z"
   },
   {
    "duration": 11748,
    "start_time": "2023-10-12T11:51:02.766Z"
   },
   {
    "duration": 3,
    "start_time": "2023-10-12T11:51:14.516Z"
   },
   {
    "duration": 109,
    "start_time": "2023-10-12T11:51:14.521Z"
   },
   {
    "duration": 10,
    "start_time": "2023-10-12T11:51:14.632Z"
   },
   {
    "duration": 50,
    "start_time": "2023-10-12T11:51:14.644Z"
   },
   {
    "duration": 100,
    "start_time": "2023-10-12T11:51:14.696Z"
   },
   {
    "duration": 12544,
    "start_time": "2023-10-12T11:51:14.798Z"
   },
   {
    "duration": 22439,
    "start_time": "2023-10-12T11:51:27.344Z"
   },
   {
    "duration": 24026,
    "start_time": "2023-10-12T11:51:49.785Z"
   },
   {
    "duration": 126083,
    "start_time": "2023-10-12T11:52:13.813Z"
   },
   {
    "duration": 12033,
    "start_time": "2023-10-12T11:54:19.901Z"
   },
   {
    "duration": 4,
    "start_time": "2023-10-12T11:54:31.936Z"
   },
   {
    "duration": 2064,
    "start_time": "2023-10-12T11:55:30.415Z"
   },
   {
    "duration": 154,
    "start_time": "2023-10-12T11:55:32.482Z"
   },
   {
    "duration": 1127,
    "start_time": "2023-10-12T11:55:32.639Z"
   },
   {
    "duration": 15,
    "start_time": "2023-10-12T11:55:33.767Z"
   },
   {
    "duration": 60,
    "start_time": "2023-10-12T11:55:33.785Z"
   },
   {
    "duration": 44,
    "start_time": "2023-10-12T11:55:33.847Z"
   },
   {
    "duration": 23,
    "start_time": "2023-10-12T11:55:33.893Z"
   },
   {
    "duration": 94,
    "start_time": "2023-10-12T11:55:33.918Z"
   },
   {
    "duration": 37391,
    "start_time": "2023-10-12T11:55:34.014Z"
   },
   {
    "duration": 2305,
    "start_time": "2023-10-12T11:56:11.414Z"
   },
   {
    "duration": 2,
    "start_time": "2023-10-12T11:56:13.721Z"
   },
   {
    "duration": 59,
    "start_time": "2023-10-12T11:56:13.725Z"
   },
   {
    "duration": 4,
    "start_time": "2023-10-12T11:56:13.786Z"
   },
   {
    "duration": 43,
    "start_time": "2023-10-12T11:56:13.793Z"
   },
   {
    "duration": 11917,
    "start_time": "2023-10-12T11:56:13.837Z"
   },
   {
    "duration": 4,
    "start_time": "2023-10-12T11:56:25.756Z"
   },
   {
    "duration": 93,
    "start_time": "2023-10-12T11:56:25.761Z"
   },
   {
    "duration": 9,
    "start_time": "2023-10-12T11:56:25.856Z"
   },
   {
    "duration": 72,
    "start_time": "2023-10-12T11:56:25.867Z"
   },
   {
    "duration": 81,
    "start_time": "2023-10-12T11:56:25.941Z"
   },
   {
    "duration": 10707,
    "start_time": "2023-10-12T11:56:26.024Z"
   },
   {
    "duration": 23470,
    "start_time": "2023-10-12T11:56:36.733Z"
   },
   {
    "duration": 25709,
    "start_time": "2023-10-12T11:57:00.204Z"
   },
   {
    "duration": 48959,
    "start_time": "2023-10-12T11:57:25.915Z"
   },
   {
    "duration": 0,
    "start_time": "2023-10-12T11:58:14.876Z"
   },
   {
    "duration": 0,
    "start_time": "2023-10-12T11:58:14.877Z"
   },
   {
    "duration": 2015,
    "start_time": "2023-10-12T11:58:31.417Z"
   },
   {
    "duration": 245,
    "start_time": "2023-10-12T11:58:33.434Z"
   },
   {
    "duration": 1107,
    "start_time": "2023-10-12T11:58:33.681Z"
   },
   {
    "duration": 25,
    "start_time": "2023-10-12T11:58:34.790Z"
   },
   {
    "duration": 58,
    "start_time": "2023-10-12T11:58:34.820Z"
   },
   {
    "duration": 59,
    "start_time": "2023-10-12T11:58:34.880Z"
   },
   {
    "duration": 49,
    "start_time": "2023-10-12T11:58:34.942Z"
   },
   {
    "duration": 100,
    "start_time": "2023-10-12T11:58:34.993Z"
   },
   {
    "duration": 40012,
    "start_time": "2023-10-12T11:58:35.095Z"
   },
   {
    "duration": 2675,
    "start_time": "2023-10-12T11:59:15.109Z"
   },
   {
    "duration": 3,
    "start_time": "2023-10-12T11:59:17.786Z"
   },
   {
    "duration": 130,
    "start_time": "2023-10-12T11:59:17.791Z"
   },
   {
    "duration": 114,
    "start_time": "2023-10-12T11:59:17.926Z"
   },
   {
    "duration": 343,
    "start_time": "2023-10-12T11:59:18.044Z"
   },
   {
    "duration": 13835,
    "start_time": "2023-10-12T11:59:18.390Z"
   },
   {
    "duration": 5,
    "start_time": "2023-10-12T11:59:32.229Z"
   },
   {
    "duration": 218,
    "start_time": "2023-10-12T11:59:32.237Z"
   },
   {
    "duration": 41,
    "start_time": "2023-10-12T11:59:32.457Z"
   },
   {
    "duration": 343,
    "start_time": "2023-10-12T11:59:32.500Z"
   },
   {
    "duration": 97,
    "start_time": "2023-10-12T11:59:32.844Z"
   },
   {
    "duration": 10604,
    "start_time": "2023-10-12T11:59:32.943Z"
   },
   {
    "duration": 24809,
    "start_time": "2023-10-12T11:59:43.549Z"
   },
   {
    "duration": 27359,
    "start_time": "2023-10-12T12:00:08.359Z"
   },
   {
    "duration": 140881,
    "start_time": "2023-10-12T12:00:35.732Z"
   },
   {
    "duration": 11518,
    "start_time": "2023-10-12T12:02:56.615Z"
   },
   {
    "duration": 4,
    "start_time": "2023-10-12T12:03:08.134Z"
   },
   {
    "duration": 1909,
    "start_time": "2023-10-12T13:51:02.615Z"
   },
   {
    "duration": 8,
    "start_time": "2023-10-12T13:51:46.568Z"
   },
   {
    "duration": 127,
    "start_time": "2023-10-12T13:51:47.672Z"
   },
   {
    "duration": 2334,
    "start_time": "2023-10-12T13:51:48.478Z"
   },
   {
    "duration": 13,
    "start_time": "2023-10-12T13:51:50.814Z"
   },
   {
    "duration": 37,
    "start_time": "2023-10-12T13:51:50.829Z"
   },
   {
    "duration": 14,
    "start_time": "2023-10-12T13:51:51.784Z"
   },
   {
    "duration": 4,
    "start_time": "2023-10-12T13:51:52.923Z"
   },
   {
    "duration": 53,
    "start_time": "2023-10-12T13:51:55.334Z"
   },
   {
    "duration": 766,
    "start_time": "2023-10-12T13:51:56.804Z"
   },
   {
    "duration": 8,
    "start_time": "2023-10-12T13:53:10.342Z"
   },
   {
    "duration": 5,
    "start_time": "2023-10-12T13:53:12.760Z"
   },
   {
    "duration": 415,
    "start_time": "2023-10-12T13:53:21.981Z"
   },
   {
    "duration": 914,
    "start_time": "2023-10-12T13:53:25.991Z"
   },
   {
    "duration": 11,
    "start_time": "2023-10-12T13:53:28.258Z"
   },
   {
    "duration": 31,
    "start_time": "2023-10-12T13:53:29.079Z"
   },
   {
    "duration": 15,
    "start_time": "2023-10-12T13:53:29.710Z"
   },
   {
    "duration": 4,
    "start_time": "2023-10-12T13:53:31.790Z"
   },
   {
    "duration": 52,
    "start_time": "2023-10-12T13:53:35.135Z"
   },
   {
    "duration": 217966,
    "start_time": "2023-10-12T13:53:36.306Z"
   },
   {
    "duration": 8,
    "start_time": "2023-10-12T13:58:03.618Z"
   },
   {
    "duration": 11,
    "start_time": "2023-10-12T13:58:05.210Z"
   },
   {
    "duration": 920,
    "start_time": "2023-10-12T13:58:05.981Z"
   },
   {
    "duration": 11,
    "start_time": "2023-10-12T13:58:08.108Z"
   },
   {
    "duration": 32,
    "start_time": "2023-10-12T13:58:08.832Z"
   },
   {
    "duration": 16,
    "start_time": "2023-10-12T13:58:10.196Z"
   },
   {
    "duration": 4,
    "start_time": "2023-10-12T13:58:10.828Z"
   },
   {
    "duration": 47,
    "start_time": "2023-10-12T13:58:12.620Z"
   },
   {
    "duration": 1928,
    "start_time": "2023-10-12T14:00:45.294Z"
   },
   {
    "duration": 169,
    "start_time": "2023-10-12T14:00:56.718Z"
   },
   {
    "duration": 943,
    "start_time": "2023-10-12T14:00:57.734Z"
   },
   {
    "duration": 15,
    "start_time": "2023-10-12T14:00:58.680Z"
   },
   {
    "duration": 30,
    "start_time": "2023-10-12T14:00:59.776Z"
   },
   {
    "duration": 16,
    "start_time": "2023-10-12T14:01:00.325Z"
   },
   {
    "duration": 4,
    "start_time": "2023-10-12T14:01:02.081Z"
   },
   {
    "duration": 59,
    "start_time": "2023-10-12T14:01:03.751Z"
   },
   {
    "duration": 50839,
    "start_time": "2023-10-12T14:01:20.578Z"
   },
   {
    "duration": 7,
    "start_time": "2023-10-12T14:02:23.917Z"
   },
   {
    "duration": 7,
    "start_time": "2023-10-12T14:02:26.249Z"
   },
   {
    "duration": 961,
    "start_time": "2023-10-12T14:02:26.769Z"
   },
   {
    "duration": 13,
    "start_time": "2023-10-12T14:02:27.732Z"
   },
   {
    "duration": 32,
    "start_time": "2023-10-12T14:02:29.639Z"
   },
   {
    "duration": 16,
    "start_time": "2023-10-12T14:02:30.285Z"
   },
   {
    "duration": 4,
    "start_time": "2023-10-12T14:02:31.399Z"
   },
   {
    "duration": 47,
    "start_time": "2023-10-12T14:02:32.769Z"
   },
   {
    "duration": 32396,
    "start_time": "2023-10-12T14:02:34.813Z"
   },
   {
    "duration": 1865,
    "start_time": "2023-10-12T14:15:55.636Z"
   },
   {
    "duration": 212,
    "start_time": "2023-10-12T14:15:59.087Z"
   },
   {
    "duration": 884,
    "start_time": "2023-10-12T14:16:00.808Z"
   },
   {
    "duration": 15,
    "start_time": "2023-10-12T14:16:02.412Z"
   },
   {
    "duration": 36,
    "start_time": "2023-10-12T14:16:03.920Z"
   },
   {
    "duration": 15,
    "start_time": "2023-10-12T14:16:04.457Z"
   },
   {
    "duration": 3,
    "start_time": "2023-10-12T14:16:05.632Z"
   },
   {
    "duration": 60,
    "start_time": "2023-10-12T14:16:07.421Z"
   },
   {
    "duration": 705001,
    "start_time": "2023-10-12T14:16:08.863Z"
   },
   {
    "duration": 1752,
    "start_time": "2023-10-12T14:28:03.025Z"
   },
   {
    "duration": 150,
    "start_time": "2023-10-12T14:28:06.207Z"
   },
   {
    "duration": 916,
    "start_time": "2023-10-12T14:28:06.592Z"
   },
   {
    "duration": 15,
    "start_time": "2023-10-12T14:28:08.577Z"
   },
   {
    "duration": 32,
    "start_time": "2023-10-12T14:28:09.866Z"
   },
   {
    "duration": 16,
    "start_time": "2023-10-12T14:28:10.625Z"
   },
   {
    "duration": 4,
    "start_time": "2023-10-12T14:28:11.939Z"
   },
   {
    "duration": 49,
    "start_time": "2023-10-12T14:28:13.785Z"
   },
   {
    "duration": 1777,
    "start_time": "2023-10-12T14:31:13.586Z"
   },
   {
    "duration": 141,
    "start_time": "2023-10-12T14:31:16.858Z"
   },
   {
    "duration": 920,
    "start_time": "2023-10-12T14:31:17.571Z"
   },
   {
    "duration": 18,
    "start_time": "2023-10-12T14:31:19.173Z"
   },
   {
    "duration": 35,
    "start_time": "2023-10-12T14:31:20.301Z"
   },
   {
    "duration": 16,
    "start_time": "2023-10-12T14:31:20.742Z"
   },
   {
    "duration": 4,
    "start_time": "2023-10-12T14:31:22.496Z"
   },
   {
    "duration": 49,
    "start_time": "2023-10-12T14:31:24.285Z"
   },
   {
    "duration": 712964,
    "start_time": "2023-10-12T14:31:26.306Z"
   },
   {
    "duration": 96,
    "start_time": "2023-10-12T14:44:07.168Z"
   },
   {
    "duration": 387,
    "start_time": "2023-10-12T14:44:14.720Z"
   },
   {
    "duration": 2783,
    "start_time": "2023-10-12T14:44:33.166Z"
   },
   {
    "duration": 1839,
    "start_time": "2023-10-12T14:45:08.594Z"
   },
   {
    "duration": 232,
    "start_time": "2023-10-12T14:45:11.890Z"
   },
   {
    "duration": 923,
    "start_time": "2023-10-12T14:45:12.888Z"
   },
   {
    "duration": 15,
    "start_time": "2023-10-12T14:45:14.619Z"
   },
   {
    "duration": 34,
    "start_time": "2023-10-12T14:45:15.869Z"
   },
   {
    "duration": 16,
    "start_time": "2023-10-12T14:45:16.476Z"
   },
   {
    "duration": 4,
    "start_time": "2023-10-12T14:45:17.612Z"
   },
   {
    "duration": 60,
    "start_time": "2023-10-12T14:45:18.679Z"
   },
   {
    "duration": 915926,
    "start_time": "2023-10-12T14:45:20.102Z"
   },
   {
    "duration": 1454755,
    "start_time": "2023-10-12T15:02:06.652Z"
   },
   {
    "duration": 11,
    "start_time": "2023-10-12T15:26:29.497Z"
   },
   {
    "duration": 2329,
    "start_time": "2023-10-12T15:26:46.911Z"
   },
   {
    "duration": 3,
    "start_time": "2023-10-12T15:27:22.601Z"
   },
   {
    "duration": 48,
    "start_time": "2023-10-12T15:27:26.063Z"
   },
   {
    "duration": 3,
    "start_time": "2023-10-12T15:27:28.929Z"
   },
   {
    "duration": 3,
    "start_time": "2023-10-12T15:27:30.794Z"
   },
   {
    "duration": 10979,
    "start_time": "2023-10-12T15:27:32.167Z"
   },
   {
    "duration": 3,
    "start_time": "2023-10-12T15:27:44.950Z"
   },
   {
    "duration": 67,
    "start_time": "2023-10-12T15:27:48.651Z"
   },
   {
    "duration": 8,
    "start_time": "2023-10-12T15:27:51.901Z"
   },
   {
    "duration": 3,
    "start_time": "2023-10-12T15:27:53.813Z"
   },
   {
    "duration": 19,
    "start_time": "2023-10-12T15:27:57.001Z"
   },
   {
    "duration": 11766,
    "start_time": "2023-10-12T15:28:02.245Z"
   },
   {
    "duration": 21532,
    "start_time": "2023-10-12T15:28:20.128Z"
   },
   {
    "duration": 24340,
    "start_time": "2023-10-12T15:28:44.106Z"
   },
   {
    "duration": 155875,
    "start_time": "2023-10-12T15:29:13.056Z"
   },
   {
    "duration": 11107,
    "start_time": "2023-10-12T15:31:54.010Z"
   },
   {
    "duration": 4,
    "start_time": "2023-10-12T15:32:35.668Z"
   },
   {
    "duration": 26,
    "start_time": "2023-10-12T15:33:55.473Z"
   },
   {
    "duration": 11715,
    "start_time": "2023-10-12T15:33:58.958Z"
   },
   {
    "duration": 10735,
    "start_time": "2023-10-12T15:34:17.067Z"
   },
   {
    "duration": 11126,
    "start_time": "2023-10-12T15:34:36.664Z"
   },
   {
    "duration": 17,
    "start_time": "2023-10-12T15:35:00.070Z"
   },
   {
    "duration": 11290,
    "start_time": "2023-10-12T15:35:01.843Z"
   },
   {
    "duration": 3,
    "start_time": "2023-10-12T15:35:18.558Z"
   },
   {
    "duration": 12354,
    "start_time": "2023-10-12T15:35:29.357Z"
   },
   {
    "duration": 11,
    "start_time": "2023-10-12T15:35:59.296Z"
   },
   {
    "duration": 10990,
    "start_time": "2023-10-12T15:36:01.033Z"
   },
   {
    "duration": 10803,
    "start_time": "2023-10-12T15:36:18.003Z"
   },
   {
    "duration": 52,
    "start_time": "2023-10-12T15:37:33.303Z"
   },
   {
    "duration": 131,
    "start_time": "2023-10-12T15:37:43.270Z"
   },
   {
    "duration": 163,
    "start_time": "2023-10-12T15:37:52.562Z"
   },
   {
    "duration": 1318,
    "start_time": "2023-10-12T15:38:08.406Z"
   },
   {
    "duration": 125,
    "start_time": "2023-10-12T15:38:23.379Z"
   },
   {
    "duration": 110,
    "start_time": "2023-10-12T15:38:29.319Z"
   },
   {
    "duration": 1320,
    "start_time": "2023-10-12T15:38:36.126Z"
   },
   {
    "duration": 111,
    "start_time": "2023-10-12T15:39:06.446Z"
   },
   {
    "duration": 1314,
    "start_time": "2023-10-12T15:42:02.921Z"
   },
   {
    "duration": 1353,
    "start_time": "2023-10-12T15:42:16.594Z"
   },
   {
    "duration": 1289,
    "start_time": "2023-10-12T15:42:33.717Z"
   },
   {
    "duration": 4,
    "start_time": "2023-10-12T15:42:40.829Z"
   }
  ],
  "kernelspec": {
   "display_name": "Python 3 (ipykernel)",
   "language": "python",
   "name": "python3"
  },
  "language_info": {
   "codemirror_mode": {
    "name": "ipython",
    "version": 3
   },
   "file_extension": ".py",
   "mimetype": "text/x-python",
   "name": "python",
   "nbconvert_exporter": "python",
   "pygments_lexer": "ipython3",
   "version": "3.10.9"
  },
  "toc": {
   "base_numbering": 1,
   "nav_menu": {},
   "number_sections": true,
   "sideBar": true,
   "skip_h1_title": true,
   "title_cell": "Содержание",
   "title_sidebar": "Contents",
   "toc_cell": true,
   "toc_position": {
    "height": "calc(100% - 180px)",
    "left": "10px",
    "top": "150px",
    "width": "302.391px"
   },
   "toc_section_display": true,
   "toc_window_display": false
  }
 },
 "nbformat": 4,
 "nbformat_minor": 2
}
