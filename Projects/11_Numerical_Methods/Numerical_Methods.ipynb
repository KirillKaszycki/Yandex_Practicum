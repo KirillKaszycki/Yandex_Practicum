{
 "cells": [
  {
   "cell_type": "markdown",
   "metadata": {},
   "source": [
    "# Определение стоимости автомобилей"
   ]
  },
  {
   "cell_type": "markdown",
   "metadata": {},
   "source": [
    "Сервис по продаже автомобилей с пробегом «Не бит, не крашен» разрабатывает приложение для привлечения новых клиентов. В нём можно быстро узнать рыночную стоимость своего автомобиля. В вашем распоряжении исторические данные: технические характеристики, комплектации и цены автомобилей. Вам нужно построить модель для определения стоимости. \n",
    "\n",
    "Заказчику важны:\n",
    "\n",
    "- качество предсказания;\n",
    "- скорость предсказания;\n",
    "- время обучения."
   ]
  },
  {
   "cell_type": "markdown",
   "metadata": {},
   "source": [
    "**ТЗ**\n",
    "\n",
    "Сервис по продаже автомобилей с пробегом «Не бит, не крашен» разрабатывает приложение, чтобы привлечь новых клиентов. В нём можно будет узнать рыночную стоимость своего автомобиля. \n",
    "- Постройте модель, которая умеет её определять. В вашем распоряжении данные о технических характеристиках, комплектации и ценах других автомобилей.\n",
    "\n",
    "Критерии, которые важны заказчику:\n",
    "- качество предсказания;\n",
    "- время обучения модели;\n",
    "- время предсказания модели.\n",
    "\n",
    "Инструкция по выполнению проекта\n",
    "\n",
    "Чтобы усилить исследование, не ограничивайтесь градиентным бустингом. Попробуйте более простые модели — иногда они работают лучше. Эти редкие случаи легко пропустить, если всегда применять только бустинг. \n",
    "Поэкспериментируйте и сравните характеристики моделей: время обучения, время предсказания, точность результата.\n",
    "\n",
    "\n",
    "Признаки\n",
    "- DateCrawled — дата скачивания анкеты из базы\n",
    "- VehicleType — тип автомобильного кузова\n",
    "- RegistrationYear — год регистрации автомобиля\n",
    "- Gearbox — тип коробки переда\n",
    "- Power — мощность (л. с.)\n",
    "- Model — модель автомобиля\n",
    "- Kilometer — пробег (км)\n",
    "- RegistrationMonth — месяц регистрации автомобиля\n",
    "- FuelType — тип топлива\n",
    "- Brand — марка автомобиля\n",
    "- Repaired — была машина в ремонте или нет\n",
    "- DateCreated — дата создания анкеты\n",
    "- NumberOfPictures — количество фотографий автомобиля\n",
    "- PostalCode — почтовый индекс владельца анкеты (пользователя)\n",
    "- LastSeen — дата последней активности пользователя\n",
    "\n",
    "Целевой признак\n",
    "- Price — цена (евро)"
   ]
  },
  {
   "cell_type": "markdown",
   "metadata": {},
   "source": [
    "## Подготовка данных"
   ]
  },
  {
   "cell_type": "code",
   "execution_count": 1,
   "metadata": {},
   "outputs": [
    {
     "name": "stdout",
     "output_type": "stream",
     "text": [
      "Requirement already satisfied: scikit-learn==1.1.3 in /opt/conda/lib/python3.9/site-packages (1.1.3)\n",
      "Requirement already satisfied: scipy>=1.3.2 in /opt/conda/lib/python3.9/site-packages (from scikit-learn==1.1.3) (1.9.1)\n",
      "Requirement already satisfied: joblib>=1.0.0 in /opt/conda/lib/python3.9/site-packages (from scikit-learn==1.1.3) (1.1.0)\n",
      "Requirement already satisfied: threadpoolctl>=2.0.0 in /opt/conda/lib/python3.9/site-packages (from scikit-learn==1.1.3) (3.1.0)\n",
      "Requirement already satisfied: numpy>=1.17.3 in /opt/conda/lib/python3.9/site-packages (from scikit-learn==1.1.3) (1.21.1)\n"
     ]
    }
   ],
   "source": [
    "!pip install scikit-learn==1.1.3"
   ]
  },
  {
   "cell_type": "code",
   "execution_count": 2,
   "metadata": {},
   "outputs": [],
   "source": [
    "import pandas as pd\n",
    "import numpy as np\n",
    "import math\n",
    "\n",
    "import seaborn as sns\n",
    "sns.set_style('whitegrid')\n",
    "import matplotlib.pyplot as plt\n",
    "%matplotlib inline\n",
    "import warnings\n",
    "warnings.simplefilter('ignore')\n",
    "\n",
    "from sklearn.model_selection import train_test_split, cross_val_score, GridSearchCV\n",
    "from sklearn.metrics import mean_squared_error\n",
    "from sklearn.dummy import DummyRegressor\n",
    "from sklearn.linear_model import LinearRegression\n",
    "from sklearn.preprocessing import LabelEncoder, OneHotEncoder, StandardScaler\n",
    "from sklearn.ensemble import GradientBoostingRegressor\n",
    "\n",
    "from catboost import CatBoostRegressor, Pool\n",
    "from lightgbm import LGBMRegressor"
   ]
  },
  {
   "cell_type": "code",
   "execution_count": 3,
   "metadata": {},
   "outputs": [
    {
     "data": {
      "text/html": [
       "<div>\n",
       "<style scoped>\n",
       "    .dataframe tbody tr th:only-of-type {\n",
       "        vertical-align: middle;\n",
       "    }\n",
       "\n",
       "    .dataframe tbody tr th {\n",
       "        vertical-align: top;\n",
       "    }\n",
       "\n",
       "    .dataframe thead th {\n",
       "        text-align: right;\n",
       "    }\n",
       "</style>\n",
       "<table border=\"1\" class=\"dataframe\">\n",
       "  <thead>\n",
       "    <tr style=\"text-align: right;\">\n",
       "      <th></th>\n",
       "      <th>DateCrawled</th>\n",
       "      <th>Price</th>\n",
       "      <th>VehicleType</th>\n",
       "      <th>RegistrationYear</th>\n",
       "      <th>Gearbox</th>\n",
       "      <th>Power</th>\n",
       "      <th>Model</th>\n",
       "      <th>Kilometer</th>\n",
       "      <th>RegistrationMonth</th>\n",
       "      <th>FuelType</th>\n",
       "      <th>Brand</th>\n",
       "      <th>Repaired</th>\n",
       "      <th>DateCreated</th>\n",
       "      <th>NumberOfPictures</th>\n",
       "      <th>PostalCode</th>\n",
       "      <th>LastSeen</th>\n",
       "    </tr>\n",
       "  </thead>\n",
       "  <tbody>\n",
       "    <tr>\n",
       "      <th>0</th>\n",
       "      <td>2016-03-24 11:52:17</td>\n",
       "      <td>480</td>\n",
       "      <td>NaN</td>\n",
       "      <td>1993</td>\n",
       "      <td>manual</td>\n",
       "      <td>0</td>\n",
       "      <td>golf</td>\n",
       "      <td>150000</td>\n",
       "      <td>0</td>\n",
       "      <td>petrol</td>\n",
       "      <td>volkswagen</td>\n",
       "      <td>NaN</td>\n",
       "      <td>2016-03-24 00:00:00</td>\n",
       "      <td>0</td>\n",
       "      <td>70435</td>\n",
       "      <td>2016-04-07 03:16:57</td>\n",
       "    </tr>\n",
       "    <tr>\n",
       "      <th>1</th>\n",
       "      <td>2016-03-24 10:58:45</td>\n",
       "      <td>18300</td>\n",
       "      <td>coupe</td>\n",
       "      <td>2011</td>\n",
       "      <td>manual</td>\n",
       "      <td>190</td>\n",
       "      <td>NaN</td>\n",
       "      <td>125000</td>\n",
       "      <td>5</td>\n",
       "      <td>gasoline</td>\n",
       "      <td>audi</td>\n",
       "      <td>yes</td>\n",
       "      <td>2016-03-24 00:00:00</td>\n",
       "      <td>0</td>\n",
       "      <td>66954</td>\n",
       "      <td>2016-04-07 01:46:50</td>\n",
       "    </tr>\n",
       "    <tr>\n",
       "      <th>2</th>\n",
       "      <td>2016-03-14 12:52:21</td>\n",
       "      <td>9800</td>\n",
       "      <td>suv</td>\n",
       "      <td>2004</td>\n",
       "      <td>auto</td>\n",
       "      <td>163</td>\n",
       "      <td>grand</td>\n",
       "      <td>125000</td>\n",
       "      <td>8</td>\n",
       "      <td>gasoline</td>\n",
       "      <td>jeep</td>\n",
       "      <td>NaN</td>\n",
       "      <td>2016-03-14 00:00:00</td>\n",
       "      <td>0</td>\n",
       "      <td>90480</td>\n",
       "      <td>2016-04-05 12:47:46</td>\n",
       "    </tr>\n",
       "    <tr>\n",
       "      <th>3</th>\n",
       "      <td>2016-03-17 16:54:04</td>\n",
       "      <td>1500</td>\n",
       "      <td>small</td>\n",
       "      <td>2001</td>\n",
       "      <td>manual</td>\n",
       "      <td>75</td>\n",
       "      <td>golf</td>\n",
       "      <td>150000</td>\n",
       "      <td>6</td>\n",
       "      <td>petrol</td>\n",
       "      <td>volkswagen</td>\n",
       "      <td>no</td>\n",
       "      <td>2016-03-17 00:00:00</td>\n",
       "      <td>0</td>\n",
       "      <td>91074</td>\n",
       "      <td>2016-03-17 17:40:17</td>\n",
       "    </tr>\n",
       "    <tr>\n",
       "      <th>4</th>\n",
       "      <td>2016-03-31 17:25:20</td>\n",
       "      <td>3600</td>\n",
       "      <td>small</td>\n",
       "      <td>2008</td>\n",
       "      <td>manual</td>\n",
       "      <td>69</td>\n",
       "      <td>fabia</td>\n",
       "      <td>90000</td>\n",
       "      <td>7</td>\n",
       "      <td>gasoline</td>\n",
       "      <td>skoda</td>\n",
       "      <td>no</td>\n",
       "      <td>2016-03-31 00:00:00</td>\n",
       "      <td>0</td>\n",
       "      <td>60437</td>\n",
       "      <td>2016-04-06 10:17:21</td>\n",
       "    </tr>\n",
       "  </tbody>\n",
       "</table>\n",
       "</div>"
      ],
      "text/plain": [
       "           DateCrawled  Price VehicleType  RegistrationYear Gearbox  Power  \\\n",
       "0  2016-03-24 11:52:17    480         NaN              1993  manual      0   \n",
       "1  2016-03-24 10:58:45  18300       coupe              2011  manual    190   \n",
       "2  2016-03-14 12:52:21   9800         suv              2004    auto    163   \n",
       "3  2016-03-17 16:54:04   1500       small              2001  manual     75   \n",
       "4  2016-03-31 17:25:20   3600       small              2008  manual     69   \n",
       "\n",
       "   Model  Kilometer  RegistrationMonth  FuelType       Brand Repaired  \\\n",
       "0   golf     150000                  0    petrol  volkswagen      NaN   \n",
       "1    NaN     125000                  5  gasoline        audi      yes   \n",
       "2  grand     125000                  8  gasoline        jeep      NaN   \n",
       "3   golf     150000                  6    petrol  volkswagen       no   \n",
       "4  fabia      90000                  7  gasoline       skoda       no   \n",
       "\n",
       "           DateCreated  NumberOfPictures  PostalCode             LastSeen  \n",
       "0  2016-03-24 00:00:00                 0       70435  2016-04-07 03:16:57  \n",
       "1  2016-03-24 00:00:00                 0       66954  2016-04-07 01:46:50  \n",
       "2  2016-03-14 00:00:00                 0       90480  2016-04-05 12:47:46  \n",
       "3  2016-03-17 00:00:00                 0       91074  2016-03-17 17:40:17  \n",
       "4  2016-03-31 00:00:00                 0       60437  2016-04-06 10:17:21  "
      ]
     },
     "execution_count": 3,
     "metadata": {},
     "output_type": "execute_result"
    }
   ],
   "source": [
    "df = pd.read_csv('/datasets/autos.csv')\n",
    "df.head()"
   ]
  },
  {
   "cell_type": "code",
   "execution_count": 4,
   "metadata": {},
   "outputs": [
    {
     "data": {
      "text/html": [
       "<div>\n",
       "<style scoped>\n",
       "    .dataframe tbody tr th:only-of-type {\n",
       "        vertical-align: middle;\n",
       "    }\n",
       "\n",
       "    .dataframe tbody tr th {\n",
       "        vertical-align: top;\n",
       "    }\n",
       "\n",
       "    .dataframe thead th {\n",
       "        text-align: right;\n",
       "    }\n",
       "</style>\n",
       "<table border=\"1\" class=\"dataframe\">\n",
       "  <thead>\n",
       "    <tr style=\"text-align: right;\">\n",
       "      <th></th>\n",
       "      <th>datecrawled</th>\n",
       "      <th>price</th>\n",
       "      <th>vehicletype</th>\n",
       "      <th>registrationyear</th>\n",
       "      <th>gearbox</th>\n",
       "      <th>power</th>\n",
       "      <th>model</th>\n",
       "      <th>kilometer</th>\n",
       "      <th>registrationmonth</th>\n",
       "      <th>fueltype</th>\n",
       "      <th>brand</th>\n",
       "      <th>repaired</th>\n",
       "      <th>datecreated</th>\n",
       "      <th>numberofpictures</th>\n",
       "      <th>postalcode</th>\n",
       "      <th>lastseen</th>\n",
       "    </tr>\n",
       "  </thead>\n",
       "  <tbody>\n",
       "    <tr>\n",
       "      <th>0</th>\n",
       "      <td>2016-03-24 11:52:17</td>\n",
       "      <td>480</td>\n",
       "      <td>NaN</td>\n",
       "      <td>1993</td>\n",
       "      <td>manual</td>\n",
       "      <td>0</td>\n",
       "      <td>golf</td>\n",
       "      <td>150000</td>\n",
       "      <td>0</td>\n",
       "      <td>petrol</td>\n",
       "      <td>volkswagen</td>\n",
       "      <td>NaN</td>\n",
       "      <td>2016-03-24 00:00:00</td>\n",
       "      <td>0</td>\n",
       "      <td>70435</td>\n",
       "      <td>2016-04-07 03:16:57</td>\n",
       "    </tr>\n",
       "    <tr>\n",
       "      <th>1</th>\n",
       "      <td>2016-03-24 10:58:45</td>\n",
       "      <td>18300</td>\n",
       "      <td>coupe</td>\n",
       "      <td>2011</td>\n",
       "      <td>manual</td>\n",
       "      <td>190</td>\n",
       "      <td>NaN</td>\n",
       "      <td>125000</td>\n",
       "      <td>5</td>\n",
       "      <td>gasoline</td>\n",
       "      <td>audi</td>\n",
       "      <td>yes</td>\n",
       "      <td>2016-03-24 00:00:00</td>\n",
       "      <td>0</td>\n",
       "      <td>66954</td>\n",
       "      <td>2016-04-07 01:46:50</td>\n",
       "    </tr>\n",
       "    <tr>\n",
       "      <th>2</th>\n",
       "      <td>2016-03-14 12:52:21</td>\n",
       "      <td>9800</td>\n",
       "      <td>suv</td>\n",
       "      <td>2004</td>\n",
       "      <td>auto</td>\n",
       "      <td>163</td>\n",
       "      <td>grand</td>\n",
       "      <td>125000</td>\n",
       "      <td>8</td>\n",
       "      <td>gasoline</td>\n",
       "      <td>jeep</td>\n",
       "      <td>NaN</td>\n",
       "      <td>2016-03-14 00:00:00</td>\n",
       "      <td>0</td>\n",
       "      <td>90480</td>\n",
       "      <td>2016-04-05 12:47:46</td>\n",
       "    </tr>\n",
       "    <tr>\n",
       "      <th>3</th>\n",
       "      <td>2016-03-17 16:54:04</td>\n",
       "      <td>1500</td>\n",
       "      <td>small</td>\n",
       "      <td>2001</td>\n",
       "      <td>manual</td>\n",
       "      <td>75</td>\n",
       "      <td>golf</td>\n",
       "      <td>150000</td>\n",
       "      <td>6</td>\n",
       "      <td>petrol</td>\n",
       "      <td>volkswagen</td>\n",
       "      <td>no</td>\n",
       "      <td>2016-03-17 00:00:00</td>\n",
       "      <td>0</td>\n",
       "      <td>91074</td>\n",
       "      <td>2016-03-17 17:40:17</td>\n",
       "    </tr>\n",
       "    <tr>\n",
       "      <th>4</th>\n",
       "      <td>2016-03-31 17:25:20</td>\n",
       "      <td>3600</td>\n",
       "      <td>small</td>\n",
       "      <td>2008</td>\n",
       "      <td>manual</td>\n",
       "      <td>69</td>\n",
       "      <td>fabia</td>\n",
       "      <td>90000</td>\n",
       "      <td>7</td>\n",
       "      <td>gasoline</td>\n",
       "      <td>skoda</td>\n",
       "      <td>no</td>\n",
       "      <td>2016-03-31 00:00:00</td>\n",
       "      <td>0</td>\n",
       "      <td>60437</td>\n",
       "      <td>2016-04-06 10:17:21</td>\n",
       "    </tr>\n",
       "  </tbody>\n",
       "</table>\n",
       "</div>"
      ],
      "text/plain": [
       "           datecrawled  price vehicletype  registrationyear gearbox  power  \\\n",
       "0  2016-03-24 11:52:17    480         NaN              1993  manual      0   \n",
       "1  2016-03-24 10:58:45  18300       coupe              2011  manual    190   \n",
       "2  2016-03-14 12:52:21   9800         suv              2004    auto    163   \n",
       "3  2016-03-17 16:54:04   1500       small              2001  manual     75   \n",
       "4  2016-03-31 17:25:20   3600       small              2008  manual     69   \n",
       "\n",
       "   model  kilometer  registrationmonth  fueltype       brand repaired  \\\n",
       "0   golf     150000                  0    petrol  volkswagen      NaN   \n",
       "1    NaN     125000                  5  gasoline        audi      yes   \n",
       "2  grand     125000                  8  gasoline        jeep      NaN   \n",
       "3   golf     150000                  6    petrol  volkswagen       no   \n",
       "4  fabia      90000                  7  gasoline       skoda       no   \n",
       "\n",
       "           datecreated  numberofpictures  postalcode             lastseen  \n",
       "0  2016-03-24 00:00:00                 0       70435  2016-04-07 03:16:57  \n",
       "1  2016-03-24 00:00:00                 0       66954  2016-04-07 01:46:50  \n",
       "2  2016-03-14 00:00:00                 0       90480  2016-04-05 12:47:46  \n",
       "3  2016-03-17 00:00:00                 0       91074  2016-03-17 17:40:17  \n",
       "4  2016-03-31 00:00:00                 0       60437  2016-04-06 10:17:21  "
      ]
     },
     "execution_count": 4,
     "metadata": {},
     "output_type": "execute_result"
    }
   ],
   "source": [
    "cols_to_rename = df.columns.str.lower()\n",
    "\n",
    "cols = {}\n",
    "for key, val in zip(df.columns, cols_to_rename):\n",
    "    cols.update({key: val})\n",
    "    \n",
    "df = df.rename(columns=cols)\n",
    "df.head()"
   ]
  },
  {
   "cell_type": "code",
   "execution_count": 5,
   "metadata": {},
   "outputs": [
    {
     "data": {
      "text/plain": [
       "(354369, 16)"
      ]
     },
     "execution_count": 5,
     "metadata": {},
     "output_type": "execute_result"
    }
   ],
   "source": [
    "df.shape"
   ]
  },
  {
   "cell_type": "code",
   "execution_count": 6,
   "metadata": {},
   "outputs": [
    {
     "data": {
      "text/plain": [
       "datecrawled              0\n",
       "price                    0\n",
       "vehicletype          37490\n",
       "registrationyear         0\n",
       "gearbox              19833\n",
       "power                    0\n",
       "model                19705\n",
       "kilometer                0\n",
       "registrationmonth        0\n",
       "fueltype             32895\n",
       "brand                    0\n",
       "repaired             71154\n",
       "datecreated              0\n",
       "numberofpictures         0\n",
       "postalcode               0\n",
       "lastseen                 0\n",
       "dtype: int64"
      ]
     },
     "execution_count": 6,
     "metadata": {},
     "output_type": "execute_result"
    }
   ],
   "source": [
    "df.isna().sum()"
   ]
  },
  {
   "cell_type": "markdown",
   "metadata": {},
   "source": [
    "**Много пропусков в категориальных признаках**\n",
    "\n",
    "Будет правильным заполнить их категорией Unknown"
   ]
  },
  {
   "cell_type": "code",
   "execution_count": 7,
   "metadata": {},
   "outputs": [
    {
     "data": {
      "text/plain": [
       "datecrawled          0\n",
       "price                0\n",
       "vehicletype          0\n",
       "registrationyear     0\n",
       "gearbox              0\n",
       "power                0\n",
       "model                0\n",
       "kilometer            0\n",
       "registrationmonth    0\n",
       "fueltype             0\n",
       "brand                0\n",
       "repaired             0\n",
       "datecreated          0\n",
       "numberofpictures     0\n",
       "postalcode           0\n",
       "lastseen             0\n",
       "dtype: int64"
      ]
     },
     "execution_count": 7,
     "metadata": {},
     "output_type": "execute_result"
    }
   ],
   "source": [
    "df[['vehicletype', 'gearbox', 'model', 'fueltype', 'repaired',]] = \\\n",
    "df[['vehicletype', 'gearbox', 'model', 'fueltype', 'repaired',]].fillna('unknown')\n",
    "df.isna().sum()"
   ]
  },
  {
   "cell_type": "code",
   "execution_count": 8,
   "metadata": {},
   "outputs": [
    {
     "name": "stdout",
     "output_type": "stream",
     "text": [
      "<class 'pandas.core.frame.DataFrame'>\n",
      "RangeIndex: 354369 entries, 0 to 354368\n",
      "Data columns (total 16 columns):\n",
      " #   Column             Non-Null Count   Dtype \n",
      "---  ------             --------------   ----- \n",
      " 0   datecrawled        354369 non-null  object\n",
      " 1   price              354369 non-null  int64 \n",
      " 2   vehicletype        354369 non-null  object\n",
      " 3   registrationyear   354369 non-null  int64 \n",
      " 4   gearbox            354369 non-null  object\n",
      " 5   power              354369 non-null  int64 \n",
      " 6   model              354369 non-null  object\n",
      " 7   kilometer          354369 non-null  int64 \n",
      " 8   registrationmonth  354369 non-null  int64 \n",
      " 9   fueltype           354369 non-null  object\n",
      " 10  brand              354369 non-null  object\n",
      " 11  repaired           354369 non-null  object\n",
      " 12  datecreated        354369 non-null  object\n",
      " 13  numberofpictures   354369 non-null  int64 \n",
      " 14  postalcode         354369 non-null  int64 \n",
      " 15  lastseen           354369 non-null  object\n",
      "dtypes: int64(7), object(9)\n",
      "memory usage: 43.3+ MB\n"
     ]
    }
   ],
   "source": [
    "df.info()"
   ]
  },
  {
   "cell_type": "markdown",
   "metadata": {},
   "source": [
    "**Типы данных приведены в порядок**"
   ]
  },
  {
   "cell_type": "code",
   "execution_count": 9,
   "metadata": {},
   "outputs": [
    {
     "data": {
      "text/html": [
       "<div>\n",
       "<style scoped>\n",
       "    .dataframe tbody tr th:only-of-type {\n",
       "        vertical-align: middle;\n",
       "    }\n",
       "\n",
       "    .dataframe tbody tr th {\n",
       "        vertical-align: top;\n",
       "    }\n",
       "\n",
       "    .dataframe thead th {\n",
       "        text-align: right;\n",
       "    }\n",
       "</style>\n",
       "<table border=\"1\" class=\"dataframe\">\n",
       "  <thead>\n",
       "    <tr style=\"text-align: right;\">\n",
       "      <th></th>\n",
       "      <th>count</th>\n",
       "      <th>mean</th>\n",
       "      <th>std</th>\n",
       "      <th>min</th>\n",
       "      <th>25%</th>\n",
       "      <th>50%</th>\n",
       "      <th>75%</th>\n",
       "      <th>max</th>\n",
       "    </tr>\n",
       "  </thead>\n",
       "  <tbody>\n",
       "    <tr>\n",
       "      <th>price</th>\n",
       "      <td>354369.0</td>\n",
       "      <td>4416.656776</td>\n",
       "      <td>4514.158514</td>\n",
       "      <td>0.0</td>\n",
       "      <td>1050.0</td>\n",
       "      <td>2700.0</td>\n",
       "      <td>6400.0</td>\n",
       "      <td>20000.0</td>\n",
       "    </tr>\n",
       "    <tr>\n",
       "      <th>registrationyear</th>\n",
       "      <td>354369.0</td>\n",
       "      <td>2004.234448</td>\n",
       "      <td>90.227958</td>\n",
       "      <td>1000.0</td>\n",
       "      <td>1999.0</td>\n",
       "      <td>2003.0</td>\n",
       "      <td>2008.0</td>\n",
       "      <td>9999.0</td>\n",
       "    </tr>\n",
       "    <tr>\n",
       "      <th>power</th>\n",
       "      <td>354369.0</td>\n",
       "      <td>110.094337</td>\n",
       "      <td>189.850405</td>\n",
       "      <td>0.0</td>\n",
       "      <td>69.0</td>\n",
       "      <td>105.0</td>\n",
       "      <td>143.0</td>\n",
       "      <td>20000.0</td>\n",
       "    </tr>\n",
       "    <tr>\n",
       "      <th>kilometer</th>\n",
       "      <td>354369.0</td>\n",
       "      <td>128211.172535</td>\n",
       "      <td>37905.341530</td>\n",
       "      <td>5000.0</td>\n",
       "      <td>125000.0</td>\n",
       "      <td>150000.0</td>\n",
       "      <td>150000.0</td>\n",
       "      <td>150000.0</td>\n",
       "    </tr>\n",
       "    <tr>\n",
       "      <th>registrationmonth</th>\n",
       "      <td>354369.0</td>\n",
       "      <td>5.714645</td>\n",
       "      <td>3.726421</td>\n",
       "      <td>0.0</td>\n",
       "      <td>3.0</td>\n",
       "      <td>6.0</td>\n",
       "      <td>9.0</td>\n",
       "      <td>12.0</td>\n",
       "    </tr>\n",
       "    <tr>\n",
       "      <th>numberofpictures</th>\n",
       "      <td>354369.0</td>\n",
       "      <td>0.000000</td>\n",
       "      <td>0.000000</td>\n",
       "      <td>0.0</td>\n",
       "      <td>0.0</td>\n",
       "      <td>0.0</td>\n",
       "      <td>0.0</td>\n",
       "      <td>0.0</td>\n",
       "    </tr>\n",
       "    <tr>\n",
       "      <th>postalcode</th>\n",
       "      <td>354369.0</td>\n",
       "      <td>50508.689087</td>\n",
       "      <td>25783.096248</td>\n",
       "      <td>1067.0</td>\n",
       "      <td>30165.0</td>\n",
       "      <td>49413.0</td>\n",
       "      <td>71083.0</td>\n",
       "      <td>99998.0</td>\n",
       "    </tr>\n",
       "  </tbody>\n",
       "</table>\n",
       "</div>"
      ],
      "text/plain": [
       "                      count           mean           std     min       25%  \\\n",
       "price              354369.0    4416.656776   4514.158514     0.0    1050.0   \n",
       "registrationyear   354369.0    2004.234448     90.227958  1000.0    1999.0   \n",
       "power              354369.0     110.094337    189.850405     0.0      69.0   \n",
       "kilometer          354369.0  128211.172535  37905.341530  5000.0  125000.0   \n",
       "registrationmonth  354369.0       5.714645      3.726421     0.0       3.0   \n",
       "numberofpictures   354369.0       0.000000      0.000000     0.0       0.0   \n",
       "postalcode         354369.0   50508.689087  25783.096248  1067.0   30165.0   \n",
       "\n",
       "                        50%       75%       max  \n",
       "price                2700.0    6400.0   20000.0  \n",
       "registrationyear     2003.0    2008.0    9999.0  \n",
       "power                 105.0     143.0   20000.0  \n",
       "kilometer          150000.0  150000.0  150000.0  \n",
       "registrationmonth       6.0       9.0      12.0  \n",
       "numberofpictures        0.0       0.0       0.0  \n",
       "postalcode          49413.0   71083.0   99998.0  "
      ]
     },
     "execution_count": 9,
     "metadata": {},
     "output_type": "execute_result"
    }
   ],
   "source": [
    "df.describe().T"
   ]
  },
  {
   "cell_type": "code",
   "execution_count": 10,
   "metadata": {},
   "outputs": [
    {
     "data": {
      "text/plain": [
       "4"
      ]
     },
     "execution_count": 10,
     "metadata": {},
     "output_type": "execute_result"
    }
   ],
   "source": [
    "df.duplicated().sum()"
   ]
  },
  {
   "cell_type": "code",
   "execution_count": 11,
   "metadata": {},
   "outputs": [
    {
     "data": {
      "text/plain": [
       "(354365, 16)"
      ]
     },
     "execution_count": 11,
     "metadata": {},
     "output_type": "execute_result"
    }
   ],
   "source": [
    "df = df.drop_duplicates()\n",
    "df.shape"
   ]
  },
  {
   "cell_type": "markdown",
   "metadata": {},
   "source": [
    "**Удалены 4 дубликата**"
   ]
  },
  {
   "cell_type": "code",
   "execution_count": 12,
   "metadata": {},
   "outputs": [],
   "source": [
    "# Нам не понадобятся для анализаи обучения моделей некоторые столбцы\n",
    "\n",
    "df.drop(['datecrawled', 'datecreated', 'postalcode', 'lastseen', 'registrationmonth'], axis=1, inplace=True)"
   ]
  },
  {
   "cell_type": "code",
   "execution_count": 13,
   "metadata": {},
   "outputs": [
    {
     "data": {
      "text/plain": [
       "False    247158\n",
       "True     107207\n",
       "Name: repaired, dtype: int64"
      ]
     },
     "execution_count": 13,
     "metadata": {},
     "output_type": "execute_result"
    }
   ],
   "source": [
    "# Тут мы приведём к булиеву типу 0 или 1\n",
    "\n",
    "df.loc[(df['repaired'] == 'yes'), 'repaired'] = 1\n",
    "df.loc[(df['repaired'] == 'no'), 'repaired'] = 0\n",
    "df['repaired'] = df['repaired'].fillna(1).astype(bool)\n",
    "df['repaired'].value_counts()"
   ]
  },
  {
   "cell_type": "markdown",
   "metadata": {},
   "source": [
    "### EDA"
   ]
  },
  {
   "cell_type": "code",
   "execution_count": 14,
   "metadata": {},
   "outputs": [],
   "source": [
    "def distribution(field):\n",
    "    plt.figure(figsize=(10, 5))\n",
    "    sns.histplot(data=df[field], kde=True, alpha=0.5)\n",
    "    plt.title(f'Распределение по {field}')\n",
    "    plt.xlabel(f'Распределение {field}')\n",
    "    plt.ylabel('Величина')\n",
    "    plt.show()\n",
    "    \n",
    "    plt.figure(figsize=(10, 5))\n",
    "    sns.boxplot(data=df[field])\n",
    "    plt.title(f'Boxplot по {field}')\n",
    "    plt.xlabel(f'Распределение {field}')\n",
    "    plt.ylabel('Размах')\n",
    "    plt.show()"
   ]
  },
  {
   "cell_type": "code",
   "execution_count": 15,
   "metadata": {},
   "outputs": [
    {
     "data": {
      "image/png": "[encoded data removed]",
      "text/plain": [
       "<Figure size 720x360 with 1 Axes>"
      ]
     },
     "metadata": {
      "needs_background": "light"
     },
     "output_type": "display_data"
    },
    {
     "data": {
      "image/png": "[encoded data removed]",
      "text/plain": [
       "<Figure size 720x360 with 1 Axes>"
      ]
     },
     "metadata": {
      "needs_background": "light"
     },
     "output_type": "display_data"
    }
   ],
   "source": [
    "distribution('price')"
   ]
  },
  {
   "cell_type": "code",
   "execution_count": 16,
   "metadata": {},
   "outputs": [],
   "source": [
    "df = df.loc[df['price'] > 100]"
   ]
  },
  {
   "cell_type": "code",
   "execution_count": 17,
   "metadata": {},
   "outputs": [
    {
     "data": {
      "image/png": "[encoded data removed]",
      "text/plain": [
       "<Figure size 720x360 with 1 Axes>"
      ]
     },
     "metadata": {
      "needs_background": "light"
     },
     "output_type": "display_data"
    },
    {
     "data": {
      "image/png": "[encoded data removed]",
      "text/plain": [
       "<Figure size 720x360 with 1 Axes>"
      ]
     },
     "metadata": {
      "needs_background": "light"
     },
     "output_type": "display_data"
    }
   ],
   "source": [
    "distribution('kilometer')"
   ]
  },
  {
   "cell_type": "code",
   "execution_count": 18,
   "metadata": {},
   "outputs": [
    {
     "data": {
      "text/plain": [
       "<Figure size 720x360 with 0 Axes>"
      ]
     },
     "metadata": {},
     "output_type": "display_data"
    },
    {
     "data": {
      "image/png": "[encoded data removed]",
      "text/plain": [
       "<Figure size 432x432 with 3 Axes>"
      ]
     },
     "metadata": {
      "needs_background": "light"
     },
     "output_type": "display_data"
    }
   ],
   "source": [
    "plt.figure(figsize=(10, 5))\n",
    "sns.jointplot(x=df['price'], y=df['kilometer'], kind='hex')\n",
    "plt.title('Разброс цены по пробегу')\n",
    "plt.xlabel('Цена')\n",
    "plt.ylabel('Пробег')\n",
    "plt.show()"
   ]
  },
  {
   "cell_type": "code",
   "execution_count": 19,
   "metadata": {},
   "outputs": [
    {
     "data": {
      "image/png": "[encoded data removed]",
      "text/plain": [
       "<Figure size 720x360 with 2 Axes>"
      ]
     },
     "metadata": {
      "needs_background": "light"
     },
     "output_type": "display_data"
    }
   ],
   "source": [
    "corr_matrix = df[['price', 'power', 'kilometer']].corr()\n",
    "\n",
    "plt.figure(figsize=(10, 5))\n",
    "sns.heatmap(corr_matrix, annot=True, fmt='.2f', cmap='coolwarm')\n",
    "plt.show()"
   ]
  },
  {
   "cell_type": "markdown",
   "metadata": {},
   "source": [
    "**Промежуточный вывод**\n",
    "\n",
    "- Большинство машин продаются по цене 2-7 тысяч евро\n",
    "- Большинство машин имеют пробег 100-150 тысяч км\n",
    "- Между ценой и мощностью двигателя есть небольшая корреляция\n",
    "- Между ценой и пробегом есть умеренная обратная корреляция (чем больше пробег, тем меньше цена)"
   ]
  },
  {
   "cell_type": "code",
   "execution_count": 20,
   "metadata": {},
   "outputs": [],
   "source": [
    "def barplot_creator(field):\n",
    "    \n",
    "    value_counts = df[field].value_counts().sort_values(ascending=False)\n",
    "    \n",
    "    plt.figure(figsize=(15, 5))\n",
    "    sns.countplot(x=df[field], alpha=0.5, order=value_counts.index)\n",
    "    plt.title(f'Количество {field}')\n",
    "    plt.xlabel(f'{field}')\n",
    "    plt.xticks(rotation=45)\n",
    "    plt.ylabel('Величина')\n",
    "    plt.show()"
   ]
  },
  {
   "cell_type": "code",
   "execution_count": 21,
   "metadata": {},
   "outputs": [
    {
     "data": {
      "image/png": "[encoded data removed]",
      "text/plain": [
       "<Figure size 1080x360 with 1 Axes>"
      ]
     },
     "metadata": {
      "needs_background": "light"
     },
     "output_type": "display_data"
    }
   ],
   "source": [
    "barplot_creator('numberofpictures')"
   ]
  },
  {
   "cell_type": "code",
   "execution_count": 22,
   "metadata": {},
   "outputs": [
    {
     "data": {
      "text/plain": [
       "0    340020\n",
       "Name: numberofpictures, dtype: int64"
      ]
     },
     "execution_count": 22,
     "metadata": {},
     "output_type": "execute_result"
    }
   ],
   "source": [
    "df['numberofpictures'].value_counts()"
   ]
  },
  {
   "cell_type": "markdown",
   "metadata": {},
   "source": [
    "Фотографий у объявлений нет, значит, столбец можно удалить"
   ]
  },
  {
   "cell_type": "code",
   "execution_count": 23,
   "metadata": {},
   "outputs": [],
   "source": [
    "df.drop(['numberofpictures'], axis=1, inplace=True)"
   ]
  },
  {
   "cell_type": "code",
   "execution_count": 24,
   "metadata": {},
   "outputs": [
    {
     "data": {
      "image/png": "[encoded data removed]",
      "text/plain": [
       "<Figure size 1080x360 with 1 Axes>"
      ]
     },
     "metadata": {
      "needs_background": "light"
     },
     "output_type": "display_data"
    }
   ],
   "source": [
    "barplot_creator('brand')"
   ]
  },
  {
   "cell_type": "code",
   "execution_count": 25,
   "metadata": {},
   "outputs": [
    {
     "data": {
      "image/png": "[encoded data removed]",
      "text/plain": [
       "<Figure size 1080x360 with 1 Axes>"
      ]
     },
     "metadata": {
      "needs_background": "light"
     },
     "output_type": "display_data"
    }
   ],
   "source": [
    "top_5_brands = df[df['brand'].isin(['volkswagen', 'opel', 'bmv', 'mercedes_benz', 'audi'])]\n",
    "\n",
    "\n",
    "value_counts = top_5_brands['model'].value_counts().sort_values(ascending=False)[:15]\n",
    "\n",
    "plt.figure(figsize=(15, 5))\n",
    "sns.countplot(x=top_5_brands['model'], alpha=0.5, order=value_counts.index)\n",
    "plt.title(f'Модели в топ 5 марок')\n",
    "plt.xlabel(f'Модели')\n",
    "plt.xticks(rotation=45)\n",
    "plt.ylabel('Величина')\n",
    "plt.show()"
   ]
  },
  {
   "cell_type": "code",
   "execution_count": 26,
   "metadata": {},
   "outputs": [
    {
     "data": {
      "image/png": "[encoded data removed]",
      "text/plain": [
       "<Figure size 1080x360 with 1 Axes>"
      ]
     },
     "metadata": {
      "needs_background": "light"
     },
     "output_type": "display_data"
    }
   ],
   "source": [
    "barplot_creator('fueltype')"
   ]
  },
  {
   "cell_type": "code",
   "execution_count": 27,
   "metadata": {},
   "outputs": [
    {
     "data": {
      "image/png": "[encoded data removed]",
      "text/plain": [
       "<Figure size 1080x360 with 1 Axes>"
      ]
     },
     "metadata": {
      "needs_background": "light"
     },
     "output_type": "display_data"
    }
   ],
   "source": [
    "barplot_creator('repaired')"
   ]
  },
  {
   "cell_type": "code",
   "execution_count": 28,
   "metadata": {},
   "outputs": [
    {
     "data": {
      "image/png": "[encoded data removed]",
      "text/plain": [
       "<Figure size 1080x360 with 1 Axes>"
      ]
     },
     "metadata": {
      "needs_background": "light"
     },
     "output_type": "display_data"
    }
   ],
   "source": [
    "barplot_creator('gearbox')"
   ]
  },
  {
   "cell_type": "code",
   "execution_count": 29,
   "metadata": {},
   "outputs": [
    {
     "data": {
      "image/png": "[encoded data removed]",
      "text/plain": [
       "<Figure size 1080x360 with 1 Axes>"
      ]
     },
     "metadata": {
      "needs_background": "light"
     },
     "output_type": "display_data"
    }
   ],
   "source": [
    "barplot_creator('registrationyear')"
   ]
  },
  {
   "cell_type": "markdown",
   "metadata": {},
   "source": [
    "Нечитайемый график, да и слишком далеко от уходит в прошлое, поэтому обрежем данные до 1980 года"
   ]
  },
  {
   "cell_type": "code",
   "execution_count": 30,
   "metadata": {},
   "outputs": [
    {
     "data": {
      "text/plain": [
       "(323290, 10)"
      ]
     },
     "execution_count": 30,
     "metadata": {},
     "output_type": "execute_result"
    }
   ],
   "source": [
    "df = df.loc[df['registrationyear'] >= 1980]\n",
    "df = df.loc[df['registrationyear'] <= 2016]\n",
    "df.shape"
   ]
  },
  {
   "cell_type": "markdown",
   "metadata": {},
   "source": [
    "<div class=\"alert alert-info\">\n",
    "Исправил\n",
    "</div>"
   ]
  },
  {
   "cell_type": "code",
   "execution_count": 31,
   "metadata": {},
   "outputs": [
    {
     "data": {
      "image/png": "[encoded data removed]",
      "text/plain": [
       "<Figure size 1080x360 with 1 Axes>"
      ]
     },
     "metadata": {
      "needs_background": "light"
     },
     "output_type": "display_data"
    }
   ],
   "source": [
    "barplot_creator('registrationyear')"
   ]
  },
  {
   "cell_type": "markdown",
   "metadata": {},
   "source": [
    "**Общий вывод по EDA**\n",
    "\n",
    "- Наиболее популярны машины из Германии, США и Франции\n",
    "- Первые 5 объявлений по популярности занимают немецкие марки: Volkswagen, Opel, BMW, Mersedes Benz, Audi\n",
    "- Далее идут Ford (USA), Renault, Peugeot (FR, FR)\n",
    "- Наиболее популярны легковые модели\n",
    "- Значительно меньшую популярность имеют марки из Восточной Европы, России и Азии\n",
    "- Подавляющее большинство испоьзует Petrol/gasoline в качестве топлива\n",
    "\n",
    "\n",
    "- Увеличение пробега снижает стоимость автомобиля\n",
    "- Мощность двигателя с ростом немного повышает стоимость автомобиля\n",
    "- Большинство машин продаются по цене 2-7 тысяч евро\n",
    "- Большинство машин имеют пробег 100-150 тысяч км\n",
    "- Больнитсво машин не ремонтировались\n",
    "- Больнитсво машин имеют механическую коробку передач и около 1/6 – автомат"
   ]
  },
  {
   "cell_type": "markdown",
   "metadata": {},
   "source": [
    "## Обучение моделей"
   ]
  },
  {
   "cell_type": "markdown",
   "metadata": {},
   "source": [
    "### Подготовка признаков"
   ]
  },
  {
   "cell_type": "code",
   "execution_count": 32,
   "metadata": {},
   "outputs": [
    {
     "data": {
      "text/plain": [
       "Index(['price', 'vehicletype', 'registrationyear', 'gearbox', 'power', 'model',\n",
       "       'kilometer', 'fueltype', 'brand', 'repaired'],\n",
       "      dtype='object')"
      ]
     },
     "execution_count": 32,
     "metadata": {},
     "output_type": "execute_result"
    }
   ],
   "source": [
    "df.columns"
   ]
  },
  {
   "cell_type": "code",
   "execution_count": 33,
   "metadata": {},
   "outputs": [],
   "source": [
    "features = df.drop('price', axis=1)\n",
    "target = df['price']\n",
    "\n",
    "cat_features = ['brand', 'model', 'vehicletype', 'gearbox', 'fueltype', 'power', 'kilometer']"
   ]
  },
  {
   "cell_type": "code",
   "execution_count": 34,
   "metadata": {},
   "outputs": [
    {
     "name": "stdout",
     "output_type": "stream",
     "text": [
      "X_train: (161645, 9)\n",
      "X_test: (80822, 9)\n",
      "X_valid: (80823, 9)\n",
      "y_train: (161645,)\n",
      "y_test: (80822,)\n",
      "y_validt: (80823,)\n"
     ]
    }
   ],
   "source": [
    "X_train, X, y_train, y = train_test_split(features, \n",
    "                                           target, \n",
    "                                           random_state=42, \n",
    "                                           test_size=0.5)\n",
    "\n",
    "X_test, X_valid, y_test, y_valid = train_test_split(X, \n",
    "                                                    y, \n",
    "                                                    random_state=42, \n",
    "                                                    test_size=0.5)\n",
    "\n",
    "print(f'X_train: {X_train.shape}\\n'\n",
    "      f'X_test: {X_test.shape}\\n'\n",
    "      f'X_valid: {X_valid.shape}\\n'\n",
    "      f'y_train: {y_train.shape}\\n'\n",
    "      f'y_test: {y_test.shape}\\n'\n",
    "      f'y_validt: {y_valid.shape}')"
   ]
  },
  {
   "cell_type": "code",
   "execution_count": 35,
   "metadata": {},
   "outputs": [],
   "source": [
    "encoder = OneHotEncoder(handle_unknown='ignore', drop='first')\n",
    "\n",
    "encoder.fit(X_train)\n",
    "\n",
    "X_train_encoded = encoder.transform(X_train)\n",
    "X_test_encoded = encoder.transform(X_test)\n",
    "X_valid_encoded = encoder.transform(X_valid)"
   ]
  },
  {
   "cell_type": "code",
   "execution_count": 36,
   "metadata": {},
   "outputs": [],
   "source": [
    "scaler = StandardScaler(with_mean=False)\n",
    "\n",
    "scaler.fit(X_train_encoded)\n",
    "\n",
    "X_train_scaled = scaler.transform(X_train_encoded)\n",
    "X_test_scaled = scaler.transform(X_test_encoded)\n",
    "X_valid_scaled = scaler.transform(X_valid_encoded)"
   ]
  },
  {
   "cell_type": "markdown",
   "metadata": {},
   "source": [
    "### Модели"
   ]
  },
  {
   "cell_type": "markdown",
   "metadata": {},
   "source": [
    "#### Каскадная модель\n",
    "\n",
    "Нужна для того, чтобы обозначить максимально допустимую величину метрики и чтобы убедиться, что в обучении алгоритмов в дальнейшем есть смысл"
   ]
  },
  {
   "cell_type": "code",
   "execution_count": 37,
   "metadata": {},
   "outputs": [
    {
     "name": "stdout",
     "output_type": "stream",
     "text": [
      "CPU times: user 2 µs, sys: 0 ns, total: 2 µs\n",
      "Wall time: 5.25 µs\n",
      "4496.109437686281\n"
     ]
    }
   ],
   "source": [
    "%time\n",
    "cascad_model = DummyRegressor(strategy='mean')\n",
    "cascad_model.fit(X_train_scaled, y_train)\n",
    "\n",
    "y_pred_cascad = cascad_model.predict(X_valid)\n",
    "cascad_MSE = mean_squared_error(y_valid, y_pred_cascad)\n",
    "print(math.sqrt(cascad_MSE))"
   ]
  },
  {
   "cell_type": "markdown",
   "metadata": {},
   "source": [
    "#### Линейная регрессия"
   ]
  },
  {
   "cell_type": "code",
   "execution_count": 38,
   "metadata": {},
   "outputs": [
    {
     "name": "stdout",
     "output_type": "stream",
     "text": [
      "CPU times: user 2 µs, sys: 0 ns, total: 2 µs\n",
      "Wall time: 5.72 µs\n",
      "1981.368169793703\n"
     ]
    }
   ],
   "source": [
    "%time\n",
    "reg_model = LinearRegression()\n",
    "reg_model.fit(X_train_scaled, y_train)\n",
    "\n",
    "y_pred_reg = reg_model.predict(X_valid_scaled)\n",
    "reg_MSE = mean_squared_error(y_valid, y_pred_reg)\n",
    "print(math.sqrt(reg_MSE))"
   ]
  },
  {
   "cell_type": "markdown",
   "metadata": {},
   "source": [
    "#### Градиентный бустинг с Catboost"
   ]
  },
  {
   "cell_type": "code",
   "execution_count": 39,
   "metadata": {},
   "outputs": [
    {
     "name": "stdout",
     "output_type": "stream",
     "text": [
      "CPU times: user 3 µs, sys: 2 µs, total: 5 µs\n",
      "Wall time: 8.34 µs\n",
      "Learning rate set to 0.5\n",
      "0:\tlearn: 3850.2330551\ttotal: 90.1ms\tremaining: 1.71s\n",
      "1:\tlearn: 3602.5033821\ttotal: 113ms\tremaining: 1.02s\n",
      "2:\tlearn: 3436.7541633\ttotal: 142ms\tremaining: 807ms\n",
      "3:\tlearn: 3171.0789099\ttotal: 172ms\tremaining: 687ms\n",
      "4:\tlearn: 3064.6480461\ttotal: 215ms\tremaining: 644ms\n",
      "5:\tlearn: 2972.2137232\ttotal: 244ms\tremaining: 568ms\n",
      "6:\tlearn: 2892.7707393\ttotal: 273ms\tremaining: 507ms\n",
      "7:\tlearn: 2822.4962724\ttotal: 299ms\tremaining: 449ms\n",
      "8:\tlearn: 2762.8897599\ttotal: 326ms\tremaining: 399ms\n",
      "9:\tlearn: 2718.2265219\ttotal: 351ms\tremaining: 351ms\n",
      "10:\tlearn: 2661.1513595\ttotal: 379ms\tremaining: 310ms\n",
      "11:\tlearn: 2629.9748792\ttotal: 407ms\tremaining: 271ms\n",
      "12:\tlearn: 2599.7121248\ttotal: 428ms\tremaining: 231ms\n",
      "13:\tlearn: 2572.6521530\ttotal: 450ms\tremaining: 193ms\n",
      "14:\tlearn: 2550.0296052\ttotal: 471ms\tremaining: 157ms\n",
      "15:\tlearn: 2527.0072528\ttotal: 492ms\tremaining: 123ms\n",
      "16:\tlearn: 2507.0809785\ttotal: 514ms\tremaining: 90.8ms\n",
      "17:\tlearn: 2493.5977364\ttotal: 541ms\tremaining: 60.1ms\n",
      "18:\tlearn: 2480.4042769\ttotal: 563ms\tremaining: 29.6ms\n",
      "19:\tlearn: 2469.2885543\ttotal: 586ms\tremaining: 0us\n",
      "2454.436144848688\n",
      "Learning rate set to 0.5\n",
      "0:\tlearn: 3641.1253350\ttotal: 43.5ms\tremaining: 826ms\n",
      "1:\tlearn: 3250.7431416\ttotal: 75.8ms\tremaining: 682ms\n",
      "2:\tlearn: 2986.0062126\ttotal: 104ms\tremaining: 590ms\n",
      "3:\tlearn: 2721.2860865\ttotal: 150ms\tremaining: 602ms\n",
      "4:\tlearn: 2605.0353844\ttotal: 181ms\tremaining: 544ms\n",
      "5:\tlearn: 2529.2648670\ttotal: 213ms\tremaining: 498ms\n",
      "6:\tlearn: 2464.8400203\ttotal: 249ms\tremaining: 462ms\n",
      "7:\tlearn: 2413.1268267\ttotal: 287ms\tremaining: 430ms\n",
      "8:\tlearn: 2376.8027024\ttotal: 325ms\tremaining: 398ms\n",
      "9:\tlearn: 2353.7737133\ttotal: 357ms\tremaining: 357ms\n",
      "10:\tlearn: 2314.2860284\ttotal: 389ms\tremaining: 318ms\n",
      "11:\tlearn: 2299.6829892\ttotal: 421ms\tremaining: 280ms\n",
      "12:\tlearn: 2282.2566683\ttotal: 453ms\tremaining: 244ms\n",
      "13:\tlearn: 2269.4426964\ttotal: 483ms\tremaining: 207ms\n",
      "14:\tlearn: 2259.1328715\ttotal: 513ms\tremaining: 171ms\n",
      "15:\tlearn: 2234.1567516\ttotal: 543ms\tremaining: 136ms\n",
      "16:\tlearn: 2221.5546150\ttotal: 575ms\tremaining: 102ms\n",
      "17:\tlearn: 2204.2849786\ttotal: 605ms\tremaining: 67.2ms\n",
      "18:\tlearn: 2195.1003893\ttotal: 635ms\tremaining: 33.4ms\n",
      "19:\tlearn: 2184.8832444\ttotal: 667ms\tremaining: 0us\n",
      "2177.00464316682\n",
      "Learning rate set to 0.5\n",
      "0:\tlearn: 3540.7619317\ttotal: 51.8ms\tremaining: 984ms\n",
      "1:\tlearn: 3058.4823696\ttotal: 94.2ms\tremaining: 848ms\n",
      "2:\tlearn: 2773.3622887\ttotal: 135ms\tremaining: 767ms\n",
      "3:\tlearn: 2520.5248081\ttotal: 184ms\tremaining: 736ms\n",
      "4:\tlearn: 2409.4634196\ttotal: 218ms\tremaining: 653ms\n",
      "5:\tlearn: 2320.8580180\ttotal: 258ms\tremaining: 601ms\n",
      "6:\tlearn: 2286.2406292\ttotal: 292ms\tremaining: 542ms\n",
      "7:\tlearn: 2264.2410292\ttotal: 341ms\tremaining: 511ms\n",
      "8:\tlearn: 2238.1493893\ttotal: 377ms\tremaining: 461ms\n",
      "9:\tlearn: 2207.8256835\ttotal: 412ms\tremaining: 412ms\n",
      "10:\tlearn: 2180.8558030\ttotal: 447ms\tremaining: 366ms\n",
      "11:\tlearn: 2156.2174528\ttotal: 481ms\tremaining: 321ms\n",
      "12:\tlearn: 2138.2471439\ttotal: 518ms\tremaining: 279ms\n",
      "13:\tlearn: 2128.1322877\ttotal: 552ms\tremaining: 237ms\n",
      "14:\tlearn: 2116.6388851\ttotal: 587ms\tremaining: 196ms\n",
      "15:\tlearn: 2108.1072927\ttotal: 620ms\tremaining: 155ms\n",
      "16:\tlearn: 2100.8771071\ttotal: 655ms\tremaining: 116ms\n",
      "17:\tlearn: 2092.8954788\ttotal: 689ms\tremaining: 76.6ms\n",
      "18:\tlearn: 2084.6210246\ttotal: 724ms\tremaining: 38.1ms\n",
      "19:\tlearn: 2072.7652175\ttotal: 759ms\tremaining: 0us\n",
      "2052.424188458942\n",
      "Learning rate set to 0.5\n",
      "0:\tlearn: 3455.4587115\ttotal: 64ms\tremaining: 1.22s\n",
      "1:\tlearn: 2926.5944432\ttotal: 123ms\tremaining: 1.1s\n",
      "2:\tlearn: 2578.8748790\ttotal: 170ms\tremaining: 961ms\n",
      "3:\tlearn: 2407.4322482\ttotal: 215ms\tremaining: 861ms\n",
      "4:\tlearn: 2285.0487468\ttotal: 261ms\tremaining: 782ms\n",
      "5:\tlearn: 2245.5689790\ttotal: 302ms\tremaining: 705ms\n",
      "6:\tlearn: 2198.8950523\ttotal: 346ms\tremaining: 643ms\n",
      "7:\tlearn: 2169.8975832\ttotal: 389ms\tremaining: 583ms\n",
      "8:\tlearn: 2146.1376487\ttotal: 429ms\tremaining: 525ms\n",
      "9:\tlearn: 2123.8033768\ttotal: 476ms\tremaining: 476ms\n",
      "10:\tlearn: 2096.4017815\ttotal: 535ms\tremaining: 438ms\n",
      "11:\tlearn: 2081.7691887\ttotal: 590ms\tremaining: 393ms\n",
      "12:\tlearn: 2073.0737174\ttotal: 644ms\tremaining: 347ms\n",
      "13:\tlearn: 2062.1008514\ttotal: 697ms\tremaining: 299ms\n",
      "14:\tlearn: 2052.2975146\ttotal: 740ms\tremaining: 247ms\n",
      "15:\tlearn: 2043.8659409\ttotal: 782ms\tremaining: 195ms\n",
      "16:\tlearn: 2036.9899284\ttotal: 825ms\tremaining: 146ms\n",
      "17:\tlearn: 2032.0867980\ttotal: 867ms\tremaining: 96.3ms\n",
      "18:\tlearn: 2020.5344857\ttotal: 909ms\tremaining: 47.8ms\n",
      "19:\tlearn: 2015.6791926\ttotal: 957ms\tremaining: 0us\n",
      "1991.9632435087285\n",
      "Learning rate set to 0.5\n",
      "0:\tlearn: 3348.0801389\ttotal: 71.6ms\tremaining: 1.36s\n",
      "1:\tlearn: 2792.6066897\ttotal: 127ms\tremaining: 1.15s\n",
      "2:\tlearn: 2514.0595259\ttotal: 190ms\tremaining: 1.07s\n",
      "3:\tlearn: 2301.1935996\ttotal: 244ms\tremaining: 975ms\n",
      "4:\tlearn: 2220.0407430\ttotal: 291ms\tremaining: 874ms\n",
      "5:\tlearn: 2165.1805635\ttotal: 348ms\tremaining: 811ms\n",
      "6:\tlearn: 2132.3826235\ttotal: 398ms\tremaining: 738ms\n",
      "7:\tlearn: 2097.3105557\ttotal: 448ms\tremaining: 672ms\n",
      "8:\tlearn: 2075.0951438\ttotal: 498ms\tremaining: 609ms\n",
      "9:\tlearn: 2050.4814676\ttotal: 547ms\tremaining: 547ms\n",
      "10:\tlearn: 2033.8580207\ttotal: 599ms\tremaining: 490ms\n",
      "11:\tlearn: 2024.4441577\ttotal: 651ms\tremaining: 434ms\n",
      "12:\tlearn: 2007.2522622\ttotal: 709ms\tremaining: 382ms\n",
      "13:\tlearn: 1996.8783553\ttotal: 766ms\tremaining: 328ms\n",
      "14:\tlearn: 1984.8952440\ttotal: 820ms\tremaining: 273ms\n",
      "15:\tlearn: 1971.8054990\ttotal: 872ms\tremaining: 218ms\n",
      "16:\tlearn: 1966.4285724\ttotal: 927ms\tremaining: 164ms\n",
      "17:\tlearn: 1960.0454790\ttotal: 983ms\tremaining: 109ms\n",
      "18:\tlearn: 1953.8572231\ttotal: 1.03s\tremaining: 54.4ms\n",
      "19:\tlearn: 1947.4004438\ttotal: 1.08s\tremaining: 0us\n",
      "1935.820560381317\n"
     ]
    }
   ],
   "source": [
    "# CatBoost\n",
    "\n",
    "%time\n",
    "for i in range(1, 6):\n",
    "    model_catboost = CatBoostRegressor(loss_function='RMSE', iterations=20, depth=i)\n",
    "    model_catboost.fit(X_train, y_train, cat_features=cat_features)\n",
    "    y_pred_catboost = model_catboost.predict(X_valid)\n",
    "    \n",
    "    catboost_MSE = mean_squared_error(y_valid, y_pred_catboost)\n",
    "    print(math.sqrt(catboost_MSE))"
   ]
  },
  {
   "cell_type": "markdown",
   "metadata": {},
   "source": [
    "#### Градиентный бустинг с LightGBM"
   ]
  },
  {
   "cell_type": "code",
   "execution_count": 40,
   "metadata": {},
   "outputs": [
    {
     "name": "stdout",
     "output_type": "stream",
     "text": [
      "CPU times: user 2 µs, sys: 1 µs, total: 3 µs\n",
      "Wall time: 5.96 µs\n",
      "MSE: 1896.1967626506664. Number of iterations 1\n",
      "MSE: 1896.1967626506664. Number of iterations 2\n",
      "MSE: 1896.1967626506664. Number of iterations 3\n",
      "MSE: 1896.1967626506664. Number of iterations 4\n",
      "{1896.1967626506664: 4}\n"
     ]
    }
   ],
   "source": [
    "# LightGBM\n",
    "\n",
    "metrics = {}\n",
    "%time\n",
    "for i in range(1, 5):\n",
    "    model_lgbm = LGBMRegressor(n_jobs=i)\n",
    "    model_lgbm.fit(X_train_encoded, y_train)\n",
    "    y_pred_lgbm = model_lgbm.predict(X_valid_encoded)\n",
    "    lgbm_MSE = mean_squared_error(y_valid, y_pred_lgbm)\n",
    "    metrics.update({math.sqrt(lgbm_MSE) : i})\n",
    "    print(f'MSE: {math.sqrt(lgbm_MSE)}. Number of iterations {i}')\n",
    "\n",
    "        \n",
    "min_key = min(metrics, key=lambda k: metrics[k])\n",
    "\n",
    "min_item = {min_key: metrics[min_key]}\n",
    "print(min_item)"
   ]
  },
  {
   "cell_type": "markdown",
   "metadata": {},
   "source": [
    "#### GradientBoostingRegressor"
   ]
  },
  {
   "cell_type": "code",
   "execution_count": 41,
   "metadata": {},
   "outputs": [
    {
     "name": "stdout",
     "output_type": "stream",
     "text": [
      "RMSE: 4443.755858018733, estimators: 1, depth: 1\n",
      "RMSE: 4385.506039225644, estimators: 1, depth: 2\n",
      "RMSE: 4358.488508620953, estimators: 1, depth: 3\n",
      "RMSE: 4332.723085787908, estimators: 1, depth: 4\n",
      "RMSE: 4312.999119030347, estimators: 1, depth: 5\n",
      "RMSE: 4400.916456902747, estimators: 2, depth: 1\n",
      "RMSE: 4292.399641453451, estimators: 2, depth: 2\n",
      "RMSE: 4243.261491655265, estimators: 2, depth: 3\n",
      "RMSE: 4195.484983806231, estimators: 2, depth: 4\n",
      "RMSE: 4157.208712703795, estimators: 2, depth: 5\n",
      "RMSE: 4358.496029566976, estimators: 3, depth: 1\n",
      "RMSE: 4213.692644362823, estimators: 3, depth: 2\n",
      "RMSE: 4140.473669679964, estimators: 3, depth: 3\n",
      "RMSE: 4078.071899311677, estimators: 3, depth: 4\n",
      "RMSE: 4022.8733961626704, estimators: 3, depth: 5\n",
      "RMSE: 4321.977432533526, estimators: 4, depth: 1\n",
      "RMSE: 4155.356827926711, estimators: 4, depth: 2\n",
      "RMSE: 4055.5693398488584, estimators: 4, depth: 3\n",
      "RMSE: 3975.7672291639856, estimators: 4, depth: 4\n",
      "RMSE: 3907.6112002315695, estimators: 4, depth: 5\n",
      "RMSE: 4285.96068638152, estimators: 5, depth: 1\n",
      "RMSE: 4106.234754097496, estimators: 5, depth: 2\n",
      "RMSE: 3987.9725649451166, estimators: 5, depth: 3\n",
      "RMSE: 3885.4575416480116, estimators: 5, depth: 4\n",
      "RMSE: 3803.493617972676, estimators: 5, depth: 5\n"
     ]
    }
   ],
   "source": [
    "for i in range(1, 6):\n",
    "    for j in range(1, 6):\n",
    "        gb_model = GradientBoostingRegressor(loss='ls', \n",
    "                                             n_estimators=i,\n",
    "                                             max_depth=j)\n",
    "        gb_model.fit(X_train_encoded, y_train)\n",
    "        y_pred_gb = gb_model.predict(X_valid_encoded)\n",
    "        mse_gb = mean_squared_error(y_valid, y_pred_gb)\n",
    "        print(f'RMSE: {math.sqrt(mse_gb)}, estimators: {i}, depth: {j}')"
   ]
  },
  {
   "cell_type": "markdown",
   "metadata": {},
   "source": [
    "Здесь метрика недопустимо большая"
   ]
  },
  {
   "cell_type": "markdown",
   "metadata": {},
   "source": [
    "**Вывод**\n",
    "\n",
    "Мы рассмотрели 5 моделей:\n",
    "- DummyRegressor\n",
    "- LinearRegression\n",
    "- Catboost\n",
    "- LightGBM\n",
    "- GradientBoostingRegressor\n",
    "\n",
    "каскажная модель и последняя показали слишком высокую метрику, поэтому будем рассматривать 2-4"
   ]
  },
  {
   "cell_type": "markdown",
   "metadata": {},
   "source": [
    "## Анализ моделей"
   ]
  },
  {
   "cell_type": "markdown",
   "metadata": {},
   "source": [
    "Мы подобрали оптимальные гиперпараметры для моделей, теперь проверим их на переобучаемость, а также оценим время их обучения и предсказания"
   ]
  },
  {
   "cell_type": "code",
   "execution_count": 42,
   "metadata": {},
   "outputs": [
    {
     "name": "stdout",
     "output_type": "stream",
     "text": [
      "CPU times: user 4.85 s, sys: 6.38 s, total: 11.2 s\n",
      "Wall time: 11.2 s\n",
      "CPU times: user 11.2 ms, sys: 3.38 ms, total: 14.6 ms\n",
      "Wall time: 2.56 ms\n",
      "1981.368169793703\n"
     ]
    }
   ],
   "source": [
    "reg_model = LinearRegression()\n",
    "%time reg_model.fit(X_train_scaled, y_train)\n",
    "%time reg_y_pred = reg_model.predict(X_valid_scaled)\n",
    "reg_MSE = mean_squared_error(y_valid, reg_y_pred)\n",
    "print(math.sqrt(reg_MSE))"
   ]
  },
  {
   "cell_type": "code",
   "execution_count": 43,
   "metadata": {},
   "outputs": [
    {
     "name": "stdout",
     "output_type": "stream",
     "text": [
      "Learning rate set to 0.5\n",
      "0:\tlearn: 3348.0801389\ttotal: 74.5ms\tremaining: 1.42s\n",
      "1:\tlearn: 2792.6066897\ttotal: 138ms\tremaining: 1.24s\n",
      "2:\tlearn: 2514.0595259\ttotal: 199ms\tremaining: 1.13s\n",
      "3:\tlearn: 2301.1935996\ttotal: 253ms\tremaining: 1.01s\n",
      "4:\tlearn: 2220.0407430\ttotal: 306ms\tremaining: 918ms\n",
      "5:\tlearn: 2165.1805635\ttotal: 365ms\tremaining: 851ms\n",
      "6:\tlearn: 2132.3826235\ttotal: 420ms\tremaining: 779ms\n",
      "7:\tlearn: 2097.3105557\ttotal: 472ms\tremaining: 709ms\n",
      "8:\tlearn: 2075.0951438\ttotal: 524ms\tremaining: 641ms\n",
      "9:\tlearn: 2050.4814676\ttotal: 577ms\tremaining: 577ms\n",
      "10:\tlearn: 2033.8580207\ttotal: 631ms\tremaining: 516ms\n",
      "11:\tlearn: 2024.4441577\ttotal: 685ms\tremaining: 457ms\n",
      "12:\tlearn: 2007.2522622\ttotal: 739ms\tremaining: 398ms\n",
      "13:\tlearn: 1996.8783553\ttotal: 795ms\tremaining: 341ms\n",
      "14:\tlearn: 1984.8952440\ttotal: 844ms\tremaining: 281ms\n",
      "15:\tlearn: 1971.8054990\ttotal: 894ms\tremaining: 223ms\n",
      "16:\tlearn: 1966.4285724\ttotal: 943ms\tremaining: 166ms\n",
      "17:\tlearn: 1960.0454790\ttotal: 995ms\tremaining: 111ms\n",
      "18:\tlearn: 1953.8572231\ttotal: 1.04s\tremaining: 54.9ms\n",
      "19:\tlearn: 1947.4004438\ttotal: 1.09s\tremaining: 0us\n",
      "CPU times: user 1.44 s, sys: 28 ms, total: 1.47 s\n",
      "Wall time: 2.14 s\n",
      "CPU times: user 125 ms, sys: 1.03 ms, total: 126 ms\n",
      "Wall time: 126 ms\n",
      "1935.820560381317\n"
     ]
    }
   ],
   "source": [
    "model_catboost = CatBoostRegressor(loss_function='RMSE', iterations=20, depth=5)\n",
    "%time model_catboost.fit(X_train, y_train, cat_features=cat_features)\n",
    "%time y_pred_catboost = model_catboost.predict(X_valid)\n",
    "catboost_MSE = mean_squared_error(y_valid, y_pred_catboost)\n",
    "print(math.sqrt(catboost_MSE))"
   ]
  },
  {
   "cell_type": "code",
   "execution_count": 44,
   "metadata": {},
   "outputs": [
    {
     "name": "stdout",
     "output_type": "stream",
     "text": [
      "CPU times: user 2.24 s, sys: 0 ns, total: 2.24 s\n",
      "Wall time: 2.23 s\n",
      "CPU times: user 677 ms, sys: 0 ns, total: 677 ms\n",
      "Wall time: 700 ms\n",
      "1896.1967626506664\n"
     ]
    }
   ],
   "source": [
    "model_lgbm = LGBMRegressor(n_jobs=4)\n",
    "%time model_lgbm.fit(X_train_encoded, y_train)\n",
    "%time y_pred_lgbm = model_lgbm.predict(X_valid_encoded)\n",
    "lgbm_MSE = mean_squared_error(y_valid, y_pred_lgbm)\n",
    "print(math.sqrt(lgbm_MSE))"
   ]
  },
  {
   "cell_type": "markdown",
   "metadata": {},
   "source": [
    "Самой быстрой моделью, хоть и с немного большей метрикой, оказалась модель Catboost. Проверим её на переобучаемость"
   ]
  },
  {
   "cell_type": "code",
   "execution_count": 45,
   "metadata": {},
   "outputs": [
    {
     "name": "stdout",
     "output_type": "stream",
     "text": [
      "RMSE train: 1935.820560381317\n",
      "RMSE test: 1949.5832038340016\n"
     ]
    }
   ],
   "source": [
    "pred_valid = model_catboost.predict(X_valid)\n",
    "MSE_valid = mean_squared_error(y_valid, pred_valid)\n",
    "\n",
    "pred_test = model_catboost.predict(X_test)\n",
    "MSE_test = mean_squared_error(y_test, pred_test)\n",
    "\n",
    "print(f'RMSE train: {math.sqrt(MSE_valid)}\\n'\n",
    "      f'RMSE test: {math.sqrt(MSE_test)}')"
   ]
  },
  {
   "cell_type": "markdown",
   "metadata": {},
   "source": [
    "Метрики близки, следовательно, модель не склонна к переобучению: разница в метрике всего ≈0.7%"
   ]
  },
  {
   "cell_type": "markdown",
   "metadata": {},
   "source": [
    "**Общий вывод**\n",
    "\n",
    "- Мы получили данные о продаже автомобилей с пробегом\n",
    "- Данные были предобработаны: устранены аномалии, пропуски, а также удалены ненужные поля\n",
    "- В ходе разведочного анализа выянслось, что:\n",
    "    - Наиболее популярны машины из Германии, США и Франции\n",
    "    - Первые 5 объявлений по популярности занимают немецкие марки: Volkswagen, Opel, BMW, Mersedes Benz, Audi\n",
    "    - Далее идут Ford (USA), Renault, Peugeot (FR, FR)\n",
    "    - Наиболее популярны легковые модели\n",
    "    - Значительно меньшую популярность имеют марки из Восточной Европы, России и Азии\n",
    "    - Подавляющее большинство испоьзует Petrol/gasoline в качестве топлива\n",
    "\n",
    "\n",
    "    - Увеличение пробега снижает стоимость автомобиля\n",
    "    - Мощность двигателя с ростом немного повышает стоимость автомобиля\n",
    "    - Большинство машин продаются по цене 2-7 тысяч евро\n",
    "    - Большинство машин имеют пробег 100-150 тысяч км\n",
    "    - Больнитсво машин не ремонтировались\n",
    "    - Больнитсво машин имеют механическую коробку передач и около 1/6 – автомат\n",
    "\n",
    "\n",
    "- На полученном датасете были обучены модели, решиющие задачу регрессии:\n",
    "    - Каскадная модель DummyRegressor\n",
    "    - LinearRegressor\n",
    "    - CatBoostRegressor\n",
    "    - LGBMRegressor\n",
    "    - GradientBoostRegressor\n",
    "\n",
    "- Приемлимую для заказчика метрику получили модели  LinearRegressor, CatBoostRegressor, LGBMRegressor. Следующим приоритетом была оценка времени обучения и предсказания модели. Наиболее быстрой моделью оказалась CatBoostRegressor, общее время обучения которой 3.2 секунды\n",
    "- Итоговая модель была проверена на переобучение: склонность к переобучению не выявлена."
   ]
  },
  {
   "cell_type": "code",
   "execution_count": null,
   "metadata": {},
   "outputs": [],
   "source": []
  }
 ],
 "metadata": {
  "ExecuteTimeLog": [
   {
    "duration": 1328,
    "start_time": "2023-09-23T05:26:19.074Z"
   },
   {
    "duration": 224,
    "start_time": "2023-09-23T05:26:27.485Z"
   },
   {
    "duration": 35,
    "start_time": "2023-09-23T05:28:15.187Z"
   },
   {
    "duration": 23,
    "start_time": "2023-09-23T05:29:17.411Z"
   },
   {
    "duration": 5,
    "start_time": "2023-09-23T05:29:55.166Z"
   },
   {
    "duration": 7,
    "start_time": "2023-09-23T05:30:33.770Z"
   },
   {
    "duration": 1157,
    "start_time": "2023-09-23T05:31:26.389Z"
   },
   {
    "duration": 131,
    "start_time": "2023-09-23T05:32:02.103Z"
   },
   {
    "duration": 4,
    "start_time": "2023-09-23T05:32:13.301Z"
   },
   {
    "duration": 160,
    "start_time": "2023-09-23T05:32:25.816Z"
   },
   {
    "duration": 78,
    "start_time": "2023-09-23T05:32:38.766Z"
   },
   {
    "duration": 23,
    "start_time": "2023-09-23T05:33:59.964Z"
   },
   {
    "duration": 9,
    "start_time": "2023-09-23T05:34:10.938Z"
   },
   {
    "duration": 12,
    "start_time": "2023-09-23T05:34:30.174Z"
   },
   {
    "duration": 9,
    "start_time": "2023-09-23T05:34:34.340Z"
   },
   {
    "duration": 410,
    "start_time": "2023-09-23T05:34:43.915Z"
   },
   {
    "duration": 469,
    "start_time": "2023-09-23T05:36:01.704Z"
   },
   {
    "duration": 436,
    "start_time": "2023-09-23T05:36:09.399Z"
   },
   {
    "duration": 456,
    "start_time": "2023-09-23T05:36:14.839Z"
   },
   {
    "duration": 109,
    "start_time": "2023-09-23T05:39:43.636Z"
   },
   {
    "duration": 186,
    "start_time": "2023-09-23T05:39:56.985Z"
   },
   {
    "duration": 240,
    "start_time": "2023-09-23T05:40:20.848Z"
   },
   {
    "duration": 1418,
    "start_time": "2023-09-23T05:40:27.431Z"
   },
   {
    "duration": 838,
    "start_time": "2023-09-23T05:40:28.851Z"
   },
   {
    "duration": 4,
    "start_time": "2023-09-23T05:40:29.690Z"
   },
   {
    "duration": 141,
    "start_time": "2023-09-23T05:40:29.695Z"
   },
   {
    "duration": 248,
    "start_time": "2023-09-23T05:40:29.838Z"
   },
   {
    "duration": 130,
    "start_time": "2023-09-23T05:40:30.088Z"
   },
   {
    "duration": 98,
    "start_time": "2023-09-23T05:40:30.220Z"
   },
   {
    "duration": 388,
    "start_time": "2023-09-23T05:40:30.319Z"
   },
   {
    "duration": 433,
    "start_time": "2023-09-23T05:40:30.709Z"
   },
   {
    "duration": 3,
    "start_time": "2023-09-23T05:42:31.154Z"
   },
   {
    "duration": 6,
    "start_time": "2023-09-23T05:44:09.141Z"
   },
   {
    "duration": 72,
    "start_time": "2023-09-23T05:45:57.665Z"
   },
   {
    "duration": 3,
    "start_time": "2023-09-23T05:46:09.598Z"
   },
   {
    "duration": 135,
    "start_time": "2023-09-23T05:46:10.422Z"
   },
   {
    "duration": 131,
    "start_time": "2023-09-23T05:46:57.190Z"
   },
   {
    "duration": 230,
    "start_time": "2023-09-23T05:47:00.049Z"
   },
   {
    "duration": 131,
    "start_time": "2023-09-23T05:47:02.132Z"
   },
   {
    "duration": 109,
    "start_time": "2023-09-23T05:47:36.198Z"
   },
   {
    "duration": 34,
    "start_time": "2023-09-23T05:47:49.125Z"
   },
   {
    "duration": 23,
    "start_time": "2023-09-23T05:48:28.261Z"
   },
   {
    "duration": 1282,
    "start_time": "2023-09-23T05:49:08.314Z"
   },
   {
    "duration": 775,
    "start_time": "2023-09-23T05:49:09.598Z"
   },
   {
    "duration": 61,
    "start_time": "2023-09-23T05:49:10.374Z"
   },
   {
    "duration": 15,
    "start_time": "2023-09-23T05:49:10.437Z"
   },
   {
    "duration": 163,
    "start_time": "2023-09-23T05:49:10.453Z"
   },
   {
    "duration": 253,
    "start_time": "2023-09-23T05:49:10.617Z"
   },
   {
    "duration": 155,
    "start_time": "2023-09-23T05:49:10.872Z"
   },
   {
    "duration": 3,
    "start_time": "2023-09-23T05:49:11.028Z"
   },
   {
    "duration": 104,
    "start_time": "2023-09-23T05:49:11.032Z"
   },
   {
    "duration": 406,
    "start_time": "2023-09-23T05:49:11.137Z"
   },
   {
    "duration": 416,
    "start_time": "2023-09-23T05:49:11.545Z"
   },
   {
    "duration": 79,
    "start_time": "2023-09-23T05:49:49.100Z"
   },
   {
    "duration": 117,
    "start_time": "2023-09-23T05:49:57.464Z"
   },
   {
    "duration": 176,
    "start_time": "2023-09-23T05:50:11.484Z"
   },
   {
    "duration": 93,
    "start_time": "2023-09-23T05:50:21.323Z"
   },
   {
    "duration": 1587,
    "start_time": "2023-09-23T08:02:30.961Z"
   },
   {
    "duration": 1117,
    "start_time": "2023-09-23T08:02:32.551Z"
   },
   {
    "duration": 66,
    "start_time": "2023-09-23T08:02:33.669Z"
   },
   {
    "duration": 4,
    "start_time": "2023-09-23T08:02:33.737Z"
   },
   {
    "duration": 142,
    "start_time": "2023-09-23T08:02:33.749Z"
   },
   {
    "duration": 261,
    "start_time": "2023-09-23T08:02:33.893Z"
   },
   {
    "duration": 137,
    "start_time": "2023-09-23T08:02:34.156Z"
   },
   {
    "duration": 276,
    "start_time": "2023-09-23T08:02:34.295Z"
   },
   {
    "duration": 109,
    "start_time": "2023-09-23T08:02:34.572Z"
   },
   {
    "duration": 100,
    "start_time": "2023-09-23T08:02:34.684Z"
   },
   {
    "duration": 255,
    "start_time": "2023-09-23T08:02:34.786Z"
   },
   {
    "duration": 289,
    "start_time": "2023-09-23T08:02:35.043Z"
   },
   {
    "duration": 3,
    "start_time": "2023-09-23T08:06:33.466Z"
   },
   {
    "duration": 2099,
    "start_time": "2023-09-23T08:06:51.331Z"
   },
   {
    "duration": 4,
    "start_time": "2023-09-23T08:07:17.015Z"
   },
   {
    "duration": 2022,
    "start_time": "2023-09-23T08:07:18.701Z"
   },
   {
    "duration": 5,
    "start_time": "2023-09-23T08:08:21.618Z"
   },
   {
    "duration": 2046,
    "start_time": "2023-09-23T08:08:23.471Z"
   },
   {
    "duration": 7,
    "start_time": "2023-09-23T08:09:10.646Z"
   },
   {
    "duration": 2166,
    "start_time": "2023-09-23T08:09:12.234Z"
   },
   {
    "duration": 8,
    "start_time": "2023-09-23T08:09:22.264Z"
   },
   {
    "duration": 99,
    "start_time": "2023-09-23T08:09:23.337Z"
   },
   {
    "duration": 4,
    "start_time": "2023-09-23T08:10:45.440Z"
   },
   {
    "duration": 1769,
    "start_time": "2023-09-23T08:10:46.565Z"
   },
   {
    "duration": 8,
    "start_time": "2023-09-23T08:11:13.933Z"
   },
   {
    "duration": 14371,
    "start_time": "2023-09-23T08:11:20.774Z"
   },
   {
    "duration": 2034,
    "start_time": "2023-09-23T08:11:58.345Z"
   },
   {
    "duration": 296,
    "start_time": "2023-09-23T08:12:33.895Z"
   },
   {
    "duration": 6,
    "start_time": "2023-09-23T08:14:49.323Z"
   },
   {
    "duration": 5217,
    "start_time": "2023-09-23T08:14:52.366Z"
   },
   {
    "duration": 5,
    "start_time": "2023-09-23T08:15:09.022Z"
   },
   {
    "duration": 1861,
    "start_time": "2023-09-23T08:15:11.024Z"
   },
   {
    "duration": 2007,
    "start_time": "2023-09-23T08:15:16.395Z"
   },
   {
    "duration": 4,
    "start_time": "2023-09-23T08:15:32.472Z"
   },
   {
    "duration": 5,
    "start_time": "2023-09-23T08:15:52.094Z"
   },
   {
    "duration": 4,
    "start_time": "2023-09-23T08:16:00.785Z"
   },
   {
    "duration": 182,
    "start_time": "2023-09-23T08:16:02.338Z"
   },
   {
    "duration": 3,
    "start_time": "2023-09-23T08:16:12.775Z"
   },
   {
    "duration": 202,
    "start_time": "2023-09-23T08:16:14.768Z"
   },
   {
    "duration": 4,
    "start_time": "2023-09-23T08:16:47.452Z"
   },
   {
    "duration": 217,
    "start_time": "2023-09-23T08:16:49.074Z"
   },
   {
    "duration": 1045,
    "start_time": "2023-09-23T08:18:07.736Z"
   },
   {
    "duration": 323,
    "start_time": "2023-09-23T08:20:03.913Z"
   },
   {
    "duration": 320,
    "start_time": "2023-09-23T08:20:18.509Z"
   },
   {
    "duration": 120,
    "start_time": "2023-09-23T08:25:05.620Z"
   },
   {
    "duration": 6,
    "start_time": "2023-09-23T08:25:38.214Z"
   },
   {
    "duration": 10,
    "start_time": "2023-09-23T08:27:06.454Z"
   },
   {
    "duration": 10,
    "start_time": "2023-09-23T08:27:20.088Z"
   },
   {
    "duration": 14,
    "start_time": "2023-09-23T08:27:52.952Z"
   },
   {
    "duration": 33,
    "start_time": "2023-09-23T08:30:10.068Z"
   },
   {
    "duration": 40,
    "start_time": "2023-09-23T08:31:33.985Z"
   },
   {
    "duration": 27,
    "start_time": "2023-09-23T08:31:43.334Z"
   },
   {
    "duration": 30,
    "start_time": "2023-09-23T08:32:21.805Z"
   },
   {
    "duration": 25,
    "start_time": "2023-09-23T08:32:28.681Z"
   },
   {
    "duration": 5,
    "start_time": "2023-09-23T08:32:43.111Z"
   },
   {
    "duration": 822,
    "start_time": "2023-09-23T08:35:09.347Z"
   },
   {
    "duration": 4,
    "start_time": "2023-09-23T08:35:55.372Z"
   },
   {
    "duration": 227,
    "start_time": "2023-09-23T08:35:57.415Z"
   },
   {
    "duration": 185,
    "start_time": "2023-09-23T08:36:01.923Z"
   },
   {
    "duration": 796,
    "start_time": "2023-09-23T08:36:04.495Z"
   },
   {
    "duration": 4,
    "start_time": "2023-09-23T08:37:01.112Z"
   },
   {
    "duration": 189,
    "start_time": "2023-09-23T08:37:02.387Z"
   },
   {
    "duration": 5,
    "start_time": "2023-09-23T08:37:10.868Z"
   },
   {
    "duration": 208,
    "start_time": "2023-09-23T08:37:12.115Z"
   },
   {
    "duration": 4,
    "start_time": "2023-09-23T08:37:37.541Z"
   },
   {
    "duration": 190,
    "start_time": "2023-09-23T08:37:38.805Z"
   },
   {
    "duration": 4,
    "start_time": "2023-09-23T08:37:41.799Z"
   },
   {
    "duration": 213,
    "start_time": "2023-09-23T08:37:43.220Z"
   },
   {
    "duration": 4,
    "start_time": "2023-09-23T08:38:40.966Z"
   },
   {
    "duration": 206,
    "start_time": "2023-09-23T08:38:42.538Z"
   },
   {
    "duration": 733,
    "start_time": "2023-09-23T08:39:00.469Z"
   },
   {
    "duration": 6,
    "start_time": "2023-09-23T08:39:21.593Z"
   },
   {
    "duration": 218,
    "start_time": "2023-09-23T08:39:23.504Z"
   },
   {
    "duration": 138,
    "start_time": "2023-09-23T08:39:26.942Z"
   },
   {
    "duration": 755,
    "start_time": "2023-09-23T08:39:30.028Z"
   },
   {
    "duration": 1678,
    "start_time": "2023-09-23T08:39:47.507Z"
   },
   {
    "duration": 327,
    "start_time": "2023-09-23T08:39:58.708Z"
   },
   {
    "duration": 1613,
    "start_time": "2023-09-23T08:47:49.959Z"
   },
   {
    "duration": 388,
    "start_time": "2023-09-23T08:47:58.766Z"
   },
   {
    "duration": 451,
    "start_time": "2023-09-23T08:49:50.137Z"
   },
   {
    "duration": 48,
    "start_time": "2023-09-23T08:53:14.188Z"
   },
   {
    "duration": 2528,
    "start_time": "2023-09-23T08:54:41.599Z"
   },
   {
    "duration": 2645,
    "start_time": "2023-09-23T08:54:56.393Z"
   },
   {
    "duration": 2605,
    "start_time": "2023-09-23T08:55:24.925Z"
   },
   {
    "duration": 1838,
    "start_time": "2023-09-23T08:55:35.627Z"
   },
   {
    "duration": 376,
    "start_time": "2023-09-23T08:56:21.574Z"
   },
   {
    "duration": 8,
    "start_time": "2023-09-23T08:58:08.146Z"
   },
   {
    "duration": 31,
    "start_time": "2023-09-23T08:59:32.301Z"
   },
   {
    "duration": 121,
    "start_time": "2023-09-23T09:02:10.520Z"
   },
   {
    "duration": 7,
    "start_time": "2023-09-23T09:05:21.945Z"
   },
   {
    "duration": 38,
    "start_time": "2023-09-23T09:06:21.934Z"
   },
   {
    "duration": 10,
    "start_time": "2023-09-23T09:08:19.020Z"
   },
   {
    "duration": 18,
    "start_time": "2023-09-23T09:08:28.469Z"
   },
   {
    "duration": 16,
    "start_time": "2023-09-23T09:08:48.745Z"
   },
   {
    "duration": 914,
    "start_time": "2023-09-23T09:09:04.697Z"
   },
   {
    "duration": 4926,
    "start_time": "2023-09-23T09:10:45.213Z"
   },
   {
    "duration": 13,
    "start_time": "2023-09-23T09:14:59.577Z"
   },
   {
    "duration": 25,
    "start_time": "2023-09-23T09:15:29.772Z"
   },
   {
    "duration": 18,
    "start_time": "2023-09-23T09:16:33.710Z"
   },
   {
    "duration": 17,
    "start_time": "2023-09-23T09:16:59.072Z"
   },
   {
    "duration": 18,
    "start_time": "2023-09-23T09:17:07.411Z"
   },
   {
    "duration": 4,
    "start_time": "2023-09-23T09:17:28.425Z"
   },
   {
    "duration": 1484,
    "start_time": "2023-09-23T09:17:34.110Z"
   },
   {
    "duration": 887,
    "start_time": "2023-09-23T09:17:35.596Z"
   },
   {
    "duration": 75,
    "start_time": "2023-09-23T09:17:36.485Z"
   },
   {
    "duration": 4,
    "start_time": "2023-09-23T09:17:36.562Z"
   },
   {
    "duration": 144,
    "start_time": "2023-09-23T09:17:36.568Z"
   },
   {
    "duration": 275,
    "start_time": "2023-09-23T09:17:36.713Z"
   },
   {
    "duration": 148,
    "start_time": "2023-09-23T09:17:36.990Z"
   },
   {
    "duration": 190,
    "start_time": "2023-09-23T09:17:37.140Z"
   },
   {
    "duration": 96,
    "start_time": "2023-09-23T09:17:37.331Z"
   },
   {
    "duration": 408,
    "start_time": "2023-09-23T09:17:37.429Z"
   },
   {
    "duration": 436,
    "start_time": "2023-09-23T09:17:37.839Z"
   },
   {
    "duration": 31,
    "start_time": "2023-09-23T09:17:38.277Z"
   },
   {
    "duration": 10,
    "start_time": "2023-09-23T09:17:38.310Z"
   },
   {
    "duration": 1974,
    "start_time": "2023-09-23T09:17:38.321Z"
   },
   {
    "duration": 2051,
    "start_time": "2023-09-23T09:17:40.296Z"
   },
   {
    "duration": 1017,
    "start_time": "2023-09-23T09:17:42.351Z"
   },
   {
    "duration": 301,
    "start_time": "2023-09-23T09:17:43.370Z"
   },
   {
    "duration": 3,
    "start_time": "2023-09-23T09:17:43.673Z"
   },
   {
    "duration": 2169,
    "start_time": "2023-09-23T09:17:43.678Z"
   },
   {
    "duration": 0,
    "start_time": "2023-09-23T09:17:45.851Z"
   },
   {
    "duration": 0,
    "start_time": "2023-09-23T09:17:45.852Z"
   },
   {
    "duration": 0,
    "start_time": "2023-09-23T09:17:45.853Z"
   },
   {
    "duration": 0,
    "start_time": "2023-09-23T09:17:45.854Z"
   },
   {
    "duration": 0,
    "start_time": "2023-09-23T09:17:45.855Z"
   },
   {
    "duration": 0,
    "start_time": "2023-09-23T09:17:45.856Z"
   },
   {
    "duration": 0,
    "start_time": "2023-09-23T09:17:45.857Z"
   },
   {
    "duration": 0,
    "start_time": "2023-09-23T09:17:45.858Z"
   },
   {
    "duration": 0,
    "start_time": "2023-09-23T09:17:45.859Z"
   },
   {
    "duration": 0,
    "start_time": "2023-09-23T09:17:45.860Z"
   },
   {
    "duration": 0,
    "start_time": "2023-09-23T09:17:45.861Z"
   },
   {
    "duration": 1,
    "start_time": "2023-09-23T09:17:45.862Z"
   },
   {
    "duration": 0,
    "start_time": "2023-09-23T09:17:45.864Z"
   },
   {
    "duration": 0,
    "start_time": "2023-09-23T09:17:45.865Z"
   },
   {
    "duration": 0,
    "start_time": "2023-09-23T09:17:45.866Z"
   },
   {
    "duration": 1402,
    "start_time": "2023-09-23T09:18:14.146Z"
   },
   {
    "duration": 851,
    "start_time": "2023-09-23T09:18:15.550Z"
   },
   {
    "duration": 66,
    "start_time": "2023-09-23T09:18:16.403Z"
   },
   {
    "duration": 4,
    "start_time": "2023-09-23T09:18:16.470Z"
   },
   {
    "duration": 138,
    "start_time": "2023-09-23T09:18:16.476Z"
   },
   {
    "duration": 243,
    "start_time": "2023-09-23T09:18:16.615Z"
   },
   {
    "duration": 143,
    "start_time": "2023-09-23T09:18:16.860Z"
   },
   {
    "duration": 132,
    "start_time": "2023-09-23T09:18:17.005Z"
   },
   {
    "duration": 91,
    "start_time": "2023-09-23T09:18:17.139Z"
   },
   {
    "duration": 390,
    "start_time": "2023-09-23T09:18:17.232Z"
   },
   {
    "duration": 409,
    "start_time": "2023-09-23T09:18:17.624Z"
   },
   {
    "duration": 37,
    "start_time": "2023-09-23T09:18:18.035Z"
   },
   {
    "duration": 5,
    "start_time": "2023-09-23T09:18:18.073Z"
   },
   {
    "duration": 1940,
    "start_time": "2023-09-23T09:18:18.080Z"
   },
   {
    "duration": 2150,
    "start_time": "2023-09-23T09:18:20.022Z"
   },
   {
    "duration": 1006,
    "start_time": "2023-09-23T09:18:22.173Z"
   },
   {
    "duration": 285,
    "start_time": "2023-09-23T09:18:23.181Z"
   },
   {
    "duration": 4,
    "start_time": "2023-09-23T09:18:23.468Z"
   },
   {
    "duration": 232,
    "start_time": "2023-09-23T09:18:23.473Z"
   },
   {
    "duration": 6,
    "start_time": "2023-09-23T09:18:23.707Z"
   },
   {
    "duration": 47,
    "start_time": "2023-09-23T09:18:23.715Z"
   },
   {
    "duration": 14,
    "start_time": "2023-09-23T09:18:23.764Z"
   },
   {
    "duration": 244,
    "start_time": "2023-09-23T09:18:23.779Z"
   },
   {
    "duration": 7,
    "start_time": "2023-09-23T09:18:24.024Z"
   },
   {
    "duration": 31,
    "start_time": "2023-09-23T09:18:24.032Z"
   },
   {
    "duration": 685,
    "start_time": "2023-09-23T09:18:24.064Z"
   },
   {
    "duration": 309,
    "start_time": "2023-09-23T09:18:24.751Z"
   },
   {
    "duration": 305,
    "start_time": "2023-09-23T09:18:25.061Z"
   },
   {
    "duration": 269,
    "start_time": "2023-09-23T09:18:25.367Z"
   },
   {
    "duration": 275,
    "start_time": "2023-09-23T09:18:25.638Z"
   },
   {
    "duration": 4,
    "start_time": "2023-09-23T09:18:25.915Z"
   },
   {
    "duration": 35,
    "start_time": "2023-09-23T09:18:25.920Z"
   },
   {
    "duration": 88,
    "start_time": "2023-09-23T09:18:25.957Z"
   },
   {
    "duration": 143,
    "start_time": "2023-09-23T09:18:26.047Z"
   },
   {
    "duration": 25,
    "start_time": "2023-09-23T09:19:01.611Z"
   },
   {
    "duration": 64,
    "start_time": "2023-09-23T09:19:04.737Z"
   },
   {
    "duration": 4115,
    "start_time": "2023-09-23T09:19:09.528Z"
   },
   {
    "duration": 6,
    "start_time": "2023-09-23T09:19:39.093Z"
   },
   {
    "duration": 2162,
    "start_time": "2023-09-23T09:19:55.619Z"
   },
   {
    "duration": 38,
    "start_time": "2023-09-23T09:25:45.100Z"
   },
   {
    "duration": 18,
    "start_time": "2023-09-23T09:25:52.767Z"
   },
   {
    "duration": 32,
    "start_time": "2023-09-23T09:25:56.818Z"
   },
   {
    "duration": 17,
    "start_time": "2023-09-23T09:26:06.312Z"
   },
   {
    "duration": 2188,
    "start_time": "2023-09-23T09:28:38.881Z"
   },
   {
    "duration": 4,
    "start_time": "2023-09-23T09:29:20.730Z"
   },
   {
    "duration": 2298,
    "start_time": "2023-09-23T09:29:23.168Z"
   },
   {
    "duration": 32,
    "start_time": "2023-09-23T09:37:33.872Z"
   },
   {
    "duration": 27,
    "start_time": "2023-09-23T09:37:39.557Z"
   },
   {
    "duration": 10,
    "start_time": "2023-09-23T09:38:39.460Z"
   },
   {
    "duration": 13,
    "start_time": "2023-09-23T09:38:45.581Z"
   },
   {
    "duration": 38,
    "start_time": "2023-09-23T09:39:06.307Z"
   },
   {
    "duration": 2646,
    "start_time": "2023-09-23T09:39:45.783Z"
   },
   {
    "duration": 3198,
    "start_time": "2023-09-23T09:39:53.295Z"
   },
   {
    "duration": 24,
    "start_time": "2023-09-23T09:41:15.867Z"
   },
   {
    "duration": 470,
    "start_time": "2023-09-23T09:44:19.534Z"
   },
   {
    "duration": 635,
    "start_time": "2023-09-23T09:44:57.873Z"
   },
   {
    "duration": 96,
    "start_time": "2023-09-23T09:45:19.661Z"
   },
   {
    "duration": 1438,
    "start_time": "2023-09-23T09:54:12.888Z"
   },
   {
    "duration": 941,
    "start_time": "2023-09-23T09:54:14.328Z"
   },
   {
    "duration": 66,
    "start_time": "2023-09-23T09:54:15.272Z"
   },
   {
    "duration": 6,
    "start_time": "2023-09-23T09:54:15.350Z"
   },
   {
    "duration": 153,
    "start_time": "2023-09-23T09:54:15.358Z"
   },
   {
    "duration": 287,
    "start_time": "2023-09-23T09:54:15.513Z"
   },
   {
    "duration": 153,
    "start_time": "2023-09-23T09:54:15.802Z"
   },
   {
    "duration": 192,
    "start_time": "2023-09-23T09:54:15.961Z"
   },
   {
    "duration": 121,
    "start_time": "2023-09-23T09:54:16.154Z"
   },
   {
    "duration": 496,
    "start_time": "2023-09-23T09:54:16.277Z"
   },
   {
    "duration": 471,
    "start_time": "2023-09-23T09:54:16.775Z"
   },
   {
    "duration": 40,
    "start_time": "2023-09-23T09:54:17.248Z"
   },
   {
    "duration": 5,
    "start_time": "2023-09-23T09:54:17.289Z"
   },
   {
    "duration": 1959,
    "start_time": "2023-09-23T09:54:17.298Z"
   },
   {
    "duration": 2184,
    "start_time": "2023-09-23T09:54:19.259Z"
   },
   {
    "duration": 1073,
    "start_time": "2023-09-23T09:54:21.445Z"
   },
   {
    "duration": 330,
    "start_time": "2023-09-23T09:54:22.520Z"
   },
   {
    "duration": 6,
    "start_time": "2023-09-23T09:54:22.852Z"
   },
   {
    "duration": 245,
    "start_time": "2023-09-23T09:54:22.860Z"
   },
   {
    "duration": 8,
    "start_time": "2023-09-23T09:54:23.107Z"
   },
   {
    "duration": 43,
    "start_time": "2023-09-23T09:54:23.117Z"
   },
   {
    "duration": 6,
    "start_time": "2023-09-23T09:54:23.162Z"
   },
   {
    "duration": 302,
    "start_time": "2023-09-23T09:54:23.169Z"
   },
   {
    "duration": 6,
    "start_time": "2023-09-23T09:54:23.473Z"
   },
   {
    "duration": 26,
    "start_time": "2023-09-23T09:54:23.481Z"
   },
   {
    "duration": 778,
    "start_time": "2023-09-23T09:54:23.508Z"
   },
   {
    "duration": 363,
    "start_time": "2023-09-23T09:54:24.288Z"
   },
   {
    "duration": 345,
    "start_time": "2023-09-23T09:54:24.653Z"
   },
   {
    "duration": 301,
    "start_time": "2023-09-23T09:54:25.000Z"
   },
   {
    "duration": 308,
    "start_time": "2023-09-23T09:54:25.303Z"
   },
   {
    "duration": 5,
    "start_time": "2023-09-23T09:54:25.612Z"
   },
   {
    "duration": 37,
    "start_time": "2023-09-23T09:54:25.619Z"
   },
   {
    "duration": 92,
    "start_time": "2023-09-23T09:54:25.659Z"
   },
   {
    "duration": 33,
    "start_time": "2023-09-23T09:54:25.753Z"
   },
   {
    "duration": 737,
    "start_time": "2023-09-23T09:54:25.788Z"
   },
   {
    "duration": 3544,
    "start_time": "2023-09-23T09:54:26.526Z"
   },
   {
    "duration": 129,
    "start_time": "2023-09-23T09:54:30.072Z"
   },
   {
    "duration": 1440,
    "start_time": "2023-09-23T09:56:23.704Z"
   },
   {
    "duration": 927,
    "start_time": "2023-09-23T09:56:25.146Z"
   },
   {
    "duration": 74,
    "start_time": "2023-09-23T09:56:26.075Z"
   },
   {
    "duration": 6,
    "start_time": "2023-09-23T09:56:26.152Z"
   },
   {
    "duration": 249,
    "start_time": "2023-09-23T09:56:26.161Z"
   },
   {
    "duration": 319,
    "start_time": "2023-09-23T09:56:26.413Z"
   },
   {
    "duration": 170,
    "start_time": "2023-09-23T09:56:26.734Z"
   },
   {
    "duration": 176,
    "start_time": "2023-09-23T09:56:26.906Z"
   },
   {
    "duration": 138,
    "start_time": "2023-09-23T09:56:27.084Z"
   },
   {
    "duration": 462,
    "start_time": "2023-09-23T09:56:27.224Z"
   },
   {
    "duration": 506,
    "start_time": "2023-09-23T09:56:27.687Z"
   },
   {
    "duration": 35,
    "start_time": "2023-09-23T09:56:28.194Z"
   },
   {
    "duration": 37,
    "start_time": "2023-09-23T09:56:28.231Z"
   },
   {
    "duration": 2086,
    "start_time": "2023-09-23T09:56:28.271Z"
   },
   {
    "duration": 2203,
    "start_time": "2023-09-23T09:56:30.359Z"
   },
   {
    "duration": 1055,
    "start_time": "2023-09-23T09:56:32.565Z"
   },
   {
    "duration": 349,
    "start_time": "2023-09-23T09:56:33.621Z"
   },
   {
    "duration": 4,
    "start_time": "2023-09-23T09:56:33.971Z"
   },
   {
    "duration": 240,
    "start_time": "2023-09-23T09:56:33.976Z"
   },
   {
    "duration": 8,
    "start_time": "2023-09-23T09:56:34.218Z"
   },
   {
    "duration": 42,
    "start_time": "2023-09-23T09:56:34.227Z"
   },
   {
    "duration": 3,
    "start_time": "2023-09-23T09:56:34.271Z"
   },
   {
    "duration": 271,
    "start_time": "2023-09-23T09:56:34.276Z"
   },
   {
    "duration": 9,
    "start_time": "2023-09-23T09:56:34.550Z"
   },
   {
    "duration": 39,
    "start_time": "2023-09-23T09:56:34.561Z"
   },
   {
    "duration": 730,
    "start_time": "2023-09-23T09:56:34.602Z"
   },
   {
    "duration": 347,
    "start_time": "2023-09-23T09:56:35.334Z"
   },
   {
    "duration": 375,
    "start_time": "2023-09-23T09:56:35.683Z"
   },
   {
    "duration": 323,
    "start_time": "2023-09-23T09:56:36.059Z"
   },
   {
    "duration": 321,
    "start_time": "2023-09-23T09:56:36.384Z"
   },
   {
    "duration": 5,
    "start_time": "2023-09-23T09:56:36.707Z"
   },
   {
    "duration": 32,
    "start_time": "2023-09-23T09:56:36.713Z"
   },
   {
    "duration": 96,
    "start_time": "2023-09-23T09:56:36.749Z"
   },
   {
    "duration": 35,
    "start_time": "2023-09-23T09:56:36.846Z"
   },
   {
    "duration": 629,
    "start_time": "2023-09-23T09:56:36.883Z"
   },
   {
    "duration": 3504,
    "start_time": "2023-09-23T09:56:37.513Z"
   },
   {
    "duration": 127,
    "start_time": "2023-09-23T09:56:41.019Z"
   },
   {
    "duration": 11,
    "start_time": "2023-09-23T09:59:43.384Z"
   },
   {
    "duration": 48,
    "start_time": "2023-09-23T10:00:27.862Z"
   },
   {
    "duration": 11,
    "start_time": "2023-09-23T10:03:10.465Z"
   },
   {
    "duration": 12,
    "start_time": "2023-09-23T10:03:26.789Z"
   },
   {
    "duration": 72,
    "start_time": "2023-09-23T10:03:33.405Z"
   },
   {
    "duration": 6,
    "start_time": "2023-09-23T10:05:14.552Z"
   },
   {
    "duration": 539,
    "start_time": "2023-09-23T10:05:24.191Z"
   },
   {
    "duration": 1504,
    "start_time": "2023-09-23T10:09:00.546Z"
   },
   {
    "duration": 929,
    "start_time": "2023-09-23T10:09:02.056Z"
   },
   {
    "duration": 75,
    "start_time": "2023-09-23T10:09:02.987Z"
   },
   {
    "duration": 5,
    "start_time": "2023-09-23T10:09:03.064Z"
   },
   {
    "duration": 213,
    "start_time": "2023-09-23T10:09:03.072Z"
   },
   {
    "duration": 315,
    "start_time": "2023-09-23T10:09:03.286Z"
   },
   {
    "duration": 179,
    "start_time": "2023-09-23T10:09:03.603Z"
   },
   {
    "duration": 155,
    "start_time": "2023-09-23T10:09:03.784Z"
   },
   {
    "duration": 94,
    "start_time": "2023-09-23T10:09:03.941Z"
   },
   {
    "duration": 453,
    "start_time": "2023-09-23T10:09:04.063Z"
   },
   {
    "duration": 441,
    "start_time": "2023-09-23T10:09:04.518Z"
   },
   {
    "duration": 28,
    "start_time": "2023-09-23T10:09:04.961Z"
   },
   {
    "duration": 3,
    "start_time": "2023-09-23T10:09:04.991Z"
   },
   {
    "duration": 2195,
    "start_time": "2023-09-23T10:09:04.997Z"
   },
   {
    "duration": 2190,
    "start_time": "2023-09-23T10:09:07.194Z"
   },
   {
    "duration": 1082,
    "start_time": "2023-09-23T10:09:09.385Z"
   },
   {
    "duration": 336,
    "start_time": "2023-09-23T10:09:10.469Z"
   },
   {
    "duration": 4,
    "start_time": "2023-09-23T10:09:10.806Z"
   },
   {
    "duration": 182,
    "start_time": "2023-09-23T10:09:10.811Z"
   },
   {
    "duration": 7,
    "start_time": "2023-09-23T10:09:10.995Z"
   },
   {
    "duration": 39,
    "start_time": "2023-09-23T10:09:11.003Z"
   },
   {
    "duration": 916,
    "start_time": "2023-09-23T10:09:11.044Z"
   },
   {
    "duration": 383,
    "start_time": "2023-09-23T10:09:11.962Z"
   },
   {
    "duration": 349,
    "start_time": "2023-09-23T10:09:12.347Z"
   },
   {
    "duration": 293,
    "start_time": "2023-09-23T10:09:12.697Z"
   },
   {
    "duration": 305,
    "start_time": "2023-09-23T10:09:12.992Z"
   },
   {
    "duration": 4,
    "start_time": "2023-09-23T10:09:13.299Z"
   },
   {
    "duration": 19,
    "start_time": "2023-09-23T10:09:13.305Z"
   },
   {
    "duration": 94,
    "start_time": "2023-09-23T10:09:13.326Z"
   },
   {
    "duration": 43,
    "start_time": "2023-09-23T10:09:13.422Z"
   },
   {
    "duration": 708,
    "start_time": "2023-09-23T10:09:13.467Z"
   },
   {
    "duration": 0,
    "start_time": "2023-09-23T10:09:14.177Z"
   },
   {
    "duration": 0,
    "start_time": "2023-09-23T10:09:14.178Z"
   },
   {
    "duration": 1850,
    "start_time": "2023-09-23T10:10:44.481Z"
   },
   {
    "duration": 59,
    "start_time": "2023-09-23T10:10:59.869Z"
   },
   {
    "duration": 143,
    "start_time": "2023-09-23T10:11:22.850Z"
   },
   {
    "duration": 4,
    "start_time": "2023-09-23T10:11:33.794Z"
   },
   {
    "duration": 20,
    "start_time": "2023-09-23T10:11:35.094Z"
   },
   {
    "duration": 67,
    "start_time": "2023-09-23T10:11:36.651Z"
   },
   {
    "duration": 16,
    "start_time": "2023-09-23T10:11:40.480Z"
   },
   {
    "duration": 14,
    "start_time": "2023-09-23T10:11:44.915Z"
   },
   {
    "duration": 498,
    "start_time": "2023-09-23T10:11:47.292Z"
   },
   {
    "duration": 471,
    "start_time": "2023-09-23T10:12:41.372Z"
   },
   {
    "duration": 4954,
    "start_time": "2023-09-23T10:14:55.372Z"
   },
   {
    "duration": 21,
    "start_time": "2023-09-23T10:16:35.626Z"
   },
   {
    "duration": 35,
    "start_time": "2023-09-23T10:16:43.741Z"
   },
   {
    "duration": 2529,
    "start_time": "2023-09-23T10:16:56.609Z"
   },
   {
    "duration": 12,
    "start_time": "2023-09-23T10:17:57.261Z"
   },
   {
    "duration": 25,
    "start_time": "2023-09-23T10:18:05.145Z"
   },
   {
    "duration": 77,
    "start_time": "2023-09-23T10:18:06.403Z"
   },
   {
    "duration": 526,
    "start_time": "2023-09-23T10:18:08.551Z"
   },
   {
    "duration": 21,
    "start_time": "2023-09-23T10:19:04.761Z"
   },
   {
    "duration": 100,
    "start_time": "2023-09-23T10:19:06.834Z"
   },
   {
    "duration": 527,
    "start_time": "2023-09-23T10:19:08.321Z"
   },
   {
    "duration": 4121,
    "start_time": "2023-09-23T10:19:19.389Z"
   },
   {
    "duration": 19,
    "start_time": "2023-09-23T10:21:52.368Z"
   },
   {
    "duration": 67,
    "start_time": "2023-09-23T10:21:53.872Z"
   },
   {
    "duration": 4,
    "start_time": "2023-09-23T10:22:04.343Z"
   },
   {
    "duration": 1575,
    "start_time": "2023-09-23T10:22:36.440Z"
   },
   {
    "duration": 959,
    "start_time": "2023-09-23T10:22:38.016Z"
   },
   {
    "duration": 72,
    "start_time": "2023-09-23T10:22:38.984Z"
   },
   {
    "duration": 5,
    "start_time": "2023-09-23T10:22:39.059Z"
   },
   {
    "duration": 184,
    "start_time": "2023-09-23T10:22:39.065Z"
   },
   {
    "duration": 332,
    "start_time": "2023-09-23T10:22:39.255Z"
   },
   {
    "duration": 170,
    "start_time": "2023-09-23T10:22:39.589Z"
   },
   {
    "duration": 171,
    "start_time": "2023-09-23T10:22:39.761Z"
   },
   {
    "duration": 214,
    "start_time": "2023-09-23T10:22:39.934Z"
   },
   {
    "duration": 474,
    "start_time": "2023-09-23T10:22:40.159Z"
   },
   {
    "duration": 510,
    "start_time": "2023-09-23T10:22:40.635Z"
   },
   {
    "duration": 45,
    "start_time": "2023-09-23T10:22:41.149Z"
   },
   {
    "duration": 86,
    "start_time": "2023-09-23T10:22:41.196Z"
   },
   {
    "duration": 4,
    "start_time": "2023-09-23T10:22:41.284Z"
   },
   {
    "duration": 2071,
    "start_time": "2023-09-23T10:22:41.290Z"
   },
   {
    "duration": 2361,
    "start_time": "2023-09-23T10:22:43.363Z"
   },
   {
    "duration": 1268,
    "start_time": "2023-09-23T10:22:45.725Z"
   },
   {
    "duration": 341,
    "start_time": "2023-09-23T10:22:46.995Z"
   },
   {
    "duration": 4,
    "start_time": "2023-09-23T10:22:47.337Z"
   },
   {
    "duration": 162,
    "start_time": "2023-09-23T10:22:47.352Z"
   },
   {
    "duration": 7,
    "start_time": "2023-09-23T10:22:47.515Z"
   },
   {
    "duration": 40,
    "start_time": "2023-09-23T10:22:47.523Z"
   },
   {
    "duration": 910,
    "start_time": "2023-09-23T10:22:47.565Z"
   },
   {
    "duration": 378,
    "start_time": "2023-09-23T10:22:48.477Z"
   },
   {
    "duration": 384,
    "start_time": "2023-09-23T10:22:48.857Z"
   },
   {
    "duration": 169,
    "start_time": "2023-09-23T10:22:49.243Z"
   },
   {
    "duration": 320,
    "start_time": "2023-09-23T10:22:49.414Z"
   },
   {
    "duration": 4900,
    "start_time": "2023-09-23T10:22:49.736Z"
   },
   {
    "duration": 43,
    "start_time": "2023-09-23T10:22:54.638Z"
   },
   {
    "duration": 2725,
    "start_time": "2023-09-23T10:22:54.686Z"
   },
   {
    "duration": 3,
    "start_time": "2023-09-23T10:22:57.413Z"
   },
   {
    "duration": 70,
    "start_time": "2023-09-23T10:22:57.418Z"
   },
   {
    "duration": 68,
    "start_time": "2023-09-23T10:22:57.490Z"
   },
   {
    "duration": 682,
    "start_time": "2023-09-23T10:22:57.560Z"
   },
   {
    "duration": 0,
    "start_time": "2023-09-23T10:22:58.244Z"
   },
   {
    "duration": 0,
    "start_time": "2023-09-23T10:22:58.245Z"
   },
   {
    "duration": 1697,
    "start_time": "2023-09-23T10:23:49.171Z"
   },
   {
    "duration": 949,
    "start_time": "2023-09-23T10:23:50.871Z"
   },
   {
    "duration": 81,
    "start_time": "2023-09-23T10:23:51.822Z"
   },
   {
    "duration": 3,
    "start_time": "2023-09-23T10:23:51.905Z"
   },
   {
    "duration": 200,
    "start_time": "2023-09-23T10:23:51.910Z"
   },
   {
    "duration": 332,
    "start_time": "2023-09-23T10:23:52.111Z"
   },
   {
    "duration": 191,
    "start_time": "2023-09-23T10:23:52.445Z"
   },
   {
    "duration": 189,
    "start_time": "2023-09-23T10:23:52.638Z"
   },
   {
    "duration": 101,
    "start_time": "2023-09-23T10:23:52.829Z"
   },
   {
    "duration": 496,
    "start_time": "2023-09-23T10:23:52.932Z"
   },
   {
    "duration": 482,
    "start_time": "2023-09-23T10:23:53.430Z"
   },
   {
    "duration": 23,
    "start_time": "2023-09-23T10:23:53.913Z"
   },
   {
    "duration": 122,
    "start_time": "2023-09-23T10:23:53.938Z"
   },
   {
    "duration": 12,
    "start_time": "2023-09-23T10:23:54.066Z"
   },
   {
    "duration": 2316,
    "start_time": "2023-09-23T10:23:54.093Z"
   },
   {
    "duration": 2502,
    "start_time": "2023-09-23T10:23:56.410Z"
   },
   {
    "duration": 1208,
    "start_time": "2023-09-23T10:23:58.914Z"
   },
   {
    "duration": 374,
    "start_time": "2023-09-23T10:24:00.124Z"
   },
   {
    "duration": 5,
    "start_time": "2023-09-23T10:24:00.499Z"
   },
   {
    "duration": 220,
    "start_time": "2023-09-23T10:24:00.505Z"
   },
   {
    "duration": 7,
    "start_time": "2023-09-23T10:24:00.727Z"
   },
   {
    "duration": 64,
    "start_time": "2023-09-23T10:24:00.736Z"
   },
   {
    "duration": 929,
    "start_time": "2023-09-23T10:24:00.802Z"
   },
   {
    "duration": 400,
    "start_time": "2023-09-23T10:24:01.732Z"
   },
   {
    "duration": 450,
    "start_time": "2023-09-23T10:24:02.134Z"
   },
   {
    "duration": 141,
    "start_time": "2023-09-23T10:24:02.586Z"
   },
   {
    "duration": 319,
    "start_time": "2023-09-23T10:24:02.728Z"
   },
   {
    "duration": 5071,
    "start_time": "2023-09-23T10:24:03.049Z"
   },
   {
    "duration": 25,
    "start_time": "2023-09-23T10:24:08.121Z"
   },
   {
    "duration": 2887,
    "start_time": "2023-09-23T10:24:08.147Z"
   },
   {
    "duration": 4,
    "start_time": "2023-09-23T10:24:11.035Z"
   },
   {
    "duration": 26,
    "start_time": "2023-09-23T10:24:11.051Z"
   },
   {
    "duration": 72,
    "start_time": "2023-09-23T10:24:11.081Z"
   },
   {
    "duration": 675,
    "start_time": "2023-09-23T10:24:11.155Z"
   },
   {
    "duration": 0,
    "start_time": "2023-09-23T10:24:11.831Z"
   },
   {
    "duration": 0,
    "start_time": "2023-09-23T10:24:11.832Z"
   },
   {
    "duration": 640,
    "start_time": "2023-09-23T10:25:34.625Z"
   },
   {
    "duration": 4253,
    "start_time": "2023-09-23T10:25:39.768Z"
   },
   {
    "duration": 33,
    "start_time": "2023-09-23T10:25:48.068Z"
   },
   {
    "duration": 9676,
    "start_time": "2023-09-23T10:26:43.980Z"
   },
   {
    "duration": 8705,
    "start_time": "2023-09-23T10:27:22.468Z"
   },
   {
    "duration": 1540,
    "start_time": "2023-09-23T12:17:56.070Z"
   },
   {
    "duration": 2867,
    "start_time": "2023-09-23T12:17:57.612Z"
   },
   {
    "duration": 78,
    "start_time": "2023-09-23T12:18:00.481Z"
   },
   {
    "duration": 3,
    "start_time": "2023-09-23T12:18:00.562Z"
   },
   {
    "duration": 188,
    "start_time": "2023-09-23T12:18:00.567Z"
   },
   {
    "duration": 256,
    "start_time": "2023-09-23T12:18:00.757Z"
   },
   {
    "duration": 149,
    "start_time": "2023-09-23T12:18:01.014Z"
   },
   {
    "duration": 157,
    "start_time": "2023-09-23T12:18:01.165Z"
   },
   {
    "duration": 98,
    "start_time": "2023-09-23T12:18:01.324Z"
   },
   {
    "duration": 416,
    "start_time": "2023-09-23T12:18:01.424Z"
   },
   {
    "duration": 469,
    "start_time": "2023-09-23T12:18:01.841Z"
   },
   {
    "duration": 48,
    "start_time": "2023-09-23T12:18:02.312Z"
   },
   {
    "duration": 116,
    "start_time": "2023-09-23T12:18:02.362Z"
   },
   {
    "duration": 5,
    "start_time": "2023-09-23T12:18:02.480Z"
   },
   {
    "duration": 2001,
    "start_time": "2023-09-23T12:18:02.487Z"
   },
   {
    "duration": 2107,
    "start_time": "2023-09-23T12:18:04.489Z"
   },
   {
    "duration": 1042,
    "start_time": "2023-09-23T12:18:06.598Z"
   },
   {
    "duration": 331,
    "start_time": "2023-09-23T12:18:07.641Z"
   },
   {
    "duration": 5,
    "start_time": "2023-09-23T12:18:07.974Z"
   },
   {
    "duration": 157,
    "start_time": "2023-09-23T12:18:07.981Z"
   },
   {
    "duration": 8,
    "start_time": "2023-09-23T12:18:08.140Z"
   },
   {
    "duration": 18,
    "start_time": "2023-09-23T12:18:08.150Z"
   },
   {
    "duration": 786,
    "start_time": "2023-09-23T12:18:08.169Z"
   },
   {
    "duration": 316,
    "start_time": "2023-09-23T12:18:08.957Z"
   },
   {
    "duration": 310,
    "start_time": "2023-09-23T12:18:09.274Z"
   },
   {
    "duration": 125,
    "start_time": "2023-09-23T12:18:09.585Z"
   },
   {
    "duration": 320,
    "start_time": "2023-09-23T12:18:09.712Z"
   },
   {
    "duration": 4142,
    "start_time": "2023-09-23T12:18:10.035Z"
   },
   {
    "duration": 31,
    "start_time": "2023-09-23T12:18:14.179Z"
   },
   {
    "duration": 2251,
    "start_time": "2023-09-23T12:18:14.211Z"
   },
   {
    "duration": 4,
    "start_time": "2023-09-23T12:18:16.463Z"
   },
   {
    "duration": 24,
    "start_time": "2023-09-23T12:18:16.469Z"
   },
   {
    "duration": 72,
    "start_time": "2023-09-23T12:18:16.495Z"
   },
   {
    "duration": 525,
    "start_time": "2023-09-23T12:18:16.569Z"
   },
   {
    "duration": 3205,
    "start_time": "2023-09-23T12:18:17.095Z"
   },
   {
    "duration": 1317,
    "start_time": "2023-09-23T12:19:57.295Z"
   },
   {
    "duration": 791,
    "start_time": "2023-09-23T12:19:58.614Z"
   },
   {
    "duration": 64,
    "start_time": "2023-09-23T12:19:59.407Z"
   },
   {
    "duration": 3,
    "start_time": "2023-09-23T12:19:59.473Z"
   },
   {
    "duration": 147,
    "start_time": "2023-09-23T12:19:59.478Z"
   },
   {
    "duration": 266,
    "start_time": "2023-09-23T12:19:59.626Z"
   },
   {
    "duration": 153,
    "start_time": "2023-09-23T12:19:59.894Z"
   },
   {
    "duration": 144,
    "start_time": "2023-09-23T12:20:00.049Z"
   },
   {
    "duration": 153,
    "start_time": "2023-09-23T12:20:00.195Z"
   },
   {
    "duration": 434,
    "start_time": "2023-09-23T12:20:00.350Z"
   },
   {
    "duration": 475,
    "start_time": "2023-09-23T12:20:00.786Z"
   },
   {
    "duration": 35,
    "start_time": "2023-09-23T12:20:01.263Z"
   },
   {
    "duration": 106,
    "start_time": "2023-09-23T12:20:01.299Z"
   },
   {
    "duration": 4,
    "start_time": "2023-09-23T12:20:01.409Z"
   },
   {
    "duration": 1898,
    "start_time": "2023-09-23T12:20:01.415Z"
   },
   {
    "duration": 33,
    "start_time": "2023-09-23T12:20:03.315Z"
   },
   {
    "duration": 2134,
    "start_time": "2023-09-23T12:20:03.350Z"
   },
   {
    "duration": 991,
    "start_time": "2023-09-23T12:20:05.485Z"
   },
   {
    "duration": 312,
    "start_time": "2023-09-23T12:20:06.477Z"
   },
   {
    "duration": 3,
    "start_time": "2023-09-23T12:20:06.791Z"
   },
   {
    "duration": 187,
    "start_time": "2023-09-23T12:20:06.796Z"
   },
   {
    "duration": 8,
    "start_time": "2023-09-23T12:20:06.985Z"
   },
   {
    "duration": 17,
    "start_time": "2023-09-23T12:20:06.995Z"
   },
   {
    "duration": 799,
    "start_time": "2023-09-23T12:20:07.013Z"
   },
   {
    "duration": 380,
    "start_time": "2023-09-23T12:20:07.814Z"
   },
   {
    "duration": 361,
    "start_time": "2023-09-23T12:20:08.197Z"
   },
   {
    "duration": 131,
    "start_time": "2023-09-23T12:20:08.560Z"
   },
   {
    "duration": 287,
    "start_time": "2023-09-23T12:20:08.693Z"
   },
   {
    "duration": 3910,
    "start_time": "2023-09-23T12:20:08.981Z"
   },
   {
    "duration": 22,
    "start_time": "2023-09-23T12:20:12.892Z"
   },
   {
    "duration": 2395,
    "start_time": "2023-09-23T12:20:12.915Z"
   },
   {
    "duration": 4,
    "start_time": "2023-09-23T12:20:15.312Z"
   },
   {
    "duration": 26,
    "start_time": "2023-09-23T12:20:15.318Z"
   },
   {
    "duration": 60,
    "start_time": "2023-09-23T12:20:15.346Z"
   },
   {
    "duration": 530,
    "start_time": "2023-09-23T12:20:15.407Z"
   },
   {
    "duration": 3319,
    "start_time": "2023-09-23T12:20:15.939Z"
   },
   {
    "duration": 163891,
    "start_time": "2023-09-23T12:20:19.260Z"
   },
   {
    "duration": 1446,
    "start_time": "2023-09-23T12:24:21.356Z"
   },
   {
    "duration": 798,
    "start_time": "2023-09-23T12:24:22.805Z"
   },
   {
    "duration": 72,
    "start_time": "2023-09-23T12:24:23.605Z"
   },
   {
    "duration": 3,
    "start_time": "2023-09-23T12:24:23.680Z"
   },
   {
    "duration": 130,
    "start_time": "2023-09-23T12:24:23.684Z"
   },
   {
    "duration": 303,
    "start_time": "2023-09-23T12:24:23.815Z"
   },
   {
    "duration": 233,
    "start_time": "2023-09-23T12:24:24.119Z"
   },
   {
    "duration": 138,
    "start_time": "2023-09-23T12:24:24.353Z"
   },
   {
    "duration": 97,
    "start_time": "2023-09-23T12:24:24.493Z"
   },
   {
    "duration": 406,
    "start_time": "2023-09-23T12:24:24.593Z"
   },
   {
    "duration": 458,
    "start_time": "2023-09-23T12:24:25.001Z"
   },
   {
    "duration": 34,
    "start_time": "2023-09-23T12:24:25.460Z"
   },
   {
    "duration": 96,
    "start_time": "2023-09-23T12:24:25.495Z"
   },
   {
    "duration": 4,
    "start_time": "2023-09-23T12:24:25.592Z"
   },
   {
    "duration": 1839,
    "start_time": "2023-09-23T12:24:25.598Z"
   },
   {
    "duration": 29,
    "start_time": "2023-09-23T12:24:27.439Z"
   },
   {
    "duration": 1994,
    "start_time": "2023-09-23T12:24:27.469Z"
   },
   {
    "duration": 994,
    "start_time": "2023-09-23T12:24:29.464Z"
   },
   {
    "duration": 276,
    "start_time": "2023-09-23T12:24:30.460Z"
   },
   {
    "duration": 4,
    "start_time": "2023-09-23T12:24:30.744Z"
   },
   {
    "duration": 168,
    "start_time": "2023-09-23T12:24:30.750Z"
   },
   {
    "duration": 7,
    "start_time": "2023-09-23T12:24:30.920Z"
   },
   {
    "duration": 60,
    "start_time": "2023-09-23T12:24:30.929Z"
   },
   {
    "duration": 721,
    "start_time": "2023-09-23T12:24:30.991Z"
   },
   {
    "duration": 317,
    "start_time": "2023-09-23T12:24:31.714Z"
   },
   {
    "duration": 350,
    "start_time": "2023-09-23T12:24:32.032Z"
   },
   {
    "duration": 132,
    "start_time": "2023-09-23T12:24:32.384Z"
   },
   {
    "duration": 299,
    "start_time": "2023-09-23T12:24:32.519Z"
   },
   {
    "duration": 3906,
    "start_time": "2023-09-23T12:24:32.820Z"
   },
   {
    "duration": 27,
    "start_time": "2023-09-23T12:24:36.727Z"
   },
   {
    "duration": 2172,
    "start_time": "2023-09-23T12:24:36.756Z"
   },
   {
    "duration": 4,
    "start_time": "2023-09-23T12:24:38.930Z"
   },
   {
    "duration": 43,
    "start_time": "2023-09-23T12:24:38.936Z"
   },
   {
    "duration": 58,
    "start_time": "2023-09-23T12:24:38.980Z"
   },
   {
    "duration": 494,
    "start_time": "2023-09-23T12:24:39.040Z"
   },
   {
    "duration": 3229,
    "start_time": "2023-09-23T12:24:39.535Z"
   },
   {
    "duration": 1311,
    "start_time": "2023-09-23T12:25:03.695Z"
   },
   {
    "duration": 827,
    "start_time": "2023-09-23T12:25:05.008Z"
   },
   {
    "duration": 66,
    "start_time": "2023-09-23T12:25:05.837Z"
   },
   {
    "duration": 4,
    "start_time": "2023-09-23T12:25:05.905Z"
   },
   {
    "duration": 152,
    "start_time": "2023-09-23T12:25:05.911Z"
   },
   {
    "duration": 276,
    "start_time": "2023-09-23T12:25:06.065Z"
   },
   {
    "duration": 140,
    "start_time": "2023-09-23T12:25:06.343Z"
   },
   {
    "duration": 139,
    "start_time": "2023-09-23T12:25:06.485Z"
   },
   {
    "duration": 100,
    "start_time": "2023-09-23T12:25:06.626Z"
   },
   {
    "duration": 405,
    "start_time": "2023-09-23T12:25:06.729Z"
   },
   {
    "duration": 405,
    "start_time": "2023-09-23T12:25:07.136Z"
   },
   {
    "duration": 27,
    "start_time": "2023-09-23T12:25:07.542Z"
   },
   {
    "duration": 106,
    "start_time": "2023-09-23T12:25:07.570Z"
   },
   {
    "duration": 5,
    "start_time": "2023-09-23T12:25:07.677Z"
   },
   {
    "duration": 1820,
    "start_time": "2023-09-23T12:25:07.683Z"
   },
   {
    "duration": 24,
    "start_time": "2023-09-23T12:25:09.505Z"
   },
   {
    "duration": 2145,
    "start_time": "2023-09-23T12:25:09.530Z"
   },
   {
    "duration": 994,
    "start_time": "2023-09-23T12:25:11.677Z"
   },
   {
    "duration": 298,
    "start_time": "2023-09-23T12:25:12.673Z"
   },
   {
    "duration": 3,
    "start_time": "2023-09-23T12:25:12.973Z"
   },
   {
    "duration": 156,
    "start_time": "2023-09-23T12:25:12.977Z"
   },
   {
    "duration": 10,
    "start_time": "2023-09-23T12:25:13.135Z"
   },
   {
    "duration": 15,
    "start_time": "2023-09-23T12:25:13.147Z"
   },
   {
    "duration": 712,
    "start_time": "2023-09-23T12:25:13.163Z"
   },
   {
    "duration": 395,
    "start_time": "2023-09-23T12:25:13.877Z"
   },
   {
    "duration": 333,
    "start_time": "2023-09-23T12:25:14.274Z"
   },
   {
    "duration": 136,
    "start_time": "2023-09-23T12:25:14.608Z"
   },
   {
    "duration": 268,
    "start_time": "2023-09-23T12:25:14.747Z"
   },
   {
    "duration": 3970,
    "start_time": "2023-09-23T12:25:15.016Z"
   },
   {
    "duration": 20,
    "start_time": "2023-09-23T12:25:18.988Z"
   },
   {
    "duration": 2189,
    "start_time": "2023-09-23T12:25:19.011Z"
   },
   {
    "duration": 3,
    "start_time": "2023-09-23T12:25:21.202Z"
   },
   {
    "duration": 15,
    "start_time": "2023-09-23T12:25:21.206Z"
   },
   {
    "duration": 79,
    "start_time": "2023-09-23T12:25:21.222Z"
   },
   {
    "duration": 507,
    "start_time": "2023-09-23T12:25:21.303Z"
   },
   {
    "duration": 2308,
    "start_time": "2023-09-23T12:25:21.812Z"
   },
   {
    "duration": 1403,
    "start_time": "2023-09-23T12:25:53.287Z"
   },
   {
    "duration": 835,
    "start_time": "2023-09-23T12:25:54.691Z"
   },
   {
    "duration": 71,
    "start_time": "2023-09-23T12:25:55.528Z"
   },
   {
    "duration": 5,
    "start_time": "2023-09-23T12:25:55.601Z"
   },
   {
    "duration": 142,
    "start_time": "2023-09-23T12:25:55.608Z"
   },
   {
    "duration": 252,
    "start_time": "2023-09-23T12:25:55.751Z"
   },
   {
    "duration": 132,
    "start_time": "2023-09-23T12:25:56.005Z"
   },
   {
    "duration": 137,
    "start_time": "2023-09-23T12:25:56.145Z"
   },
   {
    "duration": 102,
    "start_time": "2023-09-23T12:25:56.284Z"
   },
   {
    "duration": 436,
    "start_time": "2023-09-23T12:25:56.388Z"
   },
   {
    "duration": 444,
    "start_time": "2023-09-23T12:25:56.826Z"
   },
   {
    "duration": 35,
    "start_time": "2023-09-23T12:25:57.272Z"
   },
   {
    "duration": 114,
    "start_time": "2023-09-23T12:25:57.308Z"
   },
   {
    "duration": 4,
    "start_time": "2023-09-23T12:25:57.424Z"
   },
   {
    "duration": 1852,
    "start_time": "2023-09-23T12:25:57.429Z"
   },
   {
    "duration": 28,
    "start_time": "2023-09-23T12:25:59.282Z"
   },
   {
    "duration": 2065,
    "start_time": "2023-09-23T12:25:59.311Z"
   },
   {
    "duration": 1070,
    "start_time": "2023-09-23T12:26:01.378Z"
   },
   {
    "duration": 355,
    "start_time": "2023-09-23T12:26:02.453Z"
   },
   {
    "duration": 5,
    "start_time": "2023-09-23T12:26:02.809Z"
   },
   {
    "duration": 136,
    "start_time": "2023-09-23T12:26:02.815Z"
   },
   {
    "duration": 7,
    "start_time": "2023-09-23T12:26:02.953Z"
   },
   {
    "duration": 15,
    "start_time": "2023-09-23T12:26:02.961Z"
   },
   {
    "duration": 697,
    "start_time": "2023-09-23T12:26:02.977Z"
   },
   {
    "duration": 307,
    "start_time": "2023-09-23T12:26:03.675Z"
   },
   {
    "duration": 381,
    "start_time": "2023-09-23T12:26:03.984Z"
   },
   {
    "duration": 132,
    "start_time": "2023-09-23T12:26:04.367Z"
   },
   {
    "duration": 261,
    "start_time": "2023-09-23T12:26:04.502Z"
   },
   {
    "duration": 3952,
    "start_time": "2023-09-23T12:26:04.765Z"
   },
   {
    "duration": 28,
    "start_time": "2023-09-23T12:26:08.718Z"
   },
   {
    "duration": 2076,
    "start_time": "2023-09-23T12:26:08.747Z"
   },
   {
    "duration": 4,
    "start_time": "2023-09-23T12:26:10.824Z"
   },
   {
    "duration": 36,
    "start_time": "2023-09-23T12:26:10.829Z"
   },
   {
    "duration": 63,
    "start_time": "2023-09-23T12:26:10.867Z"
   },
   {
    "duration": 524,
    "start_time": "2023-09-23T12:26:10.931Z"
   },
   {
    "duration": 3233,
    "start_time": "2023-09-23T12:26:11.457Z"
   },
   {
    "duration": 83384,
    "start_time": "2023-09-23T12:26:14.691Z"
   },
   {
    "duration": 134,
    "start_time": "2023-09-23T12:31:04.014Z"
   },
   {
    "duration": 13,
    "start_time": "2023-09-23T12:32:18.905Z"
   },
   {
    "duration": 3263,
    "start_time": "2023-09-23T12:33:01.682Z"
   },
   {
    "duration": 5,
    "start_time": "2023-09-23T12:33:36.016Z"
   },
   {
    "duration": 2,
    "start_time": "2023-09-23T12:35:32.302Z"
   },
   {
    "duration": 67045,
    "start_time": "2023-09-23T12:37:53.307Z"
   },
   {
    "duration": 68457,
    "start_time": "2023-09-23T12:39:48.989Z"
   },
   {
    "duration": 6,
    "start_time": "2023-09-23T12:41:14.932Z"
   },
   {
    "duration": 6,
    "start_time": "2023-09-23T12:44:53.037Z"
   },
   {
    "duration": 115,
    "start_time": "2023-09-23T12:47:55.439Z"
   },
   {
    "duration": 101,
    "start_time": "2023-09-23T12:49:33.759Z"
   },
   {
    "duration": 87,
    "start_time": "2023-09-23T12:51:47.395Z"
   },
   {
    "duration": 5,
    "start_time": "2023-09-23T12:53:32.597Z"
   },
   {
    "duration": 97,
    "start_time": "2023-09-23T12:53:34.980Z"
   },
   {
    "duration": 5,
    "start_time": "2023-09-23T12:54:27.903Z"
   },
   {
    "duration": 52,
    "start_time": "2023-09-23T12:55:16.751Z"
   },
   {
    "duration": 2978,
    "start_time": "2023-09-23T12:55:21.181Z"
   },
   {
    "duration": 2864,
    "start_time": "2023-09-23T12:55:24.161Z"
   },
   {
    "duration": 61,
    "start_time": "2023-09-23T12:55:27.026Z"
   },
   {
    "duration": 40,
    "start_time": "2023-09-23T12:55:27.089Z"
   },
   {
    "duration": 246,
    "start_time": "2023-09-23T12:55:27.132Z"
   },
   {
    "duration": 257,
    "start_time": "2023-09-23T12:55:27.380Z"
   },
   {
    "duration": 135,
    "start_time": "2023-09-23T12:55:27.639Z"
   },
   {
    "duration": 139,
    "start_time": "2023-09-23T12:55:27.776Z"
   },
   {
    "duration": 95,
    "start_time": "2023-09-23T12:55:27.917Z"
   },
   {
    "duration": 397,
    "start_time": "2023-09-23T12:55:28.014Z"
   },
   {
    "duration": 394,
    "start_time": "2023-09-23T12:55:28.413Z"
   },
   {
    "duration": 36,
    "start_time": "2023-09-23T12:55:28.809Z"
   },
   {
    "duration": 84,
    "start_time": "2023-09-23T12:55:28.846Z"
   },
   {
    "duration": 11,
    "start_time": "2023-09-23T12:55:28.933Z"
   },
   {
    "duration": 1898,
    "start_time": "2023-09-23T12:55:28.946Z"
   },
   {
    "duration": 26,
    "start_time": "2023-09-23T12:55:30.845Z"
   },
   {
    "duration": 2158,
    "start_time": "2023-09-23T12:55:30.873Z"
   },
   {
    "duration": 1001,
    "start_time": "2023-09-23T12:55:33.032Z"
   },
   {
    "duration": 325,
    "start_time": "2023-09-23T12:55:34.034Z"
   },
   {
    "duration": 4,
    "start_time": "2023-09-23T12:55:34.360Z"
   },
   {
    "duration": 135,
    "start_time": "2023-09-23T12:55:34.366Z"
   },
   {
    "duration": 7,
    "start_time": "2023-09-23T12:55:34.503Z"
   },
   {
    "duration": 27,
    "start_time": "2023-09-23T12:55:34.511Z"
   },
   {
    "duration": 694,
    "start_time": "2023-09-23T12:55:34.539Z"
   },
   {
    "duration": 338,
    "start_time": "2023-09-23T12:55:35.235Z"
   },
   {
    "duration": 399,
    "start_time": "2023-09-23T12:55:35.574Z"
   },
   {
    "duration": 133,
    "start_time": "2023-09-23T12:55:35.975Z"
   },
   {
    "duration": 276,
    "start_time": "2023-09-23T12:55:36.109Z"
   },
   {
    "duration": 3753,
    "start_time": "2023-09-23T12:55:36.387Z"
   },
   {
    "duration": 24,
    "start_time": "2023-09-23T12:55:40.143Z"
   },
   {
    "duration": 2267,
    "start_time": "2023-09-23T12:55:40.169Z"
   },
   {
    "duration": 8,
    "start_time": "2023-09-23T12:55:42.437Z"
   },
   {
    "duration": 17,
    "start_time": "2023-09-23T12:55:42.447Z"
   },
   {
    "duration": 61,
    "start_time": "2023-09-23T12:55:42.466Z"
   },
   {
    "duration": 539,
    "start_time": "2023-09-23T12:55:42.529Z"
   },
   {
    "duration": 7,
    "start_time": "2023-09-23T12:55:43.069Z"
   },
   {
    "duration": 70068,
    "start_time": "2023-09-23T12:55:43.077Z"
   },
   {
    "duration": 4485,
    "start_time": "2023-09-23T12:56:53.148Z"
   },
   {
    "duration": 51234,
    "start_time": "2023-09-23T12:56:57.635Z"
   },
   {
    "duration": 6,
    "start_time": "2023-09-23T12:57:48.870Z"
   },
   {
    "duration": 6,
    "start_time": "2023-09-23T12:57:48.880Z"
   },
   {
    "duration": 2080,
    "start_time": "2023-09-23T12:57:48.945Z"
   },
   {
    "duration": 7,
    "start_time": "2023-09-23T12:58:18.964Z"
   },
   {
    "duration": 3146,
    "start_time": "2023-09-23T12:59:20.809Z"
   },
   {
    "duration": 2864,
    "start_time": "2023-09-23T12:59:23.957Z"
   },
   {
    "duration": 67,
    "start_time": "2023-09-23T12:59:26.822Z"
   },
   {
    "duration": 4,
    "start_time": "2023-09-23T12:59:26.890Z"
   },
   {
    "duration": 141,
    "start_time": "2023-09-23T12:59:26.896Z"
   },
   {
    "duration": 256,
    "start_time": "2023-09-23T12:59:27.039Z"
   },
   {
    "duration": 137,
    "start_time": "2023-09-23T12:59:27.297Z"
   },
   {
    "duration": 134,
    "start_time": "2023-09-23T12:59:27.436Z"
   },
   {
    "duration": 96,
    "start_time": "2023-09-23T12:59:27.572Z"
   },
   {
    "duration": 416,
    "start_time": "2023-09-23T12:59:27.670Z"
   },
   {
    "duration": 434,
    "start_time": "2023-09-23T12:59:28.088Z"
   },
   {
    "duration": 38,
    "start_time": "2023-09-23T12:59:28.523Z"
   },
   {
    "duration": 93,
    "start_time": "2023-09-23T12:59:28.563Z"
   },
   {
    "duration": 4,
    "start_time": "2023-09-23T12:59:28.659Z"
   },
   {
    "duration": 1914,
    "start_time": "2023-09-23T12:59:28.664Z"
   },
   {
    "duration": 28,
    "start_time": "2023-09-23T12:59:30.580Z"
   },
   {
    "duration": 2135,
    "start_time": "2023-09-23T12:59:30.609Z"
   },
   {
    "duration": 953,
    "start_time": "2023-09-23T12:59:32.746Z"
   },
   {
    "duration": 329,
    "start_time": "2023-09-23T12:59:33.700Z"
   },
   {
    "duration": 13,
    "start_time": "2023-09-23T12:59:34.031Z"
   },
   {
    "duration": 161,
    "start_time": "2023-09-23T12:59:34.046Z"
   },
   {
    "duration": 8,
    "start_time": "2023-09-23T12:59:34.208Z"
   },
   {
    "duration": 33,
    "start_time": "2023-09-23T12:59:34.218Z"
   },
   {
    "duration": 686,
    "start_time": "2023-09-23T12:59:34.253Z"
   },
   {
    "duration": 303,
    "start_time": "2023-09-23T12:59:34.943Z"
   },
   {
    "duration": 299,
    "start_time": "2023-09-23T12:59:35.248Z"
   },
   {
    "duration": 132,
    "start_time": "2023-09-23T12:59:35.548Z"
   },
   {
    "duration": 251,
    "start_time": "2023-09-23T12:59:35.682Z"
   },
   {
    "duration": 3726,
    "start_time": "2023-09-23T12:59:35.934Z"
   },
   {
    "duration": 21,
    "start_time": "2023-09-23T12:59:39.662Z"
   },
   {
    "duration": 2209,
    "start_time": "2023-09-23T12:59:39.685Z"
   },
   {
    "duration": 4,
    "start_time": "2023-09-23T12:59:41.895Z"
   },
   {
    "duration": 20,
    "start_time": "2023-09-23T12:59:41.901Z"
   },
   {
    "duration": 75,
    "start_time": "2023-09-23T12:59:41.922Z"
   },
   {
    "duration": 549,
    "start_time": "2023-09-23T12:59:41.999Z"
   },
   {
    "duration": 6,
    "start_time": "2023-09-23T12:59:42.550Z"
   },
   {
    "duration": 69287,
    "start_time": "2023-09-23T12:59:42.558Z"
   },
   {
    "duration": 5,
    "start_time": "2023-09-23T13:00:51.847Z"
   },
   {
    "duration": 0,
    "start_time": "2023-09-23T13:00:51.853Z"
   },
   {
    "duration": 0,
    "start_time": "2023-09-23T13:00:51.855Z"
   },
   {
    "duration": 5,
    "start_time": "2023-09-23T13:01:19.436Z"
   },
   {
    "duration": 3,
    "start_time": "2023-09-23T13:01:26.739Z"
   },
   {
    "duration": 5,
    "start_time": "2023-09-23T13:01:48.320Z"
   },
   {
    "duration": 4,
    "start_time": "2023-09-23T13:02:44.772Z"
   },
   {
    "duration": 6,
    "start_time": "2023-09-23T13:02:52.170Z"
   },
   {
    "duration": 3589,
    "start_time": "2023-09-23T13:02:56.791Z"
   },
   {
    "duration": 5,
    "start_time": "2023-09-23T13:03:05.966Z"
   },
   {
    "duration": 128802,
    "start_time": "2023-09-23T13:03:08.169Z"
   },
   {
    "duration": 9534,
    "start_time": "2023-09-23T13:06:38.303Z"
   },
   {
    "duration": 11965,
    "start_time": "2023-09-23T13:07:04.999Z"
   },
   {
    "duration": 1526,
    "start_time": "2023-09-23T13:10:11.183Z"
   },
   {
    "duration": 947,
    "start_time": "2023-09-23T13:10:12.711Z"
   },
   {
    "duration": 66,
    "start_time": "2023-09-23T13:10:13.660Z"
   },
   {
    "duration": 3,
    "start_time": "2023-09-23T13:10:13.728Z"
   },
   {
    "duration": 151,
    "start_time": "2023-09-23T13:10:13.747Z"
   },
   {
    "duration": 351,
    "start_time": "2023-09-23T13:10:13.899Z"
   },
   {
    "duration": 180,
    "start_time": "2023-09-23T13:10:14.252Z"
   },
   {
    "duration": 154,
    "start_time": "2023-09-23T13:10:14.444Z"
   },
   {
    "duration": 100,
    "start_time": "2023-09-23T13:10:14.600Z"
   },
   {
    "duration": 468,
    "start_time": "2023-09-23T13:10:14.702Z"
   },
   {
    "duration": 436,
    "start_time": "2023-09-23T13:10:15.172Z"
   },
   {
    "duration": 43,
    "start_time": "2023-09-23T13:10:15.609Z"
   },
   {
    "duration": 105,
    "start_time": "2023-09-23T13:10:15.655Z"
   },
   {
    "duration": 4,
    "start_time": "2023-09-23T13:10:15.763Z"
   },
   {
    "duration": 2011,
    "start_time": "2023-09-23T13:10:15.769Z"
   },
   {
    "duration": 25,
    "start_time": "2023-09-23T13:10:17.782Z"
   },
   {
    "duration": 2026,
    "start_time": "2023-09-23T13:10:17.809Z"
   },
   {
    "duration": 1012,
    "start_time": "2023-09-23T13:10:19.837Z"
   },
   {
    "duration": 287,
    "start_time": "2023-09-23T13:10:20.850Z"
   },
   {
    "duration": 3,
    "start_time": "2023-09-23T13:10:21.158Z"
   },
   {
    "duration": 137,
    "start_time": "2023-09-23T13:10:21.163Z"
   },
   {
    "duration": 6,
    "start_time": "2023-09-23T13:10:21.302Z"
   },
   {
    "duration": 15,
    "start_time": "2023-09-23T13:10:21.310Z"
   },
   {
    "duration": 746,
    "start_time": "2023-09-23T13:10:21.327Z"
   },
   {
    "duration": 323,
    "start_time": "2023-09-23T13:10:22.074Z"
   },
   {
    "duration": 330,
    "start_time": "2023-09-23T13:10:22.398Z"
   },
   {
    "duration": 138,
    "start_time": "2023-09-23T13:10:22.729Z"
   },
   {
    "duration": 290,
    "start_time": "2023-09-23T13:10:22.869Z"
   },
   {
    "duration": 3909,
    "start_time": "2023-09-23T13:10:23.160Z"
   },
   {
    "duration": 20,
    "start_time": "2023-09-23T13:10:27.071Z"
   },
   {
    "duration": 2090,
    "start_time": "2023-09-23T13:10:27.092Z"
   },
   {
    "duration": 4,
    "start_time": "2023-09-23T13:10:29.183Z"
   },
   {
    "duration": 26,
    "start_time": "2023-09-23T13:10:29.188Z"
   },
   {
    "duration": 68,
    "start_time": "2023-09-23T13:10:29.215Z"
   },
   {
    "duration": 538,
    "start_time": "2023-09-23T13:10:29.285Z"
   },
   {
    "duration": 5,
    "start_time": "2023-09-23T13:10:29.825Z"
   },
   {
    "duration": 54622,
    "start_time": "2023-09-23T13:10:29.832Z"
   },
   {
    "duration": 12911,
    "start_time": "2023-09-23T13:11:24.456Z"
   },
   {
    "duration": 1468,
    "start_time": "2023-09-23T13:16:27.459Z"
   },
   {
    "duration": 938,
    "start_time": "2023-09-23T13:16:28.929Z"
   },
   {
    "duration": 80,
    "start_time": "2023-09-23T13:16:29.869Z"
   },
   {
    "duration": 13,
    "start_time": "2023-09-23T13:16:29.951Z"
   },
   {
    "duration": 156,
    "start_time": "2023-09-23T13:16:29.970Z"
   },
   {
    "duration": 304,
    "start_time": "2023-09-23T13:16:30.128Z"
   },
   {
    "duration": 178,
    "start_time": "2023-09-23T13:16:30.434Z"
   },
   {
    "duration": 205,
    "start_time": "2023-09-23T13:16:30.615Z"
   },
   {
    "duration": 137,
    "start_time": "2023-09-23T13:16:30.822Z"
   },
   {
    "duration": 504,
    "start_time": "2023-09-23T13:16:30.960Z"
   },
   {
    "duration": 588,
    "start_time": "2023-09-23T13:16:31.466Z"
   },
   {
    "duration": 39,
    "start_time": "2023-09-23T13:16:32.057Z"
   },
   {
    "duration": 107,
    "start_time": "2023-09-23T13:16:32.098Z"
   },
   {
    "duration": 4,
    "start_time": "2023-09-23T13:16:32.208Z"
   },
   {
    "duration": 2317,
    "start_time": "2023-09-23T13:16:32.214Z"
   },
   {
    "duration": 39,
    "start_time": "2023-09-23T13:16:34.533Z"
   },
   {
    "duration": 2296,
    "start_time": "2023-09-23T13:16:34.573Z"
   },
   {
    "duration": 1096,
    "start_time": "2023-09-23T13:16:36.871Z"
   },
   {
    "duration": 367,
    "start_time": "2023-09-23T13:16:37.970Z"
   },
   {
    "duration": 10,
    "start_time": "2023-09-23T13:16:38.338Z"
   },
   {
    "duration": 155,
    "start_time": "2023-09-23T13:16:38.351Z"
   },
   {
    "duration": 7,
    "start_time": "2023-09-23T13:16:38.507Z"
   },
   {
    "duration": 39,
    "start_time": "2023-09-23T13:16:38.516Z"
   },
   {
    "duration": 804,
    "start_time": "2023-09-23T13:16:38.557Z"
   },
   {
    "duration": 339,
    "start_time": "2023-09-23T13:16:39.363Z"
   },
   {
    "duration": 373,
    "start_time": "2023-09-23T13:16:39.704Z"
   },
   {
    "duration": 151,
    "start_time": "2023-09-23T13:16:40.079Z"
   },
   {
    "duration": 312,
    "start_time": "2023-09-23T13:16:40.232Z"
   },
   {
    "duration": 4831,
    "start_time": "2023-09-23T13:16:40.551Z"
   },
   {
    "duration": 23,
    "start_time": "2023-09-23T13:16:45.384Z"
   },
   {
    "duration": 2525,
    "start_time": "2023-09-23T13:16:45.409Z"
   },
   {
    "duration": 5,
    "start_time": "2023-09-23T13:16:47.935Z"
   },
   {
    "duration": 23,
    "start_time": "2023-09-23T13:16:47.946Z"
   },
   {
    "duration": 69,
    "start_time": "2023-09-23T13:16:47.970Z"
   },
   {
    "duration": 603,
    "start_time": "2023-09-23T13:16:48.043Z"
   },
   {
    "duration": 9,
    "start_time": "2023-09-23T13:16:48.648Z"
   },
   {
    "duration": 53592,
    "start_time": "2023-09-23T13:16:48.659Z"
   },
   {
    "duration": 12353,
    "start_time": "2023-09-23T13:17:42.254Z"
   },
   {
    "duration": 250754,
    "start_time": "2023-09-23T13:17:54.608Z"
   },
   {
    "duration": 27,
    "start_time": "2023-09-23T13:22:05.365Z"
   },
   {
    "duration": 104,
    "start_time": "2023-09-23T13:24:22.631Z"
   },
   {
    "duration": 119,
    "start_time": "2023-09-23T13:24:35.153Z"
   },
   {
    "duration": 29,
    "start_time": "2023-09-23T13:24:51.021Z"
   },
   {
    "duration": 30,
    "start_time": "2023-09-23T13:25:17.830Z"
   },
   {
    "duration": 149,
    "start_time": "2023-09-23T13:27:30.765Z"
   },
   {
    "duration": 22355,
    "start_time": "2023-09-23T13:27:36.156Z"
   },
   {
    "duration": 20877,
    "start_time": "2023-09-23T13:28:07.221Z"
   },
   {
    "duration": 56568,
    "start_time": "2023-09-23T13:31:39.778Z"
   },
   {
    "duration": 2873,
    "start_time": "2023-09-23T13:32:55.035Z"
   },
   {
    "duration": 2183,
    "start_time": "2023-09-23T13:44:10.982Z"
   },
   {
    "duration": 964,
    "start_time": "2023-09-23T13:44:13.176Z"
   },
   {
    "duration": 93,
    "start_time": "2023-09-23T13:44:14.141Z"
   },
   {
    "duration": 13,
    "start_time": "2023-09-23T13:44:14.236Z"
   },
   {
    "duration": 198,
    "start_time": "2023-09-23T13:44:14.252Z"
   },
   {
    "duration": 326,
    "start_time": "2023-09-23T13:44:14.452Z"
   },
   {
    "duration": 169,
    "start_time": "2023-09-23T13:44:14.779Z"
   },
   {
    "duration": 213,
    "start_time": "2023-09-23T13:44:14.955Z"
   },
   {
    "duration": 104,
    "start_time": "2023-09-23T13:44:15.177Z"
   },
   {
    "duration": 480,
    "start_time": "2023-09-23T13:44:15.285Z"
   },
   {
    "duration": 525,
    "start_time": "2023-09-23T13:44:15.766Z"
   },
   {
    "duration": 33,
    "start_time": "2023-09-23T13:44:16.293Z"
   },
   {
    "duration": 121,
    "start_time": "2023-09-23T13:44:16.327Z"
   },
   {
    "duration": 11,
    "start_time": "2023-09-23T13:44:16.449Z"
   },
   {
    "duration": 2180,
    "start_time": "2023-09-23T13:44:16.461Z"
   },
   {
    "duration": 40,
    "start_time": "2023-09-23T13:44:18.642Z"
   },
   {
    "duration": 2244,
    "start_time": "2023-09-23T13:44:18.684Z"
   },
   {
    "duration": 1146,
    "start_time": "2023-09-23T13:44:20.930Z"
   },
   {
    "duration": 348,
    "start_time": "2023-09-23T13:44:22.082Z"
   },
   {
    "duration": 16,
    "start_time": "2023-09-23T13:44:22.432Z"
   },
   {
    "duration": 260,
    "start_time": "2023-09-23T13:44:22.452Z"
   },
   {
    "duration": 8,
    "start_time": "2023-09-23T13:44:22.714Z"
   },
   {
    "duration": 37,
    "start_time": "2023-09-23T13:44:22.723Z"
   },
   {
    "duration": 744,
    "start_time": "2023-09-23T13:44:22.761Z"
   },
   {
    "duration": 376,
    "start_time": "2023-09-23T13:44:23.507Z"
   },
   {
    "duration": 425,
    "start_time": "2023-09-23T13:44:23.886Z"
   },
   {
    "duration": 182,
    "start_time": "2023-09-23T13:44:24.313Z"
   },
   {
    "duration": 326,
    "start_time": "2023-09-23T13:44:24.498Z"
   },
   {
    "duration": 4318,
    "start_time": "2023-09-23T13:44:24.825Z"
   },
   {
    "duration": 31,
    "start_time": "2023-09-23T13:44:29.146Z"
   },
   {
    "duration": 2607,
    "start_time": "2023-09-23T13:44:29.178Z"
   },
   {
    "duration": 5,
    "start_time": "2023-09-23T13:44:31.786Z"
   },
   {
    "duration": 26,
    "start_time": "2023-09-23T13:44:31.793Z"
   },
   {
    "duration": 85,
    "start_time": "2023-09-23T13:44:31.821Z"
   },
   {
    "duration": 658,
    "start_time": "2023-09-23T13:44:31.907Z"
   },
   {
    "duration": 17,
    "start_time": "2023-09-23T13:44:32.568Z"
   },
   {
    "duration": 57271,
    "start_time": "2023-09-23T13:44:32.588Z"
   },
   {
    "duration": 14443,
    "start_time": "2023-09-23T13:45:29.861Z"
   },
   {
    "duration": 73865,
    "start_time": "2023-09-23T13:45:44.306Z"
   },
   {
    "duration": 23339,
    "start_time": "2023-09-23T13:46:58.174Z"
   },
   {
    "duration": 51633,
    "start_time": "2023-09-23T13:47:21.515Z"
   },
   {
    "duration": 3226,
    "start_time": "2023-09-23T13:48:13.150Z"
   },
   {
    "duration": 73439,
    "start_time": "2023-09-23T13:48:21.626Z"
   },
   {
    "duration": 90344,
    "start_time": "2023-09-23T13:50:44.807Z"
   },
   {
    "duration": 20589,
    "start_time": "2023-09-23T13:52:48.097Z"
   },
   {
    "duration": 8717,
    "start_time": "2023-09-23T13:54:04.768Z"
   },
   {
    "duration": 8127,
    "start_time": "2023-09-23T13:54:16.069Z"
   },
   {
    "duration": 98,
    "start_time": "2023-09-23T13:55:16.617Z"
   },
   {
    "duration": 71,
    "start_time": "2023-09-23T13:55:21.495Z"
   },
   {
    "duration": 709,
    "start_time": "2023-09-23T14:00:30.742Z"
   },
   {
    "duration": 616,
    "start_time": "2023-09-23T14:00:36.706Z"
   },
   {
    "duration": 1895,
    "start_time": "2023-09-23T14:11:20.684Z"
   },
   {
    "duration": 3406,
    "start_time": "2023-09-23T14:11:22.582Z"
   },
   {
    "duration": 65,
    "start_time": "2023-09-23T14:11:25.989Z"
   },
   {
    "duration": 6,
    "start_time": "2023-09-23T14:11:26.056Z"
   },
   {
    "duration": 164,
    "start_time": "2023-09-23T14:11:26.069Z"
   },
   {
    "duration": 340,
    "start_time": "2023-09-23T14:11:26.234Z"
   },
   {
    "duration": 153,
    "start_time": "2023-09-23T14:11:26.576Z"
   },
   {
    "duration": 176,
    "start_time": "2023-09-23T14:11:26.730Z"
   },
   {
    "duration": 98,
    "start_time": "2023-09-23T14:11:26.907Z"
   },
   {
    "duration": 471,
    "start_time": "2023-09-23T14:11:27.007Z"
   },
   {
    "duration": 563,
    "start_time": "2023-09-23T14:11:27.480Z"
   },
   {
    "duration": 51,
    "start_time": "2023-09-23T14:11:28.046Z"
   },
   {
    "duration": 120,
    "start_time": "2023-09-23T14:11:28.099Z"
   },
   {
    "duration": 4,
    "start_time": "2023-09-23T14:11:28.221Z"
   },
   {
    "duration": 2411,
    "start_time": "2023-09-23T14:11:28.227Z"
   },
   {
    "duration": 61,
    "start_time": "2023-09-23T14:11:30.640Z"
   },
   {
    "duration": 2322,
    "start_time": "2023-09-23T14:11:30.703Z"
   },
   {
    "duration": 1144,
    "start_time": "2023-09-23T14:11:33.027Z"
   },
   {
    "duration": 401,
    "start_time": "2023-09-23T14:11:34.175Z"
   },
   {
    "duration": 5,
    "start_time": "2023-09-23T14:11:34.582Z"
   },
   {
    "duration": 275,
    "start_time": "2023-09-23T14:11:34.589Z"
   },
   {
    "duration": 14,
    "start_time": "2023-09-23T14:11:34.866Z"
   },
   {
    "duration": 17,
    "start_time": "2023-09-23T14:11:34.883Z"
   },
   {
    "duration": 756,
    "start_time": "2023-09-23T14:11:34.902Z"
   },
   {
    "duration": 344,
    "start_time": "2023-09-23T14:11:35.662Z"
   },
   {
    "duration": 372,
    "start_time": "2023-09-23T14:11:36.008Z"
   },
   {
    "duration": 158,
    "start_time": "2023-09-23T14:11:36.382Z"
   },
   {
    "duration": 314,
    "start_time": "2023-09-23T14:11:36.546Z"
   },
   {
    "duration": 4573,
    "start_time": "2023-09-23T14:11:36.862Z"
   },
   {
    "duration": 41,
    "start_time": "2023-09-23T14:11:41.437Z"
   },
   {
    "duration": 2610,
    "start_time": "2023-09-23T14:11:41.479Z"
   },
   {
    "duration": 5,
    "start_time": "2023-09-23T14:11:44.091Z"
   },
   {
    "duration": 21,
    "start_time": "2023-09-23T14:11:44.098Z"
   },
   {
    "duration": 106,
    "start_time": "2023-09-23T14:11:44.120Z"
   },
   {
    "duration": 681,
    "start_time": "2023-09-23T14:11:44.228Z"
   },
   {
    "duration": 6,
    "start_time": "2023-09-23T14:11:44.910Z"
   },
   {
    "duration": 51038,
    "start_time": "2023-09-23T14:11:44.918Z"
   },
   {
    "duration": 15057,
    "start_time": "2023-09-23T14:12:35.957Z"
   },
   {
    "duration": 26480,
    "start_time": "2023-09-23T14:12:51.016Z"
   },
   {
    "duration": 23878,
    "start_time": "2023-09-23T14:13:17.498Z"
   },
   {
    "duration": 55778,
    "start_time": "2023-09-23T14:13:41.380Z"
   },
   {
    "duration": 3571,
    "start_time": "2023-09-23T14:14:37.164Z"
   },
   {
    "duration": 12044,
    "start_time": "2023-09-23T14:14:40.737Z"
   },
   {
    "duration": 698,
    "start_time": "2023-09-23T14:14:52.783Z"
   },
   {
    "duration": 1866,
    "start_time": "2023-09-24T13:31:05.917Z"
   },
   {
    "duration": 98,
    "start_time": "2023-09-24T13:31:42.686Z"
   },
   {
    "duration": 1706,
    "start_time": "2023-09-24T13:39:17.875Z"
   },
   {
    "duration": 3098,
    "start_time": "2023-09-24T13:39:19.583Z"
   },
   {
    "duration": 69,
    "start_time": "2023-09-24T13:39:22.682Z"
   },
   {
    "duration": 4,
    "start_time": "2023-09-24T13:39:22.753Z"
   },
   {
    "duration": 172,
    "start_time": "2023-09-24T13:39:22.760Z"
   },
   {
    "duration": 281,
    "start_time": "2023-09-24T13:39:22.934Z"
   },
   {
    "duration": 166,
    "start_time": "2023-09-24T13:39:23.217Z"
   },
   {
    "duration": 127,
    "start_time": "2023-09-24T13:39:23.385Z"
   },
   {
    "duration": 498,
    "start_time": "2023-09-24T13:39:23.514Z"
   },
   {
    "duration": 521,
    "start_time": "2023-09-24T13:39:24.014Z"
   },
   {
    "duration": 44,
    "start_time": "2023-09-24T13:39:24.536Z"
   },
   {
    "duration": 129,
    "start_time": "2023-09-24T13:39:24.582Z"
   },
   {
    "duration": 4,
    "start_time": "2023-09-24T13:39:24.713Z"
   },
   {
    "duration": 2207,
    "start_time": "2023-09-24T13:39:24.722Z"
   },
   {
    "duration": 39,
    "start_time": "2023-09-24T13:39:26.931Z"
   },
   {
    "duration": 2389,
    "start_time": "2023-09-24T13:39:26.977Z"
   },
   {
    "duration": 1124,
    "start_time": "2023-09-24T13:39:29.369Z"
   },
   {
    "duration": 364,
    "start_time": "2023-09-24T13:39:30.495Z"
   },
   {
    "duration": 4,
    "start_time": "2023-09-24T13:39:30.861Z"
   },
   {
    "duration": 382,
    "start_time": "2023-09-24T13:39:30.867Z"
   },
   {
    "duration": 8,
    "start_time": "2023-09-24T13:39:31.251Z"
   },
   {
    "duration": 40,
    "start_time": "2023-09-24T13:39:31.261Z"
   },
   {
    "duration": 762,
    "start_time": "2023-09-24T13:39:31.303Z"
   },
   {
    "duration": 409,
    "start_time": "2023-09-24T13:39:32.067Z"
   },
   {
    "duration": 397,
    "start_time": "2023-09-24T13:39:32.478Z"
   },
   {
    "duration": 165,
    "start_time": "2023-09-24T13:39:32.878Z"
   },
   {
    "duration": 330,
    "start_time": "2023-09-24T13:39:33.045Z"
   },
   {
    "duration": 4468,
    "start_time": "2023-09-24T13:39:33.376Z"
   },
   {
    "duration": 51,
    "start_time": "2023-09-24T13:39:37.846Z"
   },
   {
    "duration": 581,
    "start_time": "2023-09-24T13:39:37.899Z"
   },
   {
    "duration": 5,
    "start_time": "2023-09-24T13:39:38.482Z"
   },
   {
    "duration": 25,
    "start_time": "2023-09-24T13:39:38.488Z"
   },
   {
    "duration": 95,
    "start_time": "2023-09-24T13:39:38.514Z"
   },
   {
    "duration": 721,
    "start_time": "2023-09-24T13:39:38.611Z"
   },
   {
    "duration": 7,
    "start_time": "2023-09-24T13:39:39.334Z"
   },
   {
    "duration": 72023,
    "start_time": "2023-09-24T13:39:39.342Z"
   },
   {
    "duration": 13213,
    "start_time": "2023-09-24T13:40:51.367Z"
   },
   {
    "duration": 15106,
    "start_time": "2023-09-24T13:41:04.582Z"
   },
   {
    "duration": 23163,
    "start_time": "2023-09-24T13:41:19.689Z"
   },
   {
    "duration": 72103,
    "start_time": "2023-09-24T13:41:42.858Z"
   },
   {
    "duration": 3297,
    "start_time": "2023-09-24T13:42:54.967Z"
   },
   {
    "duration": 4793,
    "start_time": "2023-09-24T13:42:58.266Z"
   },
   {
    "duration": 573,
    "start_time": "2023-09-24T13:43:03.061Z"
   },
   {
    "duration": 120,
    "start_time": "2023-09-24T13:43:21.504Z"
   },
   {
    "duration": 9247,
    "start_time": "2023-09-24T13:44:01.876Z"
   },
   {
    "duration": 1468,
    "start_time": "2023-09-24T13:44:11.127Z"
   },
   {
    "duration": 1016,
    "start_time": "2023-09-24T13:44:12.597Z"
   },
   {
    "duration": 86,
    "start_time": "2023-09-24T13:44:13.616Z"
   },
   {
    "duration": 6,
    "start_time": "2023-09-24T13:44:13.705Z"
   },
   {
    "duration": 195,
    "start_time": "2023-09-24T13:44:13.714Z"
   },
   {
    "duration": 316,
    "start_time": "2023-09-24T13:44:13.912Z"
   },
   {
    "duration": 173,
    "start_time": "2023-09-24T13:44:14.230Z"
   },
   {
    "duration": 123,
    "start_time": "2023-09-24T13:44:14.405Z"
   },
   {
    "duration": 547,
    "start_time": "2023-09-24T13:44:14.530Z"
   },
   {
    "duration": 603,
    "start_time": "2023-09-24T13:44:15.079Z"
   },
   {
    "duration": 44,
    "start_time": "2023-09-24T13:44:15.684Z"
   },
   {
    "duration": 128,
    "start_time": "2023-09-24T13:44:15.730Z"
   },
   {
    "duration": 5,
    "start_time": "2023-09-24T13:44:15.861Z"
   },
   {
    "duration": 2163,
    "start_time": "2023-09-24T13:44:15.868Z"
   },
   {
    "duration": 40,
    "start_time": "2023-09-24T13:44:18.033Z"
   },
   {
    "duration": 2409,
    "start_time": "2023-09-24T13:44:18.076Z"
   },
   {
    "duration": 1232,
    "start_time": "2023-09-24T13:44:20.487Z"
   },
   {
    "duration": 368,
    "start_time": "2023-09-24T13:44:21.721Z"
   },
   {
    "duration": 4,
    "start_time": "2023-09-24T13:44:22.092Z"
   },
   {
    "duration": 168,
    "start_time": "2023-09-24T13:44:22.098Z"
   },
   {
    "duration": 11,
    "start_time": "2023-09-24T13:44:22.268Z"
   },
   {
    "duration": 27,
    "start_time": "2023-09-24T13:44:22.281Z"
   },
   {
    "duration": 921,
    "start_time": "2023-09-24T13:44:22.310Z"
   },
   {
    "duration": 371,
    "start_time": "2023-09-24T13:44:23.233Z"
   },
   {
    "duration": 377,
    "start_time": "2023-09-24T13:44:23.606Z"
   },
   {
    "duration": 159,
    "start_time": "2023-09-24T13:44:23.985Z"
   },
   {
    "duration": 359,
    "start_time": "2023-09-24T13:44:24.147Z"
   },
   {
    "duration": 4706,
    "start_time": "2023-09-24T13:44:24.508Z"
   },
   {
    "duration": 58,
    "start_time": "2023-09-24T13:44:29.216Z"
   },
   {
    "duration": 461,
    "start_time": "2023-09-24T13:44:29.276Z"
   },
   {
    "duration": 4,
    "start_time": "2023-09-24T13:44:29.739Z"
   },
   {
    "duration": 26,
    "start_time": "2023-09-24T13:44:29.745Z"
   },
   {
    "duration": 124,
    "start_time": "2023-09-24T13:44:29.773Z"
   },
   {
    "duration": 757,
    "start_time": "2023-09-24T13:44:29.899Z"
   },
   {
    "duration": 9,
    "start_time": "2023-09-24T13:44:30.658Z"
   },
   {
    "duration": 89803,
    "start_time": "2023-09-24T13:44:30.669Z"
   },
   {
    "duration": 14657,
    "start_time": "2023-09-24T13:46:00.474Z"
   },
   {
    "duration": 16661,
    "start_time": "2023-09-24T13:46:15.132Z"
   },
   {
    "duration": 20674,
    "start_time": "2023-09-24T13:46:31.794Z"
   },
   {
    "duration": 87293,
    "start_time": "2023-09-24T13:46:52.474Z"
   },
   {
    "duration": 3065,
    "start_time": "2023-09-24T13:48:19.857Z"
   },
   {
    "duration": 5132,
    "start_time": "2023-09-24T13:48:22.924Z"
   },
   {
    "duration": 652,
    "start_time": "2023-09-24T13:48:28.059Z"
   },
   {
    "duration": 195,
    "start_time": "2023-09-24T13:54:48.190Z"
   },
   {
    "duration": 32,
    "start_time": "2023-09-24T13:55:36.750Z"
   },
   {
    "duration": 45,
    "start_time": "2023-09-24T13:56:22.233Z"
   },
   {
    "duration": 7,
    "start_time": "2023-09-24T14:00:47.327Z"
   },
   {
    "duration": 2585,
    "start_time": "2023-09-24T14:07:54.378Z"
   },
   {
    "duration": 1560,
    "start_time": "2023-09-24T14:07:56.967Z"
   },
   {
    "duration": 1206,
    "start_time": "2023-09-24T14:07:58.529Z"
   },
   {
    "duration": 89,
    "start_time": "2023-09-24T14:07:59.738Z"
   },
   {
    "duration": 5,
    "start_time": "2023-09-24T14:07:59.828Z"
   },
   {
    "duration": 184,
    "start_time": "2023-09-24T14:07:59.834Z"
   },
   {
    "duration": 376,
    "start_time": "2023-09-24T14:08:00.021Z"
   },
   {
    "duration": 189,
    "start_time": "2023-09-24T14:08:00.400Z"
   },
   {
    "duration": 188,
    "start_time": "2023-09-24T14:08:00.592Z"
   },
   {
    "duration": 609,
    "start_time": "2023-09-24T14:08:00.785Z"
   },
   {
    "duration": 643,
    "start_time": "2023-09-24T14:08:01.397Z"
   },
   {
    "duration": 58,
    "start_time": "2023-09-24T14:08:02.042Z"
   },
   {
    "duration": 134,
    "start_time": "2023-09-24T14:08:02.102Z"
   },
   {
    "duration": 6,
    "start_time": "2023-09-24T14:08:02.238Z"
   },
   {
    "duration": 2468,
    "start_time": "2023-09-24T14:08:02.246Z"
   },
   {
    "duration": 42,
    "start_time": "2023-09-24T14:08:04.716Z"
   },
   {
    "duration": 2683,
    "start_time": "2023-09-24T14:08:04.761Z"
   },
   {
    "duration": 1278,
    "start_time": "2023-09-24T14:08:07.447Z"
   },
   {
    "duration": 409,
    "start_time": "2023-09-24T14:08:08.727Z"
   },
   {
    "duration": 5,
    "start_time": "2023-09-24T14:08:09.138Z"
   },
   {
    "duration": 199,
    "start_time": "2023-09-24T14:08:09.146Z"
   },
   {
    "duration": 10,
    "start_time": "2023-09-24T14:08:09.347Z"
   },
   {
    "duration": 25,
    "start_time": "2023-09-24T14:08:09.360Z"
   },
   {
    "duration": 939,
    "start_time": "2023-09-24T14:08:09.387Z"
   },
   {
    "duration": 405,
    "start_time": "2023-09-24T14:08:10.329Z"
   },
   {
    "duration": 436,
    "start_time": "2023-09-24T14:08:10.736Z"
   },
   {
    "duration": 173,
    "start_time": "2023-09-24T14:08:11.174Z"
   },
   {
    "duration": 348,
    "start_time": "2023-09-24T14:08:11.360Z"
   },
   {
    "duration": 4816,
    "start_time": "2023-09-24T14:08:11.710Z"
   },
   {
    "duration": 60,
    "start_time": "2023-09-24T14:08:16.528Z"
   },
   {
    "duration": 500,
    "start_time": "2023-09-24T14:08:16.590Z"
   },
   {
    "duration": 5,
    "start_time": "2023-09-24T14:08:17.092Z"
   },
   {
    "duration": 31,
    "start_time": "2023-09-24T14:08:17.098Z"
   },
   {
    "duration": 93,
    "start_time": "2023-09-24T14:08:17.130Z"
   },
   {
    "duration": 780,
    "start_time": "2023-09-24T14:08:17.225Z"
   },
   {
    "duration": 75,
    "start_time": "2023-09-24T14:08:18.008Z"
   },
   {
    "duration": 8,
    "start_time": "2023-09-24T14:08:18.087Z"
   },
   {
    "duration": 83680,
    "start_time": "2023-09-24T14:08:18.097Z"
   },
   {
    "duration": 17644,
    "start_time": "2023-09-24T14:09:41.781Z"
   },
   {
    "duration": 33852,
    "start_time": "2023-09-24T14:09:59.427Z"
   },
   {
    "duration": 24610,
    "start_time": "2023-09-24T14:10:33.285Z"
   },
   {
    "duration": 74062,
    "start_time": "2023-09-24T14:10:57.898Z"
   },
   {
    "duration": 3704,
    "start_time": "2023-09-24T14:12:11.963Z"
   },
   {
    "duration": 9018,
    "start_time": "2023-09-24T14:12:15.671Z"
   },
   {
    "duration": 757,
    "start_time": "2023-09-24T14:12:24.756Z"
   },
   {
    "duration": 7565,
    "start_time": "2023-09-24T16:27:47.938Z"
   },
   {
    "duration": 1652,
    "start_time": "2023-09-24T16:27:55.505Z"
   },
   {
    "duration": 1396,
    "start_time": "2023-09-24T16:27:57.159Z"
   },
   {
    "duration": 77,
    "start_time": "2023-09-24T16:27:58.558Z"
   },
   {
    "duration": 4,
    "start_time": "2023-09-24T16:27:58.638Z"
   },
   {
    "duration": 195,
    "start_time": "2023-09-24T16:27:58.644Z"
   },
   {
    "duration": 323,
    "start_time": "2023-09-24T16:27:58.842Z"
   },
   {
    "duration": 165,
    "start_time": "2023-09-24T16:27:59.167Z"
   },
   {
    "duration": 110,
    "start_time": "2023-09-24T16:27:59.334Z"
   },
   {
    "duration": 513,
    "start_time": "2023-09-24T16:27:59.447Z"
   },
   {
    "duration": 582,
    "start_time": "2023-09-24T16:27:59.962Z"
   },
   {
    "duration": 55,
    "start_time": "2023-09-24T16:28:00.546Z"
   },
   {
    "duration": 133,
    "start_time": "2023-09-24T16:28:00.603Z"
   },
   {
    "duration": 4,
    "start_time": "2023-09-24T16:28:00.738Z"
   },
   {
    "duration": 2352,
    "start_time": "2023-09-24T16:28:00.744Z"
   },
   {
    "duration": 28,
    "start_time": "2023-09-24T16:28:03.098Z"
   },
   {
    "duration": 2275,
    "start_time": "2023-09-24T16:28:03.128Z"
   },
   {
    "duration": 1143,
    "start_time": "2023-09-24T16:28:05.404Z"
   },
   {
    "duration": 365,
    "start_time": "2023-09-24T16:28:06.548Z"
   },
   {
    "duration": 4,
    "start_time": "2023-09-24T16:28:06.914Z"
   },
   {
    "duration": 294,
    "start_time": "2023-09-24T16:28:06.920Z"
   },
   {
    "duration": 7,
    "start_time": "2023-09-24T16:28:07.216Z"
   },
   {
    "duration": 25,
    "start_time": "2023-09-24T16:28:07.225Z"
   },
   {
    "duration": 731,
    "start_time": "2023-09-24T16:28:07.252Z"
   },
   {
    "duration": 394,
    "start_time": "2023-09-24T16:28:07.986Z"
   },
   {
    "duration": 399,
    "start_time": "2023-09-24T16:28:08.382Z"
   },
   {
    "duration": 165,
    "start_time": "2023-09-24T16:28:08.784Z"
   },
   {
    "duration": 327,
    "start_time": "2023-09-24T16:28:08.952Z"
   },
   {
    "duration": 4525,
    "start_time": "2023-09-24T16:28:09.280Z"
   },
   {
    "duration": 39,
    "start_time": "2023-09-24T16:28:13.807Z"
   },
   {
    "duration": 553,
    "start_time": "2023-09-24T16:28:13.847Z"
   },
   {
    "duration": 4,
    "start_time": "2023-09-24T16:28:14.401Z"
   },
   {
    "duration": 17,
    "start_time": "2023-09-24T16:28:14.406Z"
   },
   {
    "duration": 85,
    "start_time": "2023-09-24T16:28:14.425Z"
   },
   {
    "duration": 758,
    "start_time": "2023-09-24T16:28:14.512Z"
   },
   {
    "duration": 86,
    "start_time": "2023-09-24T16:28:15.272Z"
   },
   {
    "duration": 6,
    "start_time": "2023-09-24T16:28:15.360Z"
   },
   {
    "duration": 70014,
    "start_time": "2023-09-24T16:28:15.368Z"
   },
   {
    "duration": 14287,
    "start_time": "2023-09-24T16:29:25.385Z"
   },
   {
    "duration": 18809,
    "start_time": "2023-09-24T16:29:39.674Z"
   },
   {
    "duration": 19933,
    "start_time": "2023-09-24T16:29:58.486Z"
   },
   {
    "duration": 67461,
    "start_time": "2023-09-24T16:30:18.421Z"
   },
   {
    "duration": 3472,
    "start_time": "2023-09-24T16:31:25.888Z"
   },
   {
    "duration": 7343,
    "start_time": "2023-09-24T16:31:29.362Z"
   },
   {
    "duration": 694,
    "start_time": "2023-09-24T16:31:36.708Z"
   },
   {
    "duration": 7067,
    "start_time": "2023-09-25T13:08:27.069Z"
   },
   {
    "duration": 1402,
    "start_time": "2023-09-25T13:08:34.138Z"
   },
   {
    "duration": 2840,
    "start_time": "2023-09-25T13:08:35.542Z"
   },
   {
    "duration": 59,
    "start_time": "2023-09-25T13:08:38.384Z"
   },
   {
    "duration": 4,
    "start_time": "2023-09-25T13:08:38.444Z"
   },
   {
    "duration": 138,
    "start_time": "2023-09-25T13:08:38.449Z"
   },
   {
    "duration": 270,
    "start_time": "2023-09-25T13:08:38.589Z"
   },
   {
    "duration": 140,
    "start_time": "2023-09-25T13:08:38.861Z"
   },
   {
    "duration": 96,
    "start_time": "2023-09-25T13:08:39.003Z"
   },
   {
    "duration": 440,
    "start_time": "2023-09-25T13:08:39.101Z"
   },
   {
    "duration": 445,
    "start_time": "2023-09-25T13:08:39.542Z"
   },
   {
    "duration": 43,
    "start_time": "2023-09-25T13:08:39.988Z"
   },
   {
    "duration": 119,
    "start_time": "2023-09-25T13:08:40.033Z"
   },
   {
    "duration": 4,
    "start_time": "2023-09-25T13:08:40.153Z"
   },
   {
    "duration": 1943,
    "start_time": "2023-09-25T13:08:40.159Z"
   },
   {
    "duration": 29,
    "start_time": "2023-09-25T13:08:42.103Z"
   },
   {
    "duration": 2014,
    "start_time": "2023-09-25T13:08:42.134Z"
   },
   {
    "duration": 1024,
    "start_time": "2023-09-25T13:08:44.150Z"
   },
   {
    "duration": 316,
    "start_time": "2023-09-25T13:08:45.176Z"
   },
   {
    "duration": 4,
    "start_time": "2023-09-25T13:08:45.494Z"
   },
   {
    "duration": 159,
    "start_time": "2023-09-25T13:08:45.499Z"
   },
   {
    "duration": 7,
    "start_time": "2023-09-25T13:08:45.659Z"
   },
   {
    "duration": 36,
    "start_time": "2023-09-25T13:08:45.667Z"
   },
   {
    "duration": 755,
    "start_time": "2023-09-25T13:08:45.704Z"
   },
   {
    "duration": 325,
    "start_time": "2023-09-25T13:08:46.461Z"
   },
   {
    "duration": 333,
    "start_time": "2023-09-25T13:08:46.787Z"
   },
   {
    "duration": 143,
    "start_time": "2023-09-25T13:08:47.121Z"
   },
   {
    "duration": 270,
    "start_time": "2023-09-25T13:08:47.267Z"
   },
   {
    "duration": 3987,
    "start_time": "2023-09-25T13:08:47.539Z"
   },
   {
    "duration": 38,
    "start_time": "2023-09-25T13:08:51.528Z"
   },
   {
    "duration": 411,
    "start_time": "2023-09-25T13:08:51.568Z"
   },
   {
    "duration": 4,
    "start_time": "2023-09-25T13:08:51.981Z"
   },
   {
    "duration": 15,
    "start_time": "2023-09-25T13:08:51.986Z"
   },
   {
    "duration": 75,
    "start_time": "2023-09-25T13:08:52.002Z"
   },
   {
    "duration": 644,
    "start_time": "2023-09-25T13:08:52.078Z"
   },
   {
    "duration": 53,
    "start_time": "2023-09-25T13:08:52.724Z"
   },
   {
    "duration": 6,
    "start_time": "2023-09-25T13:08:52.779Z"
   },
   {
    "duration": 82127,
    "start_time": "2023-09-25T13:08:52.787Z"
   },
   {
    "duration": 13114,
    "start_time": "2023-09-25T13:10:14.916Z"
   },
   {
    "duration": 13181,
    "start_time": "2023-09-25T13:10:28.032Z"
   },
   {
    "duration": 16585,
    "start_time": "2023-09-25T13:10:41.215Z"
   },
   {
    "duration": 77513,
    "start_time": "2023-09-25T13:10:57.802Z"
   },
   {
    "duration": 3102,
    "start_time": "2023-09-25T13:12:15.317Z"
   },
   {
    "duration": 4402,
    "start_time": "2023-09-25T13:12:18.421Z"
   },
   {
    "duration": 564,
    "start_time": "2023-09-25T13:12:22.825Z"
   },
   {
    "duration": 2175,
    "start_time": "2023-09-25T13:26:46.243Z"
   },
   {
    "duration": 1389,
    "start_time": "2023-09-25T13:26:48.424Z"
   },
   {
    "duration": 910,
    "start_time": "2023-09-25T13:26:49.818Z"
   },
   {
    "duration": 65,
    "start_time": "2023-09-25T13:26:50.729Z"
   },
   {
    "duration": 5,
    "start_time": "2023-09-25T13:26:50.797Z"
   },
   {
    "duration": 168,
    "start_time": "2023-09-25T13:26:50.803Z"
   },
   {
    "duration": 280,
    "start_time": "2023-09-25T13:26:50.973Z"
   },
   {
    "duration": 154,
    "start_time": "2023-09-25T13:26:51.254Z"
   },
   {
    "duration": 107,
    "start_time": "2023-09-25T13:26:51.414Z"
   },
   {
    "duration": 444,
    "start_time": "2023-09-25T13:26:51.523Z"
   },
   {
    "duration": 485,
    "start_time": "2023-09-25T13:26:51.968Z"
   },
   {
    "duration": 34,
    "start_time": "2023-09-25T13:26:52.455Z"
   },
   {
    "duration": 133,
    "start_time": "2023-09-25T13:26:52.491Z"
   },
   {
    "duration": 8,
    "start_time": "2023-09-25T13:26:52.627Z"
   },
   {
    "duration": 2207,
    "start_time": "2023-09-25T13:26:52.636Z"
   },
   {
    "duration": 27,
    "start_time": "2023-09-25T13:26:54.845Z"
   },
   {
    "duration": 2332,
    "start_time": "2023-09-25T13:26:54.874Z"
   },
   {
    "duration": 1079,
    "start_time": "2023-09-25T13:26:57.208Z"
   },
   {
    "duration": 341,
    "start_time": "2023-09-25T13:26:58.289Z"
   },
   {
    "duration": 18,
    "start_time": "2023-09-25T13:26:58.632Z"
   },
   {
    "duration": 213,
    "start_time": "2023-09-25T13:26:58.651Z"
   },
   {
    "duration": 6,
    "start_time": "2023-09-25T13:26:58.866Z"
   },
   {
    "duration": 18,
    "start_time": "2023-09-25T13:26:58.874Z"
   },
   {
    "duration": 759,
    "start_time": "2023-09-25T13:26:58.894Z"
   },
   {
    "duration": 347,
    "start_time": "2023-09-25T13:26:59.655Z"
   },
   {
    "duration": 351,
    "start_time": "2023-09-25T13:27:00.004Z"
   },
   {
    "duration": 142,
    "start_time": "2023-09-25T13:27:00.357Z"
   },
   {
    "duration": 310,
    "start_time": "2023-09-25T13:27:00.500Z"
   },
   {
    "duration": 4239,
    "start_time": "2023-09-25T13:27:00.818Z"
   },
   {
    "duration": 39,
    "start_time": "2023-09-25T13:27:05.059Z"
   },
   {
    "duration": 396,
    "start_time": "2023-09-25T13:27:05.121Z"
   },
   {
    "duration": 8,
    "start_time": "2023-09-25T13:27:05.519Z"
   },
   {
    "duration": 261,
    "start_time": "2023-09-25T13:27:05.529Z"
   },
   {
    "duration": 264,
    "start_time": "2023-09-25T13:27:05.791Z"
   },
   {
    "duration": 693,
    "start_time": "2023-09-25T13:27:06.057Z"
   },
   {
    "duration": 48,
    "start_time": "2023-09-25T13:27:06.752Z"
   },
   {
    "duration": 268,
    "start_time": "2023-09-25T13:27:06.802Z"
   },
   {
    "duration": 0,
    "start_time": "2023-09-25T13:27:07.072Z"
   },
   {
    "duration": 0,
    "start_time": "2023-09-25T13:27:07.072Z"
   },
   {
    "duration": 0,
    "start_time": "2023-09-25T13:27:07.074Z"
   },
   {
    "duration": 0,
    "start_time": "2023-09-25T13:27:07.075Z"
   },
   {
    "duration": 0,
    "start_time": "2023-09-25T13:27:07.076Z"
   },
   {
    "duration": 0,
    "start_time": "2023-09-25T13:27:07.077Z"
   },
   {
    "duration": 0,
    "start_time": "2023-09-25T13:27:07.078Z"
   },
   {
    "duration": 0,
    "start_time": "2023-09-25T13:27:07.079Z"
   },
   {
    "duration": 77,
    "start_time": "2023-09-25T13:28:29.185Z"
   },
   {
    "duration": 62,
    "start_time": "2023-09-25T13:29:24.283Z"
   },
   {
    "duration": 2051,
    "start_time": "2023-09-25T13:56:12.083Z"
   },
   {
    "duration": 1216,
    "start_time": "2023-09-25T13:56:14.136Z"
   },
   {
    "duration": 823,
    "start_time": "2023-09-25T13:56:15.353Z"
   },
   {
    "duration": 73,
    "start_time": "2023-09-25T13:56:16.179Z"
   },
   {
    "duration": 4,
    "start_time": "2023-09-25T13:56:16.254Z"
   },
   {
    "duration": 139,
    "start_time": "2023-09-25T13:56:16.259Z"
   },
   {
    "duration": 272,
    "start_time": "2023-09-25T13:56:16.399Z"
   },
   {
    "duration": 146,
    "start_time": "2023-09-25T13:56:16.673Z"
   },
   {
    "duration": 95,
    "start_time": "2023-09-25T13:56:16.820Z"
   },
   {
    "duration": 414,
    "start_time": "2023-09-25T13:56:16.917Z"
   },
   {
    "duration": 461,
    "start_time": "2023-09-25T13:56:17.333Z"
   },
   {
    "duration": 42,
    "start_time": "2023-09-25T13:56:17.796Z"
   },
   {
    "duration": 98,
    "start_time": "2023-09-25T13:56:17.840Z"
   },
   {
    "duration": 3,
    "start_time": "2023-09-25T13:56:17.940Z"
   },
   {
    "duration": 2123,
    "start_time": "2023-09-25T13:56:17.945Z"
   },
   {
    "duration": 43,
    "start_time": "2023-09-25T13:56:20.070Z"
   },
   {
    "duration": 2223,
    "start_time": "2023-09-25T13:56:20.116Z"
   },
   {
    "duration": 1042,
    "start_time": "2023-09-25T13:56:22.340Z"
   },
   {
    "duration": 342,
    "start_time": "2023-09-25T13:56:23.384Z"
   },
   {
    "duration": 4,
    "start_time": "2023-09-25T13:56:23.727Z"
   },
   {
    "duration": 194,
    "start_time": "2023-09-25T13:56:23.733Z"
   },
   {
    "duration": 9,
    "start_time": "2023-09-25T13:56:23.929Z"
   },
   {
    "duration": 52,
    "start_time": "2023-09-25T13:56:23.940Z"
   },
   {
    "duration": 761,
    "start_time": "2023-09-25T13:56:23.994Z"
   },
   {
    "duration": 349,
    "start_time": "2023-09-25T13:56:24.757Z"
   },
   {
    "duration": 369,
    "start_time": "2023-09-25T13:56:25.108Z"
   },
   {
    "duration": 168,
    "start_time": "2023-09-25T13:56:25.480Z"
   },
   {
    "duration": 305,
    "start_time": "2023-09-25T13:56:25.653Z"
   },
   {
    "duration": 4243,
    "start_time": "2023-09-25T13:56:25.960Z"
   },
   {
    "duration": 42,
    "start_time": "2023-09-25T13:56:30.205Z"
   },
   {
    "duration": 398,
    "start_time": "2023-09-25T13:56:30.249Z"
   },
   {
    "duration": 4,
    "start_time": "2023-09-25T13:56:30.649Z"
   },
   {
    "duration": 73,
    "start_time": "2023-09-25T13:56:30.654Z"
   },
   {
    "duration": 78,
    "start_time": "2023-09-25T13:56:30.728Z"
   },
   {
    "duration": 708,
    "start_time": "2023-09-25T13:56:30.808Z"
   },
   {
    "duration": 50,
    "start_time": "2023-09-25T13:56:31.518Z"
   },
   {
    "duration": 176,
    "start_time": "2023-09-25T13:56:31.570Z"
   },
   {
    "duration": 80273,
    "start_time": "2023-09-25T13:56:31.748Z"
   },
   {
    "duration": 11933,
    "start_time": "2023-09-25T13:57:52.023Z"
   },
   {
    "duration": 13664,
    "start_time": "2023-09-25T13:58:03.958Z"
   },
   {
    "duration": 16733,
    "start_time": "2023-09-25T13:58:17.624Z"
   },
   {
    "duration": 81664,
    "start_time": "2023-09-25T13:58:34.359Z"
   },
   {
    "duration": 2951,
    "start_time": "2023-09-25T13:59:56.114Z"
   },
   {
    "duration": 3953,
    "start_time": "2023-09-25T13:59:59.067Z"
   },
   {
    "duration": 514,
    "start_time": "2023-09-25T14:00:03.021Z"
   },
   {
    "duration": 60,
    "start_time": "2023-09-25T14:00:38.825Z"
   },
   {
    "duration": 76902,
    "start_time": "2023-09-25T14:02:14.416Z"
   },
   {
    "duration": 5556,
    "start_time": "2023-09-25T14:11:59.425Z"
   },
   {
    "duration": 13990,
    "start_time": "2023-09-25T14:13:43.145Z"
   },
   {
    "duration": 17,
    "start_time": "2023-09-25T14:17:56.455Z"
   },
   {
    "duration": 54411,
    "start_time": "2023-09-25T14:19:09.085Z"
   },
   {
    "duration": 42313,
    "start_time": "2023-09-25T14:20:05.919Z"
   },
   {
    "duration": 4581,
    "start_time": "2023-09-25T14:21:16.890Z"
   },
   {
    "duration": 4582,
    "start_time": "2023-09-25T14:21:58.595Z"
   },
   {
    "duration": 30034,
    "start_time": "2023-09-25T14:22:34.554Z"
   },
   {
    "duration": 2417,
    "start_time": "2023-09-25T14:24:41.392Z"
   },
   {
    "duration": 10688,
    "start_time": "2023-09-25T14:25:10.082Z"
   },
   {
    "duration": 10,
    "start_time": "2023-09-25T14:27:00.073Z"
   },
   {
    "duration": 12,
    "start_time": "2023-09-25T14:27:28.890Z"
   },
   {
    "duration": 365,
    "start_time": "2023-09-25T14:27:35.782Z"
   },
   {
    "duration": 12,
    "start_time": "2023-09-25T14:28:19.422Z"
   },
   {
    "duration": 63618,
    "start_time": "2023-09-25T14:30:28.217Z"
   },
   {
    "duration": 71877,
    "start_time": "2023-09-25T14:32:20.011Z"
   },
   {
    "duration": 149,
    "start_time": "2023-09-25T14:37:45.835Z"
   },
   {
    "duration": 124,
    "start_time": "2023-09-25T14:38:17.707Z"
   },
   {
    "duration": 89,
    "start_time": "2023-09-25T14:39:37.250Z"
   },
   {
    "duration": 510,
    "start_time": "2023-09-25T14:40:13.127Z"
   },
   {
    "duration": 38,
    "start_time": "2023-09-25T14:40:14.723Z"
   },
   {
    "duration": 7,
    "start_time": "2023-09-25T14:41:38.562Z"
   },
   {
    "duration": 10992,
    "start_time": "2023-09-25T14:43:42.444Z"
   },
   {
    "duration": 52,
    "start_time": "2023-09-25T14:44:53.223Z"
   },
   {
    "duration": 50,
    "start_time": "2023-09-25T14:44:59.626Z"
   },
   {
    "duration": 528,
    "start_time": "2023-09-25T14:45:01.847Z"
   },
   {
    "duration": 540,
    "start_time": "2023-09-25T14:45:07.106Z"
   },
   {
    "duration": 704,
    "start_time": "2023-09-25T14:45:12.679Z"
   },
   {
    "duration": 37,
    "start_time": "2023-09-25T14:45:14.600Z"
   },
   {
    "duration": 8574,
    "start_time": "2023-09-25T14:45:25.555Z"
   },
   {
    "duration": 18,
    "start_time": "2023-09-25T14:46:46.282Z"
   },
   {
    "duration": 1738,
    "start_time": "2023-09-25T14:47:04.983Z"
   },
   {
    "duration": 11553,
    "start_time": "2023-09-25T14:47:21.958Z"
   },
   {
    "duration": 12006,
    "start_time": "2023-09-25T14:50:19.928Z"
   },
   {
    "duration": 10555,
    "start_time": "2023-09-25T14:50:52.078Z"
   },
   {
    "duration": 51644,
    "start_time": "2023-09-25T14:51:27.873Z"
   },
   {
    "duration": 2366,
    "start_time": "2023-09-25T14:52:43.794Z"
   },
   {
    "duration": 4402,
    "start_time": "2023-09-25T14:53:01.044Z"
   },
   {
    "duration": 280,
    "start_time": "2023-09-25T14:54:08.691Z"
   },
   {
    "duration": 2186,
    "start_time": "2023-09-25T15:00:09.874Z"
   },
   {
    "duration": 1279,
    "start_time": "2023-09-25T15:00:12.065Z"
   },
   {
    "duration": 900,
    "start_time": "2023-09-25T15:00:13.346Z"
   },
   {
    "duration": 72,
    "start_time": "2023-09-25T15:00:14.248Z"
   },
   {
    "duration": 5,
    "start_time": "2023-09-25T15:00:14.323Z"
   },
   {
    "duration": 1276,
    "start_time": "2023-09-25T15:00:14.329Z"
   },
   {
    "duration": 288,
    "start_time": "2023-09-25T15:00:15.607Z"
   },
   {
    "duration": 164,
    "start_time": "2023-09-25T15:00:15.896Z"
   },
   {
    "duration": 122,
    "start_time": "2023-09-25T15:00:16.062Z"
   },
   {
    "duration": 448,
    "start_time": "2023-09-25T15:00:16.186Z"
   },
   {
    "duration": 492,
    "start_time": "2023-09-25T15:00:16.636Z"
   },
   {
    "duration": 38,
    "start_time": "2023-09-25T15:00:17.130Z"
   },
   {
    "duration": 108,
    "start_time": "2023-09-25T15:00:17.170Z"
   },
   {
    "duration": 4,
    "start_time": "2023-09-25T15:00:17.283Z"
   },
   {
    "duration": 2088,
    "start_time": "2023-09-25T15:00:17.289Z"
   },
   {
    "duration": 40,
    "start_time": "2023-09-25T15:00:19.379Z"
   },
   {
    "duration": 2116,
    "start_time": "2023-09-25T15:00:19.421Z"
   },
   {
    "duration": 1030,
    "start_time": "2023-09-25T15:00:21.539Z"
   },
   {
    "duration": 334,
    "start_time": "2023-09-25T15:00:22.571Z"
   },
   {
    "duration": 4,
    "start_time": "2023-09-25T15:00:22.913Z"
   },
   {
    "duration": 252,
    "start_time": "2023-09-25T15:00:22.919Z"
   },
   {
    "duration": 10,
    "start_time": "2023-09-25T15:00:23.173Z"
   },
   {
    "duration": 47,
    "start_time": "2023-09-25T15:00:23.185Z"
   },
   {
    "duration": 818,
    "start_time": "2023-09-25T15:00:23.234Z"
   },
   {
    "duration": 334,
    "start_time": "2023-09-25T15:00:24.054Z"
   },
   {
    "duration": 336,
    "start_time": "2023-09-25T15:00:24.390Z"
   },
   {
    "duration": 150,
    "start_time": "2023-09-25T15:00:24.728Z"
   },
   {
    "duration": 305,
    "start_time": "2023-09-25T15:00:24.880Z"
   },
   {
    "duration": 4159,
    "start_time": "2023-09-25T15:00:25.187Z"
   },
   {
    "duration": 38,
    "start_time": "2023-09-25T15:00:29.347Z"
   },
   {
    "duration": 460,
    "start_time": "2023-09-25T15:00:29.387Z"
   },
   {
    "duration": 4,
    "start_time": "2023-09-25T15:00:29.849Z"
   },
   {
    "duration": 96,
    "start_time": "2023-09-25T15:00:29.854Z"
   },
   {
    "duration": 126,
    "start_time": "2023-09-25T15:00:29.951Z"
   },
   {
    "duration": 677,
    "start_time": "2023-09-25T15:00:30.079Z"
   },
   {
    "duration": 43,
    "start_time": "2023-09-25T15:00:30.757Z"
   },
   {
    "duration": 173,
    "start_time": "2023-09-25T15:00:30.802Z"
   },
   {
    "duration": 11944,
    "start_time": "2023-09-25T15:00:30.977Z"
   },
   {
    "duration": 11063,
    "start_time": "2023-09-25T15:00:42.923Z"
   },
   {
    "duration": 10646,
    "start_time": "2023-09-25T15:00:53.988Z"
   },
   {
    "duration": 10471,
    "start_time": "2023-09-25T15:01:04.638Z"
   },
   {
    "duration": 64903,
    "start_time": "2023-09-25T15:01:15.111Z"
   },
   {
    "duration": 2238,
    "start_time": "2023-09-25T15:02:20.017Z"
   },
   {
    "duration": 3563,
    "start_time": "2023-09-25T15:02:22.257Z"
   },
   {
    "duration": 404,
    "start_time": "2023-09-25T15:02:25.822Z"
   },
   {
    "duration": 59099,
    "start_time": "2023-09-25T15:02:40.818Z"
   },
   {
    "duration": 11537,
    "start_time": "2023-09-25T15:04:03.378Z"
   },
   {
    "duration": 2220,
    "start_time": "2023-09-25T15:04:23.918Z"
   },
   {
    "duration": 3325,
    "start_time": "2023-09-25T15:04:28.488Z"
   },
   {
    "duration": 255,
    "start_time": "2023-09-25T15:04:36.248Z"
   },
   {
    "duration": 2116,
    "start_time": "2023-09-25T15:05:51.519Z"
   },
   {
    "duration": 1370,
    "start_time": "2023-09-25T15:05:53.637Z"
   },
   {
    "duration": 876,
    "start_time": "2023-09-25T15:05:55.008Z"
   },
   {
    "duration": 74,
    "start_time": "2023-09-25T15:05:55.886Z"
   },
   {
    "duration": 4,
    "start_time": "2023-09-25T15:05:55.962Z"
   },
   {
    "duration": 152,
    "start_time": "2023-09-25T15:05:55.967Z"
   },
   {
    "duration": 255,
    "start_time": "2023-09-25T15:05:56.121Z"
   },
   {
    "duration": 145,
    "start_time": "2023-09-25T15:05:56.378Z"
   },
   {
    "duration": 100,
    "start_time": "2023-09-25T15:05:56.525Z"
   },
   {
    "duration": 462,
    "start_time": "2023-09-25T15:05:56.627Z"
   },
   {
    "duration": 458,
    "start_time": "2023-09-25T15:05:57.090Z"
   },
   {
    "duration": 36,
    "start_time": "2023-09-25T15:05:57.550Z"
   },
   {
    "duration": 113,
    "start_time": "2023-09-25T15:05:57.588Z"
   },
   {
    "duration": 4,
    "start_time": "2023-09-25T15:05:57.714Z"
   },
   {
    "duration": 1937,
    "start_time": "2023-09-25T15:05:57.720Z"
   },
   {
    "duration": 32,
    "start_time": "2023-09-25T15:05:59.659Z"
   },
   {
    "duration": 2140,
    "start_time": "2023-09-25T15:05:59.693Z"
   },
   {
    "duration": 1104,
    "start_time": "2023-09-25T15:06:01.835Z"
   },
   {
    "duration": 306,
    "start_time": "2023-09-25T15:06:02.941Z"
   },
   {
    "duration": 4,
    "start_time": "2023-09-25T15:06:03.249Z"
   },
   {
    "duration": 197,
    "start_time": "2023-09-25T15:06:03.255Z"
   },
   {
    "duration": 6,
    "start_time": "2023-09-25T15:06:03.454Z"
   },
   {
    "duration": 179,
    "start_time": "2023-09-25T15:06:03.462Z"
   },
   {
    "duration": 853,
    "start_time": "2023-09-25T15:06:03.643Z"
   },
   {
    "duration": 330,
    "start_time": "2023-09-25T15:06:04.497Z"
   },
   {
    "duration": 346,
    "start_time": "2023-09-25T15:06:04.829Z"
   },
   {
    "duration": 148,
    "start_time": "2023-09-25T15:06:05.177Z"
   },
   {
    "duration": 288,
    "start_time": "2023-09-25T15:06:05.328Z"
   },
   {
    "duration": 3985,
    "start_time": "2023-09-25T15:06:05.618Z"
   },
   {
    "duration": 50,
    "start_time": "2023-09-25T15:06:09.605Z"
   },
   {
    "duration": 470,
    "start_time": "2023-09-25T15:06:09.657Z"
   },
   {
    "duration": 5,
    "start_time": "2023-09-25T15:06:10.129Z"
   },
   {
    "duration": 51,
    "start_time": "2023-09-25T15:06:10.135Z"
   },
   {
    "duration": 132,
    "start_time": "2023-09-25T15:06:10.188Z"
   },
   {
    "duration": 661,
    "start_time": "2023-09-25T15:06:10.322Z"
   },
   {
    "duration": 55,
    "start_time": "2023-09-25T15:06:10.985Z"
   },
   {
    "duration": 101,
    "start_time": "2023-09-25T15:06:11.042Z"
   },
   {
    "duration": 11674,
    "start_time": "2023-09-25T15:06:11.144Z"
   },
   {
    "duration": 10229,
    "start_time": "2023-09-25T15:06:22.823Z"
   },
   {
    "duration": 10272,
    "start_time": "2023-09-25T15:06:33.054Z"
   },
   {
    "duration": 10118,
    "start_time": "2023-09-25T15:06:43.328Z"
   },
   {
    "duration": 11278,
    "start_time": "2023-09-25T15:06:53.448Z"
   },
   {
    "duration": 2358,
    "start_time": "2023-09-25T15:07:04.729Z"
   },
   {
    "duration": 2935,
    "start_time": "2023-09-25T15:07:07.089Z"
   },
   {
    "duration": 296,
    "start_time": "2023-09-25T15:07:10.026Z"
   }
  ],
  "kernelspec": {
   "display_name": "Python 3 (ipykernel)",
   "language": "python",
   "name": "python3"
  },
  "language_info": {
   "codemirror_mode": {
    "name": "ipython",
    "version": 3
   },
   "file_extension": ".py",
   "mimetype": "text/x-python",
   "name": "python",
   "nbconvert_exporter": "python",
   "pygments_lexer": "ipython3",
   "version": "3.10.9"
  },
  "toc": {
   "base_numbering": 1,
   "nav_menu": {},
   "number_sections": true,
   "sideBar": true,
   "skip_h1_title": true,
   "title_cell": "Table of Contents",
   "title_sidebar": "Contents",
   "toc_cell": false,
   "toc_position": {},
   "toc_section_display": true,
   "toc_window_display": false
  }
 },
 "nbformat": 4,
 "nbformat_minor": 2
}
