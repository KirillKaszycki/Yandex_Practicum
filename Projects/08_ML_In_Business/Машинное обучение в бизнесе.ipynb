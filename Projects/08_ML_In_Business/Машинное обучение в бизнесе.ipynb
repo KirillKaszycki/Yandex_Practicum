{
 "cells": [
  {
   "cell_type": "markdown",
   "metadata": {},
   "source": [
    "# Выбор локации для скважины"
   ]
  },
  {
   "cell_type": "markdown",
   "metadata": {},
   "source": [
    "### Допустим, вы работаете в добывающей компании «ГлавРосГосНефть». Нужно решить, где бурить новую скважину.\n",
    "\n",
    "Вам предоставлены пробы нефти в трёх регионах: в каждом 10 000 месторождений, где измерили качество нефти и объём её запасов. Постройте модель машинного обучения, которая поможет определить регион, где добыча принесёт наибольшую прибыль. Проанализируйте возможную прибыль и риски техникой *Bootstrap.*\n",
    "\n",
    "Шаги для выбора локации:\n",
    "\n",
    "- В избранном регионе ищут месторождения, для каждого определяют значения признаков;\n",
    "- Строят модель и оценивают объём запасов;\n",
    "- Выбирают месторождения с самым высокими оценками значений. Количество месторождений зависит от бюджета компании и стоимости разработки одной скважины;\n",
    "- Прибыль равна суммарной прибыли отобранных месторождений."
   ]
  },
  {
   "cell_type": "markdown",
   "metadata": {},
   "source": [
    "**ТЗ**\n",
    "\n",
    "- Для обучения модели подходит только линейная регрессия (остальные — недостаточно предсказуемые).\n",
    "- При разведке региона исследуют 500 точек, из которых с помощью машинного обучения выбирают 200 лучших для разработки.\n",
    "- Бюджет на разработку скважин в регионе — 10 млрд рублей.\n",
    "- При нынешних ценах один баррель сырья приносит 450 рублей дохода. Доход с каждой единицы продукта составляет 450 тыс. рублей, поскольку объём указан в тысячах баррелей.\n",
    "- После оценки рисков нужно оставить лишь те регионы, в которых вероятность убытков меньше 2.5%. Среди них выбирают регион с наибольшей средней прибылью.\n",
    "- Данные синтетические: детали контрактов и характеристики месторождений не разглашаются.\n",
    "\n"
   ]
  },
  {
   "cell_type": "markdown",
   "metadata": {},
   "source": [
    "## Загрузка и подготовка данных"
   ]
  },
  {
   "cell_type": "code",
   "execution_count": 1,
   "metadata": {},
   "outputs": [],
   "source": [
    "import pandas as pd\n",
    "import numpy as np\n",
    "from scipy import stats as st\n",
    "import math\n",
    "import warnings\n",
    "warnings.simplefilter('ignore')\n",
    "\n",
    "import matplotlib.pyplot as plt\n",
    "import seaborn as sns\n",
    "sns.set_style('whitegrid')\n",
    "# import shap\n",
    "\n",
    "from sklearn.model_selection import train_test_split, cross_val_score\n",
    "from sklearn.linear_model import LinearRegression\n",
    "from sklearn.metrics import mean_squared_error\n",
    "from sklearn.preprocessing import OneHotEncoder, StandardScaler"
   ]
  },
  {
   "cell_type": "code",
   "execution_count": 2,
   "metadata": {},
   "outputs": [],
   "source": [
    "df_geo_0 = pd.read_csv('/datasets/geo_data_0.csv', encoding='utf-8')\n",
    "df_geo_1 = pd.read_csv('/datasets/geo_data_1.csv', encoding='utf-8')\n",
    "df_geo_2 = pd.read_csv('/datasets/geo_data_2.csv', encoding='utf-8')"
   ]
  },
  {
   "cell_type": "code",
   "execution_count": 3,
   "metadata": {},
   "outputs": [
    {
     "data": {
      "text/html": [
       "<div>\n",
       "<style scoped>\n",
       "    .dataframe tbody tr th:only-of-type {\n",
       "        vertical-align: middle;\n",
       "    }\n",
       "\n",
       "    .dataframe tbody tr th {\n",
       "        vertical-align: top;\n",
       "    }\n",
       "\n",
       "    .dataframe thead th {\n",
       "        text-align: right;\n",
       "    }\n",
       "</style>\n",
       "<table border=\"1\" class=\"dataframe\">\n",
       "  <thead>\n",
       "    <tr style=\"text-align: right;\">\n",
       "      <th></th>\n",
       "      <th>id</th>\n",
       "      <th>f0</th>\n",
       "      <th>f1</th>\n",
       "      <th>f2</th>\n",
       "      <th>product</th>\n",
       "    </tr>\n",
       "  </thead>\n",
       "  <tbody>\n",
       "    <tr>\n",
       "      <th>0</th>\n",
       "      <td>txEyH</td>\n",
       "      <td>0.705745</td>\n",
       "      <td>-0.497823</td>\n",
       "      <td>1.221170</td>\n",
       "      <td>105.280062</td>\n",
       "    </tr>\n",
       "    <tr>\n",
       "      <th>1</th>\n",
       "      <td>2acmU</td>\n",
       "      <td>1.334711</td>\n",
       "      <td>-0.340164</td>\n",
       "      <td>4.365080</td>\n",
       "      <td>73.037750</td>\n",
       "    </tr>\n",
       "    <tr>\n",
       "      <th>2</th>\n",
       "      <td>409Wp</td>\n",
       "      <td>1.022732</td>\n",
       "      <td>0.151990</td>\n",
       "      <td>1.419926</td>\n",
       "      <td>85.265647</td>\n",
       "    </tr>\n",
       "    <tr>\n",
       "      <th>3</th>\n",
       "      <td>iJLyR</td>\n",
       "      <td>-0.032172</td>\n",
       "      <td>0.139033</td>\n",
       "      <td>2.978566</td>\n",
       "      <td>168.620776</td>\n",
       "    </tr>\n",
       "    <tr>\n",
       "      <th>4</th>\n",
       "      <td>Xdl7t</td>\n",
       "      <td>1.988431</td>\n",
       "      <td>0.155413</td>\n",
       "      <td>4.751769</td>\n",
       "      <td>154.036647</td>\n",
       "    </tr>\n",
       "  </tbody>\n",
       "</table>\n",
       "</div>"
      ],
      "text/plain": [
       "      id        f0        f1        f2     product\n",
       "0  txEyH  0.705745 -0.497823  1.221170  105.280062\n",
       "1  2acmU  1.334711 -0.340164  4.365080   73.037750\n",
       "2  409Wp  1.022732  0.151990  1.419926   85.265647\n",
       "3  iJLyR -0.032172  0.139033  2.978566  168.620776\n",
       "4  Xdl7t  1.988431  0.155413  4.751769  154.036647"
      ]
     },
     "execution_count": 3,
     "metadata": {},
     "output_type": "execute_result"
    }
   ],
   "source": [
    "df_geo_0.head()"
   ]
  },
  {
   "cell_type": "code",
   "execution_count": 4,
   "metadata": {},
   "outputs": [
    {
     "data": {
      "text/html": [
       "<div>\n",
       "<style scoped>\n",
       "    .dataframe tbody tr th:only-of-type {\n",
       "        vertical-align: middle;\n",
       "    }\n",
       "\n",
       "    .dataframe tbody tr th {\n",
       "        vertical-align: top;\n",
       "    }\n",
       "\n",
       "    .dataframe thead th {\n",
       "        text-align: right;\n",
       "    }\n",
       "</style>\n",
       "<table border=\"1\" class=\"dataframe\">\n",
       "  <thead>\n",
       "    <tr style=\"text-align: right;\">\n",
       "      <th></th>\n",
       "      <th>id</th>\n",
       "      <th>f0</th>\n",
       "      <th>f1</th>\n",
       "      <th>f2</th>\n",
       "      <th>product</th>\n",
       "    </tr>\n",
       "  </thead>\n",
       "  <tbody>\n",
       "    <tr>\n",
       "      <th>0</th>\n",
       "      <td>kBEdx</td>\n",
       "      <td>-15.001348</td>\n",
       "      <td>-8.276000</td>\n",
       "      <td>-0.005876</td>\n",
       "      <td>3.179103</td>\n",
       "    </tr>\n",
       "    <tr>\n",
       "      <th>1</th>\n",
       "      <td>62mP7</td>\n",
       "      <td>14.272088</td>\n",
       "      <td>-3.475083</td>\n",
       "      <td>0.999183</td>\n",
       "      <td>26.953261</td>\n",
       "    </tr>\n",
       "    <tr>\n",
       "      <th>2</th>\n",
       "      <td>vyE1P</td>\n",
       "      <td>6.263187</td>\n",
       "      <td>-5.948386</td>\n",
       "      <td>5.001160</td>\n",
       "      <td>134.766305</td>\n",
       "    </tr>\n",
       "    <tr>\n",
       "      <th>3</th>\n",
       "      <td>KcrkZ</td>\n",
       "      <td>-13.081196</td>\n",
       "      <td>-11.506057</td>\n",
       "      <td>4.999415</td>\n",
       "      <td>137.945408</td>\n",
       "    </tr>\n",
       "    <tr>\n",
       "      <th>4</th>\n",
       "      <td>AHL4O</td>\n",
       "      <td>12.702195</td>\n",
       "      <td>-8.147433</td>\n",
       "      <td>5.004363</td>\n",
       "      <td>134.766305</td>\n",
       "    </tr>\n",
       "  </tbody>\n",
       "</table>\n",
       "</div>"
      ],
      "text/plain": [
       "      id         f0         f1        f2     product\n",
       "0  kBEdx -15.001348  -8.276000 -0.005876    3.179103\n",
       "1  62mP7  14.272088  -3.475083  0.999183   26.953261\n",
       "2  vyE1P   6.263187  -5.948386  5.001160  134.766305\n",
       "3  KcrkZ -13.081196 -11.506057  4.999415  137.945408\n",
       "4  AHL4O  12.702195  -8.147433  5.004363  134.766305"
      ]
     },
     "execution_count": 4,
     "metadata": {},
     "output_type": "execute_result"
    }
   ],
   "source": [
    "df_geo_1.head()"
   ]
  },
  {
   "cell_type": "code",
   "execution_count": 5,
   "metadata": {},
   "outputs": [
    {
     "data": {
      "text/html": [
       "<div>\n",
       "<style scoped>\n",
       "    .dataframe tbody tr th:only-of-type {\n",
       "        vertical-align: middle;\n",
       "    }\n",
       "\n",
       "    .dataframe tbody tr th {\n",
       "        vertical-align: top;\n",
       "    }\n",
       "\n",
       "    .dataframe thead th {\n",
       "        text-align: right;\n",
       "    }\n",
       "</style>\n",
       "<table border=\"1\" class=\"dataframe\">\n",
       "  <thead>\n",
       "    <tr style=\"text-align: right;\">\n",
       "      <th></th>\n",
       "      <th>id</th>\n",
       "      <th>f0</th>\n",
       "      <th>f1</th>\n",
       "      <th>f2</th>\n",
       "      <th>product</th>\n",
       "    </tr>\n",
       "  </thead>\n",
       "  <tbody>\n",
       "    <tr>\n",
       "      <th>0</th>\n",
       "      <td>fwXo0</td>\n",
       "      <td>-1.146987</td>\n",
       "      <td>0.963328</td>\n",
       "      <td>-0.828965</td>\n",
       "      <td>27.758673</td>\n",
       "    </tr>\n",
       "    <tr>\n",
       "      <th>1</th>\n",
       "      <td>WJtFt</td>\n",
       "      <td>0.262778</td>\n",
       "      <td>0.269839</td>\n",
       "      <td>-2.530187</td>\n",
       "      <td>56.069697</td>\n",
       "    </tr>\n",
       "    <tr>\n",
       "      <th>2</th>\n",
       "      <td>ovLUW</td>\n",
       "      <td>0.194587</td>\n",
       "      <td>0.289035</td>\n",
       "      <td>-5.586433</td>\n",
       "      <td>62.871910</td>\n",
       "    </tr>\n",
       "    <tr>\n",
       "      <th>3</th>\n",
       "      <td>q6cA6</td>\n",
       "      <td>2.236060</td>\n",
       "      <td>-0.553760</td>\n",
       "      <td>0.930038</td>\n",
       "      <td>114.572842</td>\n",
       "    </tr>\n",
       "    <tr>\n",
       "      <th>4</th>\n",
       "      <td>WPMUX</td>\n",
       "      <td>-0.515993</td>\n",
       "      <td>1.716266</td>\n",
       "      <td>5.899011</td>\n",
       "      <td>149.600746</td>\n",
       "    </tr>\n",
       "  </tbody>\n",
       "</table>\n",
       "</div>"
      ],
      "text/plain": [
       "      id        f0        f1        f2     product\n",
       "0  fwXo0 -1.146987  0.963328 -0.828965   27.758673\n",
       "1  WJtFt  0.262778  0.269839 -2.530187   56.069697\n",
       "2  ovLUW  0.194587  0.289035 -5.586433   62.871910\n",
       "3  q6cA6  2.236060 -0.553760  0.930038  114.572842\n",
       "4  WPMUX -0.515993  1.716266  5.899011  149.600746"
      ]
     },
     "execution_count": 5,
     "metadata": {},
     "output_type": "execute_result"
    }
   ],
   "source": [
    "df_geo_2.head()"
   ]
  },
  {
   "cell_type": "markdown",
   "metadata": {},
   "source": [
    "**Предобработка**\n",
    "\n",
    "Посмотрим пропуски в данных, а также, статистические показатели"
   ]
  },
  {
   "cell_type": "code",
   "execution_count": 6,
   "metadata": {},
   "outputs": [
    {
     "name": "stdout",
     "output_type": "stream",
     "text": [
      "id         0\n",
      "f0         0\n",
      "f1         0\n",
      "f2         0\n",
      "product    0\n",
      "dtype: int64\n",
      "\n",
      "<class 'pandas.core.frame.DataFrame'>\n",
      "RangeIndex: 100000 entries, 0 to 99999\n",
      "Data columns (total 5 columns):\n",
      " #   Column   Non-Null Count   Dtype  \n",
      "---  ------   --------------   -----  \n",
      " 0   id       100000 non-null  object \n",
      " 1   f0       100000 non-null  float64\n",
      " 2   f1       100000 non-null  float64\n",
      " 3   f2       100000 non-null  float64\n",
      " 4   product  100000 non-null  float64\n",
      "dtypes: float64(4), object(1)\n",
      "memory usage: 3.8+ MB\n",
      "None\n"
     ]
    }
   ],
   "source": [
    "print(df_geo_0.isna().sum())\n",
    "print()\n",
    "print(df_geo_0.info())"
   ]
  },
  {
   "cell_type": "code",
   "execution_count": 7,
   "metadata": {},
   "outputs": [
    {
     "name": "stdout",
     "output_type": "stream",
     "text": [
      "id         0\n",
      "f0         0\n",
      "f1         0\n",
      "f2         0\n",
      "product    0\n",
      "dtype: int64\n",
      "\n",
      "<class 'pandas.core.frame.DataFrame'>\n",
      "RangeIndex: 100000 entries, 0 to 99999\n",
      "Data columns (total 5 columns):\n",
      " #   Column   Non-Null Count   Dtype  \n",
      "---  ------   --------------   -----  \n",
      " 0   id       100000 non-null  object \n",
      " 1   f0       100000 non-null  float64\n",
      " 2   f1       100000 non-null  float64\n",
      " 3   f2       100000 non-null  float64\n",
      " 4   product  100000 non-null  float64\n",
      "dtypes: float64(4), object(1)\n",
      "memory usage: 3.8+ MB\n",
      "None\n"
     ]
    }
   ],
   "source": [
    "print(df_geo_1.isna().sum())\n",
    "print()\n",
    "print(df_geo_1.info())"
   ]
  },
  {
   "cell_type": "code",
   "execution_count": 8,
   "metadata": {},
   "outputs": [
    {
     "name": "stdout",
     "output_type": "stream",
     "text": [
      "id         0\n",
      "f0         0\n",
      "f1         0\n",
      "f2         0\n",
      "product    0\n",
      "dtype: int64\n",
      "\n",
      "<class 'pandas.core.frame.DataFrame'>\n",
      "RangeIndex: 100000 entries, 0 to 99999\n",
      "Data columns (total 5 columns):\n",
      " #   Column   Non-Null Count   Dtype  \n",
      "---  ------   --------------   -----  \n",
      " 0   id       100000 non-null  object \n",
      " 1   f0       100000 non-null  float64\n",
      " 2   f1       100000 non-null  float64\n",
      " 3   f2       100000 non-null  float64\n",
      " 4   product  100000 non-null  float64\n",
      "dtypes: float64(4), object(1)\n",
      "memory usage: 3.8+ MB\n",
      "None\n"
     ]
    }
   ],
   "source": [
    "print(df_geo_2.isna().sum())\n",
    "print()\n",
    "print(df_geo_2.info())"
   ]
  },
  {
   "cell_type": "markdown",
   "metadata": {},
   "source": [
    "В данных нет пропусков, менять тип тоже не нужно"
   ]
  },
  {
   "cell_type": "code",
   "execution_count": 9,
   "metadata": {},
   "outputs": [
    {
     "data": {
      "text/html": [
       "<div>\n",
       "<style scoped>\n",
       "    .dataframe tbody tr th:only-of-type {\n",
       "        vertical-align: middle;\n",
       "    }\n",
       "\n",
       "    .dataframe tbody tr th {\n",
       "        vertical-align: top;\n",
       "    }\n",
       "\n",
       "    .dataframe thead th {\n",
       "        text-align: right;\n",
       "    }\n",
       "</style>\n",
       "<table border=\"1\" class=\"dataframe\">\n",
       "  <thead>\n",
       "    <tr style=\"text-align: right;\">\n",
       "      <th></th>\n",
       "      <th>count</th>\n",
       "      <th>mean</th>\n",
       "      <th>std</th>\n",
       "      <th>min</th>\n",
       "      <th>25%</th>\n",
       "      <th>50%</th>\n",
       "      <th>75%</th>\n",
       "      <th>max</th>\n",
       "    </tr>\n",
       "  </thead>\n",
       "  <tbody>\n",
       "    <tr>\n",
       "      <th>f0</th>\n",
       "      <td>100000.0</td>\n",
       "      <td>0.500419</td>\n",
       "      <td>0.871832</td>\n",
       "      <td>-1.408605</td>\n",
       "      <td>-0.072580</td>\n",
       "      <td>0.502360</td>\n",
       "      <td>1.073581</td>\n",
       "      <td>2.362331</td>\n",
       "    </tr>\n",
       "    <tr>\n",
       "      <th>f1</th>\n",
       "      <td>100000.0</td>\n",
       "      <td>0.250143</td>\n",
       "      <td>0.504433</td>\n",
       "      <td>-0.848218</td>\n",
       "      <td>-0.200881</td>\n",
       "      <td>0.250252</td>\n",
       "      <td>0.700646</td>\n",
       "      <td>1.343769</td>\n",
       "    </tr>\n",
       "    <tr>\n",
       "      <th>f2</th>\n",
       "      <td>100000.0</td>\n",
       "      <td>2.502647</td>\n",
       "      <td>3.248248</td>\n",
       "      <td>-12.088328</td>\n",
       "      <td>0.287748</td>\n",
       "      <td>2.515969</td>\n",
       "      <td>4.715088</td>\n",
       "      <td>16.003790</td>\n",
       "    </tr>\n",
       "    <tr>\n",
       "      <th>product</th>\n",
       "      <td>100000.0</td>\n",
       "      <td>92.500000</td>\n",
       "      <td>44.288691</td>\n",
       "      <td>0.000000</td>\n",
       "      <td>56.497507</td>\n",
       "      <td>91.849972</td>\n",
       "      <td>128.564089</td>\n",
       "      <td>185.364347</td>\n",
       "    </tr>\n",
       "  </tbody>\n",
       "</table>\n",
       "</div>"
      ],
      "text/plain": [
       "            count       mean        std        min        25%        50%  \\\n",
       "f0       100000.0   0.500419   0.871832  -1.408605  -0.072580   0.502360   \n",
       "f1       100000.0   0.250143   0.504433  -0.848218  -0.200881   0.250252   \n",
       "f2       100000.0   2.502647   3.248248 -12.088328   0.287748   2.515969   \n",
       "product  100000.0  92.500000  44.288691   0.000000  56.497507  91.849972   \n",
       "\n",
       "                75%         max  \n",
       "f0         1.073581    2.362331  \n",
       "f1         0.700646    1.343769  \n",
       "f2         4.715088   16.003790  \n",
       "product  128.564089  185.364347  "
      ]
     },
     "execution_count": 9,
     "metadata": {},
     "output_type": "execute_result"
    }
   ],
   "source": [
    "df_geo_0.describe().T"
   ]
  },
  {
   "cell_type": "code",
   "execution_count": 10,
   "metadata": {},
   "outputs": [
    {
     "data": {
      "text/html": [
       "<div>\n",
       "<style scoped>\n",
       "    .dataframe tbody tr th:only-of-type {\n",
       "        vertical-align: middle;\n",
       "    }\n",
       "\n",
       "    .dataframe tbody tr th {\n",
       "        vertical-align: top;\n",
       "    }\n",
       "\n",
       "    .dataframe thead th {\n",
       "        text-align: right;\n",
       "    }\n",
       "</style>\n",
       "<table border=\"1\" class=\"dataframe\">\n",
       "  <thead>\n",
       "    <tr style=\"text-align: right;\">\n",
       "      <th></th>\n",
       "      <th>count</th>\n",
       "      <th>mean</th>\n",
       "      <th>std</th>\n",
       "      <th>min</th>\n",
       "      <th>25%</th>\n",
       "      <th>50%</th>\n",
       "      <th>75%</th>\n",
       "      <th>max</th>\n",
       "    </tr>\n",
       "  </thead>\n",
       "  <tbody>\n",
       "    <tr>\n",
       "      <th>f0</th>\n",
       "      <td>100000.0</td>\n",
       "      <td>1.141296</td>\n",
       "      <td>8.965932</td>\n",
       "      <td>-31.609576</td>\n",
       "      <td>-6.298551</td>\n",
       "      <td>1.153055</td>\n",
       "      <td>8.621015</td>\n",
       "      <td>29.421755</td>\n",
       "    </tr>\n",
       "    <tr>\n",
       "      <th>f1</th>\n",
       "      <td>100000.0</td>\n",
       "      <td>-4.796579</td>\n",
       "      <td>5.119872</td>\n",
       "      <td>-26.358598</td>\n",
       "      <td>-8.267985</td>\n",
       "      <td>-4.813172</td>\n",
       "      <td>-1.332816</td>\n",
       "      <td>18.734063</td>\n",
       "    </tr>\n",
       "    <tr>\n",
       "      <th>f2</th>\n",
       "      <td>100000.0</td>\n",
       "      <td>2.494541</td>\n",
       "      <td>1.703572</td>\n",
       "      <td>-0.018144</td>\n",
       "      <td>1.000021</td>\n",
       "      <td>2.011479</td>\n",
       "      <td>3.999904</td>\n",
       "      <td>5.019721</td>\n",
       "    </tr>\n",
       "    <tr>\n",
       "      <th>product</th>\n",
       "      <td>100000.0</td>\n",
       "      <td>68.825000</td>\n",
       "      <td>45.944423</td>\n",
       "      <td>0.000000</td>\n",
       "      <td>26.953261</td>\n",
       "      <td>57.085625</td>\n",
       "      <td>107.813044</td>\n",
       "      <td>137.945408</td>\n",
       "    </tr>\n",
       "  </tbody>\n",
       "</table>\n",
       "</div>"
      ],
      "text/plain": [
       "            count       mean        std        min        25%        50%  \\\n",
       "f0       100000.0   1.141296   8.965932 -31.609576  -6.298551   1.153055   \n",
       "f1       100000.0  -4.796579   5.119872 -26.358598  -8.267985  -4.813172   \n",
       "f2       100000.0   2.494541   1.703572  -0.018144   1.000021   2.011479   \n",
       "product  100000.0  68.825000  45.944423   0.000000  26.953261  57.085625   \n",
       "\n",
       "                75%         max  \n",
       "f0         8.621015   29.421755  \n",
       "f1        -1.332816   18.734063  \n",
       "f2         3.999904    5.019721  \n",
       "product  107.813044  137.945408  "
      ]
     },
     "execution_count": 10,
     "metadata": {},
     "output_type": "execute_result"
    }
   ],
   "source": [
    "df_geo_1.describe().T"
   ]
  },
  {
   "cell_type": "code",
   "execution_count": 11,
   "metadata": {},
   "outputs": [
    {
     "data": {
      "text/html": [
       "<div>\n",
       "<style scoped>\n",
       "    .dataframe tbody tr th:only-of-type {\n",
       "        vertical-align: middle;\n",
       "    }\n",
       "\n",
       "    .dataframe tbody tr th {\n",
       "        vertical-align: top;\n",
       "    }\n",
       "\n",
       "    .dataframe thead th {\n",
       "        text-align: right;\n",
       "    }\n",
       "</style>\n",
       "<table border=\"1\" class=\"dataframe\">\n",
       "  <thead>\n",
       "    <tr style=\"text-align: right;\">\n",
       "      <th></th>\n",
       "      <th>count</th>\n",
       "      <th>mean</th>\n",
       "      <th>std</th>\n",
       "      <th>min</th>\n",
       "      <th>25%</th>\n",
       "      <th>50%</th>\n",
       "      <th>75%</th>\n",
       "      <th>max</th>\n",
       "    </tr>\n",
       "  </thead>\n",
       "  <tbody>\n",
       "    <tr>\n",
       "      <th>f0</th>\n",
       "      <td>100000.0</td>\n",
       "      <td>0.002023</td>\n",
       "      <td>1.732045</td>\n",
       "      <td>-8.760004</td>\n",
       "      <td>-1.162288</td>\n",
       "      <td>0.009424</td>\n",
       "      <td>1.158535</td>\n",
       "      <td>7.238262</td>\n",
       "    </tr>\n",
       "    <tr>\n",
       "      <th>f1</th>\n",
       "      <td>100000.0</td>\n",
       "      <td>-0.002081</td>\n",
       "      <td>1.730417</td>\n",
       "      <td>-7.084020</td>\n",
       "      <td>-1.174820</td>\n",
       "      <td>-0.009482</td>\n",
       "      <td>1.163678</td>\n",
       "      <td>7.844801</td>\n",
       "    </tr>\n",
       "    <tr>\n",
       "      <th>f2</th>\n",
       "      <td>100000.0</td>\n",
       "      <td>2.495128</td>\n",
       "      <td>3.473445</td>\n",
       "      <td>-11.970335</td>\n",
       "      <td>0.130359</td>\n",
       "      <td>2.484236</td>\n",
       "      <td>4.858794</td>\n",
       "      <td>16.739402</td>\n",
       "    </tr>\n",
       "    <tr>\n",
       "      <th>product</th>\n",
       "      <td>100000.0</td>\n",
       "      <td>95.000000</td>\n",
       "      <td>44.749921</td>\n",
       "      <td>0.000000</td>\n",
       "      <td>59.450441</td>\n",
       "      <td>94.925613</td>\n",
       "      <td>130.595027</td>\n",
       "      <td>190.029838</td>\n",
       "    </tr>\n",
       "  </tbody>\n",
       "</table>\n",
       "</div>"
      ],
      "text/plain": [
       "            count       mean        std        min        25%        50%  \\\n",
       "f0       100000.0   0.002023   1.732045  -8.760004  -1.162288   0.009424   \n",
       "f1       100000.0  -0.002081   1.730417  -7.084020  -1.174820  -0.009482   \n",
       "f2       100000.0   2.495128   3.473445 -11.970335   0.130359   2.484236   \n",
       "product  100000.0  95.000000  44.749921   0.000000  59.450441  94.925613   \n",
       "\n",
       "                75%         max  \n",
       "f0         1.158535    7.238262  \n",
       "f1         1.163678    7.844801  \n",
       "f2         4.858794   16.739402  \n",
       "product  130.595027  190.029838  "
      ]
     },
     "execution_count": 11,
     "metadata": {},
     "output_type": "execute_result"
    }
   ],
   "source": [
    "df_geo_2.describe().T"
   ]
  },
  {
   "cell_type": "code",
   "execution_count": 12,
   "metadata": {},
   "outputs": [
    {
     "name": "stdout",
     "output_type": "stream",
     "text": [
      "размер датасета 0: (100000, 5)\n",
      "размер датасета 1: (100000, 5)\n",
      "размер датасета 2: (100000, 5)\n"
     ]
    }
   ],
   "source": [
    "print(f'размер датасета 0: {df_geo_0.shape}\\n'\n",
    "      f'размер датасета 1: {df_geo_1.shape}\\n'\n",
    "      f'размер датасета 2: {df_geo_2.shape}')"
   ]
  },
  {
   "cell_type": "markdown",
   "metadata": {},
   "source": [
    "**EDA**\n",
    "\n",
    "Проведём базовый EDA для понимания, как данные вообще распределены и как они коррелируются между собой"
   ]
  },
  {
   "cell_type": "code",
   "execution_count": 13,
   "metadata": {},
   "outputs": [
    {
     "data": {
      "image/png": "[encoded data removed]",
      "text/plain": [
       "<Figure size 720x360 with 1 Axes>"
      ]
     },
     "metadata": {},
     "output_type": "display_data"
    },
    {
     "data": {
      "image/png": "[encoded data removed]",
      "text/plain": [
       "<Figure size 720x360 with 1 Axes>"
      ]
     },
     "metadata": {},
     "output_type": "display_data"
    }
   ],
   "source": [
    "plt.figure(figsize=(10, 5))\n",
    "sns.histplot(df_geo_0[['f0', 'f1', 'f2']], kde=True)\n",
    "plt.title('Распределение признаков участка df_geo_0')\n",
    "plt.xlabel('Размах')\n",
    "plt.ylabel('Количество')\n",
    "plt.show()\n",
    "\n",
    "plt.figure(figsize=(10, 5))\n",
    "sns.boxplot(data=df_geo_0[['f0', 'f1', 'f2']])\n",
    "plt.title('Диаграмма размаха участка df_geo_0')\n",
    "plt.xlabel('Размах')\n",
    "plt.ylabel('Количество')\n",
    "plt.show()"
   ]
  },
  {
   "cell_type": "markdown",
   "metadata": {},
   "source": [
    "**Участок 0**\n",
    "\n",
    "Признак 1 наиболее частотный, при этом, имеет минимальный размах. Признак 2, наоборот, имеет меньшую частотность, но больший размах. Признаки 0 и 1 распределены не нормально."
   ]
  },
  {
   "cell_type": "code",
   "execution_count": 14,
   "metadata": {},
   "outputs": [
    {
     "data": {
      "image/png": "[encoded data removed]",
      "text/plain": [
       "<Figure size 720x360 with 1 Axes>"
      ]
     },
     "metadata": {},
     "output_type": "display_data"
    },
    {
     "data": {
      "image/png": "[encoded data removed]",
      "text/plain": [
       "<Figure size 720x360 with 1 Axes>"
      ]
     },
     "metadata": {},
     "output_type": "display_data"
    }
   ],
   "source": [
    "plt.figure(figsize=(10, 5))\n",
    "sns.histplot(df_geo_1[['f0', 'f1', 'f2']], kde=True)\n",
    "plt.title('Распределение признаков участка df_geo_1')\n",
    "plt.xlabel('Размах')\n",
    "plt.ylabel('Количество')\n",
    "plt.show()\n",
    "\n",
    "plt.figure(figsize=(10, 5))\n",
    "sns.boxplot(data=df_geo_1[['f0', 'f1', 'f2']])\n",
    "plt.title('Диаграмма размаха участка df_geo_1')\n",
    "plt.xlabel('Размах')\n",
    "plt.ylabel('Количество')\n",
    "plt.show()"
   ]
  },
  {
   "cell_type": "markdown",
   "metadata": {},
   "source": [
    "**Участок 1**\n",
    "\n",
    "Данные признака 1 распределены нормально, однако показатель его низок. У признака 2 показатель намного выше, однако на графике наблюдается сильная волатильность."
   ]
  },
  {
   "cell_type": "code",
   "execution_count": 15,
   "metadata": {},
   "outputs": [
    {
     "data": {
      "image/png": "[encoded data removed]",
      "text/plain": [
       "<Figure size 720x360 with 1 Axes>"
      ]
     },
     "metadata": {},
     "output_type": "display_data"
    },
    {
     "data": {
      "image/png": "[encoded data removed]",
      "text/plain": [
       "<Figure size 720x360 with 1 Axes>"
      ]
     },
     "metadata": {},
     "output_type": "display_data"
    }
   ],
   "source": [
    "plt.figure(figsize=(10, 5))\n",
    "sns.histplot(df_geo_2[['f0', 'f1', 'f2']], kde=True)\n",
    "plt.title('Распределение признаков участка df_geo_2')\n",
    "plt.xlabel('Размах')\n",
    "plt.ylabel('Количество')\n",
    "plt.show()\n",
    "\n",
    "plt.figure(figsize=(10, 5))\n",
    "sns.boxplot(data=df_geo_2[['f0', 'f1', 'f2']])\n",
    "plt.title('Диаграмма размаха участка df_geo_2')\n",
    "plt.xlabel('Размах')\n",
    "plt.ylabel('Количество')\n",
    "plt.show()"
   ]
  },
  {
   "cell_type": "markdown",
   "metadata": {},
   "source": [
    "**Участок 2**\n",
    "\n",
    "Все данные распределены нормально. Признак 0 и признак 1 имеют, почти, одинаковое распределение. Среднее у них ниже, чем у признака 2, однако последний имеет больший размах"
   ]
  },
  {
   "cell_type": "code",
   "execution_count": 16,
   "metadata": {},
   "outputs": [
    {
     "data": {
      "image/png": "[encoded data removed]",
      "text/plain": [
       "<Figure size 432x288 with 2 Axes>"
      ]
     },
     "metadata": {},
     "output_type": "display_data"
    }
   ],
   "source": [
    "corr_matrix_0 = df_geo_0[['f0', 'f1', 'f2', 'product']].corr()\n",
    "sns.heatmap(corr_matrix_0, cmap='coolwarm', annot=True)\n",
    "plt.title('Корреляция признаков на локации 0')\n",
    "plt.show()"
   ]
  },
  {
   "cell_type": "markdown",
   "metadata": {},
   "source": [
    "**Участок 0**\n",
    "\n",
    "Признаки 0 и 1 слабо коррелируются с запасами нефти. Признак 2 имеет среднюю корреляцию"
   ]
  },
  {
   "cell_type": "code",
   "execution_count": 17,
   "metadata": {},
   "outputs": [
    {
     "data": {
      "image/png": "[encoded data removed]",
      "text/plain": [
       "<Figure size 432x288 with 2 Axes>"
      ]
     },
     "metadata": {},
     "output_type": "display_data"
    }
   ],
   "source": [
    "corr_matrix_1 = df_geo_1[['f0', 'f1', 'f2', 'product']].corr()\n",
    "sns.heatmap(corr_matrix_1, cmap='coolwarm', annot=True)\n",
    "plt.title('Корреляция признаков на локации 1')\n",
    "plt.show()"
   ]
  },
  {
   "cell_type": "markdown",
   "metadata": {},
   "source": [
    "**Участок 1**\n",
    "\n",
    "Признаки 0 и 1 слабо коррелируются с запасами нефти. Признак 2 имеет сильную корреляцию (мультиколлиниарность)"
   ]
  },
  {
   "cell_type": "code",
   "execution_count": 18,
   "metadata": {},
   "outputs": [
    {
     "data": {
      "image/png": "[encoded data removed]",
      "text/plain": [
       "<Figure size 432x288 with 2 Axes>"
      ]
     },
     "metadata": {},
     "output_type": "display_data"
    }
   ],
   "source": [
    "corr_matrix_2 = df_geo_2[['f0', 'f1', 'f2', 'product']].corr()\n",
    "sns.heatmap(corr_matrix_2, cmap='coolwarm', annot=True)\n",
    "plt.title('Корреляция признаков на локации 2')\n",
    "plt.show()"
   ]
  },
  {
   "cell_type": "markdown",
   "metadata": {},
   "source": [
    "**Участок 2**\n",
    "\n",
    "Ситуация похожая с участком 0"
   ]
  },
  {
   "cell_type": "code",
   "execution_count": 19,
   "metadata": {},
   "outputs": [
    {
     "data": {
      "image/png": "[encoded data removed]",
      "text/plain": [
       "<Figure size 720x360 with 1 Axes>"
      ]
     },
     "metadata": {},
     "output_type": "display_data"
    }
   ],
   "source": [
    "reg_products = pd.DataFrame({\n",
    "    'geo_0': df_geo_0['product'],\n",
    "    'geo_1': df_geo_1['product'],\n",
    "    'geo_2': df_geo_2['product']\n",
    "})\n",
    "\n",
    "plt.figure(figsize=(10, 5))\n",
    "sns.histplot(reg_products, kde=True)\n",
    "plt.title('Распределение продукта по регионам')\n",
    "plt.xlabel('Распределение')\n",
    "plt.ylabel('Количество')\n",
    "plt.show()"
   ]
  },
  {
   "cell_type": "markdown",
   "metadata": {},
   "source": [
    "**Распределение запасов по локациям**\n",
    "\n",
    "- График распределения показывает, что выводы по корреляции верны. Ситуация на участках 0 и 2 схожа (под влиянием фактора 2, они имеют аналогичное распределение)\n",
    "- На локации 1 показатели запасов значительно больше, однако, имеют большую волатильность, что говорит о том, что запасаются только определённые объёмы"
   ]
  },
  {
   "cell_type": "markdown",
   "metadata": {},
   "source": [
    "**Общий вывод по EDA**\n",
    "\n",
    "- Мы проанализировали данные по добыче и запасах нефти на 3 локациях\n",
    "- Локации 0 и 2 имеют аналогичные показатели запасов нефти и их корреляции и признаком 2, однако, сами признаки имеют разное распределение\n",
    "- На локации 1 наблюдается мультиколлинеарность между признаком 2 и запасами, однако, несмотря на большие запасы на участке 1, есть запасы только определённых объёмов"
   ]
  },
  {
   "cell_type": "markdown",
   "metadata": {},
   "source": [
    "## Обучение и проверка модели"
   ]
  },
  {
   "cell_type": "markdown",
   "metadata": {},
   "source": [
    "**Модель**\n",
    "\n",
    "В модель мы не будем \"скармливать\" id, так как это не категориальный и не количественный признак, а уникальный идентификатор, который не имеет смысла в данном контексте"
   ]
  },
  {
   "cell_type": "code",
   "execution_count": 20,
   "metadata": {},
   "outputs": [],
   "source": [
    "def region_decorator(region_name):\n",
    "    def decorator(func):\n",
    "        def wrapper(*args, **kwargs):\n",
    "            print(f\"Модель для региона {region_name}:\")\n",
    "            return func(*args, **kwargs)\n",
    "        \n",
    "        return wrapper\n",
    "    \n",
    "    return decorator"
   ]
  },
  {
   "cell_type": "code",
   "execution_count": 21,
   "metadata": {},
   "outputs": [],
   "source": [
    "def linear_model(df):\n",
    "    features = df[['f0', 'f1', 'f2']]\n",
    "    target = df['product']\n",
    "    \n",
    "    X_train, X_valid, y_train, y_valid = train_test_split(features, \n",
    "                                                      target, \n",
    "                                                      random_state=12345, \n",
    "                                                      test_size=0.25)\n",
    "    \n",
    "    scaler = StandardScaler()\n",
    "    X_train_scaled = scaler.fit_transform(X_train)\n",
    "\n",
    "    X_valid_scaled = scaler.transform(X_valid)\n",
    "    \n",
    "    model = LinearRegression()\n",
    "    model.fit(X_train, y_train)\n",
    "    y_pred = model.predict(X_valid)\n",
    "\n",
    "    MSE = mean_squared_error(y_valid, y_pred)\n",
    "    \n",
    "    cv_scores = cross_val_score(model, \n",
    "                            features, \n",
    "                            target, \n",
    "                            cv=5, \n",
    "                            scoring='neg_mean_squared_error')\n",
    "\n",
    "    cv_rmse_scores = [math.sqrt(-score) for score in cv_scores]\n",
    "\n",
    "    mean_cv_rmse = np.mean(cv_rmse_scores)\n",
    "\n",
    "    print(f'Среднее RMSE с использованием 5-кратной кросс-валидации: {mean_cv_rmse}')\n",
    "    print(f'RMSE модели без кросс-валидации: {math.sqrt(MSE)}')\n",
    "    return y_pred, y_valid"
   ]
  },
  {
   "cell_type": "code",
   "execution_count": 22,
   "metadata": {},
   "outputs": [
    {
     "name": "stdout",
     "output_type": "stream",
     "text": [
      "Модель для региона 0:\n",
      "Среднее RMSE с использованием 5-кратной кросс-валидации: 37.694272523439665\n",
      "RMSE модели без кросс-валидации: 37.5794217150813\n",
      "CPU times: user 148 ms, sys: 388 ms, total: 537 ms\n",
      "Wall time: 507 ms\n"
     ]
    },
    {
     "data": {
      "text/plain": [
       "(array([ 95.89495185,  77.57258261,  77.89263965, ...,  61.50983303,\n",
       "        118.18039721, 118.16939229]),\n",
       " 71751     10.038645\n",
       " 80493    114.551489\n",
       " 2655     132.603635\n",
       " 53233    169.072125\n",
       " 91141    122.325180\n",
       "             ...    \n",
       " 12581    170.116726\n",
       " 18456     93.632175\n",
       " 73035    127.352259\n",
       " 63834     99.782700\n",
       " 43558    177.821022\n",
       " Name: product, Length: 25000, dtype: float64)"
      ]
     },
     "execution_count": 22,
     "metadata": {},
     "output_type": "execute_result"
    }
   ],
   "source": [
    "%%time\n",
    "decorated_linear_model = region_decorator(region_name='0')(linear_model)\n",
    "decorated_linear_model(df_geo_0)"
   ]
  },
  {
   "cell_type": "code",
   "execution_count": 23,
   "metadata": {},
   "outputs": [
    {
     "name": "stdout",
     "output_type": "stream",
     "text": [
      "Модель для региона 1:\n",
      "Среднее RMSE с использованием 5-кратной кросс-валидации: 0.8904078994600948\n",
      "RMSE модели без кросс-валидации: 0.893099286775617\n",
      "CPU times: user 269 ms, sys: 364 ms, total: 633 ms\n",
      "Wall time: 686 ms\n"
     ]
    },
    {
     "data": {
      "text/plain": [
       "(array([ 82.66331365,  54.43178616,  29.74875995, ..., 137.87934053,\n",
       "         83.76196568,  53.95846638]),\n",
       " 71751     80.859783\n",
       " 80493     53.906522\n",
       " 2655      30.132364\n",
       " 53233     53.906522\n",
       " 91141      0.000000\n",
       "             ...    \n",
       " 12581    137.945408\n",
       " 18456    110.992147\n",
       " 73035    137.945408\n",
       " 63834     84.038886\n",
       " 43558     53.906522\n",
       " Name: product, Length: 25000, dtype: float64)"
      ]
     },
     "execution_count": 23,
     "metadata": {},
     "output_type": "execute_result"
    }
   ],
   "source": [
    "%%time\n",
    "decorated_linear_model = region_decorator(region_name='1')(linear_model)\n",
    "decorated_linear_model(df_geo_1)"
   ]
  },
  {
   "cell_type": "code",
   "execution_count": 24,
   "metadata": {},
   "outputs": [
    {
     "name": "stdout",
     "output_type": "stream",
     "text": [
      "Модель для региона 2:\n",
      "Среднее RMSE с использованием 5-кратной кросс-валидации: 40.05687978485549\n",
      "RMSE модели без кросс-валидации: 40.02970873393434\n",
      "CPU times: user 196 ms, sys: 300 ms, total: 496 ms\n",
      "Wall time: 499 ms\n"
     ]
    },
    {
     "data": {
      "text/plain": [
       "(array([ 93.59963303,  75.10515854,  90.06680936, ...,  99.40728116,\n",
       "         77.77991248, 129.03241718]),\n",
       " 71751     61.212375\n",
       " 80493     41.850118\n",
       " 2655      57.776581\n",
       " 53233    100.053761\n",
       " 91141    109.897122\n",
       "             ...    \n",
       " 12581     28.492402\n",
       " 18456     21.431303\n",
       " 73035    125.487229\n",
       " 63834     99.422903\n",
       " 43558    127.445075\n",
       " Name: product, Length: 25000, dtype: float64)"
      ]
     },
     "execution_count": 24,
     "metadata": {},
     "output_type": "execute_result"
    }
   ],
   "source": [
    "%%time\n",
    "decorated_linear_model = region_decorator(region_name='2')(linear_model)\n",
    "decorated_linear_model(df_geo_2)"
   ]
  },
  {
   "cell_type": "markdown",
   "metadata": {},
   "source": [
    "**Вывод**\n",
    "\n",
    "- Модели не склонны к переобучению\n",
    "- Наибольшее влияние оказывает признак 2 (На SHAP графиках признаки расположены в порядке убывания влияния. Для 0 и 2 модели это признаки 2-1-0, для 1 модели это 2-0-1)\n",
    "- Среднее RMSE у модели 2 равно 40 барелей, у модели 0 – 38 барелей, у молдели 1 – 0.9 барелей"
   ]
  },
  {
   "cell_type": "markdown",
   "metadata": {},
   "source": [
    "## Подготовка к расчёту прибыли"
   ]
  },
  {
   "cell_type": "code",
   "execution_count": 25,
   "metadata": {},
   "outputs": [],
   "source": [
    "# Сохраняем все константы\n",
    "\n",
    "budget = 10e9  \n",
    "barrels_per_well = 200  \n",
    "revenue_per_barrel = 450 * 1e3 \n",
    "total_points = 500  \n",
    "selected_points = 200 \n",
    "risk_threshold = 0.025 "
   ]
  },
  {
   "cell_type": "markdown",
   "metadata": {},
   "source": [
    "Поиск точки безубыточности"
   ]
  },
  {
   "cell_type": "code",
   "execution_count": 26,
   "metadata": {},
   "outputs": [
    {
     "name": "stdout",
     "output_type": "stream",
     "text": [
      "Минимальный объем сырья для безубыточной разработки одной скважины 111.11111111111111 тыс. баррелей\n"
     ]
    }
   ],
   "source": [
    "min_volume_per_well = budget / (selected_points * revenue_per_barrel)\n",
    "print(f'Минимальный объем сырья для безубыточной разработки одной скважины {min_volume_per_well} тыс. баррелей')"
   ]
  },
  {
   "cell_type": "code",
   "execution_count": 27,
   "metadata": {},
   "outputs": [
    {
     "name": "stdout",
     "output_type": "stream",
     "text": [
      "Средний запас сырья в регионе 0: 92.50 тыс. баррелей\n",
      "Регион не обладает достаточным запасом сырья для разработки\n",
      "\n",
      "Средний запас сырья в регионе 1: 68.83 тыс. баррелей\n",
      "Регион не обладает достаточным запасом сырья для разработки\n",
      "\n",
      "Средний запас сырья в регионе 2: 95.00 тыс. баррелей\n",
      "Регион не обладает достаточным запасом сырья для разработки\n",
      "\n"
     ]
    }
   ],
   "source": [
    "# Средний запас сырья в регионе\n",
    "\n",
    "df_geo_list = [df_geo_0, df_geo_1, df_geo_2] \n",
    "\n",
    "for idx, df_geo in enumerate(df_geo_list):\n",
    "    avg_reserve = df_geo['product'].mean()  \n",
    "    print(f'Средний запас сырья в регионе {idx}: {avg_reserve:.2f} тыс. баррелей')\n",
    "    \n",
    "    if avg_reserve >= min_volume_per_well:\n",
    "        print('Регион обладает достаточным запасом сырья для разработки')\n",
    "    else:\n",
    "        print('Регион не обладает достаточным запасом сырья для разработки')\n",
    "    print()"
   ]
  },
  {
   "cell_type": "markdown",
   "metadata": {},
   "source": [
    "**Вывод**\n",
    "\n",
    "- Регионы не обладают достаточными запасами сырья"
   ]
  },
  {
   "cell_type": "markdown",
   "metadata": {},
   "source": [
    "## Расчёт прибыли и рисков "
   ]
  },
  {
   "cell_type": "code",
   "execution_count": 28,
   "metadata": {},
   "outputs": [
    {
     "name": "stdout",
     "output_type": "stream",
     "text": [
      "Модель для региона 2:\n",
      "Среднее RMSE с использованием 5-кратной кросс-валидации: 37.694272523439665\n",
      "RMSE модели без кросс-валидации: 37.5794217150813\n",
      "Модель для региона 2:\n",
      "Среднее RMSE с использованием 5-кратной кросс-валидации: 0.8904078994600948\n",
      "RMSE модели без кросс-валидации: 0.893099286775617\n",
      "Модель для региона 2:\n",
      "Среднее RMSE с использованием 5-кратной кросс-валидации: 40.05687978485549\n",
      "RMSE модели без кросс-валидации: 40.02970873393434\n"
     ]
    }
   ],
   "source": [
    "y_pred_0, y_valid_0 = decorated_linear_model(df_geo_0)\n",
    "y_pred_1, y_valid_1 = decorated_linear_model(df_geo_1)\n",
    "y_pred_2, y_valid_2 = decorated_linear_model(df_geo_2)"
   ]
  },
  {
   "cell_type": "code",
   "execution_count": 29,
   "metadata": {},
   "outputs": [],
   "source": [
    "budget = 10e9  \n",
    "barrels_per_well = 200  \n",
    "revenue_per_barrel = 450 * 1e3 \n",
    "total_points = 500  \n",
    "selected_points = 200 \n",
    "risk_threshold = 0.025 \n",
    "\n",
    "def profit_count(y_pred, y_valid):\n",
    "    y_pred = pd.Series(y_pred)\n",
    "    y_valid = pd.Series(y_valid)\n",
    "    \n",
    "    best_200 = y_pred.sort_values(ascending = False).head(selected_points)\n",
    "    volume_200 = y_valid.iloc[best_200.index].sum()\n",
    "    return volume_200 * revenue_per_barrel - budget"
   ]
  },
  {
   "cell_type": "code",
   "execution_count": 30,
   "metadata": {},
   "outputs": [
    {
     "data": {
      "text/plain": [
       "3320826043.1398506"
      ]
     },
     "execution_count": 30,
     "metadata": {},
     "output_type": "execute_result"
    }
   ],
   "source": [
    "profit_0 = profit_count(y_pred_0, y_valid_0)\n",
    "profit_0"
   ]
  },
  {
   "cell_type": "code",
   "execution_count": 31,
   "metadata": {},
   "outputs": [
    {
     "data": {
      "text/plain": [
       "2415086696.681511"
      ]
     },
     "execution_count": 31,
     "metadata": {},
     "output_type": "execute_result"
    }
   ],
   "source": [
    "profit_1 = profit_count(y_pred_1, y_valid_1)\n",
    "profit_1"
   ]
  },
  {
   "cell_type": "code",
   "execution_count": 32,
   "metadata": {},
   "outputs": [
    {
     "data": {
      "text/plain": [
       "2710349963.5998325"
      ]
     },
     "execution_count": 32,
     "metadata": {},
     "output_type": "execute_result"
    }
   ],
   "source": [
    "profit_2 = profit_count(y_pred_2, y_valid_2)\n",
    "profit_2"
   ]
  },
  {
   "cell_type": "code",
   "execution_count": 33,
   "metadata": {},
   "outputs": [
    {
     "data": {
      "image/png": "[encoded data removed]",
      "text/plain": [
       "<Figure size 720x360 with 1 Axes>"
      ]
     },
     "metadata": {},
     "output_type": "display_data"
    }
   ],
   "source": [
    "profit_lst = pd.DataFrame({\n",
    "    'profit_0': profit_0,\n",
    "    'profit_1': profit_1,\n",
    "    'profit_2': profit_2\n",
    "}, index=['Прибыль'])\n",
    "\n",
    "# Транспонирование DataFrame для правильного отображения на графике\n",
    "profit_lst = profit_lst.T\n",
    "\n",
    "plt.figure(figsize=(10, 5))\n",
    "sns.barplot(data=profit_lst, x=profit_lst.index, y='Прибыль', palette='viridis')\n",
    "plt.title('Сравнение прибыли по регионам')\n",
    "plt.ylabel('Прибыль')\n",
    "plt.xlabel('Регион')\n",
    "plt.xticks(rotation=45)\n",
    "plt.tight_layout()\n",
    "plt.show()"
   ]
  },
  {
   "cell_type": "markdown",
   "metadata": {},
   "source": [
    "**Вывод**\n",
    "\n",
    "- Написана функция для рассчёта прибыли, с учётом моделей машинного обучения, которая делает рассчёт по топ 200 скважинам\n",
    "- Наиболее прибыльный – регион 0, с прибылью ≈3.3 млрд. Далее идут регион 2 с ≈2.7 и регион 1 с ≈2.4 соответственно."
   ]
  },
  {
   "cell_type": "code",
   "execution_count": 34,
   "metadata": {},
   "outputs": [
    {
     "name": "stdout",
     "output_type": "stream",
     "text": [
      "25000\n"
     ]
    }
   ],
   "source": [
    "print(len(y_pred_0))"
   ]
  },
  {
   "cell_type": "code",
   "execution_count": 35,
   "metadata": {},
   "outputs": [
    {
     "name": "stdout",
     "output_type": "stream",
     "text": [
      "25000\n"
     ]
    }
   ],
   "source": [
    "print(len(y_valid_0))"
   ]
  },
  {
   "cell_type": "code",
   "execution_count": 36,
   "metadata": {},
   "outputs": [],
   "source": [
    "def profit_bootstrap(y_pred, y_valid):\n",
    "    values = []\n",
    "    y_pred = pd.Series(y_pred)\n",
    "    y_valid = pd.Series(y_valid)\n",
    "    state = np.random.RandomState(12345) \n",
    "    #считем прибыль для 200 лучших точек из 500 случайных 1000 раз\n",
    "    for i in range(1000):\n",
    "        subsample = y_pred.sample(n=500, replace=True, random_state=state)\n",
    "        income =  profit_count(subsample, y_valid) \n",
    "        values.append(income) \n",
    " \n",
    "    values = pd.Series(values)\n",
    "    lower = values.quantile(0.025)\n",
    "    upper = values.quantile(0.975)\n",
    "    loss_probability = len(values[values < 0]) / len(values)\n",
    " \n",
    "    print('Средняя прибыль (млн. руб): {:.2f}'.format(values.mean()/10**6))\n",
    "    print('95% доверительный интервал (млн. руб):({:.2f},{:.2f})'.format(lower, upper))\n",
    "    print('Вероятность убытков: {:.2%}'.format(loss_probability))"
   ]
  },
  {
   "cell_type": "code",
   "execution_count": 37,
   "metadata": {},
   "outputs": [
    {
     "name": "stdout",
     "output_type": "stream",
     "text": [
      "Средняя прибыль (млн. руб): 396.16\n",
      "95% доверительный интервал (млн. руб):(-111215545.89,909766941.55)\n",
      "Вероятность убытков: 6.90%\n"
     ]
    }
   ],
   "source": [
    "profit_bootstrap(y_pred_0, y_valid_0)"
   ]
  },
  {
   "cell_type": "code",
   "execution_count": 38,
   "metadata": {},
   "outputs": [
    {
     "name": "stdout",
     "output_type": "stream",
     "text": [
      "Средняя прибыль (млн. руб): 456.05\n",
      "95% доверительный интервал (млн. руб):(33820509.40,852289453.87)\n",
      "Вероятность убытков: 1.50%\n"
     ]
    }
   ],
   "source": [
    "profit_bootstrap(y_pred_1, y_valid_1)"
   ]
  },
  {
   "cell_type": "code",
   "execution_count": 39,
   "metadata": {},
   "outputs": [
    {
     "name": "stdout",
     "output_type": "stream",
     "text": [
      "Средняя прибыль (млн. руб): 404.40\n",
      "95% доверительный интервал (млн. руб):(-163350413.40,950359574.92)\n",
      "Вероятность убытков: 7.60%\n"
     ]
    }
   ],
   "source": [
    "profit_bootstrap(y_pred_2, y_valid_2)"
   ]
  },
  {
   "cell_type": "markdown",
   "metadata": {},
   "source": [
    "**Общий вывод**\n",
    "\n",
    "- Были проанализированы данные о нефтяных скважинах в трёх регионах\n",
    "- Был проведён исследовательский анализ данных, в ходе которого рассматривалось распределение данных в по регионам, а также их корреляция. Корреляция в регионах 0 и 2 схожа\n",
    "- Для каждого региона были построены модели машинного обучения. Моделью была выбрана линейная регрессия. Ключевой метрикой была выбрана RMSE. Было выявлено, что f2 – наиболее влиятельынй фактор вне зависимости от региона\n",
    "- Рассчитан достаточный объём сырья для безубыточной разработки новой скважины. Сравнение полученного объём сырья со средним запасом в каждом регионе показало, что регионы пока не обладают достаточным запасом.\n",
    "- По 200 лучшим точкам был рассчитан доход, доверительный интервал, риск убытков\n",
    "- Посредством техники Бутстреп были рассчитаны средняя пирбыль 95-процентный доверительный интервал, а также, проанализированы риски убытков\n",
    "- Самый привлекательный регион для открытия новых месторождений – это регион 1, в котором средняя прибыль 456.05 млн и наименьший риск убытков, несмотря на то, что на общем графике данные регион имеет наименьшую общую прибыль. Регионы 0 и 2 могут быть более прибыльнами, но стоит иметь в виду, что риск убытков там выше на 5-6%"
   ]
  },
  {
   "cell_type": "code",
   "execution_count": null,
   "metadata": {},
   "outputs": [],
   "source": []
  }
 ],
 "metadata": {
  "ExecuteTimeLog": [
   {
    "duration": 1397,
    "start_time": "2023-08-13T04:35:16.891Z"
   },
   {
    "duration": 3688,
    "start_time": "2023-08-13T04:35:31.379Z"
   },
   {
    "duration": 1193,
    "start_time": "2023-08-13T04:35:41.754Z"
   },
   {
    "duration": 11,
    "start_time": "2023-08-13T04:36:09.084Z"
   },
   {
    "duration": 3,
    "start_time": "2023-08-13T04:36:45.503Z"
   },
   {
    "duration": 3,
    "start_time": "2023-08-13T04:37:24.699Z"
   },
   {
    "duration": 3,
    "start_time": "2023-08-13T04:38:33.876Z"
   },
   {
    "duration": 3,
    "start_time": "2023-08-13T04:38:43.755Z"
   },
   {
    "duration": 366,
    "start_time": "2023-08-13T04:48:44.468Z"
   },
   {
    "duration": 508,
    "start_time": "2023-08-13T04:49:08.921Z"
   },
   {
    "duration": 327,
    "start_time": "2023-08-13T04:49:27.852Z"
   },
   {
    "duration": 15,
    "start_time": "2023-08-13T04:49:29.190Z"
   },
   {
    "duration": 9,
    "start_time": "2023-08-13T04:49:31.040Z"
   },
   {
    "duration": 8,
    "start_time": "2023-08-13T04:49:33.744Z"
   },
   {
    "duration": 9,
    "start_time": "2023-08-13T04:50:57.872Z"
   },
   {
    "duration": 10,
    "start_time": "2023-08-13T04:51:12.401Z"
   },
   {
    "duration": 9,
    "start_time": "2023-08-13T04:51:13.977Z"
   },
   {
    "duration": 18,
    "start_time": "2023-08-13T04:52:02.701Z"
   },
   {
    "duration": 19,
    "start_time": "2023-08-13T04:52:13.845Z"
   },
   {
    "duration": 17,
    "start_time": "2023-08-13T04:52:25.870Z"
   },
   {
    "duration": 16,
    "start_time": "2023-08-13T04:52:27.702Z"
   },
   {
    "duration": 34,
    "start_time": "2023-08-13T04:53:58.897Z"
   },
   {
    "duration": 51,
    "start_time": "2023-08-13T04:54:11.492Z"
   },
   {
    "duration": 36,
    "start_time": "2023-08-13T04:54:13.942Z"
   },
   {
    "duration": 4138,
    "start_time": "2023-08-13T04:58:11.106Z"
   },
   {
    "duration": 4273,
    "start_time": "2023-08-13T04:58:40.167Z"
   },
   {
    "duration": 4033,
    "start_time": "2023-08-13T05:00:19.290Z"
   },
   {
    "duration": 2832,
    "start_time": "2023-08-13T05:00:49.350Z"
   },
   {
    "duration": 3064,
    "start_time": "2023-08-13T05:00:57.140Z"
   },
   {
    "duration": 3,
    "start_time": "2023-08-13T05:03:01.291Z"
   },
   {
    "duration": 3,
    "start_time": "2023-08-13T05:03:06.950Z"
   },
   {
    "duration": 292,
    "start_time": "2023-08-13T05:05:06.863Z"
   },
   {
    "duration": 125,
    "start_time": "2023-08-13T05:05:23.826Z"
   },
   {
    "duration": 4130,
    "start_time": "2023-08-13T05:05:59.255Z"
   },
   {
    "duration": 3108,
    "start_time": "2023-08-13T05:06:26.777Z"
   },
   {
    "duration": 3452,
    "start_time": "2023-08-13T05:06:35.386Z"
   },
   {
    "duration": 11,
    "start_time": "2023-08-13T05:11:03.873Z"
   },
   {
    "duration": 226,
    "start_time": "2023-08-13T05:11:11.639Z"
   },
   {
    "duration": 269,
    "start_time": "2023-08-13T05:11:29.881Z"
   },
   {
    "duration": 244,
    "start_time": "2023-08-13T05:11:36.526Z"
   },
   {
    "duration": 273,
    "start_time": "2023-08-13T05:11:47.902Z"
   },
   {
    "duration": 414,
    "start_time": "2023-08-13T05:12:13.257Z"
   },
   {
    "duration": 254,
    "start_time": "2023-08-13T05:12:16.460Z"
   },
   {
    "duration": 335,
    "start_time": "2023-08-13T05:16:15.307Z"
   },
   {
    "duration": 286,
    "start_time": "2023-08-13T05:16:18.149Z"
   },
   {
    "duration": 259,
    "start_time": "2023-08-13T05:16:20.024Z"
   },
   {
    "duration": 293,
    "start_time": "2023-08-13T05:16:57.418Z"
   },
   {
    "duration": 272,
    "start_time": "2023-08-13T05:16:59.418Z"
   },
   {
    "duration": 316,
    "start_time": "2023-08-13T05:17:01.567Z"
   },
   {
    "duration": 1168,
    "start_time": "2023-08-13T05:20:00.619Z"
   },
   {
    "duration": 27,
    "start_time": "2023-08-13T05:20:13.692Z"
   },
   {
    "duration": 22,
    "start_time": "2023-08-13T05:20:21.049Z"
   },
   {
    "duration": 18,
    "start_time": "2023-08-13T05:21:15.530Z"
   },
   {
    "duration": 24,
    "start_time": "2023-08-13T05:22:09.190Z"
   },
   {
    "duration": 10,
    "start_time": "2023-08-13T05:22:21.790Z"
   },
   {
    "duration": 28,
    "start_time": "2023-08-13T05:22:28.710Z"
   },
   {
    "duration": 8,
    "start_time": "2023-08-13T05:23:05.640Z"
   },
   {
    "duration": 2298,
    "start_time": "2023-08-13T05:24:53.634Z"
   },
   {
    "duration": 2355,
    "start_time": "2023-08-13T05:25:03.383Z"
   },
   {
    "duration": 13,
    "start_time": "2023-08-13T05:25:19.793Z"
   },
   {
    "duration": 2291,
    "start_time": "2023-08-13T05:25:23.642Z"
   },
   {
    "duration": 20,
    "start_time": "2023-08-13T05:47:11.915Z"
   },
   {
    "duration": 20,
    "start_time": "2023-08-13T05:47:22.596Z"
   },
   {
    "duration": 17,
    "start_time": "2023-08-13T05:48:57.445Z"
   },
   {
    "duration": 38,
    "start_time": "2023-08-13T05:49:38.488Z"
   },
   {
    "duration": 27,
    "start_time": "2023-08-13T05:49:42.695Z"
   },
   {
    "duration": 18,
    "start_time": "2023-08-13T05:50:29.837Z"
   },
   {
    "duration": 143,
    "start_time": "2023-08-13T06:00:07.058Z"
   },
   {
    "duration": 19,
    "start_time": "2023-08-13T06:01:00.720Z"
   },
   {
    "duration": 23,
    "start_time": "2023-08-13T06:01:10.846Z"
   },
   {
    "duration": 39,
    "start_time": "2023-08-13T06:01:25.398Z"
   },
   {
    "duration": 20,
    "start_time": "2023-08-13T06:01:40.052Z"
   },
   {
    "duration": 26,
    "start_time": "2023-08-13T06:02:29.109Z"
   },
   {
    "duration": 245,
    "start_time": "2023-08-13T06:10:43.977Z"
   },
   {
    "duration": 451,
    "start_time": "2023-08-13T06:19:28.150Z"
   },
   {
    "duration": 462,
    "start_time": "2023-08-13T06:19:41.747Z"
   },
   {
    "duration": 368,
    "start_time": "2023-08-13T06:20:15.436Z"
   },
   {
    "duration": 275,
    "start_time": "2023-08-13T06:20:34.133Z"
   },
   {
    "duration": 498,
    "start_time": "2023-08-13T06:27:02.619Z"
   },
   {
    "duration": 369,
    "start_time": "2023-08-13T06:27:13.235Z"
   },
   {
    "duration": 2205,
    "start_time": "2023-08-13T06:27:18.541Z"
   },
   {
    "duration": 347,
    "start_time": "2023-08-13T06:27:20.748Z"
   },
   {
    "duration": 17,
    "start_time": "2023-08-13T06:27:21.097Z"
   },
   {
    "duration": 36,
    "start_time": "2023-08-13T06:27:21.115Z"
   },
   {
    "duration": 26,
    "start_time": "2023-08-13T06:27:21.153Z"
   },
   {
    "duration": 32,
    "start_time": "2023-08-13T06:27:21.180Z"
   },
   {
    "duration": 24,
    "start_time": "2023-08-13T06:27:21.214Z"
   },
   {
    "duration": 22,
    "start_time": "2023-08-13T06:27:21.240Z"
   },
   {
    "duration": 56,
    "start_time": "2023-08-13T06:27:21.264Z"
   },
   {
    "duration": 41,
    "start_time": "2023-08-13T06:27:21.322Z"
   },
   {
    "duration": 54,
    "start_time": "2023-08-13T06:27:21.365Z"
   },
   {
    "duration": 4,
    "start_time": "2023-08-13T06:27:21.421Z"
   },
   {
    "duration": 4874,
    "start_time": "2023-08-13T06:27:21.427Z"
   },
   {
    "duration": 3469,
    "start_time": "2023-08-13T06:27:26.304Z"
   },
   {
    "duration": 3726,
    "start_time": "2023-08-13T06:27:29.776Z"
   },
   {
    "duration": 334,
    "start_time": "2023-08-13T06:27:33.504Z"
   },
   {
    "duration": 298,
    "start_time": "2023-08-13T06:27:33.839Z"
   },
   {
    "duration": 335,
    "start_time": "2023-08-13T06:27:34.139Z"
   },
   {
    "duration": 2355,
    "start_time": "2023-08-13T06:27:34.476Z"
   },
   {
    "duration": 67,
    "start_time": "2023-08-13T06:27:36.833Z"
   },
   {
    "duration": 702,
    "start_time": "2023-08-13T06:27:36.903Z"
   },
   {
    "duration": 107,
    "start_time": "2023-08-13T06:27:37.607Z"
   },
   {
    "duration": 485,
    "start_time": "2023-08-13T06:27:37.716Z"
   },
   {
    "duration": 117,
    "start_time": "2023-08-13T06:27:38.203Z"
   },
   {
    "duration": 391,
    "start_time": "2023-08-13T06:27:38.322Z"
   },
   {
    "duration": 170,
    "start_time": "2023-08-13T06:28:29.963Z"
   },
   {
    "duration": 66,
    "start_time": "2023-08-13T06:28:37.335Z"
   },
   {
    "duration": 26,
    "start_time": "2023-08-13T06:28:38.359Z"
   },
   {
    "duration": 44,
    "start_time": "2023-08-13T06:28:38.956Z"
   },
   {
    "duration": 29,
    "start_time": "2023-08-13T06:28:39.279Z"
   },
   {
    "duration": 27,
    "start_time": "2023-08-13T06:28:40.538Z"
   },
   {
    "duration": 388,
    "start_time": "2023-08-13T06:31:08.914Z"
   },
   {
    "duration": 19,
    "start_time": "2023-08-13T06:31:18.464Z"
   },
   {
    "duration": 19,
    "start_time": "2023-08-13T06:31:25.653Z"
   },
   {
    "duration": 144,
    "start_time": "2023-08-13T06:31:27.070Z"
   },
   {
    "duration": 325,
    "start_time": "2023-08-13T06:31:43.078Z"
   },
   {
    "duration": 288,
    "start_time": "2023-08-13T06:31:53.316Z"
   },
   {
    "duration": 319,
    "start_time": "2023-08-13T06:32:01.883Z"
   },
   {
    "duration": 667,
    "start_time": "2023-08-13T06:46:38.386Z"
   },
   {
    "duration": 1726,
    "start_time": "2023-08-13T06:47:10.089Z"
   },
   {
    "duration": 27,
    "start_time": "2023-08-13T06:48:14.866Z"
   },
   {
    "duration": 431,
    "start_time": "2023-08-13T06:48:16.973Z"
   },
   {
    "duration": 1565,
    "start_time": "2023-08-13T06:48:20.107Z"
   },
   {
    "duration": 1807,
    "start_time": "2023-08-13T06:49:05.628Z"
   },
   {
    "duration": 1798,
    "start_time": "2023-08-13T06:49:20.703Z"
   },
   {
    "duration": 1720,
    "start_time": "2023-08-13T06:49:36.963Z"
   },
   {
    "duration": 1526,
    "start_time": "2023-08-13T06:49:53.246Z"
   },
   {
    "duration": 1551,
    "start_time": "2023-08-13T06:50:23.616Z"
   },
   {
    "duration": 1736,
    "start_time": "2023-08-13T06:50:54.394Z"
   },
   {
    "duration": 102,
    "start_time": "2023-08-13T06:51:08.199Z"
   },
   {
    "duration": 399,
    "start_time": "2023-08-13T06:51:10.304Z"
   },
   {
    "duration": 1577,
    "start_time": "2023-08-13T06:51:12.410Z"
   },
   {
    "duration": 29,
    "start_time": "2023-08-13T06:51:16.673Z"
   },
   {
    "duration": 549,
    "start_time": "2023-08-13T06:51:18.762Z"
   },
   {
    "duration": 1688,
    "start_time": "2023-08-13T06:51:20.705Z"
   },
   {
    "duration": 2098,
    "start_time": "2023-08-13T08:50:13.607Z"
   },
   {
    "duration": 343,
    "start_time": "2023-08-13T08:50:15.708Z"
   },
   {
    "duration": 15,
    "start_time": "2023-08-13T08:50:16.053Z"
   },
   {
    "duration": 22,
    "start_time": "2023-08-13T08:50:16.070Z"
   },
   {
    "duration": 19,
    "start_time": "2023-08-13T08:50:16.095Z"
   },
   {
    "duration": 34,
    "start_time": "2023-08-13T08:50:16.116Z"
   },
   {
    "duration": 21,
    "start_time": "2023-08-13T08:50:16.151Z"
   },
   {
    "duration": 27,
    "start_time": "2023-08-13T08:50:16.174Z"
   },
   {
    "duration": 40,
    "start_time": "2023-08-13T08:50:16.203Z"
   },
   {
    "duration": 33,
    "start_time": "2023-08-13T08:50:16.245Z"
   },
   {
    "duration": 49,
    "start_time": "2023-08-13T08:50:16.279Z"
   },
   {
    "duration": 3,
    "start_time": "2023-08-13T08:50:16.330Z"
   },
   {
    "duration": 4364,
    "start_time": "2023-08-13T08:50:16.334Z"
   },
   {
    "duration": 3193,
    "start_time": "2023-08-13T08:50:20.701Z"
   },
   {
    "duration": 3455,
    "start_time": "2023-08-13T08:50:23.895Z"
   },
   {
    "duration": 306,
    "start_time": "2023-08-13T08:50:27.352Z"
   },
   {
    "duration": 314,
    "start_time": "2023-08-13T08:50:27.660Z"
   },
   {
    "duration": 307,
    "start_time": "2023-08-13T08:50:27.976Z"
   },
   {
    "duration": 2213,
    "start_time": "2023-08-13T08:50:28.284Z"
   },
   {
    "duration": 19,
    "start_time": "2023-08-13T08:50:30.499Z"
   },
   {
    "duration": 681,
    "start_time": "2023-08-13T08:50:30.521Z"
   },
   {
    "duration": 1875,
    "start_time": "2023-08-13T08:50:31.204Z"
   },
   {
    "duration": 24,
    "start_time": "2023-08-13T08:50:33.080Z"
   },
   {
    "duration": 599,
    "start_time": "2023-08-13T08:50:33.106Z"
   },
   {
    "duration": 1776,
    "start_time": "2023-08-13T08:50:33.707Z"
   },
   {
    "duration": 28,
    "start_time": "2023-08-13T08:50:35.485Z"
   },
   {
    "duration": 588,
    "start_time": "2023-08-13T08:50:35.515Z"
   },
   {
    "duration": 1813,
    "start_time": "2023-08-13T08:50:36.105Z"
   },
   {
    "duration": 8,
    "start_time": "2023-08-13T08:55:33.169Z"
   },
   {
    "duration": 3,
    "start_time": "2023-08-13T08:59:03.499Z"
   },
   {
    "duration": 4,
    "start_time": "2023-08-13T08:59:42.494Z"
   },
   {
    "duration": 68,
    "start_time": "2023-08-13T09:00:20.607Z"
   },
   {
    "duration": 3,
    "start_time": "2023-08-13T09:00:30.094Z"
   },
   {
    "duration": 5,
    "start_time": "2023-08-13T09:01:18.896Z"
   },
   {
    "duration": 3,
    "start_time": "2023-08-13T09:07:48.304Z"
   },
   {
    "duration": 6,
    "start_time": "2023-08-13T09:08:15.661Z"
   },
   {
    "duration": 6,
    "start_time": "2023-08-13T09:08:34.593Z"
   },
   {
    "duration": 7,
    "start_time": "2023-08-13T09:09:05.528Z"
   },
   {
    "duration": 158,
    "start_time": "2023-08-13T09:10:18.992Z"
   },
   {
    "duration": 14,
    "start_time": "2023-08-13T09:10:32.953Z"
   },
   {
    "duration": 4,
    "start_time": "2023-08-13T09:10:53.178Z"
   },
   {
    "duration": 5,
    "start_time": "2023-08-13T09:11:00.361Z"
   },
   {
    "duration": 105,
    "start_time": "2023-08-13T09:11:36.066Z"
   },
   {
    "duration": 108,
    "start_time": "2023-08-13T09:12:06.968Z"
   },
   {
    "duration": 13,
    "start_time": "2023-08-13T09:13:30.182Z"
   },
   {
    "duration": 12,
    "start_time": "2023-08-13T09:13:41.967Z"
   },
   {
    "duration": 230,
    "start_time": "2023-08-13T09:14:26.896Z"
   },
   {
    "duration": 209,
    "start_time": "2023-08-13T09:14:44.224Z"
   },
   {
    "duration": 4,
    "start_time": "2023-08-13T09:25:04.473Z"
   },
   {
    "duration": 3,
    "start_time": "2023-08-13T09:25:45.035Z"
   },
   {
    "duration": 4,
    "start_time": "2023-08-13T09:25:54.359Z"
   },
   {
    "duration": 1054,
    "start_time": "2023-08-13T09:26:08.588Z"
   },
   {
    "duration": 1096,
    "start_time": "2023-08-13T09:27:30.814Z"
   },
   {
    "duration": 3,
    "start_time": "2023-08-13T09:31:39.930Z"
   },
   {
    "duration": 3,
    "start_time": "2023-08-13T09:32:19.860Z"
   },
   {
    "duration": 16,
    "start_time": "2023-08-13T09:33:34.199Z"
   },
   {
    "duration": 94,
    "start_time": "2023-08-13T09:34:58.535Z"
   },
   {
    "duration": 24,
    "start_time": "2023-08-13T09:35:08.578Z"
   },
   {
    "duration": 2210,
    "start_time": "2023-08-13T09:49:55.340Z"
   },
   {
    "duration": 345,
    "start_time": "2023-08-13T09:49:57.551Z"
   },
   {
    "duration": 13,
    "start_time": "2023-08-13T09:49:57.897Z"
   },
   {
    "duration": 14,
    "start_time": "2023-08-13T09:49:57.912Z"
   },
   {
    "duration": 21,
    "start_time": "2023-08-13T09:49:57.928Z"
   },
   {
    "duration": 40,
    "start_time": "2023-08-13T09:49:57.950Z"
   },
   {
    "duration": 18,
    "start_time": "2023-08-13T09:49:57.991Z"
   },
   {
    "duration": 20,
    "start_time": "2023-08-13T09:49:58.011Z"
   },
   {
    "duration": 39,
    "start_time": "2023-08-13T09:49:58.033Z"
   },
   {
    "duration": 57,
    "start_time": "2023-08-13T09:49:58.074Z"
   },
   {
    "duration": 35,
    "start_time": "2023-08-13T09:49:58.133Z"
   },
   {
    "duration": 4,
    "start_time": "2023-08-13T09:49:58.170Z"
   },
   {
    "duration": 4568,
    "start_time": "2023-08-13T09:49:58.176Z"
   },
   {
    "duration": 3323,
    "start_time": "2023-08-13T09:50:02.746Z"
   },
   {
    "duration": 3652,
    "start_time": "2023-08-13T09:50:06.071Z"
   },
   {
    "duration": 296,
    "start_time": "2023-08-13T09:50:09.725Z"
   },
   {
    "duration": 284,
    "start_time": "2023-08-13T09:50:10.022Z"
   },
   {
    "duration": 302,
    "start_time": "2023-08-13T09:50:10.308Z"
   },
   {
    "duration": 2271,
    "start_time": "2023-08-13T09:50:10.611Z"
   },
   {
    "duration": 32,
    "start_time": "2023-08-13T09:50:12.883Z"
   },
   {
    "duration": 787,
    "start_time": "2023-08-13T09:50:12.918Z"
   },
   {
    "duration": 1818,
    "start_time": "2023-08-13T09:50:13.707Z"
   },
   {
    "duration": 22,
    "start_time": "2023-08-13T09:50:15.526Z"
   },
   {
    "duration": 461,
    "start_time": "2023-08-13T09:50:15.549Z"
   },
   {
    "duration": 1761,
    "start_time": "2023-08-13T09:50:16.012Z"
   },
   {
    "duration": 33,
    "start_time": "2023-08-13T09:50:17.774Z"
   },
   {
    "duration": 505,
    "start_time": "2023-08-13T09:50:17.809Z"
   },
   {
    "duration": 1873,
    "start_time": "2023-08-13T09:50:18.402Z"
   },
   {
    "duration": 3,
    "start_time": "2023-08-13T09:50:20.276Z"
   },
   {
    "duration": 30,
    "start_time": "2023-08-13T09:50:20.280Z"
   },
   {
    "duration": 33,
    "start_time": "2023-08-13T09:50:20.312Z"
   },
   {
    "duration": 20,
    "start_time": "2023-08-13T09:50:20.347Z"
   },
   {
    "duration": 18,
    "start_time": "2023-08-13T09:50:20.369Z"
   },
   {
    "duration": 7,
    "start_time": "2023-08-13T09:50:20.388Z"
   },
   {
    "duration": 15,
    "start_time": "2023-08-13T09:50:20.396Z"
   },
   {
    "duration": 234,
    "start_time": "2023-08-13T09:50:20.412Z"
   },
   {
    "duration": 3,
    "start_time": "2023-08-13T09:50:20.647Z"
   },
   {
    "duration": 10,
    "start_time": "2023-08-13T09:50:20.652Z"
   },
   {
    "duration": 1086,
    "start_time": "2023-08-13T09:50:20.664Z"
   },
   {
    "duration": 2273,
    "start_time": "2023-08-13T09:51:12.260Z"
   },
   {
    "duration": 365,
    "start_time": "2023-08-13T09:51:14.535Z"
   },
   {
    "duration": 13,
    "start_time": "2023-08-13T09:51:14.902Z"
   },
   {
    "duration": 24,
    "start_time": "2023-08-13T09:51:14.917Z"
   },
   {
    "duration": 28,
    "start_time": "2023-08-13T09:51:14.943Z"
   },
   {
    "duration": 22,
    "start_time": "2023-08-13T09:51:14.972Z"
   },
   {
    "duration": 17,
    "start_time": "2023-08-13T09:51:14.997Z"
   },
   {
    "duration": 66,
    "start_time": "2023-08-13T09:51:15.016Z"
   },
   {
    "duration": 67,
    "start_time": "2023-08-13T09:51:15.084Z"
   },
   {
    "duration": 35,
    "start_time": "2023-08-13T09:51:15.154Z"
   },
   {
    "duration": 35,
    "start_time": "2023-08-13T09:51:15.191Z"
   },
   {
    "duration": 3,
    "start_time": "2023-08-13T09:51:15.228Z"
   },
   {
    "duration": 4790,
    "start_time": "2023-08-13T09:51:15.233Z"
   },
   {
    "duration": 3253,
    "start_time": "2023-08-13T09:51:20.025Z"
   },
   {
    "duration": 3680,
    "start_time": "2023-08-13T09:51:23.280Z"
   },
   {
    "duration": 326,
    "start_time": "2023-08-13T09:51:26.962Z"
   },
   {
    "duration": 295,
    "start_time": "2023-08-13T09:51:27.290Z"
   },
   {
    "duration": 299,
    "start_time": "2023-08-13T09:51:27.587Z"
   },
   {
    "duration": 2227,
    "start_time": "2023-08-13T09:51:27.888Z"
   },
   {
    "duration": 21,
    "start_time": "2023-08-13T09:51:30.117Z"
   },
   {
    "duration": 665,
    "start_time": "2023-08-13T09:51:30.140Z"
   },
   {
    "duration": 1896,
    "start_time": "2023-08-13T09:51:30.807Z"
   },
   {
    "duration": 24,
    "start_time": "2023-08-13T09:51:32.704Z"
   },
   {
    "duration": 572,
    "start_time": "2023-08-13T09:51:32.730Z"
   },
   {
    "duration": 1790,
    "start_time": "2023-08-13T09:51:33.304Z"
   },
   {
    "duration": 26,
    "start_time": "2023-08-13T09:51:35.096Z"
   },
   {
    "duration": 584,
    "start_time": "2023-08-13T09:51:35.123Z"
   },
   {
    "duration": 2142,
    "start_time": "2023-08-13T09:51:35.711Z"
   },
   {
    "duration": 3,
    "start_time": "2023-08-13T09:51:37.855Z"
   },
   {
    "duration": 8,
    "start_time": "2023-08-13T09:51:37.859Z"
   },
   {
    "duration": 9,
    "start_time": "2023-08-13T09:51:37.869Z"
   },
   {
    "duration": 4,
    "start_time": "2023-08-13T09:51:37.879Z"
   },
   {
    "duration": 12,
    "start_time": "2023-08-13T09:51:37.900Z"
   },
   {
    "duration": 12,
    "start_time": "2023-08-13T09:51:37.914Z"
   },
   {
    "duration": 10,
    "start_time": "2023-08-13T09:51:37.927Z"
   },
   {
    "duration": 303,
    "start_time": "2023-08-13T09:51:37.939Z"
   },
   {
    "duration": 3,
    "start_time": "2023-08-13T09:51:38.244Z"
   },
   {
    "duration": 6,
    "start_time": "2023-08-13T09:51:38.249Z"
   },
   {
    "duration": 1177,
    "start_time": "2023-08-13T09:51:38.258Z"
   },
   {
    "duration": 1487,
    "start_time": "2023-08-13T10:19:02.904Z"
   },
   {
    "duration": 0,
    "start_time": "2023-08-13T10:19:04.393Z"
   },
   {
    "duration": 0,
    "start_time": "2023-08-13T10:19:04.394Z"
   },
   {
    "duration": 0,
    "start_time": "2023-08-13T10:19:04.395Z"
   },
   {
    "duration": 0,
    "start_time": "2023-08-13T10:19:04.396Z"
   },
   {
    "duration": 0,
    "start_time": "2023-08-13T10:19:04.398Z"
   },
   {
    "duration": 0,
    "start_time": "2023-08-13T10:19:04.399Z"
   },
   {
    "duration": 0,
    "start_time": "2023-08-13T10:19:04.400Z"
   },
   {
    "duration": 0,
    "start_time": "2023-08-13T10:19:04.401Z"
   },
   {
    "duration": 0,
    "start_time": "2023-08-13T10:19:04.402Z"
   },
   {
    "duration": 0,
    "start_time": "2023-08-13T10:19:04.403Z"
   },
   {
    "duration": 0,
    "start_time": "2023-08-13T10:19:04.404Z"
   },
   {
    "duration": 0,
    "start_time": "2023-08-13T10:19:04.405Z"
   },
   {
    "duration": 0,
    "start_time": "2023-08-13T10:19:04.406Z"
   },
   {
    "duration": 0,
    "start_time": "2023-08-13T10:19:04.407Z"
   },
   {
    "duration": 0,
    "start_time": "2023-08-13T10:19:04.408Z"
   },
   {
    "duration": 0,
    "start_time": "2023-08-13T10:19:04.409Z"
   },
   {
    "duration": 0,
    "start_time": "2023-08-13T10:19:04.411Z"
   },
   {
    "duration": 0,
    "start_time": "2023-08-13T10:19:04.412Z"
   },
   {
    "duration": 0,
    "start_time": "2023-08-13T10:19:04.413Z"
   },
   {
    "duration": 0,
    "start_time": "2023-08-13T10:19:04.414Z"
   },
   {
    "duration": 0,
    "start_time": "2023-08-13T10:19:04.415Z"
   },
   {
    "duration": 0,
    "start_time": "2023-08-13T10:19:04.457Z"
   },
   {
    "duration": 0,
    "start_time": "2023-08-13T10:19:04.458Z"
   },
   {
    "duration": 0,
    "start_time": "2023-08-13T10:19:04.459Z"
   },
   {
    "duration": 0,
    "start_time": "2023-08-13T10:19:04.460Z"
   },
   {
    "duration": 0,
    "start_time": "2023-08-13T10:19:04.461Z"
   },
   {
    "duration": 0,
    "start_time": "2023-08-13T10:19:04.462Z"
   },
   {
    "duration": 0,
    "start_time": "2023-08-13T10:19:04.463Z"
   },
   {
    "duration": 0,
    "start_time": "2023-08-13T10:19:04.464Z"
   },
   {
    "duration": 0,
    "start_time": "2023-08-13T10:19:04.466Z"
   },
   {
    "duration": 0,
    "start_time": "2023-08-13T10:19:04.467Z"
   },
   {
    "duration": 0,
    "start_time": "2023-08-13T10:19:04.468Z"
   },
   {
    "duration": 0,
    "start_time": "2023-08-13T10:19:04.469Z"
   },
   {
    "duration": 0,
    "start_time": "2023-08-13T10:19:04.470Z"
   },
   {
    "duration": 0,
    "start_time": "2023-08-13T10:19:04.471Z"
   },
   {
    "duration": 0,
    "start_time": "2023-08-13T10:19:04.472Z"
   },
   {
    "duration": 0,
    "start_time": "2023-08-13T10:19:04.473Z"
   },
   {
    "duration": 0,
    "start_time": "2023-08-13T10:19:04.474Z"
   },
   {
    "duration": 5470,
    "start_time": "2023-08-13T10:19:49.997Z"
   },
   {
    "duration": 1683,
    "start_time": "2023-08-13T10:19:57.410Z"
   },
   {
    "duration": 17,
    "start_time": "2023-08-13T10:19:59.095Z"
   },
   {
    "duration": 21,
    "start_time": "2023-08-13T10:19:59.114Z"
   },
   {
    "duration": 44,
    "start_time": "2023-08-13T10:19:59.138Z"
   },
   {
    "duration": 34,
    "start_time": "2023-08-13T10:19:59.184Z"
   },
   {
    "duration": 21,
    "start_time": "2023-08-13T10:19:59.220Z"
   },
   {
    "duration": 24,
    "start_time": "2023-08-13T10:19:59.243Z"
   },
   {
    "duration": 46,
    "start_time": "2023-08-13T10:19:59.270Z"
   },
   {
    "duration": 63,
    "start_time": "2023-08-13T10:19:59.318Z"
   },
   {
    "duration": 39,
    "start_time": "2023-08-13T10:19:59.384Z"
   },
   {
    "duration": 3,
    "start_time": "2023-08-13T10:19:59.425Z"
   },
   {
    "duration": 5130,
    "start_time": "2023-08-13T10:19:59.513Z"
   },
   {
    "duration": 3701,
    "start_time": "2023-08-13T10:20:04.645Z"
   },
   {
    "duration": 3914,
    "start_time": "2023-08-13T10:20:08.347Z"
   },
   {
    "duration": 329,
    "start_time": "2023-08-13T10:20:12.263Z"
   },
   {
    "duration": 482,
    "start_time": "2023-08-13T10:20:12.594Z"
   },
   {
    "duration": 336,
    "start_time": "2023-08-13T10:20:13.078Z"
   },
   {
    "duration": 2519,
    "start_time": "2023-08-13T10:20:13.416Z"
   },
   {
    "duration": 121,
    "start_time": "2023-08-13T10:20:15.937Z"
   },
   {
    "duration": 703,
    "start_time": "2023-08-13T10:20:16.060Z"
   },
   {
    "duration": 114,
    "start_time": "2023-08-13T10:20:16.769Z"
   },
   {
    "duration": 27,
    "start_time": "2023-08-13T10:20:20.812Z"
   },
   {
    "duration": 548,
    "start_time": "2023-08-13T10:20:21.309Z"
   },
   {
    "duration": 14,
    "start_time": "2023-08-13T10:20:21.957Z"
   },
   {
    "duration": 37,
    "start_time": "2023-08-13T10:20:22.660Z"
   },
   {
    "duration": 571,
    "start_time": "2023-08-13T10:20:22.888Z"
   },
   {
    "duration": 101,
    "start_time": "2023-08-13T10:20:23.462Z"
   },
   {
    "duration": 3,
    "start_time": "2023-08-13T10:20:24.459Z"
   },
   {
    "duration": 4,
    "start_time": "2023-08-13T10:20:24.629Z"
   },
   {
    "duration": 7,
    "start_time": "2023-08-13T10:20:24.820Z"
   },
   {
    "duration": 4,
    "start_time": "2023-08-13T10:20:26.334Z"
   },
   {
    "duration": 6,
    "start_time": "2023-08-13T10:20:26.872Z"
   },
   {
    "duration": 6,
    "start_time": "2023-08-13T10:20:27.088Z"
   },
   {
    "duration": 7,
    "start_time": "2023-08-13T10:20:27.553Z"
   },
   {
    "duration": 288,
    "start_time": "2023-08-13T10:20:27.931Z"
   },
   {
    "duration": 4,
    "start_time": "2023-08-13T10:20:28.806Z"
   },
   {
    "duration": 5,
    "start_time": "2023-08-13T10:20:29.262Z"
   },
   {
    "duration": 1131,
    "start_time": "2023-08-13T10:20:30.031Z"
   },
   {
    "duration": 11,
    "start_time": "2023-08-13T10:20:40.154Z"
   },
   {
    "duration": 4,
    "start_time": "2023-08-13T10:20:45.635Z"
   },
   {
    "duration": 1171,
    "start_time": "2023-08-13T10:20:48.705Z"
   },
   {
    "duration": 12,
    "start_time": "2023-08-13T10:20:58.661Z"
   },
   {
    "duration": 6,
    "start_time": "2023-08-13T10:21:03.722Z"
   },
   {
    "duration": 3,
    "start_time": "2023-08-13T10:21:07.657Z"
   },
   {
    "duration": 2,
    "start_time": "2023-08-13T10:30:57.421Z"
   },
   {
    "duration": 4,
    "start_time": "2023-08-13T10:33:36.098Z"
   },
   {
    "duration": 27,
    "start_time": "2023-08-13T10:33:53.458Z"
   },
   {
    "duration": 5,
    "start_time": "2023-08-13T10:34:26.533Z"
   },
   {
    "duration": 457,
    "start_time": "2023-08-13T10:34:32.646Z"
   },
   {
    "duration": 4,
    "start_time": "2023-08-13T10:34:38.475Z"
   },
   {
    "duration": 475,
    "start_time": "2023-08-13T10:34:47.037Z"
   },
   {
    "duration": 4,
    "start_time": "2023-08-13T10:37:23.138Z"
   },
   {
    "duration": 5,
    "start_time": "2023-08-13T10:37:25.679Z"
   },
   {
    "duration": 451,
    "start_time": "2023-08-13T10:37:27.857Z"
   },
   {
    "duration": 5,
    "start_time": "2023-08-13T10:37:37.755Z"
   },
   {
    "duration": 551,
    "start_time": "2023-08-13T10:37:40.052Z"
   },
   {
    "duration": 5,
    "start_time": "2023-08-13T10:37:55.499Z"
   },
   {
    "duration": 448,
    "start_time": "2023-08-13T10:37:58.759Z"
   },
   {
    "duration": 62,
    "start_time": "2023-08-13T10:38:01.257Z"
   },
   {
    "duration": 56,
    "start_time": "2023-08-13T10:39:31.280Z"
   },
   {
    "duration": 155,
    "start_time": "2023-08-13T10:42:03.761Z"
   },
   {
    "duration": 3,
    "start_time": "2023-08-13T10:42:13.788Z"
   },
   {
    "duration": 5,
    "start_time": "2023-08-13T10:42:15.152Z"
   },
   {
    "duration": 3,
    "start_time": "2023-08-13T10:42:18.020Z"
   },
   {
    "duration": 494,
    "start_time": "2023-08-13T10:42:46.911Z"
   },
   {
    "duration": 633,
    "start_time": "2023-08-13T10:42:57.573Z"
   },
   {
    "duration": 726,
    "start_time": "2023-08-13T10:43:20.977Z"
   },
   {
    "duration": 619,
    "start_time": "2023-08-13T10:43:23.186Z"
   },
   {
    "duration": 649,
    "start_time": "2023-08-13T10:44:24.760Z"
   },
   {
    "duration": 686,
    "start_time": "2023-08-13T10:44:26.920Z"
   },
   {
    "duration": 684,
    "start_time": "2023-08-13T10:44:28.824Z"
   },
   {
    "duration": 3,
    "start_time": "2023-08-13T10:45:54.318Z"
   },
   {
    "duration": 5,
    "start_time": "2023-08-13T10:46:39.576Z"
   },
   {
    "duration": 641,
    "start_time": "2023-08-13T10:46:42.459Z"
   },
   {
    "duration": 756,
    "start_time": "2023-08-13T10:46:46.848Z"
   },
   {
    "duration": 735,
    "start_time": "2023-08-13T10:46:49.571Z"
   },
   {
    "duration": 1304,
    "start_time": "2023-08-13T10:47:48.698Z"
   },
   {
    "duration": 329,
    "start_time": "2023-08-13T10:47:50.004Z"
   },
   {
    "duration": 12,
    "start_time": "2023-08-13T10:47:50.334Z"
   },
   {
    "duration": 8,
    "start_time": "2023-08-13T10:47:50.347Z"
   },
   {
    "duration": 17,
    "start_time": "2023-08-13T10:47:50.356Z"
   },
   {
    "duration": 31,
    "start_time": "2023-08-13T10:47:50.374Z"
   },
   {
    "duration": 16,
    "start_time": "2023-08-13T10:47:50.406Z"
   },
   {
    "duration": 24,
    "start_time": "2023-08-13T10:47:50.424Z"
   },
   {
    "duration": 43,
    "start_time": "2023-08-13T10:47:50.450Z"
   },
   {
    "duration": 31,
    "start_time": "2023-08-13T10:47:50.495Z"
   },
   {
    "duration": 33,
    "start_time": "2023-08-13T10:47:50.527Z"
   },
   {
    "duration": 12,
    "start_time": "2023-08-13T10:47:50.561Z"
   },
   {
    "duration": 4221,
    "start_time": "2023-08-13T10:47:50.575Z"
   },
   {
    "duration": 3064,
    "start_time": "2023-08-13T10:47:54.799Z"
   },
   {
    "duration": 3281,
    "start_time": "2023-08-13T10:47:57.864Z"
   },
   {
    "duration": 289,
    "start_time": "2023-08-13T10:48:01.146Z"
   },
   {
    "duration": 383,
    "start_time": "2023-08-13T10:48:01.437Z"
   },
   {
    "duration": 272,
    "start_time": "2023-08-13T10:48:01.822Z"
   },
   {
    "duration": 2181,
    "start_time": "2023-08-13T10:48:02.100Z"
   },
   {
    "duration": 3,
    "start_time": "2023-08-13T10:48:04.282Z"
   },
   {
    "duration": 12,
    "start_time": "2023-08-13T10:48:04.287Z"
   },
   {
    "duration": 319,
    "start_time": "2023-08-13T10:48:04.301Z"
   },
   {
    "duration": 195,
    "start_time": "2023-08-13T10:48:04.621Z"
   },
   {
    "duration": 190,
    "start_time": "2023-08-13T10:48:04.818Z"
   },
   {
    "duration": 2,
    "start_time": "2023-08-13T10:48:05.010Z"
   },
   {
    "duration": 38,
    "start_time": "2023-08-13T10:48:05.014Z"
   },
   {
    "duration": 9,
    "start_time": "2023-08-13T10:48:05.054Z"
   },
   {
    "duration": 7,
    "start_time": "2023-08-13T10:48:05.066Z"
   },
   {
    "duration": 14,
    "start_time": "2023-08-13T10:48:05.074Z"
   },
   {
    "duration": 0,
    "start_time": "2023-08-13T10:48:05.090Z"
   },
   {
    "duration": 0,
    "start_time": "2023-08-13T10:48:05.091Z"
   },
   {
    "duration": 0,
    "start_time": "2023-08-13T10:48:05.092Z"
   },
   {
    "duration": 0,
    "start_time": "2023-08-13T10:48:05.093Z"
   },
   {
    "duration": 0,
    "start_time": "2023-08-13T10:48:05.094Z"
   },
   {
    "duration": 0,
    "start_time": "2023-08-13T10:48:05.096Z"
   },
   {
    "duration": 5,
    "start_time": "2023-08-13T10:48:23.427Z"
   },
   {
    "duration": 695,
    "start_time": "2023-08-13T10:48:25.315Z"
   },
   {
    "duration": 4,
    "start_time": "2023-08-13T10:48:34.306Z"
   },
   {
    "duration": 586,
    "start_time": "2023-08-13T10:48:36.617Z"
   },
   {
    "duration": 447,
    "start_time": "2023-08-13T10:48:39.667Z"
   },
   {
    "duration": 462,
    "start_time": "2023-08-13T10:48:42.546Z"
   },
   {
    "duration": 7,
    "start_time": "2023-08-13T10:54:52.050Z"
   },
   {
    "duration": 452,
    "start_time": "2023-08-13T10:58:11.649Z"
   },
   {
    "duration": 4,
    "start_time": "2023-08-13T10:59:27.048Z"
   },
   {
    "duration": 332,
    "start_time": "2023-08-13T10:59:28.369Z"
   },
   {
    "duration": 447,
    "start_time": "2023-08-13T10:59:31.560Z"
   },
   {
    "duration": 515,
    "start_time": "2023-08-13T10:59:33.889Z"
   },
   {
    "duration": 630,
    "start_time": "2023-08-13T10:59:39.871Z"
   },
   {
    "duration": 3,
    "start_time": "2023-08-13T11:00:15.796Z"
   },
   {
    "duration": 574,
    "start_time": "2023-08-13T11:00:27.727Z"
   },
   {
    "duration": 621,
    "start_time": "2023-08-13T11:01:05.582Z"
   },
   {
    "duration": 461,
    "start_time": "2023-08-13T11:02:03.550Z"
   },
   {
    "duration": 538,
    "start_time": "2023-08-13T11:02:05.662Z"
   },
   {
    "duration": 3,
    "start_time": "2023-08-13T11:02:51.891Z"
   },
   {
    "duration": 583,
    "start_time": "2023-08-13T11:02:53.117Z"
   },
   {
    "duration": 4,
    "start_time": "2023-08-13T11:04:18.527Z"
   },
   {
    "duration": 2059,
    "start_time": "2023-08-13T11:04:19.645Z"
   },
   {
    "duration": 1961,
    "start_time": "2023-08-13T11:04:57.641Z"
   },
   {
    "duration": 4,
    "start_time": "2023-08-13T11:05:09.320Z"
   },
   {
    "duration": 1319,
    "start_time": "2023-08-13T11:08:45.461Z"
   },
   {
    "duration": 323,
    "start_time": "2023-08-13T11:08:46.781Z"
   },
   {
    "duration": 11,
    "start_time": "2023-08-13T11:08:47.106Z"
   },
   {
    "duration": 7,
    "start_time": "2023-08-13T11:08:47.119Z"
   },
   {
    "duration": 10,
    "start_time": "2023-08-13T11:08:47.127Z"
   },
   {
    "duration": 21,
    "start_time": "2023-08-13T11:08:47.138Z"
   },
   {
    "duration": 16,
    "start_time": "2023-08-13T11:08:47.160Z"
   },
   {
    "duration": 35,
    "start_time": "2023-08-13T11:08:47.178Z"
   },
   {
    "duration": 38,
    "start_time": "2023-08-13T11:08:47.214Z"
   },
   {
    "duration": 51,
    "start_time": "2023-08-13T11:08:47.255Z"
   },
   {
    "duration": 33,
    "start_time": "2023-08-13T11:08:47.307Z"
   },
   {
    "duration": 3,
    "start_time": "2023-08-13T11:08:47.342Z"
   },
   {
    "duration": 4386,
    "start_time": "2023-08-13T11:08:47.346Z"
   },
   {
    "duration": 3165,
    "start_time": "2023-08-13T11:08:51.733Z"
   },
   {
    "duration": 3502,
    "start_time": "2023-08-13T11:08:54.899Z"
   },
   {
    "duration": 299,
    "start_time": "2023-08-13T11:08:58.403Z"
   },
   {
    "duration": 389,
    "start_time": "2023-08-13T11:08:58.704Z"
   },
   {
    "duration": 293,
    "start_time": "2023-08-13T11:08:59.099Z"
   },
   {
    "duration": 2227,
    "start_time": "2023-08-13T11:08:59.394Z"
   },
   {
    "duration": 5,
    "start_time": "2023-08-13T11:09:01.622Z"
   },
   {
    "duration": 36,
    "start_time": "2023-08-13T11:09:01.628Z"
   },
   {
    "duration": 639,
    "start_time": "2023-08-13T11:09:01.665Z"
   },
   {
    "duration": 698,
    "start_time": "2023-08-13T11:09:02.306Z"
   },
   {
    "duration": 702,
    "start_time": "2023-08-13T11:09:03.005Z"
   },
   {
    "duration": 92,
    "start_time": "2023-08-13T11:09:03.708Z"
   },
   {
    "duration": 23,
    "start_time": "2023-08-13T11:09:03.801Z"
   },
   {
    "duration": 5,
    "start_time": "2023-08-13T11:09:03.900Z"
   },
   {
    "duration": 85728,
    "start_time": "2023-08-13T11:09:03.908Z"
   },
   {
    "duration": 5,
    "start_time": "2023-08-13T11:10:29.637Z"
   },
   {
    "duration": 22,
    "start_time": "2023-08-13T11:10:29.644Z"
   },
   {
    "duration": 105,
    "start_time": "2023-08-13T11:10:29.667Z"
   },
   {
    "duration": 0,
    "start_time": "2023-08-13T11:10:29.773Z"
   },
   {
    "duration": 0,
    "start_time": "2023-08-13T11:10:29.775Z"
   },
   {
    "duration": 0,
    "start_time": "2023-08-13T11:10:29.776Z"
   },
   {
    "duration": 0,
    "start_time": "2023-08-13T11:10:29.777Z"
   },
   {
    "duration": 0,
    "start_time": "2023-08-13T11:10:29.778Z"
   },
   {
    "duration": 0,
    "start_time": "2023-08-13T11:10:29.779Z"
   },
   {
    "duration": 4,
    "start_time": "2023-08-13T11:11:51.541Z"
   },
   {
    "duration": 1760,
    "start_time": "2023-08-13T11:11:53.749Z"
   },
   {
    "duration": 1955,
    "start_time": "2023-08-13T11:13:31.152Z"
   },
   {
    "duration": 0,
    "start_time": "2023-08-13T11:13:33.199Z"
   },
   {
    "duration": 3,
    "start_time": "2023-08-13T11:13:35.137Z"
   },
   {
    "duration": 1818,
    "start_time": "2023-08-13T11:13:36.285Z"
   },
   {
    "duration": 6,
    "start_time": "2023-08-13T11:15:24.178Z"
   },
   {
    "duration": 517,
    "start_time": "2023-08-13T11:15:26.988Z"
   },
   {
    "duration": 350,
    "start_time": "2023-08-13T11:15:35.660Z"
   },
   {
    "duration": 455,
    "start_time": "2023-08-13T11:15:37.551Z"
   },
   {
    "duration": 4,
    "start_time": "2023-08-13T11:16:07.052Z"
   },
   {
    "duration": 10,
    "start_time": "2023-08-13T11:16:08.504Z"
   },
   {
    "duration": 9,
    "start_time": "2023-08-13T11:16:42.121Z"
   },
   {
    "duration": 2280,
    "start_time": "2023-08-13T11:18:00.828Z"
   },
   {
    "duration": 1839,
    "start_time": "2023-08-13T11:18:52.661Z"
   },
   {
    "duration": 541,
    "start_time": "2023-08-13T11:24:06.663Z"
   },
   {
    "duration": 2736,
    "start_time": "2023-08-13T11:30:26.576Z"
   },
   {
    "duration": 3,
    "start_time": "2023-08-13T11:31:15.857Z"
   },
   {
    "duration": 27,
    "start_time": "2023-08-13T11:31:56.043Z"
   },
   {
    "duration": 4,
    "start_time": "2023-08-13T11:32:52.986Z"
   },
   {
    "duration": 15,
    "start_time": "2023-08-13T11:33:03.518Z"
   },
   {
    "duration": 254,
    "start_time": "2023-08-13T11:33:22.596Z"
   },
   {
    "duration": 20,
    "start_time": "2023-08-13T11:33:41.343Z"
   },
   {
    "duration": 245,
    "start_time": "2023-08-13T11:33:50.889Z"
   },
   {
    "duration": 257,
    "start_time": "2023-08-13T11:34:19.290Z"
   },
   {
    "duration": 4,
    "start_time": "2023-08-13T11:36:28.884Z"
   },
   {
    "duration": 11,
    "start_time": "2023-08-13T11:36:33.241Z"
   },
   {
    "duration": 4,
    "start_time": "2023-08-13T11:39:17.937Z"
   },
   {
    "duration": 400,
    "start_time": "2023-08-13T11:40:00.852Z"
   },
   {
    "duration": 391,
    "start_time": "2023-08-13T11:40:22.841Z"
   },
   {
    "duration": 413,
    "start_time": "2023-08-13T11:40:29.116Z"
   },
   {
    "duration": 3,
    "start_time": "2023-08-13T11:40:42.240Z"
   },
   {
    "duration": 3,
    "start_time": "2023-08-13T11:40:55.341Z"
   },
   {
    "duration": 4,
    "start_time": "2023-08-13T11:41:37.458Z"
   },
   {
    "duration": 5,
    "start_time": "2023-08-13T11:41:39.167Z"
   },
   {
    "duration": 4,
    "start_time": "2023-08-13T11:41:54.292Z"
   },
   {
    "duration": 4,
    "start_time": "2023-08-13T11:43:15.911Z"
   },
   {
    "duration": 9,
    "start_time": "2023-08-13T11:43:39.062Z"
   },
   {
    "duration": 4,
    "start_time": "2023-08-13T11:43:56.117Z"
   },
   {
    "duration": 4,
    "start_time": "2023-08-13T11:44:16.112Z"
   },
   {
    "duration": 4,
    "start_time": "2023-08-13T11:45:11.991Z"
   },
   {
    "duration": 4,
    "start_time": "2023-08-13T11:45:15.190Z"
   },
   {
    "duration": 4,
    "start_time": "2023-08-13T11:45:17.279Z"
   },
   {
    "duration": 4,
    "start_time": "2023-08-13T11:58:16.763Z"
   },
   {
    "duration": 3,
    "start_time": "2023-08-13T11:58:19.760Z"
   },
   {
    "duration": 2,
    "start_time": "2023-08-13T11:58:20.873Z"
   },
   {
    "duration": 381,
    "start_time": "2023-08-13T11:58:22.540Z"
   },
   {
    "duration": 4,
    "start_time": "2023-08-13T11:58:23.988Z"
   },
   {
    "duration": 5,
    "start_time": "2023-08-13T11:58:25.918Z"
   },
   {
    "duration": 3,
    "start_time": "2023-08-13T11:58:27.761Z"
   },
   {
    "duration": 4,
    "start_time": "2023-08-13T11:58:28.935Z"
   },
   {
    "duration": 3,
    "start_time": "2023-08-13T11:59:42.534Z"
   },
   {
    "duration": 4,
    "start_time": "2023-08-13T11:59:43.540Z"
   },
   {
    "duration": 3,
    "start_time": "2023-08-13T11:59:44.924Z"
   },
   {
    "duration": 454,
    "start_time": "2023-08-13T11:59:46.040Z"
   },
   {
    "duration": 5,
    "start_time": "2023-08-13T11:59:47.964Z"
   },
   {
    "duration": 3,
    "start_time": "2023-08-13T11:59:49.322Z"
   },
   {
    "duration": 4,
    "start_time": "2023-08-13T11:59:50.798Z"
   },
   {
    "duration": 5,
    "start_time": "2023-08-13T11:59:51.843Z"
   },
   {
    "duration": 11,
    "start_time": "2023-08-13T12:02:22.926Z"
   },
   {
    "duration": 11,
    "start_time": "2023-08-13T12:03:00.274Z"
   },
   {
    "duration": 12,
    "start_time": "2023-08-13T12:03:37.971Z"
   },
   {
    "duration": 18,
    "start_time": "2023-08-13T12:04:22.140Z"
   },
   {
    "duration": 17,
    "start_time": "2023-08-13T12:05:07.021Z"
   },
   {
    "duration": 1832,
    "start_time": "2023-08-13T12:07:27.770Z"
   },
   {
    "duration": 3,
    "start_time": "2023-08-13T12:07:31.106Z"
   },
   {
    "duration": 6,
    "start_time": "2023-08-13T12:07:45.052Z"
   },
   {
    "duration": 7,
    "start_time": "2023-08-13T12:08:06.393Z"
   },
   {
    "duration": 7,
    "start_time": "2023-08-13T12:08:07.956Z"
   },
   {
    "duration": 274,
    "start_time": "2023-08-13T12:08:36.354Z"
   },
   {
    "duration": 5,
    "start_time": "2023-08-13T12:16:44.711Z"
   },
   {
    "duration": 21,
    "start_time": "2023-08-13T12:16:53.659Z"
   },
   {
    "duration": 6,
    "start_time": "2023-08-13T12:19:23.214Z"
   },
   {
    "duration": 6,
    "start_time": "2023-08-13T12:19:55.517Z"
   },
   {
    "duration": 24,
    "start_time": "2023-08-13T12:20:09.015Z"
   },
   {
    "duration": 22,
    "start_time": "2023-08-13T12:20:47.060Z"
   },
   {
    "duration": 28,
    "start_time": "2023-08-13T12:21:07.590Z"
   },
   {
    "duration": 4,
    "start_time": "2023-08-13T12:31:14.424Z"
   },
   {
    "duration": 4,
    "start_time": "2023-08-13T12:31:15.818Z"
   },
   {
    "duration": 1035,
    "start_time": "2023-08-13T12:31:22.348Z"
   },
   {
    "duration": 1043,
    "start_time": "2023-08-13T12:31:33.884Z"
   },
   {
    "duration": 1040,
    "start_time": "2023-08-13T12:32:22.522Z"
   },
   {
    "duration": 1065,
    "start_time": "2023-08-13T12:32:35.705Z"
   },
   {
    "duration": 5,
    "start_time": "2023-08-13T12:35:36.221Z"
   },
   {
    "duration": 2,
    "start_time": "2023-08-13T12:35:37.987Z"
   },
   {
    "duration": 1044,
    "start_time": "2023-08-13T12:36:41.579Z"
   },
   {
    "duration": 1338,
    "start_time": "2023-08-13T13:46:03.657Z"
   },
   {
    "duration": 374,
    "start_time": "2023-08-13T13:46:04.997Z"
   },
   {
    "duration": 16,
    "start_time": "2023-08-13T13:46:05.373Z"
   },
   {
    "duration": 24,
    "start_time": "2023-08-13T13:46:05.400Z"
   },
   {
    "duration": 12,
    "start_time": "2023-08-13T13:46:05.427Z"
   },
   {
    "duration": 39,
    "start_time": "2023-08-13T13:46:05.441Z"
   },
   {
    "duration": 30,
    "start_time": "2023-08-13T13:46:05.482Z"
   },
   {
    "duration": 26,
    "start_time": "2023-08-13T13:46:05.515Z"
   },
   {
    "duration": 42,
    "start_time": "2023-08-13T13:46:05.542Z"
   },
   {
    "duration": 39,
    "start_time": "2023-08-13T13:46:05.600Z"
   },
   {
    "duration": 37,
    "start_time": "2023-08-13T13:46:05.640Z"
   },
   {
    "duration": 24,
    "start_time": "2023-08-13T13:46:05.678Z"
   },
   {
    "duration": 4943,
    "start_time": "2023-08-13T13:46:05.704Z"
   },
   {
    "duration": 3502,
    "start_time": "2023-08-13T13:46:10.650Z"
   },
   {
    "duration": 3739,
    "start_time": "2023-08-13T13:46:14.154Z"
   },
   {
    "duration": 330,
    "start_time": "2023-08-13T13:46:17.895Z"
   },
   {
    "duration": 391,
    "start_time": "2023-08-13T13:46:18.227Z"
   },
   {
    "duration": 284,
    "start_time": "2023-08-13T13:46:18.620Z"
   },
   {
    "duration": 2187,
    "start_time": "2023-08-13T13:46:18.906Z"
   },
   {
    "duration": 5,
    "start_time": "2023-08-13T13:46:21.095Z"
   },
   {
    "duration": 17,
    "start_time": "2023-08-13T13:46:21.101Z"
   },
   {
    "duration": 486,
    "start_time": "2023-08-13T13:46:21.119Z"
   },
   {
    "duration": 694,
    "start_time": "2023-08-13T13:46:21.607Z"
   },
   {
    "duration": 411,
    "start_time": "2023-08-13T13:46:22.303Z"
   },
   {
    "duration": 3,
    "start_time": "2023-08-13T13:46:22.801Z"
   },
   {
    "duration": 92,
    "start_time": "2023-08-13T13:46:22.809Z"
   },
   {
    "duration": 10,
    "start_time": "2023-08-13T13:46:22.903Z"
   },
   {
    "duration": 1695,
    "start_time": "2023-08-13T13:46:22.914Z"
   },
   {
    "duration": 86,
    "start_time": "2023-08-13T13:46:24.614Z"
   },
   {
    "duration": 12,
    "start_time": "2023-08-13T13:46:24.702Z"
   },
   {
    "duration": 12,
    "start_time": "2023-08-13T13:46:24.715Z"
   },
   {
    "duration": 73,
    "start_time": "2023-08-13T13:46:24.728Z"
   },
   {
    "duration": 250,
    "start_time": "2023-08-13T13:46:24.802Z"
   },
   {
    "duration": 3,
    "start_time": "2023-08-13T13:46:25.054Z"
   },
   {
    "duration": 30,
    "start_time": "2023-08-13T13:46:25.058Z"
   },
   {
    "duration": 15,
    "start_time": "2023-08-13T13:46:25.100Z"
   },
   {
    "duration": 187,
    "start_time": "2023-08-13T13:46:25.118Z"
   },
   {
    "duration": 0,
    "start_time": "2023-08-13T13:46:25.306Z"
   },
   {
    "duration": 0,
    "start_time": "2023-08-13T13:46:25.307Z"
   },
   {
    "duration": 0,
    "start_time": "2023-08-13T13:46:25.309Z"
   },
   {
    "duration": 0,
    "start_time": "2023-08-13T13:46:25.310Z"
   },
   {
    "duration": 4,
    "start_time": "2023-08-13T13:46:48.656Z"
   },
   {
    "duration": 8,
    "start_time": "2023-08-13T13:47:46.782Z"
   },
   {
    "duration": 18315,
    "start_time": "2023-08-14T06:21:18.100Z"
   },
   {
    "duration": 1719,
    "start_time": "2023-08-14T06:21:36.417Z"
   },
   {
    "duration": 17,
    "start_time": "2023-08-14T06:21:38.138Z"
   },
   {
    "duration": 29,
    "start_time": "2023-08-14T06:21:38.160Z"
   },
   {
    "duration": 13,
    "start_time": "2023-08-14T06:21:38.190Z"
   },
   {
    "duration": 27,
    "start_time": "2023-08-14T06:21:38.205Z"
   },
   {
    "duration": 18,
    "start_time": "2023-08-14T06:21:38.233Z"
   },
   {
    "duration": 25,
    "start_time": "2023-08-14T06:21:38.253Z"
   },
   {
    "duration": 52,
    "start_time": "2023-08-14T06:21:38.281Z"
   },
   {
    "duration": 58,
    "start_time": "2023-08-14T06:21:38.335Z"
   },
   {
    "duration": 40,
    "start_time": "2023-08-14T06:21:38.395Z"
   },
   {
    "duration": 25,
    "start_time": "2023-08-14T06:21:38.437Z"
   },
   {
    "duration": 5381,
    "start_time": "2023-08-14T06:21:38.464Z"
   },
   {
    "duration": 3978,
    "start_time": "2023-08-14T06:21:43.846Z"
   },
   {
    "duration": 4401,
    "start_time": "2023-08-14T06:21:47.827Z"
   },
   {
    "duration": 365,
    "start_time": "2023-08-14T06:21:52.230Z"
   },
   {
    "duration": 520,
    "start_time": "2023-08-14T06:21:52.596Z"
   },
   {
    "duration": 366,
    "start_time": "2023-08-14T06:21:53.118Z"
   },
   {
    "duration": 2600,
    "start_time": "2023-08-14T06:21:53.486Z"
   },
   {
    "duration": 4,
    "start_time": "2023-08-14T06:21:56.089Z"
   },
   {
    "duration": 10,
    "start_time": "2023-08-14T06:21:56.095Z"
   },
   {
    "duration": 560,
    "start_time": "2023-08-14T06:21:56.107Z"
   },
   {
    "duration": 599,
    "start_time": "2023-08-14T06:21:56.669Z"
   },
   {
    "duration": 592,
    "start_time": "2023-08-14T06:21:57.269Z"
   },
   {
    "duration": 4,
    "start_time": "2023-08-14T06:21:57.863Z"
   },
   {
    "duration": 92,
    "start_time": "2023-08-14T06:21:57.869Z"
   },
   {
    "duration": 9,
    "start_time": "2023-08-14T06:21:57.963Z"
   },
   {
    "duration": 2087,
    "start_time": "2023-08-14T06:21:57.976Z"
   },
   {
    "duration": 94,
    "start_time": "2023-08-14T06:22:00.065Z"
   },
   {
    "duration": 31,
    "start_time": "2023-08-14T06:22:00.161Z"
   },
   {
    "duration": 19,
    "start_time": "2023-08-14T06:22:00.194Z"
   },
   {
    "duration": 50,
    "start_time": "2023-08-14T06:22:00.215Z"
   },
   {
    "duration": 349,
    "start_time": "2023-08-14T06:22:00.267Z"
   },
   {
    "duration": 4,
    "start_time": "2023-08-14T06:22:00.618Z"
   },
   {
    "duration": 46,
    "start_time": "2023-08-14T06:22:00.624Z"
   },
   {
    "duration": 57,
    "start_time": "2023-08-14T06:22:00.672Z"
   },
   {
    "duration": 49,
    "start_time": "2023-08-14T06:22:00.731Z"
   },
   {
    "duration": 59,
    "start_time": "2023-08-14T06:22:00.782Z"
   },
   {
    "duration": 1193,
    "start_time": "2023-08-14T06:22:00.843Z"
   },
   {
    "duration": 1194,
    "start_time": "2023-08-14T06:22:02.039Z"
   },
   {
    "duration": 1664,
    "start_time": "2023-08-14T07:06:07.610Z"
   },
   {
    "duration": 791,
    "start_time": "2023-08-14T07:06:09.276Z"
   },
   {
    "duration": 15,
    "start_time": "2023-08-14T07:06:10.068Z"
   },
   {
    "duration": 24,
    "start_time": "2023-08-14T07:06:10.085Z"
   },
   {
    "duration": 29,
    "start_time": "2023-08-14T07:06:10.110Z"
   },
   {
    "duration": 30,
    "start_time": "2023-08-14T07:06:10.140Z"
   },
   {
    "duration": 20,
    "start_time": "2023-08-14T07:06:10.172Z"
   },
   {
    "duration": 29,
    "start_time": "2023-08-14T07:06:10.194Z"
   },
   {
    "duration": 43,
    "start_time": "2023-08-14T07:06:10.225Z"
   },
   {
    "duration": 61,
    "start_time": "2023-08-14T07:06:10.271Z"
   },
   {
    "duration": 37,
    "start_time": "2023-08-14T07:06:10.334Z"
   },
   {
    "duration": 4,
    "start_time": "2023-08-14T07:06:10.374Z"
   },
   {
    "duration": 5370,
    "start_time": "2023-08-14T07:06:10.396Z"
   },
   {
    "duration": 3773,
    "start_time": "2023-08-14T07:06:15.769Z"
   },
   {
    "duration": 3986,
    "start_time": "2023-08-14T07:06:19.544Z"
   },
   {
    "duration": 336,
    "start_time": "2023-08-14T07:06:23.532Z"
   },
   {
    "duration": 497,
    "start_time": "2023-08-14T07:06:23.870Z"
   },
   {
    "duration": 383,
    "start_time": "2023-08-14T07:06:24.369Z"
   },
   {
    "duration": 2494,
    "start_time": "2023-08-14T07:06:24.754Z"
   },
   {
    "duration": 4,
    "start_time": "2023-08-14T07:06:27.250Z"
   },
   {
    "duration": 32,
    "start_time": "2023-08-14T07:06:27.255Z"
   },
   {
    "duration": 816,
    "start_time": "2023-08-14T07:06:27.288Z"
   },
   {
    "duration": 708,
    "start_time": "2023-08-14T07:06:28.196Z"
   },
   {
    "duration": 904,
    "start_time": "2023-08-14T07:06:28.997Z"
   },
   {
    "duration": 90,
    "start_time": "2023-08-14T07:06:29.906Z"
   },
   {
    "duration": 15,
    "start_time": "2023-08-14T07:06:29.998Z"
   },
   {
    "duration": 59,
    "start_time": "2023-08-14T07:06:30.015Z"
   },
   {
    "duration": 2623,
    "start_time": "2023-08-14T07:06:30.078Z"
   },
   {
    "duration": 98,
    "start_time": "2023-08-14T07:06:32.703Z"
   },
   {
    "duration": 109,
    "start_time": "2023-08-14T07:06:32.807Z"
   },
   {
    "duration": 29,
    "start_time": "2023-08-14T07:06:32.917Z"
   },
   {
    "duration": 46,
    "start_time": "2023-08-14T07:06:32.948Z"
   },
   {
    "duration": 267,
    "start_time": "2023-08-14T07:06:32.996Z"
   },
   {
    "duration": 4,
    "start_time": "2023-08-14T07:06:33.265Z"
   },
   {
    "duration": 7,
    "start_time": "2023-08-14T07:06:33.271Z"
   },
   {
    "duration": 26,
    "start_time": "2023-08-14T07:06:33.279Z"
   },
   {
    "duration": 15,
    "start_time": "2023-08-14T07:06:33.307Z"
   },
   {
    "duration": 9,
    "start_time": "2023-08-14T07:06:33.324Z"
   },
   {
    "duration": 1135,
    "start_time": "2023-08-14T07:06:33.334Z"
   },
   {
    "duration": 1164,
    "start_time": "2023-08-14T07:06:34.472Z"
   },
   {
    "duration": 4,
    "start_time": "2023-08-14T07:11:34.278Z"
   },
   {
    "duration": 5,
    "start_time": "2023-08-14T07:12:39.887Z"
   },
   {
    "duration": 116,
    "start_time": "2023-08-14T07:12:58.034Z"
   },
   {
    "duration": 4,
    "start_time": "2023-08-14T07:13:20.028Z"
   },
   {
    "duration": 396343,
    "start_time": "2023-08-14T07:13:21.821Z"
   },
   {
    "duration": 3,
    "start_time": "2023-08-14T07:20:30.494Z"
   },
   {
    "duration": 13,
    "start_time": "2023-08-14T07:20:32.146Z"
   },
   {
    "duration": 3,
    "start_time": "2023-08-14T07:22:02.349Z"
   },
   {
    "duration": 26,
    "start_time": "2023-08-14T07:22:04.274Z"
   },
   {
    "duration": 3,
    "start_time": "2023-08-14T07:23:48.442Z"
   },
   {
    "duration": 8,
    "start_time": "2023-08-14T07:23:50.059Z"
   },
   {
    "duration": 9,
    "start_time": "2023-08-14T07:23:55.852Z"
   },
   {
    "duration": 9,
    "start_time": "2023-08-14T07:23:59.138Z"
   },
   {
    "duration": 19,
    "start_time": "2023-08-14T07:24:01.796Z"
   },
   {
    "duration": 298,
    "start_time": "2023-08-14T07:24:16.771Z"
   },
   {
    "duration": 4,
    "start_time": "2023-08-14T07:25:06.554Z"
   },
   {
    "duration": 4,
    "start_time": "2023-08-14T07:25:27.234Z"
   },
   {
    "duration": 3,
    "start_time": "2023-08-14T07:25:28.321Z"
   },
   {
    "duration": 2988,
    "start_time": "2023-08-14T07:26:19.874Z"
   },
   {
    "duration": 4,
    "start_time": "2023-08-14T07:32:32.126Z"
   },
   {
    "duration": 631,
    "start_time": "2023-08-14T07:32:33.643Z"
   },
   {
    "duration": 645,
    "start_time": "2023-08-14T07:34:27.618Z"
   },
   {
    "duration": 5,
    "start_time": "2023-08-14T07:34:37.717Z"
   },
   {
    "duration": 677,
    "start_time": "2023-08-14T07:34:39.068Z"
   },
   {
    "duration": 661,
    "start_time": "2023-08-14T07:34:47.933Z"
   },
   {
    "duration": 648,
    "start_time": "2023-08-14T07:35:03.269Z"
   },
   {
    "duration": 661,
    "start_time": "2023-08-14T07:35:31.116Z"
   },
   {
    "duration": 662,
    "start_time": "2023-08-14T07:35:48.545Z"
   },
   {
    "duration": 6,
    "start_time": "2023-08-14T07:36:21.415Z"
   },
   {
    "duration": 652,
    "start_time": "2023-08-14T07:36:24.809Z"
   },
   {
    "duration": 773,
    "start_time": "2023-08-14T07:36:28.299Z"
   },
   {
    "duration": 639,
    "start_time": "2023-08-14T07:36:30.792Z"
   },
   {
    "duration": 5,
    "start_time": "2023-08-14T07:38:16.319Z"
   },
   {
    "duration": 716,
    "start_time": "2023-08-14T07:38:29.820Z"
   },
   {
    "duration": 6,
    "start_time": "2023-08-14T07:39:26.007Z"
   },
   {
    "duration": 6,
    "start_time": "2023-08-14T07:39:37.042Z"
   },
   {
    "duration": 9,
    "start_time": "2023-08-14T07:39:46.205Z"
   },
   {
    "duration": 225,
    "start_time": "2023-08-14T07:39:55.126Z"
   },
   {
    "duration": 4,
    "start_time": "2023-08-14T07:40:03.203Z"
   },
   {
    "duration": 4,
    "start_time": "2023-08-14T07:40:10.693Z"
   },
   {
    "duration": 4,
    "start_time": "2023-08-14T07:40:16.419Z"
   },
   {
    "duration": 7,
    "start_time": "2023-08-14T07:41:29.315Z"
   },
   {
    "duration": 8,
    "start_time": "2023-08-14T07:41:38.560Z"
   },
   {
    "duration": 7,
    "start_time": "2023-08-14T07:41:45.109Z"
   },
   {
    "duration": 300,
    "start_time": "2023-08-14T07:41:49.539Z"
   },
   {
    "duration": 4,
    "start_time": "2023-08-14T07:41:54.875Z"
   },
   {
    "duration": 4,
    "start_time": "2023-08-14T07:41:56.123Z"
   },
   {
    "duration": 5,
    "start_time": "2023-08-14T07:41:57.326Z"
   },
   {
    "duration": 4,
    "start_time": "2023-08-14T07:41:58.869Z"
   },
   {
    "duration": 10,
    "start_time": "2023-08-14T07:42:01.121Z"
   },
   {
    "duration": 1015,
    "start_time": "2023-08-14T07:42:16.737Z"
   },
   {
    "duration": 8,
    "start_time": "2023-08-14T07:42:33.642Z"
   },
   {
    "duration": 7,
    "start_time": "2023-08-14T07:42:36.116Z"
   },
   {
    "duration": 7,
    "start_time": "2023-08-14T07:42:37.456Z"
   },
   {
    "duration": 302,
    "start_time": "2023-08-14T07:42:40.455Z"
   },
   {
    "duration": 5,
    "start_time": "2023-08-14T07:42:44.194Z"
   },
   {
    "duration": 5,
    "start_time": "2023-08-14T07:42:45.414Z"
   },
   {
    "duration": 6,
    "start_time": "2023-08-14T07:42:46.541Z"
   },
   {
    "duration": 5,
    "start_time": "2023-08-14T07:42:48.343Z"
   },
   {
    "duration": 4,
    "start_time": "2023-08-14T07:42:53.083Z"
   },
   {
    "duration": 656,
    "start_time": "2023-08-14T07:42:54.259Z"
   },
   {
    "duration": 650,
    "start_time": "2023-08-14T07:43:32.309Z"
   },
   {
    "duration": 7,
    "start_time": "2023-08-14T07:43:48.636Z"
   },
   {
    "duration": 8,
    "start_time": "2023-08-14T07:43:51.285Z"
   },
   {
    "duration": 7,
    "start_time": "2023-08-14T07:43:55.504Z"
   },
   {
    "duration": 3,
    "start_time": "2023-08-14T07:43:59.969Z"
   },
   {
    "duration": 5,
    "start_time": "2023-08-14T07:44:01.012Z"
   },
   {
    "duration": 4,
    "start_time": "2023-08-14T07:44:02.227Z"
   },
   {
    "duration": 4,
    "start_time": "2023-08-14T07:44:03.403Z"
   },
   {
    "duration": 909,
    "start_time": "2023-08-14T07:44:05.769Z"
   },
   {
    "duration": 7,
    "start_time": "2023-08-14T07:45:13.074Z"
   },
   {
    "duration": 8,
    "start_time": "2023-08-14T07:45:14.299Z"
   },
   {
    "duration": 8,
    "start_time": "2023-08-14T07:45:15.390Z"
   },
   {
    "duration": 222,
    "start_time": "2023-08-14T07:45:18.020Z"
   },
   {
    "duration": 4,
    "start_time": "2023-08-14T07:45:23.871Z"
   },
   {
    "duration": 5,
    "start_time": "2023-08-14T07:45:25.088Z"
   },
   {
    "duration": 4,
    "start_time": "2023-08-14T07:45:26.254Z"
   },
   {
    "duration": 5,
    "start_time": "2023-08-14T07:45:27.957Z"
   },
   {
    "duration": 6,
    "start_time": "2023-08-14T07:45:29.554Z"
   },
   {
    "duration": 648,
    "start_time": "2023-08-14T07:45:30.753Z"
   },
   {
    "duration": 653,
    "start_time": "2023-08-14T07:45:43.523Z"
   },
   {
    "duration": 4,
    "start_time": "2023-08-14T07:45:45.211Z"
   },
   {
    "duration": 680,
    "start_time": "2023-08-14T07:45:46.362Z"
   },
   {
    "duration": 5,
    "start_time": "2023-08-14T07:45:51.060Z"
   },
   {
    "duration": 659,
    "start_time": "2023-08-14T07:45:52.508Z"
   },
   {
    "duration": 10,
    "start_time": "2023-08-14T07:45:55.347Z"
   },
   {
    "duration": 663,
    "start_time": "2023-08-14T07:46:04.400Z"
   },
   {
    "duration": 642,
    "start_time": "2023-08-14T07:46:21.659Z"
   },
   {
    "duration": 634,
    "start_time": "2023-08-14T07:46:29.507Z"
   },
   {
    "duration": 4,
    "start_time": "2023-08-14T07:47:37.568Z"
   },
   {
    "duration": 3050,
    "start_time": "2023-08-14T07:47:38.694Z"
   },
   {
    "duration": 6757,
    "start_time": "2023-08-15T06:11:53.914Z"
   },
   {
    "duration": 1648,
    "start_time": "2023-08-15T06:12:00.674Z"
   },
   {
    "duration": 15,
    "start_time": "2023-08-15T06:12:02.324Z"
   },
   {
    "duration": 69,
    "start_time": "2023-08-15T06:12:02.342Z"
   },
   {
    "duration": 77,
    "start_time": "2023-08-15T06:12:02.413Z"
   },
   {
    "duration": 156,
    "start_time": "2023-08-15T06:12:02.493Z"
   },
   {
    "duration": 35,
    "start_time": "2023-08-15T06:12:02.651Z"
   },
   {
    "duration": 64,
    "start_time": "2023-08-15T06:12:02.688Z"
   },
   {
    "duration": 154,
    "start_time": "2023-08-15T06:12:02.754Z"
   },
   {
    "duration": 46,
    "start_time": "2023-08-15T06:12:02.911Z"
   },
   {
    "duration": 43,
    "start_time": "2023-08-15T06:12:02.959Z"
   },
   {
    "duration": 3,
    "start_time": "2023-08-15T06:12:03.003Z"
   },
   {
    "duration": 4910,
    "start_time": "2023-08-15T06:12:03.008Z"
   },
   {
    "duration": 3422,
    "start_time": "2023-08-15T06:12:07.920Z"
   },
   {
    "duration": 3863,
    "start_time": "2023-08-15T06:12:11.345Z"
   },
   {
    "duration": 367,
    "start_time": "2023-08-15T06:12:15.210Z"
   },
   {
    "duration": 495,
    "start_time": "2023-08-15T06:12:15.579Z"
   },
   {
    "duration": 308,
    "start_time": "2023-08-15T06:12:16.076Z"
   },
   {
    "duration": 2408,
    "start_time": "2023-08-15T06:12:16.387Z"
   },
   {
    "duration": 4,
    "start_time": "2023-08-15T06:12:18.797Z"
   },
   {
    "duration": 36,
    "start_time": "2023-08-15T06:12:18.803Z"
   },
   {
    "duration": 627,
    "start_time": "2023-08-15T06:12:18.841Z"
   },
   {
    "duration": 707,
    "start_time": "2023-08-15T06:12:19.560Z"
   },
   {
    "duration": 792,
    "start_time": "2023-08-15T06:12:20.269Z"
   },
   {
    "duration": 4,
    "start_time": "2023-08-15T06:12:21.062Z"
   },
   {
    "duration": 108,
    "start_time": "2023-08-15T06:12:21.068Z"
   },
   {
    "duration": 68,
    "start_time": "2023-08-15T06:12:21.178Z"
   },
   {
    "duration": 2013,
    "start_time": "2023-08-15T06:12:21.250Z"
   },
   {
    "duration": 94,
    "start_time": "2023-08-15T06:12:23.265Z"
   },
   {
    "duration": 109,
    "start_time": "2023-08-15T06:12:23.362Z"
   },
   {
    "duration": 18,
    "start_time": "2023-08-15T06:12:23.474Z"
   },
   {
    "duration": 13,
    "start_time": "2023-08-15T06:12:23.494Z"
   },
   {
    "duration": 284,
    "start_time": "2023-08-15T06:12:23.509Z"
   },
   {
    "duration": 5,
    "start_time": "2023-08-15T06:12:23.795Z"
   },
   {
    "duration": 3113,
    "start_time": "2023-08-15T06:12:23.802Z"
   },
   {
    "duration": 3055,
    "start_time": "2023-08-15T06:12:33.624Z"
   },
   {
    "duration": 5,
    "start_time": "2023-08-15T06:12:36.681Z"
   },
   {
    "duration": 1690,
    "start_time": "2023-08-15T06:19:45.538Z"
   },
   {
    "duration": 977,
    "start_time": "2023-08-15T06:19:47.231Z"
   },
   {
    "duration": 24,
    "start_time": "2023-08-15T06:19:48.210Z"
   },
   {
    "duration": 56,
    "start_time": "2023-08-15T06:19:48.237Z"
   },
   {
    "duration": 30,
    "start_time": "2023-08-15T06:19:48.296Z"
   },
   {
    "duration": 42,
    "start_time": "2023-08-15T06:19:48.328Z"
   },
   {
    "duration": 28,
    "start_time": "2023-08-15T06:19:48.372Z"
   },
   {
    "duration": 24,
    "start_time": "2023-08-15T06:19:48.402Z"
   },
   {
    "duration": 78,
    "start_time": "2023-08-15T06:19:48.428Z"
   },
   {
    "duration": 59,
    "start_time": "2023-08-15T06:19:48.508Z"
   },
   {
    "duration": 41,
    "start_time": "2023-08-15T06:19:48.569Z"
   },
   {
    "duration": 4,
    "start_time": "2023-08-15T06:19:48.612Z"
   },
   {
    "duration": 5418,
    "start_time": "2023-08-15T06:19:48.617Z"
   },
   {
    "duration": 3723,
    "start_time": "2023-08-15T06:19:54.060Z"
   },
   {
    "duration": 4024,
    "start_time": "2023-08-15T06:19:57.785Z"
   },
   {
    "duration": 374,
    "start_time": "2023-08-15T06:20:01.812Z"
   },
   {
    "duration": 494,
    "start_time": "2023-08-15T06:20:02.188Z"
   },
   {
    "duration": 339,
    "start_time": "2023-08-15T06:20:02.684Z"
   },
   {
    "duration": 2492,
    "start_time": "2023-08-15T06:20:03.025Z"
   },
   {
    "duration": 4,
    "start_time": "2023-08-15T06:20:05.519Z"
   },
   {
    "duration": 47,
    "start_time": "2023-08-15T06:20:05.524Z"
   },
   {
    "duration": 788,
    "start_time": "2023-08-15T06:20:05.573Z"
   },
   {
    "duration": 698,
    "start_time": "2023-08-15T06:20:06.363Z"
   },
   {
    "duration": 798,
    "start_time": "2023-08-15T06:20:07.063Z"
   },
   {
    "duration": 4,
    "start_time": "2023-08-15T06:20:07.863Z"
   },
   {
    "duration": 8,
    "start_time": "2023-08-15T06:20:07.959Z"
   },
   {
    "duration": 12,
    "start_time": "2023-08-15T06:20:07.969Z"
   },
   {
    "duration": 2477,
    "start_time": "2023-08-15T06:20:07.983Z"
   },
   {
    "duration": 5,
    "start_time": "2023-08-15T06:20:10.462Z"
   },
   {
    "duration": 108,
    "start_time": "2023-08-15T06:20:10.469Z"
   },
   {
    "duration": 15,
    "start_time": "2023-08-15T06:20:10.578Z"
   },
   {
    "duration": 10,
    "start_time": "2023-08-15T06:20:10.595Z"
   },
   {
    "duration": 295,
    "start_time": "2023-08-15T06:20:10.607Z"
   },
   {
    "duration": 5,
    "start_time": "2023-08-15T06:20:10.904Z"
   },
   {
    "duration": 3338,
    "start_time": "2023-08-15T06:20:10.910Z"
   },
   {
    "duration": 2554,
    "start_time": "2023-08-15T06:20:14.250Z"
   },
   {
    "duration": 3378,
    "start_time": "2023-08-15T06:20:16.806Z"
   },
   {
    "duration": 4,
    "start_time": "2023-08-15T06:23:15.739Z"
   },
   {
    "duration": 124,
    "start_time": "2023-08-15T06:23:17.565Z"
   },
   {
    "duration": 6,
    "start_time": "2023-08-15T06:23:22.058Z"
   },
   {
    "duration": 3117,
    "start_time": "2023-08-15T06:23:40.573Z"
   },
   {
    "duration": 5,
    "start_time": "2023-08-15T06:40:28.108Z"
   },
   {
    "duration": 1471,
    "start_time": "2023-08-15T06:47:46.970Z"
   },
   {
    "duration": 435,
    "start_time": "2023-08-15T06:47:48.443Z"
   },
   {
    "duration": 15,
    "start_time": "2023-08-15T06:47:48.880Z"
   },
   {
    "duration": 31,
    "start_time": "2023-08-15T06:47:48.897Z"
   },
   {
    "duration": 16,
    "start_time": "2023-08-15T06:47:48.931Z"
   },
   {
    "duration": 27,
    "start_time": "2023-08-15T06:47:48.949Z"
   },
   {
    "duration": 45,
    "start_time": "2023-08-15T06:47:48.978Z"
   },
   {
    "duration": 20,
    "start_time": "2023-08-15T06:47:49.025Z"
   },
   {
    "duration": 42,
    "start_time": "2023-08-15T06:47:49.047Z"
   },
   {
    "duration": 39,
    "start_time": "2023-08-15T06:47:49.091Z"
   },
   {
    "duration": 50,
    "start_time": "2023-08-15T06:47:49.132Z"
   },
   {
    "duration": 4,
    "start_time": "2023-08-15T06:47:49.184Z"
   },
   {
    "duration": 5230,
    "start_time": "2023-08-15T06:47:49.189Z"
   },
   {
    "duration": 3647,
    "start_time": "2023-08-15T06:47:54.422Z"
   },
   {
    "duration": 4061,
    "start_time": "2023-08-15T06:47:58.071Z"
   },
   {
    "duration": 367,
    "start_time": "2023-08-15T06:48:02.134Z"
   },
   {
    "duration": 489,
    "start_time": "2023-08-15T06:48:02.503Z"
   },
   {
    "duration": 315,
    "start_time": "2023-08-15T06:48:02.993Z"
   },
   {
    "duration": 2490,
    "start_time": "2023-08-15T06:48:03.309Z"
   },
   {
    "duration": 4,
    "start_time": "2023-08-15T06:48:05.800Z"
   },
   {
    "duration": 28,
    "start_time": "2023-08-15T06:48:05.806Z"
   },
   {
    "duration": 723,
    "start_time": "2023-08-15T06:48:05.836Z"
   },
   {
    "duration": 711,
    "start_time": "2023-08-15T06:48:06.561Z"
   },
   {
    "duration": 803,
    "start_time": "2023-08-15T06:48:07.360Z"
   },
   {
    "duration": 97,
    "start_time": "2023-08-15T06:48:08.165Z"
   },
   {
    "duration": 22,
    "start_time": "2023-08-15T06:48:08.265Z"
   },
   {
    "duration": 20,
    "start_time": "2023-08-15T06:48:08.290Z"
   },
   {
    "duration": 2152,
    "start_time": "2023-08-15T06:48:08.312Z"
   },
   {
    "duration": 92,
    "start_time": "2023-08-15T06:48:10.468Z"
   },
   {
    "duration": 124,
    "start_time": "2023-08-15T06:48:10.562Z"
   },
   {
    "duration": 19,
    "start_time": "2023-08-15T06:48:10.688Z"
   },
   {
    "duration": 21,
    "start_time": "2023-08-15T06:48:10.709Z"
   },
   {
    "duration": 278,
    "start_time": "2023-08-15T06:48:10.732Z"
   },
   {
    "duration": 5,
    "start_time": "2023-08-15T06:48:11.011Z"
   },
   {
    "duration": 14,
    "start_time": "2023-08-15T06:48:11.018Z"
   },
   {
    "duration": 4,
    "start_time": "2023-08-15T06:48:58.908Z"
   },
   {
    "duration": 114,
    "start_time": "2023-08-15T06:50:30.873Z"
   },
   {
    "duration": 5,
    "start_time": "2023-08-15T06:50:36.501Z"
   },
   {
    "duration": 1537,
    "start_time": "2023-08-15T06:56:10.692Z"
   },
   {
    "duration": 406,
    "start_time": "2023-08-15T06:56:12.231Z"
   },
   {
    "duration": 21,
    "start_time": "2023-08-15T06:56:12.639Z"
   },
   {
    "duration": 11,
    "start_time": "2023-08-15T06:56:12.662Z"
   },
   {
    "duration": 13,
    "start_time": "2023-08-15T06:56:12.674Z"
   },
   {
    "duration": 35,
    "start_time": "2023-08-15T06:56:12.689Z"
   },
   {
    "duration": 36,
    "start_time": "2023-08-15T06:56:12.726Z"
   },
   {
    "duration": 21,
    "start_time": "2023-08-15T06:56:12.764Z"
   },
   {
    "duration": 48,
    "start_time": "2023-08-15T06:56:12.787Z"
   },
   {
    "duration": 44,
    "start_time": "2023-08-15T06:56:12.861Z"
   },
   {
    "duration": 59,
    "start_time": "2023-08-15T06:56:12.907Z"
   },
   {
    "duration": 3,
    "start_time": "2023-08-15T06:56:12.968Z"
   },
   {
    "duration": 5508,
    "start_time": "2023-08-15T06:56:12.973Z"
   },
   {
    "duration": 3799,
    "start_time": "2023-08-15T06:56:18.484Z"
   },
   {
    "duration": 4117,
    "start_time": "2023-08-15T06:56:22.285Z"
   },
   {
    "duration": 373,
    "start_time": "2023-08-15T06:56:26.404Z"
   },
   {
    "duration": 502,
    "start_time": "2023-08-15T06:56:26.779Z"
   },
   {
    "duration": 338,
    "start_time": "2023-08-15T06:56:27.283Z"
   },
   {
    "duration": 2501,
    "start_time": "2023-08-15T06:56:27.623Z"
   },
   {
    "duration": 3,
    "start_time": "2023-08-15T06:56:30.126Z"
   },
   {
    "duration": 51,
    "start_time": "2023-08-15T06:56:30.131Z"
   },
   {
    "duration": 584,
    "start_time": "2023-08-15T06:56:30.184Z"
   },
   {
    "duration": 706,
    "start_time": "2023-08-15T06:56:30.860Z"
   },
   {
    "duration": 896,
    "start_time": "2023-08-15T06:56:31.568Z"
   },
   {
    "duration": 3,
    "start_time": "2023-08-15T06:56:32.466Z"
   },
   {
    "duration": 19,
    "start_time": "2023-08-15T06:56:32.559Z"
   },
   {
    "duration": 12,
    "start_time": "2023-08-15T06:56:32.580Z"
   },
   {
    "duration": 2067,
    "start_time": "2023-08-15T06:56:32.595Z"
   },
   {
    "duration": 6,
    "start_time": "2023-08-15T06:56:34.664Z"
   },
   {
    "duration": 30,
    "start_time": "2023-08-15T06:56:34.760Z"
   },
   {
    "duration": 38,
    "start_time": "2023-08-15T06:56:34.792Z"
   },
   {
    "duration": 22,
    "start_time": "2023-08-15T06:56:34.832Z"
   },
   {
    "duration": 261,
    "start_time": "2023-08-15T06:56:34.856Z"
   },
   {
    "duration": 5,
    "start_time": "2023-08-15T06:56:35.119Z"
   },
   {
    "duration": 79,
    "start_time": "2023-08-15T06:56:35.126Z"
   },
   {
    "duration": 4,
    "start_time": "2023-08-15T06:57:01.921Z"
   },
   {
    "duration": 129,
    "start_time": "2023-08-15T06:57:33.295Z"
   },
   {
    "duration": 4,
    "start_time": "2023-08-15T06:58:13.085Z"
   },
   {
    "duration": 31,
    "start_time": "2023-08-15T06:58:14.808Z"
   },
   {
    "duration": 5,
    "start_time": "2023-08-15T07:06:08.131Z"
   },
   {
    "duration": 15,
    "start_time": "2023-08-15T07:06:29.108Z"
   },
   {
    "duration": 3,
    "start_time": "2023-08-15T07:07:25.868Z"
   },
   {
    "duration": 3,
    "start_time": "2023-08-15T07:25:27.238Z"
   },
   {
    "duration": 16,
    "start_time": "2023-08-15T07:25:48.202Z"
   },
   {
    "duration": 6,
    "start_time": "2023-08-15T07:26:18.480Z"
   },
   {
    "duration": 28,
    "start_time": "2023-08-15T07:26:20.000Z"
   },
   {
    "duration": 4,
    "start_time": "2023-08-15T07:27:44.622Z"
   },
   {
    "duration": 9,
    "start_time": "2023-08-15T07:27:46.146Z"
   },
   {
    "duration": 4,
    "start_time": "2023-08-15T07:28:07.509Z"
   },
   {
    "duration": 9,
    "start_time": "2023-08-15T07:28:09.272Z"
   },
   {
    "duration": 4,
    "start_time": "2023-08-15T07:28:59.029Z"
   },
   {
    "duration": 10,
    "start_time": "2023-08-15T07:29:01.159Z"
   },
   {
    "duration": 6,
    "start_time": "2023-08-15T07:30:11.075Z"
   },
   {
    "duration": 19,
    "start_time": "2023-08-15T07:30:12.809Z"
   },
   {
    "duration": 6,
    "start_time": "2023-08-15T07:30:29.762Z"
   },
   {
    "duration": 22,
    "start_time": "2023-08-15T07:30:31.662Z"
   },
   {
    "duration": 5,
    "start_time": "2023-08-15T07:30:47.865Z"
   },
   {
    "duration": 3170,
    "start_time": "2023-08-15T07:30:49.690Z"
   },
   {
    "duration": 6,
    "start_time": "2023-08-15T07:31:09.162Z"
   },
   {
    "duration": 3313,
    "start_time": "2023-08-15T07:31:10.886Z"
   },
   {
    "duration": 5,
    "start_time": "2023-08-15T08:50:43.918Z"
   },
   {
    "duration": 10,
    "start_time": "2023-08-15T08:50:46.371Z"
   },
   {
    "duration": 9,
    "start_time": "2023-08-15T08:51:29.661Z"
   },
   {
    "duration": 13,
    "start_time": "2023-08-15T08:51:31.887Z"
   },
   {
    "duration": 6,
    "start_time": "2023-08-15T08:53:32.549Z"
   },
   {
    "duration": 16,
    "start_time": "2023-08-15T08:53:34.473Z"
   },
   {
    "duration": 5,
    "start_time": "2023-08-15T08:55:33.675Z"
   },
   {
    "duration": 21,
    "start_time": "2023-08-15T08:55:34.959Z"
   },
   {
    "duration": 6,
    "start_time": "2023-08-15T08:56:02.339Z"
   },
   {
    "duration": 16,
    "start_time": "2023-08-15T08:56:04.491Z"
   },
   {
    "duration": 140,
    "start_time": "2023-08-15T09:00:09.123Z"
   },
   {
    "duration": 5,
    "start_time": "2023-08-15T09:00:15.850Z"
   },
   {
    "duration": 16,
    "start_time": "2023-08-15T09:00:17.952Z"
   },
   {
    "duration": 5,
    "start_time": "2023-08-15T09:00:29.903Z"
   },
   {
    "duration": 17,
    "start_time": "2023-08-15T09:00:31.681Z"
   },
   {
    "duration": 4,
    "start_time": "2023-08-15T09:03:40.758Z"
   },
   {
    "duration": 5,
    "start_time": "2023-08-15T09:04:24.312Z"
   },
   {
    "duration": 18,
    "start_time": "2023-08-15T09:04:25.443Z"
   },
   {
    "duration": 6,
    "start_time": "2023-08-15T09:06:02.307Z"
   },
   {
    "duration": 16,
    "start_time": "2023-08-15T09:06:03.623Z"
   },
   {
    "duration": 5,
    "start_time": "2023-08-15T09:07:15.887Z"
   },
   {
    "duration": 30,
    "start_time": "2023-08-15T09:07:17.400Z"
   },
   {
    "duration": 5,
    "start_time": "2023-08-15T09:07:46.354Z"
   },
   {
    "duration": 23,
    "start_time": "2023-08-15T09:07:47.796Z"
   },
   {
    "duration": 5,
    "start_time": "2023-08-15T09:08:03.431Z"
   },
   {
    "duration": 15,
    "start_time": "2023-08-15T09:08:04.892Z"
   },
   {
    "duration": 1672,
    "start_time": "2023-08-18T03:14:26.086Z"
   },
   {
    "duration": 808,
    "start_time": "2023-08-18T03:14:27.760Z"
   },
   {
    "duration": 17,
    "start_time": "2023-08-18T03:14:28.570Z"
   },
   {
    "duration": 79,
    "start_time": "2023-08-18T03:14:28.589Z"
   },
   {
    "duration": 37,
    "start_time": "2023-08-18T03:14:28.671Z"
   },
   {
    "duration": 51,
    "start_time": "2023-08-18T03:14:28.710Z"
   },
   {
    "duration": 24,
    "start_time": "2023-08-18T03:14:28.763Z"
   },
   {
    "duration": 124,
    "start_time": "2023-08-18T03:14:28.789Z"
   },
   {
    "duration": 55,
    "start_time": "2023-08-18T03:14:28.915Z"
   },
   {
    "duration": 53,
    "start_time": "2023-08-18T03:14:28.972Z"
   },
   {
    "duration": 54,
    "start_time": "2023-08-18T03:14:29.027Z"
   },
   {
    "duration": 4,
    "start_time": "2023-08-18T03:14:29.083Z"
   },
   {
    "duration": 5184,
    "start_time": "2023-08-18T03:14:29.089Z"
   },
   {
    "duration": 3829,
    "start_time": "2023-08-18T03:14:34.280Z"
   },
   {
    "duration": 3926,
    "start_time": "2023-08-18T03:14:38.111Z"
   },
   {
    "duration": 357,
    "start_time": "2023-08-18T03:14:42.039Z"
   },
   {
    "duration": 447,
    "start_time": "2023-08-18T03:14:42.398Z"
   },
   {
    "duration": 349,
    "start_time": "2023-08-18T03:14:42.847Z"
   },
   {
    "duration": 2802,
    "start_time": "2023-08-18T03:14:43.198Z"
   },
   {
    "duration": 3,
    "start_time": "2023-08-18T03:14:46.002Z"
   },
   {
    "duration": 48,
    "start_time": "2023-08-18T03:14:46.006Z"
   },
   {
    "duration": 1035,
    "start_time": "2023-08-18T03:14:46.056Z"
   },
   {
    "duration": 798,
    "start_time": "2023-08-18T03:14:47.097Z"
   },
   {
    "duration": 613,
    "start_time": "2023-08-18T03:14:47.982Z"
   },
   {
    "duration": 5,
    "start_time": "2023-08-18T03:14:48.682Z"
   },
   {
    "duration": 94,
    "start_time": "2023-08-18T03:14:48.689Z"
   },
   {
    "duration": 11,
    "start_time": "2023-08-18T03:14:48.785Z"
   },
   {
    "duration": 1693,
    "start_time": "2023-08-18T03:14:48.797Z"
   },
   {
    "duration": 90,
    "start_time": "2023-08-18T03:14:50.492Z"
   },
   {
    "duration": 97,
    "start_time": "2023-08-18T03:14:50.585Z"
   },
   {
    "duration": 16,
    "start_time": "2023-08-18T03:14:50.685Z"
   },
   {
    "duration": 7,
    "start_time": "2023-08-18T03:14:50.703Z"
   },
   {
    "duration": 300,
    "start_time": "2023-08-18T03:14:50.712Z"
   },
   {
    "duration": 5,
    "start_time": "2023-08-18T03:14:51.014Z"
   },
   {
    "duration": 14,
    "start_time": "2023-08-18T03:14:51.021Z"
   },
   {
    "duration": 22,
    "start_time": "2023-08-18T03:14:51.037Z"
   },
   {
    "duration": 26,
    "start_time": "2023-08-18T03:14:51.061Z"
   },
   {
    "duration": 22,
    "start_time": "2023-08-18T03:14:51.089Z"
   },
   {
    "duration": 133,
    "start_time": "2023-08-18T03:14:51.113Z"
   },
   {
    "duration": 3,
    "start_time": "2023-08-18T03:16:02.701Z"
   },
   {
    "duration": 14,
    "start_time": "2023-08-18T03:16:15.680Z"
   },
   {
    "duration": 3,
    "start_time": "2023-08-18T03:16:21.533Z"
   },
   {
    "duration": 6,
    "start_time": "2023-08-18T03:16:23.326Z"
   },
   {
    "duration": 6,
    "start_time": "2023-08-18T03:16:34.400Z"
   },
   {
    "duration": 6,
    "start_time": "2023-08-18T03:16:35.819Z"
   },
   {
    "duration": 6,
    "start_time": "2023-08-18T03:17:19.336Z"
   },
   {
    "duration": 6,
    "start_time": "2023-08-18T03:17:20.637Z"
   },
   {
    "duration": 5,
    "start_time": "2023-08-18T03:17:21.593Z"
   },
   {
    "duration": 286,
    "start_time": "2023-08-18T03:17:22.829Z"
   },
   {
    "duration": 15,
    "start_time": "2023-08-18T03:20:53.980Z"
   },
   {
    "duration": 17,
    "start_time": "2023-08-18T03:21:05.743Z"
   },
   {
    "duration": 22,
    "start_time": "2023-08-18T03:22:01.234Z"
   },
   {
    "duration": 20,
    "start_time": "2023-08-18T03:22:05.965Z"
   },
   {
    "duration": 15,
    "start_time": "2023-08-18T03:22:12.690Z"
   },
   {
    "duration": 2445,
    "start_time": "2023-08-18T03:22:25.810Z"
   },
   {
    "duration": 8,
    "start_time": "2023-08-18T03:23:09.859Z"
   },
   {
    "duration": 86,
    "start_time": "2023-08-18T03:27:23.615Z"
   },
   {
    "duration": 4,
    "start_time": "2023-08-18T03:27:37.731Z"
   },
   {
    "duration": 829,
    "start_time": "2023-08-18T03:27:55.404Z"
   },
   {
    "duration": 5,
    "start_time": "2023-08-18T03:28:12.796Z"
   },
   {
    "duration": 772,
    "start_time": "2023-08-18T03:28:15.445Z"
   },
   {
    "duration": 812,
    "start_time": "2023-08-18T03:28:34.820Z"
   },
   {
    "duration": 772,
    "start_time": "2023-08-18T03:28:37.549Z"
   },
   {
    "duration": 246,
    "start_time": "2023-08-18T03:30:02.088Z"
   },
   {
    "duration": 1481,
    "start_time": "2023-08-18T03:32:19.457Z"
   },
   {
    "duration": 383,
    "start_time": "2023-08-18T03:32:20.940Z"
   },
   {
    "duration": 15,
    "start_time": "2023-08-18T03:32:21.324Z"
   },
   {
    "duration": 9,
    "start_time": "2023-08-18T03:32:21.340Z"
   },
   {
    "duration": 19,
    "start_time": "2023-08-18T03:32:21.351Z"
   },
   {
    "duration": 31,
    "start_time": "2023-08-18T03:32:21.372Z"
   },
   {
    "duration": 20,
    "start_time": "2023-08-18T03:32:21.404Z"
   },
   {
    "duration": 19,
    "start_time": "2023-08-18T03:32:21.425Z"
   },
   {
    "duration": 66,
    "start_time": "2023-08-18T03:32:21.446Z"
   },
   {
    "duration": 40,
    "start_time": "2023-08-18T03:32:21.514Z"
   },
   {
    "duration": 55,
    "start_time": "2023-08-18T03:32:21.556Z"
   },
   {
    "duration": 4,
    "start_time": "2023-08-18T03:32:21.612Z"
   },
   {
    "duration": 4985,
    "start_time": "2023-08-18T03:32:21.617Z"
   },
   {
    "duration": 3602,
    "start_time": "2023-08-18T03:32:26.605Z"
   },
   {
    "duration": 4066,
    "start_time": "2023-08-18T03:32:30.209Z"
   },
   {
    "duration": 329,
    "start_time": "2023-08-18T03:32:34.280Z"
   },
   {
    "duration": 504,
    "start_time": "2023-08-18T03:32:34.611Z"
   },
   {
    "duration": 364,
    "start_time": "2023-08-18T03:32:35.117Z"
   },
   {
    "duration": 2561,
    "start_time": "2023-08-18T03:32:35.483Z"
   },
   {
    "duration": 3,
    "start_time": "2023-08-18T03:32:38.046Z"
   },
   {
    "duration": 10,
    "start_time": "2023-08-18T03:32:38.051Z"
   },
   {
    "duration": 626,
    "start_time": "2023-08-18T03:32:38.063Z"
   },
   {
    "duration": 889,
    "start_time": "2023-08-18T03:32:38.692Z"
   },
   {
    "duration": 804,
    "start_time": "2023-08-18T03:32:39.589Z"
   },
   {
    "duration": 5,
    "start_time": "2023-08-18T03:32:40.482Z"
   },
   {
    "duration": 104,
    "start_time": "2023-08-18T03:32:40.489Z"
   },
   {
    "duration": 16,
    "start_time": "2023-08-18T03:32:40.595Z"
   },
   {
    "duration": 2276,
    "start_time": "2023-08-18T03:32:40.612Z"
   },
   {
    "duration": 91,
    "start_time": "2023-08-18T03:32:42.890Z"
   },
   {
    "duration": 97,
    "start_time": "2023-08-18T03:32:42.985Z"
   },
   {
    "duration": 7,
    "start_time": "2023-08-18T03:32:43.084Z"
   },
   {
    "duration": 6,
    "start_time": "2023-08-18T03:32:43.093Z"
   },
   {
    "duration": 318,
    "start_time": "2023-08-18T03:32:43.101Z"
   },
   {
    "duration": 4,
    "start_time": "2023-08-18T03:32:43.421Z"
   },
   {
    "duration": 26,
    "start_time": "2023-08-18T03:32:43.426Z"
   },
   {
    "duration": 7,
    "start_time": "2023-08-18T03:32:43.454Z"
   },
   {
    "duration": 130,
    "start_time": "2023-08-18T03:32:43.463Z"
   },
   {
    "duration": 0,
    "start_time": "2023-08-18T03:32:43.595Z"
   },
   {
    "duration": 1,
    "start_time": "2023-08-18T03:32:43.596Z"
   },
   {
    "duration": 7,
    "start_time": "2023-08-18T03:33:40.217Z"
   },
   {
    "duration": 12,
    "start_time": "2023-08-18T03:33:41.723Z"
   },
   {
    "duration": 6,
    "start_time": "2023-08-18T03:34:01.101Z"
   },
   {
    "duration": 13,
    "start_time": "2023-08-18T03:34:02.899Z"
   },
   {
    "duration": 5,
    "start_time": "2023-08-18T03:34:21.906Z"
   },
   {
    "duration": 835,
    "start_time": "2023-08-18T03:34:23.310Z"
   },
   {
    "duration": 1399,
    "start_time": "2023-08-18T03:34:28.996Z"
   },
   {
    "duration": 423,
    "start_time": "2023-08-18T03:34:30.397Z"
   },
   {
    "duration": 19,
    "start_time": "2023-08-18T03:34:30.822Z"
   },
   {
    "duration": 66,
    "start_time": "2023-08-18T03:34:30.843Z"
   },
   {
    "duration": 50,
    "start_time": "2023-08-18T03:34:30.912Z"
   },
   {
    "duration": 85,
    "start_time": "2023-08-18T03:34:30.964Z"
   },
   {
    "duration": 79,
    "start_time": "2023-08-18T03:34:31.051Z"
   },
   {
    "duration": 30,
    "start_time": "2023-08-18T03:34:31.132Z"
   },
   {
    "duration": 62,
    "start_time": "2023-08-18T03:34:31.164Z"
   },
   {
    "duration": 46,
    "start_time": "2023-08-18T03:34:31.228Z"
   },
   {
    "duration": 40,
    "start_time": "2023-08-18T03:34:31.275Z"
   },
   {
    "duration": 26,
    "start_time": "2023-08-18T03:34:31.317Z"
   },
   {
    "duration": 5080,
    "start_time": "2023-08-18T03:34:31.345Z"
   },
   {
    "duration": 3662,
    "start_time": "2023-08-18T03:34:36.430Z"
   },
   {
    "duration": 3944,
    "start_time": "2023-08-18T03:34:40.094Z"
   },
   {
    "duration": 360,
    "start_time": "2023-08-18T03:34:44.039Z"
   },
   {
    "duration": 514,
    "start_time": "2023-08-18T03:34:44.401Z"
   },
   {
    "duration": 310,
    "start_time": "2023-08-18T03:34:44.917Z"
   },
   {
    "duration": 2628,
    "start_time": "2023-08-18T03:34:45.229Z"
   },
   {
    "duration": 4,
    "start_time": "2023-08-18T03:34:47.859Z"
   },
   {
    "duration": 17,
    "start_time": "2023-08-18T03:34:47.864Z"
   },
   {
    "duration": 609,
    "start_time": "2023-08-18T03:34:47.883Z"
   },
   {
    "duration": 895,
    "start_time": "2023-08-18T03:34:48.494Z"
   },
   {
    "duration": 790,
    "start_time": "2023-08-18T03:34:49.391Z"
   },
   {
    "duration": 4,
    "start_time": "2023-08-18T03:34:50.184Z"
   },
   {
    "duration": 6,
    "start_time": "2023-08-18T03:34:50.190Z"
   },
   {
    "duration": 8,
    "start_time": "2023-08-18T03:34:50.282Z"
   },
   {
    "duration": 2097,
    "start_time": "2023-08-18T03:34:50.293Z"
   },
   {
    "duration": 88,
    "start_time": "2023-08-18T03:34:52.392Z"
   },
   {
    "duration": 104,
    "start_time": "2023-08-18T03:34:52.482Z"
   },
   {
    "duration": 6,
    "start_time": "2023-08-18T03:34:52.588Z"
   },
   {
    "duration": 9,
    "start_time": "2023-08-18T03:34:52.596Z"
   },
   {
    "duration": 311,
    "start_time": "2023-08-18T03:34:52.606Z"
   },
   {
    "duration": 4,
    "start_time": "2023-08-18T03:34:52.919Z"
   },
   {
    "duration": 20,
    "start_time": "2023-08-18T03:34:52.925Z"
   },
   {
    "duration": 16,
    "start_time": "2023-08-18T03:34:52.947Z"
   },
   {
    "duration": 849,
    "start_time": "2023-08-18T03:34:52.965Z"
   },
   {
    "duration": 812,
    "start_time": "2023-08-18T03:34:53.816Z"
   },
   {
    "duration": 840,
    "start_time": "2023-08-18T03:34:54.630Z"
   },
   {
    "duration": 5771,
    "start_time": "2023-08-18T06:39:16.123Z"
   },
   {
    "duration": 749,
    "start_time": "2023-08-18T06:39:21.896Z"
   },
   {
    "duration": 12,
    "start_time": "2023-08-18T06:39:22.647Z"
   },
   {
    "duration": 9,
    "start_time": "2023-08-18T06:39:22.661Z"
   },
   {
    "duration": 13,
    "start_time": "2023-08-18T06:39:22.671Z"
   },
   {
    "duration": 28,
    "start_time": "2023-08-18T06:39:22.686Z"
   },
   {
    "duration": 17,
    "start_time": "2023-08-18T06:39:22.716Z"
   },
   {
    "duration": 28,
    "start_time": "2023-08-18T06:39:22.734Z"
   },
   {
    "duration": 33,
    "start_time": "2023-08-18T06:39:22.763Z"
   },
   {
    "duration": 32,
    "start_time": "2023-08-18T06:39:22.798Z"
   },
   {
    "duration": 31,
    "start_time": "2023-08-18T06:39:22.850Z"
   },
   {
    "duration": 3,
    "start_time": "2023-08-18T06:39:22.883Z"
   },
   {
    "duration": 4572,
    "start_time": "2023-08-18T06:39:22.887Z"
   },
   {
    "duration": 3341,
    "start_time": "2023-08-18T06:39:27.461Z"
   },
   {
    "duration": 3608,
    "start_time": "2023-08-18T06:39:30.804Z"
   },
   {
    "duration": 338,
    "start_time": "2023-08-18T06:39:34.414Z"
   },
   {
    "duration": 399,
    "start_time": "2023-08-18T06:39:34.753Z"
   },
   {
    "duration": 304,
    "start_time": "2023-08-18T06:39:35.153Z"
   },
   {
    "duration": 2210,
    "start_time": "2023-08-18T06:39:35.459Z"
   },
   {
    "duration": 3,
    "start_time": "2023-08-18T06:39:37.671Z"
   },
   {
    "duration": 14,
    "start_time": "2023-08-18T06:39:37.675Z"
   },
   {
    "duration": 668,
    "start_time": "2023-08-18T06:39:37.690Z"
   },
   {
    "duration": 798,
    "start_time": "2023-08-18T06:39:38.359Z"
   },
   {
    "duration": 793,
    "start_time": "2023-08-18T06:39:39.159Z"
   },
   {
    "duration": 91,
    "start_time": "2023-08-18T06:39:39.959Z"
   },
   {
    "duration": 30,
    "start_time": "2023-08-18T06:39:40.052Z"
   },
   {
    "duration": 11,
    "start_time": "2023-08-18T06:39:40.084Z"
   },
   {
    "duration": 2356,
    "start_time": "2023-08-18T06:39:40.098Z"
   },
   {
    "duration": 3,
    "start_time": "2023-08-18T06:39:42.456Z"
   },
   {
    "duration": 101,
    "start_time": "2023-08-18T06:39:42.549Z"
   },
   {
    "duration": 6,
    "start_time": "2023-08-18T06:39:42.652Z"
   },
   {
    "duration": 22,
    "start_time": "2023-08-18T06:39:42.659Z"
   },
   {
    "duration": 232,
    "start_time": "2023-08-18T06:39:42.682Z"
   },
   {
    "duration": 34,
    "start_time": "2023-08-18T06:39:42.915Z"
   },
   {
    "duration": 12,
    "start_time": "2023-08-18T06:39:42.951Z"
   },
   {
    "duration": 6,
    "start_time": "2023-08-18T06:39:42.965Z"
   },
   {
    "duration": 734,
    "start_time": "2023-08-18T06:39:42.972Z"
   },
   {
    "duration": 675,
    "start_time": "2023-08-18T06:39:43.707Z"
   },
   {
    "duration": 688,
    "start_time": "2023-08-18T06:39:44.384Z"
   },
   {
    "duration": 9,
    "start_time": "2023-08-18T06:49:46.019Z"
   },
   {
    "duration": 4,
    "start_time": "2023-08-18T06:49:58.068Z"
   },
   {
    "duration": 4,
    "start_time": "2023-08-18T06:49:59.620Z"
   },
   {
    "duration": 41,
    "start_time": "2023-08-18T06:50:00.926Z"
   },
   {
    "duration": 1524,
    "start_time": "2023-08-18T06:50:07.578Z"
   },
   {
    "duration": 1631,
    "start_time": "2023-08-18T06:50:09.104Z"
   },
   {
    "duration": 14,
    "start_time": "2023-08-18T06:50:10.739Z"
   },
   {
    "duration": 27,
    "start_time": "2023-08-18T06:50:10.754Z"
   },
   {
    "duration": 15,
    "start_time": "2023-08-18T06:50:10.783Z"
   },
   {
    "duration": 33,
    "start_time": "2023-08-18T06:50:10.799Z"
   },
   {
    "duration": 18,
    "start_time": "2023-08-18T06:50:10.834Z"
   },
   {
    "duration": 29,
    "start_time": "2023-08-18T06:50:10.853Z"
   },
   {
    "duration": 37,
    "start_time": "2023-08-18T06:50:10.884Z"
   },
   {
    "duration": 35,
    "start_time": "2023-08-18T06:50:10.923Z"
   },
   {
    "duration": 34,
    "start_time": "2023-08-18T06:50:10.973Z"
   },
   {
    "duration": 3,
    "start_time": "2023-08-18T06:50:11.009Z"
   },
   {
    "duration": 5035,
    "start_time": "2023-08-18T06:50:11.016Z"
   },
   {
    "duration": 3393,
    "start_time": "2023-08-18T06:50:16.054Z"
   },
   {
    "duration": 3754,
    "start_time": "2023-08-18T06:50:19.448Z"
   },
   {
    "duration": 303,
    "start_time": "2023-08-18T06:50:23.204Z"
   },
   {
    "duration": 455,
    "start_time": "2023-08-18T06:50:23.509Z"
   },
   {
    "duration": 327,
    "start_time": "2023-08-18T06:50:23.973Z"
   },
   {
    "duration": 2376,
    "start_time": "2023-08-18T06:50:24.302Z"
   },
   {
    "duration": 3,
    "start_time": "2023-08-18T06:50:26.680Z"
   },
   {
    "duration": 11,
    "start_time": "2023-08-18T06:50:26.684Z"
   },
   {
    "duration": 787,
    "start_time": "2023-08-18T06:50:26.696Z"
   },
   {
    "duration": 902,
    "start_time": "2023-08-18T06:50:27.574Z"
   },
   {
    "duration": 895,
    "start_time": "2023-08-18T06:50:28.481Z"
   },
   {
    "duration": 92,
    "start_time": "2023-08-18T06:50:29.383Z"
   },
   {
    "duration": 8,
    "start_time": "2023-08-18T06:50:29.477Z"
   },
   {
    "duration": 9,
    "start_time": "2023-08-18T06:50:29.487Z"
   },
   {
    "duration": 2484,
    "start_time": "2023-08-18T06:50:29.497Z"
   },
   {
    "duration": 3,
    "start_time": "2023-08-18T06:50:31.983Z"
   },
   {
    "duration": 188,
    "start_time": "2023-08-18T06:50:31.987Z"
   },
   {
    "duration": 147,
    "start_time": "2023-08-18T06:50:32.176Z"
   },
   {
    "duration": 0,
    "start_time": "2023-08-18T06:50:32.325Z"
   },
   {
    "duration": 0,
    "start_time": "2023-08-18T06:50:32.326Z"
   },
   {
    "duration": 0,
    "start_time": "2023-08-18T06:50:32.327Z"
   },
   {
    "duration": 0,
    "start_time": "2023-08-18T06:50:32.328Z"
   },
   {
    "duration": 0,
    "start_time": "2023-08-18T06:50:32.329Z"
   },
   {
    "duration": 0,
    "start_time": "2023-08-18T06:50:32.331Z"
   },
   {
    "duration": 0,
    "start_time": "2023-08-18T06:50:32.332Z"
   },
   {
    "duration": 0,
    "start_time": "2023-08-18T06:50:32.333Z"
   },
   {
    "duration": 0,
    "start_time": "2023-08-18T06:50:32.335Z"
   },
   {
    "duration": 4,
    "start_time": "2023-08-18T06:51:19.560Z"
   },
   {
    "duration": 8,
    "start_time": "2023-08-18T06:51:20.876Z"
   },
   {
    "duration": 7,
    "start_time": "2023-08-18T06:51:30.973Z"
   },
   {
    "duration": 8,
    "start_time": "2023-08-18T06:51:32.439Z"
   },
   {
    "duration": 299,
    "start_time": "2023-08-18T06:51:42.908Z"
   },
   {
    "duration": 3,
    "start_time": "2023-08-18T06:51:49.968Z"
   },
   {
    "duration": 4,
    "start_time": "2023-08-18T06:51:51.177Z"
   },
   {
    "duration": 5,
    "start_time": "2023-08-18T06:51:52.057Z"
   },
   {
    "duration": 761,
    "start_time": "2023-08-18T06:52:10.973Z"
   },
   {
    "duration": 755,
    "start_time": "2023-08-18T06:52:16.293Z"
   },
   {
    "duration": 689,
    "start_time": "2023-08-18T06:52:19.025Z"
   },
   {
    "duration": 4,
    "start_time": "2023-08-18T06:52:59.506Z"
   },
   {
    "duration": 5,
    "start_time": "2023-08-18T06:54:02.572Z"
   },
   {
    "duration": 13,
    "start_time": "2023-08-18T06:54:05.686Z"
   },
   {
    "duration": 5,
    "start_time": "2023-08-18T06:54:17.357Z"
   },
   {
    "duration": 13,
    "start_time": "2023-08-18T06:54:20.015Z"
   },
   {
    "duration": 5,
    "start_time": "2023-08-18T06:54:51.910Z"
   },
   {
    "duration": 12,
    "start_time": "2023-08-18T06:54:56.635Z"
   },
   {
    "duration": 6,
    "start_time": "2023-08-18T06:55:04.317Z"
   },
   {
    "duration": 5,
    "start_time": "2023-08-18T06:55:31.041Z"
   },
   {
    "duration": 385,
    "start_time": "2023-08-18T06:55:33.912Z"
   },
   {
    "duration": 400,
    "start_time": "2023-08-18T06:55:36.923Z"
   },
   {
    "duration": 384,
    "start_time": "2023-08-18T06:55:38.523Z"
   },
   {
    "duration": 1359,
    "start_time": "2023-08-18T06:56:24.620Z"
   },
   {
    "duration": 369,
    "start_time": "2023-08-18T06:56:25.981Z"
   },
   {
    "duration": 13,
    "start_time": "2023-08-18T06:56:26.352Z"
   },
   {
    "duration": 11,
    "start_time": "2023-08-18T06:56:26.366Z"
   },
   {
    "duration": 14,
    "start_time": "2023-08-18T06:56:26.379Z"
   },
   {
    "duration": 49,
    "start_time": "2023-08-18T06:56:26.395Z"
   },
   {
    "duration": 20,
    "start_time": "2023-08-18T06:56:26.446Z"
   },
   {
    "duration": 19,
    "start_time": "2023-08-18T06:56:26.467Z"
   },
   {
    "duration": 39,
    "start_time": "2023-08-18T06:56:26.488Z"
   },
   {
    "duration": 45,
    "start_time": "2023-08-18T06:56:26.529Z"
   },
   {
    "duration": 35,
    "start_time": "2023-08-18T06:56:26.576Z"
   },
   {
    "duration": 3,
    "start_time": "2023-08-18T06:56:26.613Z"
   },
   {
    "duration": 4890,
    "start_time": "2023-08-18T06:56:26.617Z"
   },
   {
    "duration": 3477,
    "start_time": "2023-08-18T06:56:31.510Z"
   },
   {
    "duration": 3796,
    "start_time": "2023-08-18T06:56:34.989Z"
   },
   {
    "duration": 328,
    "start_time": "2023-08-18T06:56:38.787Z"
   },
   {
    "duration": 462,
    "start_time": "2023-08-18T06:56:39.116Z"
   },
   {
    "duration": 317,
    "start_time": "2023-08-18T06:56:39.580Z"
   },
   {
    "duration": 2356,
    "start_time": "2023-08-18T06:56:39.899Z"
   },
   {
    "duration": 4,
    "start_time": "2023-08-18T06:56:42.256Z"
   },
   {
    "duration": 15,
    "start_time": "2023-08-18T06:56:42.261Z"
   },
   {
    "duration": 707,
    "start_time": "2023-08-18T06:56:42.277Z"
   },
   {
    "duration": 796,
    "start_time": "2023-08-18T06:56:42.986Z"
   },
   {
    "duration": 992,
    "start_time": "2023-08-18T06:56:43.783Z"
   },
   {
    "duration": 7,
    "start_time": "2023-08-18T06:56:44.778Z"
   },
   {
    "duration": 4,
    "start_time": "2023-08-18T06:56:44.875Z"
   },
   {
    "duration": 7,
    "start_time": "2023-08-18T06:56:44.880Z"
   },
   {
    "duration": 2394,
    "start_time": "2023-08-18T06:56:44.889Z"
   },
   {
    "duration": 97,
    "start_time": "2023-08-18T06:56:47.285Z"
   },
   {
    "duration": 95,
    "start_time": "2023-08-18T06:56:47.385Z"
   },
   {
    "duration": 6,
    "start_time": "2023-08-18T06:56:47.482Z"
   },
   {
    "duration": 7,
    "start_time": "2023-08-18T06:56:47.489Z"
   },
   {
    "duration": 276,
    "start_time": "2023-08-18T06:56:47.498Z"
   },
   {
    "duration": 3,
    "start_time": "2023-08-18T06:56:47.777Z"
   },
   {
    "duration": 32,
    "start_time": "2023-08-18T06:56:47.781Z"
   },
   {
    "duration": 21,
    "start_time": "2023-08-18T06:56:47.815Z"
   },
   {
    "duration": 447,
    "start_time": "2023-08-18T06:56:47.838Z"
   },
   {
    "duration": 455,
    "start_time": "2023-08-18T06:56:48.287Z"
   },
   {
    "duration": 418,
    "start_time": "2023-08-18T06:56:48.743Z"
   },
   {
    "duration": 6,
    "start_time": "2023-08-18T06:57:52.927Z"
   },
   {
    "duration": 399,
    "start_time": "2023-08-18T06:57:54.342Z"
   },
   {
    "duration": 5,
    "start_time": "2023-08-18T06:58:16.885Z"
   },
   {
    "duration": 5,
    "start_time": "2023-08-18T06:58:25.163Z"
   },
   {
    "duration": 535,
    "start_time": "2023-08-18T06:58:26.262Z"
   },
   {
    "duration": 6,
    "start_time": "2023-08-18T06:58:37.911Z"
   },
   {
    "duration": 456,
    "start_time": "2023-08-18T06:58:38.932Z"
   },
   {
    "duration": 398,
    "start_time": "2023-08-18T06:58:44.239Z"
   },
   {
    "duration": 434,
    "start_time": "2023-08-18T06:58:45.994Z"
   },
   {
    "duration": 1329,
    "start_time": "2023-08-18T07:01:36.024Z"
   },
   {
    "duration": 363,
    "start_time": "2023-08-18T07:01:37.356Z"
   },
   {
    "duration": 13,
    "start_time": "2023-08-18T07:01:37.721Z"
   },
   {
    "duration": 15,
    "start_time": "2023-08-18T07:01:37.735Z"
   },
   {
    "duration": 13,
    "start_time": "2023-08-18T07:01:37.752Z"
   },
   {
    "duration": 44,
    "start_time": "2023-08-18T07:01:37.767Z"
   },
   {
    "duration": 22,
    "start_time": "2023-08-18T07:01:37.812Z"
   },
   {
    "duration": 18,
    "start_time": "2023-08-18T07:01:37.836Z"
   },
   {
    "duration": 37,
    "start_time": "2023-08-18T07:01:37.856Z"
   },
   {
    "duration": 34,
    "start_time": "2023-08-18T07:01:37.894Z"
   },
   {
    "duration": 45,
    "start_time": "2023-08-18T07:01:37.930Z"
   },
   {
    "duration": 2,
    "start_time": "2023-08-18T07:01:37.977Z"
   },
   {
    "duration": 5079,
    "start_time": "2023-08-18T07:01:37.981Z"
   },
   {
    "duration": 3963,
    "start_time": "2023-08-18T07:01:43.066Z"
   },
   {
    "duration": 3990,
    "start_time": "2023-08-18T07:01:47.030Z"
   },
   {
    "duration": 329,
    "start_time": "2023-08-18T07:01:51.022Z"
   },
   {
    "duration": 441,
    "start_time": "2023-08-18T07:01:51.353Z"
   },
   {
    "duration": 292,
    "start_time": "2023-08-18T07:01:51.795Z"
   },
   {
    "duration": 2447,
    "start_time": "2023-08-18T07:01:52.089Z"
   },
   {
    "duration": 3,
    "start_time": "2023-08-18T07:01:54.538Z"
   },
   {
    "duration": 35,
    "start_time": "2023-08-18T07:01:54.543Z"
   },
   {
    "duration": 697,
    "start_time": "2023-08-18T07:01:54.580Z"
   },
   {
    "duration": 699,
    "start_time": "2023-08-18T07:01:55.284Z"
   },
   {
    "duration": 799,
    "start_time": "2023-08-18T07:01:55.985Z"
   },
   {
    "duration": 90,
    "start_time": "2023-08-18T07:01:56.786Z"
   },
   {
    "duration": 113,
    "start_time": "2023-08-18T07:01:56.878Z"
   },
   {
    "duration": 11,
    "start_time": "2023-08-18T07:01:56.993Z"
   },
   {
    "duration": 2080,
    "start_time": "2023-08-18T07:01:57.005Z"
   },
   {
    "duration": 94,
    "start_time": "2023-08-18T07:01:59.182Z"
   },
   {
    "duration": 18,
    "start_time": "2023-08-18T07:01:59.280Z"
   },
   {
    "duration": 7,
    "start_time": "2023-08-18T07:01:59.299Z"
   },
   {
    "duration": 27,
    "start_time": "2023-08-18T07:01:59.308Z"
   },
   {
    "duration": 271,
    "start_time": "2023-08-18T07:01:59.336Z"
   },
   {
    "duration": 3,
    "start_time": "2023-08-18T07:01:59.609Z"
   },
   {
    "duration": 26,
    "start_time": "2023-08-18T07:01:59.613Z"
   },
   {
    "duration": 8,
    "start_time": "2023-08-18T07:01:59.641Z"
   },
   {
    "duration": 418,
    "start_time": "2023-08-18T07:01:59.651Z"
   },
   {
    "duration": 503,
    "start_time": "2023-08-18T07:02:00.071Z"
   },
   {
    "duration": 420,
    "start_time": "2023-08-18T07:02:00.576Z"
   },
   {
    "duration": 1655,
    "start_time": "2023-08-19T08:38:32.325Z"
   },
   {
    "duration": 1667,
    "start_time": "2023-08-19T08:38:33.983Z"
   },
   {
    "duration": 16,
    "start_time": "2023-08-19T08:38:35.652Z"
   },
   {
    "duration": 10,
    "start_time": "2023-08-19T08:38:35.671Z"
   },
   {
    "duration": 18,
    "start_time": "2023-08-19T08:38:35.683Z"
   },
   {
    "duration": 22,
    "start_time": "2023-08-19T08:38:35.703Z"
   },
   {
    "duration": 44,
    "start_time": "2023-08-19T08:38:35.727Z"
   },
   {
    "duration": 20,
    "start_time": "2023-08-19T08:38:35.774Z"
   },
   {
    "duration": 63,
    "start_time": "2023-08-19T08:38:35.796Z"
   },
   {
    "duration": 40,
    "start_time": "2023-08-19T08:38:35.863Z"
   },
   {
    "duration": 59,
    "start_time": "2023-08-19T08:38:35.905Z"
   },
   {
    "duration": 4,
    "start_time": "2023-08-19T08:38:35.967Z"
   },
   {
    "duration": 4968,
    "start_time": "2023-08-19T08:38:35.972Z"
   },
   {
    "duration": 3802,
    "start_time": "2023-08-19T08:38:40.943Z"
   },
   {
    "duration": 4000,
    "start_time": "2023-08-19T08:38:44.747Z"
   },
   {
    "duration": 349,
    "start_time": "2023-08-19T08:38:48.749Z"
   },
   {
    "duration": 478,
    "start_time": "2023-08-19T08:38:49.099Z"
   },
   {
    "duration": 308,
    "start_time": "2023-08-19T08:38:49.579Z"
   },
   {
    "duration": 2391,
    "start_time": "2023-08-19T08:38:49.889Z"
   },
   {
    "duration": 4,
    "start_time": "2023-08-19T08:38:52.282Z"
   },
   {
    "duration": 14,
    "start_time": "2023-08-19T08:38:52.287Z"
   },
   {
    "duration": 665,
    "start_time": "2023-08-19T08:38:52.302Z"
   },
   {
    "duration": 499,
    "start_time": "2023-08-19T08:38:52.969Z"
   },
   {
    "duration": 795,
    "start_time": "2023-08-19T08:38:53.470Z"
   },
   {
    "duration": 90,
    "start_time": "2023-08-19T08:38:54.271Z"
   },
   {
    "duration": 16,
    "start_time": "2023-08-19T08:38:54.364Z"
   },
   {
    "duration": 9,
    "start_time": "2023-08-19T08:38:54.382Z"
   },
   {
    "duration": 1865,
    "start_time": "2023-08-19T08:38:54.397Z"
   },
   {
    "duration": 5,
    "start_time": "2023-08-19T08:38:56.265Z"
   },
   {
    "duration": 218,
    "start_time": "2023-08-19T08:38:56.360Z"
   },
   {
    "duration": 0,
    "start_time": "2023-08-19T08:38:56.579Z"
   },
   {
    "duration": 0,
    "start_time": "2023-08-19T08:38:56.581Z"
   },
   {
    "duration": 0,
    "start_time": "2023-08-19T08:38:56.583Z"
   },
   {
    "duration": 0,
    "start_time": "2023-08-19T08:38:56.584Z"
   },
   {
    "duration": 0,
    "start_time": "2023-08-19T08:38:56.585Z"
   },
   {
    "duration": 0,
    "start_time": "2023-08-19T08:38:56.586Z"
   },
   {
    "duration": 0,
    "start_time": "2023-08-19T08:38:56.587Z"
   },
   {
    "duration": 0,
    "start_time": "2023-08-19T08:38:56.589Z"
   },
   {
    "duration": 0,
    "start_time": "2023-08-19T08:38:56.590Z"
   },
   {
    "duration": 4,
    "start_time": "2023-08-19T08:39:44.809Z"
   },
   {
    "duration": 13,
    "start_time": "2023-08-19T08:39:45.886Z"
   },
   {
    "duration": 4,
    "start_time": "2023-08-19T08:40:49.757Z"
   },
   {
    "duration": 16,
    "start_time": "2023-08-19T08:40:50.871Z"
   },
   {
    "duration": 4,
    "start_time": "2023-08-19T08:41:03.866Z"
   },
   {
    "duration": 7,
    "start_time": "2023-08-19T08:41:05.487Z"
   },
   {
    "duration": 8,
    "start_time": "2023-08-19T08:41:07.648Z"
   },
   {
    "duration": 8,
    "start_time": "2023-08-19T08:41:09.417Z"
   },
   {
    "duration": 259,
    "start_time": "2023-08-19T08:41:11.452Z"
   },
   {
    "duration": 4,
    "start_time": "2023-08-19T08:41:47.374Z"
   },
   {
    "duration": 4,
    "start_time": "2023-08-19T08:41:48.666Z"
   },
   {
    "duration": 5,
    "start_time": "2023-08-19T08:41:49.738Z"
   },
   {
    "duration": 16,
    "start_time": "2023-08-19T08:41:53.796Z"
   },
   {
    "duration": 6,
    "start_time": "2023-08-19T08:42:26.524Z"
   },
   {
    "duration": 521,
    "start_time": "2023-08-19T08:42:29.302Z"
   },
   {
    "duration": 5,
    "start_time": "2023-08-19T08:43:03.558Z"
   },
   {
    "duration": 13,
    "start_time": "2023-08-19T08:43:38.693Z"
   },
   {
    "duration": 6,
    "start_time": "2023-08-19T08:44:14.513Z"
   },
   {
    "duration": 13,
    "start_time": "2023-08-19T08:44:16.878Z"
   },
   {
    "duration": 7,
    "start_time": "2023-08-19T08:44:30.025Z"
   },
   {
    "duration": 23,
    "start_time": "2023-08-19T08:44:31.750Z"
   },
   {
    "duration": 5,
    "start_time": "2023-08-19T08:44:58.325Z"
   },
   {
    "duration": 15,
    "start_time": "2023-08-19T08:45:00.526Z"
   },
   {
    "duration": 6,
    "start_time": "2023-08-19T08:47:30.558Z"
   },
   {
    "duration": 16,
    "start_time": "2023-08-19T08:47:36.355Z"
   },
   {
    "duration": 6,
    "start_time": "2023-08-19T08:47:47.625Z"
   },
   {
    "duration": 503,
    "start_time": "2023-08-19T08:47:49.476Z"
   },
   {
    "duration": 524,
    "start_time": "2023-08-19T08:48:56.508Z"
   },
   {
    "duration": 563,
    "start_time": "2023-08-19T08:48:59.204Z"
   },
   {
    "duration": 1676,
    "start_time": "2023-08-19T08:55:28.787Z"
   },
   {
    "duration": 384,
    "start_time": "2023-08-19T08:55:30.465Z"
   },
   {
    "duration": 18,
    "start_time": "2023-08-19T08:55:30.851Z"
   },
   {
    "duration": 37,
    "start_time": "2023-08-19T08:55:30.871Z"
   },
   {
    "duration": 61,
    "start_time": "2023-08-19T08:55:30.910Z"
   },
   {
    "duration": 62,
    "start_time": "2023-08-19T08:55:30.973Z"
   },
   {
    "duration": 44,
    "start_time": "2023-08-19T08:55:31.036Z"
   },
   {
    "duration": 40,
    "start_time": "2023-08-19T08:55:31.083Z"
   },
   {
    "duration": 58,
    "start_time": "2023-08-19T08:55:31.125Z"
   },
   {
    "duration": 43,
    "start_time": "2023-08-19T08:55:31.186Z"
   },
   {
    "duration": 60,
    "start_time": "2023-08-19T08:55:31.231Z"
   },
   {
    "duration": 4,
    "start_time": "2023-08-19T08:55:31.293Z"
   },
   {
    "duration": 5370,
    "start_time": "2023-08-19T08:55:31.299Z"
   },
   {
    "duration": 3593,
    "start_time": "2023-08-19T08:55:36.671Z"
   },
   {
    "duration": 3964,
    "start_time": "2023-08-19T08:55:40.265Z"
   },
   {
    "duration": 382,
    "start_time": "2023-08-19T08:55:44.231Z"
   },
   {
    "duration": 533,
    "start_time": "2023-08-19T08:55:44.615Z"
   },
   {
    "duration": 335,
    "start_time": "2023-08-19T08:55:45.150Z"
   },
   {
    "duration": 2296,
    "start_time": "2023-08-19T08:55:45.486Z"
   },
   {
    "duration": 4,
    "start_time": "2023-08-19T08:55:47.784Z"
   },
   {
    "duration": 15,
    "start_time": "2023-08-19T08:55:47.789Z"
   },
   {
    "duration": 560,
    "start_time": "2023-08-19T08:55:47.806Z"
   },
   {
    "duration": 896,
    "start_time": "2023-08-19T08:55:48.368Z"
   },
   {
    "duration": 694,
    "start_time": "2023-08-19T08:55:49.267Z"
   },
   {
    "duration": 3,
    "start_time": "2023-08-19T08:55:49.963Z"
   },
   {
    "duration": 331,
    "start_time": "2023-08-19T08:55:49.968Z"
   },
   {
    "duration": 146,
    "start_time": "2023-08-19T08:55:50.301Z"
   },
   {
    "duration": 2213,
    "start_time": "2023-08-19T08:55:50.452Z"
   },
   {
    "duration": 92,
    "start_time": "2023-08-19T08:55:52.668Z"
   },
   {
    "duration": 103,
    "start_time": "2023-08-19T08:55:52.763Z"
   },
   {
    "duration": 8,
    "start_time": "2023-08-19T08:55:52.868Z"
   },
   {
    "duration": 8,
    "start_time": "2023-08-19T08:55:52.878Z"
   },
   {
    "duration": 310,
    "start_time": "2023-08-19T08:55:52.887Z"
   },
   {
    "duration": 4,
    "start_time": "2023-08-19T08:55:53.199Z"
   },
   {
    "duration": 6,
    "start_time": "2023-08-19T08:55:53.204Z"
   },
   {
    "duration": 6,
    "start_time": "2023-08-19T08:55:53.211Z"
   },
   {
    "duration": 578,
    "start_time": "2023-08-19T08:55:53.219Z"
   },
   {
    "duration": 628,
    "start_time": "2023-08-19T08:55:53.799Z"
   },
   {
    "duration": 555,
    "start_time": "2023-08-19T08:55:54.429Z"
   },
   {
    "duration": 1493,
    "start_time": "2023-08-19T08:56:05.315Z"
   },
   {
    "duration": 357,
    "start_time": "2023-08-19T08:56:06.810Z"
   },
   {
    "duration": 14,
    "start_time": "2023-08-19T08:56:07.169Z"
   },
   {
    "duration": 9,
    "start_time": "2023-08-19T08:56:07.185Z"
   },
   {
    "duration": 16,
    "start_time": "2023-08-19T08:56:07.196Z"
   },
   {
    "duration": 45,
    "start_time": "2023-08-19T08:56:07.214Z"
   },
   {
    "duration": 19,
    "start_time": "2023-08-19T08:56:07.261Z"
   },
   {
    "duration": 20,
    "start_time": "2023-08-19T08:56:07.282Z"
   },
   {
    "duration": 68,
    "start_time": "2023-08-19T08:56:07.304Z"
   },
   {
    "duration": 39,
    "start_time": "2023-08-19T08:56:07.373Z"
   },
   {
    "duration": 57,
    "start_time": "2023-08-19T08:56:07.414Z"
   },
   {
    "duration": 3,
    "start_time": "2023-08-19T08:56:07.472Z"
   },
   {
    "duration": 5022,
    "start_time": "2023-08-19T08:56:07.477Z"
   },
   {
    "duration": 3657,
    "start_time": "2023-08-19T08:56:12.502Z"
   },
   {
    "duration": 3862,
    "start_time": "2023-08-19T08:56:16.161Z"
   },
   {
    "duration": 359,
    "start_time": "2023-08-19T08:56:20.025Z"
   },
   {
    "duration": 485,
    "start_time": "2023-08-19T08:56:20.386Z"
   },
   {
    "duration": 314,
    "start_time": "2023-08-19T08:56:20.873Z"
   },
   {
    "duration": 2342,
    "start_time": "2023-08-19T08:56:21.188Z"
   },
   {
    "duration": 3,
    "start_time": "2023-08-19T08:56:23.532Z"
   },
   {
    "duration": 13,
    "start_time": "2023-08-19T08:56:23.537Z"
   },
   {
    "duration": 520,
    "start_time": "2023-08-19T08:56:23.552Z"
   },
   {
    "duration": 694,
    "start_time": "2023-08-19T08:56:24.074Z"
   },
   {
    "duration": 508,
    "start_time": "2023-08-19T08:56:24.860Z"
   },
   {
    "duration": 3,
    "start_time": "2023-08-19T08:56:25.369Z"
   },
   {
    "duration": 14,
    "start_time": "2023-08-19T08:56:25.458Z"
   },
   {
    "duration": 101,
    "start_time": "2023-08-19T08:56:25.473Z"
   },
   {
    "duration": 2191,
    "start_time": "2023-08-19T08:56:25.576Z"
   },
   {
    "duration": 90,
    "start_time": "2023-08-19T08:56:27.770Z"
   },
   {
    "duration": 100,
    "start_time": "2023-08-19T08:56:27.862Z"
   },
   {
    "duration": 10,
    "start_time": "2023-08-19T08:56:27.964Z"
   },
   {
    "duration": 10,
    "start_time": "2023-08-19T08:56:27.976Z"
   },
   {
    "duration": 353,
    "start_time": "2023-08-19T08:56:27.987Z"
   },
   {
    "duration": 3,
    "start_time": "2023-08-19T08:56:28.342Z"
   },
   {
    "duration": 15,
    "start_time": "2023-08-19T08:56:28.346Z"
   },
   {
    "duration": 7,
    "start_time": "2023-08-19T08:56:28.362Z"
   },
   {
    "duration": 661,
    "start_time": "2023-08-19T08:56:28.371Z"
   },
   {
    "duration": 619,
    "start_time": "2023-08-19T08:56:29.034Z"
   },
   {
    "duration": 549,
    "start_time": "2023-08-19T08:56:29.658Z"
   }
  ],
  "kernelspec": {
   "display_name": "Python 3 (ipykernel)",
   "language": "python",
   "name": "python3"
  },
  "language_info": {
   "codemirror_mode": {
    "name": "ipython",
    "version": 3
   },
   "file_extension": ".py",
   "mimetype": "text/x-python",
   "name": "python",
   "nbconvert_exporter": "python",
   "pygments_lexer": "ipython3",
   "version": "3.10.9"
  },
  "toc": {
   "base_numbering": 1,
   "nav_menu": {},
   "number_sections": true,
   "sideBar": true,
   "skip_h1_title": true,
   "title_cell": "Table of Contents",
   "title_sidebar": "Contents",
   "toc_cell": false,
   "toc_position": {},
   "toc_section_display": true,
   "toc_window_display": false
  }
 },
 "nbformat": 4,
 "nbformat_minor": 2
}
