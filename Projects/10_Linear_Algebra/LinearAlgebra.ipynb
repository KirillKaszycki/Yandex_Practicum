{
 "cells": [
  {
   "cell_type": "markdown",
   "metadata": {
    "toc": true
   },
   "source": [
    "<h1>Содержание<span class=\"tocSkip\"></span></h1>\n",
    "<div class=\"toc\"><ul class=\"toc-item\"><li><span><a href=\"#Загрузка-данных\" data-toc-modified-id=\"Загрузка-данных-1\"><span class=\"toc-item-num\">1&nbsp;&nbsp;</span>Загрузка данных</a></span></li><li><span><a href=\"#Умножение-матриц\" data-toc-modified-id=\"Умножение-матриц-2\"><span class=\"toc-item-num\">2&nbsp;&nbsp;</span>Умножение матриц</a></span></li><li><span><a href=\"#Алгоритм-преобразования\" data-toc-modified-id=\"Алгоритм-преобразования-3\"><span class=\"toc-item-num\">3&nbsp;&nbsp;</span>Алгоритм преобразования</a></span></li><li><span><a href=\"#Проверка-алгоритма\" data-toc-modified-id=\"Проверка-алгоритма-4\"><span class=\"toc-item-num\">4&nbsp;&nbsp;</span>Проверка алгоритма</a></span></li><li><span><a href=\"#Чек-лист-проверки\" data-toc-modified-id=\"Чек-лист-проверки-5\"><span class=\"toc-item-num\">5&nbsp;&nbsp;</span>Чек-лист проверки</a></span></li></ul></div>"
   ]
  },
  {
   "cell_type": "markdown",
   "metadata": {},
   "source": [
    "# Защита персональных данных клиентов"
   ]
  },
  {
   "cell_type": "markdown",
   "metadata": {},
   "source": [
    "Вам нужно защитить данные клиентов страховой компании «Хоть потоп». Разработайте такой метод преобразования данных, чтобы по ним было сложно восстановить персональную информацию. Обоснуйте корректность его работы.\n",
    "\n",
    "Нужно защитить данные, чтобы при преобразовании качество моделей машинного обучения не ухудшилось. Подбирать наилучшую модель не требуется."
   ]
  },
  {
   "cell_type": "markdown",
   "metadata": {},
   "source": [
    "**ТЗ**\n",
    "\n",
    "Инструкция по выполнению проекта\n",
    "\n",
    "- Загрузите и изучите данные.\n",
    "- Ответьте на вопрос и обоснуйте решение. \n",
    "- Признаки умножают на обратимую матрицу. Изменится ли качество линейной регрессии? (Её можно обучить заново.)\n",
    "\n",
    " a. Изменится. Приведите примеры матриц.\n",
    " \n",
    " b. Не изменится. Укажите, как связаны параметры линейной регрессии в исходной задаче и в преобразованной.\n",
    " \n",
    " \n",
    "- Предложите алгоритм преобразования данных для решения задачи. Обоснуйте, почему качество линейной регрессии не поменяется.\n",
    "- Запрограммируйте этот алгоритм, применив матричные операции. Проверьте, что качество линейной регрессии из sklearn не отличается до и после преобразования. Примените метрику R2.\n"
   ]
  },
  {
   "cell_type": "markdown",
   "metadata": {},
   "source": [
    "## Загрузка данных"
   ]
  },
  {
   "cell_type": "code",
   "execution_count": 1,
   "metadata": {},
   "outputs": [],
   "source": [
    "import pandas as pd\n",
    "import numpy as np\n",
    "\n",
    "import matplotlib.pyplot as plt\n",
    "%matplotlib inline\n",
    "import seaborn as sns\n",
    "sns.set_style('whitegrid')\n",
    "import plotly.express as px\n",
    "\n",
    "from sklearn.model_selection import train_test_split\n",
    "from sklearn.metrics import r2_score\n",
    "from sklearn.linear_model import LinearRegression\n",
    "from sklearn.dummy import DummyRegressor\n",
    "\n",
    "import warnings\n",
    "warnings.simplefilter('ignore')"
   ]
  },
  {
   "cell_type": "code",
   "execution_count": 2,
   "metadata": {},
   "outputs": [
    {
     "data": {
      "text/html": [
       "<div>\n",
       "<style scoped>\n",
       "    .dataframe tbody tr th:only-of-type {\n",
       "        vertical-align: middle;\n",
       "    }\n",
       "\n",
       "    .dataframe tbody tr th {\n",
       "        vertical-align: top;\n",
       "    }\n",
       "\n",
       "    .dataframe thead th {\n",
       "        text-align: right;\n",
       "    }\n",
       "</style>\n",
       "<table border=\"1\" class=\"dataframe\">\n",
       "  <thead>\n",
       "    <tr style=\"text-align: right;\">\n",
       "      <th></th>\n",
       "      <th>Пол</th>\n",
       "      <th>Возраст</th>\n",
       "      <th>Зарплата</th>\n",
       "      <th>Члены семьи</th>\n",
       "      <th>Страховые выплаты</th>\n",
       "    </tr>\n",
       "  </thead>\n",
       "  <tbody>\n",
       "    <tr>\n",
       "      <th>0</th>\n",
       "      <td>1</td>\n",
       "      <td>41.0</td>\n",
       "      <td>49600.0</td>\n",
       "      <td>1</td>\n",
       "      <td>0</td>\n",
       "    </tr>\n",
       "    <tr>\n",
       "      <th>1</th>\n",
       "      <td>0</td>\n",
       "      <td>46.0</td>\n",
       "      <td>38000.0</td>\n",
       "      <td>1</td>\n",
       "      <td>1</td>\n",
       "    </tr>\n",
       "    <tr>\n",
       "      <th>2</th>\n",
       "      <td>0</td>\n",
       "      <td>29.0</td>\n",
       "      <td>21000.0</td>\n",
       "      <td>0</td>\n",
       "      <td>0</td>\n",
       "    </tr>\n",
       "    <tr>\n",
       "      <th>3</th>\n",
       "      <td>0</td>\n",
       "      <td>21.0</td>\n",
       "      <td>41700.0</td>\n",
       "      <td>2</td>\n",
       "      <td>0</td>\n",
       "    </tr>\n",
       "    <tr>\n",
       "      <th>4</th>\n",
       "      <td>1</td>\n",
       "      <td>28.0</td>\n",
       "      <td>26100.0</td>\n",
       "      <td>0</td>\n",
       "      <td>0</td>\n",
       "    </tr>\n",
       "  </tbody>\n",
       "</table>\n",
       "</div>"
      ],
      "text/plain": [
       "   Пол  Возраст  Зарплата  Члены семьи  Страховые выплаты\n",
       "0    1     41.0   49600.0            1                  0\n",
       "1    0     46.0   38000.0            1                  1\n",
       "2    0     29.0   21000.0            0                  0\n",
       "3    0     21.0   41700.0            2                  0\n",
       "4    1     28.0   26100.0            0                  0"
      ]
     },
     "execution_count": 2,
     "metadata": {},
     "output_type": "execute_result"
    }
   ],
   "source": [
    "df = pd.read_csv('/datasets/insurance.csv', encoding='UTF-8')\n",
    "df.head()"
   ]
  },
  {
   "cell_type": "markdown",
   "metadata": {},
   "source": [
    "- Пол, страховые выплаты – категориальные признаки\n",
    "- Возраст, зарплата, члени семьи – количественные признаки"
   ]
  },
  {
   "cell_type": "code",
   "execution_count": 3,
   "metadata": {},
   "outputs": [
    {
     "name": "stdout",
     "output_type": "stream",
     "text": [
      "<class 'pandas.core.frame.DataFrame'>\n",
      "RangeIndex: 5000 entries, 0 to 4999\n",
      "Data columns (total 5 columns):\n",
      " #   Column             Non-Null Count  Dtype  \n",
      "---  ------             --------------  -----  \n",
      " 0   Пол                5000 non-null   int64  \n",
      " 1   Возраст            5000 non-null   float64\n",
      " 2   Зарплата           5000 non-null   float64\n",
      " 3   Члены семьи        5000 non-null   int64  \n",
      " 4   Страховые выплаты  5000 non-null   int64  \n",
      "dtypes: float64(2), int64(3)\n",
      "memory usage: 195.4 KB\n"
     ]
    }
   ],
   "source": [
    "df.info()"
   ]
  },
  {
   "cell_type": "code",
   "execution_count": 4,
   "metadata": {},
   "outputs": [
    {
     "data": {
      "text/html": [
       "<div>\n",
       "<style scoped>\n",
       "    .dataframe tbody tr th:only-of-type {\n",
       "        vertical-align: middle;\n",
       "    }\n",
       "\n",
       "    .dataframe tbody tr th {\n",
       "        vertical-align: top;\n",
       "    }\n",
       "\n",
       "    .dataframe thead th {\n",
       "        text-align: right;\n",
       "    }\n",
       "</style>\n",
       "<table border=\"1\" class=\"dataframe\">\n",
       "  <thead>\n",
       "    <tr style=\"text-align: right;\">\n",
       "      <th></th>\n",
       "      <th>count</th>\n",
       "      <th>mean</th>\n",
       "      <th>std</th>\n",
       "      <th>min</th>\n",
       "      <th>25%</th>\n",
       "      <th>50%</th>\n",
       "      <th>75%</th>\n",
       "      <th>max</th>\n",
       "    </tr>\n",
       "  </thead>\n",
       "  <tbody>\n",
       "    <tr>\n",
       "      <th>Пол</th>\n",
       "      <td>5000.0</td>\n",
       "      <td>0.4990</td>\n",
       "      <td>0.500049</td>\n",
       "      <td>0.0</td>\n",
       "      <td>0.0</td>\n",
       "      <td>0.0</td>\n",
       "      <td>1.0</td>\n",
       "      <td>1.0</td>\n",
       "    </tr>\n",
       "    <tr>\n",
       "      <th>Возраст</th>\n",
       "      <td>5000.0</td>\n",
       "      <td>30.9528</td>\n",
       "      <td>8.440807</td>\n",
       "      <td>18.0</td>\n",
       "      <td>24.0</td>\n",
       "      <td>30.0</td>\n",
       "      <td>37.0</td>\n",
       "      <td>65.0</td>\n",
       "    </tr>\n",
       "    <tr>\n",
       "      <th>Зарплата</th>\n",
       "      <td>5000.0</td>\n",
       "      <td>39916.3600</td>\n",
       "      <td>9900.083569</td>\n",
       "      <td>5300.0</td>\n",
       "      <td>33300.0</td>\n",
       "      <td>40200.0</td>\n",
       "      <td>46600.0</td>\n",
       "      <td>79000.0</td>\n",
       "    </tr>\n",
       "    <tr>\n",
       "      <th>Члены семьи</th>\n",
       "      <td>5000.0</td>\n",
       "      <td>1.1942</td>\n",
       "      <td>1.091387</td>\n",
       "      <td>0.0</td>\n",
       "      <td>0.0</td>\n",
       "      <td>1.0</td>\n",
       "      <td>2.0</td>\n",
       "      <td>6.0</td>\n",
       "    </tr>\n",
       "    <tr>\n",
       "      <th>Страховые выплаты</th>\n",
       "      <td>5000.0</td>\n",
       "      <td>0.1480</td>\n",
       "      <td>0.463183</td>\n",
       "      <td>0.0</td>\n",
       "      <td>0.0</td>\n",
       "      <td>0.0</td>\n",
       "      <td>0.0</td>\n",
       "      <td>5.0</td>\n",
       "    </tr>\n",
       "  </tbody>\n",
       "</table>\n",
       "</div>"
      ],
      "text/plain": [
       "                    count        mean          std     min      25%      50%  \\\n",
       "Пол                5000.0      0.4990     0.500049     0.0      0.0      0.0   \n",
       "Возраст            5000.0     30.9528     8.440807    18.0     24.0     30.0   \n",
       "Зарплата           5000.0  39916.3600  9900.083569  5300.0  33300.0  40200.0   \n",
       "Члены семьи        5000.0      1.1942     1.091387     0.0      0.0      1.0   \n",
       "Страховые выплаты  5000.0      0.1480     0.463183     0.0      0.0      0.0   \n",
       "\n",
       "                       75%      max  \n",
       "Пол                    1.0      1.0  \n",
       "Возраст               37.0     65.0  \n",
       "Зарплата           46600.0  79000.0  \n",
       "Члены семьи            2.0      6.0  \n",
       "Страховые выплаты      0.0      5.0  "
      ]
     },
     "execution_count": 4,
     "metadata": {},
     "output_type": "execute_result"
    }
   ],
   "source": [
    "df.describe().T"
   ]
  },
  {
   "cell_type": "code",
   "execution_count": 5,
   "metadata": {},
   "outputs": [
    {
     "data": {
      "text/plain": [
       "(5000, 5)"
      ]
     },
     "execution_count": 5,
     "metadata": {},
     "output_type": "execute_result"
    }
   ],
   "source": [
    "df.shape"
   ]
  },
  {
   "cell_type": "code",
   "execution_count": 6,
   "metadata": {},
   "outputs": [
    {
     "data": {
      "text/plain": [
       "Пол                  0\n",
       "Возраст              0\n",
       "Зарплата             0\n",
       "Члены семьи          0\n",
       "Страховые выплаты    0\n",
       "dtype: int64"
      ]
     },
     "execution_count": 6,
     "metadata": {},
     "output_type": "execute_result"
    }
   ],
   "source": [
    "df.isna().sum()"
   ]
  },
  {
   "cell_type": "code",
   "execution_count": 7,
   "metadata": {},
   "outputs": [
    {
     "data": {
      "text/html": [
       "<div>\n",
       "<style scoped>\n",
       "    .dataframe tbody tr th:only-of-type {\n",
       "        vertical-align: middle;\n",
       "    }\n",
       "\n",
       "    .dataframe tbody tr th {\n",
       "        vertical-align: top;\n",
       "    }\n",
       "\n",
       "    .dataframe thead th {\n",
       "        text-align: right;\n",
       "    }\n",
       "</style>\n",
       "<table border=\"1\" class=\"dataframe\">\n",
       "  <thead>\n",
       "    <tr style=\"text-align: right;\">\n",
       "      <th></th>\n",
       "      <th>gender</th>\n",
       "      <th>age</th>\n",
       "      <th>salary</th>\n",
       "      <th>family_members</th>\n",
       "      <th>insurance_payment</th>\n",
       "    </tr>\n",
       "  </thead>\n",
       "  <tbody>\n",
       "    <tr>\n",
       "      <th>0</th>\n",
       "      <td>1</td>\n",
       "      <td>41.0</td>\n",
       "      <td>49600.0</td>\n",
       "      <td>1</td>\n",
       "      <td>0</td>\n",
       "    </tr>\n",
       "    <tr>\n",
       "      <th>1</th>\n",
       "      <td>0</td>\n",
       "      <td>46.0</td>\n",
       "      <td>38000.0</td>\n",
       "      <td>1</td>\n",
       "      <td>1</td>\n",
       "    </tr>\n",
       "    <tr>\n",
       "      <th>2</th>\n",
       "      <td>0</td>\n",
       "      <td>29.0</td>\n",
       "      <td>21000.0</td>\n",
       "      <td>0</td>\n",
       "      <td>0</td>\n",
       "    </tr>\n",
       "    <tr>\n",
       "      <th>3</th>\n",
       "      <td>0</td>\n",
       "      <td>21.0</td>\n",
       "      <td>41700.0</td>\n",
       "      <td>2</td>\n",
       "      <td>0</td>\n",
       "    </tr>\n",
       "    <tr>\n",
       "      <th>4</th>\n",
       "      <td>1</td>\n",
       "      <td>28.0</td>\n",
       "      <td>26100.0</td>\n",
       "      <td>0</td>\n",
       "      <td>0</td>\n",
       "    </tr>\n",
       "  </tbody>\n",
       "</table>\n",
       "</div>"
      ],
      "text/plain": [
       "   gender   age   salary  family_members  insurance_payment\n",
       "0       1  41.0  49600.0               1                  0\n",
       "1       0  46.0  38000.0               1                  1\n",
       "2       0  29.0  21000.0               0                  0\n",
       "3       0  21.0  41700.0               2                  0\n",
       "4       1  28.0  26100.0               0                  0"
      ]
     },
     "execution_count": 7,
     "metadata": {},
     "output_type": "execute_result"
    }
   ],
   "source": [
    "cols_new = ['gender', 'age', 'salary', 'family_members', 'insurance_payment']\n",
    "\n",
    "cols = {}\n",
    "for key, val in zip(df.columns, cols_new):\n",
    "    cols.update({key : val})\n",
    "    \n",
    "df = df.rename(columns=cols)\n",
    "df.head()"
   ]
  },
  {
   "cell_type": "markdown",
   "metadata": {},
   "source": [
    "**Вывод по предобработке данных**\n",
    "\n",
    "- Пропусков нет\n",
    "- Дубликаты не ищу, так как здесь данные обезличены и у нескольких пользователей могут быть одинаковые параметры\n",
    "- Типы данных оставил неизменными\n",
    "- Названия полей переименованы"
   ]
  },
  {
   "cell_type": "markdown",
   "metadata": {},
   "source": [
    "**EDA**"
   ]
  },
  {
   "cell_type": "code",
   "execution_count": 8,
   "metadata": {},
   "outputs": [],
   "source": [
    "def graphs_creator(field):\n",
    "    plt.figure(figsize=(10, 5))\n",
    "    sns.histplot(data=df[field], kde=True, alpha=0.5)\n",
    "    plt.title(f'Распределение по {field}')\n",
    "    plt.xlabel(f'{field}')\n",
    "    plt.ylabel('Количество')\n",
    "    plt.show()\n",
    "    \n",
    "    plt.figure(figsize=(10, 5))\n",
    "    sns.boxplot(data=df[field])\n",
    "    plt.title(f'Boxplot по {field}')\n",
    "    plt.xlabel(f'{field}')\n",
    "    plt.ylabel('Количество')\n",
    "    plt.show()"
   ]
  },
  {
   "cell_type": "code",
   "execution_count": 9,
   "metadata": {},
   "outputs": [
    {
     "data": {
      "image/png": "[encoded data removed]",
      "text/plain": [
       "<Figure size 720x360 with 1 Axes>"
      ]
     },
     "metadata": {},
     "output_type": "display_data"
    },
    {
     "data": {
      "image/png": "[encoded data removed]",
      "text/plain": [
       "<Figure size 720x360 with 1 Axes>"
      ]
     },
     "metadata": {},
     "output_type": "display_data"
    }
   ],
   "source": [
    "graphs_creator('age')"
   ]
  },
  {
   "cell_type": "code",
   "execution_count": 10,
   "metadata": {},
   "outputs": [
    {
     "data": {
      "image/png": "[encoded data removed]",
      "text/plain": [
       "<Figure size 720x360 with 1 Axes>"
      ]
     },
     "metadata": {},
     "output_type": "display_data"
    },
    {
     "data": {
      "image/png": "[encoded data removed]",
      "text/plain": [
       "<Figure size 720x360 with 1 Axes>"
      ]
     },
     "metadata": {},
     "output_type": "display_data"
    }
   ],
   "source": [
    "graphs_creator('salary')"
   ]
  },
  {
   "cell_type": "code",
   "execution_count": 11,
   "metadata": {},
   "outputs": [
    {
     "data": {
      "text/plain": [
       "<Figure size 720x360 with 0 Axes>"
      ]
     },
     "metadata": {},
     "output_type": "display_data"
    },
    {
     "data": {
      "image/png": "[encoded data removed]",
      "text/plain": [
       "<Figure size 432x432 with 3 Axes>"
      ]
     },
     "metadata": {},
     "output_type": "display_data"
    }
   ],
   "source": [
    "plt.figure(figsize=(10, 5))\n",
    "sns.jointplot(x=df['age'], y=df['salary'], kind='hex')\n",
    "plt.title('Разброс разплат по возрасту')\n",
    "plt.xlabel('Возраст')\n",
    "plt.ylabel('Зарплаты')\n",
    "plt.show()"
   ]
  },
  {
   "cell_type": "code",
   "execution_count": 12,
   "metadata": {},
   "outputs": [
    {
     "data": {
      "image/png": "[encoded data removed]",
      "text/plain": [
       "<Figure size 720x360 with 2 Axes>"
      ]
     },
     "metadata": {},
     "output_type": "display_data"
    }
   ],
   "source": [
    "corr_matrix = df[['age', 'salary', 'family_members']].corr()\n",
    "plt.figure(figsize=(10, 5))\n",
    "sns.heatmap(corr_matrix, annot=True, fmt='.2f', cmap='coolwarm')\n",
    "plt.show()"
   ]
  },
  {
   "cell_type": "code",
   "execution_count": 13,
   "metadata": {},
   "outputs": [],
   "source": [
    "def cathegorial_graph_creator(field):\n",
    "    plt.figure(figsize=(10, 5))\n",
    "    sns.countplot(x=df[field])\n",
    "    plt.title(f'Столбчатая диаграмма для {field}')\n",
    "    plt.xlabel(f'{field}')\n",
    "    plt.ylabel('Количество')\n",
    "    plt.show()"
   ]
  },
  {
   "cell_type": "code",
   "execution_count": 14,
   "metadata": {},
   "outputs": [
    {
     "data": {
      "image/png": "[encoded data removed]",
      "text/plain": [
       "<Figure size 720x360 with 1 Axes>"
      ]
     },
     "metadata": {},
     "output_type": "display_data"
    }
   ],
   "source": [
    "cathegorial_graph_creator('gender')"
   ]
  },
  {
   "cell_type": "code",
   "execution_count": 15,
   "metadata": {},
   "outputs": [
    {
     "data": {
      "image/png": "[encoded data removed]",
      "text/plain": [
       "<Figure size 720x360 with 1 Axes>"
      ]
     },
     "metadata": {},
     "output_type": "display_data"
    }
   ],
   "source": [
    "cathegorial_graph_creator('insurance_payment')"
   ]
  },
  {
   "cell_type": "code",
   "execution_count": 16,
   "metadata": {},
   "outputs": [
    {
     "data": {
      "image/png": "[encoded data removed]",
      "text/plain": [
       "<Figure size 720x360 with 1 Axes>"
      ]
     },
     "metadata": {},
     "output_type": "display_data"
    }
   ],
   "source": [
    "cathegorial_graph_creator('family_members')"
   ]
  },
  {
   "cell_type": "markdown",
   "metadata": {},
   "source": [
    "**Вывод**\n",
    "\n",
    "- Между количественными признаками корреляции нет\n",
    "- Большинство клиентов – люди с зарплатой 40-48к\n",
    "- Как правило, клиенты – люди во возрасте 20-35 лет\n",
    "- В данных поровну пользователей разных полов\n",
    "- Как правило, это одинокие люди или люди с ещё одним-двумя членами семьи"
   ]
  },
  {
   "cell_type": "markdown",
   "metadata": {},
   "source": [
    "## Умножение матриц"
   ]
  },
  {
   "cell_type": "markdown",
   "metadata": {},
   "source": [
    "В этом задании вы можете записывать формулы в *Jupyter Notebook.*\n",
    "\n",
    "Чтобы записать формулу внутри текста, окружите её символами доллара \\\\$; если снаружи —  двойными символами \\\\$\\\\$. Эти формулы записываются на языке вёрстки *LaTeX.* \n",
    "\n",
    "Для примера мы записали формулы линейной регрессии. Можете их скопировать и отредактировать, чтобы решить задачу.\n",
    "\n",
    "Работать в *LaTeX* необязательно."
   ]
  },
  {
   "cell_type": "markdown",
   "metadata": {},
   "source": [
    "Обозначения:\n",
    "\n",
    "- $X$ — матрица признаков (нулевой столбец состоит из единиц)\n",
    "\n",
    "- $y$ — вектор целевого признака\n",
    "\n",
    "- $P$ — матрица, на которую умножаются признаки\n",
    "\n",
    "- $w$ — вектор весов линейной регрессии (нулевой элемент равен сдвигу)"
   ]
  },
  {
   "cell_type": "markdown",
   "metadata": {},
   "source": [
    "Предсказания:\n",
    "\n",
    "$$\n",
    "a = Xw\n",
    "$$\n",
    "\n",
    "Задача обучения:\n",
    "\n",
    "$$\n",
    "w = \\arg\\min_w MSE(Xw, y)\n",
    "$$\n",
    "\n",
    "Формула обучения:\n",
    "\n",
    "$$\n",
    "w = (X^T X)^{-1} X^T y\n",
    "$$"
   ]
  },
  {
   "cell_type": "markdown",
   "metadata": {},
   "source": [
    "**По ТЗ**\n",
    "\n",
    "Признаки умножают на обратимую матрицу. Изменится ли качество линейной регрессии? (Её можно обучить заново.)\n",
    "\n",
    "a. Изменится. Приведите примеры матриц.\n",
    "\n",
    "b. Не изменится. Укажите, как связаны параметры линейной регрессии в исходной задаче и в преобразованной."
   ]
  },
  {
   "cell_type": "markdown",
   "metadata": {},
   "source": [
    "**Ответ:** \n",
    "Качество линейной регрессии не изменится, если признаки умножаются на обратимую матрицу. Это происходит потому, что параметры линейной регрессии будут соответствующим образом преобразованы, чтобы компенсировать изменения в данных. \n",
    "\n",
    "**Обоснование:** \n",
    "На формулах:\n",
    "\n",
    "Исходная формула линейной регрессии имеет следующий вид: y = X * w + ε\n",
    "\n",
    "Если мы умножим матрицу признаков X на обратимую матрицу A, то новая матрица признаков будет X_new = X * A. Тогда линейная регрессия с новой матрицей признаков будет иметь вид: y = X_new * w_new + ε\n",
    "\n",
    "w_new – это новый вектор параметров регрессии – он равен A^(-1) * w, где A^(-1) – матрица, обртаная к А\n",
    "\n",
    "То есть,\n",
    "- Параметры линейной регрессии связаны в исходной задаче обратимой линейной трансформацией (или же умножением на обратную матрицу)\n",
    "- Линейная регрессия обучается для нахождения оптимальных параметров\n",
    "\n",
    "Следовательно, модель просто адаптирует эти параметры к новым данным после преобразования, и качество модели не изменится"
   ]
  },
  {
   "cell_type": "markdown",
   "metadata": {},
   "source": [
    "## Алгоритм преобразования"
   ]
  },
  {
   "cell_type": "code",
   "execution_count": 17,
   "metadata": {},
   "outputs": [
    {
     "name": "stdout",
     "output_type": "stream",
     "text": [
      "(5000, 4)\n",
      "(5000,)\n"
     ]
    }
   ],
   "source": [
    "# Для начала разделим признаки на матрицу признаков и вектор \"ответов\"\n",
    "X = df.drop('insurance_payment', axis=1)\n",
    "y = df['insurance_payment']\n",
    "\n",
    "print(X.shape)\n",
    "print(y.shape)"
   ]
  },
  {
   "cell_type": "code",
   "execution_count": 18,
   "metadata": {},
   "outputs": [
    {
     "data": {
      "text/plain": [
       "array([[-1.92498678,  2.39289205, -1.5367138 , -0.0959385 ],\n",
       "       [-0.22537521,  1.00713752, -0.77976808,  1.07059219],\n",
       "       [ 0.18969039,  0.00360103, -0.25855059,  0.49537418],\n",
       "       [-1.15471191, -1.52042391,  0.2737209 ,  0.48296087]])"
      ]
     },
     "execution_count": 18,
     "metadata": {},
     "output_type": "execute_result"
    }
   ],
   "source": [
    "# Создадим случайную матрицу \n",
    "def get_random_invertible_matrix(rows, cols):\n",
    "    det = 0\n",
    "    while det == 0:\n",
    "        matrix = np.random.normal(size=(rows, cols))\n",
    "        det = np.linalg.det(matrix)\n",
    "    return matrix\n",
    "\n",
    "P = get_random_invertible_matrix(4, 4)\n",
    "P"
   ]
  },
  {
   "cell_type": "code",
   "execution_count": 19,
   "metadata": {},
   "outputs": [],
   "source": [
    "# Проверим обратимость полученной матрицы\n",
    "# Для этого определитель должен быть != 0\n",
    "\n",
    "def is_matrix_invertible(matrix):\n",
    "    try:\n",
    "        determinant = np.linalg.det(matrix)\n",
    "        return 'Матрица обратима'\n",
    "    except np.linalg.LinAlgError:\n",
    "        return 'Матрица необратима из-за ошибки вычисления'"
   ]
  },
  {
   "cell_type": "code",
   "execution_count": 20,
   "metadata": {},
   "outputs": [
    {
     "data": {
      "text/plain": [
       "'Матрица обратима'"
      ]
     },
     "execution_count": 20,
     "metadata": {},
     "output_type": "execute_result"
    }
   ],
   "source": [
    "is_matrix_invertible(P)"
   ]
  },
  {
   "cell_type": "code",
   "execution_count": 21,
   "metadata": {},
   "outputs": [
    {
     "data": {
      "text/html": [
       "<div>\n",
       "<style scoped>\n",
       "    .dataframe tbody tr th:only-of-type {\n",
       "        vertical-align: middle;\n",
       "    }\n",
       "\n",
       "    .dataframe tbody tr th {\n",
       "        vertical-align: top;\n",
       "    }\n",
       "\n",
       "    .dataframe thead th {\n",
       "        text-align: right;\n",
       "    }\n",
       "</style>\n",
       "<table border=\"1\" class=\"dataframe\">\n",
       "  <thead>\n",
       "    <tr style=\"text-align: right;\">\n",
       "      <th></th>\n",
       "      <th>0</th>\n",
       "      <th>1</th>\n",
       "      <th>2</th>\n",
       "      <th>3</th>\n",
       "    </tr>\n",
       "  </thead>\n",
       "  <tbody>\n",
       "    <tr>\n",
       "      <th>0</th>\n",
       "      <td>9396.323400</td>\n",
       "      <td>220.776335</td>\n",
       "      <td>-12857.342916</td>\n",
       "      <td>24614.840847</td>\n",
       "    </tr>\n",
       "    <tr>\n",
       "      <th>1</th>\n",
       "      <td>7196.712954</td>\n",
       "      <td>181.647150</td>\n",
       "      <td>-9860.518159</td>\n",
       "      <td>18873.949208</td>\n",
       "    </tr>\n",
       "    <tr>\n",
       "      <th>2</th>\n",
       "      <td>3976.962367</td>\n",
       "      <td>104.828678</td>\n",
       "      <td>-5452.175735</td>\n",
       "      <td>10433.905045</td>\n",
       "    </tr>\n",
       "    <tr>\n",
       "      <th>3</th>\n",
       "      <td>7903.047076</td>\n",
       "      <td>168.272110</td>\n",
       "      <td>-10797.387432</td>\n",
       "      <td>20680.551846</td>\n",
       "    </tr>\n",
       "    <tr>\n",
       "      <th>4</th>\n",
       "      <td>4942.683759</td>\n",
       "      <td>124.579700</td>\n",
       "      <td>-6771.540707</td>\n",
       "      <td>12959.146855</td>\n",
       "    </tr>\n",
       "  </tbody>\n",
       "</table>\n",
       "</div>"
      ],
      "text/plain": [
       "             0           1             2             3\n",
       "0  9396.323400  220.776335 -12857.342916  24614.840847\n",
       "1  7196.712954  181.647150  -9860.518159  18873.949208\n",
       "2  3976.962367  104.828678  -5452.175735  10433.905045\n",
       "3  7903.047076  168.272110 -10797.387432  20680.551846\n",
       "4  4942.683759  124.579700  -6771.540707  12959.146855"
      ]
     },
     "execution_count": 21,
     "metadata": {},
     "output_type": "execute_result"
    }
   ],
   "source": [
    "# multiplied_matrix = np.dot(X, P) меняет тип и пропадает атрибут head – дальше с ней работать не выйдет\n",
    "\n",
    "multiplied_matrix = X @ P\n",
    "multiplied_matrix.head()"
   ]
  },
  {
   "cell_type": "markdown",
   "metadata": {},
   "source": [
    "Теперь на этой матрице применим формулу $$w = (X^T X)^{-1} X^T y$$, чтобы вычислить веса"
   ]
  },
  {
   "cell_type": "code",
   "execution_count": 22,
   "metadata": {},
   "outputs": [
    {
     "data": {
      "text/plain": [
       "array([-4.43854686e-02,  2.33356224e-02, -1.17739038e-05, -4.55168125e-02])"
      ]
     },
     "execution_count": 22,
     "metadata": {},
     "output_type": "execute_result"
    }
   ],
   "source": [
    "# Для НЕпреобразованной матрицы\n",
    "w = np.linalg.inv(X.T.dot(X)).dot(X.T).dot(y)\n",
    "w"
   ]
  },
  {
   "cell_type": "code",
   "execution_count": 23,
   "metadata": {},
   "outputs": [
    {
     "data": {
      "text/plain": [
       "array([0.01170882, 0.05090537, 0.09082829, 0.0425286 ])"
      ]
     },
     "execution_count": 23,
     "metadata": {},
     "output_type": "execute_result"
    }
   ],
   "source": [
    "w_1 = np.linalg.inv(multiplied_matrix.T.dot(multiplied_matrix)).dot(multiplied_matrix.T).dot(y)\n",
    "w_1"
   ]
  },
  {
   "cell_type": "markdown",
   "metadata": {},
   "source": [
    "Применим формулу предсказания $$a = Xw$$"
   ]
  },
  {
   "cell_type": "code",
   "execution_count": 24,
   "metadata": {},
   "outputs": [],
   "source": [
    "# Для НЕпреобразованной матрицы\n",
    "a = X @ w"
   ]
  },
  {
   "cell_type": "code",
   "execution_count": 25,
   "metadata": {},
   "outputs": [],
   "source": [
    "a_1 = multiplied_matrix @ w_1"
   ]
  },
  {
   "cell_type": "code",
   "execution_count": 26,
   "metadata": {},
   "outputs": [
    {
     "data": {
      "text/plain": [
       "2.6543350952834143e-05"
      ]
     },
     "execution_count": 26,
     "metadata": {},
     "output_type": "execute_result"
    }
   ],
   "source": [
    "difference = (a - a_1).sum()\n",
    "difference"
   ]
  },
  {
   "cell_type": "markdown",
   "metadata": {},
   "source": [
    "**Алгоритм**\n",
    "\n",
    "С помощью Numpy мы сгенерировали рандомную матрицу и домножили на неё имеющуюся. Далее мы вычислили веса и применили формулу предсказания для преобразованной и непреобразованной матриц. Финальным шагом было проверка разницы между двумя предсказаниями и анализ результата"
   ]
  },
  {
   "cell_type": "markdown",
   "metadata": {},
   "source": [
    "**Обоснование**\n",
    "\n",
    "Проанализировав вектор разницы предсказаний по оригинальным и преобразованным признакам, и сохранив его в переменную difference, мы получили очень маленькое число, что говорит о том, что преобразование не ухудшает качество модели"
   ]
  },
  {
   "cell_type": "markdown",
   "metadata": {},
   "source": [
    "## Проверка алгоритма"
   ]
  },
  {
   "cell_type": "markdown",
   "metadata": {},
   "source": [
    "Алгоритм мы будем проверять на\n",
    "- Готовом алгоритме линейной регрессии из sklearn\n",
    "- Собственном алгоритме линейной регрессии"
   ]
  },
  {
   "cell_type": "code",
   "execution_count": 27,
   "metadata": {},
   "outputs": [],
   "source": [
    "X_train, X_test, y_train, y_test = train_test_split(X, y, \n",
    "                                                    random_state=42, \n",
    "                                                    test_size=0.25)\n",
    "\n",
    "# (X_(edited)_train, etc)\n",
    "X_e_train, X_e_test, y_e_train, y_e_test = train_test_split(multiplied_matrix, y,\n",
    "                                                            random_state=42, \n",
    "                                                            test_size=0.25)"
   ]
  },
  {
   "cell_type": "code",
   "execution_count": 28,
   "metadata": {},
   "outputs": [
    {
     "name": "stdout",
     "output_type": "stream",
     "text": [
      "X_train: (3750, 4)\n",
      "X_test: (1250, 4)\n",
      "y_train: (3750,)\n",
      "y_test: (1250,)\n"
     ]
    }
   ],
   "source": [
    "print(f'X_train: {X_train.shape}\\n'\n",
    "      f'X_test: {X_test.shape}\\n' \n",
    "      f'y_train: {y_train.shape}\\n' \n",
    "      f'y_test: {y_test.shape}')"
   ]
  },
  {
   "cell_type": "code",
   "execution_count": 29,
   "metadata": {},
   "outputs": [
    {
     "name": "stdout",
     "output_type": "stream",
     "text": [
      "X_e_train: (3750, 4)\n",
      "X_e_test: (1250, 4)\n",
      "y_e_train: (3750,)\n",
      "y_e_test: (1250,)\n"
     ]
    }
   ],
   "source": [
    "print(f'X_e_train: {X_e_train.shape}\\n'\n",
    "      f'X_e_test: {X_e_test.shape}\\n' \n",
    "      f'y_e_train: {y_e_train.shape}\\n' \n",
    "      f'y_e_test: {y_e_test.shape}')"
   ]
  },
  {
   "cell_type": "markdown",
   "metadata": {},
   "source": [
    "**Для начала я попробую обучить данные на каскадной модели, чтобы убедиться, что в данных есть закономерности**\n",
    "\n",
    "Для этого используем DummyRegressor()"
   ]
  },
  {
   "cell_type": "code",
   "execution_count": 30,
   "metadata": {},
   "outputs": [],
   "source": [
    "def dummy_regressor(X_train, X_test, y_train, y_test):\n",
    "    model = DummyRegressor(strategy='mean')\n",
    "    model.fit(X_train, y_train)\n",
    "    y_pred = model.predict(X_test)\n",
    "    r2 = r2_score(y_test, y_pred)\n",
    "    return r2"
   ]
  },
  {
   "cell_type": "code",
   "execution_count": 31,
   "metadata": {},
   "outputs": [
    {
     "name": "stdout",
     "output_type": "stream",
     "text": [
      "Main Dummy R2: 0.0\n",
      "Edited Dummy R2: 0.0\n"
     ]
    }
   ],
   "source": [
    "r2_dummy = dummy_regressor(X_train, X_test, y_train, y_test)\n",
    "r2_dummy_edited = dummy_regressor(X_e_train, X_e_test, y_e_train, y_e_test)\n",
    "\n",
    "print(f'Main Dummy R2: {r2_dummy}\\n' \n",
    "      f'Edited Dummy R2: {r2_dummy_edited}')"
   ]
  },
  {
   "cell_type": "markdown",
   "metadata": {},
   "source": [
    "На моделях коэффициент детерминации должен быть больше, тогда модель будет считаться качественной"
   ]
  },
  {
   "cell_type": "code",
   "execution_count": 32,
   "metadata": {},
   "outputs": [],
   "source": [
    "# так как модели будет 2, создадим функцию, чтобы не было повторов\n",
    "\n",
    "def regression_from_sklearn(X_train, X_test, y_train, y_test):\n",
    "    model = LinearRegression()\n",
    "    model.fit(X_train, y_train)\n",
    "    y_pred = model.predict(X_test)\n",
    "    r2 = r2_score(y_test, y_pred)\n",
    "    return r2"
   ]
  },
  {
   "cell_type": "code",
   "execution_count": 33,
   "metadata": {},
   "outputs": [
    {
     "data": {
      "text/plain": [
       "0.4254778540696319"
      ]
     },
     "execution_count": 33,
     "metadata": {},
     "output_type": "execute_result"
    }
   ],
   "source": [
    "r2 = regression_from_sklearn(X_train, X_test, y_train, y_test)\n",
    "r2"
   ]
  },
  {
   "cell_type": "code",
   "execution_count": 34,
   "metadata": {},
   "outputs": [
    {
     "data": {
      "text/plain": [
       "0.4254778540699796"
      ]
     },
     "execution_count": 34,
     "metadata": {},
     "output_type": "execute_result"
    }
   ],
   "source": [
    "r2_edited = regression_from_sklearn(X_e_train, X_e_test, y_e_train, y_e_test)\n",
    "r2_edited"
   ]
  },
  {
   "cell_type": "code",
   "execution_count": 35,
   "metadata": {},
   "outputs": [
    {
     "data": {
      "text/plain": [
       "3.4772185131259903e-13"
      ]
     },
     "execution_count": 35,
     "metadata": {},
     "output_type": "execute_result"
    }
   ],
   "source": [
    "res_sklearn = r2_edited - r2 \n",
    "res_sklearn"
   ]
  },
  {
   "cell_type": "markdown",
   "metadata": {},
   "source": [
    "**Вывод**\n",
    "\n",
    "В модели из библиотеки sklearn разницы в обучении практически нет"
   ]
  },
  {
   "cell_type": "code",
   "execution_count": 36,
   "metadata": {},
   "outputs": [],
   "source": [
    "# В ТЗ указан только sklearn, но чтобы точно убедиться, я этот алгоритм тоже попробую\n",
    "\n",
    "class MyLinearRegression:\n",
    "    def fit(self, train_features, train_target):\n",
    "        X = np.concatenate((np.ones((train_features.shape[0], 1)), train_features), axis=1)\n",
    "        y = train_target\n",
    "        w = np.linalg.inv(X.T.dot(X)).dot(X.T).dot(y)\n",
    "        self.w = w[1:]\n",
    "        self.w0 = w[0]\n",
    "\n",
    "    def predict(self, test_features):\n",
    "        return test_features.dot(self.w) + self.w0"
   ]
  },
  {
   "cell_type": "code",
   "execution_count": 37,
   "metadata": {},
   "outputs": [],
   "source": [
    "def my_regression(X_train, X_test, y_train, y_test):\n",
    "    model = MyLinearRegression()\n",
    "    model.fit(X_train, y_train)\n",
    "    y_pred = model.predict(X_test)\n",
    "    r2 = r2_score(y_test, y_pred)\n",
    "    return r2"
   ]
  },
  {
   "cell_type": "code",
   "execution_count": 38,
   "metadata": {},
   "outputs": [
    {
     "data": {
      "text/plain": [
       "0.425477854069632"
      ]
     },
     "execution_count": 38,
     "metadata": {},
     "output_type": "execute_result"
    }
   ],
   "source": [
    "r2_my = my_regression(X_train, X_test, y_train, y_test)\n",
    "r2_my"
   ]
  },
  {
   "cell_type": "code",
   "execution_count": 39,
   "metadata": {},
   "outputs": [
    {
     "data": {
      "text/plain": [
       "0.42547785354725365"
      ]
     },
     "execution_count": 39,
     "metadata": {},
     "output_type": "execute_result"
    }
   ],
   "source": [
    "r2_edited_my = my_regression(X_e_train, X_e_test, y_e_train, y_e_test)\n",
    "r2_edited_my"
   ]
  },
  {
   "cell_type": "code",
   "execution_count": 40,
   "metadata": {},
   "outputs": [
    {
     "data": {
      "text/plain": [
       "-5.223783627883449e-10"
      ]
     },
     "execution_count": 40,
     "metadata": {},
     "output_type": "execute_result"
    }
   ],
   "source": [
    "res_my = r2_edited_my - r2_my\n",
    "res_my"
   ]
  },
  {
   "cell_type": "markdown",
   "metadata": {},
   "source": [
    "**Вывод**\n",
    "\n",
    "В собственном классе регрессии ситуация аналогичная, как и в sklearn"
   ]
  },
  {
   "cell_type": "markdown",
   "metadata": {},
   "source": [
    "**Общий вывод**\n",
    "\n",
    "- Мы получили данные о 5000 пользователях страховой компании\n",
    "- В предобработке данные не нуждались\n",
    "- В ходе исследовательского анализа выяснилось, что корреляция, как таковая, между признаками отсуствтует, большинство клиентов имеют доход 42-48к, возраст большинства – 20-25 лет.\n",
    "\n",
    "\n",
    "\n",
    "\n",
    "- Необходимо было доказать или опровергнуть, что преобразованные данные не имеют отличий для алгоритма машинного обучения\n",
    "- Посредством линейной алгебры получилось доказать, что значения исходных и преобразованных данных не имеют значительных различий.\n",
    "- Проверка проводилась на уже готовой модели из sklearn, а также на модели, написанной в ручную.\n",
    "- Поскольку данные различий не имеют, мы можем сказать, что мы справились с задачей: защитили данные клиентов, не ухудшив качество модели"
   ]
  },
  {
   "cell_type": "code",
   "execution_count": null,
   "metadata": {},
   "outputs": [],
   "source": []
  }
 ],
 "metadata": {
  "ExecuteTimeLog": [
   {
    "duration": 520,
    "start_time": "2023-09-07T10:37:45.743Z"
   },
   {
    "duration": 319,
    "start_time": "2023-09-07T10:38:05.838Z"
   },
   {
    "duration": 423,
    "start_time": "2023-09-07T10:38:10.748Z"
   },
   {
    "duration": 5,
    "start_time": "2023-09-07T10:38:17.115Z"
   },
   {
    "duration": 325,
    "start_time": "2023-09-07T10:38:21.100Z"
   },
   {
    "duration": 441,
    "start_time": "2023-09-07T10:39:27.358Z"
   },
   {
    "duration": 6,
    "start_time": "2023-09-07T10:39:31.535Z"
   },
   {
    "duration": 92,
    "start_time": "2023-09-07T10:40:25.259Z"
   },
   {
    "duration": 57,
    "start_time": "2023-09-07T10:40:30.977Z"
   },
   {
    "duration": 14,
    "start_time": "2023-09-07T10:42:03.311Z"
   },
   {
    "duration": 10,
    "start_time": "2023-09-07T10:42:29.048Z"
   },
   {
    "duration": 26,
    "start_time": "2023-09-07T10:42:33.487Z"
   },
   {
    "duration": 28,
    "start_time": "2023-09-07T10:42:37.911Z"
   },
   {
    "duration": 4,
    "start_time": "2023-09-07T10:42:48.731Z"
   },
   {
    "duration": 7,
    "start_time": "2023-09-07T10:42:56.695Z"
   },
   {
    "duration": 11,
    "start_time": "2023-09-07T10:51:54.571Z"
   },
   {
    "duration": 11,
    "start_time": "2023-09-07T10:52:45.128Z"
   },
   {
    "duration": 125,
    "start_time": "2023-09-07T10:57:01.120Z"
   },
   {
    "duration": 4,
    "start_time": "2023-09-07T10:57:04.925Z"
   },
   {
    "duration": 264,
    "start_time": "2023-09-07T10:57:06.250Z"
   },
   {
    "duration": 4,
    "start_time": "2023-09-07T10:57:23.805Z"
   },
   {
    "duration": 5,
    "start_time": "2023-09-07T10:59:17.285Z"
   },
   {
    "duration": 351,
    "start_time": "2023-09-07T10:59:18.400Z"
   },
   {
    "duration": 411,
    "start_time": "2023-09-07T10:59:46.057Z"
   },
   {
    "duration": 105,
    "start_time": "2023-09-07T11:00:57.949Z"
   },
   {
    "duration": 265,
    "start_time": "2023-09-07T11:03:43.796Z"
   },
   {
    "duration": 19,
    "start_time": "2023-09-07T11:04:33.430Z"
   },
   {
    "duration": 640,
    "start_time": "2023-09-07T11:04:45.600Z"
   },
   {
    "duration": 149,
    "start_time": "2023-09-07T11:08:26.826Z"
   },
   {
    "duration": 2962,
    "start_time": "2023-09-07T11:08:30.889Z"
   },
   {
    "duration": 173,
    "start_time": "2023-09-07T11:08:44.091Z"
   },
   {
    "duration": 466,
    "start_time": "2023-09-07T11:09:03.153Z"
   },
   {
    "duration": 23,
    "start_time": "2023-09-07T11:09:13.901Z"
   },
   {
    "duration": 292,
    "start_time": "2023-09-07T11:09:16.371Z"
   },
   {
    "duration": 4,
    "start_time": "2023-09-07T11:14:57.021Z"
   },
   {
    "duration": 3431,
    "start_time": "2023-09-07T11:15:11.885Z"
   },
   {
    "duration": 11,
    "start_time": "2023-09-07T11:17:35.204Z"
   },
   {
    "duration": 181,
    "start_time": "2023-09-07T11:17:41.167Z"
   },
   {
    "duration": 5,
    "start_time": "2023-09-07T11:18:55.720Z"
   },
   {
    "duration": 119,
    "start_time": "2023-09-07T11:18:57.047Z"
   },
   {
    "duration": 184,
    "start_time": "2023-09-07T11:19:16.844Z"
   },
   {
    "duration": 946,
    "start_time": "2023-09-07T11:22:18.736Z"
   },
   {
    "duration": 579,
    "start_time": "2023-09-07T11:22:26.023Z"
   },
   {
    "duration": 2422,
    "start_time": "2023-09-07T11:24:16.474Z"
   },
   {
    "duration": 158,
    "start_time": "2023-09-07T11:24:20.993Z"
   },
   {
    "duration": 33,
    "start_time": "2023-09-07T11:29:30.972Z"
   },
   {
    "duration": 7,
    "start_time": "2023-09-07T11:31:11.973Z"
   },
   {
    "duration": 6,
    "start_time": "2023-09-07T11:33:03.983Z"
   },
   {
    "duration": 5,
    "start_time": "2023-09-07T11:36:02.001Z"
   },
   {
    "duration": 5,
    "start_time": "2023-09-07T11:37:10.519Z"
   },
   {
    "duration": 3,
    "start_time": "2023-09-07T11:38:07.274Z"
   },
   {
    "duration": 14,
    "start_time": "2023-09-07T11:38:35.877Z"
   },
   {
    "duration": 10,
    "start_time": "2023-09-07T11:38:55.102Z"
   },
   {
    "duration": 6,
    "start_time": "2023-09-07T11:53:02.821Z"
   },
   {
    "duration": 9,
    "start_time": "2023-09-07T11:53:09.771Z"
   },
   {
    "duration": 5,
    "start_time": "2023-09-07T11:54:34.947Z"
   },
   {
    "duration": 56,
    "start_time": "2023-09-07T11:54:38.401Z"
   },
   {
    "duration": 6,
    "start_time": "2023-09-07T11:54:44.471Z"
   },
   {
    "duration": 10,
    "start_time": "2023-09-07T11:55:49.321Z"
   },
   {
    "duration": 4,
    "start_time": "2023-09-07T11:55:50.590Z"
   },
   {
    "duration": 9,
    "start_time": "2023-09-07T11:56:20.675Z"
   },
   {
    "duration": 8,
    "start_time": "2023-09-07T11:57:00.690Z"
   },
   {
    "duration": 4,
    "start_time": "2023-09-07T11:57:02.086Z"
   },
   {
    "duration": 5,
    "start_time": "2023-09-07T11:57:16.430Z"
   },
   {
    "duration": 5,
    "start_time": "2023-09-07T11:57:17.760Z"
   },
   {
    "duration": 5,
    "start_time": "2023-09-07T11:58:05.504Z"
   },
   {
    "duration": 6,
    "start_time": "2023-09-07T11:58:14.832Z"
   },
   {
    "duration": 13,
    "start_time": "2023-09-08T05:13:09.661Z"
   },
   {
    "duration": 63,
    "start_time": "2023-09-08T05:13:30.349Z"
   },
   {
    "duration": 1849,
    "start_time": "2023-09-08T05:13:36.948Z"
   },
   {
    "duration": 106,
    "start_time": "2023-09-08T05:13:38.800Z"
   },
   {
    "duration": 12,
    "start_time": "2023-09-08T05:13:38.908Z"
   },
   {
    "duration": 30,
    "start_time": "2023-09-08T05:13:38.922Z"
   },
   {
    "duration": 5,
    "start_time": "2023-09-08T05:13:38.955Z"
   },
   {
    "duration": 13,
    "start_time": "2023-09-08T05:13:38.961Z"
   },
   {
    "duration": 11,
    "start_time": "2023-09-08T05:13:38.976Z"
   },
   {
    "duration": 7,
    "start_time": "2023-09-08T05:13:38.989Z"
   },
   {
    "duration": 473,
    "start_time": "2023-09-08T05:13:38.997Z"
   },
   {
    "duration": 546,
    "start_time": "2023-09-08T05:13:39.472Z"
   },
   {
    "duration": 778,
    "start_time": "2023-09-08T05:13:40.019Z"
   },
   {
    "duration": 359,
    "start_time": "2023-09-08T05:13:40.799Z"
   },
   {
    "duration": 6,
    "start_time": "2023-09-08T05:13:41.161Z"
   },
   {
    "duration": 146,
    "start_time": "2023-09-08T05:13:41.170Z"
   },
   {
    "duration": 166,
    "start_time": "2023-09-08T05:13:41.318Z"
   },
   {
    "duration": 187,
    "start_time": "2023-09-08T05:13:41.486Z"
   },
   {
    "duration": 6,
    "start_time": "2023-09-08T05:13:41.675Z"
   },
   {
    "duration": 9,
    "start_time": "2023-09-08T05:13:41.683Z"
   },
   {
    "duration": 3,
    "start_time": "2023-09-08T05:13:41.694Z"
   },
   {
    "duration": 7,
    "start_time": "2023-09-08T05:13:41.698Z"
   },
   {
    "duration": 13,
    "start_time": "2023-09-08T05:13:41.706Z"
   },
   {
    "duration": 44,
    "start_time": "2023-09-08T05:13:41.721Z"
   },
   {
    "duration": 10,
    "start_time": "2023-09-08T05:13:41.767Z"
   },
   {
    "duration": 109,
    "start_time": "2023-09-08T05:13:41.848Z"
   },
   {
    "duration": 9,
    "start_time": "2023-09-08T05:13:42.046Z"
   },
   {
    "duration": 14,
    "start_time": "2023-09-08T05:13:42.058Z"
   },
   {
    "duration": 5,
    "start_time": "2023-09-08T05:25:08.682Z"
   },
   {
    "duration": 4,
    "start_time": "2023-09-08T05:25:39.325Z"
   },
   {
    "duration": 4,
    "start_time": "2023-09-08T05:26:41.982Z"
   },
   {
    "duration": 11,
    "start_time": "2023-09-08T05:29:26.241Z"
   },
   {
    "duration": 3,
    "start_time": "2023-09-08T05:31:50.012Z"
   },
   {
    "duration": 3,
    "start_time": "2023-09-08T05:32:18.027Z"
   },
   {
    "duration": 32,
    "start_time": "2023-09-08T05:33:27.036Z"
   },
   {
    "duration": 8,
    "start_time": "2023-09-08T05:33:53.276Z"
   },
   {
    "duration": 10,
    "start_time": "2023-09-08T05:33:58.128Z"
   },
   {
    "duration": 5,
    "start_time": "2023-09-08T05:37:00.722Z"
   },
   {
    "duration": 4,
    "start_time": "2023-09-08T05:37:44.744Z"
   },
   {
    "duration": 10,
    "start_time": "2023-09-08T05:38:06.224Z"
   },
   {
    "duration": 10,
    "start_time": "2023-09-08T05:38:30.709Z"
   },
   {
    "duration": 4,
    "start_time": "2023-09-08T05:39:38.825Z"
   },
   {
    "duration": 4,
    "start_time": "2023-09-08T05:39:46.075Z"
   },
   {
    "duration": 1730,
    "start_time": "2023-09-08T05:39:55.060Z"
   },
   {
    "duration": 41,
    "start_time": "2023-09-08T05:39:56.792Z"
   },
   {
    "duration": 12,
    "start_time": "2023-09-08T05:39:56.834Z"
   },
   {
    "duration": 42,
    "start_time": "2023-09-08T05:39:56.849Z"
   },
   {
    "duration": 4,
    "start_time": "2023-09-08T05:39:56.893Z"
   },
   {
    "duration": 27,
    "start_time": "2023-09-08T05:39:56.898Z"
   },
   {
    "duration": 16,
    "start_time": "2023-09-08T05:39:56.927Z"
   },
   {
    "duration": 15,
    "start_time": "2023-09-08T05:39:56.946Z"
   },
   {
    "duration": 398,
    "start_time": "2023-09-08T05:39:56.963Z"
   },
   {
    "duration": 520,
    "start_time": "2023-09-08T05:39:57.366Z"
   },
   {
    "duration": 747,
    "start_time": "2023-09-08T05:39:57.887Z"
   },
   {
    "duration": 351,
    "start_time": "2023-09-08T05:39:58.636Z"
   },
   {
    "duration": 4,
    "start_time": "2023-09-08T05:39:58.988Z"
   },
   {
    "duration": 182,
    "start_time": "2023-09-08T05:39:58.994Z"
   },
   {
    "duration": 162,
    "start_time": "2023-09-08T05:39:59.178Z"
   },
   {
    "duration": 181,
    "start_time": "2023-09-08T05:39:59.347Z"
   },
   {
    "duration": 17,
    "start_time": "2023-09-08T05:39:59.530Z"
   },
   {
    "duration": 7,
    "start_time": "2023-09-08T05:39:59.549Z"
   },
   {
    "duration": 4,
    "start_time": "2023-09-08T05:39:59.558Z"
   },
   {
    "duration": 9,
    "start_time": "2023-09-08T05:39:59.565Z"
   },
   {
    "duration": 25,
    "start_time": "2023-09-08T05:39:59.576Z"
   },
   {
    "duration": 24,
    "start_time": "2023-09-08T05:39:59.603Z"
   },
   {
    "duration": 9,
    "start_time": "2023-09-08T05:39:59.648Z"
   },
   {
    "duration": 88,
    "start_time": "2023-09-08T05:39:59.659Z"
   },
   {
    "duration": 115,
    "start_time": "2023-09-08T05:39:59.750Z"
   },
   {
    "duration": 105,
    "start_time": "2023-09-08T05:39:59.867Z"
   },
   {
    "duration": 29,
    "start_time": "2023-09-08T05:40:00.048Z"
   },
   {
    "duration": 43,
    "start_time": "2023-09-08T05:40:00.082Z"
   },
   {
    "duration": 76,
    "start_time": "2023-09-08T05:40:00.127Z"
   },
   {
    "duration": 33,
    "start_time": "2023-09-08T05:40:00.205Z"
   },
   {
    "duration": 36,
    "start_time": "2023-09-08T05:40:00.239Z"
   },
   {
    "duration": 30,
    "start_time": "2023-09-08T05:40:00.277Z"
   },
   {
    "duration": 44,
    "start_time": "2023-09-08T05:40:00.309Z"
   },
   {
    "duration": 50,
    "start_time": "2023-09-08T05:40:00.356Z"
   },
   {
    "duration": 57,
    "start_time": "2023-09-08T05:40:00.408Z"
   },
   {
    "duration": 45,
    "start_time": "2023-09-08T05:40:00.468Z"
   },
   {
    "duration": 51,
    "start_time": "2023-09-08T05:40:00.515Z"
   },
   {
    "duration": 6,
    "start_time": "2023-09-08T05:40:26.780Z"
   },
   {
    "duration": 4,
    "start_time": "2023-09-08T05:41:19.325Z"
   },
   {
    "duration": 6,
    "start_time": "2023-09-08T05:41:28.078Z"
   },
   {
    "duration": 5,
    "start_time": "2023-09-08T05:41:32.524Z"
   },
   {
    "duration": 9,
    "start_time": "2023-09-08T05:41:37.971Z"
   },
   {
    "duration": 4,
    "start_time": "2023-09-08T05:41:41.772Z"
   },
   {
    "duration": 4,
    "start_time": "2023-09-08T05:41:46.126Z"
   },
   {
    "duration": 5,
    "start_time": "2023-09-08T05:41:50.275Z"
   },
   {
    "duration": 3,
    "start_time": "2023-09-08T05:54:32.074Z"
   },
   {
    "duration": 7,
    "start_time": "2023-09-08T05:56:08.707Z"
   },
   {
    "duration": 3,
    "start_time": "2023-09-08T05:56:22.734Z"
   },
   {
    "duration": 6,
    "start_time": "2023-09-08T05:56:23.921Z"
   },
   {
    "duration": 3,
    "start_time": "2023-09-08T05:56:26.471Z"
   },
   {
    "duration": 5,
    "start_time": "2023-09-08T05:56:27.775Z"
   },
   {
    "duration": 1624,
    "start_time": "2023-09-08T05:59:02.416Z"
   },
   {
    "duration": 42,
    "start_time": "2023-09-08T05:59:04.042Z"
   },
   {
    "duration": 14,
    "start_time": "2023-09-08T05:59:04.086Z"
   },
   {
    "duration": 44,
    "start_time": "2023-09-08T05:59:04.101Z"
   },
   {
    "duration": 4,
    "start_time": "2023-09-08T05:59:04.147Z"
   },
   {
    "duration": 13,
    "start_time": "2023-09-08T05:59:04.153Z"
   },
   {
    "duration": 16,
    "start_time": "2023-09-08T05:59:04.168Z"
   },
   {
    "duration": 18,
    "start_time": "2023-09-08T05:59:04.186Z"
   },
   {
    "duration": 404,
    "start_time": "2023-09-08T05:59:04.206Z"
   },
   {
    "duration": 496,
    "start_time": "2023-09-08T05:59:04.612Z"
   },
   {
    "duration": 739,
    "start_time": "2023-09-08T05:59:05.110Z"
   },
   {
    "duration": 309,
    "start_time": "2023-09-08T05:59:05.851Z"
   },
   {
    "duration": 3,
    "start_time": "2023-09-08T05:59:06.162Z"
   },
   {
    "duration": 137,
    "start_time": "2023-09-08T05:59:06.169Z"
   },
   {
    "duration": 163,
    "start_time": "2023-09-08T05:59:06.308Z"
   },
   {
    "duration": 180,
    "start_time": "2023-09-08T05:59:06.473Z"
   },
   {
    "duration": 5,
    "start_time": "2023-09-08T05:59:06.655Z"
   },
   {
    "duration": 15,
    "start_time": "2023-09-08T05:59:06.661Z"
   },
   {
    "duration": 18,
    "start_time": "2023-09-08T05:59:06.678Z"
   },
   {
    "duration": 8,
    "start_time": "2023-09-08T05:59:06.698Z"
   },
   {
    "duration": 25,
    "start_time": "2023-09-08T05:59:06.708Z"
   },
   {
    "duration": 25,
    "start_time": "2023-09-08T05:59:06.735Z"
   },
   {
    "duration": 9,
    "start_time": "2023-09-08T05:59:06.762Z"
   },
   {
    "duration": 81,
    "start_time": "2023-09-08T05:59:06.773Z"
   },
   {
    "duration": 192,
    "start_time": "2023-09-08T05:59:06.856Z"
   },
   {
    "duration": 98,
    "start_time": "2023-09-08T05:59:07.050Z"
   },
   {
    "duration": 8,
    "start_time": "2023-09-08T05:59:07.150Z"
   },
   {
    "duration": 44,
    "start_time": "2023-09-08T05:59:07.160Z"
   },
   {
    "duration": 6,
    "start_time": "2023-09-08T05:59:07.206Z"
   },
   {
    "duration": 3,
    "start_time": "2023-09-08T05:59:07.214Z"
   },
   {
    "duration": 13,
    "start_time": "2023-09-08T05:59:07.219Z"
   },
   {
    "duration": 9,
    "start_time": "2023-09-08T05:59:07.233Z"
   },
   {
    "duration": 10,
    "start_time": "2023-09-08T05:59:07.244Z"
   },
   {
    "duration": 9,
    "start_time": "2023-09-08T05:59:07.255Z"
   },
   {
    "duration": 4,
    "start_time": "2023-09-08T05:59:07.266Z"
   },
   {
    "duration": 4,
    "start_time": "2023-09-08T05:59:07.271Z"
   },
   {
    "duration": 12,
    "start_time": "2023-09-08T05:59:07.277Z"
   },
   {
    "duration": 56,
    "start_time": "2023-09-08T05:59:07.291Z"
   },
   {
    "duration": 12,
    "start_time": "2023-09-08T05:59:07.350Z"
   },
   {
    "duration": 6,
    "start_time": "2023-09-08T05:59:07.448Z"
   },
   {
    "duration": 1610,
    "start_time": "2023-09-08T05:59:48.087Z"
   },
   {
    "duration": 43,
    "start_time": "2023-09-08T05:59:49.699Z"
   },
   {
    "duration": 14,
    "start_time": "2023-09-08T05:59:49.744Z"
   },
   {
    "duration": 33,
    "start_time": "2023-09-08T05:59:49.760Z"
   },
   {
    "duration": 4,
    "start_time": "2023-09-08T05:59:49.795Z"
   },
   {
    "duration": 11,
    "start_time": "2023-09-08T05:59:49.801Z"
   },
   {
    "duration": 38,
    "start_time": "2023-09-08T05:59:49.814Z"
   },
   {
    "duration": 21,
    "start_time": "2023-09-08T05:59:49.854Z"
   },
   {
    "duration": 416,
    "start_time": "2023-09-08T05:59:49.878Z"
   },
   {
    "duration": 506,
    "start_time": "2023-09-08T05:59:50.296Z"
   },
   {
    "duration": 642,
    "start_time": "2023-09-08T05:59:50.803Z"
   },
   {
    "duration": 328,
    "start_time": "2023-09-08T05:59:51.447Z"
   },
   {
    "duration": 3,
    "start_time": "2023-09-08T05:59:51.777Z"
   },
   {
    "duration": 134,
    "start_time": "2023-09-08T05:59:51.785Z"
   },
   {
    "duration": 173,
    "start_time": "2023-09-08T05:59:51.921Z"
   },
   {
    "duration": 191,
    "start_time": "2023-09-08T05:59:52.096Z"
   },
   {
    "duration": 5,
    "start_time": "2023-09-08T05:59:52.289Z"
   },
   {
    "duration": 37,
    "start_time": "2023-09-08T05:59:52.296Z"
   },
   {
    "duration": 18,
    "start_time": "2023-09-08T05:59:52.335Z"
   },
   {
    "duration": 27,
    "start_time": "2023-09-08T05:59:52.354Z"
   },
   {
    "duration": 14,
    "start_time": "2023-09-08T05:59:52.383Z"
   },
   {
    "duration": 25,
    "start_time": "2023-09-08T05:59:52.399Z"
   },
   {
    "duration": 25,
    "start_time": "2023-09-08T05:59:52.426Z"
   },
   {
    "duration": 97,
    "start_time": "2023-09-08T05:59:52.453Z"
   },
   {
    "duration": 95,
    "start_time": "2023-09-08T05:59:52.554Z"
   },
   {
    "duration": 99,
    "start_time": "2023-09-08T05:59:52.651Z"
   },
   {
    "duration": 105,
    "start_time": "2023-09-08T05:59:52.752Z"
   },
   {
    "duration": 14,
    "start_time": "2023-09-08T05:59:52.859Z"
   },
   {
    "duration": 12,
    "start_time": "2023-09-08T05:59:52.874Z"
   },
   {
    "duration": 30,
    "start_time": "2023-09-08T05:59:52.888Z"
   },
   {
    "duration": 21,
    "start_time": "2023-09-08T05:59:52.919Z"
   },
   {
    "duration": 16,
    "start_time": "2023-09-08T05:59:52.942Z"
   },
   {
    "duration": 24,
    "start_time": "2023-09-08T05:59:52.959Z"
   },
   {
    "duration": 14,
    "start_time": "2023-09-08T05:59:52.985Z"
   },
   {
    "duration": 22,
    "start_time": "2023-09-08T05:59:53.001Z"
   },
   {
    "duration": 11,
    "start_time": "2023-09-08T05:59:53.024Z"
   },
   {
    "duration": 30,
    "start_time": "2023-09-08T05:59:53.037Z"
   },
   {
    "duration": 30,
    "start_time": "2023-09-08T05:59:53.069Z"
   },
   {
    "duration": 51,
    "start_time": "2023-09-08T05:59:53.102Z"
   },
   {
    "duration": 90,
    "start_time": "2023-09-08T05:59:53.156Z"
   },
   {
    "duration": 1596,
    "start_time": "2023-09-08T06:01:17.167Z"
   },
   {
    "duration": 42,
    "start_time": "2023-09-08T06:01:18.765Z"
   },
   {
    "duration": 12,
    "start_time": "2023-09-08T06:01:18.809Z"
   },
   {
    "duration": 35,
    "start_time": "2023-09-08T06:01:18.823Z"
   },
   {
    "duration": 5,
    "start_time": "2023-09-08T06:01:18.861Z"
   },
   {
    "duration": 9,
    "start_time": "2023-09-08T06:01:18.868Z"
   },
   {
    "duration": 16,
    "start_time": "2023-09-08T06:01:18.879Z"
   },
   {
    "duration": 4,
    "start_time": "2023-09-08T06:01:18.897Z"
   },
   {
    "duration": 443,
    "start_time": "2023-09-08T06:01:18.903Z"
   },
   {
    "duration": 506,
    "start_time": "2023-09-08T06:01:19.348Z"
   },
   {
    "duration": 709,
    "start_time": "2023-09-08T06:01:19.856Z"
   },
   {
    "duration": 297,
    "start_time": "2023-09-08T06:01:20.567Z"
   },
   {
    "duration": 4,
    "start_time": "2023-09-08T06:01:20.866Z"
   },
   {
    "duration": 160,
    "start_time": "2023-09-08T06:01:20.873Z"
   },
   {
    "duration": 161,
    "start_time": "2023-09-08T06:01:21.035Z"
   },
   {
    "duration": 194,
    "start_time": "2023-09-08T06:01:21.198Z"
   },
   {
    "duration": 5,
    "start_time": "2023-09-08T06:01:21.394Z"
   },
   {
    "duration": 13,
    "start_time": "2023-09-08T06:01:21.401Z"
   },
   {
    "duration": 5,
    "start_time": "2023-09-08T06:01:21.415Z"
   },
   {
    "duration": 16,
    "start_time": "2023-09-08T06:01:21.422Z"
   },
   {
    "duration": 16,
    "start_time": "2023-09-08T06:01:21.448Z"
   },
   {
    "duration": 12,
    "start_time": "2023-09-08T06:01:21.467Z"
   },
   {
    "duration": 69,
    "start_time": "2023-09-08T06:01:21.481Z"
   },
   {
    "duration": 97,
    "start_time": "2023-09-08T06:01:21.552Z"
   },
   {
    "duration": 8,
    "start_time": "2023-09-08T06:01:21.652Z"
   },
   {
    "duration": 91,
    "start_time": "2023-09-08T06:01:21.663Z"
   },
   {
    "duration": 91,
    "start_time": "2023-09-08T06:01:21.758Z"
   },
   {
    "duration": 13,
    "start_time": "2023-09-08T06:01:21.851Z"
   },
   {
    "duration": 10,
    "start_time": "2023-09-08T06:01:21.866Z"
   },
   {
    "duration": 14,
    "start_time": "2023-09-08T06:01:21.878Z"
   },
   {
    "duration": 14,
    "start_time": "2023-09-08T06:01:21.893Z"
   },
   {
    "duration": 7,
    "start_time": "2023-09-08T06:01:21.909Z"
   },
   {
    "duration": 16,
    "start_time": "2023-09-08T06:01:21.918Z"
   },
   {
    "duration": 18,
    "start_time": "2023-09-08T06:01:21.936Z"
   },
   {
    "duration": 5,
    "start_time": "2023-09-08T06:01:21.956Z"
   },
   {
    "duration": 8,
    "start_time": "2023-09-08T06:01:21.964Z"
   },
   {
    "duration": 8,
    "start_time": "2023-09-08T06:01:21.974Z"
   },
   {
    "duration": 15,
    "start_time": "2023-09-08T06:01:21.984Z"
   },
   {
    "duration": 8,
    "start_time": "2023-09-08T06:01:22.050Z"
   },
   {
    "duration": 89,
    "start_time": "2023-09-08T06:01:22.061Z"
   },
   {
    "duration": 1626,
    "start_time": "2023-09-08T06:01:39.618Z"
   },
   {
    "duration": 41,
    "start_time": "2023-09-08T06:01:41.246Z"
   },
   {
    "duration": 13,
    "start_time": "2023-09-08T06:01:41.288Z"
   },
   {
    "duration": 68,
    "start_time": "2023-09-08T06:01:41.302Z"
   },
   {
    "duration": 4,
    "start_time": "2023-09-08T06:01:41.372Z"
   },
   {
    "duration": 7,
    "start_time": "2023-09-08T06:01:41.378Z"
   },
   {
    "duration": 11,
    "start_time": "2023-09-08T06:01:41.387Z"
   },
   {
    "duration": 16,
    "start_time": "2023-09-08T06:01:41.399Z"
   },
   {
    "duration": 422,
    "start_time": "2023-09-08T06:01:41.417Z"
   },
   {
    "duration": 516,
    "start_time": "2023-09-08T06:01:41.847Z"
   },
   {
    "duration": 656,
    "start_time": "2023-09-08T06:01:42.366Z"
   },
   {
    "duration": 359,
    "start_time": "2023-09-08T06:01:43.023Z"
   },
   {
    "duration": 4,
    "start_time": "2023-09-08T06:01:43.384Z"
   },
   {
    "duration": 143,
    "start_time": "2023-09-08T06:01:43.393Z"
   },
   {
    "duration": 173,
    "start_time": "2023-09-08T06:01:43.538Z"
   },
   {
    "duration": 213,
    "start_time": "2023-09-08T06:01:43.713Z"
   },
   {
    "duration": 6,
    "start_time": "2023-09-08T06:01:43.928Z"
   },
   {
    "duration": 57,
    "start_time": "2023-09-08T06:01:43.935Z"
   },
   {
    "duration": 7,
    "start_time": "2023-09-08T06:01:43.994Z"
   },
   {
    "duration": 15,
    "start_time": "2023-09-08T06:01:44.003Z"
   },
   {
    "duration": 16,
    "start_time": "2023-09-08T06:01:44.020Z"
   },
   {
    "duration": 10,
    "start_time": "2023-09-08T06:01:44.038Z"
   },
   {
    "duration": 19,
    "start_time": "2023-09-08T06:01:44.050Z"
   },
   {
    "duration": 85,
    "start_time": "2023-09-08T06:01:44.071Z"
   },
   {
    "duration": 90,
    "start_time": "2023-09-08T06:01:44.159Z"
   },
   {
    "duration": 100,
    "start_time": "2023-09-08T06:01:44.254Z"
   },
   {
    "duration": 15,
    "start_time": "2023-09-08T06:01:44.356Z"
   },
   {
    "duration": 25,
    "start_time": "2023-09-08T06:01:44.373Z"
   },
   {
    "duration": 21,
    "start_time": "2023-09-08T06:01:44.401Z"
   },
   {
    "duration": 33,
    "start_time": "2023-09-08T06:01:44.424Z"
   },
   {
    "duration": 10,
    "start_time": "2023-09-08T06:01:44.459Z"
   },
   {
    "duration": 15,
    "start_time": "2023-09-08T06:01:44.470Z"
   },
   {
    "duration": 24,
    "start_time": "2023-09-08T06:01:44.486Z"
   },
   {
    "duration": 9,
    "start_time": "2023-09-08T06:01:44.512Z"
   },
   {
    "duration": 8,
    "start_time": "2023-09-08T06:01:44.522Z"
   },
   {
    "duration": 7,
    "start_time": "2023-09-08T06:01:44.532Z"
   },
   {
    "duration": 13,
    "start_time": "2023-09-08T06:01:44.541Z"
   },
   {
    "duration": 9,
    "start_time": "2023-09-08T06:01:44.556Z"
   },
   {
    "duration": 82,
    "start_time": "2023-09-08T06:01:44.568Z"
   },
   {
    "duration": 5,
    "start_time": "2023-09-08T06:01:44.652Z"
   },
   {
    "duration": 4998,
    "start_time": "2023-09-08T07:13:51.528Z"
   },
   {
    "duration": 108,
    "start_time": "2023-09-08T07:13:56.528Z"
   },
   {
    "duration": 12,
    "start_time": "2023-09-08T07:13:56.638Z"
   },
   {
    "duration": 34,
    "start_time": "2023-09-08T07:13:56.652Z"
   },
   {
    "duration": 4,
    "start_time": "2023-09-08T07:13:56.688Z"
   },
   {
    "duration": 30,
    "start_time": "2023-09-08T07:13:56.694Z"
   },
   {
    "duration": 11,
    "start_time": "2023-09-08T07:13:56.726Z"
   },
   {
    "duration": 6,
    "start_time": "2023-09-08T07:13:56.739Z"
   },
   {
    "duration": 413,
    "start_time": "2023-09-08T07:13:56.746Z"
   },
   {
    "duration": 562,
    "start_time": "2023-09-08T07:13:57.162Z"
   },
   {
    "duration": 703,
    "start_time": "2023-09-08T07:13:57.727Z"
   },
   {
    "duration": 315,
    "start_time": "2023-09-08T07:13:58.432Z"
   },
   {
    "duration": 5,
    "start_time": "2023-09-08T07:13:58.749Z"
   },
   {
    "duration": 140,
    "start_time": "2023-09-08T07:13:58.756Z"
   },
   {
    "duration": 180,
    "start_time": "2023-09-08T07:13:58.899Z"
   },
   {
    "duration": 192,
    "start_time": "2023-09-08T07:13:59.082Z"
   },
   {
    "duration": 5,
    "start_time": "2023-09-08T07:13:59.277Z"
   },
   {
    "duration": 71,
    "start_time": "2023-09-08T07:13:59.284Z"
   },
   {
    "duration": 11,
    "start_time": "2023-09-08T07:13:59.358Z"
   },
   {
    "duration": 10,
    "start_time": "2023-09-08T07:13:59.371Z"
   },
   {
    "duration": 12,
    "start_time": "2023-09-08T07:13:59.382Z"
   },
   {
    "duration": 32,
    "start_time": "2023-09-08T07:13:59.395Z"
   },
   {
    "duration": 10,
    "start_time": "2023-09-08T07:13:59.429Z"
   },
   {
    "duration": 83,
    "start_time": "2023-09-08T07:13:59.442Z"
   },
   {
    "duration": 81,
    "start_time": "2023-09-08T07:13:59.528Z"
   },
   {
    "duration": 22,
    "start_time": "2023-09-08T07:13:59.617Z"
   },
   {
    "duration": 86,
    "start_time": "2023-09-08T07:13:59.640Z"
   },
   {
    "duration": 4,
    "start_time": "2023-09-08T07:13:59.730Z"
   },
   {
    "duration": 18,
    "start_time": "2023-09-08T07:13:59.735Z"
   },
   {
    "duration": 28,
    "start_time": "2023-09-08T07:13:59.755Z"
   },
   {
    "duration": 20,
    "start_time": "2023-09-08T07:13:59.785Z"
   },
   {
    "duration": 21,
    "start_time": "2023-09-08T07:13:59.806Z"
   },
   {
    "duration": 21,
    "start_time": "2023-09-08T07:13:59.829Z"
   },
   {
    "duration": 14,
    "start_time": "2023-09-08T07:13:59.851Z"
   },
   {
    "duration": 4,
    "start_time": "2023-09-08T07:13:59.867Z"
   },
   {
    "duration": 8,
    "start_time": "2023-09-08T07:13:59.872Z"
   },
   {
    "duration": 8,
    "start_time": "2023-09-08T07:13:59.881Z"
   },
   {
    "duration": 32,
    "start_time": "2023-09-08T07:13:59.891Z"
   },
   {
    "duration": 81,
    "start_time": "2023-09-08T07:13:59.925Z"
   },
   {
    "duration": 21,
    "start_time": "2023-09-08T07:14:00.018Z"
   },
   {
    "duration": 1789,
    "start_time": "2023-09-08T08:00:37.090Z"
   },
   {
    "duration": 105,
    "start_time": "2023-09-08T08:00:38.881Z"
   },
   {
    "duration": 12,
    "start_time": "2023-09-08T08:00:38.988Z"
   },
   {
    "duration": 55,
    "start_time": "2023-09-08T08:00:39.002Z"
   },
   {
    "duration": 16,
    "start_time": "2023-09-08T08:00:39.060Z"
   },
   {
    "duration": 41,
    "start_time": "2023-09-08T08:00:39.078Z"
   },
   {
    "duration": 104,
    "start_time": "2023-09-08T08:00:39.121Z"
   },
   {
    "duration": 166,
    "start_time": "2023-09-08T08:00:39.227Z"
   },
   {
    "duration": 445,
    "start_time": "2023-09-08T08:00:39.395Z"
   },
   {
    "duration": 473,
    "start_time": "2023-09-08T08:00:39.842Z"
   },
   {
    "duration": 708,
    "start_time": "2023-09-08T08:00:40.318Z"
   },
   {
    "duration": 312,
    "start_time": "2023-09-08T08:00:41.028Z"
   },
   {
    "duration": 4,
    "start_time": "2023-09-08T08:00:41.342Z"
   },
   {
    "duration": 132,
    "start_time": "2023-09-08T08:00:41.348Z"
   },
   {
    "duration": 152,
    "start_time": "2023-09-08T08:00:41.482Z"
   },
   {
    "duration": 174,
    "start_time": "2023-09-08T08:00:41.636Z"
   },
   {
    "duration": 5,
    "start_time": "2023-09-08T08:00:41.812Z"
   },
   {
    "duration": 82,
    "start_time": "2023-09-08T08:00:41.818Z"
   },
   {
    "duration": 37,
    "start_time": "2023-09-08T08:00:41.902Z"
   },
   {
    "duration": 25,
    "start_time": "2023-09-08T08:00:41.941Z"
   },
   {
    "duration": 36,
    "start_time": "2023-09-08T08:00:41.967Z"
   },
   {
    "duration": 21,
    "start_time": "2023-09-08T08:00:42.005Z"
   },
   {
    "duration": 14,
    "start_time": "2023-09-08T08:00:42.029Z"
   },
   {
    "duration": 188,
    "start_time": "2023-09-08T08:00:42.045Z"
   },
   {
    "duration": 191,
    "start_time": "2023-09-08T08:00:42.235Z"
   },
   {
    "duration": 102,
    "start_time": "2023-09-08T08:00:42.428Z"
   },
   {
    "duration": 98,
    "start_time": "2023-09-08T08:00:42.534Z"
   },
   {
    "duration": 50,
    "start_time": "2023-09-08T08:00:42.634Z"
   },
   {
    "duration": 27,
    "start_time": "2023-09-08T08:00:42.686Z"
   },
   {
    "duration": 10,
    "start_time": "2023-09-08T08:00:42.715Z"
   },
   {
    "duration": 11,
    "start_time": "2023-09-08T08:00:42.726Z"
   },
   {
    "duration": 10,
    "start_time": "2023-09-08T08:00:42.739Z"
   },
   {
    "duration": 20,
    "start_time": "2023-09-08T08:00:42.750Z"
   },
   {
    "duration": 17,
    "start_time": "2023-09-08T08:00:42.771Z"
   },
   {
    "duration": 11,
    "start_time": "2023-09-08T08:00:42.790Z"
   },
   {
    "duration": 28,
    "start_time": "2023-09-08T08:00:42.803Z"
   },
   {
    "duration": 29,
    "start_time": "2023-09-08T08:00:42.832Z"
   },
   {
    "duration": 29,
    "start_time": "2023-09-08T08:00:42.863Z"
   },
   {
    "duration": 137,
    "start_time": "2023-09-08T08:00:42.893Z"
   },
   {
    "duration": 94,
    "start_time": "2023-09-08T08:00:43.032Z"
   },
   {
    "duration": 1623,
    "start_time": "2023-09-08T08:04:55.279Z"
   },
   {
    "duration": 44,
    "start_time": "2023-09-08T08:04:56.904Z"
   },
   {
    "duration": 45,
    "start_time": "2023-09-08T08:04:56.950Z"
   },
   {
    "duration": 131,
    "start_time": "2023-09-08T08:04:56.997Z"
   },
   {
    "duration": 39,
    "start_time": "2023-09-08T08:04:57.130Z"
   },
   {
    "duration": 122,
    "start_time": "2023-09-08T08:04:57.171Z"
   },
   {
    "duration": 60,
    "start_time": "2023-09-08T08:04:57.294Z"
   },
   {
    "duration": 67,
    "start_time": "2023-09-08T08:04:57.356Z"
   },
   {
    "duration": 388,
    "start_time": "2023-09-08T08:04:57.425Z"
   },
   {
    "duration": 470,
    "start_time": "2023-09-08T08:04:57.815Z"
   },
   {
    "duration": 647,
    "start_time": "2023-09-08T08:04:58.287Z"
   },
   {
    "duration": 299,
    "start_time": "2023-09-08T08:04:58.936Z"
   },
   {
    "duration": 4,
    "start_time": "2023-09-08T08:04:59.236Z"
   },
   {
    "duration": 200,
    "start_time": "2023-09-08T08:04:59.243Z"
   },
   {
    "duration": 150,
    "start_time": "2023-09-08T08:04:59.445Z"
   },
   {
    "duration": 200,
    "start_time": "2023-09-08T08:04:59.597Z"
   },
   {
    "duration": 5,
    "start_time": "2023-09-08T08:04:59.798Z"
   },
   {
    "duration": 94,
    "start_time": "2023-09-08T08:04:59.804Z"
   },
   {
    "duration": 16,
    "start_time": "2023-09-08T08:04:59.900Z"
   },
   {
    "duration": 10,
    "start_time": "2023-09-08T08:04:59.918Z"
   },
   {
    "duration": 26,
    "start_time": "2023-09-08T08:04:59.929Z"
   },
   {
    "duration": 26,
    "start_time": "2023-09-08T08:04:59.957Z"
   },
   {
    "duration": 38,
    "start_time": "2023-09-08T08:04:59.986Z"
   },
   {
    "duration": 10,
    "start_time": "2023-09-08T08:05:00.027Z"
   },
   {
    "duration": 109,
    "start_time": "2023-09-08T08:05:00.125Z"
   },
   {
    "duration": 450,
    "start_time": "2023-09-08T08:05:00.237Z"
   },
   {
    "duration": 117,
    "start_time": "2023-09-08T08:05:00.689Z"
   },
   {
    "duration": 201,
    "start_time": "2023-09-08T08:05:00.809Z"
   },
   {
    "duration": 166,
    "start_time": "2023-09-08T08:05:01.012Z"
   },
   {
    "duration": 81,
    "start_time": "2023-09-08T08:05:01.180Z"
   },
   {
    "duration": 48,
    "start_time": "2023-09-08T08:05:01.263Z"
   },
   {
    "duration": 53,
    "start_time": "2023-09-08T08:05:01.313Z"
   },
   {
    "duration": 58,
    "start_time": "2023-09-08T08:05:01.367Z"
   },
   {
    "duration": 60,
    "start_time": "2023-09-08T08:05:01.427Z"
   },
   {
    "duration": 35,
    "start_time": "2023-09-08T08:05:01.488Z"
   },
   {
    "duration": 169,
    "start_time": "2023-09-08T08:05:01.525Z"
   },
   {
    "duration": 687,
    "start_time": "2023-09-08T08:05:01.696Z"
   },
   {
    "duration": 406,
    "start_time": "2023-09-08T08:05:02.385Z"
   },
   {
    "duration": 345,
    "start_time": "2023-09-08T08:05:02.793Z"
   },
   {
    "duration": 88,
    "start_time": "2023-09-08T08:05:03.140Z"
   },
   {
    "duration": 6,
    "start_time": "2023-09-08T08:08:45.312Z"
   },
   {
    "duration": 1591,
    "start_time": "2023-09-08T08:09:18.494Z"
   },
   {
    "duration": 39,
    "start_time": "2023-09-08T08:09:20.087Z"
   },
   {
    "duration": 12,
    "start_time": "2023-09-08T08:09:20.127Z"
   },
   {
    "duration": 63,
    "start_time": "2023-09-08T08:09:20.141Z"
   },
   {
    "duration": 4,
    "start_time": "2023-09-08T08:09:20.206Z"
   },
   {
    "duration": 12,
    "start_time": "2023-09-08T08:09:20.211Z"
   },
   {
    "duration": 36,
    "start_time": "2023-09-08T08:09:20.225Z"
   },
   {
    "duration": 38,
    "start_time": "2023-09-08T08:09:20.263Z"
   },
   {
    "duration": 377,
    "start_time": "2023-09-08T08:09:20.303Z"
   },
   {
    "duration": 487,
    "start_time": "2023-09-08T08:09:20.682Z"
   },
   {
    "duration": 583,
    "start_time": "2023-09-08T08:09:21.171Z"
   },
   {
    "duration": 271,
    "start_time": "2023-09-08T08:09:21.756Z"
   },
   {
    "duration": 4,
    "start_time": "2023-09-08T08:09:22.029Z"
   },
   {
    "duration": 122,
    "start_time": "2023-09-08T08:09:22.036Z"
   },
   {
    "duration": 142,
    "start_time": "2023-09-08T08:09:22.159Z"
   },
   {
    "duration": 163,
    "start_time": "2023-09-08T08:09:22.303Z"
   },
   {
    "duration": 5,
    "start_time": "2023-09-08T08:09:22.468Z"
   },
   {
    "duration": 8,
    "start_time": "2023-09-08T08:09:22.474Z"
   },
   {
    "duration": 10,
    "start_time": "2023-09-08T08:09:22.484Z"
   },
   {
    "duration": 10,
    "start_time": "2023-09-08T08:09:22.496Z"
   },
   {
    "duration": 25,
    "start_time": "2023-09-08T08:09:22.507Z"
   },
   {
    "duration": 9,
    "start_time": "2023-09-08T08:09:22.534Z"
   },
   {
    "duration": 8,
    "start_time": "2023-09-08T08:09:22.545Z"
   },
   {
    "duration": 80,
    "start_time": "2023-09-08T08:09:22.555Z"
   },
   {
    "duration": 4,
    "start_time": "2023-09-08T08:09:22.724Z"
   },
   {
    "duration": 96,
    "start_time": "2023-09-08T08:09:22.730Z"
   },
   {
    "duration": 104,
    "start_time": "2023-09-08T08:09:22.828Z"
   },
   {
    "duration": 3,
    "start_time": "2023-09-08T08:09:22.933Z"
   },
   {
    "duration": 5,
    "start_time": "2023-09-08T08:09:22.938Z"
   },
   {
    "duration": 5,
    "start_time": "2023-09-08T08:09:22.944Z"
   },
   {
    "duration": 8,
    "start_time": "2023-09-08T08:09:22.951Z"
   },
   {
    "duration": 8,
    "start_time": "2023-09-08T08:09:22.961Z"
   },
   {
    "duration": 17,
    "start_time": "2023-09-08T08:09:22.971Z"
   },
   {
    "duration": 8,
    "start_time": "2023-09-08T08:09:22.989Z"
   },
   {
    "duration": 27,
    "start_time": "2023-09-08T08:09:22.998Z"
   },
   {
    "duration": 5,
    "start_time": "2023-09-08T08:09:23.027Z"
   },
   {
    "duration": 174,
    "start_time": "2023-09-08T08:09:23.033Z"
   },
   {
    "duration": 78,
    "start_time": "2023-09-08T08:09:23.209Z"
   },
   {
    "duration": 140,
    "start_time": "2023-09-08T08:09:23.290Z"
   },
   {
    "duration": 98,
    "start_time": "2023-09-08T08:09:23.433Z"
   },
   {
    "duration": 1395,
    "start_time": "2023-09-08T08:10:07.660Z"
   },
   {
    "duration": 38,
    "start_time": "2023-09-08T08:10:09.057Z"
   },
   {
    "duration": 11,
    "start_time": "2023-09-08T08:10:09.096Z"
   },
   {
    "duration": 31,
    "start_time": "2023-09-08T08:10:09.108Z"
   },
   {
    "duration": 4,
    "start_time": "2023-09-08T08:10:09.140Z"
   },
   {
    "duration": 8,
    "start_time": "2023-09-08T08:10:09.145Z"
   },
   {
    "duration": 10,
    "start_time": "2023-09-08T08:10:09.155Z"
   },
   {
    "duration": 4,
    "start_time": "2023-09-08T08:10:09.166Z"
   },
   {
    "duration": 374,
    "start_time": "2023-09-08T08:10:09.172Z"
   },
   {
    "duration": 449,
    "start_time": "2023-09-08T08:10:09.548Z"
   },
   {
    "duration": 631,
    "start_time": "2023-09-08T08:10:09.999Z"
   },
   {
    "duration": 285,
    "start_time": "2023-09-08T08:10:10.632Z"
   },
   {
    "duration": 4,
    "start_time": "2023-09-08T08:10:10.923Z"
   },
   {
    "duration": 118,
    "start_time": "2023-09-08T08:10:10.930Z"
   },
   {
    "duration": 143,
    "start_time": "2023-09-08T08:10:11.050Z"
   },
   {
    "duration": 166,
    "start_time": "2023-09-08T08:10:11.195Z"
   },
   {
    "duration": 5,
    "start_time": "2023-09-08T08:10:11.362Z"
   },
   {
    "duration": 13,
    "start_time": "2023-09-08T08:10:11.368Z"
   },
   {
    "duration": 8,
    "start_time": "2023-09-08T08:10:11.383Z"
   },
   {
    "duration": 37,
    "start_time": "2023-09-08T08:10:11.392Z"
   },
   {
    "duration": 58,
    "start_time": "2023-09-08T08:10:11.431Z"
   },
   {
    "duration": 25,
    "start_time": "2023-09-08T08:10:11.491Z"
   },
   {
    "duration": 32,
    "start_time": "2023-09-08T08:10:11.518Z"
   },
   {
    "duration": 74,
    "start_time": "2023-09-08T08:10:11.552Z"
   },
   {
    "duration": 97,
    "start_time": "2023-09-08T08:10:11.628Z"
   },
   {
    "duration": 101,
    "start_time": "2023-09-08T08:10:11.728Z"
   },
   {
    "duration": 98,
    "start_time": "2023-09-08T08:10:11.831Z"
   },
   {
    "duration": 43,
    "start_time": "2023-09-08T08:10:11.931Z"
   },
   {
    "duration": 18,
    "start_time": "2023-09-08T08:10:11.975Z"
   },
   {
    "duration": 22,
    "start_time": "2023-09-08T08:10:11.994Z"
   },
   {
    "duration": 51,
    "start_time": "2023-09-08T08:10:12.017Z"
   },
   {
    "duration": 7,
    "start_time": "2023-09-08T08:10:12.070Z"
   },
   {
    "duration": 38,
    "start_time": "2023-09-08T08:10:12.079Z"
   },
   {
    "duration": 23,
    "start_time": "2023-09-08T08:10:12.118Z"
   },
   {
    "duration": 27,
    "start_time": "2023-09-08T08:10:12.142Z"
   },
   {
    "duration": 22,
    "start_time": "2023-09-08T08:10:12.170Z"
   },
   {
    "duration": 80,
    "start_time": "2023-09-08T08:10:12.193Z"
   },
   {
    "duration": 42,
    "start_time": "2023-09-08T08:10:12.274Z"
   },
   {
    "duration": 20,
    "start_time": "2023-09-08T08:10:12.318Z"
   },
   {
    "duration": 94,
    "start_time": "2023-09-08T08:10:12.340Z"
   }
  ],
  "kernelspec": {
   "display_name": "Python 3 (ipykernel)",
   "language": "python",
   "name": "python3"
  },
  "language_info": {
   "codemirror_mode": {
    "name": "ipython",
    "version": 3
   },
   "file_extension": ".py",
   "mimetype": "text/x-python",
   "name": "python",
   "nbconvert_exporter": "python",
   "pygments_lexer": "ipython3",
   "version": "3.10.9"
  },
  "toc": {
   "base_numbering": 1,
   "nav_menu": {},
   "number_sections": true,
   "sideBar": true,
   "skip_h1_title": true,
   "title_cell": "Содержание",
   "title_sidebar": "Contents",
   "toc_cell": true,
   "toc_position": {},
   "toc_section_display": true,
   "toc_window_display": true
  }
 },
 "nbformat": 4,
 "nbformat_minor": 2
}
